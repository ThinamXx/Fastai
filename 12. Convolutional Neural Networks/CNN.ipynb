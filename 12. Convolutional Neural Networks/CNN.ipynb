{
  "nbformat": 4,
  "nbformat_minor": 0,
  "metadata": {
    "colab": {
      "name": "CNN.ipynb",
      "provenance": []
    },
    "kernelspec": {
      "name": "python3",
      "display_name": "Python 3"
    },
    "language_info": {
      "name": "python"
    },
    "accelerator": "GPU"
  },
  "cells": [
    {
      "cell_type": "markdown",
      "metadata": {
        "id": "NiV3GX1VITGQ"
      },
      "source": [
        "**INITIALIZATION:**\n",
        "- I use these three lines of code on top of my each notebooks because it will help to prevent any problems while reloading the same project. And the third line of code helps to make visualization within the notebook."
      ]
    },
    {
      "cell_type": "code",
      "metadata": {
        "id": "6C2hJeBXFU2L"
      },
      "source": [
        "#@ INITIALIZATION: \n",
        "%reload_ext autoreload\n",
        "%autoreload 2\n",
        "%matplotlib inline"
      ],
      "execution_count": 1,
      "outputs": []
    },
    {
      "cell_type": "markdown",
      "metadata": {
        "id": "ZrzlkrgYIf5t"
      },
      "source": [
        "**LIBRARIES AND DEPENDENCIES:**\n",
        "- I have downloaded all the libraries and dependencies required for the project in one particular cell."
      ]
    },
    {
      "cell_type": "code",
      "metadata": {
        "id": "nYqyIN_YIde3"
      },
      "source": [
        "#@ INSTALLING DEPENDENCIES: UNCOMMENT BELOW: \n",
        "# !pip install -Uqq fastbook\n",
        "# import fastbook\n",
        "# fastbook.setup_book()"
      ],
      "execution_count": 3,
      "outputs": []
    },
    {
      "cell_type": "code",
      "metadata": {
        "id": "lOvaLUvpIpLe"
      },
      "source": [
        "#@ DOWNLOADING LIBRARIES AND DEPENDENCIES: \n",
        "from fastbook import *                                  # Getting all the Libraries. \n",
        "from fastai.callback.fp16 import *\n",
        "from fastai.vision.all import *                         # Getting all the Libraries."
      ],
      "execution_count": 4,
      "outputs": []
    },
    {
      "cell_type": "markdown",
      "metadata": {
        "id": "3e-QRR0qK-tU"
      },
      "source": [
        "**GETTING THE DATASET:**\n",
        "- I will download a sample of **MNIST**."
      ]
    },
    {
      "cell_type": "code",
      "metadata": {
        "colab": {
          "base_uri": "https://localhost:8080/"
        },
        "id": "l4x50JxLJNMJ",
        "outputId": "d03a8893-b37b-42c1-f9e4-f9a33e2eed44"
      },
      "source": [
        "#@ GETTING THE DATA: \n",
        "path = untar_data(URLs.MNIST_SAMPLE)                    # Path to the Dataset. \n",
        "path.ls()                                               # Inspecting Items."
      ],
      "execution_count": 6,
      "outputs": [
        {
          "output_type": "execute_result",
          "data": {
            "text/plain": [
              "(#3) [Path('/root/.fastai/data/mnist_sample/labels.csv'),Path('/root/.fastai/data/mnist_sample/valid'),Path('/root/.fastai/data/mnist_sample/train')]"
            ]
          },
          "metadata": {},
          "execution_count": 6
        }
      ]
    },
    {
      "cell_type": "markdown",
      "metadata": {
        "id": "GqQxMmj9JgAx"
      },
      "source": [
        "**FEATURE ENGINEERING:**\n",
        "- **Feature Engineering** is the process of creating a new transformations of the input data in order to make it easier to model. "
      ]
    },
    {
      "cell_type": "code",
      "metadata": {
        "id": "maoZvyDRLoaE"
      },
      "source": [
        "#@ CREATING A MATRIX: AN EXAMPLE: \n",
        "top_edge = tensor([[-1, -1, -1], \n",
        "                   [ 0,  0,  0], \n",
        "                   [ 1,  1,  1]]).float()               # Initializing a Kernel. "
      ],
      "execution_count": 7,
      "outputs": []
    },
    {
      "cell_type": "code",
      "metadata": {
        "colab": {
          "base_uri": "https://localhost:8080/",
          "height": 85
        },
        "id": "NgtaKhy7MPYZ",
        "outputId": "dcce85c8-a783-4be4-a396-705c9fb5e618"
      },
      "source": [
        "#@ GETTING AN IMAGE: \n",
        "im3 = Image.open(path/\"train\"/\"3\"/\"12.png\")             # Getting an Image. \n",
        "show_image(im3);                                        # Inspecting the Image. "
      ],
      "execution_count": 8,
      "outputs": [
        {
          "output_type": "display_data",
          "data": {
            "image/png": "[encoded data removed]",
            "text/plain": [
              "<Figure size 72x72 with 1 Axes>"
            ]
          },
          "metadata": {
            "needs_background": "light"
          }
        }
      ]
    },
    {
      "cell_type": "code",
      "metadata": {
        "colab": {
          "base_uri": "https://localhost:8080/"
        },
        "id": "SmcTk2TjM0Ws",
        "outputId": "297d302a-c0ba-46ae-e21f-16e0410a15b3"
      },
      "source": [
        "#@ WORKING WITH IMAGE: \n",
        "im3_t = tensor(im3)                                      # Converting into Tensor. \n",
        "print(im3_t[0:3, 0:3] * top_edge)                        # Initializing Multiplications. \n",
        "print((im3_t[0:3, 0:3] * top_edge).sum())                # Getting Sum of Tensors. "
      ],
      "execution_count": 9,
      "outputs": [
        {
          "output_type": "stream",
          "text": [
            "tensor([[-0., -0., -0.],\n",
            "        [0., 0., 0.],\n",
            "        [0., 0., 0.]])\n",
            "tensor(0.)\n"
          ],
          "name": "stdout"
        }
      ]
    },
    {
      "cell_type": "markdown",
      "metadata": {
        "id": "5quKxWEgOWPZ"
      },
      "source": [
        "**Note:**\n",
        "- It presents that all the pixels in top left corner are white. I will pick a couple of spots now. "
      ]
    },
    {
      "cell_type": "code",
      "metadata": {
        "colab": {
          "base_uri": "https://localhost:8080/",
          "height": 250
        },
        "id": "a35gj1toOTCe",
        "outputId": "8a7c3c6e-709b-4f32-9aa5-e7723f21261f"
      },
      "source": [
        "#@ INSPECTING PIXELS OF IMAGES: \n",
        "df = pd.DataFrame(im3_t[:10, :20])                        # Initializing a DataFrame. \n",
        "df.style.set_properties(\n",
        "    **{\"font-size\":\"6pt\"}).background_gradient(\"Greys\")   # Inspecting Pixels. "
      ],
      "execution_count": 10,
      "outputs": [
        {
          "output_type": "execute_result",
          "data": {
            "text/html": [
              "<style  type=\"text/css\" >\n",
              "#T_66128bf2_00e3_11ec_9033_0242ac1c0002row0_col0,#T_66128bf2_00e3_11ec_9033_0242ac1c0002row0_col1,#T_66128bf2_00e3_11ec_9033_0242ac1c0002row0_col2,#T_66128bf2_00e3_11ec_9033_0242ac1c0002row0_col3,#T_66128bf2_00e3_11ec_9033_0242ac1c0002row0_col4,#T_66128bf2_00e3_11ec_9033_0242ac1c0002row0_col5,#T_66128bf2_00e3_11ec_9033_0242ac1c0002row0_col6,#T_66128bf2_00e3_11ec_9033_0242ac1c0002row0_col7,#T_66128bf2_00e3_11ec_9033_0242ac1c0002row0_col8,#T_66128bf2_00e3_11ec_9033_0242ac1c0002row0_col9,#T_66128bf2_00e3_11ec_9033_0242ac1c0002row0_col10,#T_66128bf2_00e3_11ec_9033_0242ac1c0002row0_col11,#T_66128bf2_00e3_11ec_9033_0242ac1c0002row0_col12,#T_66128bf2_00e3_11ec_9033_0242ac1c0002row0_col13,#T_66128bf2_00e3_11ec_9033_0242ac1c0002row0_col14,#T_66128bf2_00e3_11ec_9033_0242ac1c0002row0_col15,#T_66128bf2_00e3_11ec_9033_0242ac1c0002row0_col16,#T_66128bf2_00e3_11ec_9033_0242ac1c0002row0_col17,#T_66128bf2_00e3_11ec_9033_0242ac1c0002row0_col18,#T_66128bf2_00e3_11ec_9033_0242ac1c0002row0_col19,#T_66128bf2_00e3_11ec_9033_0242ac1c0002row1_col0,#T_66128bf2_00e3_11ec_9033_0242ac1c0002row1_col1,#T_66128bf2_00e3_11ec_9033_0242ac1c0002row1_col2,#T_66128bf2_00e3_11ec_9033_0242ac1c0002row1_col3,#T_66128bf2_00e3_11ec_9033_0242ac1c0002row1_col4,#T_66128bf2_00e3_11ec_9033_0242ac1c0002row1_col5,#T_66128bf2_00e3_11ec_9033_0242ac1c0002row1_col6,#T_66128bf2_00e3_11ec_9033_0242ac1c0002row1_col7,#T_66128bf2_00e3_11ec_9033_0242ac1c0002row1_col8,#T_66128bf2_00e3_11ec_9033_0242ac1c0002row1_col9,#T_66128bf2_00e3_11ec_9033_0242ac1c0002row1_col10,#T_66128bf2_00e3_11ec_9033_0242ac1c0002row1_col11,#T_66128bf2_00e3_11ec_9033_0242ac1c0002row1_col12,#T_66128bf2_00e3_11ec_9033_0242ac1c0002row1_col13,#T_66128bf2_00e3_11ec_9033_0242ac1c0002row1_col14,#T_66128bf2_00e3_11ec_9033_0242ac1c0002row1_col15,#T_66128bf2_00e3_11ec_9033_0242ac1c0002row1_col16,#T_66128bf2_00e3_11ec_9033_0242ac1c0002row1_col17,#T_66128bf2_00e3_11ec_9033_0242ac1c0002row1_col18,#T_66128bf2_00e3_11ec_9033_0242ac1c0002row1_col19,#T_66128bf2_00e3_11ec_9033_0242ac1c0002row2_col0,#T_66128bf2_00e3_11ec_9033_0242ac1c0002row2_col1,#T_66128bf2_00e3_11ec_9033_0242ac1c0002row2_col2,#T_66128bf2_00e3_11ec_9033_0242ac1c0002row2_col3,#T_66128bf2_00e3_11ec_9033_0242ac1c0002row2_col4,#T_66128bf2_00e3_11ec_9033_0242ac1c0002row2_col5,#T_66128bf2_00e3_11ec_9033_0242ac1c0002row2_col6,#T_66128bf2_00e3_11ec_9033_0242ac1c0002row2_col7,#T_66128bf2_00e3_11ec_9033_0242ac1c0002row2_col8,#T_66128bf2_00e3_11ec_9033_0242ac1c0002row2_col9,#T_66128bf2_00e3_11ec_9033_0242ac1c0002row2_col10,#T_66128bf2_00e3_11ec_9033_0242ac1c0002row2_col11,#T_66128bf2_00e3_11ec_9033_0242ac1c0002row2_col12,#T_66128bf2_00e3_11ec_9033_0242ac1c0002row2_col13,#T_66128bf2_00e3_11ec_9033_0242ac1c0002row2_col14,#T_66128bf2_00e3_11ec_9033_0242ac1c0002row2_col15,#T_66128bf2_00e3_11ec_9033_0242ac1c0002row2_col16,#T_66128bf2_00e3_11ec_9033_0242ac1c0002row2_col17,#T_66128bf2_00e3_11ec_9033_0242ac1c0002row2_col18,#T_66128bf2_00e3_11ec_9033_0242ac1c0002row2_col19,#T_66128bf2_00e3_11ec_9033_0242ac1c0002row3_col0,#T_66128bf2_00e3_11ec_9033_0242ac1c0002row3_col1,#T_66128bf2_00e3_11ec_9033_0242ac1c0002row3_col2,#T_66128bf2_00e3_11ec_9033_0242ac1c0002row3_col3,#T_66128bf2_00e3_11ec_9033_0242ac1c0002row3_col4,#T_66128bf2_00e3_11ec_9033_0242ac1c0002row3_col5,#T_66128bf2_00e3_11ec_9033_0242ac1c0002row3_col6,#T_66128bf2_00e3_11ec_9033_0242ac1c0002row3_col7,#T_66128bf2_00e3_11ec_9033_0242ac1c0002row3_col8,#T_66128bf2_00e3_11ec_9033_0242ac1c0002row3_col9,#T_66128bf2_00e3_11ec_9033_0242ac1c0002row3_col10,#T_66128bf2_00e3_11ec_9033_0242ac1c0002row3_col11,#T_66128bf2_00e3_11ec_9033_0242ac1c0002row3_col12,#T_66128bf2_00e3_11ec_9033_0242ac1c0002row3_col13,#T_66128bf2_00e3_11ec_9033_0242ac1c0002row3_col14,#T_66128bf2_00e3_11ec_9033_0242ac1c0002row3_col15,#T_66128bf2_00e3_11ec_9033_0242ac1c0002row3_col16,#T_66128bf2_00e3_11ec_9033_0242ac1c0002row3_col17,#T_66128bf2_00e3_11ec_9033_0242ac1c0002row3_col18,#T_66128bf2_00e3_11ec_9033_0242ac1c0002row3_col19,#T_66128bf2_00e3_11ec_9033_0242ac1c0002row4_col0,#T_66128bf2_00e3_11ec_9033_0242ac1c0002row4_col1,#T_66128bf2_00e3_11ec_9033_0242ac1c0002row4_col2,#T_66128bf2_00e3_11ec_9033_0242ac1c0002row4_col3,#T_66128bf2_00e3_11ec_9033_0242ac1c0002row4_col4,#T_66128bf2_00e3_11ec_9033_0242ac1c0002row4_col5,#T_66128bf2_00e3_11ec_9033_0242ac1c0002row4_col6,#T_66128bf2_00e3_11ec_9033_0242ac1c0002row4_col7,#T_66128bf2_00e3_11ec_9033_0242ac1c0002row4_col8,#T_66128bf2_00e3_11ec_9033_0242ac1c0002row4_col9,#T_66128bf2_00e3_11ec_9033_0242ac1c0002row4_col10,#T_66128bf2_00e3_11ec_9033_0242ac1c0002row4_col11,#T_66128bf2_00e3_11ec_9033_0242ac1c0002row4_col12,#T_66128bf2_00e3_11ec_9033_0242ac1c0002row4_col13,#T_66128bf2_00e3_11ec_9033_0242ac1c0002row4_col14,#T_66128bf2_00e3_11ec_9033_0242ac1c0002row4_col15,#T_66128bf2_00e3_11ec_9033_0242ac1c0002row4_col16,#T_66128bf2_00e3_11ec_9033_0242ac1c0002row4_col17,#T_66128bf2_00e3_11ec_9033_0242ac1c0002row4_col18,#T_66128bf2_00e3_11ec_9033_0242ac1c0002row4_col19,#T_66128bf2_00e3_11ec_9033_0242ac1c0002row5_col0,#T_66128bf2_00e3_11ec_9033_0242ac1c0002row5_col1,#T_66128bf2_00e3_11ec_9033_0242ac1c0002row5_col2,#T_66128bf2_00e3_11ec_9033_0242ac1c0002row5_col16,#T_66128bf2_00e3_11ec_9033_0242ac1c0002row5_col17,#T_66128bf2_00e3_11ec_9033_0242ac1c0002row5_col18,#T_66128bf2_00e3_11ec_9033_0242ac1c0002row5_col19,#T_66128bf2_00e3_11ec_9033_0242ac1c0002row6_col0,#T_66128bf2_00e3_11ec_9033_0242ac1c0002row6_col1,#T_66128bf2_00e3_11ec_9033_0242ac1c0002row6_col2,#T_66128bf2_00e3_11ec_9033_0242ac1c0002row6_col19,#T_66128bf2_00e3_11ec_9033_0242ac1c0002row7_col0,#T_66128bf2_00e3_11ec_9033_0242ac1c0002row7_col1,#T_66128bf2_00e3_11ec_9033_0242ac1c0002row7_col2,#T_66128bf2_00e3_11ec_9033_0242ac1c0002row7_col19,#T_66128bf2_00e3_11ec_9033_0242ac1c0002row8_col0,#T_66128bf2_00e3_11ec_9033_0242ac1c0002row8_col1,#T_66128bf2_00e3_11ec_9033_0242ac1c0002row8_col2,#T_66128bf2_00e3_11ec_9033_0242ac1c0002row8_col8,#T_66128bf2_00e3_11ec_9033_0242ac1c0002row8_col9,#T_66128bf2_00e3_11ec_9033_0242ac1c0002row8_col10,#T_66128bf2_00e3_11ec_9033_0242ac1c0002row8_col11,#T_66128bf2_00e3_11ec_9033_0242ac1c0002row8_col12,#T_66128bf2_00e3_11ec_9033_0242ac1c0002row8_col13,#T_66128bf2_00e3_11ec_9033_0242ac1c0002row8_col19,#T_66128bf2_00e3_11ec_9033_0242ac1c0002row9_col0,#T_66128bf2_00e3_11ec_9033_0242ac1c0002row9_col1,#T_66128bf2_00e3_11ec_9033_0242ac1c0002row9_col2,#T_66128bf2_00e3_11ec_9033_0242ac1c0002row9_col3,#T_66128bf2_00e3_11ec_9033_0242ac1c0002row9_col4,#T_66128bf2_00e3_11ec_9033_0242ac1c0002row9_col5,#T_66128bf2_00e3_11ec_9033_0242ac1c0002row9_col6,#T_66128bf2_00e3_11ec_9033_0242ac1c0002row9_col7,#T_66128bf2_00e3_11ec_9033_0242ac1c0002row9_col8,#T_66128bf2_00e3_11ec_9033_0242ac1c0002row9_col9,#T_66128bf2_00e3_11ec_9033_0242ac1c0002row9_col10,#T_66128bf2_00e3_11ec_9033_0242ac1c0002row9_col11,#T_66128bf2_00e3_11ec_9033_0242ac1c0002row9_col12,#T_66128bf2_00e3_11ec_9033_0242ac1c0002row9_col13,#T_66128bf2_00e3_11ec_9033_0242ac1c0002row9_col19{\n",
              "            font-size:  6pt;\n",
              "            background-color:  #ffffff;\n",
              "            color:  #000000;\n",
              "        }#T_66128bf2_00e3_11ec_9033_0242ac1c0002row5_col3,#T_66128bf2_00e3_11ec_9033_0242ac1c0002row8_col14{\n",
              "            font-size:  6pt;\n",
              "            background-color:  #f9f9f9;\n",
              "            color:  #000000;\n",
              "        }#T_66128bf2_00e3_11ec_9033_0242ac1c0002row5_col4{\n",
              "            font-size:  6pt;\n",
              "            background-color:  #b9b9b9;\n",
              "            color:  #000000;\n",
              "        }#T_66128bf2_00e3_11ec_9033_0242ac1c0002row5_col5{\n",
              "            font-size:  6pt;\n",
              "            background-color:  #c1c1c1;\n",
              "            color:  #000000;\n",
              "        }#T_66128bf2_00e3_11ec_9033_0242ac1c0002row5_col6{\n",
              "            font-size:  6pt;\n",
              "            background-color:  #858585;\n",
              "            color:  #000000;\n",
              "        }#T_66128bf2_00e3_11ec_9033_0242ac1c0002row5_col7,#T_66128bf2_00e3_11ec_9033_0242ac1c0002row5_col10,#T_66128bf2_00e3_11ec_9033_0242ac1c0002row5_col11,#T_66128bf2_00e3_11ec_9033_0242ac1c0002row5_col12,#T_66128bf2_00e3_11ec_9033_0242ac1c0002row5_col13{\n",
              "            font-size:  6pt;\n",
              "            background-color:  #777777;\n",
              "            color:  #000000;\n",
              "        }#T_66128bf2_00e3_11ec_9033_0242ac1c0002row5_col8{\n",
              "            font-size:  6pt;\n",
              "            background-color:  #090909;\n",
              "            color:  #f1f1f1;\n",
              "        }#T_66128bf2_00e3_11ec_9033_0242ac1c0002row5_col9{\n",
              "            font-size:  6pt;\n",
              "            background-color:  #5b5b5b;\n",
              "            color:  #f1f1f1;\n",
              "        }#T_66128bf2_00e3_11ec_9033_0242ac1c0002row5_col14{\n",
              "            font-size:  6pt;\n",
              "            background-color:  #919191;\n",
              "            color:  #000000;\n",
              "        }#T_66128bf2_00e3_11ec_9033_0242ac1c0002row5_col15{\n",
              "            font-size:  6pt;\n",
              "            background-color:  #e1e1e1;\n",
              "            color:  #000000;\n",
              "        }#T_66128bf2_00e3_11ec_9033_0242ac1c0002row6_col3{\n",
              "            font-size:  6pt;\n",
              "            background-color:  #727272;\n",
              "            color:  #000000;\n",
              "        }#T_66128bf2_00e3_11ec_9033_0242ac1c0002row6_col4,#T_66128bf2_00e3_11ec_9033_0242ac1c0002row6_col5,#T_66128bf2_00e3_11ec_9033_0242ac1c0002row6_col6,#T_66128bf2_00e3_11ec_9033_0242ac1c0002row6_col7,#T_66128bf2_00e3_11ec_9033_0242ac1c0002row6_col8,#T_66128bf2_00e3_11ec_9033_0242ac1c0002row6_col9,#T_66128bf2_00e3_11ec_9033_0242ac1c0002row6_col10,#T_66128bf2_00e3_11ec_9033_0242ac1c0002row6_col11,#T_66128bf2_00e3_11ec_9033_0242ac1c0002row6_col12,#T_66128bf2_00e3_11ec_9033_0242ac1c0002row6_col13,#T_66128bf2_00e3_11ec_9033_0242ac1c0002row6_col14,#T_66128bf2_00e3_11ec_9033_0242ac1c0002row7_col3,#T_66128bf2_00e3_11ec_9033_0242ac1c0002row7_col4,#T_66128bf2_00e3_11ec_9033_0242ac1c0002row7_col5,#T_66128bf2_00e3_11ec_9033_0242ac1c0002row7_col6,#T_66128bf2_00e3_11ec_9033_0242ac1c0002row7_col15,#T_66128bf2_00e3_11ec_9033_0242ac1c0002row7_col16,#T_66128bf2_00e3_11ec_9033_0242ac1c0002row7_col17,#T_66128bf2_00e3_11ec_9033_0242ac1c0002row8_col16,#T_66128bf2_00e3_11ec_9033_0242ac1c0002row8_col17,#T_66128bf2_00e3_11ec_9033_0242ac1c0002row8_col18,#T_66128bf2_00e3_11ec_9033_0242ac1c0002row9_col15,#T_66128bf2_00e3_11ec_9033_0242ac1c0002row9_col16{\n",
              "            font-size:  6pt;\n",
              "            background-color:  #000000;\n",
              "            color:  #f1f1f1;\n",
              "        }#T_66128bf2_00e3_11ec_9033_0242ac1c0002row6_col15{\n",
              "            font-size:  6pt;\n",
              "            background-color:  #020202;\n",
              "            color:  #f1f1f1;\n",
              "        }#T_66128bf2_00e3_11ec_9033_0242ac1c0002row6_col16{\n",
              "            font-size:  6pt;\n",
              "            background-color:  #363636;\n",
              "            color:  #f1f1f1;\n",
              "        }#T_66128bf2_00e3_11ec_9033_0242ac1c0002row6_col17{\n",
              "            font-size:  6pt;\n",
              "            background-color:  #9d9d9d;\n",
              "            color:  #000000;\n",
              "        }#T_66128bf2_00e3_11ec_9033_0242ac1c0002row6_col18{\n",
              "            font-size:  6pt;\n",
              "            background-color:  #dfdfdf;\n",
              "            color:  #000000;\n",
              "        }#T_66128bf2_00e3_11ec_9033_0242ac1c0002row7_col7{\n",
              "            font-size:  6pt;\n",
              "            background-color:  #161616;\n",
              "            color:  #f1f1f1;\n",
              "        }#T_66128bf2_00e3_11ec_9033_0242ac1c0002row7_col8,#T_66128bf2_00e3_11ec_9033_0242ac1c0002row7_col9,#T_66128bf2_00e3_11ec_9033_0242ac1c0002row7_col10,#T_66128bf2_00e3_11ec_9033_0242ac1c0002row7_col11,#T_66128bf2_00e3_11ec_9033_0242ac1c0002row7_col13{\n",
              "            font-size:  6pt;\n",
              "            background-color:  #535353;\n",
              "            color:  #f1f1f1;\n",
              "        }#T_66128bf2_00e3_11ec_9033_0242ac1c0002row7_col12{\n",
              "            font-size:  6pt;\n",
              "            background-color:  #7c7c7c;\n",
              "            color:  #000000;\n",
              "        }#T_66128bf2_00e3_11ec_9033_0242ac1c0002row7_col14{\n",
              "            font-size:  6pt;\n",
              "            background-color:  #3d3d3d;\n",
              "            color:  #f1f1f1;\n",
              "        }#T_66128bf2_00e3_11ec_9033_0242ac1c0002row7_col18{\n",
              "            font-size:  6pt;\n",
              "            background-color:  #999999;\n",
              "            color:  #000000;\n",
              "        }#T_66128bf2_00e3_11ec_9033_0242ac1c0002row8_col3{\n",
              "            font-size:  6pt;\n",
              "            background-color:  #eaeaea;\n",
              "            color:  #000000;\n",
              "        }#T_66128bf2_00e3_11ec_9033_0242ac1c0002row8_col4{\n",
              "            font-size:  6pt;\n",
              "            background-color:  #d0d0d0;\n",
              "            color:  #000000;\n",
              "        }#T_66128bf2_00e3_11ec_9033_0242ac1c0002row8_col5,#T_66128bf2_00e3_11ec_9033_0242ac1c0002row8_col6{\n",
              "            font-size:  6pt;\n",
              "            background-color:  #eeeeee;\n",
              "            color:  #000000;\n",
              "        }#T_66128bf2_00e3_11ec_9033_0242ac1c0002row8_col7{\n",
              "            font-size:  6pt;\n",
              "            background-color:  #f3f3f3;\n",
              "            color:  #000000;\n",
              "        }#T_66128bf2_00e3_11ec_9033_0242ac1c0002row8_col15{\n",
              "            font-size:  6pt;\n",
              "            background-color:  #232323;\n",
              "            color:  #f1f1f1;\n",
              "        }#T_66128bf2_00e3_11ec_9033_0242ac1c0002row9_col14{\n",
              "            font-size:  6pt;\n",
              "            background-color:  #c2c2c2;\n",
              "            color:  #000000;\n",
              "        }#T_66128bf2_00e3_11ec_9033_0242ac1c0002row9_col17{\n",
              "            font-size:  6pt;\n",
              "            background-color:  #080808;\n",
              "            color:  #f1f1f1;\n",
              "        }#T_66128bf2_00e3_11ec_9033_0242ac1c0002row9_col18{\n",
              "            font-size:  6pt;\n",
              "            background-color:  #c4c4c4;\n",
              "            color:  #000000;\n",
              "        }</style><table id=\"T_66128bf2_00e3_11ec_9033_0242ac1c0002\" ><thead>    <tr>        <th class=\"blank level0\" ></th>        <th class=\"col_heading level0 col0\" >0</th>        <th class=\"col_heading level0 col1\" >1</th>        <th class=\"col_heading level0 col2\" >2</th>        <th class=\"col_heading level0 col3\" >3</th>        <th class=\"col_heading level0 col4\" >4</th>        <th class=\"col_heading level0 col5\" >5</th>        <th class=\"col_heading level0 col6\" >6</th>        <th class=\"col_heading level0 col7\" >7</th>        <th class=\"col_heading level0 col8\" >8</th>        <th class=\"col_heading level0 col9\" >9</th>        <th class=\"col_heading level0 col10\" >10</th>        <th class=\"col_heading level0 col11\" >11</th>        <th class=\"col_heading level0 col12\" >12</th>        <th class=\"col_heading level0 col13\" >13</th>        <th class=\"col_heading level0 col14\" >14</th>        <th class=\"col_heading level0 col15\" >15</th>        <th class=\"col_heading level0 col16\" >16</th>        <th class=\"col_heading level0 col17\" >17</th>        <th class=\"col_heading level0 col18\" >18</th>        <th class=\"col_heading level0 col19\" >19</th>    </tr></thead><tbody>\n",
              "                <tr>\n",
              "                        <th id=\"T_66128bf2_00e3_11ec_9033_0242ac1c0002level0_row0\" class=\"row_heading level0 row0\" >0</th>\n",
              "                        <td id=\"T_66128bf2_00e3_11ec_9033_0242ac1c0002row0_col0\" class=\"data row0 col0\" >0</td>\n",
              "                        <td id=\"T_66128bf2_00e3_11ec_9033_0242ac1c0002row0_col1\" class=\"data row0 col1\" >0</td>\n",
              "                        <td id=\"T_66128bf2_00e3_11ec_9033_0242ac1c0002row0_col2\" class=\"data row0 col2\" >0</td>\n",
              "                        <td id=\"T_66128bf2_00e3_11ec_9033_0242ac1c0002row0_col3\" class=\"data row0 col3\" >0</td>\n",
              "                        <td id=\"T_66128bf2_00e3_11ec_9033_0242ac1c0002row0_col4\" class=\"data row0 col4\" >0</td>\n",
              "                        <td id=\"T_66128bf2_00e3_11ec_9033_0242ac1c0002row0_col5\" class=\"data row0 col5\" >0</td>\n",
              "                        <td id=\"T_66128bf2_00e3_11ec_9033_0242ac1c0002row0_col6\" class=\"data row0 col6\" >0</td>\n",
              "                        <td id=\"T_66128bf2_00e3_11ec_9033_0242ac1c0002row0_col7\" class=\"data row0 col7\" >0</td>\n",
              "                        <td id=\"T_66128bf2_00e3_11ec_9033_0242ac1c0002row0_col8\" class=\"data row0 col8\" >0</td>\n",
              "                        <td id=\"T_66128bf2_00e3_11ec_9033_0242ac1c0002row0_col9\" class=\"data row0 col9\" >0</td>\n",
              "                        <td id=\"T_66128bf2_00e3_11ec_9033_0242ac1c0002row0_col10\" class=\"data row0 col10\" >0</td>\n",
              "                        <td id=\"T_66128bf2_00e3_11ec_9033_0242ac1c0002row0_col11\" class=\"data row0 col11\" >0</td>\n",
              "                        <td id=\"T_66128bf2_00e3_11ec_9033_0242ac1c0002row0_col12\" class=\"data row0 col12\" >0</td>\n",
              "                        <td id=\"T_66128bf2_00e3_11ec_9033_0242ac1c0002row0_col13\" class=\"data row0 col13\" >0</td>\n",
              "                        <td id=\"T_66128bf2_00e3_11ec_9033_0242ac1c0002row0_col14\" class=\"data row0 col14\" >0</td>\n",
              "                        <td id=\"T_66128bf2_00e3_11ec_9033_0242ac1c0002row0_col15\" class=\"data row0 col15\" >0</td>\n",
              "                        <td id=\"T_66128bf2_00e3_11ec_9033_0242ac1c0002row0_col16\" class=\"data row0 col16\" >0</td>\n",
              "                        <td id=\"T_66128bf2_00e3_11ec_9033_0242ac1c0002row0_col17\" class=\"data row0 col17\" >0</td>\n",
              "                        <td id=\"T_66128bf2_00e3_11ec_9033_0242ac1c0002row0_col18\" class=\"data row0 col18\" >0</td>\n",
              "                        <td id=\"T_66128bf2_00e3_11ec_9033_0242ac1c0002row0_col19\" class=\"data row0 col19\" >0</td>\n",
              "            </tr>\n",
              "            <tr>\n",
              "                        <th id=\"T_66128bf2_00e3_11ec_9033_0242ac1c0002level0_row1\" class=\"row_heading level0 row1\" >1</th>\n",
              "                        <td id=\"T_66128bf2_00e3_11ec_9033_0242ac1c0002row1_col0\" class=\"data row1 col0\" >0</td>\n",
              "                        <td id=\"T_66128bf2_00e3_11ec_9033_0242ac1c0002row1_col1\" class=\"data row1 col1\" >0</td>\n",
              "                        <td id=\"T_66128bf2_00e3_11ec_9033_0242ac1c0002row1_col2\" class=\"data row1 col2\" >0</td>\n",
              "                        <td id=\"T_66128bf2_00e3_11ec_9033_0242ac1c0002row1_col3\" class=\"data row1 col3\" >0</td>\n",
              "                        <td id=\"T_66128bf2_00e3_11ec_9033_0242ac1c0002row1_col4\" class=\"data row1 col4\" >0</td>\n",
              "                        <td id=\"T_66128bf2_00e3_11ec_9033_0242ac1c0002row1_col5\" class=\"data row1 col5\" >0</td>\n",
              "                        <td id=\"T_66128bf2_00e3_11ec_9033_0242ac1c0002row1_col6\" class=\"data row1 col6\" >0</td>\n",
              "                        <td id=\"T_66128bf2_00e3_11ec_9033_0242ac1c0002row1_col7\" class=\"data row1 col7\" >0</td>\n",
              "                        <td id=\"T_66128bf2_00e3_11ec_9033_0242ac1c0002row1_col8\" class=\"data row1 col8\" >0</td>\n",
              "                        <td id=\"T_66128bf2_00e3_11ec_9033_0242ac1c0002row1_col9\" class=\"data row1 col9\" >0</td>\n",
              "                        <td id=\"T_66128bf2_00e3_11ec_9033_0242ac1c0002row1_col10\" class=\"data row1 col10\" >0</td>\n",
              "                        <td id=\"T_66128bf2_00e3_11ec_9033_0242ac1c0002row1_col11\" class=\"data row1 col11\" >0</td>\n",
              "                        <td id=\"T_66128bf2_00e3_11ec_9033_0242ac1c0002row1_col12\" class=\"data row1 col12\" >0</td>\n",
              "                        <td id=\"T_66128bf2_00e3_11ec_9033_0242ac1c0002row1_col13\" class=\"data row1 col13\" >0</td>\n",
              "                        <td id=\"T_66128bf2_00e3_11ec_9033_0242ac1c0002row1_col14\" class=\"data row1 col14\" >0</td>\n",
              "                        <td id=\"T_66128bf2_00e3_11ec_9033_0242ac1c0002row1_col15\" class=\"data row1 col15\" >0</td>\n",
              "                        <td id=\"T_66128bf2_00e3_11ec_9033_0242ac1c0002row1_col16\" class=\"data row1 col16\" >0</td>\n",
              "                        <td id=\"T_66128bf2_00e3_11ec_9033_0242ac1c0002row1_col17\" class=\"data row1 col17\" >0</td>\n",
              "                        <td id=\"T_66128bf2_00e3_11ec_9033_0242ac1c0002row1_col18\" class=\"data row1 col18\" >0</td>\n",
              "                        <td id=\"T_66128bf2_00e3_11ec_9033_0242ac1c0002row1_col19\" class=\"data row1 col19\" >0</td>\n",
              "            </tr>\n",
              "            <tr>\n",
              "                        <th id=\"T_66128bf2_00e3_11ec_9033_0242ac1c0002level0_row2\" class=\"row_heading level0 row2\" >2</th>\n",
              "                        <td id=\"T_66128bf2_00e3_11ec_9033_0242ac1c0002row2_col0\" class=\"data row2 col0\" >0</td>\n",
              "                        <td id=\"T_66128bf2_00e3_11ec_9033_0242ac1c0002row2_col1\" class=\"data row2 col1\" >0</td>\n",
              "                        <td id=\"T_66128bf2_00e3_11ec_9033_0242ac1c0002row2_col2\" class=\"data row2 col2\" >0</td>\n",
              "                        <td id=\"T_66128bf2_00e3_11ec_9033_0242ac1c0002row2_col3\" class=\"data row2 col3\" >0</td>\n",
              "                        <td id=\"T_66128bf2_00e3_11ec_9033_0242ac1c0002row2_col4\" class=\"data row2 col4\" >0</td>\n",
              "                        <td id=\"T_66128bf2_00e3_11ec_9033_0242ac1c0002row2_col5\" class=\"data row2 col5\" >0</td>\n",
              "                        <td id=\"T_66128bf2_00e3_11ec_9033_0242ac1c0002row2_col6\" class=\"data row2 col6\" >0</td>\n",
              "                        <td id=\"T_66128bf2_00e3_11ec_9033_0242ac1c0002row2_col7\" class=\"data row2 col7\" >0</td>\n",
              "                        <td id=\"T_66128bf2_00e3_11ec_9033_0242ac1c0002row2_col8\" class=\"data row2 col8\" >0</td>\n",
              "                        <td id=\"T_66128bf2_00e3_11ec_9033_0242ac1c0002row2_col9\" class=\"data row2 col9\" >0</td>\n",
              "                        <td id=\"T_66128bf2_00e3_11ec_9033_0242ac1c0002row2_col10\" class=\"data row2 col10\" >0</td>\n",
              "                        <td id=\"T_66128bf2_00e3_11ec_9033_0242ac1c0002row2_col11\" class=\"data row2 col11\" >0</td>\n",
              "                        <td id=\"T_66128bf2_00e3_11ec_9033_0242ac1c0002row2_col12\" class=\"data row2 col12\" >0</td>\n",
              "                        <td id=\"T_66128bf2_00e3_11ec_9033_0242ac1c0002row2_col13\" class=\"data row2 col13\" >0</td>\n",
              "                        <td id=\"T_66128bf2_00e3_11ec_9033_0242ac1c0002row2_col14\" class=\"data row2 col14\" >0</td>\n",
              "                        <td id=\"T_66128bf2_00e3_11ec_9033_0242ac1c0002row2_col15\" class=\"data row2 col15\" >0</td>\n",
              "                        <td id=\"T_66128bf2_00e3_11ec_9033_0242ac1c0002row2_col16\" class=\"data row2 col16\" >0</td>\n",
              "                        <td id=\"T_66128bf2_00e3_11ec_9033_0242ac1c0002row2_col17\" class=\"data row2 col17\" >0</td>\n",
              "                        <td id=\"T_66128bf2_00e3_11ec_9033_0242ac1c0002row2_col18\" class=\"data row2 col18\" >0</td>\n",
              "                        <td id=\"T_66128bf2_00e3_11ec_9033_0242ac1c0002row2_col19\" class=\"data row2 col19\" >0</td>\n",
              "            </tr>\n",
              "            <tr>\n",
              "                        <th id=\"T_66128bf2_00e3_11ec_9033_0242ac1c0002level0_row3\" class=\"row_heading level0 row3\" >3</th>\n",
              "                        <td id=\"T_66128bf2_00e3_11ec_9033_0242ac1c0002row3_col0\" class=\"data row3 col0\" >0</td>\n",
              "                        <td id=\"T_66128bf2_00e3_11ec_9033_0242ac1c0002row3_col1\" class=\"data row3 col1\" >0</td>\n",
              "                        <td id=\"T_66128bf2_00e3_11ec_9033_0242ac1c0002row3_col2\" class=\"data row3 col2\" >0</td>\n",
              "                        <td id=\"T_66128bf2_00e3_11ec_9033_0242ac1c0002row3_col3\" class=\"data row3 col3\" >0</td>\n",
              "                        <td id=\"T_66128bf2_00e3_11ec_9033_0242ac1c0002row3_col4\" class=\"data row3 col4\" >0</td>\n",
              "                        <td id=\"T_66128bf2_00e3_11ec_9033_0242ac1c0002row3_col5\" class=\"data row3 col5\" >0</td>\n",
              "                        <td id=\"T_66128bf2_00e3_11ec_9033_0242ac1c0002row3_col6\" class=\"data row3 col6\" >0</td>\n",
              "                        <td id=\"T_66128bf2_00e3_11ec_9033_0242ac1c0002row3_col7\" class=\"data row3 col7\" >0</td>\n",
              "                        <td id=\"T_66128bf2_00e3_11ec_9033_0242ac1c0002row3_col8\" class=\"data row3 col8\" >0</td>\n",
              "                        <td id=\"T_66128bf2_00e3_11ec_9033_0242ac1c0002row3_col9\" class=\"data row3 col9\" >0</td>\n",
              "                        <td id=\"T_66128bf2_00e3_11ec_9033_0242ac1c0002row3_col10\" class=\"data row3 col10\" >0</td>\n",
              "                        <td id=\"T_66128bf2_00e3_11ec_9033_0242ac1c0002row3_col11\" class=\"data row3 col11\" >0</td>\n",
              "                        <td id=\"T_66128bf2_00e3_11ec_9033_0242ac1c0002row3_col12\" class=\"data row3 col12\" >0</td>\n",
              "                        <td id=\"T_66128bf2_00e3_11ec_9033_0242ac1c0002row3_col13\" class=\"data row3 col13\" >0</td>\n",
              "                        <td id=\"T_66128bf2_00e3_11ec_9033_0242ac1c0002row3_col14\" class=\"data row3 col14\" >0</td>\n",
              "                        <td id=\"T_66128bf2_00e3_11ec_9033_0242ac1c0002row3_col15\" class=\"data row3 col15\" >0</td>\n",
              "                        <td id=\"T_66128bf2_00e3_11ec_9033_0242ac1c0002row3_col16\" class=\"data row3 col16\" >0</td>\n",
              "                        <td id=\"T_66128bf2_00e3_11ec_9033_0242ac1c0002row3_col17\" class=\"data row3 col17\" >0</td>\n",
              "                        <td id=\"T_66128bf2_00e3_11ec_9033_0242ac1c0002row3_col18\" class=\"data row3 col18\" >0</td>\n",
              "                        <td id=\"T_66128bf2_00e3_11ec_9033_0242ac1c0002row3_col19\" class=\"data row3 col19\" >0</td>\n",
              "            </tr>\n",
              "            <tr>\n",
              "                        <th id=\"T_66128bf2_00e3_11ec_9033_0242ac1c0002level0_row4\" class=\"row_heading level0 row4\" >4</th>\n",
              "                        <td id=\"T_66128bf2_00e3_11ec_9033_0242ac1c0002row4_col0\" class=\"data row4 col0\" >0</td>\n",
              "                        <td id=\"T_66128bf2_00e3_11ec_9033_0242ac1c0002row4_col1\" class=\"data row4 col1\" >0</td>\n",
              "                        <td id=\"T_66128bf2_00e3_11ec_9033_0242ac1c0002row4_col2\" class=\"data row4 col2\" >0</td>\n",
              "                        <td id=\"T_66128bf2_00e3_11ec_9033_0242ac1c0002row4_col3\" class=\"data row4 col3\" >0</td>\n",
              "                        <td id=\"T_66128bf2_00e3_11ec_9033_0242ac1c0002row4_col4\" class=\"data row4 col4\" >0</td>\n",
              "                        <td id=\"T_66128bf2_00e3_11ec_9033_0242ac1c0002row4_col5\" class=\"data row4 col5\" >0</td>\n",
              "                        <td id=\"T_66128bf2_00e3_11ec_9033_0242ac1c0002row4_col6\" class=\"data row4 col6\" >0</td>\n",
              "                        <td id=\"T_66128bf2_00e3_11ec_9033_0242ac1c0002row4_col7\" class=\"data row4 col7\" >0</td>\n",
              "                        <td id=\"T_66128bf2_00e3_11ec_9033_0242ac1c0002row4_col8\" class=\"data row4 col8\" >0</td>\n",
              "                        <td id=\"T_66128bf2_00e3_11ec_9033_0242ac1c0002row4_col9\" class=\"data row4 col9\" >0</td>\n",
              "                        <td id=\"T_66128bf2_00e3_11ec_9033_0242ac1c0002row4_col10\" class=\"data row4 col10\" >0</td>\n",
              "                        <td id=\"T_66128bf2_00e3_11ec_9033_0242ac1c0002row4_col11\" class=\"data row4 col11\" >0</td>\n",
              "                        <td id=\"T_66128bf2_00e3_11ec_9033_0242ac1c0002row4_col12\" class=\"data row4 col12\" >0</td>\n",
              "                        <td id=\"T_66128bf2_00e3_11ec_9033_0242ac1c0002row4_col13\" class=\"data row4 col13\" >0</td>\n",
              "                        <td id=\"T_66128bf2_00e3_11ec_9033_0242ac1c0002row4_col14\" class=\"data row4 col14\" >0</td>\n",
              "                        <td id=\"T_66128bf2_00e3_11ec_9033_0242ac1c0002row4_col15\" class=\"data row4 col15\" >0</td>\n",
              "                        <td id=\"T_66128bf2_00e3_11ec_9033_0242ac1c0002row4_col16\" class=\"data row4 col16\" >0</td>\n",
              "                        <td id=\"T_66128bf2_00e3_11ec_9033_0242ac1c0002row4_col17\" class=\"data row4 col17\" >0</td>\n",
              "                        <td id=\"T_66128bf2_00e3_11ec_9033_0242ac1c0002row4_col18\" class=\"data row4 col18\" >0</td>\n",
              "                        <td id=\"T_66128bf2_00e3_11ec_9033_0242ac1c0002row4_col19\" class=\"data row4 col19\" >0</td>\n",
              "            </tr>\n",
              "            <tr>\n",
              "                        <th id=\"T_66128bf2_00e3_11ec_9033_0242ac1c0002level0_row5\" class=\"row_heading level0 row5\" >5</th>\n",
              "                        <td id=\"T_66128bf2_00e3_11ec_9033_0242ac1c0002row5_col0\" class=\"data row5 col0\" >0</td>\n",
              "                        <td id=\"T_66128bf2_00e3_11ec_9033_0242ac1c0002row5_col1\" class=\"data row5 col1\" >0</td>\n",
              "                        <td id=\"T_66128bf2_00e3_11ec_9033_0242ac1c0002row5_col2\" class=\"data row5 col2\" >0</td>\n",
              "                        <td id=\"T_66128bf2_00e3_11ec_9033_0242ac1c0002row5_col3\" class=\"data row5 col3\" >12</td>\n",
              "                        <td id=\"T_66128bf2_00e3_11ec_9033_0242ac1c0002row5_col4\" class=\"data row5 col4\" >99</td>\n",
              "                        <td id=\"T_66128bf2_00e3_11ec_9033_0242ac1c0002row5_col5\" class=\"data row5 col5\" >91</td>\n",
              "                        <td id=\"T_66128bf2_00e3_11ec_9033_0242ac1c0002row5_col6\" class=\"data row5 col6\" >142</td>\n",
              "                        <td id=\"T_66128bf2_00e3_11ec_9033_0242ac1c0002row5_col7\" class=\"data row5 col7\" >155</td>\n",
              "                        <td id=\"T_66128bf2_00e3_11ec_9033_0242ac1c0002row5_col8\" class=\"data row5 col8\" >246</td>\n",
              "                        <td id=\"T_66128bf2_00e3_11ec_9033_0242ac1c0002row5_col9\" class=\"data row5 col9\" >182</td>\n",
              "                        <td id=\"T_66128bf2_00e3_11ec_9033_0242ac1c0002row5_col10\" class=\"data row5 col10\" >155</td>\n",
              "                        <td id=\"T_66128bf2_00e3_11ec_9033_0242ac1c0002row5_col11\" class=\"data row5 col11\" >155</td>\n",
              "                        <td id=\"T_66128bf2_00e3_11ec_9033_0242ac1c0002row5_col12\" class=\"data row5 col12\" >155</td>\n",
              "                        <td id=\"T_66128bf2_00e3_11ec_9033_0242ac1c0002row5_col13\" class=\"data row5 col13\" >155</td>\n",
              "                        <td id=\"T_66128bf2_00e3_11ec_9033_0242ac1c0002row5_col14\" class=\"data row5 col14\" >131</td>\n",
              "                        <td id=\"T_66128bf2_00e3_11ec_9033_0242ac1c0002row5_col15\" class=\"data row5 col15\" >52</td>\n",
              "                        <td id=\"T_66128bf2_00e3_11ec_9033_0242ac1c0002row5_col16\" class=\"data row5 col16\" >0</td>\n",
              "                        <td id=\"T_66128bf2_00e3_11ec_9033_0242ac1c0002row5_col17\" class=\"data row5 col17\" >0</td>\n",
              "                        <td id=\"T_66128bf2_00e3_11ec_9033_0242ac1c0002row5_col18\" class=\"data row5 col18\" >0</td>\n",
              "                        <td id=\"T_66128bf2_00e3_11ec_9033_0242ac1c0002row5_col19\" class=\"data row5 col19\" >0</td>\n",
              "            </tr>\n",
              "            <tr>\n",
              "                        <th id=\"T_66128bf2_00e3_11ec_9033_0242ac1c0002level0_row6\" class=\"row_heading level0 row6\" >6</th>\n",
              "                        <td id=\"T_66128bf2_00e3_11ec_9033_0242ac1c0002row6_col0\" class=\"data row6 col0\" >0</td>\n",
              "                        <td id=\"T_66128bf2_00e3_11ec_9033_0242ac1c0002row6_col1\" class=\"data row6 col1\" >0</td>\n",
              "                        <td id=\"T_66128bf2_00e3_11ec_9033_0242ac1c0002row6_col2\" class=\"data row6 col2\" >0</td>\n",
              "                        <td id=\"T_66128bf2_00e3_11ec_9033_0242ac1c0002row6_col3\" class=\"data row6 col3\" >138</td>\n",
              "                        <td id=\"T_66128bf2_00e3_11ec_9033_0242ac1c0002row6_col4\" class=\"data row6 col4\" >254</td>\n",
              "                        <td id=\"T_66128bf2_00e3_11ec_9033_0242ac1c0002row6_col5\" class=\"data row6 col5\" >254</td>\n",
              "                        <td id=\"T_66128bf2_00e3_11ec_9033_0242ac1c0002row6_col6\" class=\"data row6 col6\" >254</td>\n",
              "                        <td id=\"T_66128bf2_00e3_11ec_9033_0242ac1c0002row6_col7\" class=\"data row6 col7\" >254</td>\n",
              "                        <td id=\"T_66128bf2_00e3_11ec_9033_0242ac1c0002row6_col8\" class=\"data row6 col8\" >254</td>\n",
              "                        <td id=\"T_66128bf2_00e3_11ec_9033_0242ac1c0002row6_col9\" class=\"data row6 col9\" >254</td>\n",
              "                        <td id=\"T_66128bf2_00e3_11ec_9033_0242ac1c0002row6_col10\" class=\"data row6 col10\" >254</td>\n",
              "                        <td id=\"T_66128bf2_00e3_11ec_9033_0242ac1c0002row6_col11\" class=\"data row6 col11\" >254</td>\n",
              "                        <td id=\"T_66128bf2_00e3_11ec_9033_0242ac1c0002row6_col12\" class=\"data row6 col12\" >254</td>\n",
              "                        <td id=\"T_66128bf2_00e3_11ec_9033_0242ac1c0002row6_col13\" class=\"data row6 col13\" >254</td>\n",
              "                        <td id=\"T_66128bf2_00e3_11ec_9033_0242ac1c0002row6_col14\" class=\"data row6 col14\" >254</td>\n",
              "                        <td id=\"T_66128bf2_00e3_11ec_9033_0242ac1c0002row6_col15\" class=\"data row6 col15\" >252</td>\n",
              "                        <td id=\"T_66128bf2_00e3_11ec_9033_0242ac1c0002row6_col16\" class=\"data row6 col16\" >210</td>\n",
              "                        <td id=\"T_66128bf2_00e3_11ec_9033_0242ac1c0002row6_col17\" class=\"data row6 col17\" >122</td>\n",
              "                        <td id=\"T_66128bf2_00e3_11ec_9033_0242ac1c0002row6_col18\" class=\"data row6 col18\" >33</td>\n",
              "                        <td id=\"T_66128bf2_00e3_11ec_9033_0242ac1c0002row6_col19\" class=\"data row6 col19\" >0</td>\n",
              "            </tr>\n",
              "            <tr>\n",
              "                        <th id=\"T_66128bf2_00e3_11ec_9033_0242ac1c0002level0_row7\" class=\"row_heading level0 row7\" >7</th>\n",
              "                        <td id=\"T_66128bf2_00e3_11ec_9033_0242ac1c0002row7_col0\" class=\"data row7 col0\" >0</td>\n",
              "                        <td id=\"T_66128bf2_00e3_11ec_9033_0242ac1c0002row7_col1\" class=\"data row7 col1\" >0</td>\n",
              "                        <td id=\"T_66128bf2_00e3_11ec_9033_0242ac1c0002row7_col2\" class=\"data row7 col2\" >0</td>\n",
              "                        <td id=\"T_66128bf2_00e3_11ec_9033_0242ac1c0002row7_col3\" class=\"data row7 col3\" >220</td>\n",
              "                        <td id=\"T_66128bf2_00e3_11ec_9033_0242ac1c0002row7_col4\" class=\"data row7 col4\" >254</td>\n",
              "                        <td id=\"T_66128bf2_00e3_11ec_9033_0242ac1c0002row7_col5\" class=\"data row7 col5\" >254</td>\n",
              "                        <td id=\"T_66128bf2_00e3_11ec_9033_0242ac1c0002row7_col6\" class=\"data row7 col6\" >254</td>\n",
              "                        <td id=\"T_66128bf2_00e3_11ec_9033_0242ac1c0002row7_col7\" class=\"data row7 col7\" >235</td>\n",
              "                        <td id=\"T_66128bf2_00e3_11ec_9033_0242ac1c0002row7_col8\" class=\"data row7 col8\" >189</td>\n",
              "                        <td id=\"T_66128bf2_00e3_11ec_9033_0242ac1c0002row7_col9\" class=\"data row7 col9\" >189</td>\n",
              "                        <td id=\"T_66128bf2_00e3_11ec_9033_0242ac1c0002row7_col10\" class=\"data row7 col10\" >189</td>\n",
              "                        <td id=\"T_66128bf2_00e3_11ec_9033_0242ac1c0002row7_col11\" class=\"data row7 col11\" >189</td>\n",
              "                        <td id=\"T_66128bf2_00e3_11ec_9033_0242ac1c0002row7_col12\" class=\"data row7 col12\" >150</td>\n",
              "                        <td id=\"T_66128bf2_00e3_11ec_9033_0242ac1c0002row7_col13\" class=\"data row7 col13\" >189</td>\n",
              "                        <td id=\"T_66128bf2_00e3_11ec_9033_0242ac1c0002row7_col14\" class=\"data row7 col14\" >205</td>\n",
              "                        <td id=\"T_66128bf2_00e3_11ec_9033_0242ac1c0002row7_col15\" class=\"data row7 col15\" >254</td>\n",
              "                        <td id=\"T_66128bf2_00e3_11ec_9033_0242ac1c0002row7_col16\" class=\"data row7 col16\" >254</td>\n",
              "                        <td id=\"T_66128bf2_00e3_11ec_9033_0242ac1c0002row7_col17\" class=\"data row7 col17\" >254</td>\n",
              "                        <td id=\"T_66128bf2_00e3_11ec_9033_0242ac1c0002row7_col18\" class=\"data row7 col18\" >75</td>\n",
              "                        <td id=\"T_66128bf2_00e3_11ec_9033_0242ac1c0002row7_col19\" class=\"data row7 col19\" >0</td>\n",
              "            </tr>\n",
              "            <tr>\n",
              "                        <th id=\"T_66128bf2_00e3_11ec_9033_0242ac1c0002level0_row8\" class=\"row_heading level0 row8\" >8</th>\n",
              "                        <td id=\"T_66128bf2_00e3_11ec_9033_0242ac1c0002row8_col0\" class=\"data row8 col0\" >0</td>\n",
              "                        <td id=\"T_66128bf2_00e3_11ec_9033_0242ac1c0002row8_col1\" class=\"data row8 col1\" >0</td>\n",
              "                        <td id=\"T_66128bf2_00e3_11ec_9033_0242ac1c0002row8_col2\" class=\"data row8 col2\" >0</td>\n",
              "                        <td id=\"T_66128bf2_00e3_11ec_9033_0242ac1c0002row8_col3\" class=\"data row8 col3\" >35</td>\n",
              "                        <td id=\"T_66128bf2_00e3_11ec_9033_0242ac1c0002row8_col4\" class=\"data row8 col4\" >74</td>\n",
              "                        <td id=\"T_66128bf2_00e3_11ec_9033_0242ac1c0002row8_col5\" class=\"data row8 col5\" >35</td>\n",
              "                        <td id=\"T_66128bf2_00e3_11ec_9033_0242ac1c0002row8_col6\" class=\"data row8 col6\" >35</td>\n",
              "                        <td id=\"T_66128bf2_00e3_11ec_9033_0242ac1c0002row8_col7\" class=\"data row8 col7\" >25</td>\n",
              "                        <td id=\"T_66128bf2_00e3_11ec_9033_0242ac1c0002row8_col8\" class=\"data row8 col8\" >0</td>\n",
              "                        <td id=\"T_66128bf2_00e3_11ec_9033_0242ac1c0002row8_col9\" class=\"data row8 col9\" >0</td>\n",
              "                        <td id=\"T_66128bf2_00e3_11ec_9033_0242ac1c0002row8_col10\" class=\"data row8 col10\" >0</td>\n",
              "                        <td id=\"T_66128bf2_00e3_11ec_9033_0242ac1c0002row8_col11\" class=\"data row8 col11\" >0</td>\n",
              "                        <td id=\"T_66128bf2_00e3_11ec_9033_0242ac1c0002row8_col12\" class=\"data row8 col12\" >0</td>\n",
              "                        <td id=\"T_66128bf2_00e3_11ec_9033_0242ac1c0002row8_col13\" class=\"data row8 col13\" >0</td>\n",
              "                        <td id=\"T_66128bf2_00e3_11ec_9033_0242ac1c0002row8_col14\" class=\"data row8 col14\" >13</td>\n",
              "                        <td id=\"T_66128bf2_00e3_11ec_9033_0242ac1c0002row8_col15\" class=\"data row8 col15\" >224</td>\n",
              "                        <td id=\"T_66128bf2_00e3_11ec_9033_0242ac1c0002row8_col16\" class=\"data row8 col16\" >254</td>\n",
              "                        <td id=\"T_66128bf2_00e3_11ec_9033_0242ac1c0002row8_col17\" class=\"data row8 col17\" >254</td>\n",
              "                        <td id=\"T_66128bf2_00e3_11ec_9033_0242ac1c0002row8_col18\" class=\"data row8 col18\" >153</td>\n",
              "                        <td id=\"T_66128bf2_00e3_11ec_9033_0242ac1c0002row8_col19\" class=\"data row8 col19\" >0</td>\n",
              "            </tr>\n",
              "            <tr>\n",
              "                        <th id=\"T_66128bf2_00e3_11ec_9033_0242ac1c0002level0_row9\" class=\"row_heading level0 row9\" >9</th>\n",
              "                        <td id=\"T_66128bf2_00e3_11ec_9033_0242ac1c0002row9_col0\" class=\"data row9 col0\" >0</td>\n",
              "                        <td id=\"T_66128bf2_00e3_11ec_9033_0242ac1c0002row9_col1\" class=\"data row9 col1\" >0</td>\n",
              "                        <td id=\"T_66128bf2_00e3_11ec_9033_0242ac1c0002row9_col2\" class=\"data row9 col2\" >0</td>\n",
              "                        <td id=\"T_66128bf2_00e3_11ec_9033_0242ac1c0002row9_col3\" class=\"data row9 col3\" >0</td>\n",
              "                        <td id=\"T_66128bf2_00e3_11ec_9033_0242ac1c0002row9_col4\" class=\"data row9 col4\" >0</td>\n",
              "                        <td id=\"T_66128bf2_00e3_11ec_9033_0242ac1c0002row9_col5\" class=\"data row9 col5\" >0</td>\n",
              "                        <td id=\"T_66128bf2_00e3_11ec_9033_0242ac1c0002row9_col6\" class=\"data row9 col6\" >0</td>\n",
              "                        <td id=\"T_66128bf2_00e3_11ec_9033_0242ac1c0002row9_col7\" class=\"data row9 col7\" >0</td>\n",
              "                        <td id=\"T_66128bf2_00e3_11ec_9033_0242ac1c0002row9_col8\" class=\"data row9 col8\" >0</td>\n",
              "                        <td id=\"T_66128bf2_00e3_11ec_9033_0242ac1c0002row9_col9\" class=\"data row9 col9\" >0</td>\n",
              "                        <td id=\"T_66128bf2_00e3_11ec_9033_0242ac1c0002row9_col10\" class=\"data row9 col10\" >0</td>\n",
              "                        <td id=\"T_66128bf2_00e3_11ec_9033_0242ac1c0002row9_col11\" class=\"data row9 col11\" >0</td>\n",
              "                        <td id=\"T_66128bf2_00e3_11ec_9033_0242ac1c0002row9_col12\" class=\"data row9 col12\" >0</td>\n",
              "                        <td id=\"T_66128bf2_00e3_11ec_9033_0242ac1c0002row9_col13\" class=\"data row9 col13\" >0</td>\n",
              "                        <td id=\"T_66128bf2_00e3_11ec_9033_0242ac1c0002row9_col14\" class=\"data row9 col14\" >90</td>\n",
              "                        <td id=\"T_66128bf2_00e3_11ec_9033_0242ac1c0002row9_col15\" class=\"data row9 col15\" >254</td>\n",
              "                        <td id=\"T_66128bf2_00e3_11ec_9033_0242ac1c0002row9_col16\" class=\"data row9 col16\" >254</td>\n",
              "                        <td id=\"T_66128bf2_00e3_11ec_9033_0242ac1c0002row9_col17\" class=\"data row9 col17\" >247</td>\n",
              "                        <td id=\"T_66128bf2_00e3_11ec_9033_0242ac1c0002row9_col18\" class=\"data row9 col18\" >53</td>\n",
              "                        <td id=\"T_66128bf2_00e3_11ec_9033_0242ac1c0002row9_col19\" class=\"data row9 col19\" >0</td>\n",
              "            </tr>\n",
              "    </tbody></table>"
            ],
            "text/plain": [
              "<pandas.io.formats.style.Styler at 0x7f8a7dbd9ad0>"
            ]
          },
          "metadata": {},
          "execution_count": 10
        }
      ]
    },
    {
      "cell_type": "code",
      "metadata": {
        "colab": {
          "base_uri": "https://localhost:8080/"
        },
        "id": "joLgIgZbPeJk",
        "outputId": "8898292e-c932-476c-d6e0-7bc1b7d3fcd7"
      },
      "source": [
        "#@ GETTING MULTIPLICATION: \n",
        "print((im3_t[4:7, 6:9]*top_edge).sum())                    # Inspecting Multiplication. \n",
        "print((im3_t[7:10, 17:20]*top_edge).sum())                 # Inspecting Multiplication. "
      ],
      "execution_count": 11,
      "outputs": [
        {
          "output_type": "stream",
          "text": [
            "tensor(762.)\n",
            "tensor(-29.)\n"
          ],
          "name": "stdout"
        }
      ]
    },
    {
      "cell_type": "code",
      "metadata": {
        "colab": {
          "base_uri": "https://localhost:8080/"
        },
        "id": "xOYhK78nQb3u",
        "outputId": "36838c7d-d13a-40e8-a3db-ad14a52f0267"
      },
      "source": [
        "#@ CREATING A FUNCTION: \n",
        "def apply_kernel(row, col, kernel):                        # Defining a Function. \n",
        "    return (im3_t[row-1:row+2,col-1:col+2]*kernel).sum()   # Initializing Multiplication. \n",
        "apply_kernel(5, 7, top_edge)                               # Implementation. "
      ],
      "execution_count": 12,
      "outputs": [
        {
          "output_type": "execute_result",
          "data": {
            "text/plain": [
              "tensor(762.)"
            ]
          },
          "metadata": {},
          "execution_count": 12
        }
      ]
    },
    {
      "cell_type": "markdown",
      "metadata": {
        "id": "-IpnbLV1T1Jm"
      },
      "source": [
        "**CONVOLUTIONAL KERNEL:**"
      ]
    },
    {
      "cell_type": "code",
      "metadata": {
        "colab": {
          "base_uri": "https://localhost:8080/"
        },
        "id": "DHHIpV2wTauH",
        "outputId": "486af7c9-d59a-41ab-c788-5bea8814cf2d"
      },
      "source": [
        "#@ INITIALIZING GRID OF COORDINATES: NESTED LIST COMPREHENSIONS: \n",
        "[[(i, j) for j in range(1,5)] for i in range(1,5)] "
      ],
      "execution_count": 13,
      "outputs": [
        {
          "output_type": "execute_result",
          "data": {
            "text/plain": [
              "[[(1, 1), (1, 2), (1, 3), (1, 4)],\n",
              " [(2, 1), (2, 2), (2, 3), (2, 4)],\n",
              " [(3, 1), (3, 2), (3, 3), (3, 4)],\n",
              " [(4, 1), (4, 2), (4, 3), (4, 4)]]"
            ]
          },
          "metadata": {},
          "execution_count": 13
        }
      ]
    },
    {
      "cell_type": "code",
      "metadata": {
        "colab": {
          "base_uri": "https://localhost:8080/",
          "height": 85
        },
        "id": "3lm9DcWCWOOZ",
        "outputId": "8da6ffcc-35b4-481c-de4a-bb01360a3111"
      },
      "source": [
        "#@ IMPLEMENTATION OF KERNEL: TOP EDGES: \n",
        "rng = range(1, 27)                                               # Initialization. \n",
        "top_edge3 = tensor([[apply_kernel(i,j,top_edge\n",
        "                                  ) for j in rng] for i in rng]) # Implementation of Function. \n",
        "show_image(top_edge3);                                           # Inspection. "
      ],
      "execution_count": 17,
      "outputs": [
        {
          "output_type": "display_data",
          "data": {
            "image/png": "[encoded data removed]",
            "text/plain": [
              "<Figure size 72x72 with 1 Axes>"
            ]
          },
          "metadata": {
            "needs_background": "light"
          }
        }
      ]
    },
    {
      "cell_type": "code",
      "metadata": {
        "colab": {
          "base_uri": "https://localhost:8080/",
          "height": 85
        },
        "id": "3DF0R14qX3RV",
        "outputId": "a51d0deb-84ae-4afa-c1ba-c40b3121a447"
      },
      "source": [
        "#@ IMPLEMENTATION OF KERNEL: LEFT EDGES:\n",
        "left_edge = tensor([[-1, 1, 0], \n",
        "                   [-1, 1, 0], \n",
        "                   [-1, 1, 0]]).float()                          # Initializing a Kernel. \n",
        "left_edge3 =tensor([[apply_kernel(i,j,left_edge\n",
        "                                  ) for j in rng] for i in rng]) # Implementation of Function. \n",
        "show_image(left_edge3);                                          # Inspection. "
      ],
      "execution_count": 19,
      "outputs": [
        {
          "output_type": "display_data",
          "data": {
            "image/png": "[encoded data removed]",
            "text/plain": [
              "<Figure size 72x72 with 1 Axes>"
            ]
          },
          "metadata": {
            "needs_background": "light"
          }
        }
      ]
    },
    {
      "cell_type": "code",
      "metadata": {
        "id": "1DaQ070uamIg"
      },
      "source": [
        ""
      ],
      "execution_count": null,
      "outputs": []
    }
  ]
}