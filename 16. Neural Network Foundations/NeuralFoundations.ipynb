{
  "nbformat": 4,
  "nbformat_minor": 0,
  "metadata": {
    "colab": {
      "name": "NeuralFoundations.ipynb",
      "provenance": []
    },
    "kernelspec": {
      "name": "python3",
      "display_name": "Python 3"
    },
    "language_info": {
      "name": "python"
    },
    "accelerator": "GPU"
  },
  "cells": [
    {
      "cell_type": "markdown",
      "metadata": {
        "id": "HlHj7lUPa187"
      },
      "source": [
        "**INITIALIZATION**\n",
        "- I use these three lines of code on top of my each notebooks because it will help to prevent any problems while reloading the same project. And the third line of code helps to make visualization within the notebook."
      ]
    },
    {
      "cell_type": "code",
      "metadata": {
        "id": "taFeJgiOafpU"
      },
      "source": [
        "#@ INITIALIZATION: \n",
        "%reload_ext autoreload\n",
        "%autoreload 2\n",
        "%matplotlib inline"
      ],
      "execution_count": 1,
      "outputs": []
    },
    {
      "cell_type": "markdown",
      "metadata": {
        "id": "DxH0FCEga_zV"
      },
      "source": [
        "**LIBRARIES AND DEPENDENCIES**\n",
        "- I have downloaded all the libraries and dependencies required for the project in one particular cell."
      ]
    },
    {
      "cell_type": "code",
      "metadata": {
        "id": "t4v7GAR2a-IJ"
      },
      "source": [
        "#@ INSTALLING DEPENDENCIES: UNCOMMENT BELOW: \n",
        "# !pip install -Uqq fastbook\n",
        "# import fastbook\n",
        "# fastbook.setup_book()"
      ],
      "execution_count": 3,
      "outputs": []
    },
    {
      "cell_type": "code",
      "metadata": {
        "id": "xk9RqKhcbJor"
      },
      "source": [
        "#@ DOWNLOADING LIBRARIES AND DEPENDENCIES: \n",
        "from fastbook import *                                  # Getting all the Libraries. \n",
        "from fastai.callback.fp16 import *"
      ],
      "execution_count": 4,
      "outputs": []
    },
    {
      "cell_type": "markdown",
      "metadata": {
        "id": "zi-60nNpbv1b"
      },
      "source": [
        "**MODELING NEURON**"
      ]
    },
    {
      "cell_type": "code",
      "metadata": {
        "id": "4urwjTeBbeHB"
      },
      "source": [
        "#@ MODELING NEURON FROM SCRATCH: UNCOMMENT BELOW: \n",
        "# output = sum([x*w for x,w in zip(inputs, weights)]) + bias          # Adding Weighted Inputs and Bias. \n",
        "# def relu(x): return x if x >= 0 else 0                              # Defining RELU Activation Function. \n",
        "# y[i, j] = sum([a*b for a,b in zip(x[i,:], w[j,:])]) + b[j]          # Initializing Matrix Multiplication. "
      ],
      "execution_count": 5,
      "outputs": []
    },
    {
      "cell_type": "code",
      "metadata": {
        "colab": {
          "base_uri": "https://localhost:8080/"
        },
        "id": "YYCUMtyJgXza",
        "outputId": "58092fa6-c15e-4476-ae1d-f4193cedba40"
      },
      "source": [
        "#@ MATRIX MULTIPLICATION FROM SCRATCH: \n",
        "def matmul(a, b):                            # Defining Matrix Multiplication Function. \n",
        "    ar, ac = a.shape                         # Inspecting Shape. \n",
        "    br, bc = b.shape                         # Inspecting Shape. \n",
        "    assert ac == br                          # Asserting Rows and Columns. \n",
        "    c = torch.zeros(ar, bc)                  # Initializing Tensor. \n",
        "    for i in range(ar):                      # Getting Row Indices. \n",
        "        for j in range(bc):                  # Getting Column Indices. \n",
        "            for k in range(ac):              # Getting Inner Sum. \n",
        "                c[i,j] += a[i,k] * b[k,j]    # Getting Matrix Multiplication. \n",
        "    return c\n",
        "\n",
        "#@ IMPLEMENTATION OF MATRIX MULTIPLICATION: \n",
        "m1 = torch.randn(5, 28*28)                   # Initializing Matrix. \n",
        "m2 = torch.randn(784, 10)                    # Initializing Matrix. \n",
        "%time t1 = matmul(m1, m2)                    # Implementation of Matrix Multiplication. \n",
        "%timeit -n 20 t2 = m1@m2                     # Implementation of Matrix Multiplication. "
      ],
      "execution_count": 8,
      "outputs": [
        {
          "output_type": "stream",
          "name": "stdout",
          "text": [
            "CPU times: user 701 ms, sys: 0 ns, total: 701 ms\n",
            "Wall time: 701 ms\n",
            "The slowest run took 168.82 times longer than the fastest. This could mean that an intermediate result is being cached.\n",
            "20 loops, best of 5: 5.74 µs per loop\n"
          ]
        }
      ]
    },
    {
      "cell_type": "code",
      "metadata": {
        "colab": {
          "base_uri": "https://localhost:8080/"
        },
        "id": "CY-ny3EzjFXX",
        "outputId": "5dc4eb12-83a1-4393-8161-e0c1cc8328c0"
      },
      "source": [
        "#@ ELEMENTWISE ARITHMETIC: \n",
        "a = tensor([10., 6, -4])                     # Initializing a Tensor. \n",
        "b = tensor([2., 8, 7])                       # Initializing a Tensor. \n",
        "a + b                                        # Initializing Elementwise Addition. \n",
        "(a<b).all(), (a==b).all()                    # Combining Elementwise Operations. "
      ],
      "execution_count": 10,
      "outputs": [
        {
          "output_type": "execute_result",
          "data": {
            "text/plain": [
              "(tensor(False), tensor(False))"
            ]
          },
          "metadata": {},
          "execution_count": 10
        }
      ]
    },
    {
      "cell_type": "code",
      "metadata": {
        "id": "Tad7IfqQlAu5"
      },
      "source": [
        ""
      ],
      "execution_count": null,
      "outputs": []
    }
  ]
}