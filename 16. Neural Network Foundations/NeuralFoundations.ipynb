{
  "nbformat": 4,
  "nbformat_minor": 0,
  "metadata": {
    "colab": {
      "name": "NeuralFoundations.ipynb",
      "provenance": [],
      "collapsed_sections": []
    },
    "kernelspec": {
      "name": "python3",
      "display_name": "Python 3"
    },
    "language_info": {
      "name": "python"
    },
    "accelerator": "GPU"
  },
  "cells": [
    {
      "cell_type": "markdown",
      "metadata": {
        "id": "HlHj7lUPa187"
      },
      "source": [
        "**INITIALIZATION**\n",
        "- I use these three lines of code on top of my each notebooks because it will help to prevent any problems while reloading the same project. And the third line of code helps to make visualization within the notebook."
      ]
    },
    {
      "cell_type": "code",
      "metadata": {
        "id": "taFeJgiOafpU"
      },
      "source": [
        "#@ INITIALIZATION: \n",
        "%reload_ext autoreload\n",
        "%autoreload 2\n",
        "%matplotlib inline"
      ],
      "execution_count": 1,
      "outputs": []
    },
    {
      "cell_type": "markdown",
      "metadata": {
        "id": "DxH0FCEga_zV"
      },
      "source": [
        "**LIBRARIES AND DEPENDENCIES**\n",
        "- I have downloaded all the libraries and dependencies required for the project in one particular cell."
      ]
    },
    {
      "cell_type": "code",
      "metadata": {
        "id": "t4v7GAR2a-IJ"
      },
      "source": [
        "#@ INSTALLING DEPENDENCIES: UNCOMMENT BELOW: \n",
        "# !pip install -Uqq fastbook\n",
        "# import fastbook\n",
        "# fastbook.setup_book()"
      ],
      "execution_count": 3,
      "outputs": []
    },
    {
      "cell_type": "code",
      "metadata": {
        "id": "xk9RqKhcbJor"
      },
      "source": [
        "#@ DOWNLOADING LIBRARIES AND DEPENDENCIES: \n",
        "from fastbook import *                                  # Getting all the Libraries. \n",
        "from fastai.callback.fp16 import *"
      ],
      "execution_count": 4,
      "outputs": []
    },
    {
      "cell_type": "markdown",
      "metadata": {
        "id": "zi-60nNpbv1b"
      },
      "source": [
        "**MODELING NEURON**"
      ]
    },
    {
      "cell_type": "code",
      "metadata": {
        "id": "4urwjTeBbeHB"
      },
      "source": [
        "#@ MODELING NEURON FROM SCRATCH: UNCOMMENT BELOW: \n",
        "# output = sum([x*w for x,w in zip(inputs, weights)]) + bias          # Adding Weighted Inputs and Bias. \n",
        "# def relu(x): return x if x >= 0 else 0                              # Defining RELU Activation Function. \n",
        "# y[i, j] = sum([a*b for a,b in zip(x[i,:], w[j,:])]) + b[j]          # Initializing Matrix Multiplication. "
      ],
      "execution_count": null,
      "outputs": []
    },
    {
      "cell_type": "code",
      "metadata": {
        "colab": {
          "base_uri": "https://localhost:8080/"
        },
        "id": "YYCUMtyJgXza",
        "outputId": "a3d71921-8890-427e-ea60-b88ec5aac4bd"
      },
      "source": [
        "#@ MATRIX MULTIPLICATION FROM SCRATCH: \n",
        "def matmul(a, b):                            # Defining Matrix Multiplication Function. \n",
        "    ar, ac = a.shape                         # Inspecting Shape. \n",
        "    br, bc = b.shape                         # Inspecting Shape. \n",
        "    assert ac == br                          # Asserting Rows and Columns. \n",
        "    c = torch.zeros(ar, bc)                  # Initializing Tensor. \n",
        "    for i in range(ar):                      # Getting Row Indices. \n",
        "        for j in range(bc):                  # Getting Column Indices. \n",
        "            for k in range(ac):              # Getting Inner Sum. \n",
        "                c[i,j] += a[i,k] * b[k,j]    # Getting Matrix Multiplication. \n",
        "    return c\n",
        "\n",
        "#@ IMPLEMENTATION OF MATRIX MULTIPLICATION: \n",
        "m1 = torch.randn(5, 28*28)                   # Initializing Matrix. \n",
        "m2 = torch.randn(784, 10)                    # Initializing Matrix. \n",
        "%time t1 = matmul(m1, m2)                    # Implementation of Matrix Multiplication. \n",
        "%timeit -n 20 t2 = m1@m2                     # Implementation of Matrix Multiplication. "
      ],
      "execution_count": 5,
      "outputs": [
        {
          "output_type": "stream",
          "name": "stdout",
          "text": [
            "CPU times: user 675 ms, sys: 202 µs, total: 675 ms\n",
            "Wall time: 758 ms\n",
            "The slowest run took 148.78 times longer than the fastest. This could mean that an intermediate result is being cached.\n",
            "20 loops, best of 5: 5.92 µs per loop\n"
          ]
        }
      ]
    },
    {
      "cell_type": "code",
      "metadata": {
        "colab": {
          "base_uri": "https://localhost:8080/"
        },
        "id": "CY-ny3EzjFXX",
        "outputId": "ab2ddca9-d8fc-4911-c7f6-097b21897182"
      },
      "source": [
        "#@ ELEMENTWISE ARITHMETIC: \n",
        "a = tensor([10., 6, -4])                     # Initializing a Tensor. \n",
        "b = tensor([2., 8, 7])                       # Initializing a Tensor. \n",
        "a + b                                        # Initializing Elementwise Addition. \n",
        "(a<b).all(), (a==b).all()                    # Combining Elementwise Operations. \n",
        "(a + b).sum().item()                         # Converting Tensors. "
      ],
      "execution_count": 6,
      "outputs": [
        {
          "output_type": "execute_result",
          "data": {
            "text/plain": [
              "29.0"
            ]
          },
          "metadata": {},
          "execution_count": 6
        }
      ]
    },
    {
      "cell_type": "code",
      "metadata": {
        "colab": {
          "base_uri": "https://localhost:8080/"
        },
        "id": "DXImxI3msHT0",
        "outputId": "a34ee723-69b9-4784-ca51-9faefe314bce"
      },
      "source": [
        "#@ MATRIX MULTIPLICATION: SIMPLIFIED: \n",
        "def matmul(a, b):                            # Defining Matrix Multiplication Function. \n",
        "    ar, ac = a.shape                         # Inspecting Shape. \n",
        "    br, bc = b.shape                         # Inspecting Shape. \n",
        "    assert ac == br                          # Asserting Rows and Columns. \n",
        "    c = torch.zeros(ar, bc)                  # Initializing Tensor. \n",
        "    for i in range(ar):                      # Getting Row Indices. \n",
        "        for j in range(bc):                  # Getting Column Indices. \n",
        "            c[i,j] = (a[i] * b[:,j]).sum()\n",
        "    return c\n",
        "\n",
        "#@ IMPLEMENTATION OF MATRIX MULTIPLICATION: \n",
        "m1 = torch.randn(5, 28*28)                   # Initializing Matrix. \n",
        "m2 = torch.randn(784, 10)                    # Initializing Matrix. \n",
        "%time t1 = matmul(m1, m2)                    # Implementation of Matrix Multiplication. "
      ],
      "execution_count": 7,
      "outputs": [
        {
          "output_type": "stream",
          "name": "stdout",
          "text": [
            "CPU times: user 1.39 ms, sys: 74 µs, total: 1.46 ms\n",
            "Wall time: 1.56 ms\n"
          ]
        }
      ]
    },
    {
      "cell_type": "code",
      "metadata": {
        "colab": {
          "base_uri": "https://localhost:8080/"
        },
        "id": "qkxhOb3TtTdJ",
        "outputId": "0ad2ebca-e385-4825-afa3-d9b85c1a159a"
      },
      "source": [
        "#@ BROADCASTING VECTOR TO A MATRIX: \n",
        "c = tensor([10., 20, 30])                    # Initializing a Tensor. \n",
        "m = tensor([[1.,2,3], [4,5,6], [7,8,9]])     # Initializing a Tensor. \n",
        "m.shape, c.shape                             # Inspecting Tensors. "
      ],
      "execution_count": 8,
      "outputs": [
        {
          "output_type": "execute_result",
          "data": {
            "text/plain": [
              "(torch.Size([3, 3]), torch.Size([3]))"
            ]
          },
          "metadata": {},
          "execution_count": 8
        }
      ]
    },
    {
      "cell_type": "code",
      "metadata": {
        "id": "acHR6ETDu4Uc",
        "colab": {
          "base_uri": "https://localhost:8080/"
        },
        "outputId": "2efbfb70-f9cf-494b-ae8a-8bc0ac0c8e6c"
      },
      "source": [
        "#@ IMPLEMENTATION OF BROADCASTING: \n",
        "c = tensor([10., 20, 30])                    # Initializing a Tensor. \n",
        "m = tensor([[1.,2,3], [4,5,6], [7,8,9]])     # Initializing a Tensor. \n",
        "c = c.unsqueeze(1)                           # Adding a Unit Dimension. \n",
        "m.shape, c.shape                             # Inspecting Tensors. "
      ],
      "execution_count": 9,
      "outputs": [
        {
          "output_type": "execute_result",
          "data": {
            "text/plain": [
              "(torch.Size([3, 3]), torch.Size([3, 1]))"
            ]
          },
          "metadata": {},
          "execution_count": 9
        }
      ]
    },
    {
      "cell_type": "code",
      "metadata": {
        "colab": {
          "base_uri": "https://localhost:8080/"
        },
        "id": "Elk0-z5X-XnQ",
        "outputId": "362c9abc-333f-4f0a-8543-31648687153c"
      },
      "source": [
        "#@ MATRIX MULTIPLICATION: SIMPLIFIED: \n",
        "def matmul(a, b):                            # Defining Matrix Multiplication Function. \n",
        "    ar, ac = a.shape                         # Inspecting Shape. \n",
        "    br, bc = b.shape                         # Inspecting Shape. \n",
        "    assert ac == br                          # Asserting Rows and Columns. \n",
        "    c = torch.zeros(ar, bc)                  # Initializing Tensor. \n",
        "    for i in range(ar):                      # Getting Row Indices. \n",
        "        c[i]=(a[i].unsqueeze(-1) * b\n",
        "              ).sum(dim=0)\n",
        "    return c\n",
        "\n",
        "#@ IMPLEMENTATION OF MATRIX MULTIPLICATION: \n",
        "m1 = torch.randn(5, 28*28)                   # Initializing Matrix. \n",
        "m2 = torch.randn(784, 10)                    # Initializing Matrix. \n",
        "%time t1 = matmul(m1, m2)                    # Implementation of Matrix Multiplication. \n",
        "%timeit -n 20 t4 = m1@m2                     # Implementation of Matrix Multiplication. "
      ],
      "execution_count": 10,
      "outputs": [
        {
          "output_type": "stream",
          "name": "stdout",
          "text": [
            "CPU times: user 624 µs, sys: 159 µs, total: 783 µs\n",
            "Wall time: 10.3 ms\n",
            "The slowest run took 12.39 times longer than the fastest. This could mean that an intermediate result is being cached.\n",
            "20 loops, best of 5: 8.72 µs per loop\n"
          ]
        }
      ]
    },
    {
      "cell_type": "markdown",
      "metadata": {
        "id": "EJwFTSqtC_iY"
      },
      "source": [
        "**EINSTEIN SUMMATION**\n",
        "- Einstein Summation is a compact representation for combining products and sums. "
      ]
    },
    {
      "cell_type": "code",
      "metadata": {
        "colab": {
          "base_uri": "https://localhost:8080/"
        },
        "id": "_dUPhMn5_laQ",
        "outputId": "beda81ed-d894-40ea-976f-7fa203d95fb2"
      },
      "source": [
        "#@ EINSTEIN SUMMATION IMPLEMENTATION: \n",
        "def matmul(a, b):                            # Defining Matrix Multiplication Function. \n",
        "    return torch.einsum(\"ik,kj->ij\",a,b)     # Implementation of Einstein Summation. \n",
        "%timeit -n 20 t5 = m1@m2                     # Implementation of Matrix Multiplication. "
      ],
      "execution_count": 11,
      "outputs": [
        {
          "output_type": "stream",
          "name": "stdout",
          "text": [
            "20 loops, best of 5: 5.34 µs per loop\n"
          ]
        }
      ]
    },
    {
      "cell_type": "markdown",
      "metadata": {
        "id": "fKRcwfi0D_72"
      },
      "source": [
        "**FORWARD AND BACKWARD PASSES**\n",
        "- Computing all the gradients of a given loss with respect to its parameters is known as **Backward Pass**. Similarly computing the output of the model on a given input based on the matrix products is known as **Forward Pass**. "
      ]
    },
    {
      "cell_type": "code",
      "metadata": {
        "colab": {
          "base_uri": "https://localhost:8080/"
        },
        "id": "tdwHrYUQDqyz",
        "outputId": "c0ed9975-f444-4036-b73a-6df8d29ac523"
      },
      "source": [
        "#@ DEFINING AND INITIALIZING LAYER: \n",
        "def lin(x, w, b): return x @ w + b                  # Defining Linear Layer. \n",
        "x = torch.randn(200, 100)                           # Initializing Random Input Tensors. \n",
        "y = torch.randn(200)                                # Initializing Random Output Tensors. \n",
        "w1 = torch.randn(100, 50)                           # Initializing Random Weights. \n",
        "b1 = torch.zeros(50)                                # Initializing Random Bias. \n",
        "w2 = torch.randn(50, 1)                             # Initializing Random Weights. \n",
        "b2 = torch.zeros(1)                                 # Initializing Random Bias. \n",
        "\n",
        "#@ IMPLEMENTATION OF LINEAR FUNCTION: \n",
        "l1 = lin(x, w1, b1)                                 # Implementation of Function. \n",
        "l1.shape                                            # Inspecting the Shape. "
      ],
      "execution_count": 12,
      "outputs": [
        {
          "output_type": "execute_result",
          "data": {
            "text/plain": [
              "torch.Size([200, 50])"
            ]
          },
          "metadata": {},
          "execution_count": 12
        }
      ]
    },
    {
      "cell_type": "code",
      "metadata": {
        "colab": {
          "base_uri": "https://localhost:8080/"
        },
        "id": "qFJC1NyH_IFe",
        "outputId": "85b0b94d-6079-4075-8d39-db88fa15313d"
      },
      "source": [
        "#@ INSPECTING MEAN AND STANDARD DEVIATION: \n",
        "l1.mean(), l1.std()"
      ],
      "execution_count": 13,
      "outputs": [
        {
          "output_type": "execute_result",
          "data": {
            "text/plain": [
              "(tensor(-0.0569), tensor(10.1162))"
            ]
          },
          "metadata": {},
          "execution_count": 13
        }
      ]
    },
    {
      "cell_type": "code",
      "metadata": {
        "colab": {
          "base_uri": "https://localhost:8080/"
        },
        "id": "myV0eK0r_Vma",
        "outputId": "b2d4d2ba-7b1c-4cab-8697-7c782d42910c"
      },
      "source": [
        "#@ UNDERSTANDING MATRIX MULTIPLICATIONS: \n",
        "x = torch.randn(200, 100)                            # Initializing Random Numbers. \n",
        "for i in range(50):\n",
        "    x = x @ torch.randn(100, 100)                    # Initializing Matrix Multiplications. \n",
        "x[0:5, 0:5]"
      ],
      "execution_count": 14,
      "outputs": [
        {
          "output_type": "execute_result",
          "data": {
            "text/plain": [
              "tensor([[nan, nan, nan, nan, nan],\n",
              "        [nan, nan, nan, nan, nan],\n",
              "        [nan, nan, nan, nan, nan],\n",
              "        [nan, nan, nan, nan, nan],\n",
              "        [nan, nan, nan, nan, nan]])"
            ]
          },
          "metadata": {},
          "execution_count": 14
        }
      ]
    },
    {
      "cell_type": "code",
      "metadata": {
        "colab": {
          "base_uri": "https://localhost:8080/"
        },
        "id": "wNrC5a1rAU5n",
        "outputId": "ea855b56-d15c-4dde-ccaa-a76fbd68cce4"
      },
      "source": [
        "#@ UNDERSTANDING MATRIX MULTIPLICATIONS: \n",
        "x = torch.randn(200, 100)                            # Initializing Random Numbers. \n",
        "for i in range(50):\n",
        "    x = x @ (torch.randn(100, 100) * 0.01)           # Initializing Matrix Multiplications. \n",
        "x[0:5, 0:5]                                          # Inspection. "
      ],
      "execution_count": 15,
      "outputs": [
        {
          "output_type": "execute_result",
          "data": {
            "text/plain": [
              "tensor([[0., 0., 0., 0., 0.],\n",
              "        [0., 0., 0., 0., 0.],\n",
              "        [0., 0., 0., 0., 0.],\n",
              "        [0., 0., 0., 0., 0.],\n",
              "        [0., 0., 0., 0., 0.]])"
            ]
          },
          "metadata": {},
          "execution_count": 15
        }
      ]
    },
    {
      "cell_type": "code",
      "metadata": {
        "colab": {
          "base_uri": "https://localhost:8080/"
        },
        "id": "zPsXfYvLAw7f",
        "outputId": "eb1066e6-0327-46d4-9e0b-a072dd343f00"
      },
      "source": [
        "#@ UNDERSTANDING MATRIX MULTIPLICATIONS: \n",
        "x = torch.randn(200, 100)                            # Initializing Random Numbers. \n",
        "for i in range(50):\n",
        "    x = x @ (torch.randn(100, 100) * 0.1)            # Initializing Matrix Multiplications. \n",
        "x[0:5, 0:5]                                          # Inspection. "
      ],
      "execution_count": 16,
      "outputs": [
        {
          "output_type": "execute_result",
          "data": {
            "text/plain": [
              "tensor([[ 2.5783e-02,  5.1167e-01,  1.0287e-03,  1.4076e-01, -1.0012e+00],\n",
              "        [ 5.4434e-01,  1.2963e+00,  1.0347e+00,  1.5280e+00, -9.2810e-01],\n",
              "        [-6.0311e-01, -1.0227e+00, -3.7155e-01, -6.7006e-01,  5.1546e-01],\n",
              "        [-1.4638e-01, -7.7870e-01, -4.5685e-01, -9.4609e-01,  4.8461e-01],\n",
              "        [-3.0557e-01, -5.9048e-02, -8.6489e-02, -4.2007e-01, -3.3071e-01]])"
            ]
          },
          "metadata": {},
          "execution_count": 16
        }
      ]
    },
    {
      "cell_type": "code",
      "metadata": {
        "colab": {
          "base_uri": "https://localhost:8080/"
        },
        "id": "1YsTAz_MBSpX",
        "outputId": "e1bb457d-c7af-4394-a2b0-d2240fe66293"
      },
      "source": [
        "#@ IMPLEMENTATION OF XAVIER INITIALIZATION: \n",
        "x = torch.randn(200, 100)                           # Initializing Random Input Tensors. \n",
        "y = torch.randn(200)                                # Initializing Random Output Tensors. \n",
        "w1 = torch.randn(100, 50) / math.sqrt(100)          # Initializing Random Weights. \n",
        "b1 = torch.zeros(50)                                # Initializing Random Bias. \n",
        "w2 = torch.randn(50, 1) / math.sqrt(50)             # Initializing Random Weights. \n",
        "b2 = torch.zeros(1)                                 # Initializing Random Bias. \n",
        "\n",
        "#@ IMPLEMENTATION OF LINEAR FUNCTION: \n",
        "l1 = lin(x, w1, b1)                                 # Implementation of Function. \n",
        "l1.mean(), l1.std()                                 # Inspection. "
      ],
      "execution_count": 17,
      "outputs": [
        {
          "output_type": "execute_result",
          "data": {
            "text/plain": [
              "(tensor(0.0013), tensor(1.0043))"
            ]
          },
          "metadata": {},
          "execution_count": 17
        }
      ]
    },
    {
      "cell_type": "code",
      "metadata": {
        "colab": {
          "base_uri": "https://localhost:8080/"
        },
        "id": "R3kcpDdgDVAh",
        "outputId": "43d599e5-c737-4d46-b1c0-3acbbe39d4d3"
      },
      "source": [
        "#@ IMPLEMENTATION OF RELU ACTIVATION FUNCTION: \n",
        "def relu(x):                                        # Defining Relu Function. \n",
        "    return x.clamp_min(0.)                          # Replacing Negatives with Zeros. \n",
        "l2 = relu(l1)                                       # Implementation of RELU. \n",
        "l2.mean(), l2.std()                                 # Inspection. "
      ],
      "execution_count": 18,
      "outputs": [
        {
          "output_type": "execute_result",
          "data": {
            "text/plain": [
              "(tensor(0.3996), tensor(0.5879))"
            ]
          },
          "metadata": {},
          "execution_count": 18
        }
      ]
    },
    {
      "cell_type": "code",
      "metadata": {
        "colab": {
          "base_uri": "https://localhost:8080/"
        },
        "id": "0dS_SrN-Ew1B",
        "outputId": "52560345-f947-4c33-e5b7-adec9092b578"
      },
      "source": [
        "#@ MATRIX MULTIPLICATIONS AND RELU: \n",
        "x = torch.randn(200, 100)                            # Initializing Random Numbers. \n",
        "for i in range(50):\n",
        "    x = relu(x @ (torch.randn(100, 100) * 0.1))      # Initializing Matrix Multiplications. \n",
        "x[0:5, 0:5]                                          # Inspection. "
      ],
      "execution_count": 19,
      "outputs": [
        {
          "output_type": "execute_result",
          "data": {
            "text/plain": [
              "tensor([[1.3917e-08, 1.9313e-09, 0.0000e+00, 0.0000e+00, 0.0000e+00],\n",
              "        [1.1168e-08, 0.0000e+00, 0.0000e+00, 0.0000e+00, 0.0000e+00],\n",
              "        [2.0183e-08, 1.0267e-09, 0.0000e+00, 0.0000e+00, 0.0000e+00],\n",
              "        [2.0421e-08, 9.1188e-10, 0.0000e+00, 0.0000e+00, 0.0000e+00],\n",
              "        [1.1986e-08, 1.4588e-09, 0.0000e+00, 0.0000e+00, 0.0000e+00]])"
            ]
          },
          "metadata": {},
          "execution_count": 19
        }
      ]
    },
    {
      "cell_type": "code",
      "metadata": {
        "colab": {
          "base_uri": "https://localhost:8080/"
        },
        "id": "_5jC9JL9FHEM",
        "outputId": "017f6130-2425-44f8-cf1f-dbcde46e77d8"
      },
      "source": [
        "#@ MATRIX MULTIPLICATIONS AND RELU: \n",
        "x = torch.randn(200, 100)                            # Initializing Random Numbers. \n",
        "for i in range(50):\n",
        "    x = relu(x @ (torch.randn(100, 100) * \n",
        "                  math.sqrt(2/100)))                 # Initializing Matrix Multiplications. \n",
        "x[0:5, 0:5]                                          # Inspection. "
      ],
      "execution_count": 20,
      "outputs": [
        {
          "output_type": "execute_result",
          "data": {
            "text/plain": [
              "tensor([[0.4409, 0.0000, 0.0000, 0.0000, 0.0000],\n",
              "        [1.7408, 0.0000, 0.0000, 0.4863, 0.1915],\n",
              "        [1.0620, 0.0000, 0.0000, 0.0000, 0.0000],\n",
              "        [0.7964, 0.0000, 0.0000, 0.0000, 0.0000],\n",
              "        [0.3552, 0.0000, 0.0000, 0.0000, 0.0000]])"
            ]
          },
          "metadata": {},
          "execution_count": 20
        }
      ]
    },
    {
      "cell_type": "code",
      "metadata": {
        "id": "kTLvXyEYF_en"
      },
      "source": [
        ""
      ],
      "execution_count": null,
      "outputs": []
    }
  ]
}