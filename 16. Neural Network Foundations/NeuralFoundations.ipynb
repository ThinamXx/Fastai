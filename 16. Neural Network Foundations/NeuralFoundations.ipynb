{
  "nbformat": 4,
  "nbformat_minor": 0,
  "metadata": {
    "colab": {
      "name": "NeuralFoundations.ipynb",
      "provenance": [],
      "collapsed_sections": []
    },
    "kernelspec": {
      "name": "python3",
      "display_name": "Python 3"
    },
    "language_info": {
      "name": "python"
    },
    "accelerator": "GPU"
  },
  "cells": [
    {
      "cell_type": "markdown",
      "metadata": {
        "id": "HlHj7lUPa187"
      },
      "source": [
        "**INITIALIZATION**\n",
        "- I use these three lines of code on top of my each notebooks because it will help to prevent any problems while reloading the same project. And the third line of code helps to make visualization within the notebook."
      ]
    },
    {
      "cell_type": "code",
      "metadata": {
        "id": "taFeJgiOafpU"
      },
      "source": [
        "#@ INITIALIZATION: \n",
        "%reload_ext autoreload\n",
        "%autoreload 2\n",
        "%matplotlib inline"
      ],
      "execution_count": 1,
      "outputs": []
    },
    {
      "cell_type": "markdown",
      "metadata": {
        "id": "DxH0FCEga_zV"
      },
      "source": [
        "**LIBRARIES AND DEPENDENCIES**\n",
        "- I have downloaded all the libraries and dependencies required for the project in one particular cell."
      ]
    },
    {
      "cell_type": "code",
      "metadata": {
        "id": "t4v7GAR2a-IJ"
      },
      "source": [
        "#@ INSTALLING DEPENDENCIES: UNCOMMENT BELOW: \n",
        "# !pip install -Uqq fastbook\n",
        "# import fastbook\n",
        "# fastbook.setup_book()"
      ],
      "execution_count": 3,
      "outputs": []
    },
    {
      "cell_type": "code",
      "metadata": {
        "id": "xk9RqKhcbJor"
      },
      "source": [
        "#@ DOWNLOADING LIBRARIES AND DEPENDENCIES: \n",
        "from fastbook import *                                  # Getting all the Libraries. \n",
        "from fastai.callback.fp16 import *"
      ],
      "execution_count": 4,
      "outputs": []
    },
    {
      "cell_type": "markdown",
      "metadata": {
        "id": "zi-60nNpbv1b"
      },
      "source": [
        "**MODELING NEURON**"
      ]
    },
    {
      "cell_type": "code",
      "metadata": {
        "id": "4urwjTeBbeHB"
      },
      "source": [
        "#@ MODELING NEURON FROM SCRATCH: UNCOMMENT BELOW: \n",
        "# output = sum([x*w for x,w in zip(inputs, weights)]) + bias          # Adding Weighted Inputs and Bias. \n",
        "# def relu(x): return x if x >= 0 else 0                              # Defining RELU Activation Function. \n",
        "# y[i, j] = sum([a*b for a,b in zip(x[i,:], w[j,:])]) + b[j]          # Initializing Matrix Multiplication. "
      ],
      "execution_count": null,
      "outputs": []
    },
    {
      "cell_type": "code",
      "metadata": {
        "colab": {
          "base_uri": "https://localhost:8080/"
        },
        "id": "YYCUMtyJgXza",
        "outputId": "7cd7f509-b2d7-4cdd-aa09-ef4b38c8b4b9"
      },
      "source": [
        "#@ MATRIX MULTIPLICATION FROM SCRATCH: \n",
        "def matmul(a, b):                            # Defining Matrix Multiplication Function. \n",
        "    ar, ac = a.shape                         # Inspecting Shape. \n",
        "    br, bc = b.shape                         # Inspecting Shape. \n",
        "    assert ac == br                          # Asserting Rows and Columns. \n",
        "    c = torch.zeros(ar, bc)                  # Initializing Tensor. \n",
        "    for i in range(ar):                      # Getting Row Indices. \n",
        "        for j in range(bc):                  # Getting Column Indices. \n",
        "            for k in range(ac):              # Getting Inner Sum. \n",
        "                c[i,j] += a[i,k] * b[k,j]    # Getting Matrix Multiplication. \n",
        "    return c\n",
        "\n",
        "#@ IMPLEMENTATION OF MATRIX MULTIPLICATION: \n",
        "m1 = torch.randn(5, 28*28)                   # Initializing Matrix. \n",
        "m2 = torch.randn(784, 10)                    # Initializing Matrix. \n",
        "%time t1 = matmul(m1, m2)                    # Implementation of Matrix Multiplication. \n",
        "%timeit -n 20 t2 = m1@m2                     # Implementation of Matrix Multiplication. "
      ],
      "execution_count": 5,
      "outputs": [
        {
          "output_type": "stream",
          "name": "stdout",
          "text": [
            "CPU times: user 652 ms, sys: 0 ns, total: 652 ms\n",
            "Wall time: 713 ms\n",
            "The slowest run took 171.59 times longer than the fastest. This could mean that an intermediate result is being cached.\n",
            "20 loops, best of 5: 5.61 µs per loop\n"
          ]
        }
      ]
    },
    {
      "cell_type": "code",
      "metadata": {
        "colab": {
          "base_uri": "https://localhost:8080/"
        },
        "id": "CY-ny3EzjFXX",
        "outputId": "c5d74b85-733f-4345-b4cc-43de71eed077"
      },
      "source": [
        "#@ ELEMENTWISE ARITHMETIC: \n",
        "a = tensor([10., 6, -4])                     # Initializing a Tensor. \n",
        "b = tensor([2., 8, 7])                       # Initializing a Tensor. \n",
        "a + b                                        # Initializing Elementwise Addition. \n",
        "(a<b).all(), (a==b).all()                    # Combining Elementwise Operations. \n",
        "(a + b).sum().item()                         # Converting Tensors. "
      ],
      "execution_count": 6,
      "outputs": [
        {
          "output_type": "execute_result",
          "data": {
            "text/plain": [
              "29.0"
            ]
          },
          "metadata": {},
          "execution_count": 6
        }
      ]
    },
    {
      "cell_type": "code",
      "metadata": {
        "colab": {
          "base_uri": "https://localhost:8080/"
        },
        "id": "DXImxI3msHT0",
        "outputId": "a6aa39c8-aed6-4a3b-e4fd-915b314f416a"
      },
      "source": [
        "#@ MATRIX MULTIPLICATION: SIMPLIFIED: \n",
        "def matmul(a, b):                            # Defining Matrix Multiplication Function. \n",
        "    ar, ac = a.shape                         # Inspecting Shape. \n",
        "    br, bc = b.shape                         # Inspecting Shape. \n",
        "    assert ac == br                          # Asserting Rows and Columns. \n",
        "    c = torch.zeros(ar, bc)                  # Initializing Tensor. \n",
        "    for i in range(ar):                      # Getting Row Indices. \n",
        "        for j in range(bc):                  # Getting Column Indices. \n",
        "            c[i,j] = (a[i] * b[:,j]).sum()\n",
        "    return c\n",
        "\n",
        "#@ IMPLEMENTATION OF MATRIX MULTIPLICATION: \n",
        "m1 = torch.randn(5, 28*28)                   # Initializing Matrix. \n",
        "m2 = torch.randn(784, 10)                    # Initializing Matrix. \n",
        "%time t1 = matmul(m1, m2)                    # Implementation of Matrix Multiplication. "
      ],
      "execution_count": 7,
      "outputs": [
        {
          "output_type": "stream",
          "name": "stdout",
          "text": [
            "CPU times: user 1.29 ms, sys: 53 µs, total: 1.34 ms\n",
            "Wall time: 1.46 ms\n"
          ]
        }
      ]
    },
    {
      "cell_type": "code",
      "metadata": {
        "colab": {
          "base_uri": "https://localhost:8080/"
        },
        "id": "qkxhOb3TtTdJ",
        "outputId": "e395d2a5-47f2-48bf-c183-0a4e206277ba"
      },
      "source": [
        "#@ BROADCASTING VECTOR TO A MATRIX: \n",
        "c = tensor([10., 20, 30])                    # Initializing a Tensor. \n",
        "m = tensor([[1.,2,3], [4,5,6], [7,8,9]])     # Initializing a Tensor. \n",
        "m.shape, c.shape                             # Inspecting Tensors. "
      ],
      "execution_count": 8,
      "outputs": [
        {
          "output_type": "execute_result",
          "data": {
            "text/plain": [
              "(torch.Size([3, 3]), torch.Size([3]))"
            ]
          },
          "metadata": {},
          "execution_count": 8
        }
      ]
    },
    {
      "cell_type": "code",
      "metadata": {
        "id": "acHR6ETDu4Uc",
        "colab": {
          "base_uri": "https://localhost:8080/"
        },
        "outputId": "0b179ce8-a852-4756-eef3-80de4c813482"
      },
      "source": [
        "#@ IMPLEMENTATION OF BROADCASTING: \n",
        "c = tensor([10., 20, 30])                    # Initializing a Tensor. \n",
        "m = tensor([[1.,2,3], [4,5,6], [7,8,9]])     # Initializing a Tensor. \n",
        "c = c.unsqueeze(1)                           # Adding a Unit Dimension. \n",
        "m.shape, c.shape                             # Inspecting Tensors. "
      ],
      "execution_count": 9,
      "outputs": [
        {
          "output_type": "execute_result",
          "data": {
            "text/plain": [
              "(torch.Size([3, 3]), torch.Size([3, 1]))"
            ]
          },
          "metadata": {},
          "execution_count": 9
        }
      ]
    },
    {
      "cell_type": "code",
      "metadata": {
        "colab": {
          "base_uri": "https://localhost:8080/"
        },
        "id": "Elk0-z5X-XnQ",
        "outputId": "e01ade18-2bca-422a-b197-a84d5daadc11"
      },
      "source": [
        "#@ MATRIX MULTIPLICATION: SIMPLIFIED: \n",
        "def matmul(a, b):                            # Defining Matrix Multiplication Function. \n",
        "    ar, ac = a.shape                         # Inspecting Shape. \n",
        "    br, bc = b.shape                         # Inspecting Shape. \n",
        "    assert ac == br                          # Asserting Rows and Columns. \n",
        "    c = torch.zeros(ar, bc)                  # Initializing Tensor. \n",
        "    for i in range(ar):                      # Getting Row Indices. \n",
        "        c[i]=(a[i].unsqueeze(-1) * b\n",
        "              ).sum(dim=0)\n",
        "    return c\n",
        "\n",
        "#@ IMPLEMENTATION OF MATRIX MULTIPLICATION: \n",
        "m1 = torch.randn(5, 28*28)                   # Initializing Matrix. \n",
        "m2 = torch.randn(784, 10)                    # Initializing Matrix. \n",
        "%time t1 = matmul(m1, m2)                    # Implementation of Matrix Multiplication. \n",
        "%timeit -n 20 t4 = m1@m2                     # Implementation of Matrix Multiplication. "
      ],
      "execution_count": 10,
      "outputs": [
        {
          "output_type": "stream",
          "name": "stdout",
          "text": [
            "CPU times: user 2.72 ms, sys: 178 µs, total: 2.9 ms\n",
            "Wall time: 10.7 ms\n",
            "20 loops, best of 5: 11.6 µs per loop\n"
          ]
        }
      ]
    },
    {
      "cell_type": "markdown",
      "metadata": {
        "id": "EJwFTSqtC_iY"
      },
      "source": [
        "**EINSTEIN SUMMATION**\n",
        "- Einstein Summation is a compact representation for combining products and sums. "
      ]
    },
    {
      "cell_type": "code",
      "metadata": {
        "colab": {
          "base_uri": "https://localhost:8080/"
        },
        "id": "_dUPhMn5_laQ",
        "outputId": "84550bed-b467-452f-8dd6-6ee42b1d1104"
      },
      "source": [
        "#@ EINSTEIN SUMMATION IMPLEMENTATION: \n",
        "def matmul(a, b):                            # Defining Matrix Multiplication Function. \n",
        "    return torch.einsum(\"ik,kj->ij\",a,b)     # Implementation of Einstein Summation. \n",
        "%timeit -n 20 t5 = m1@m2                     # Implementation of Matrix Multiplication. "
      ],
      "execution_count": 11,
      "outputs": [
        {
          "output_type": "stream",
          "name": "stdout",
          "text": [
            "The slowest run took 4.72 times longer than the fastest. This could mean that an intermediate result is being cached.\n",
            "20 loops, best of 5: 5.44 µs per loop\n"
          ]
        }
      ]
    },
    {
      "cell_type": "markdown",
      "metadata": {
        "id": "fKRcwfi0D_72"
      },
      "source": [
        "**FORWARD AND BACKWARD PASSES**\n",
        "- Computing all the gradients of a given loss with respect to its parameters is known as **Backward Pass**. Similarly computing the output of the model on a given input based on the matrix products is known as **Forward Pass**. "
      ]
    },
    {
      "cell_type": "code",
      "metadata": {
        "colab": {
          "base_uri": "https://localhost:8080/"
        },
        "id": "tdwHrYUQDqyz",
        "outputId": "9de21a9e-2c83-4928-97c2-199c8a62cda2"
      },
      "source": [
        "#@ DEFINING AND INITIALIZING LAYER: \n",
        "def lin(x, w, b): return x @ w + b                  # Defining Linear Layer. \n",
        "x = torch.randn(200, 100)                           # Initializing Random Input Tensors. \n",
        "y = torch.randn(200)                                # Initializing Random Output Tensors. \n",
        "w1 = torch.randn(100, 50)                           # Initializing Random Weights. \n",
        "b1 = torch.zeros(50)                                # Initializing Random Bias. \n",
        "w2 = torch.randn(50, 1)                             # Initializing Random Weights. \n",
        "b2 = torch.zeros(1)                                 # Initializing Random Bias. \n",
        "\n",
        "#@ IMPLEMENTATION OF LINEAR FUNCTION: \n",
        "l1 = lin(x, w1, b1)                                 # Implementation of Function. \n",
        "l1.shape                                            # Inspecting the Shape. "
      ],
      "execution_count": 12,
      "outputs": [
        {
          "output_type": "execute_result",
          "data": {
            "text/plain": [
              "torch.Size([200, 50])"
            ]
          },
          "metadata": {},
          "execution_count": 12
        }
      ]
    },
    {
      "cell_type": "code",
      "metadata": {
        "colab": {
          "base_uri": "https://localhost:8080/"
        },
        "id": "qFJC1NyH_IFe",
        "outputId": "fb7855c3-44e5-4b7f-8008-2af76f4b9cf3"
      },
      "source": [
        "#@ INSPECTING MEAN AND STANDARD DEVIATION: \n",
        "l1.mean(), l1.std()"
      ],
      "execution_count": 13,
      "outputs": [
        {
          "output_type": "execute_result",
          "data": {
            "text/plain": [
              "(tensor(-0.0569), tensor(10.1162))"
            ]
          },
          "metadata": {},
          "execution_count": 13
        }
      ]
    },
    {
      "cell_type": "code",
      "metadata": {
        "colab": {
          "base_uri": "https://localhost:8080/"
        },
        "id": "myV0eK0r_Vma",
        "outputId": "b734f86e-c6d5-462b-f0f1-29dcc258c27d"
      },
      "source": [
        "#@ UNDERSTANDING MATRIX MULTIPLICATIONS: \n",
        "x = torch.randn(200, 100)                            # Initializing Random Numbers. \n",
        "for i in range(50):\n",
        "    x = x @ torch.randn(100, 100)                    # Initializing Matrix Multiplications. \n",
        "x[0:5, 0:5]"
      ],
      "execution_count": 14,
      "outputs": [
        {
          "output_type": "execute_result",
          "data": {
            "text/plain": [
              "tensor([[nan, nan, nan, nan, nan],\n",
              "        [nan, nan, nan, nan, nan],\n",
              "        [nan, nan, nan, nan, nan],\n",
              "        [nan, nan, nan, nan, nan],\n",
              "        [nan, nan, nan, nan, nan]])"
            ]
          },
          "metadata": {},
          "execution_count": 14
        }
      ]
    },
    {
      "cell_type": "code",
      "metadata": {
        "colab": {
          "base_uri": "https://localhost:8080/"
        },
        "id": "wNrC5a1rAU5n",
        "outputId": "2bbadaf7-4bdf-4135-9eb4-27a05c99fcc9"
      },
      "source": [
        "#@ UNDERSTANDING MATRIX MULTIPLICATIONS: \n",
        "x = torch.randn(200, 100)                            # Initializing Random Numbers. \n",
        "for i in range(50):\n",
        "    x = x @ (torch.randn(100, 100) * 0.01)           # Initializing Matrix Multiplications. \n",
        "x[0:5, 0:5]                                          # Inspection. "
      ],
      "execution_count": 15,
      "outputs": [
        {
          "output_type": "execute_result",
          "data": {
            "text/plain": [
              "tensor([[0., 0., 0., 0., 0.],\n",
              "        [0., 0., 0., 0., 0.],\n",
              "        [0., 0., 0., 0., 0.],\n",
              "        [0., 0., 0., 0., 0.],\n",
              "        [0., 0., 0., 0., 0.]])"
            ]
          },
          "metadata": {},
          "execution_count": 15
        }
      ]
    },
    {
      "cell_type": "code",
      "metadata": {
        "colab": {
          "base_uri": "https://localhost:8080/"
        },
        "id": "zPsXfYvLAw7f",
        "outputId": "a761c527-e2c5-4f25-b9a7-97b26d9d9b20"
      },
      "source": [
        "#@ UNDERSTANDING MATRIX MULTIPLICATIONS: \n",
        "x = torch.randn(200, 100)                            # Initializing Random Numbers. \n",
        "for i in range(50):\n",
        "    x = x @ (torch.randn(100, 100) * 0.1)            # Initializing Matrix Multiplications. \n",
        "x[0:5, 0:5]                                          # Inspection. "
      ],
      "execution_count": 16,
      "outputs": [
        {
          "output_type": "execute_result",
          "data": {
            "text/plain": [
              "tensor([[ 2.5783e-02,  5.1167e-01,  1.0287e-03,  1.4076e-01, -1.0012e+00],\n",
              "        [ 5.4434e-01,  1.2963e+00,  1.0347e+00,  1.5280e+00, -9.2810e-01],\n",
              "        [-6.0311e-01, -1.0227e+00, -3.7155e-01, -6.7006e-01,  5.1546e-01],\n",
              "        [-1.4638e-01, -7.7870e-01, -4.5685e-01, -9.4609e-01,  4.8461e-01],\n",
              "        [-3.0557e-01, -5.9048e-02, -8.6489e-02, -4.2007e-01, -3.3071e-01]])"
            ]
          },
          "metadata": {},
          "execution_count": 16
        }
      ]
    },
    {
      "cell_type": "code",
      "metadata": {
        "colab": {
          "base_uri": "https://localhost:8080/"
        },
        "id": "1YsTAz_MBSpX",
        "outputId": "83072617-38e0-41c5-cc5a-73b604318825"
      },
      "source": [
        "#@ IMPLEMENTATION OF XAVIER INITIALIZATION: \n",
        "x = torch.randn(200, 100)                           # Initializing Random Input Tensors. \n",
        "y = torch.randn(200)                                # Initializing Random Output Tensors. \n",
        "w1 = torch.randn(100, 50) / math.sqrt(100)          # Initializing Random Weights. \n",
        "b1 = torch.zeros(50)                                # Initializing Random Bias. \n",
        "w2 = torch.randn(50, 1) / math.sqrt(50)             # Initializing Random Weights. \n",
        "b2 = torch.zeros(1)                                 # Initializing Random Bias. \n",
        "\n",
        "#@ IMPLEMENTATION OF LINEAR FUNCTION: \n",
        "l1 = lin(x, w1, b1)                                 # Implementation of Function. \n",
        "l1.mean(), l1.std()                                 # Inspection. "
      ],
      "execution_count": 17,
      "outputs": [
        {
          "output_type": "execute_result",
          "data": {
            "text/plain": [
              "(tensor(0.0013), tensor(1.0043))"
            ]
          },
          "metadata": {},
          "execution_count": 17
        }
      ]
    },
    {
      "cell_type": "code",
      "metadata": {
        "colab": {
          "base_uri": "https://localhost:8080/"
        },
        "id": "R3kcpDdgDVAh",
        "outputId": "55b080e3-50e5-4076-d0ad-a86d687ecda5"
      },
      "source": [
        "#@ IMPLEMENTATION OF RELU ACTIVATION FUNCTION: \n",
        "def relu(x):                                        # Defining Relu Function. \n",
        "    return x.clamp_min(0.)                          # Replacing Negatives with Zeros. \n",
        "l2 = relu(l1)                                       # Implementation of RELU. \n",
        "l2.mean(), l2.std()                                 # Inspection. "
      ],
      "execution_count": 18,
      "outputs": [
        {
          "output_type": "execute_result",
          "data": {
            "text/plain": [
              "(tensor(0.3996), tensor(0.5879))"
            ]
          },
          "metadata": {},
          "execution_count": 18
        }
      ]
    },
    {
      "cell_type": "code",
      "metadata": {
        "colab": {
          "base_uri": "https://localhost:8080/"
        },
        "id": "0dS_SrN-Ew1B",
        "outputId": "3d5ab4d1-c0ad-4274-8684-ad1e9e445227"
      },
      "source": [
        "#@ MATRIX MULTIPLICATIONS AND RELU: \n",
        "x = torch.randn(200, 100)                            # Initializing Random Numbers. \n",
        "for i in range(50):\n",
        "    x = relu(x @ (torch.randn(100, 100) * 0.1))      # Initializing Matrix Multiplications. \n",
        "x[0:5, 0:5]                                          # Inspection. "
      ],
      "execution_count": 19,
      "outputs": [
        {
          "output_type": "execute_result",
          "data": {
            "text/plain": [
              "tensor([[1.3917e-08, 1.9313e-09, 0.0000e+00, 0.0000e+00, 0.0000e+00],\n",
              "        [1.1168e-08, 0.0000e+00, 0.0000e+00, 0.0000e+00, 0.0000e+00],\n",
              "        [2.0183e-08, 1.0267e-09, 0.0000e+00, 0.0000e+00, 0.0000e+00],\n",
              "        [2.0421e-08, 9.1188e-10, 0.0000e+00, 0.0000e+00, 0.0000e+00],\n",
              "        [1.1986e-08, 1.4588e-09, 0.0000e+00, 0.0000e+00, 0.0000e+00]])"
            ]
          },
          "metadata": {},
          "execution_count": 19
        }
      ]
    },
    {
      "cell_type": "code",
      "metadata": {
        "colab": {
          "base_uri": "https://localhost:8080/"
        },
        "id": "_5jC9JL9FHEM",
        "outputId": "92628516-9582-4d39-8484-5ae4c5dfe6e7"
      },
      "source": [
        "#@ MATRIX MULTIPLICATIONS AND RELU: \n",
        "x = torch.randn(200, 100)                            # Initializing Random Numbers. \n",
        "for i in range(50):\n",
        "    x = relu(x @ (torch.randn(100, 100) * \n",
        "                  math.sqrt(2/100)))                 # Initializing Matrix Multiplications. \n",
        "x[0:5, 0:5]                                          # Inspection. "
      ],
      "execution_count": 20,
      "outputs": [
        {
          "output_type": "execute_result",
          "data": {
            "text/plain": [
              "tensor([[0.4409, 0.0000, 0.0000, 0.0000, 0.0000],\n",
              "        [1.7408, 0.0000, 0.0000, 0.4863, 0.1915],\n",
              "        [1.0620, 0.0000, 0.0000, 0.0000, 0.0000],\n",
              "        [0.7964, 0.0000, 0.0000, 0.0000, 0.0000],\n",
              "        [0.3552, 0.0000, 0.0000, 0.0000, 0.0000]])"
            ]
          },
          "metadata": {},
          "execution_count": 20
        }
      ]
    },
    {
      "cell_type": "code",
      "metadata": {
        "colab": {
          "base_uri": "https://localhost:8080/"
        },
        "id": "4bdP5IjeDF_y",
        "outputId": "e3e22095-f701-4468-f3c4-8f876e106445"
      },
      "source": [
        "#@ IMPLEMENTATION OF KAIMING INITILIZATION: \n",
        "x = torch.randn(200, 100)                             # Initializing Random Input Tensors.\n",
        "y = torch.randn(200)                                  # Initializing Random Output Tensors.\n",
        "w1 = torch.randn(100, 50) * math.sqrt(2/100)          # Initializing Weight Tensors. \n",
        "b1 = torch.zeros(50)                                  # Initializing Bias. \n",
        "w2 = torch.rand(50, 1) * math.sqrt(2/50)              # Initializing Weight Tensors. \n",
        "b2 = torch.zeros(1)                                   # Initializing Bias. \n",
        "\n",
        "#@ IMPLEMENTATION OF LINEAR LAYER AND RELU: \n",
        "l1 = lin(x, w1, b1)                                   # Implementation of Linear Function. \n",
        "l2 = relu(l1)                                         # Implementation of RELU. \n",
        "l2.mean(), l2.std()                                   # Inspection. "
      ],
      "execution_count": 21,
      "outputs": [
        {
          "output_type": "execute_result",
          "data": {
            "text/plain": [
              "(tensor(0.5623), tensor(0.8257))"
            ]
          },
          "metadata": {},
          "execution_count": 21
        }
      ]
    },
    {
      "cell_type": "code",
      "metadata": {
        "colab": {
          "base_uri": "https://localhost:8080/"
        },
        "id": "zqsAoiwfFBbx",
        "outputId": "2ff8a047-4027-4b0b-8175-7530970b6f09"
      },
      "source": [
        "#@ DEFINING MODEL: \n",
        "def model(x):                                         # Defining Model Function. \n",
        "    l1 = lin(x, w1, b1)                               # Implementation of Linear Function. \n",
        "    l2 = relu(l1)                                     # Implementation of RELU Function. \n",
        "    l3 = lin(l2, w2, b2)                              # Implementation of Linear Function. \n",
        "    return l3\n",
        "\n",
        "#@ IMPLEMENTATION OF MODEL: \n",
        "out = model(x)                                        # Initializing the Model. \n",
        "out.shape                                             # Inspection. "
      ],
      "execution_count": 22,
      "outputs": [
        {
          "output_type": "execute_result",
          "data": {
            "text/plain": [
              "torch.Size([200, 1])"
            ]
          },
          "metadata": {},
          "execution_count": 22
        }
      ]
    },
    {
      "cell_type": "code",
      "metadata": {
        "id": "CkbtFm71GJ9C"
      },
      "source": [
        "#@ DEFINING LOSS FUNCTION: \n",
        "def mse(output, targ):                                # Defining Loss Function. \n",
        "    return (output.squeeze(-1)-targ).pow(2).mean()    # Initializing Mean Squared Error. \n",
        "loss = mse(out, y)                                    # Inspecting Loss. "
      ],
      "execution_count": 23,
      "outputs": []
    },
    {
      "cell_type": "code",
      "metadata": {
        "id": "QRNluxaAG31R"
      },
      "source": [
        "#@ GRADIENT OF LOSS FUNCTION: \n",
        "def mse_grad(inp, targ):                              # Defining Gradient Function. \n",
        "    inp.g = 2. * (inp.squeeze() - targ\n",
        "                  ).unsqueeze(-1) / inp.shape[0]      # Calculating Gradients of Loss. \n",
        "\n",
        "#@ GRADIENT OF RELU ACTIVATION FUNCTION: \n",
        "def relu_grad(inp, out):                              # Defining Gradient Function. \n",
        "    inp.g = (inp>0).float() * out.g                   # Calculating Gradients. "
      ],
      "execution_count": 24,
      "outputs": []
    },
    {
      "cell_type": "code",
      "metadata": {
        "id": "SNdw-EsqPvk8"
      },
      "source": [
        ""
      ],
      "execution_count": null,
      "outputs": []
    }
  ]
}