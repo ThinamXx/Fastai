{
  "nbformat": 4,
  "nbformat_minor": 0,
  "metadata": {
    "colab": {
      "name": "DataMunging.ipynb",
      "provenance": [],
      "collapsed_sections": []
    },
    "kernelspec": {
      "name": "python3",
      "display_name": "Python 3"
    },
    "language_info": {
      "name": "python"
    },
    "accelerator": "GPU"
  },
  "cells": [
    {
      "cell_type": "markdown",
      "metadata": {
        "id": "1-0tWpNcs7m_"
      },
      "source": [
        "### **INITIALIZATION:**\n",
        "- I use these three lines of code on top of my each notebooks because it will help to prevent any problems while reloading the same project. And the third line of code helps to make visualization within the notebook."
      ]
    },
    {
      "cell_type": "code",
      "metadata": {
        "id": "4FV6bH90qL9D"
      },
      "source": [
        "#@ INITIALIZATION: \n",
        "%reload_ext autoreload\n",
        "%autoreload 2\n",
        "%matplotlib inline"
      ],
      "execution_count": 1,
      "outputs": []
    },
    {
      "cell_type": "markdown",
      "metadata": {
        "id": "yKx9fiP8tHfD"
      },
      "source": [
        "**LIBRARIES AND DEPENDENCIES:**\n",
        "- I have downloaded all the libraries and dependencies required for the project in one particular cell."
      ]
    },
    {
      "cell_type": "code",
      "metadata": {
        "id": "OWKAFSdntFe7"
      },
      "source": [
        "#@ INSTALLING DEPENDENCIES: UNCOMMENT BELOW: \n",
        "# !pip install -Uqq fastbook\n",
        "# import fastbook\n",
        "# fastbook.setup_book()"
      ],
      "execution_count": 3,
      "outputs": []
    },
    {
      "cell_type": "code",
      "metadata": {
        "id": "6j5dB4xTtTjY"
      },
      "source": [
        "#@ DOWNLOADING LIBRARIES AND DEPENDENCIES: \n",
        "from fastbook import *                              # Getting all the Libraries. \n",
        "from fastai.callback.fp16 import *\n",
        "from fastai.text.all import *                       # Getting all the Libraries."
      ],
      "execution_count": 4,
      "outputs": []
    },
    {
      "cell_type": "markdown",
      "metadata": {
        "id": "RdI1DPNItlE7"
      },
      "source": [
        "**GETTING THE DATASET:**\n",
        "- I will get the **IMDB Dataset** here."
      ]
    },
    {
      "cell_type": "code",
      "metadata": {
        "colab": {
          "base_uri": "https://localhost:8080/"
        },
        "id": "crsH86IetgZC",
        "outputId": "e6e0020d-69b0-4ce8-b609-7fd0ebfc0a99"
      },
      "source": [
        "#@ GETTING THE DATASET: \n",
        "path = untar_data(URLs.IMDB)                       # Getting Path to the Dataset. \n",
        "path.ls()                                          # Inspecting the Path."
      ],
      "execution_count": 6,
      "outputs": [
        {
          "output_type": "execute_result",
          "data": {
            "text/plain": [
              "(#7) [Path('/root/.fastai/data/imdb/train'),Path('/root/.fastai/data/imdb/imdb.vocab'),Path('/root/.fastai/data/imdb/unsup'),Path('/root/.fastai/data/imdb/tmp_lm'),Path('/root/.fastai/data/imdb/tmp_clas'),Path('/root/.fastai/data/imdb/README'),Path('/root/.fastai/data/imdb/test')]"
            ]
          },
          "metadata": {
            "tags": []
          },
          "execution_count": 6
        }
      ]
    },
    {
      "cell_type": "markdown",
      "metadata": {
        "id": "97bA20kFvEHi"
      },
      "source": [
        "### **DATABLOCK AND DATALOADERS:**"
      ]
    },
    {
      "cell_type": "code",
      "metadata": {
        "colab": {
          "base_uri": "https://localhost:8080/",
          "height": 17
        },
        "id": "qa38Cwr0twFI",
        "outputId": "ef3ce0b6-2484-4f8e-90bd-d7c1c04da4cf"
      },
      "source": [
        "#@ CREATING THE DATALOADERS: IMDB FORMAT DATASET: \n",
        "dls = TextDataLoaders.from_folder(path, valid=\"test\")                       # Initializing DataLoaders. "
      ],
      "execution_count": 7,
      "outputs": [
        {
          "output_type": "display_data",
          "data": {
            "text/html": [
              ""
            ],
            "text/plain": [
              "<IPython.core.display.HTML object>"
            ]
          },
          "metadata": {
            "tags": []
          }
        }
      ]
    },
    {
      "cell_type": "code",
      "metadata": {
        "id": "3By-N4EyvO0f"
      },
      "source": [
        "#@ CREATING THE DATALOADERS: \n",
        "path = untar_data(URLs.IMDB)                                                # Path to the Dataset. \n",
        "dls = DataBlock(blocks=(TextBlock.from_folder(path), CategoryBlock),        # Initializing Text Block. \n",
        "                get_y=parent_label,                                         # Getting Labels. \n",
        "                get_items=partial(get_text_files,folders=[\"train\",\"test\"]), # Getting Text Files. \n",
        "                splitter=GrandparentSplitter(valid_name=\"test\")             # Splitting the Data. \n",
        "                ).dataloaders(path)                                         # Initializing Data Loaders. "
      ],
      "execution_count": 8,
      "outputs": []
    },
    {
      "cell_type": "markdown",
      "metadata": {
        "id": "vJ-_swMqzNkg"
      },
      "source": [
        "**TRANSFORMS:**"
      ]
    },
    {
      "cell_type": "code",
      "metadata": {
        "id": "thREusMJxNrs"
      },
      "source": [
        "#@ GETTING THE TEXT DATA: \n",
        "files = get_text_files(path, folders=[\"train\", \"test\"])                     # Getting Text Files. \n",
        "txts = L(o.open().read() for o in files[:2000])                             # Getting List of Texts. "
      ],
      "execution_count": 9,
      "outputs": []
    },
    {
      "cell_type": "code",
      "metadata": {
        "colab": {
          "base_uri": "https://localhost:8080/"
        },
        "id": "bcgjdls_0Fyd",
        "outputId": "a53a5fd1-2df0-4e3a-9d8f-ddbdb1de2db6"
      },
      "source": [
        "#@ INITIALIZING TOKENIZATION: \n",
        "tok = Tokenizer.from_folder(path)                                           # Initializing Tokenizer. \n",
        "tok.setup(txts)                                                             # Getting Tokens. \n",
        "toks = txts.map(tok)                                                        # Getting Tokens. \n",
        "toks[0]                                                                     # Inspecting Tokens. "
      ],
      "execution_count": 10,
      "outputs": [
        {
          "output_type": "execute_result",
          "data": {
            "text/plain": [
              "(#78) ['xxbos','xxmaj','wow',',','a','movie','about','xxup','nyc','politics'...]"
            ]
          },
          "metadata": {
            "tags": []
          },
          "execution_count": 10
        }
      ]
    },
    {
      "cell_type": "code",
      "metadata": {
        "colab": {
          "base_uri": "https://localhost:8080/"
        },
        "id": "elt-4U0t06WO",
        "outputId": "1e5ab971-35c7-4a77-96ea-48a95b9412da"
      },
      "source": [
        "#@ INITIALIZING NUMERICALIZATION: \n",
        "num = Numericalize()                                                        # Initializing Numericalizer. \n",
        "num.setup(toks)\n",
        "nums = toks.map(num)                                                        # Numericalization. \n",
        "nums[0][:10]                                                                # Inspection. "
      ],
      "execution_count": 11,
      "outputs": [
        {
          "output_type": "execute_result",
          "data": {
            "text/plain": [
              "TensorText([   2,    8, 1005,   11,   12,   27,   61,    7, 4040, 2168])"
            ]
          },
          "metadata": {
            "tags": []
          },
          "execution_count": 11
        }
      ]
    },
    {
      "cell_type": "code",
      "metadata": {
        "colab": {
          "base_uri": "https://localhost:8080/"
        },
        "id": "LUmRRQlY1mif",
        "outputId": "3afdedfd-124c-4815-fa76-bf62abb6c927"
      },
      "source": [
        "#@ CONVERTING INTEGERS INTO STRING TOKENS: \n",
        "nums_dec = num.decode(nums[0][:20]); nums_dec                               # Decoding Integers. "
      ],
      "execution_count": 12,
      "outputs": [
        {
          "output_type": "execute_result",
          "data": {
            "text/plain": [
              "(#20) ['xxbos','xxmaj','wow',',','a','movie','about','xxup','nyc','politics'...]"
            ]
          },
          "metadata": {
            "tags": []
          },
          "execution_count": 12
        }
      ]
    },
    {
      "cell_type": "code",
      "metadata": {
        "colab": {
          "base_uri": "https://localhost:8080/",
          "height": 35
        },
        "id": "Jf-AMb8T2PMT",
        "outputId": "1838249e-b1ff-4107-ac77-a0fea224cd8e"
      },
      "source": [
        "#@ GETTING TOKENS: \n",
        "tok.decode(nums_dec)"
      ],
      "execution_count": 13,
      "outputs": [
        {
          "output_type": "execute_result",
          "data": {
            "application/vnd.google.colaboratory.intrinsic+json": {
              "type": "string"
            },
            "text/plain": [
              "'xxbos xxmaj wow , a movie about xxup nyc politics seemingly written by someone who has never set foot in'"
            ]
          },
          "metadata": {
            "tags": []
          },
          "execution_count": 13
        }
      ]
    },
    {
      "cell_type": "code",
      "metadata": {
        "colab": {
          "base_uri": "https://localhost:8080/"
        },
        "id": "-3Q0PEqF9bq8",
        "outputId": "df3ff165-f98a-4384-afb3-809270c363dc"
      },
      "source": [
        "#@ IMPLEMENTATION OF TRANSFORMS: TOKENIZATION IN TUPLES: \n",
        "tok((txts[0], txts[1]))                                                     # Implemetation of Tokenization. "
      ],
      "execution_count": 14,
      "outputs": [
        {
          "output_type": "execute_result",
          "data": {
            "text/plain": [
              "((#78) ['xxbos','xxmaj','wow',',','a','movie','about','xxup','nyc','politics'...],\n",
              " (#292) ['xxbos','i','felt','obliged','to','watch','this','movie','all','the'...])"
            ]
          },
          "metadata": {
            "tags": []
          },
          "execution_count": 14
        }
      ]
    },
    {
      "cell_type": "markdown",
      "metadata": {
        "id": "3ehl9ihkIsQX"
      },
      "source": [
        "**CUSTOM TRANSFORM FUNCTION:**"
      ]
    },
    {
      "cell_type": "code",
      "metadata": {
        "colab": {
          "base_uri": "https://localhost:8080/"
        },
        "id": "ixVkrZHEIwx7",
        "outputId": "e6ba1c90-4c0b-4de9-c965-1f2a4f6a75d2"
      },
      "source": [
        "#@ WRITING CUSTOM TRANSFORM FUNCTION: \n",
        "def f(x:int): return x + 1                                 # Defining Function. \n",
        "tfm = Transform(f)                                         # Initializing a Transform. \n",
        "tfm(2.0), tfm(2)                                           # Inspection. "
      ],
      "execution_count": 15,
      "outputs": [
        {
          "output_type": "execute_result",
          "data": {
            "text/plain": [
              "(2.0, 3)"
            ]
          },
          "metadata": {
            "tags": []
          },
          "execution_count": 15
        }
      ]
    },
    {
      "cell_type": "markdown",
      "metadata": {
        "id": "tWKflNMSJ3RD"
      },
      "source": [
        "**DECORATOR:**\n",
        "- Python has a special syntax for passing a function to another function or something that behaves like a function which is also known as callable in **Python** is called a **Decorator**. A **Decorator** is used by prepending a callable with @ and placing it before the function definition. "
      ]
    },
    {
      "cell_type": "code",
      "metadata": {
        "colab": {
          "base_uri": "https://localhost:8080/"
        },
        "id": "EV92Sf4lJYRg",
        "outputId": "ee1a186a-9127-474e-d07e-a6f3db3148cb"
      },
      "source": [
        "#@ WRITING CUSTOM TRANSFORM FUNCTION WITH DECORATORS: \n",
        "@Transform\n",
        "def f(x:int): return x + 1                                 # Defining Function. \n",
        "tfm(2.0), tfm(2)                                           # Inspection. "
      ],
      "execution_count": 16,
      "outputs": [
        {
          "output_type": "execute_result",
          "data": {
            "text/plain": [
              "(2.0, 3)"
            ]
          },
          "metadata": {
            "tags": []
          },
          "execution_count": 16
        }
      ]
    },
    {
      "cell_type": "code",
      "metadata": {
        "colab": {
          "base_uri": "https://localhost:8080/"
        },
        "id": "mmpRC6T_LIFL",
        "outputId": "e6eb244c-6f33-40b9-96b5-5672b24e3df9"
      },
      "source": [
        "#@ WRITING CUSTOM TRANSFORM FUNCTION WITH SETUP AND DECODE: \n",
        "class NormalizeMean(Transform):                            # Initializing Transform Subclass. \n",
        "    def setups(self, items):                               # Defining Setup Function. \n",
        "        self.mean = sum(items) / len(items)                # Getting Mean of Items. \n",
        "    def encodes(self, x): return x - self.mean             # Defining Encode Function. \n",
        "    def decodes(self, x): return x + self.mean             # Defining Decode Function. \n",
        "\n",
        "#@ IMPLEMENTATION OF NORMALIZE MEAN CLASS: \n",
        "tfm = NormalizeMean()                                      # Initializing Class. \n",
        "tfm.setup([1, 2, 3, 4, 5])                                 # Initializing Object. \n",
        "start = 2\n",
        "y = tfm(start)                                             # Implementation of Class. \n",
        "z = tfm.decode(y)                                          # Implementation of Decode Function. \n",
        "tfm.mean, y, z                                             # Inspection. "
      ],
      "execution_count": 17,
      "outputs": [
        {
          "output_type": "execute_result",
          "data": {
            "text/plain": [
              "(3.0, -1.0, 2.0)"
            ]
          },
          "metadata": {
            "tags": []
          },
          "execution_count": 17
        }
      ]
    },
    {
      "cell_type": "markdown",
      "metadata": {
        "id": "0_R1Rdf27cJ4"
      },
      "source": [
        "**PIPELINE**\n",
        "- **Pipeline** class helps to compose several **Transforms** together. "
      ]
    },
    {
      "cell_type": "code",
      "metadata": {
        "colab": {
          "base_uri": "https://localhost:8080/"
        },
        "id": "3cO3x-B879Gu",
        "outputId": "a607906b-7490-44ab-926c-fc489b2c8cc7"
      },
      "source": [
        "#@ INITIALIZING PIPELINE CLASS: \n",
        "tfms = Pipeline([tok, num])                               # Initializing Tokenizer and Numericalization. \n",
        "t = tfms(txts[0]); t[:20]                                 # Implementation of Pipeline Class. "
      ],
      "execution_count": 18,
      "outputs": [
        {
          "output_type": "execute_result",
          "data": {
            "text/plain": [
              "TensorText([   2,    8, 1005,   11,   12,   27,   61,    7, 4040, 2168, 1309,  395,   50,  246,   57,   69,  133,  301, 1669,   19])"
            ]
          },
          "metadata": {
            "tags": []
          },
          "execution_count": 18
        }
      ]
    },
    {
      "cell_type": "code",
      "metadata": {
        "colab": {
          "base_uri": "https://localhost:8080/",
          "height": 35
        },
        "id": "4a5Cb0k29q11",
        "outputId": "d9366308-9da4-4b8a-9101-bc53cadd55fc"
      },
      "source": [
        "#@ IMPLEMENTATION OF PIPELINE CLASS: \n",
        "tfms.decode(t)[:100]                                      # Initializing Decoder. "
      ],
      "execution_count": 19,
      "outputs": [
        {
          "output_type": "execute_result",
          "data": {
            "application/vnd.google.colaboratory.intrinsic+json": {
              "type": "string"
            },
            "text/plain": [
              "'xxbos xxmaj wow , a movie about xxup nyc politics seemingly written by someone who has never set foo'"
            ]
          },
          "metadata": {
            "tags": []
          },
          "execution_count": 19
        }
      ]
    },
    {
      "cell_type": "code",
      "metadata": {
        "id": "KW1T7avB-J5L"
      },
      "source": [
        ""
      ],
      "execution_count": null,
      "outputs": []
    }
  ]
}