{
  "nbformat": 4,
  "nbformat_minor": 0,
  "metadata": {
    "colab": {
      "name": "DataMunging.ipynb",
      "provenance": [],
      "collapsed_sections": []
    },
    "kernelspec": {
      "name": "python3",
      "display_name": "Python 3"
    },
    "language_info": {
      "name": "python"
    },
    "accelerator": "GPU"
  },
  "cells": [
    {
      "cell_type": "markdown",
      "metadata": {
        "id": "1-0tWpNcs7m_"
      },
      "source": [
        "### **INITIALIZATION:**\n",
        "- I use these three lines of code on top of my each notebooks because it will help to prevent any problems while reloading the same project. And the third line of code helps to make visualization within the notebook."
      ]
    },
    {
      "cell_type": "code",
      "metadata": {
        "id": "4FV6bH90qL9D"
      },
      "source": [
        "#@ INITIALIZATION: \n",
        "%reload_ext autoreload\n",
        "%autoreload 2\n",
        "%matplotlib inline"
      ],
      "execution_count": 1,
      "outputs": []
    },
    {
      "cell_type": "markdown",
      "metadata": {
        "id": "yKx9fiP8tHfD"
      },
      "source": [
        "**LIBRARIES AND DEPENDENCIES:**\n",
        "- I have downloaded all the libraries and dependencies required for the project in one particular cell."
      ]
    },
    {
      "cell_type": "code",
      "metadata": {
        "id": "OWKAFSdntFe7"
      },
      "source": [
        "#@ INSTALLING DEPENDENCIES: UNCOMMENT BELOW: \n",
        "# !pip install -Uqq fastbook\n",
        "# import fastbook\n",
        "# fastbook.setup_book()"
      ],
      "execution_count": 3,
      "outputs": []
    },
    {
      "cell_type": "code",
      "metadata": {
        "id": "6j5dB4xTtTjY"
      },
      "source": [
        "#@ DOWNLOADING LIBRARIES AND DEPENDENCIES: \n",
        "from fastbook import *                              # Getting all the Libraries. \n",
        "from fastai.callback.fp16 import *\n",
        "from fastai.text.all import *                       # Getting all the Libraries."
      ],
      "execution_count": 4,
      "outputs": []
    },
    {
      "cell_type": "markdown",
      "metadata": {
        "id": "RdI1DPNItlE7"
      },
      "source": [
        "**GETTING THE DATASET:**\n",
        "- I will get the **IMDB Dataset** here."
      ]
    },
    {
      "cell_type": "code",
      "metadata": {
        "colab": {
          "base_uri": "https://localhost:8080/",
          "height": 74
        },
        "id": "crsH86IetgZC",
        "outputId": "ee219546-2f94-4459-c8b9-77b1258936d9"
      },
      "source": [
        "#@ GETTING THE DATASET: \n",
        "path = untar_data(URLs.IMDB)                       # Getting Path to the Dataset. \n",
        "path.ls()                                          # Inspecting the Path."
      ],
      "execution_count": 5,
      "outputs": [
        {
          "output_type": "display_data",
          "data": {
            "text/html": [
              "\n",
              "    <div>\n",
              "        <style>\n",
              "            /* Turns off some styling */\n",
              "            progress {\n",
              "                /* gets rid of default border in Firefox and Opera. */\n",
              "                border: none;\n",
              "                /* Needs to be in here for Safari polyfill so background images work as expected. */\n",
              "                background-size: auto;\n",
              "            }\n",
              "            .progress-bar-interrupted, .progress-bar-interrupted::-webkit-progress-bar {\n",
              "                background: #F44336;\n",
              "            }\n",
              "        </style>\n",
              "      <progress value='144441344' class='' max='144440600' style='width:300px; height:20px; vertical-align: middle;'></progress>\n",
              "      100.00% [144441344/144440600 00:03<00:00]\n",
              "    </div>\n",
              "    "
            ],
            "text/plain": [
              "<IPython.core.display.HTML object>"
            ]
          },
          "metadata": {
            "tags": []
          }
        },
        {
          "output_type": "execute_result",
          "data": {
            "text/plain": [
              "(#7) [Path('/root/.fastai/data/imdb/train'),Path('/root/.fastai/data/imdb/imdb.vocab'),Path('/root/.fastai/data/imdb/unsup'),Path('/root/.fastai/data/imdb/tmp_lm'),Path('/root/.fastai/data/imdb/tmp_clas'),Path('/root/.fastai/data/imdb/README'),Path('/root/.fastai/data/imdb/test')]"
            ]
          },
          "metadata": {
            "tags": []
          },
          "execution_count": 5
        }
      ]
    },
    {
      "cell_type": "markdown",
      "metadata": {
        "id": "97bA20kFvEHi"
      },
      "source": [
        "### **DATABLOCK AND DATALOADERS:**"
      ]
    },
    {
      "cell_type": "code",
      "metadata": {
        "colab": {
          "base_uri": "https://localhost:8080/",
          "height": 17
        },
        "id": "qa38Cwr0twFI",
        "outputId": "67dcf697-94c2-4e2c-acf5-2474d34f0e34"
      },
      "source": [
        "#@ CREATING THE DATALOADERS: IMDB FORMAT DATASET: \n",
        "dls = TextDataLoaders.from_folder(path, valid=\"test\")                       # Initializing DataLoaders. "
      ],
      "execution_count": 6,
      "outputs": [
        {
          "output_type": "display_data",
          "data": {
            "text/html": [
              ""
            ],
            "text/plain": [
              "<IPython.core.display.HTML object>"
            ]
          },
          "metadata": {
            "tags": []
          }
        }
      ]
    },
    {
      "cell_type": "code",
      "metadata": {
        "id": "3By-N4EyvO0f"
      },
      "source": [
        "#@ CREATING THE DATALOADERS: \n",
        "path = untar_data(URLs.IMDB)                                                # Path to the Dataset. \n",
        "dls = DataBlock(blocks=(TextBlock.from_folder(path), CategoryBlock),        # Initializing Text Block. \n",
        "                get_y=parent_label,                                         # Getting Labels. \n",
        "                get_items=partial(get_text_files,folders=[\"train\",\"test\"]), # Getting Text Files. \n",
        "                splitter=GrandparentSplitter(valid_name=\"test\")             # Splitting the Data. \n",
        "                ).dataloaders(path)                                         # Initializing Data Loaders. "
      ],
      "execution_count": 7,
      "outputs": []
    },
    {
      "cell_type": "markdown",
      "metadata": {
        "id": "vJ-_swMqzNkg"
      },
      "source": [
        "**TRANSFORMS:**"
      ]
    },
    {
      "cell_type": "code",
      "metadata": {
        "id": "thREusMJxNrs"
      },
      "source": [
        "#@ GETTING THE TEXT DATA: \n",
        "files = get_text_files(path, folders=[\"train\", \"test\"])                     # Getting Text Files. \n",
        "txts = L(o.open().read() for o in files[:2000])                             # Getting List of Texts. "
      ],
      "execution_count": 8,
      "outputs": []
    },
    {
      "cell_type": "code",
      "metadata": {
        "colab": {
          "base_uri": "https://localhost:8080/"
        },
        "id": "bcgjdls_0Fyd",
        "outputId": "f89fdb65-e1a9-46a8-9cab-5e974ba2cdd3"
      },
      "source": [
        "#@ INITIALIZING TOKENIZATION: \n",
        "tok = Tokenizer.from_folder(path)                                           # Initializing Tokenizer. \n",
        "tok.setup(txts)                                                             # Getting Tokens. \n",
        "toks = txts.map(tok)                                                        # Getting Tokens. \n",
        "toks[0]                                                                     # Inspecting Tokens. "
      ],
      "execution_count": 9,
      "outputs": [
        {
          "output_type": "execute_result",
          "data": {
            "text/plain": [
              "(#78) ['xxbos','xxmaj','wow',',','a','movie','about','xxup','nyc','politics'...]"
            ]
          },
          "metadata": {
            "tags": []
          },
          "execution_count": 9
        }
      ]
    },
    {
      "cell_type": "code",
      "metadata": {
        "colab": {
          "base_uri": "https://localhost:8080/"
        },
        "id": "elt-4U0t06WO",
        "outputId": "42fbc036-fdde-48c9-c0d0-ec38ae742710"
      },
      "source": [
        "#@ INITIALIZING NUMERICALIZATION: \n",
        "num = Numericalize()                                                        # Initializing Numericalizer. \n",
        "num.setup(toks)\n",
        "nums = toks.map(num)                                                        # Numericalization. \n",
        "nums[0][:10]                                                                # Inspection. "
      ],
      "execution_count": 10,
      "outputs": [
        {
          "output_type": "execute_result",
          "data": {
            "text/plain": [
              "TensorText([   2,    8, 1005,   11,   12,   27,   61,    7, 4040, 2168])"
            ]
          },
          "metadata": {
            "tags": []
          },
          "execution_count": 10
        }
      ]
    },
    {
      "cell_type": "code",
      "metadata": {
        "colab": {
          "base_uri": "https://localhost:8080/"
        },
        "id": "LUmRRQlY1mif",
        "outputId": "e12b20ab-0d85-495e-c3c0-12557d6f695d"
      },
      "source": [
        "#@ CONVERTING INTEGERS INTO STRING TOKENS: \n",
        "nums_dec = num.decode(nums[0][:20]); nums_dec                               # Decoding Integers. "
      ],
      "execution_count": 11,
      "outputs": [
        {
          "output_type": "execute_result",
          "data": {
            "text/plain": [
              "(#20) ['xxbos','xxmaj','wow',',','a','movie','about','xxup','nyc','politics'...]"
            ]
          },
          "metadata": {
            "tags": []
          },
          "execution_count": 11
        }
      ]
    },
    {
      "cell_type": "code",
      "metadata": {
        "colab": {
          "base_uri": "https://localhost:8080/",
          "height": 35
        },
        "id": "Jf-AMb8T2PMT",
        "outputId": "a0479381-c426-4f0e-c586-98f12331919a"
      },
      "source": [
        "#@ GETTING TOKENS: \n",
        "tok.decode(nums_dec)"
      ],
      "execution_count": 12,
      "outputs": [
        {
          "output_type": "execute_result",
          "data": {
            "application/vnd.google.colaboratory.intrinsic+json": {
              "type": "string"
            },
            "text/plain": [
              "'xxbos xxmaj wow , a movie about xxup nyc politics seemingly written by someone who has never set foot in'"
            ]
          },
          "metadata": {
            "tags": []
          },
          "execution_count": 12
        }
      ]
    },
    {
      "cell_type": "code",
      "metadata": {
        "colab": {
          "base_uri": "https://localhost:8080/"
        },
        "id": "-3Q0PEqF9bq8",
        "outputId": "2f7f2435-da03-4ae1-91b9-83ee3901d7a4"
      },
      "source": [
        "#@ IMPLEMENTATION OF TRANSFORMS: TOKENIZATION IN TUPLES: \n",
        "tok((txts[0], txts[1]))                                                     # Implemetation of Tokenization. "
      ],
      "execution_count": 13,
      "outputs": [
        {
          "output_type": "execute_result",
          "data": {
            "text/plain": [
              "((#78) ['xxbos','xxmaj','wow',',','a','movie','about','xxup','nyc','politics'...],\n",
              " (#292) ['xxbos','i','felt','obliged','to','watch','this','movie','all','the'...])"
            ]
          },
          "metadata": {
            "tags": []
          },
          "execution_count": 13
        }
      ]
    },
    {
      "cell_type": "markdown",
      "metadata": {
        "id": "3ehl9ihkIsQX"
      },
      "source": [
        "**CUSTOM TRANSFORM FUNCTION:**"
      ]
    },
    {
      "cell_type": "code",
      "metadata": {
        "colab": {
          "base_uri": "https://localhost:8080/"
        },
        "id": "ixVkrZHEIwx7",
        "outputId": "fc61333c-b0c1-4ac5-cb00-b14ad9760db5"
      },
      "source": [
        "#@ WRITING CUSTOM TRANSFORM FUNCTION: \n",
        "def f(x:int): return x + 1                                 # Defining Function. \n",
        "tfm = Transform(f)                                         # Initializing a Transform. \n",
        "tfm(2.0), tfm(2)                                           # Inspection. "
      ],
      "execution_count": 14,
      "outputs": [
        {
          "output_type": "execute_result",
          "data": {
            "text/plain": [
              "(2.0, 3)"
            ]
          },
          "metadata": {
            "tags": []
          },
          "execution_count": 14
        }
      ]
    },
    {
      "cell_type": "markdown",
      "metadata": {
        "id": "tWKflNMSJ3RD"
      },
      "source": [
        "**DECORATOR:**\n",
        "- Python has a special syntax for passing a function to another function or something that behaves like a function which is also known as callable in **Python** is called a **Decorator**. A **Decorator** is used by prepending a callable with @ and placing it before the function definition. "
      ]
    },
    {
      "cell_type": "code",
      "metadata": {
        "colab": {
          "base_uri": "https://localhost:8080/"
        },
        "id": "EV92Sf4lJYRg",
        "outputId": "fe9b9119-bd2d-47c6-9468-965216008af1"
      },
      "source": [
        "#@ WRITING CUSTOM TRANSFORM FUNCTION WITH DECORATORS: \n",
        "@Transform\n",
        "def f(x:int): return x + 1                                 # Defining Function. \n",
        "tfm(2.0), tfm(2)                                           # Inspection. "
      ],
      "execution_count": 15,
      "outputs": [
        {
          "output_type": "execute_result",
          "data": {
            "text/plain": [
              "(2.0, 3)"
            ]
          },
          "metadata": {
            "tags": []
          },
          "execution_count": 15
        }
      ]
    },
    {
      "cell_type": "code",
      "metadata": {
        "colab": {
          "base_uri": "https://localhost:8080/"
        },
        "id": "mmpRC6T_LIFL",
        "outputId": "99e49584-a1a4-4815-9f98-52aa0738a6c6"
      },
      "source": [
        "#@ WRITING CUSTOM TRANSFORM FUNCTION WITH SETUP AND DECODE: \n",
        "class NormalizeMean(Transform):                            # Initializing Transform Subclass. \n",
        "    def setups(self, items):                               # Defining Setup Function. \n",
        "        self.mean = sum(items) / len(items)                # Getting Mean of Items. \n",
        "    def encodes(self, x): return x - self.mean             # Defining Encode Function. \n",
        "    def decodes(self, x): return x + self.mean             # Defining Decode Function. \n",
        "\n",
        "#@ IMPLEMENTATION OF NORMALIZE MEAN CLASS: \n",
        "tfm = NormalizeMean()                                      # Initializing Class. \n",
        "tfm.setup([1, 2, 3, 4, 5])                                 # Initializing Object. \n",
        "start = 2\n",
        "y = tfm(start)                                             # Implementation of Class. \n",
        "z = tfm.decode(y)                                          # Implementation of Decode Function. \n",
        "tfm.mean, y, z                                             # Inspection. "
      ],
      "execution_count": 16,
      "outputs": [
        {
          "output_type": "execute_result",
          "data": {
            "text/plain": [
              "(3.0, -1.0, 2.0)"
            ]
          },
          "metadata": {
            "tags": []
          },
          "execution_count": 16
        }
      ]
    },
    {
      "cell_type": "markdown",
      "metadata": {
        "id": "0_R1Rdf27cJ4"
      },
      "source": [
        "**PIPELINE**\n",
        "- **Pipeline** class helps to compose several **Transforms** together. "
      ]
    },
    {
      "cell_type": "code",
      "metadata": {
        "colab": {
          "base_uri": "https://localhost:8080/"
        },
        "id": "3cO3x-B879Gu",
        "outputId": "84b42986-a1cd-4f0f-a1e9-616e0c26a1d9"
      },
      "source": [
        "#@ INITIALIZING PIPELINE CLASS: \n",
        "tfms = Pipeline([tok, num])                               # Initializing Tokenizer and Numericalization. \n",
        "t = tfms(txts[0]); t[:20]                                 # Implementation of Pipeline Class. "
      ],
      "execution_count": 17,
      "outputs": [
        {
          "output_type": "execute_result",
          "data": {
            "text/plain": [
              "TensorText([   2,    8, 1005,   11,   12,   27,   61,    7, 4040, 2168, 1309,  395,   50,  246,   57,   69,  133,  301, 1669,   19])"
            ]
          },
          "metadata": {
            "tags": []
          },
          "execution_count": 17
        }
      ]
    },
    {
      "cell_type": "code",
      "metadata": {
        "colab": {
          "base_uri": "https://localhost:8080/",
          "height": 35
        },
        "id": "4a5Cb0k29q11",
        "outputId": "c293701f-99a7-4942-c589-722d6ff6e4e7"
      },
      "source": [
        "#@ IMPLEMENTATION OF PIPELINE CLASS: \n",
        "tfms.decode(t)[:100]                                      # Initializing Decoder. "
      ],
      "execution_count": 18,
      "outputs": [
        {
          "output_type": "execute_result",
          "data": {
            "application/vnd.google.colaboratory.intrinsic+json": {
              "type": "string"
            },
            "text/plain": [
              "'xxbos xxmaj wow , a movie about xxup nyc politics seemingly written by someone who has never set foo'"
            ]
          },
          "metadata": {
            "tags": []
          },
          "execution_count": 18
        }
      ]
    },
    {
      "cell_type": "markdown",
      "metadata": {
        "id": "u1px3DmU-5xp"
      },
      "source": [
        "**TRANSFORMED COLLECTIONS:**"
      ]
    },
    {
      "cell_type": "code",
      "metadata": {
        "id": "KW1T7avB-J5L",
        "colab": {
          "base_uri": "https://localhost:8080/",
          "height": 35
        },
        "outputId": "b5ad69ab-febf-436d-f579-273ef81ad2aa"
      },
      "source": [
        "#@ IMPLEMENTATION OF TRANSFORMED LISTS: MULTIPLE TRANSFORMS: \n",
        "tls = TfmdLists(files, [Tokenizer.from_folder(path), Numericalize])      # Implementation of Transformed Lists. \n",
        "t = tls[0]; t[:20]                                                       # Inspection. \n",
        "tls.decode(t)[:100]                                                      # Initializing Decoding. "
      ],
      "execution_count": 20,
      "outputs": [
        {
          "output_type": "execute_result",
          "data": {
            "application/vnd.google.colaboratory.intrinsic+json": {
              "type": "string"
            },
            "text/plain": [
              "'xxbos xxmaj wow , a movie about xxup nyc politics seemingly written by someone who has never set foo'"
            ]
          },
          "metadata": {
            "tags": []
          },
          "execution_count": 20
        }
      ]
    },
    {
      "cell_type": "code",
      "metadata": {
        "colab": {
          "base_uri": "https://localhost:8080/"
        },
        "id": "TpV2OssK_5s9",
        "outputId": "7c64615f-f8a6-4ca9-9a9c-0af3ea88b5de"
      },
      "source": [
        "#@ INSPECTING THE DECODED INFORMATION: \n",
        "tls.show(t)"
      ],
      "execution_count": 21,
      "outputs": [
        {
          "output_type": "stream",
          "text": [
            "xxbos xxmaj wow , a movie about xxup nyc politics seemingly written by someone who has never set foot in xxup nyc . xxmaj you know there 's a problem when at one moment you expect the credits to roll and the movie continues on for another half hour . xxmaj the characters are boring , xxmaj john xxmaj cusack 's accent is laughable , and the plotline teeters between boring and laughable . a horrible movie .\n"
          ],
          "name": "stdout"
        }
      ]
    },
    {
      "cell_type": "code",
      "metadata": {
        "colab": {
          "base_uri": "https://localhost:8080/"
        },
        "id": "zReFdaRuAbs4",
        "outputId": "9dd9ef33-dc83-4adf-8464-4ed5b7fc33f3"
      },
      "source": [
        "#@ CREATING TRAINING AND VALIDATION SET: \n",
        "cut = int(len(files)*0.8)                                                # Getting Ratios.\n",
        "splits = [list(range(cut)), list(range(cut, len(files)))]                # Getting Splitting Ranges. \n",
        "tls = TfmdLists(files, [Tokenizer.from_folder(path), Numericalize], \n",
        "                splits=splits)                                           # Transformed Lists with Splits. \n",
        "tls.valid[0][:20]                                                        # Inspecting Transformed Data. "
      ],
      "execution_count": 22,
      "outputs": [
        {
          "output_type": "execute_result",
          "data": {
            "text/plain": [
              "TensorText([    2,   232,   232,     0,   452,    35,     9,   690,    22,     9,     8,  7588,     8, 39349,    22,    60,    13,   794,   146,    50])"
            ]
          },
          "metadata": {
            "tags": []
          },
          "execution_count": 22
        }
      ]
    },
    {
      "cell_type": "code",
      "metadata": {
        "colab": {
          "base_uri": "https://localhost:8080/"
        },
        "id": "dvAD3l8KC-0Q",
        "outputId": "8376af3d-9343-4250-b3a6-9355469356d3"
      },
      "source": [
        "#@ IMPLEMENTATION OF TRANSFORMS: \n",
        "lbls = files.map(parent_label)                                           # Getting Labels. \n",
        "cat = Categorize()                                                       # Initializing Categorize Method. \n",
        "cat.setup(lbls)                                                          # Initializing Categorize Object. \n",
        "cat.vocab, cat(lbls[0])                                                  # Inspecting the Categories. "
      ],
      "execution_count": 23,
      "outputs": [
        {
          "output_type": "execute_result",
          "data": {
            "text/plain": [
              "(['neg', 'pos'], TensorCategory(0))"
            ]
          },
          "metadata": {
            "tags": []
          },
          "execution_count": 23
        }
      ]
    },
    {
      "cell_type": "code",
      "metadata": {
        "colab": {
          "base_uri": "https://localhost:8080/"
        },
        "id": "dUDqQe0kFYBv",
        "outputId": "68b31219-f613-4ae1-8ab6-8da4ee873026"
      },
      "source": [
        "#@ IMPLEMENTATION OF TRANSFROMED LISTS: CATEGORIZE: \n",
        "tls_y = TfmdLists(files, [parent_label, Categorize()])                   # Initializing Transformed Lists. \n",
        "tls_y[0]                                                                 # Inspection. "
      ],
      "execution_count": 24,
      "outputs": [
        {
          "output_type": "execute_result",
          "data": {
            "text/plain": [
              "TensorCategory(0)"
            ]
          },
          "metadata": {
            "tags": []
          },
          "execution_count": 24
        }
      ]
    },
    {
      "cell_type": "code",
      "metadata": {
        "id": "0pmpCWA6GGkm"
      },
      "source": [
        ""
      ],
      "execution_count": null,
      "outputs": []
    }
  ]
}