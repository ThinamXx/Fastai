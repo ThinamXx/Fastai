{
  "nbformat": 4,
  "nbformat_minor": 0,
  "metadata": {
    "colab": {
      "name": "DataMunging.ipynb",
      "provenance": []
    },
    "kernelspec": {
      "name": "python3",
      "display_name": "Python 3"
    },
    "language_info": {
      "name": "python"
    },
    "accelerator": "GPU"
  },
  "cells": [
    {
      "cell_type": "markdown",
      "metadata": {
        "id": "1-0tWpNcs7m_"
      },
      "source": [
        "### **INITIALIZATION:**\n",
        "- I use these three lines of code on top of my each notebooks because it will help to prevent any problems while reloading the same project. And the third line of code helps to make visualization within the notebook."
      ]
    },
    {
      "cell_type": "code",
      "metadata": {
        "id": "4FV6bH90qL9D"
      },
      "source": [
        "#@ INITIALIZATION: \n",
        "%reload_ext autoreload\n",
        "%autoreload 2\n",
        "%matplotlib inline"
      ],
      "execution_count": 1,
      "outputs": []
    },
    {
      "cell_type": "markdown",
      "metadata": {
        "id": "yKx9fiP8tHfD"
      },
      "source": [
        "**LIBRARIES AND DEPENDENCIES:**\n",
        "- I have downloaded all the libraries and dependencies required for the project in one particular cell."
      ]
    },
    {
      "cell_type": "code",
      "metadata": {
        "id": "OWKAFSdntFe7"
      },
      "source": [
        "#@ INSTALLING DEPENDENCIES: UNCOMMENT BELOW: \n",
        "# !pip install -Uqq fastbook\n",
        "# import fastbook\n",
        "# fastbook.setup_book()"
      ],
      "execution_count": 3,
      "outputs": []
    },
    {
      "cell_type": "code",
      "metadata": {
        "id": "6j5dB4xTtTjY"
      },
      "source": [
        "#@ DOWNLOADING LIBRARIES AND DEPENDENCIES: \n",
        "from fastbook import *                              # Getting all the Libraries. \n",
        "from fastai.callback.fp16 import *\n",
        "from fastai.text.all import *                       # Getting all the Libraries."
      ],
      "execution_count": 4,
      "outputs": []
    },
    {
      "cell_type": "markdown",
      "metadata": {
        "id": "RdI1DPNItlE7"
      },
      "source": [
        "**GETTING THE DATASET:**\n",
        "- I will get the **IMDB Dataset** here."
      ]
    },
    {
      "cell_type": "code",
      "metadata": {
        "colab": {
          "base_uri": "https://localhost:8080/"
        },
        "id": "crsH86IetgZC",
        "outputId": "f589efbb-2cae-4b70-f066-feb1f14e843e"
      },
      "source": [
        "#@ GETTING THE DATASET: \n",
        "path = untar_data(URLs.IMDB)                       # Getting Path to the Dataset. \n",
        "path.ls()                                          # Inspecting the Path."
      ],
      "execution_count": 6,
      "outputs": [
        {
          "output_type": "execute_result",
          "data": {
            "text/plain": [
              "(#7) [Path('/root/.fastai/data/imdb/train'),Path('/root/.fastai/data/imdb/imdb.vocab'),Path('/root/.fastai/data/imdb/unsup'),Path('/root/.fastai/data/imdb/tmp_lm'),Path('/root/.fastai/data/imdb/tmp_clas'),Path('/root/.fastai/data/imdb/README'),Path('/root/.fastai/data/imdb/test')]"
            ]
          },
          "metadata": {
            "tags": []
          },
          "execution_count": 6
        }
      ]
    },
    {
      "cell_type": "markdown",
      "metadata": {
        "id": "97bA20kFvEHi"
      },
      "source": [
        "### **DATABLOCK AND DATALOADERS:**"
      ]
    },
    {
      "cell_type": "code",
      "metadata": {
        "colab": {
          "base_uri": "https://localhost:8080/",
          "height": 17
        },
        "id": "qa38Cwr0twFI",
        "outputId": "617c5658-4349-4b8f-eadc-80251ca0d193"
      },
      "source": [
        "#@ CREATING THE DATALOADERS: IMDB FORMAT DATASET: \n",
        "dls = TextDataLoaders.from_folder(path, valid=\"test\")                       # Initializing DataLoaders. "
      ],
      "execution_count": 7,
      "outputs": [
        {
          "output_type": "display_data",
          "data": {
            "text/html": [
              ""
            ],
            "text/plain": [
              "<IPython.core.display.HTML object>"
            ]
          },
          "metadata": {
            "tags": []
          }
        }
      ]
    },
    {
      "cell_type": "code",
      "metadata": {
        "id": "3By-N4EyvO0f"
      },
      "source": [
        "#@ CREATING THE DATALOADERS: \n",
        "path = untar_data(URLs.IMDB)                                                # Path to the Dataset. \n",
        "dls = DataBlock(blocks=(TextBlock.from_folder(path), CategoryBlock),        # Initializing Text Block. \n",
        "                get_y=parent_label,                                         # Getting Labels. \n",
        "                get_items=partial(get_text_files,folders=[\"train\",\"test\"]), # Getting Text Files. \n",
        "                splitter=GrandparentSplitter(valid_name=\"test\")             # Splitting the Data. \n",
        "                ).dataloaders(path)                                         # Initializing Data Loaders. "
      ],
      "execution_count": 8,
      "outputs": []
    },
    {
      "cell_type": "markdown",
      "metadata": {
        "id": "vJ-_swMqzNkg"
      },
      "source": [
        "**TRANSFORMS:**"
      ]
    },
    {
      "cell_type": "code",
      "metadata": {
        "id": "thREusMJxNrs"
      },
      "source": [
        "#@ GETTING THE TEXT DATA: \n",
        "files = get_text_files(path, folders=[\"train\", \"test\"])                     # Getting Text Files. \n",
        "txts = L(o.open().read() for o in files[:2000])                             # Getting List of Texts. "
      ],
      "execution_count": 9,
      "outputs": []
    },
    {
      "cell_type": "code",
      "metadata": {
        "colab": {
          "base_uri": "https://localhost:8080/"
        },
        "id": "bcgjdls_0Fyd",
        "outputId": "b25f8fbd-9160-49c9-a51e-9a316f24be4c"
      },
      "source": [
        "#@ INITIALIZING TOKENIZATION: \n",
        "tok = Tokenizer.from_folder(path)                                           # Initializing Tokenizer. \n",
        "tok.setup(txts)                                                             # Getting Tokens. \n",
        "toks = txts.map(tok)                                                        # Getting Tokens. \n",
        "toks[0]                                                                     # Inspecting Tokens. "
      ],
      "execution_count": 10,
      "outputs": [
        {
          "output_type": "execute_result",
          "data": {
            "text/plain": [
              "(#78) ['xxbos','xxmaj','wow',',','a','movie','about','xxup','nyc','politics'...]"
            ]
          },
          "metadata": {
            "tags": []
          },
          "execution_count": 10
        }
      ]
    },
    {
      "cell_type": "code",
      "metadata": {
        "colab": {
          "base_uri": "https://localhost:8080/"
        },
        "id": "elt-4U0t06WO",
        "outputId": "c962f6eb-9d69-4b94-c88f-87c57121d854"
      },
      "source": [
        "#@ INITIALIZING NUMERICALIZATION: \n",
        "num = Numericalize()                                                        # Initializing Numericalizer. \n",
        "num.setup(toks)\n",
        "nums = toks.map(num)                                                        # Numericalization. \n",
        "nums[0][:10]                                                                # Inspection. "
      ],
      "execution_count": 11,
      "outputs": [
        {
          "output_type": "execute_result",
          "data": {
            "text/plain": [
              "TensorText([   2,    8, 1005,   11,   12,   27,   61,    7, 4040, 2168])"
            ]
          },
          "metadata": {
            "tags": []
          },
          "execution_count": 11
        }
      ]
    },
    {
      "cell_type": "code",
      "metadata": {
        "colab": {
          "base_uri": "https://localhost:8080/"
        },
        "id": "LUmRRQlY1mif",
        "outputId": "d48feac4-3943-4c0c-89ac-9b6c29f70d21"
      },
      "source": [
        "#@ CONVERTING INTEGERS INTO STRING TOKENS: \n",
        "nums_dec = num.decode(nums[0][:20]); nums_dec                               # Decoding Integers. "
      ],
      "execution_count": 12,
      "outputs": [
        {
          "output_type": "execute_result",
          "data": {
            "text/plain": [
              "(#20) ['xxbos','xxmaj','wow',',','a','movie','about','xxup','nyc','politics'...]"
            ]
          },
          "metadata": {
            "tags": []
          },
          "execution_count": 12
        }
      ]
    },
    {
      "cell_type": "code",
      "metadata": {
        "colab": {
          "base_uri": "https://localhost:8080/",
          "height": 35
        },
        "id": "Jf-AMb8T2PMT",
        "outputId": "7a101a26-b87d-4512-e24f-b0ada788d808"
      },
      "source": [
        "#@ GETTING TOKENS: \n",
        "tok.decode(nums_dec)"
      ],
      "execution_count": 13,
      "outputs": [
        {
          "output_type": "execute_result",
          "data": {
            "application/vnd.google.colaboratory.intrinsic+json": {
              "type": "string"
            },
            "text/plain": [
              "'xxbos xxmaj wow , a movie about xxup nyc politics seemingly written by someone who has never set foot in'"
            ]
          },
          "metadata": {
            "tags": []
          },
          "execution_count": 13
        }
      ]
    },
    {
      "cell_type": "code",
      "metadata": {
        "colab": {
          "base_uri": "https://localhost:8080/"
        },
        "id": "-3Q0PEqF9bq8",
        "outputId": "4e6a57f5-cfaf-4287-f6a3-279d2726c9fc"
      },
      "source": [
        "#@ IMPLEMENTATION OF TRANSFORMS: TOKENIZATION IN TUPLES: \n",
        "tok((txts[0], txts[1]))                                                     # Implemetation of Tokenization. "
      ],
      "execution_count": 15,
      "outputs": [
        {
          "output_type": "execute_result",
          "data": {
            "text/plain": [
              "((#78) ['xxbos','xxmaj','wow',',','a','movie','about','xxup','nyc','politics'...],\n",
              " (#292) ['xxbos','i','felt','obliged','to','watch','this','movie','all','the'...])"
            ]
          },
          "metadata": {
            "tags": []
          },
          "execution_count": 15
        }
      ]
    },
    {
      "cell_type": "code",
      "metadata": {
        "id": "C965Cw2I-dZS"
      },
      "source": [
        ""
      ],
      "execution_count": null,
      "outputs": []
    }
  ]
}