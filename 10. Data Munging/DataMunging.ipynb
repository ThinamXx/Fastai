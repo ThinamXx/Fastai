{
  "nbformat": 4,
  "nbformat_minor": 0,
  "metadata": {
    "colab": {
      "name": "DataMunging.ipynb",
      "provenance": [],
      "collapsed_sections": []
    },
    "kernelspec": {
      "name": "python3",
      "display_name": "Python 3"
    },
    "language_info": {
      "name": "python"
    },
    "accelerator": "GPU"
  },
  "cells": [
    {
      "cell_type": "markdown",
      "metadata": {
        "id": "1-0tWpNcs7m_"
      },
      "source": [
        "### **INITIALIZATION:**\n",
        "- I use these three lines of code on top of my each notebooks because it will help to prevent any problems while reloading the same project. And the third line of code helps to make visualization within the notebook."
      ]
    },
    {
      "cell_type": "code",
      "metadata": {
        "id": "4FV6bH90qL9D"
      },
      "source": [
        "#@ INITIALIZATION: \n",
        "%reload_ext autoreload\n",
        "%autoreload 2\n",
        "%matplotlib inline"
      ],
      "execution_count": 2,
      "outputs": []
    },
    {
      "cell_type": "markdown",
      "metadata": {
        "id": "yKx9fiP8tHfD"
      },
      "source": [
        "**LIBRARIES AND DEPENDENCIES:**\n",
        "- I have downloaded all the libraries and dependencies required for the project in one particular cell."
      ]
    },
    {
      "cell_type": "code",
      "metadata": {
        "id": "OWKAFSdntFe7"
      },
      "source": [
        "#@ INSTALLING DEPENDENCIES: UNCOMMENT BELOW: \n",
        "# !pip install -Uqq fastbook\n",
        "# import fastbook\n",
        "# fastbook.setup_book()"
      ],
      "execution_count": 4,
      "outputs": []
    },
    {
      "cell_type": "code",
      "metadata": {
        "id": "6j5dB4xTtTjY"
      },
      "source": [
        "#@ DOWNLOADING LIBRARIES AND DEPENDENCIES: \n",
        "from fastbook import *                              # Getting all the Libraries. \n",
        "from fastai.callback.fp16 import *\n",
        "from fastai.text.all import *                       # Getting all the Libraries."
      ],
      "execution_count": 5,
      "outputs": []
    },
    {
      "cell_type": "markdown",
      "metadata": {
        "id": "RdI1DPNItlE7"
      },
      "source": [
        "**GETTING THE DATASET:**\n",
        "- I will get the **IMDB Dataset** here."
      ]
    },
    {
      "cell_type": "code",
      "metadata": {
        "colab": {
          "base_uri": "https://localhost:8080/"
        },
        "id": "crsH86IetgZC",
        "outputId": "8b124112-6f92-4d63-d07e-89dbab3f0542"
      },
      "source": [
        "#@ GETTING THE DATASET: \n",
        "path = untar_data(URLs.IMDB)                       # Getting Path to the Dataset. \n",
        "path.ls()                                          # Inspecting the Path."
      ],
      "execution_count": 7,
      "outputs": [
        {
          "output_type": "execute_result",
          "data": {
            "text/plain": [
              "(#7) [Path('/root/.fastai/data/imdb/train'),Path('/root/.fastai/data/imdb/imdb.vocab'),Path('/root/.fastai/data/imdb/unsup'),Path('/root/.fastai/data/imdb/tmp_lm'),Path('/root/.fastai/data/imdb/tmp_clas'),Path('/root/.fastai/data/imdb/README'),Path('/root/.fastai/data/imdb/test')]"
            ]
          },
          "metadata": {
            "tags": []
          },
          "execution_count": 7
        }
      ]
    },
    {
      "cell_type": "markdown",
      "metadata": {
        "id": "97bA20kFvEHi"
      },
      "source": [
        "### **DATABLOCK AND DATALOADERS:**"
      ]
    },
    {
      "cell_type": "code",
      "metadata": {
        "colab": {
          "base_uri": "https://localhost:8080/",
          "height": 17
        },
        "id": "qa38Cwr0twFI",
        "outputId": "28cb456d-3770-41cc-ed90-5cd6fcbe6c55"
      },
      "source": [
        "#@ CREATING THE DATALOADERS: IMDB FORMAT DATASET: \n",
        "dls = TextDataLoaders.from_folder(path, valid=\"test\")                       # Initializing DataLoaders. "
      ],
      "execution_count": 8,
      "outputs": [
        {
          "output_type": "display_data",
          "data": {
            "text/html": [
              ""
            ],
            "text/plain": [
              "<IPython.core.display.HTML object>"
            ]
          },
          "metadata": {
            "tags": []
          }
        }
      ]
    },
    {
      "cell_type": "code",
      "metadata": {
        "id": "3By-N4EyvO0f"
      },
      "source": [
        "#@ CREATING THE DATALOADERS: \n",
        "path = untar_data(URLs.IMDB)                                                # Path to the Dataset. \n",
        "dls = DataBlock(blocks=(TextBlock.from_folder(path), CategoryBlock),        # Initializing Text Block. \n",
        "                get_y=parent_label,                                         # Getting Labels. \n",
        "                get_items=partial(get_text_files,folders=[\"train\",\"test\"]), # Getting Text Files. \n",
        "                splitter=GrandparentSplitter(valid_name=\"test\")             # Splitting the Data. \n",
        "                ).dataloaders(path)                                         # Initializing Data Loaders. "
      ],
      "execution_count": 9,
      "outputs": []
    },
    {
      "cell_type": "markdown",
      "metadata": {
        "id": "vJ-_swMqzNkg"
      },
      "source": [
        "**TRANSFORMS:**"
      ]
    },
    {
      "cell_type": "code",
      "metadata": {
        "id": "thREusMJxNrs"
      },
      "source": [
        "#@ GETTING THE TEXT DATA: \n",
        "files = get_text_files(path, folders=[\"train\", \"test\"])                     # Getting Text Files. \n",
        "txts = L(o.open().read() for o in files[:2000])                             # Getting List of Texts. "
      ],
      "execution_count": 10,
      "outputs": []
    },
    {
      "cell_type": "code",
      "metadata": {
        "colab": {
          "base_uri": "https://localhost:8080/"
        },
        "id": "bcgjdls_0Fyd",
        "outputId": "21458988-bdd7-4b29-a890-4f51e95fc8d6"
      },
      "source": [
        "#@ INITIALIZING TOKENIZATION: \n",
        "tok = Tokenizer.from_folder(path)                                           # Initializing Tokenizer. \n",
        "tok.setup(txts)                                                             # Getting Tokens. \n",
        "toks = txts.map(tok)                                                        # Getting Tokens. \n",
        "toks[0]                                                                     # Inspecting Tokens. "
      ],
      "execution_count": 11,
      "outputs": [
        {
          "output_type": "execute_result",
          "data": {
            "text/plain": [
              "(#78) ['xxbos','xxmaj','wow',',','a','movie','about','xxup','nyc','politics'...]"
            ]
          },
          "metadata": {
            "tags": []
          },
          "execution_count": 11
        }
      ]
    },
    {
      "cell_type": "code",
      "metadata": {
        "colab": {
          "base_uri": "https://localhost:8080/"
        },
        "id": "elt-4U0t06WO",
        "outputId": "01f22556-ed82-428c-aba3-0ac1f6ebe09b"
      },
      "source": [
        "#@ INITIALIZING NUMERICALIZATION: \n",
        "num = Numericalize()                                                        # Initializing Numericalizer. \n",
        "num.setup(toks)\n",
        "nums = toks.map(num)                                                        # Numericalization. \n",
        "nums[0][:10]                                                                # Inspection. "
      ],
      "execution_count": 12,
      "outputs": [
        {
          "output_type": "execute_result",
          "data": {
            "text/plain": [
              "TensorText([   2,    8, 1005,   11,   12,   27,   61,    7, 4040, 2168])"
            ]
          },
          "metadata": {
            "tags": []
          },
          "execution_count": 12
        }
      ]
    },
    {
      "cell_type": "code",
      "metadata": {
        "colab": {
          "base_uri": "https://localhost:8080/"
        },
        "id": "LUmRRQlY1mif",
        "outputId": "d0860123-38b6-426f-c929-0f892b0b51a0"
      },
      "source": [
        "#@ CONVERTING INTEGERS INTO STRING TOKENS: \n",
        "nums_dec = num.decode(nums[0][:20]); nums_dec                               # Decoding Integers. "
      ],
      "execution_count": 13,
      "outputs": [
        {
          "output_type": "execute_result",
          "data": {
            "text/plain": [
              "(#20) ['xxbos','xxmaj','wow',',','a','movie','about','xxup','nyc','politics'...]"
            ]
          },
          "metadata": {
            "tags": []
          },
          "execution_count": 13
        }
      ]
    },
    {
      "cell_type": "code",
      "metadata": {
        "colab": {
          "base_uri": "https://localhost:8080/",
          "height": 35
        },
        "id": "Jf-AMb8T2PMT",
        "outputId": "1b7d8e7a-9628-436f-b346-835065bba277"
      },
      "source": [
        "#@ GETTING TOKENS: \n",
        "tok.decode(nums_dec)"
      ],
      "execution_count": 14,
      "outputs": [
        {
          "output_type": "execute_result",
          "data": {
            "application/vnd.google.colaboratory.intrinsic+json": {
              "type": "string"
            },
            "text/plain": [
              "'xxbos xxmaj wow , a movie about xxup nyc politics seemingly written by someone who has never set foot in'"
            ]
          },
          "metadata": {
            "tags": []
          },
          "execution_count": 14
        }
      ]
    },
    {
      "cell_type": "code",
      "metadata": {
        "colab": {
          "base_uri": "https://localhost:8080/"
        },
        "id": "-3Q0PEqF9bq8",
        "outputId": "7a72a483-75fe-4c4d-8acb-bd15e427fcdb"
      },
      "source": [
        "#@ IMPLEMENTATION OF TRANSFORMS: TOKENIZATION IN TUPLES: \n",
        "tok((txts[0], txts[1]))                                                     # Implemetation of Tokenization. "
      ],
      "execution_count": 15,
      "outputs": [
        {
          "output_type": "execute_result",
          "data": {
            "text/plain": [
              "((#78) ['xxbos','xxmaj','wow',',','a','movie','about','xxup','nyc','politics'...],\n",
              " (#292) ['xxbos','i','felt','obliged','to','watch','this','movie','all','the'...])"
            ]
          },
          "metadata": {
            "tags": []
          },
          "execution_count": 15
        }
      ]
    },
    {
      "cell_type": "markdown",
      "metadata": {
        "id": "3ehl9ihkIsQX"
      },
      "source": [
        "**CUSTOM TRANSFORM FUNCTION:**"
      ]
    },
    {
      "cell_type": "code",
      "metadata": {
        "colab": {
          "base_uri": "https://localhost:8080/"
        },
        "id": "ixVkrZHEIwx7",
        "outputId": "9b9a6f45-a34a-4887-cd75-7d28842fc4f2"
      },
      "source": [
        "#@ WRITING CUSTOM TRANSFORM FUNCTION: \n",
        "def f(x:int): return x + 1                                 # Defining Function. \n",
        "tfm = Transform(f)                                         # Initializing a Transform. \n",
        "tfm(2.0), tfm(2)                                           # Inspection. "
      ],
      "execution_count": 16,
      "outputs": [
        {
          "output_type": "execute_result",
          "data": {
            "text/plain": [
              "(2.0, 3)"
            ]
          },
          "metadata": {
            "tags": []
          },
          "execution_count": 16
        }
      ]
    },
    {
      "cell_type": "markdown",
      "metadata": {
        "id": "tWKflNMSJ3RD"
      },
      "source": [
        "**DECORATOR:**\n",
        "- Python has a special syntax for passing a function to another function or something that behaves like a function which is also known as callable in **Python** is called a **Decorator**. A **Decorator** is used by prepending a callable with @ and placing it before the function definition. "
      ]
    },
    {
      "cell_type": "code",
      "metadata": {
        "colab": {
          "base_uri": "https://localhost:8080/"
        },
        "id": "EV92Sf4lJYRg",
        "outputId": "282586e0-2bc1-43a4-9660-a7a052184275"
      },
      "source": [
        "#@ WRITING CUSTOM TRANSFORM FUNCTION WITH DECORATORS: \n",
        "@Transform\n",
        "def f(x:int): return x + 1                                 # Defining Function. \n",
        "tfm(2.0), tfm(2)                                           # Inspection. "
      ],
      "execution_count": 17,
      "outputs": [
        {
          "output_type": "execute_result",
          "data": {
            "text/plain": [
              "(2.0, 3)"
            ]
          },
          "metadata": {
            "tags": []
          },
          "execution_count": 17
        }
      ]
    },
    {
      "cell_type": "code",
      "metadata": {
        "colab": {
          "base_uri": "https://localhost:8080/"
        },
        "id": "mmpRC6T_LIFL",
        "outputId": "b3643822-1aed-4feb-e8a7-612a7200838b"
      },
      "source": [
        "#@ WRITING CUSTOM TRANSFORM FUNCTION WITH SETUP AND DECODE: \n",
        "class NormalizeMean(Transform):                            # Initializing Transform Subclass. \n",
        "    def setups(self, items):                               # Defining Setup Function. \n",
        "        self.mean = sum(items) / len(items)                # Getting Mean of Items. \n",
        "    def encodes(self, x): return x - self.mean             # Defining Encode Function. \n",
        "    def decodes(self, x): return x + self.mean             # Defining Decode Function. \n",
        "\n",
        "#@ IMPLEMENTATION OF NORMALIZE MEAN CLASS: \n",
        "tfm = NormalizeMean()                                      # Initializing Class. \n",
        "tfm.setup([1, 2, 3, 4, 5])                                 # Initializing Object. \n",
        "start = 2\n",
        "y = tfm(start)                                             # Implementation of Class. \n",
        "z = tfm.decode(y)                                          # Implementation of Decode Function. \n",
        "tfm.mean, y, z                                             # Inspection. "
      ],
      "execution_count": 18,
      "outputs": [
        {
          "output_type": "execute_result",
          "data": {
            "text/plain": [
              "(3.0, -1.0, 2.0)"
            ]
          },
          "metadata": {
            "tags": []
          },
          "execution_count": 18
        }
      ]
    },
    {
      "cell_type": "markdown",
      "metadata": {
        "id": "0_R1Rdf27cJ4"
      },
      "source": [
        "**PIPELINE**\n",
        "- **Pipeline** class helps to compose several **Transforms** together. "
      ]
    },
    {
      "cell_type": "code",
      "metadata": {
        "colab": {
          "base_uri": "https://localhost:8080/"
        },
        "id": "3cO3x-B879Gu",
        "outputId": "ef4fda4b-60c6-4db2-a740-10380a4ae0d8"
      },
      "source": [
        "#@ INITIALIZING PIPELINE CLASS: \n",
        "tfms = Pipeline([tok, num])                               # Initializing Tokenizer and Numericalization. \n",
        "t = tfms(txts[0]); t[:20]                                 # Implementation of Pipeline Class. "
      ],
      "execution_count": 19,
      "outputs": [
        {
          "output_type": "execute_result",
          "data": {
            "text/plain": [
              "TensorText([   2,    8, 1005,   11,   12,   27,   61,    7, 4040, 2168, 1309,  395,   50,  246,   57,   69,  133,  301, 1669,   19])"
            ]
          },
          "metadata": {
            "tags": []
          },
          "execution_count": 19
        }
      ]
    },
    {
      "cell_type": "code",
      "metadata": {
        "colab": {
          "base_uri": "https://localhost:8080/",
          "height": 35
        },
        "id": "4a5Cb0k29q11",
        "outputId": "3e3832a1-31bf-4b51-9ff1-9aeefde8c3e5"
      },
      "source": [
        "#@ IMPLEMENTATION OF PIPELINE CLASS: \n",
        "tfms.decode(t)[:100]                                      # Initializing Decoder. "
      ],
      "execution_count": 20,
      "outputs": [
        {
          "output_type": "execute_result",
          "data": {
            "application/vnd.google.colaboratory.intrinsic+json": {
              "type": "string"
            },
            "text/plain": [
              "'xxbos xxmaj wow , a movie about xxup nyc politics seemingly written by someone who has never set foo'"
            ]
          },
          "metadata": {
            "tags": []
          },
          "execution_count": 20
        }
      ]
    },
    {
      "cell_type": "markdown",
      "metadata": {
        "id": "u1px3DmU-5xp"
      },
      "source": [
        "**TRANSFORMED COLLECTIONS:**"
      ]
    },
    {
      "cell_type": "code",
      "metadata": {
        "id": "KW1T7avB-J5L",
        "colab": {
          "base_uri": "https://localhost:8080/",
          "height": 35
        },
        "outputId": "03429723-d789-44ce-9c8d-b19f34521b56"
      },
      "source": [
        "#@ IMPLEMENTATION OF TRANSFORMED LISTS: MULTIPLE TRANSFORMS: \n",
        "tls = TfmdLists(files, [Tokenizer.from_folder(path), Numericalize])      # Implementation of Transformed Lists. \n",
        "t = tls[0]; t[:20]                                                       # Inspection. \n",
        "tls.decode(t)[:100]                                                      # Initializing Decoding. "
      ],
      "execution_count": 21,
      "outputs": [
        {
          "output_type": "execute_result",
          "data": {
            "application/vnd.google.colaboratory.intrinsic+json": {
              "type": "string"
            },
            "text/plain": [
              "'xxbos xxmaj wow , a movie about xxup nyc politics seemingly written by someone who has never set foo'"
            ]
          },
          "metadata": {
            "tags": []
          },
          "execution_count": 21
        }
      ]
    },
    {
      "cell_type": "code",
      "metadata": {
        "colab": {
          "base_uri": "https://localhost:8080/"
        },
        "id": "TpV2OssK_5s9",
        "outputId": "b65bc315-3faf-4499-d48e-a8eaf776ab58"
      },
      "source": [
        "#@ INSPECTING THE DECODED INFORMATION: \n",
        "tls.show(t)"
      ],
      "execution_count": 22,
      "outputs": [
        {
          "output_type": "stream",
          "text": [
            "xxbos xxmaj wow , a movie about xxup nyc politics seemingly written by someone who has never set foot in xxup nyc . xxmaj you know there 's a problem when at one moment you expect the credits to roll and the movie continues on for another half hour . xxmaj the characters are boring , xxmaj john xxmaj cusack 's accent is laughable , and the plotline teeters between boring and laughable . a horrible movie .\n"
          ],
          "name": "stdout"
        }
      ]
    },
    {
      "cell_type": "code",
      "metadata": {
        "colab": {
          "base_uri": "https://localhost:8080/"
        },
        "id": "zReFdaRuAbs4",
        "outputId": "b018802d-8aab-4174-8289-524e26508e0f"
      },
      "source": [
        "#@ CREATING TRAINING AND VALIDATION SET: \n",
        "cut = int(len(files)*0.8)                                                # Getting Ratios.\n",
        "splits = [list(range(cut)), list(range(cut, len(files)))]                # Getting Splitting Ranges. \n",
        "tls = TfmdLists(files, [Tokenizer.from_folder(path), Numericalize], \n",
        "                splits=splits)                                           # Transformed Lists with Splits. \n",
        "tls.valid[0][:20]                                                        # Inspecting Transformed Data. "
      ],
      "execution_count": 23,
      "outputs": [
        {
          "output_type": "execute_result",
          "data": {
            "text/plain": [
              "TensorText([    2,   232,   232,     0,   452,    35,     9,   690,    22,     9,     8,  7588,     8, 39349,    22,    60,    13,   794,   146,    50])"
            ]
          },
          "metadata": {
            "tags": []
          },
          "execution_count": 23
        }
      ]
    },
    {
      "cell_type": "code",
      "metadata": {
        "colab": {
          "base_uri": "https://localhost:8080/"
        },
        "id": "dvAD3l8KC-0Q",
        "outputId": "bcdcb916-885a-42f3-a6ef-23df0f31fee2"
      },
      "source": [
        "#@ IMPLEMENTATION OF TRANSFORMS: \n",
        "lbls = files.map(parent_label)                                           # Getting Labels. \n",
        "cat = Categorize()                                                       # Initializing Categorize Method. \n",
        "cat.setup(lbls)                                                          # Initializing Categorize Object. \n",
        "cat.vocab, cat(lbls[0])                                                  # Inspecting the Categories. "
      ],
      "execution_count": 24,
      "outputs": [
        {
          "output_type": "execute_result",
          "data": {
            "text/plain": [
              "(['neg', 'pos'], TensorCategory(0))"
            ]
          },
          "metadata": {
            "tags": []
          },
          "execution_count": 24
        }
      ]
    },
    {
      "cell_type": "code",
      "metadata": {
        "colab": {
          "base_uri": "https://localhost:8080/"
        },
        "id": "dUDqQe0kFYBv",
        "outputId": "62f3e7b6-2caa-4aef-a16b-a94ebf9f3f5b"
      },
      "source": [
        "#@ IMPLEMENTATION OF TRANSFROMED LISTS: CATEGORIZE: \n",
        "tls_y = TfmdLists(files, [parent_label, Categorize()])                   # Initializing Transformed Lists. \n",
        "tls_y[0]                                                                 # Inspection. "
      ],
      "execution_count": 25,
      "outputs": [
        {
          "output_type": "execute_result",
          "data": {
            "text/plain": [
              "TensorCategory(0)"
            ]
          },
          "metadata": {
            "tags": []
          },
          "execution_count": 25
        }
      ]
    },
    {
      "cell_type": "markdown",
      "metadata": {
        "id": "y_1KT3jHFjPp"
      },
      "source": [
        "**DATASETS:**\n",
        "- **Datasets** will apply two or more pipelines in parallel to the same raw object and build a tuple with the result. It will automatically do the setup and index into a **Datasets**. "
      ]
    },
    {
      "cell_type": "code",
      "metadata": {
        "id": "yB_B32CFHCU3",
        "colab": {
          "base_uri": "https://localhost:8080/"
        },
        "outputId": "8a2cca0a-bc23-4f6b-ace2-96f842aa5cc8"
      },
      "source": [
        "#@ IMPLEMENTATION OF DATASETS: \n",
        "x_tfms = [Tokenizer.from_folder(path), Numericalize]                   # Initializing Transformations.\n",
        "y_tfms = [parent_label, Categorize()]                                  # Initializing Target Transformations.    \n",
        "dsets = Datasets(files, [x_tfms, y_tfms])                              # Initializing Datasets. \n",
        "x, y = dsets[0]                                                        # Getting Data. \n",
        "x[:20], y                                                              # Inspection. "
      ],
      "execution_count": 30,
      "outputs": [
        {
          "output_type": "execute_result",
          "data": {
            "text/plain": [
              "(TensorText([   2,    8, 1387,   11,   13,   30,   60,    7, 4584, 2517, 1498,  432,   48,  308,   50,   61,  133,  289, 2573,   18]),\n",
              " TensorCategory(0))"
            ]
          },
          "metadata": {
            "tags": []
          },
          "execution_count": 30
        }
      ]
    },
    {
      "cell_type": "code",
      "metadata": {
        "colab": {
          "base_uri": "https://localhost:8080/"
        },
        "id": "uSd_IXpbIWUn",
        "outputId": "1b752949-0026-49fd-eb05-1aa4aa534621"
      },
      "source": [
        "#@ IMPLEMENTATION OF DATASETS WITH SPLITTING:\n",
        "x_tfms = [Tokenizer.from_folder(path), Numericalize]                   # Initializing Transformations.\n",
        "y_tfms = [parent_label, Categorize()]                                  # Initializing Target Transformations.    \n",
        "dsets = Datasets(files, [x_tfms, y_tfms], splits=splits)               # Initializing Datasets. \n",
        "x, y = dsets[0]                                                        # Getting Data. \n",
        "x[:20], y                                                              # Inspection. "
      ],
      "execution_count": 31,
      "outputs": [
        {
          "output_type": "execute_result",
          "data": {
            "text/plain": [
              "(TensorText([   2,    8, 1387,   11,   13,   30,   60,    7, 4584, 2517, 1498,  432,   48,  308,   50,   61,  133,  289, 2573,   18]),\n",
              " TensorCategory(0))"
            ]
          },
          "metadata": {
            "tags": []
          },
          "execution_count": 31
        }
      ]
    },
    {
      "cell_type": "code",
      "metadata": {
        "colab": {
          "base_uri": "https://localhost:8080/"
        },
        "id": "ktJxC6ehJHip",
        "outputId": "e820eb37-ae8c-412c-f70a-5a9c0763b379"
      },
      "source": [
        "#@ DECODING DATASETS: \n",
        "t = dsets.valid[0]                                                      # Getting Data. \n",
        "dsets.decode(t)                                                         # Initializing Decoding. "
      ],
      "execution_count": 32,
      "outputs": [
        {
          "output_type": "execute_result",
          "data": {
            "text/plain": [
              "('xxbos * * xxunk based on the novel \" the xxmaj brick xxmaj foxhole \" about a gay man who was murdered by a xxup gi on leave because of his sexual orientation . xxmaj the movie \" crossfire \" is about a violently anti - semitic xxup gi who because of his own failures and frustrations in life takes it out on those of the xxmaj jewish persuasion . xxmaj whom he obviously feels threatened by . \\n\\n xxmaj getting himself tanked up at a local xxunk in xxup d.c barley sober xxup us serviceman xxmaj xxunk , xxmaj robert xxmaj ryan , spots xxmaj joseph xxmaj samuel , xxmaj sam xxmaj xxunk , and starts to get a bit overly , yet sarcastically , friendly with him . xxmaj it seems that xxmaj montgomery is a bit ticked off at xxmaj samuels because he \\'s talking to his best friend and xxup gi buddy xxmaj arthur xxmaj mitchell , xxmaj george xxmaj cooper . xxmaj samuel is also getting through , which the xxmaj neanderthal xxmaj montgomery ca n\\'t , to the sensitive young xxup gi who \\'s into the arts , he \\'s an artist and painter on the outside , about war , xxup wwii the war that just ended . xxmaj as well as the shaky peace , if that \\'s what it is with the dawn of atomic bomb , that \\'s now following it in this very dangerous and unstable world . xxmaj what really outrages xxmaj montgomery more then anything else about xxmaj samuels is that he \\'s obviously xxmaj jewish . xxmaj that more then anything else is enough reason for the racist xxmaj montgomery to want to do xxmaj samuels in . \\n\\n xxmaj xxunk xxmaj inviting xxmaj mitchell to join him and his lady friend xxmaj miss . xxmaj lewis , xxmaj marlow xxmaj dwyer , at his apartment to have a couple of drinks and continue the very deep and stimulating conversation that they started at the bar . xxmaj this has a , what seems like , very jealous and feeling hurt and rejected xxmaj montgomery together with his also inebriated but somewhat clueless , in what xxmaj montgomery \\'s plans for xxmaj samuels are , friend and fellow xxup gi xxmaj floyd xxmaj bowers , steve xxmaj brodie , later that night go uninvited to xxmaj samuels \\' place . \\n\\n xxmaj with the party already ended , with xxmaj mitchell and xxmaj miss xxmaj lewis gone , the two very drunk gi \\'s unceremoniously crash the place . xxmaj the fact that xxmaj samuels , in xxmaj montgomery \\'s sick and anti - semitic mind , stole xxmaj mitchell away from him had him whip himself up into a white hot frenzy . xxmaj montgomery and xxmaj bowers break into xxmaj samuel \\'s home raiding his well stacked liquor cabinet with xxmaj montgomery taking a couple of swigs , against xxmaj samuels \\' strong objections , of xxmaj samuels \\' very expansive and refined wines and spirits which is very unlike the watered down and cheap booze that the uncouth xxmaj montgomery is used to guzzling . xxmaj this all soon lead to a violent and brutal assault on xxmaj samuels by the angry psychotic and drunk xxmaj montgomery , with xxmaj bowers out cold on the sofa from all the liquor he consumed , who beats the poor and innocent man to death . \\n\\n xxmaj the movie \" crossfire \" then goes into a long and tedious , since it \\'s obvious from the start who xxmaj samuels \\' killer is , investigation into why xxmaj samuels a wounded and decorated xxup wwii veteran , who got the purple heart in the battle of xxmaj okinawa , was murdered with xxmaj montgomery acting like he \\'s really interested , yeah sure , in finding xxmaj samuels \\' killer , which in reality is himself . xxmaj this so - called voluntarily action on xxmaj montgomery \\'s part in order to throw off suspicion on himself that he may be the man who killed him . \\n\\n xxmaj montgomery is so ridicules and even , for someone who smugly considers himself to be very smart , stupid in him constantly opening up his big yap and spewing out anti - semitic and racist xxunk and slurs about the murdered xxmaj samuels ! xxmaj that only throws suspicion on himself and no one else . i guess that guy just could n\\'t help it . \\n\\n xxmaj it \\'s not enough that xxmaj montgomery murdered xxmaj samuels who in his sick mind was one of \" them \" he even murders his friend the scared to death , in being implicated in xxmaj samuels \\' murder , xxmaj bowers ! xxmaj who in xxmaj montgomery racist way of thinking is one of \" us \" ! xxmaj just because he was afraid xxmaj bowers would talk to the police in order to save his own sorry neck and thus have the spotlight put on xxmaj xxunk in xxmaj samuels \\' death . \\n\\n xxmaj it does n\\'t take that long for the detective on the case xxmaj capt . xxmaj finlay , xxmaj robert xxmaj young , to see through xxmaj xxunk obvious lies and deceptions and then has him set up by having another xxup gi \" friend \" of his xxmaj leroy ( william xxmaj phipps ) , who was the butt of all his dumb and racist hillbilly jokes , set the arrogant creep up . xxmaj this has xxmaj montgomery coming back to the scene of his crime , where he murdered xxmaj bowers , where a trap has been set up for him . xxmaj that was all xxmaj capt . xxmaj finlay needed to get xxmaj montgomery to panic , when xxmaj montgomery saw that the jig was up , and make a run for it straight into the crossfire of a police ambush . \\n\\n xxmaj dated a bit now but very hard - hitting back in 1947 when it was released . \" crossfire \" addressed the horrors of anti - semitism when it at the time was kept under the covers , and out of sight , in almost every post - wwii xxmaj hollywood movie about the evils of racism in the xxup us , and in xxmaj europe . xxmaj even after the xxmaj second xxmaj world xxmaj war and with what happened to the xxmaj jews in it . xxmaj when it should have been given the very full and honest xxunk , to the movie going public , that it so rightfully deserved .',\n",
              " 'pos')"
            ]
          },
          "metadata": {
            "tags": []
          },
          "execution_count": 32
        }
      ]
    },
    {
      "cell_type": "code",
      "metadata": {
        "id": "uwKS_8WKJdT3"
      },
      "source": [
        "#@ CREATING DATA LOADERS: \n",
        "dls = dsets.dataloaders(bs=64, before_batch=pad_input)                   # Initializing Data Loaders. "
      ],
      "execution_count": 33,
      "outputs": []
    },
    {
      "cell_type": "code",
      "metadata": {
        "id": "rz_oQgcxKroW"
      },
      "source": [
        "#@ PREPARING DATA FOR TEXT CLASSIFICATION: FINAL CODE: \n",
        "tfms = [[Tokenizer.from_folder(path), Numericalize], \n",
        "        [parent_label, Categorize()]]                                    # Initializing Transformations. \n",
        "files = get_text_files(path, folders=[\"train\", \"test\"])                  # Getting Text Files. \n",
        "splits = GrandparentSplitter(valid_name=\"test\")(files)                   # Splitting the Datasets. \n",
        "dsets = Datasets(files, tfms, splits=splits)                             # Initializing Datasets. \n",
        "dls = dsets.dataloaders(dl_type=SortedDL, before_batch=pad_input)        # Initializing Data Loaders. "
      ],
      "execution_count": 34,
      "outputs": []
    },
    {
      "cell_type": "code",
      "metadata": {
        "id": "U_awYtdBNB5-"
      },
      "source": [
        "#@ PREPARING DATA FOR TEXT CLASSIFICATION: DATA BLOCK:\n",
        "path = untar_data(URLs.IMDB)                                             # Path to the Dataset. \n",
        "dls = DataBlock(blocks=(TextBlock.from_folder(path), CategoryBlock),     # Initializing Text Block. \n",
        "                get_y=parent_label,                                      # Target Label. \n",
        "                get_items=partial(get_text_files, \n",
        "                                  folders=[\"train\", \"test\"]),            # Getting Text Files. \n",
        "                splitter=GrandparentSplitter(valid_name=\"test\")          # Splitting the Data. \n",
        "                ).dataloaders(path)                                      # Initializing Data Loaders. "
      ],
      "execution_count": 35,
      "outputs": []
    },
    {
      "cell_type": "code",
      "metadata": {
        "id": "adIcoLyoO5DN"
      },
      "source": [
        ""
      ],
      "execution_count": null,
      "outputs": []
    }
  ]
}