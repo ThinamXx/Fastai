{
  "nbformat": 4,
  "nbformat_minor": 0,
  "metadata": {
    "colab": {
      "name": "ImagenetteClassification.ipynb",
      "provenance": [],
      "collapsed_sections": []
    },
    "kernelspec": {
      "name": "python3",
      "display_name": "Python 3"
    },
    "language_info": {
      "name": "python"
    },
    "accelerator": "GPU"
  },
  "cells": [
    {
      "cell_type": "markdown",
      "metadata": {
        "id": "8jdU0tjMOq8O"
      },
      "source": [
        "**INITIALIZATION**\n",
        "- I use these three lines of code on top of my each notebooks because it will help to prevent any problems while reloading the same project. And the third line of code helps to make visualization within the notebook."
      ]
    },
    {
      "cell_type": "code",
      "metadata": {
        "id": "yVdVcLM6MYjy"
      },
      "source": [
        "#@ INITIALIZATION: \n",
        "%reload_ext autoreload\n",
        "%autoreload 2\n",
        "%matplotlib inline"
      ],
      "execution_count": 1,
      "outputs": []
    },
    {
      "cell_type": "markdown",
      "metadata": {
        "id": "4F3cfT9zO2wd"
      },
      "source": [
        "**LIBRARIES AND DEPENDENCIES**\n",
        "- I have downloaded all the libraries and dependencies required for the project in one particular cell."
      ]
    },
    {
      "cell_type": "code",
      "metadata": {
        "id": "vgiKpiETO0C1"
      },
      "source": [
        "#@ INSTALLING DEPENDENCIES: UNCOMMENT BELOW: \n",
        "# !pip install -Uqq fastbook\n",
        "# import fastbook\n",
        "# fastbook.setup_book()"
      ],
      "execution_count": 3,
      "outputs": []
    },
    {
      "cell_type": "code",
      "metadata": {
        "id": "RXaHyA1mPBdN"
      },
      "source": [
        "#@ DOWNLOADING LIBRARIES AND DEPENDENCIES: \n",
        "from fastbook import *                                  # Getting all the Libraries. \n",
        "from fastai.callback.fp16 import *\n",
        "from fastai.vision.all import *                         # Getting all the Libraries."
      ],
      "execution_count": 4,
      "outputs": []
    },
    {
      "cell_type": "markdown",
      "metadata": {
        "id": "mu5l5FkGPWfJ"
      },
      "source": [
        "**GETTING THE DATASET**\n",
        "- I will use **Imagenette** dataset here. "
      ]
    },
    {
      "cell_type": "code",
      "metadata": {
        "colab": {
          "base_uri": "https://localhost:8080/",
          "height": 34
        },
        "id": "jbw6TEu-PSKm",
        "outputId": "f5d9de9c-e59a-4abf-cd90-b61e00cddb9f"
      },
      "source": [
        "#@ GETTING THE DATASET: \n",
        "path = untar_data(URLs.IMAGENETTE)                      # Path to the Dataset. \n",
        "path.ls()                                               # Inspecting the Dataset. "
      ],
      "execution_count": 5,
      "outputs": [
        {
          "output_type": "display_data",
          "data": {
            "text/html": [
              ""
            ],
            "text/plain": [
              "<IPython.core.display.HTML object>"
            ]
          },
          "metadata": {
            "tags": []
          }
        },
        {
          "output_type": "execute_result",
          "data": {
            "text/plain": [
              "(#3) [Path('/root/.fastai/data/imagenette2/train'),Path('/root/.fastai/data/imagenette2/val'),Path('/root/.fastai/data/imagenette2/noisy_imagenette.csv')]"
            ]
          },
          "metadata": {
            "tags": []
          },
          "execution_count": 5
        }
      ]
    },
    {
      "cell_type": "markdown",
      "metadata": {
        "id": "DMVMdfYeQ0ui"
      },
      "source": [
        "**DATABLOCK AND DATALOADERS**\n",
        "- I will get the dataset into **DataLoaders** object using the **Presizing**. "
      ]
    },
    {
      "cell_type": "code",
      "metadata": {
        "id": "QqA7IdoOP2Yt"
      },
      "source": [
        "#@ INITIALIZING DATABLOCK AND DATALOADERS:\n",
        "dblock = DataBlock(blocks=(ImageBlock(), CategoryBlock()),        # Initializing DataBlock and Category Block. \n",
        "                   get_items=get_image_files,                     # Getting Images. \n",
        "                   get_y=parent_label,                            # Getting Labels. \n",
        "                   item_tfms=Resize(460),                         # Resizing Images. \n",
        "                   batch_tfms=aug_transforms(size=224, \n",
        "                                             min_scale=0.75))     # Initializing DataBlock and Augmentation. \n",
        "dls = dblock.dataloaders(path, bs=64)                             # Initializing DataLoaders and Batchsize. "
      ],
      "execution_count": 7,
      "outputs": []
    },
    {
      "cell_type": "markdown",
      "metadata": {
        "id": "d3oHgAIhTTnA"
      },
      "source": [
        "**TRAINING THE MODEL**"
      ]
    },
    {
      "cell_type": "code",
      "metadata": {
        "colab": {
          "base_uri": "https://localhost:8080/",
          "height": 204
        },
        "id": "zA4w46m2S0gu",
        "outputId": "e0470bae-7f06-4ac4-a5a1-bbff3338fa43"
      },
      "source": [
        "#@ TRAINING THE MODEL: BASELINE:\n",
        "model = xresnet50()                                               # Initializing the Model. \n",
        "learn = Learner(dls, model, loss_func=CrossEntropyLossFlat(), \n",
        "                metrics=accuracy).to_fp16()                       # Initializing the Learner. \n",
        "learn.fit_one_cycle(5, 3e-3)                                      # Training the Model. "
      ],
      "execution_count": 9,
      "outputs": [
        {
          "output_type": "display_data",
          "data": {
            "text/html": [
              "<table border=\"1\" class=\"dataframe\">\n",
              "  <thead>\n",
              "    <tr style=\"text-align: left;\">\n",
              "      <th>epoch</th>\n",
              "      <th>train_loss</th>\n",
              "      <th>valid_loss</th>\n",
              "      <th>accuracy</th>\n",
              "      <th>time</th>\n",
              "    </tr>\n",
              "  </thead>\n",
              "  <tbody>\n",
              "    <tr>\n",
              "      <td>0</td>\n",
              "      <td>1.630768</td>\n",
              "      <td>2.106363</td>\n",
              "      <td>0.429052</td>\n",
              "      <td>02:12</td>\n",
              "    </tr>\n",
              "    <tr>\n",
              "      <td>1</td>\n",
              "      <td>1.248832</td>\n",
              "      <td>1.514785</td>\n",
              "      <td>0.532487</td>\n",
              "      <td>02:13</td>\n",
              "    </tr>\n",
              "    <tr>\n",
              "      <td>2</td>\n",
              "      <td>0.974968</td>\n",
              "      <td>0.999128</td>\n",
              "      <td>0.700149</td>\n",
              "      <td>02:13</td>\n",
              "    </tr>\n",
              "    <tr>\n",
              "      <td>3</td>\n",
              "      <td>0.738964</td>\n",
              "      <td>0.789645</td>\n",
              "      <td>0.748693</td>\n",
              "      <td>02:15</td>\n",
              "    </tr>\n",
              "    <tr>\n",
              "      <td>4</td>\n",
              "      <td>0.583899</td>\n",
              "      <td>0.583539</td>\n",
              "      <td>0.820762</td>\n",
              "      <td>02:15</td>\n",
              "    </tr>\n",
              "  </tbody>\n",
              "</table>"
            ],
            "text/plain": [
              "<IPython.core.display.HTML object>"
            ]
          },
          "metadata": {
            "tags": []
          }
        }
      ]
    },
    {
      "cell_type": "markdown",
      "metadata": {
        "id": "2_I-8hatLvLa"
      },
      "source": [
        "**NORMALIZATION**\n",
        "- When the model is training, it helps if the input data is normalized i.e has a mean of 0 and standard deviation of 1. "
      ]
    },
    {
      "cell_type": "code",
      "metadata": {
        "id": "Hnr8tRL3d_DH",
        "colab": {
          "base_uri": "https://localhost:8080/"
        },
        "outputId": "50a26296-7de4-41fb-d7dc-b316510d1e82"
      },
      "source": [
        "#@ GETTING MEAN AND STANDARD DEVIATION: \n",
        "x, y = dls.one_batch()                          # Getting a Batch of Data. \n",
        "x.mean(dim=[0, 2, 3]), x.std(dim=[0, 2, 3])     # Getting Mean and SD. "
      ],
      "execution_count": 10,
      "outputs": [
        {
          "output_type": "execute_result",
          "data": {
            "text/plain": [
              "(TensorImage([0.4465, 0.4698, 0.4701], device='cuda:0'),\n",
              " TensorImage([0.2860, 0.2840, 0.3174], device='cuda:0'))"
            ]
          },
          "metadata": {
            "tags": []
          },
          "execution_count": 10
        }
      ]
    },
    {
      "cell_type": "code",
      "metadata": {
        "colab": {
          "base_uri": "https://localhost:8080/"
        },
        "id": "RUIc7mu5OSlH",
        "outputId": "7537bc76-30be-4039-d0f8-de6dd1a2618b"
      },
      "source": [
        "#@ INITIALIZING NORMALIZATION: \n",
        "def get_dls(bs, size):\n",
        "    dblock = DataBlock(blocks=(ImageBlock, CategoryBlock),                     # Initializing DataBlock and Category Block.\n",
        "                       get_items=get_image_files,                              # Getting Images. \n",
        "                       get_y=parent_label,                                     # Getting Labels.\n",
        "                       item_tfms=Resize(460),                                  # Resizing Images.\n",
        "                       batch_tfms=[*aug_transforms(size=size, min_scale=0.75), # Initializing DataBlock.\n",
        "                                   Normalize.from_stats(*imagenet_stats)])     # Normalization. \n",
        "    return dblock.dataloaders(path, bs=bs)                                     # Getting DataLoaders. \n",
        "\n",
        "#@ GETTING DATALOADERS: \n",
        "dls = get_dls(64, 224)                                            # Getting DataLoaders. \n",
        "#@ GETTING MEAN AND STANDARD DEVIATION: \n",
        "x, y = dls.one_batch()                                            # Getting a Batch of Data. \n",
        "x.mean(dim=[0, 2, 3]), x.std(dim=[0, 2, 3])                       # Getting Mean and SD. "
      ],
      "execution_count": 11,
      "outputs": [
        {
          "output_type": "execute_result",
          "data": {
            "text/plain": [
              "(TensorImage([-0.0286,  0.0227,  0.1717], device='cuda:0'),\n",
              " TensorImage([1.2934, 1.3130, 1.3981], device='cuda:0'))"
            ]
          },
          "metadata": {
            "tags": []
          },
          "execution_count": 11
        }
      ]
    },
    {
      "cell_type": "code",
      "metadata": {
        "colab": {
          "base_uri": "https://localhost:8080/",
          "height": 204
        },
        "id": "njVJk_lRQKZy",
        "outputId": "f92dd8e1-77cf-46b2-ac86-4e1b2ec881f8"
      },
      "source": [
        "#@ TRAINING THE MODEL: AFTER NORMALIZATION: \n",
        "model = xresnet50()                                               # Initializing the Model. \n",
        "learn = Learner(dls, model, loss_func=CrossEntropyLossFlat(), \n",
        "                metrics=accuracy).to_fp16()                       # Initializing the Learner. \n",
        "learn.fit_one_cycle(5, 3e-3)                                      # Training the Model. "
      ],
      "execution_count": 12,
      "outputs": [
        {
          "output_type": "display_data",
          "data": {
            "text/html": [
              "<table border=\"1\" class=\"dataframe\">\n",
              "  <thead>\n",
              "    <tr style=\"text-align: left;\">\n",
              "      <th>epoch</th>\n",
              "      <th>train_loss</th>\n",
              "      <th>valid_loss</th>\n",
              "      <th>accuracy</th>\n",
              "      <th>time</th>\n",
              "    </tr>\n",
              "  </thead>\n",
              "  <tbody>\n",
              "    <tr>\n",
              "      <td>0</td>\n",
              "      <td>1.654204</td>\n",
              "      <td>2.848061</td>\n",
              "      <td>0.401419</td>\n",
              "      <td>02:14</td>\n",
              "    </tr>\n",
              "    <tr>\n",
              "      <td>1</td>\n",
              "      <td>1.247107</td>\n",
              "      <td>1.241298</td>\n",
              "      <td>0.613891</td>\n",
              "      <td>02:14</td>\n",
              "    </tr>\n",
              "    <tr>\n",
              "      <td>2</td>\n",
              "      <td>0.951346</td>\n",
              "      <td>1.396691</td>\n",
              "      <td>0.634802</td>\n",
              "      <td>02:13</td>\n",
              "    </tr>\n",
              "    <tr>\n",
              "      <td>3</td>\n",
              "      <td>0.747125</td>\n",
              "      <td>0.744110</td>\n",
              "      <td>0.771471</td>\n",
              "      <td>02:13</td>\n",
              "    </tr>\n",
              "    <tr>\n",
              "      <td>4</td>\n",
              "      <td>0.582027</td>\n",
              "      <td>0.594142</td>\n",
              "      <td>0.820388</td>\n",
              "      <td>02:14</td>\n",
              "    </tr>\n",
              "  </tbody>\n",
              "</table>"
            ],
            "text/plain": [
              "<IPython.core.display.HTML object>"
            ]
          },
          "metadata": {
            "tags": []
          }
        }
      ]
    },
    {
      "cell_type": "markdown",
      "metadata": {
        "id": "IHwXZ8U3TLo5"
      },
      "source": [
        "**PROGRESSIVE RESIZING**\n",
        "- Progressive Resizing is the process of gradually using larger and larger images as training progresses. "
      ]
    },
    {
      "cell_type": "code",
      "metadata": {
        "colab": {
          "base_uri": "https://localhost:8080/",
          "height": 173
        },
        "id": "QIXZPlXRQezG",
        "outputId": "fdbcf852-36f9-48b1-b4e6-7efc6c8c7ccd"
      },
      "source": [
        "#@ TRAINING THE MODEL: SMALL IMAGES: \n",
        "dls = get_dls(128, 128)                                           # Getting DataLoaders. \n",
        "learn = Learner(dls,xresnet50(),loss_func=CrossEntropyLossFlat(), \n",
        "                metrics=accuracy).to_fp16()                       # Initializing Learner. \n",
        "learn.fit_one_cycle(4, 3e-3)                                      # Training the Model. "
      ],
      "execution_count": 13,
      "outputs": [
        {
          "output_type": "display_data",
          "data": {
            "text/html": [
              "<table border=\"1\" class=\"dataframe\">\n",
              "  <thead>\n",
              "    <tr style=\"text-align: left;\">\n",
              "      <th>epoch</th>\n",
              "      <th>train_loss</th>\n",
              "      <th>valid_loss</th>\n",
              "      <th>accuracy</th>\n",
              "      <th>time</th>\n",
              "    </tr>\n",
              "  </thead>\n",
              "  <tbody>\n",
              "    <tr>\n",
              "      <td>0</td>\n",
              "      <td>1.887902</td>\n",
              "      <td>2.439564</td>\n",
              "      <td>0.415235</td>\n",
              "      <td>02:00</td>\n",
              "    </tr>\n",
              "    <tr>\n",
              "      <td>1</td>\n",
              "      <td>1.311301</td>\n",
              "      <td>1.190988</td>\n",
              "      <td>0.623600</td>\n",
              "      <td>01:59</td>\n",
              "    </tr>\n",
              "    <tr>\n",
              "      <td>2</td>\n",
              "      <td>0.970431</td>\n",
              "      <td>0.912942</td>\n",
              "      <td>0.711352</td>\n",
              "      <td>01:59</td>\n",
              "    </tr>\n",
              "    <tr>\n",
              "      <td>3</td>\n",
              "      <td>0.757482</td>\n",
              "      <td>0.686185</td>\n",
              "      <td>0.786034</td>\n",
              "      <td>02:00</td>\n",
              "    </tr>\n",
              "  </tbody>\n",
              "</table>"
            ],
            "text/plain": [
              "<IPython.core.display.HTML object>"
            ]
          },
          "metadata": {
            "tags": []
          }
        }
      ]
    },
    {
      "cell_type": "code",
      "metadata": {
        "id": "_SvcSTD_VesD",
        "colab": {
          "base_uri": "https://localhost:8080/",
          "height": 267
        },
        "outputId": "71a30d11-a9ef-463a-f495-61d6959dfa1b"
      },
      "source": [
        "#@ TRAINING THE MODEL: LARGE IMAGES: \n",
        "learn.dls = get_dls(64, 224)                                      # Initializing DataLoaders. \n",
        "learn.fine_tune(5, 1e-3)                                          # Training the Model. "
      ],
      "execution_count": 14,
      "outputs": [
        {
          "output_type": "display_data",
          "data": {
            "text/html": [
              "<table border=\"1\" class=\"dataframe\">\n",
              "  <thead>\n",
              "    <tr style=\"text-align: left;\">\n",
              "      <th>epoch</th>\n",
              "      <th>train_loss</th>\n",
              "      <th>valid_loss</th>\n",
              "      <th>accuracy</th>\n",
              "      <th>time</th>\n",
              "    </tr>\n",
              "  </thead>\n",
              "  <tbody>\n",
              "    <tr>\n",
              "      <td>0</td>\n",
              "      <td>0.854225</td>\n",
              "      <td>0.900401</td>\n",
              "      <td>0.712845</td>\n",
              "      <td>02:14</td>\n",
              "    </tr>\n",
              "  </tbody>\n",
              "</table>"
            ],
            "text/plain": [
              "<IPython.core.display.HTML object>"
            ]
          },
          "metadata": {
            "tags": []
          }
        },
        {
          "output_type": "display_data",
          "data": {
            "text/html": [
              "<table border=\"1\" class=\"dataframe\">\n",
              "  <thead>\n",
              "    <tr style=\"text-align: left;\">\n",
              "      <th>epoch</th>\n",
              "      <th>train_loss</th>\n",
              "      <th>valid_loss</th>\n",
              "      <th>accuracy</th>\n",
              "      <th>time</th>\n",
              "    </tr>\n",
              "  </thead>\n",
              "  <tbody>\n",
              "    <tr>\n",
              "      <td>0</td>\n",
              "      <td>0.673041</td>\n",
              "      <td>0.746189</td>\n",
              "      <td>0.766990</td>\n",
              "      <td>02:15</td>\n",
              "    </tr>\n",
              "    <tr>\n",
              "      <td>1</td>\n",
              "      <td>0.645187</td>\n",
              "      <td>0.793768</td>\n",
              "      <td>0.759895</td>\n",
              "      <td>02:16</td>\n",
              "    </tr>\n",
              "    <tr>\n",
              "      <td>2</td>\n",
              "      <td>0.597342</td>\n",
              "      <td>0.772277</td>\n",
              "      <td>0.764750</td>\n",
              "      <td>02:15</td>\n",
              "    </tr>\n",
              "    <tr>\n",
              "      <td>3</td>\n",
              "      <td>0.481323</td>\n",
              "      <td>0.480450</td>\n",
              "      <td>0.851755</td>\n",
              "      <td>02:14</td>\n",
              "    </tr>\n",
              "    <tr>\n",
              "      <td>4</td>\n",
              "      <td>0.441154</td>\n",
              "      <td>0.445771</td>\n",
              "      <td>0.865198</td>\n",
              "      <td>02:14</td>\n",
              "    </tr>\n",
              "  </tbody>\n",
              "</table>"
            ],
            "text/plain": [
              "<IPython.core.display.HTML object>"
            ]
          },
          "metadata": {
            "tags": []
          }
        }
      ]
    },
    {
      "cell_type": "markdown",
      "metadata": {
        "id": "7KXi34wKYL5R"
      },
      "source": [
        "**TEST TIME AUGMENTATION**\n",
        "- During inference or validation, creating multiple versions of each image using data augmentation and then taking the average or maximum of the predictions for each augmented version of the image is called **Test Time Augmentation**. "
      ]
    },
    {
      "cell_type": "code",
      "metadata": {
        "id": "tIWNAzwWZMvb",
        "colab": {
          "base_uri": "https://localhost:8080/",
          "height": 54
        },
        "outputId": "d8f99245-efb8-4fd0-fb10-8a71cf59b0d3"
      },
      "source": [
        "#@ INSPECTING ACCURACY: TEST TIME AUGMENTATION: \n",
        "preds, targs = learn.tta()                          # Implementation of TTA. \n",
        "accuracy(preds, targs).item()                       # Getting Accuracy. "
      ],
      "execution_count": 15,
      "outputs": [
        {
          "output_type": "display_data",
          "data": {
            "text/html": [
              "\n",
              "    <div>\n",
              "        <style>\n",
              "            /* Turns off some styling */\n",
              "            progress {\n",
              "                /* gets rid of default border in Firefox and Opera. */\n",
              "                border: none;\n",
              "                /* Needs to be in here for Safari polyfill so background images work as expected. */\n",
              "                background-size: auto;\n",
              "            }\n",
              "            .progress-bar-interrupted, .progress-bar-interrupted::-webkit-progress-bar {\n",
              "                background: #F44336;\n",
              "            }\n",
              "        </style>\n",
              "      <progress value='0' class='' max='5' style='width:300px; height:20px; vertical-align: middle;'></progress>\n",
              "      \n",
              "    </div>\n",
              "    \n"
            ],
            "text/plain": [
              "<IPython.core.display.HTML object>"
            ]
          },
          "metadata": {
            "tags": []
          }
        },
        {
          "output_type": "display_data",
          "data": {
            "text/html": [
              ""
            ],
            "text/plain": [
              "<IPython.core.display.HTML object>"
            ]
          },
          "metadata": {
            "tags": []
          }
        },
        {
          "output_type": "execute_result",
          "data": {
            "text/plain": [
              "0.8711724877357483"
            ]
          },
          "metadata": {
            "tags": []
          },
          "execution_count": 15
        }
      ]
    },
    {
      "cell_type": "markdown",
      "metadata": {
        "id": "4xA96UcNaga_"
      },
      "source": [
        "**MIXUP AUGMENTATION**\n",
        "- Mixup Augmentation works as follows: \n",
        "    - Select another image from the dataset at random. \n",
        "    - Pick a weight at random. \n",
        "    - Take a weighted average using the weight from above of the selected image with your image and it will be independent variable. \n",
        "    - Take a weighted average using the same weight of this image label with your image label and it will be dependent variable. "
      ]
    },
    {
      "cell_type": "code",
      "metadata": {
        "colab": {
          "base_uri": "https://localhost:8080/",
          "height": 204
        },
        "id": "KLgONhcDbsqQ",
        "outputId": "954deab7-1f69-430b-dd44-5ea5fb243131"
      },
      "source": [
        "#@ TRAINING THE MODEL WITH MIXUP AUGMENTATION: REQUIRES MORE EPOCHS: \n",
        "model = xresnet50()                                               # Initializing the Model. \n",
        "learn = Learner(dls, model, loss_func=CrossEntropyLossFlat(), \n",
        "                metrics=accuracy, cbs=MixUp).to_fp16()            # Initializing the Learner. \n",
        "learn.fit_one_cycle(5, 3e-3)                                      # Training the Model. "
      ],
      "execution_count": 17,
      "outputs": [
        {
          "output_type": "display_data",
          "data": {
            "text/html": [
              "<table border=\"1\" class=\"dataframe\">\n",
              "  <thead>\n",
              "    <tr style=\"text-align: left;\">\n",
              "      <th>epoch</th>\n",
              "      <th>train_loss</th>\n",
              "      <th>valid_loss</th>\n",
              "      <th>accuracy</th>\n",
              "      <th>time</th>\n",
              "    </tr>\n",
              "  </thead>\n",
              "  <tbody>\n",
              "    <tr>\n",
              "      <td>0</td>\n",
              "      <td>2.161976</td>\n",
              "      <td>2.607004</td>\n",
              "      <td>0.365198</td>\n",
              "      <td>01:59</td>\n",
              "    </tr>\n",
              "    <tr>\n",
              "      <td>1</td>\n",
              "      <td>1.699805</td>\n",
              "      <td>1.532858</td>\n",
              "      <td>0.562360</td>\n",
              "      <td>02:00</td>\n",
              "    </tr>\n",
              "    <tr>\n",
              "      <td>2</td>\n",
              "      <td>1.471420</td>\n",
              "      <td>1.041581</td>\n",
              "      <td>0.665795</td>\n",
              "      <td>01:59</td>\n",
              "    </tr>\n",
              "    <tr>\n",
              "      <td>3</td>\n",
              "      <td>1.284537</td>\n",
              "      <td>0.951021</td>\n",
              "      <td>0.703137</td>\n",
              "      <td>01:58</td>\n",
              "    </tr>\n",
              "    <tr>\n",
              "      <td>4</td>\n",
              "      <td>1.182544</td>\n",
              "      <td>0.708046</td>\n",
              "      <td>0.790142</td>\n",
              "      <td>02:00</td>\n",
              "    </tr>\n",
              "  </tbody>\n",
              "</table>"
            ],
            "text/plain": [
              "<IPython.core.display.HTML object>"
            ]
          },
          "metadata": {
            "tags": []
          }
        }
      ]
    },
    {
      "cell_type": "markdown",
      "metadata": {
        "id": "cIfu8h9GflmK"
      },
      "source": [
        "**LABEL SMOOTHING**\n",
        "- **Label Smoothing** is a process which replaces all the labels i.e 1s with a number a bit less than 1 and 0s with a number a bit more than 0 for training. It will make training more robust even if there is mislabeled data which results to be a model that generalizes better at inference. "
      ]
    },
    {
      "cell_type": "code",
      "metadata": {
        "colab": {
          "base_uri": "https://localhost:8080/",
          "height": 204
        },
        "id": "pv_H7kvGgvR-",
        "outputId": "645b7b47-5c00-4e90-df9b-bb4b5917eb68"
      },
      "source": [
        "#@ TRAINING THE MODEL WITH LABEL SMOOTHING: REQUIRES MORE EPOCHS: \n",
        "model = xresnet50()                                               # Initializing the Model. \n",
        "learn = Learner(dls,model,loss_func=LabelSmoothingCrossEntropy(), \n",
        "                metrics=accuracy).to_fp16()                       # Initializing the Learner. \n",
        "learn.fit_one_cycle(5, 3e-3)                                      # Training the Model. "
      ],
      "execution_count": 18,
      "outputs": [
        {
          "output_type": "display_data",
          "data": {
            "text/html": [
              "<table border=\"1\" class=\"dataframe\">\n",
              "  <thead>\n",
              "    <tr style=\"text-align: left;\">\n",
              "      <th>epoch</th>\n",
              "      <th>train_loss</th>\n",
              "      <th>valid_loss</th>\n",
              "      <th>accuracy</th>\n",
              "      <th>time</th>\n",
              "    </tr>\n",
              "  </thead>\n",
              "  <tbody>\n",
              "    <tr>\n",
              "      <td>0</td>\n",
              "      <td>2.746474</td>\n",
              "      <td>3.716041</td>\n",
              "      <td>0.340553</td>\n",
              "      <td>01:59</td>\n",
              "    </tr>\n",
              "    <tr>\n",
              "      <td>1</td>\n",
              "      <td>2.235328</td>\n",
              "      <td>2.053193</td>\n",
              "      <td>0.643391</td>\n",
              "      <td>02:00</td>\n",
              "    </tr>\n",
              "    <tr>\n",
              "      <td>2</td>\n",
              "      <td>1.954926</td>\n",
              "      <td>2.016363</td>\n",
              "      <td>0.651606</td>\n",
              "      <td>02:00</td>\n",
              "    </tr>\n",
              "    <tr>\n",
              "      <td>3</td>\n",
              "      <td>1.756929</td>\n",
              "      <td>1.641183</td>\n",
              "      <td>0.789768</td>\n",
              "      <td>01:59</td>\n",
              "    </tr>\n",
              "    <tr>\n",
              "      <td>4</td>\n",
              "      <td>1.615035</td>\n",
              "      <td>1.590236</td>\n",
              "      <td>0.809186</td>\n",
              "      <td>02:00</td>\n",
              "    </tr>\n",
              "  </tbody>\n",
              "</table>"
            ],
            "text/plain": [
              "<IPython.core.display.HTML object>"
            ]
          },
          "metadata": {
            "tags": []
          }
        }
      ]
    }
  ]
}