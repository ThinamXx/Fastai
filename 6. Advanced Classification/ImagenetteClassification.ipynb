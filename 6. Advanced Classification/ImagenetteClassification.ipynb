{
  "nbformat": 4,
  "nbformat_minor": 0,
  "metadata": {
    "colab": {
      "name": "ImagenetteClassification.ipynb",
      "provenance": [],
      "collapsed_sections": []
    },
    "kernelspec": {
      "name": "python3",
      "display_name": "Python 3"
    },
    "language_info": {
      "name": "python"
    },
    "accelerator": "GPU"
  },
  "cells": [
    {
      "cell_type": "markdown",
      "metadata": {
        "id": "8jdU0tjMOq8O"
      },
      "source": [
        "**INITIALIZATION**\n",
        "- I use these three lines of code on top of my each notebooks because it will help to prevent any problems while reloading the same project. And the third line of code helps to make visualization within the notebook."
      ]
    },
    {
      "cell_type": "code",
      "metadata": {
        "id": "yVdVcLM6MYjy"
      },
      "source": [
        "#@ INITIALIZATION: \n",
        "%reload_ext autoreload\n",
        "%autoreload 2\n",
        "%matplotlib inline"
      ],
      "execution_count": 1,
      "outputs": []
    },
    {
      "cell_type": "markdown",
      "metadata": {
        "id": "4F3cfT9zO2wd"
      },
      "source": [
        "**LIBRARIES AND DEPENDENCIES**\n",
        "- I have downloaded all the libraries and dependencies required for the project in one particular cell."
      ]
    },
    {
      "cell_type": "code",
      "metadata": {
        "id": "vgiKpiETO0C1"
      },
      "source": [
        "#@ INSTALLING DEPENDENCIES: UNCOMMENT BELOW: \n",
        "# !pip install -Uqq fastbook\n",
        "# import fastbook\n",
        "# fastbook.setup_book()"
      ],
      "execution_count": 3,
      "outputs": []
    },
    {
      "cell_type": "code",
      "metadata": {
        "id": "RXaHyA1mPBdN"
      },
      "source": [
        "#@ DOWNLOADING LIBRARIES AND DEPENDENCIES: \n",
        "from fastbook import *                                  # Getting all the Libraries. \n",
        "from fastai.callback.fp16 import *\n",
        "from fastai.vision.all import *                         # Getting all the Libraries."
      ],
      "execution_count": 4,
      "outputs": []
    },
    {
      "cell_type": "markdown",
      "metadata": {
        "id": "mu5l5FkGPWfJ"
      },
      "source": [
        "**GETTING THE DATASET**\n",
        "- I will use **Imagenette** dataset here. "
      ]
    },
    {
      "cell_type": "code",
      "metadata": {
        "colab": {
          "base_uri": "https://localhost:8080/",
          "height": 34
        },
        "id": "jbw6TEu-PSKm",
        "outputId": "30183380-84a0-4283-adc5-9b6b04fa9e93"
      },
      "source": [
        "#@ GETTING THE DATASET: \n",
        "path = untar_data(URLs.IMAGENETTE)                      # Path to the Dataset. \n",
        "path.ls()                                               # Inspecting the Dataset. "
      ],
      "execution_count": 5,
      "outputs": [
        {
          "output_type": "display_data",
          "data": {
            "text/html": [
              ""
            ],
            "text/plain": [
              "<IPython.core.display.HTML object>"
            ]
          },
          "metadata": {
            "tags": []
          }
        },
        {
          "output_type": "execute_result",
          "data": {
            "text/plain": [
              "(#3) [Path('/root/.fastai/data/imagenette2/train'),Path('/root/.fastai/data/imagenette2/val'),Path('/root/.fastai/data/imagenette2/noisy_imagenette.csv')]"
            ]
          },
          "metadata": {
            "tags": []
          },
          "execution_count": 5
        }
      ]
    },
    {
      "cell_type": "markdown",
      "metadata": {
        "id": "DMVMdfYeQ0ui"
      },
      "source": [
        "**DATABLOCK AND DATALOADERS**\n",
        "- I will get the dataset into **DataLoaders** object using the **Presizing**. "
      ]
    },
    {
      "cell_type": "code",
      "metadata": {
        "id": "QqA7IdoOP2Yt"
      },
      "source": [
        "#@ INITIALIZING DATABLOCK AND DATALOADERS:\n",
        "dblock = DataBlock(blocks=(ImageBlock(), CategoryBlock()),        # Initializing DataBlock and Category Block. \n",
        "                   get_items=get_image_files,                     # Getting Images. \n",
        "                   get_y=parent_label,                            # Getting Labels. \n",
        "                   item_tfms=Resize(460),                         # Resizing Images. \n",
        "                   batch_tfms=aug_transforms(size=224, \n",
        "                                             min_scale=0.75))     # Initializing DataBlock and Augmentation. \n",
        "dls = dblock.dataloaders(path, bs=64)                             # Initializing DataLoaders and Batchsize. "
      ],
      "execution_count": 7,
      "outputs": []
    },
    {
      "cell_type": "markdown",
      "metadata": {
        "id": "d3oHgAIhTTnA"
      },
      "source": [
        "**TRAINING THE MODEL**"
      ]
    },
    {
      "cell_type": "code",
      "metadata": {
        "colab": {
          "base_uri": "https://localhost:8080/",
          "height": 204
        },
        "id": "zA4w46m2S0gu",
        "outputId": "19b2b3ae-1bdf-4e9a-b77b-58ec9173d207"
      },
      "source": [
        "#@ TRAINING THE MODEL: BASELINE:\n",
        "model = xresnet50()                                               # Initializing the Model. \n",
        "learn = Learner(dls, model, loss_func=CrossEntropyLossFlat(), \n",
        "                metrics=accuracy).to_fp16()                       # Initializing the Learner. \n",
        "learn.fit_one_cycle(5, 3e-3)                                      # Training the Model. "
      ],
      "execution_count": 9,
      "outputs": [
        {
          "output_type": "display_data",
          "data": {
            "text/html": [
              "<table border=\"1\" class=\"dataframe\">\n",
              "  <thead>\n",
              "    <tr style=\"text-align: left;\">\n",
              "      <th>epoch</th>\n",
              "      <th>train_loss</th>\n",
              "      <th>valid_loss</th>\n",
              "      <th>accuracy</th>\n",
              "      <th>time</th>\n",
              "    </tr>\n",
              "  </thead>\n",
              "  <tbody>\n",
              "    <tr>\n",
              "      <td>0</td>\n",
              "      <td>1.647606</td>\n",
              "      <td>2.069581</td>\n",
              "      <td>0.371546</td>\n",
              "      <td>02:18</td>\n",
              "    </tr>\n",
              "    <tr>\n",
              "      <td>1</td>\n",
              "      <td>1.243452</td>\n",
              "      <td>9.026949</td>\n",
              "      <td>0.259895</td>\n",
              "      <td>02:19</td>\n",
              "    </tr>\n",
              "    <tr>\n",
              "      <td>2</td>\n",
              "      <td>0.947631</td>\n",
              "      <td>0.984491</td>\n",
              "      <td>0.672890</td>\n",
              "      <td>02:18</td>\n",
              "    </tr>\n",
              "    <tr>\n",
              "      <td>3</td>\n",
              "      <td>0.738748</td>\n",
              "      <td>0.683733</td>\n",
              "      <td>0.783794</td>\n",
              "      <td>02:20</td>\n",
              "    </tr>\n",
              "    <tr>\n",
              "      <td>4</td>\n",
              "      <td>0.583327</td>\n",
              "      <td>0.576961</td>\n",
              "      <td>0.828603</td>\n",
              "      <td>02:19</td>\n",
              "    </tr>\n",
              "  </tbody>\n",
              "</table>"
            ],
            "text/plain": [
              "<IPython.core.display.HTML object>"
            ]
          },
          "metadata": {
            "tags": []
          }
        }
      ]
    },
    {
      "cell_type": "markdown",
      "metadata": {
        "id": "2_I-8hatLvLa"
      },
      "source": [
        "**NORMALIZATION**\n",
        "- When the model is training, it helps if the input data is normalized i.e has a mean of 0 and standard deviation of 1. "
      ]
    },
    {
      "cell_type": "code",
      "metadata": {
        "id": "Hnr8tRL3d_DH",
        "colab": {
          "base_uri": "https://localhost:8080/"
        },
        "outputId": "a9d76639-a703-4534-ce07-1e3829a2237c"
      },
      "source": [
        "#@ GETTING MEAN AND STANDARD DEVIATION: \n",
        "x, y = dls.one_batch()                          # Getting a Batch of Data. \n",
        "x.mean(dim=[0, 2, 3]), x.std(dim=[0, 2, 3])     # Getting Mean and SD. "
      ],
      "execution_count": 10,
      "outputs": [
        {
          "output_type": "execute_result",
          "data": {
            "text/plain": [
              "(TensorImage([0.4630, 0.4513, 0.4254], device='cuda:0'),\n",
              " TensorImage([0.2817, 0.2791, 0.3007], device='cuda:0'))"
            ]
          },
          "metadata": {
            "tags": []
          },
          "execution_count": 10
        }
      ]
    },
    {
      "cell_type": "code",
      "metadata": {
        "colab": {
          "base_uri": "https://localhost:8080/"
        },
        "id": "RUIc7mu5OSlH",
        "outputId": "5eecd8bc-1dbe-498b-a6f1-7a2cefb67c6e"
      },
      "source": [
        "#@ INITIALIZING NORMALIZATION: \n",
        "def get_dls(bs, size):\n",
        "    dblock = DataBlock(blocks=(ImageBlock, CategoryBlock),                     # Initializing DataBlock and Category Block.\n",
        "                       get_items=get_image_files,                              # Getting Images. \n",
        "                       get_y=parent_label,                                     # Getting Labels.\n",
        "                       item_tfms=Resize(460),                                  # Resizing Images.\n",
        "                       batch_tfms=[*aug_transforms(size=size, min_scale=0.75), # Initializing DataBlock.\n",
        "                                   Normalize.from_stats(*imagenet_stats)])     # Normalization. \n",
        "    return dblock.dataloaders(path, bs=bs)                                     # Getting DataLoaders. \n",
        "\n",
        "#@ GETTING DATALOADERS: \n",
        "dls = get_dls(64, 224)                                            # Getting DataLoaders. \n",
        "#@ GETTING MEAN AND STANDARD DEVIATION: \n",
        "x, y = dls.one_batch()                                            # Getting a Batch of Data. \n",
        "x.mean(dim=[0, 2, 3]), x.std(dim=[0, 2, 3])                       # Getting Mean and SD. "
      ],
      "execution_count": 12,
      "outputs": [
        {
          "output_type": "execute_result",
          "data": {
            "text/plain": [
              "(TensorImage([-0.1507, -0.1438, -0.1446], device='cuda:0'),\n",
              " TensorImage([1.1244, 1.1514, 1.2135], device='cuda:0'))"
            ]
          },
          "metadata": {
            "tags": []
          },
          "execution_count": 12
        }
      ]
    },
    {
      "cell_type": "code",
      "metadata": {
        "colab": {
          "base_uri": "https://localhost:8080/",
          "height": 204
        },
        "id": "njVJk_lRQKZy",
        "outputId": "929a1391-58bc-49c2-ec7a-426ffdf90935"
      },
      "source": [
        "#@ TRAINING THE MODEL: AFTER NORMALIZATION: \n",
        "model = xresnet50()                                               # Initializing the Model. \n",
        "learn = Learner(dls, model, loss_func=CrossEntropyLossFlat(), \n",
        "                metrics=accuracy).to_fp16()                       # Initializing the Learner. \n",
        "learn.fit_one_cycle(5, 3e-3)                                      # Training the Model. "
      ],
      "execution_count": 13,
      "outputs": [
        {
          "output_type": "display_data",
          "data": {
            "text/html": [
              "<table border=\"1\" class=\"dataframe\">\n",
              "  <thead>\n",
              "    <tr style=\"text-align: left;\">\n",
              "      <th>epoch</th>\n",
              "      <th>train_loss</th>\n",
              "      <th>valid_loss</th>\n",
              "      <th>accuracy</th>\n",
              "      <th>time</th>\n",
              "    </tr>\n",
              "  </thead>\n",
              "  <tbody>\n",
              "    <tr>\n",
              "      <td>0</td>\n",
              "      <td>1.695970</td>\n",
              "      <td>2.884375</td>\n",
              "      <td>0.371173</td>\n",
              "      <td>02:16</td>\n",
              "    </tr>\n",
              "    <tr>\n",
              "      <td>1</td>\n",
              "      <td>1.254432</td>\n",
              "      <td>1.597718</td>\n",
              "      <td>0.537715</td>\n",
              "      <td>02:17</td>\n",
              "    </tr>\n",
              "    <tr>\n",
              "      <td>2</td>\n",
              "      <td>0.976779</td>\n",
              "      <td>1.007531</td>\n",
              "      <td>0.686333</td>\n",
              "      <td>02:16</td>\n",
              "    </tr>\n",
              "    <tr>\n",
              "      <td>3</td>\n",
              "      <td>0.717962</td>\n",
              "      <td>0.779845</td>\n",
              "      <td>0.743465</td>\n",
              "      <td>02:18</td>\n",
              "    </tr>\n",
              "    <tr>\n",
              "      <td>4</td>\n",
              "      <td>0.570493</td>\n",
              "      <td>0.562726</td>\n",
              "      <td>0.819642</td>\n",
              "      <td>02:16</td>\n",
              "    </tr>\n",
              "  </tbody>\n",
              "</table>"
            ],
            "text/plain": [
              "<IPython.core.display.HTML object>"
            ]
          },
          "metadata": {
            "tags": []
          }
        }
      ]
    },
    {
      "cell_type": "markdown",
      "metadata": {
        "id": "IHwXZ8U3TLo5"
      },
      "source": [
        "**PROGRESSIVE RESIZING**\n",
        "- Progressive Resizing is the process of gradually using larger and larger images as training progresses. "
      ]
    },
    {
      "cell_type": "code",
      "metadata": {
        "colab": {
          "base_uri": "https://localhost:8080/",
          "height": 173
        },
        "id": "QIXZPlXRQezG",
        "outputId": "9e6fb7f3-2e61-49dd-dda9-a966a2045c64"
      },
      "source": [
        "#@ TRAINING THE MODEL: SMALL IMAGES: \n",
        "dls = get_dls(128, 128)                                           # Getting DataLoaders. \n",
        "learn = Learner(dls,xresnet50(),loss_func=CrossEntropyLossFlat(), \n",
        "                metrics=accuracy).to_fp16()                       # Initializing Learner. \n",
        "learn.fit_one_cycle(4, 3e-3)                                      # Training the Model. "
      ],
      "execution_count": 15,
      "outputs": [
        {
          "output_type": "display_data",
          "data": {
            "text/html": [
              "<table border=\"1\" class=\"dataframe\">\n",
              "  <thead>\n",
              "    <tr style=\"text-align: left;\">\n",
              "      <th>epoch</th>\n",
              "      <th>train_loss</th>\n",
              "      <th>valid_loss</th>\n",
              "      <th>accuracy</th>\n",
              "      <th>time</th>\n",
              "    </tr>\n",
              "  </thead>\n",
              "  <tbody>\n",
              "    <tr>\n",
              "      <td>0</td>\n",
              "      <td>1.841082</td>\n",
              "      <td>1.736076</td>\n",
              "      <td>0.485437</td>\n",
              "      <td>02:02</td>\n",
              "    </tr>\n",
              "    <tr>\n",
              "      <td>1</td>\n",
              "      <td>1.288558</td>\n",
              "      <td>1.820757</td>\n",
              "      <td>0.510456</td>\n",
              "      <td>02:02</td>\n",
              "    </tr>\n",
              "    <tr>\n",
              "      <td>2</td>\n",
              "      <td>0.961439</td>\n",
              "      <td>0.945185</td>\n",
              "      <td>0.700149</td>\n",
              "      <td>02:02</td>\n",
              "    </tr>\n",
              "    <tr>\n",
              "      <td>3</td>\n",
              "      <td>0.727146</td>\n",
              "      <td>0.690849</td>\n",
              "      <td>0.784914</td>\n",
              "      <td>02:02</td>\n",
              "    </tr>\n",
              "  </tbody>\n",
              "</table>"
            ],
            "text/plain": [
              "<IPython.core.display.HTML object>"
            ]
          },
          "metadata": {
            "tags": []
          }
        }
      ]
    },
    {
      "cell_type": "code",
      "metadata": {
        "id": "_SvcSTD_VesD"
      },
      "source": [
        "#@ TRAINING THE MODEL: LARGE IMAGES: \n",
        "learn.dls = get_dls(64, 224)                                      # Initializing DataLoaders. \n",
        "learn.fine_tune(5, 1e-3)                                          # Training the Model. "
      ],
      "execution_count": null,
      "outputs": []
    },
    {
      "cell_type": "code",
      "metadata": {
        "id": "tIWNAzwWZMvb"
      },
      "source": [
        ""
      ],
      "execution_count": null,
      "outputs": []
    }
  ]
}