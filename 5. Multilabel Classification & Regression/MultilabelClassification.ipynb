{
  "nbformat": 4,
  "nbformat_minor": 0,
  "metadata": {
    "colab": {
      "name": "MultilabelClassification.ipynb",
      "provenance": []
    },
    "kernelspec": {
      "name": "python3",
      "display_name": "Python 3"
    },
    "language_info": {
      "name": "python"
    },
    "accelerator": "GPU"
  },
  "cells": [
    {
      "cell_type": "markdown",
      "metadata": {
        "id": "KbOE8qe179op"
      },
      "source": [
        "### **INITIALIZATION**\n",
        "- I use these three lines of code on top of my each notebooks because it will help to prevent any problems while reloading the same project. And the third line of code helps to make visualization within the notebook."
      ]
    },
    {
      "cell_type": "code",
      "metadata": {
        "id": "D-wg8P8l6mp8"
      },
      "source": [
        "#@ INITIALIZATION: \n",
        "%reload_ext autoreload\n",
        "%autoreload 2\n",
        "%matplotlib inline"
      ],
      "execution_count": 1,
      "outputs": []
    },
    {
      "cell_type": "markdown",
      "metadata": {
        "id": "trwMJYr98JUV"
      },
      "source": [
        "**LIBRARIES AND DEPENDENCIES**\n",
        "- I have downloaded all the libraries and dependencies required for the project in one particular cell."
      ]
    },
    {
      "cell_type": "code",
      "metadata": {
        "id": "TEMgJqC98HuB"
      },
      "source": [
        "#@ INSTALLING DEPENDENCIES: UNCOMMENT BELOW: \n",
        "# !pip install -Uqq fastbook\n",
        "# import fastbook\n",
        "# fastbook.setup_book()"
      ],
      "execution_count": 3,
      "outputs": []
    },
    {
      "cell_type": "code",
      "metadata": {
        "id": "9NYmmH2-8UqM"
      },
      "source": [
        "#@ DOWNLOADING LIBRARIES AND DEPENDENCIES: \n",
        "from fastbook import *                                  # Getting all the Libraries. \n",
        "from fastai.callback.fp16 import *\n",
        "from fastai.vision.all import *                         # Getting all the Libraries."
      ],
      "execution_count": 4,
      "outputs": []
    },
    {
      "cell_type": "markdown",
      "metadata": {
        "id": "edATekJp8kkQ"
      },
      "source": [
        "### **GETTING THE DATA**\n",
        "- I am going to use **PASCAL** dataset which has more than one kind of classified object per image. I will download and extract the dataset here. "
      ]
    },
    {
      "cell_type": "code",
      "metadata": {
        "colab": {
          "base_uri": "https://localhost:8080/",
          "height": 54
        },
        "id": "-NiSxQgN8iB_",
        "outputId": "6c6e556b-f684-4f3c-c53c-7595beffa96b"
      },
      "source": [
        "#@ GETTING THE DATA: \n",
        "path = untar_data(URLs.PASCAL_2007)            # Path to the Dataset. \n",
        "path.ls()                                      # Inspecting the Dataset. "
      ],
      "execution_count": 5,
      "outputs": [
        {
          "output_type": "display_data",
          "data": {
            "text/html": [
              ""
            ],
            "text/plain": [
              "<IPython.core.display.HTML object>"
            ]
          },
          "metadata": {
            "tags": []
          }
        },
        {
          "output_type": "execute_result",
          "data": {
            "text/plain": [
              "(#8) [Path('/root/.fastai/data/pascal_2007/valid.json'),Path('/root/.fastai/data/pascal_2007/train.csv'),Path('/root/.fastai/data/pascal_2007/test.json'),Path('/root/.fastai/data/pascal_2007/test.csv'),Path('/root/.fastai/data/pascal_2007/train.json'),Path('/root/.fastai/data/pascal_2007/test'),Path('/root/.fastai/data/pascal_2007/segmentation'),Path('/root/.fastai/data/pascal_2007/train')]"
            ]
          },
          "metadata": {
            "tags": []
          },
          "execution_count": 5
        }
      ]
    },
    {
      "cell_type": "code",
      "metadata": {
        "colab": {
          "base_uri": "https://localhost:8080/",
          "height": 204
        },
        "id": "k--q_3kE9qQH",
        "outputId": "8fb6419f-d05d-44b5-cde7-786e8f400f7c"
      },
      "source": [
        "#@ INSPECTING THE DATASET: \n",
        "data = pd.read_csv(path/\"train.csv\")           # Reading the Dataset. \n",
        "data.head()                                    # Inspecting the Dataset. "
      ],
      "execution_count": 6,
      "outputs": [
        {
          "output_type": "execute_result",
          "data": {
            "text/html": [
              "<div>\n",
              "<style scoped>\n",
              "    .dataframe tbody tr th:only-of-type {\n",
              "        vertical-align: middle;\n",
              "    }\n",
              "\n",
              "    .dataframe tbody tr th {\n",
              "        vertical-align: top;\n",
              "    }\n",
              "\n",
              "    .dataframe thead th {\n",
              "        text-align: right;\n",
              "    }\n",
              "</style>\n",
              "<table border=\"1\" class=\"dataframe\">\n",
              "  <thead>\n",
              "    <tr style=\"text-align: right;\">\n",
              "      <th></th>\n",
              "      <th>fname</th>\n",
              "      <th>labels</th>\n",
              "      <th>is_valid</th>\n",
              "    </tr>\n",
              "  </thead>\n",
              "  <tbody>\n",
              "    <tr>\n",
              "      <th>0</th>\n",
              "      <td>000005.jpg</td>\n",
              "      <td>chair</td>\n",
              "      <td>True</td>\n",
              "    </tr>\n",
              "    <tr>\n",
              "      <th>1</th>\n",
              "      <td>000007.jpg</td>\n",
              "      <td>car</td>\n",
              "      <td>True</td>\n",
              "    </tr>\n",
              "    <tr>\n",
              "      <th>2</th>\n",
              "      <td>000009.jpg</td>\n",
              "      <td>horse person</td>\n",
              "      <td>True</td>\n",
              "    </tr>\n",
              "    <tr>\n",
              "      <th>3</th>\n",
              "      <td>000012.jpg</td>\n",
              "      <td>car</td>\n",
              "      <td>False</td>\n",
              "    </tr>\n",
              "    <tr>\n",
              "      <th>4</th>\n",
              "      <td>000016.jpg</td>\n",
              "      <td>bicycle</td>\n",
              "      <td>True</td>\n",
              "    </tr>\n",
              "  </tbody>\n",
              "</table>\n",
              "</div>"
            ],
            "text/plain": [
              "        fname        labels  is_valid\n",
              "0  000005.jpg         chair      True\n",
              "1  000007.jpg           car      True\n",
              "2  000009.jpg  horse person      True\n",
              "3  000012.jpg           car     False\n",
              "4  000016.jpg       bicycle      True"
            ]
          },
          "metadata": {
            "tags": []
          },
          "execution_count": 6
        }
      ]
    },
    {
      "cell_type": "markdown",
      "metadata": {
        "id": "-9JMCkeV_35T"
      },
      "source": [
        "### **INITIALIZING DATABLOCK AND DATALOADERS**"
      ]
    },
    {
      "cell_type": "markdown",
      "metadata": {
        "id": "QIUzLUoYAabJ"
      },
      "source": [
        "- **Dataset:** A collection that returns a tuple of independent and dependent variable for a single item. \n",
        "- **DataLoader:** An iterator that provides a stream of minibatches where each minibatch is a couple of a batch of independent variables and a batch of dependent variables. \n",
        "- **Datasets:** An iterator that contains a training **Dataset** and a validation **Dataset**. \n",
        "- **DataLoaders:** An object that contains a training **DataLoader** and a validation **DataLoader**.  "
      ]
    },
    {
      "cell_type": "code",
      "metadata": {
        "id": "Cttdjmjw_J9Z"
      },
      "source": [
        "#@ CREATING A DATABLOCK:\n",
        "dblock = DataBlock()                             # DataBlock without Parameters. "
      ],
      "execution_count": 10,
      "outputs": []
    },
    {
      "cell_type": "code",
      "metadata": {
        "colab": {
          "base_uri": "https://localhost:8080/"
        },
        "id": "i19oZTN6C7Re",
        "outputId": "2da40953-8ec4-4f7d-f3dc-301239744acf"
      },
      "source": [
        "#@ CREATING DATASETS: \n",
        "dsets = dblock.datasets(data)                    # Datasets with DataFrame. \n",
        "dsets.train[0]                                   # Inspecting Datasets. "
      ],
      "execution_count": 11,
      "outputs": [
        {
          "output_type": "execute_result",
          "data": {
            "text/plain": [
              "(fname       008663.jpg\n",
              " labels      car person\n",
              " is_valid         False\n",
              " Name: 4346, dtype: object, fname       008663.jpg\n",
              " labels      car person\n",
              " is_valid         False\n",
              " Name: 4346, dtype: object)"
            ]
          },
          "metadata": {
            "tags": []
          },
          "execution_count": 11
        }
      ]
    },
    {
      "cell_type": "code",
      "metadata": {
        "colab": {
          "base_uri": "https://localhost:8080/"
        },
        "id": "itafeTU5DgA7",
        "outputId": "6e6e0903-4aee-481e-f00f-18e7e2dae6b6"
      },
      "source": [
        "#@ CREATING DATABLOCK WITH APPROPRIATE INPUT AND TARGET: \n",
        "dblock = DataBlock(get_x=lambda r: r[\"fname\"],            # Getting Inputs. \n",
        "                   get_y=lambda r: r[\"labels\"])           # Getting Labels. \n",
        "dsets = dblock.datasets(data)                             # Creating Datasets with DataFrame. \n",
        "dsets.train[0]                                            # Inspecting Datasets."
      ],
      "execution_count": 12,
      "outputs": [
        {
          "output_type": "execute_result",
          "data": {
            "text/plain": [
              "('005620.jpg', 'aeroplane')"
            ]
          },
          "metadata": {
            "tags": []
          },
          "execution_count": 12
        }
      ]
    },
    {
      "cell_type": "code",
      "metadata": {
        "colab": {
          "base_uri": "https://localhost:8080/"
        },
        "id": "ZqvCOzYwFHVX",
        "outputId": "707a55cb-e788-4c7c-e657-737463972a38"
      },
      "source": [
        "#@ CREATING DATABLOCK WITH APPROPRIATE INPUT AND TARGET: \n",
        "def get_x(r): return r[\"fname\"]                           # Getting Inputs from a Column. \n",
        "def get_y(r): return r[\"labels\"]                          # Getting Target Column. \n",
        "dblock = DataBlock(get_x=get_x, get_y=get_y)              # Initialzing DataBlock. \n",
        "dsets = dblock.datasets(data)                             # Creating Datasets. \n",
        "dsets.valid[0]                                            # Inspecting Datasets. "
      ],
      "execution_count": 13,
      "outputs": [
        {
          "output_type": "execute_result",
          "data": {
            "text/plain": [
              "('001528.jpg', 'bird')"
            ]
          },
          "metadata": {
            "tags": []
          },
          "execution_count": 13
        }
      ]
    },
    {
      "cell_type": "code",
      "metadata": {
        "id": "g1lc83YtGRc8"
      },
      "source": [
        ""
      ],
      "execution_count": null,
      "outputs": []
    }
  ]
}