{
  "nbformat": 4,
  "nbformat_minor": 0,
  "metadata": {
    "colab": {
      "name": "Regression.ipynb",
      "provenance": []
    },
    "kernelspec": {
      "name": "python3",
      "display_name": "Python 3"
    },
    "language_info": {
      "name": "python"
    },
    "accelerator": "GPU"
  },
  "cells": [
    {
      "cell_type": "markdown",
      "metadata": {
        "id": "KbOE8qe179op"
      },
      "source": [
        "### **INITIALIZATION**\n",
        "- I use these three lines of code on top of my each notebooks because it will help to prevent any problems while reloading the same project. And the third line of code helps to make visualization within the notebook."
      ]
    },
    {
      "cell_type": "code",
      "metadata": {
        "id": "D-wg8P8l6mp8"
      },
      "source": [
        "#@ INITIALIZATION: \n",
        "%reload_ext autoreload\n",
        "%autoreload 2\n",
        "%matplotlib inline"
      ],
      "execution_count": 2,
      "outputs": []
    },
    {
      "cell_type": "markdown",
      "metadata": {
        "id": "trwMJYr98JUV"
      },
      "source": [
        "**LIBRARIES AND DEPENDENCIES**\n",
        "- I have downloaded all the libraries and dependencies required for the project in one particular cell."
      ]
    },
    {
      "cell_type": "code",
      "metadata": {
        "id": "TEMgJqC98HuB"
      },
      "source": [
        "#@ INSTALLING DEPENDENCIES: UNCOMMENT BELOW: \n",
        "# !pip install -Uqq fastbook\n",
        "# import fastbook\n",
        "# fastbook.setup_book()"
      ],
      "execution_count": 4,
      "outputs": []
    },
    {
      "cell_type": "code",
      "metadata": {
        "id": "9NYmmH2-8UqM"
      },
      "source": [
        "#@ DOWNLOADING LIBRARIES AND DEPENDENCIES: \n",
        "from fastbook import *                                  # Getting all the Libraries. \n",
        "from fastai.callback.fp16 import *\n",
        "from fastai.vision.all import *                         # Getting all the Libraries."
      ],
      "execution_count": 5,
      "outputs": []
    },
    {
      "cell_type": "markdown",
      "metadata": {
        "id": "DyPTBiFp13HJ"
      },
      "source": [
        "### **GETTING THE DATA**\n",
        "- I will use [**Biwi Kinect Head Pose**](https://icu.ee.ethz.ch/research/datsets.html) dataset here. There are 24 directories numbered from 01 to 24 which correspond to different people photographed. "
      ]
    },
    {
      "cell_type": "code",
      "metadata": {
        "colab": {
          "base_uri": "https://localhost:8080/",
          "height": 54
        },
        "id": "QlLQCFKW2V21",
        "outputId": "96d2b22c-e64f-4a40-cc83-6812dc23f98b"
      },
      "source": [
        "#@ GETTING THE DATA: \n",
        "path = untar_data(URLs.BIWI_HEAD_POSE)                  # Getting Path to Dataset. \n",
        "path.ls()                                               # Inspecting Dataset. "
      ],
      "execution_count": 6,
      "outputs": [
        {
          "output_type": "display_data",
          "data": {
            "text/html": [
              ""
            ],
            "text/plain": [
              "<IPython.core.display.HTML object>"
            ]
          },
          "metadata": {
            "tags": []
          }
        },
        {
          "output_type": "execute_result",
          "data": {
            "text/plain": [
              "(#50) [Path('/root/.fastai/data/biwi_head_pose/01.obj'),Path('/root/.fastai/data/biwi_head_pose/11'),Path('/root/.fastai/data/biwi_head_pose/03.obj'),Path('/root/.fastai/data/biwi_head_pose/23'),Path('/root/.fastai/data/biwi_head_pose/17'),Path('/root/.fastai/data/biwi_head_pose/03'),Path('/root/.fastai/data/biwi_head_pose/02'),Path('/root/.fastai/data/biwi_head_pose/21'),Path('/root/.fastai/data/biwi_head_pose/01'),Path('/root/.fastai/data/biwi_head_pose/13')...]"
            ]
          },
          "metadata": {
            "tags": []
          },
          "execution_count": 6
        }
      ]
    },
    {
      "cell_type": "code",
      "metadata": {
        "colab": {
          "base_uri": "https://localhost:8080/"
        },
        "id": "B48W46HN2sBQ",
        "outputId": "70d640ae-ae60-4b71-dbed-6e53357bcec4"
      },
      "source": [
        "#@ INSPECTING THE DATA: \n",
        "(path/\"01\").ls()                                        # Inspecting a Directory. "
      ],
      "execution_count": 7,
      "outputs": [
        {
          "output_type": "execute_result",
          "data": {
            "text/plain": [
              "(#1000) [Path('/root/.fastai/data/biwi_head_pose/01/frame_00254_pose.txt'),Path('/root/.fastai/data/biwi_head_pose/01/frame_00309_pose.txt'),Path('/root/.fastai/data/biwi_head_pose/01/frame_00419_pose.txt'),Path('/root/.fastai/data/biwi_head_pose/01/frame_00059_rgb.jpg'),Path('/root/.fastai/data/biwi_head_pose/01/frame_00161_pose.txt'),Path('/root/.fastai/data/biwi_head_pose/01/frame_00143_pose.txt'),Path('/root/.fastai/data/biwi_head_pose/01/frame_00458_rgb.jpg'),Path('/root/.fastai/data/biwi_head_pose/01/frame_00016_rgb.jpg'),Path('/root/.fastai/data/biwi_head_pose/01/frame_00101_rgb.jpg'),Path('/root/.fastai/data/biwi_head_pose/01/frame_00394_rgb.jpg')...]"
            ]
          },
          "metadata": {
            "tags": []
          },
          "execution_count": 7
        }
      ]
    },
    {
      "cell_type": "markdown",
      "metadata": {
        "id": "nY08MYmT4Vbs"
      },
      "source": [
        "**Note:**\n",
        "- Inside the subdirectories there are different frames. Each of them comes with an image i.e _rgb.jpg and a pose file i.e _pose.txt. I will write a function that converts an image file name to its associated pose file. "
      ]
    },
    {
      "cell_type": "code",
      "metadata": {
        "colab": {
          "base_uri": "https://localhost:8080/"
        },
        "id": "X-2J8_YF3i_q",
        "outputId": "b5d39b26-50a1-41c4-e020-c2ff98bd3262"
      },
      "source": [
        "#@ PREPARING THE DATASET: \n",
        "img_files = get_image_files(path)                       # Getting all Images. \n",
        "def img2pose(x): \n",
        "    return Path(f\"{str(x)[:-7]}pose.txt\")               # Getting Pose Files. \n",
        "img2pose(img_files[0])                                  # Inspecting Pose Files. "
      ],
      "execution_count": 8,
      "outputs": [
        {
          "output_type": "execute_result",
          "data": {
            "text/plain": [
              "Path('/root/.fastai/data/biwi_head_pose/11/frame_00510_pose.txt')"
            ]
          },
          "metadata": {
            "tags": []
          },
          "execution_count": 8
        }
      ]
    },
    {
      "cell_type": "code",
      "metadata": {
        "id": "O06L5fns6Pu2"
      },
      "source": [
        ""
      ],
      "execution_count": null,
      "outputs": []
    }
  ]
}