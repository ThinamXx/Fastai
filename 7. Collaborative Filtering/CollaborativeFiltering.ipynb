{
  "nbformat": 4,
  "nbformat_minor": 0,
  "metadata": {
    "colab": {
      "name": "CollaborativeFiltering.ipynb",
      "provenance": [],
      "collapsed_sections": []
    },
    "kernelspec": {
      "name": "python3",
      "display_name": "Python 3"
    },
    "language_info": {
      "name": "python"
    },
    "accelerator": "GPU"
  },
  "cells": [
    {
      "cell_type": "markdown",
      "metadata": {
        "id": "VsnnrK5ajywj"
      },
      "source": [
        "### **INITIALIZATION:**\n",
        "- I use these three lines of code on top of my each notebooks because it will help to prevent any problems while reloading the same project. And the third line of code helps to make visualization within the notebook."
      ]
    },
    {
      "cell_type": "code",
      "metadata": {
        "id": "NL_VhD7Kji5r"
      },
      "source": [
        "#@ INITIALIZATION: \n",
        "%reload_ext autoreload\n",
        "%autoreload 2\n",
        "%matplotlib inline"
      ],
      "execution_count": 1,
      "outputs": []
    },
    {
      "cell_type": "markdown",
      "metadata": {
        "id": "7O9GZ_kVkCDS"
      },
      "source": [
        "**LIBRARIES AND DEPENDENCIES:**\n",
        "- I have downloaded all the libraries and dependencies required for the project in one particular cell."
      ]
    },
    {
      "cell_type": "code",
      "metadata": {
        "id": "kwqnlA9Gj-gp"
      },
      "source": [
        "#@ INSTALLING DEPENDENCIES: UNCOMMENT BELOW: \n",
        "# !pip install -Uqq fastbook\n",
        "# import fastbook\n",
        "# fastbook.setup_book()"
      ],
      "execution_count": 3,
      "outputs": []
    },
    {
      "cell_type": "code",
      "metadata": {
        "id": "F5NGzNmTkIoj"
      },
      "source": [
        "#@ DOWNLOADING LIBRARIES AND DEPENDENCIES: \n",
        "from fastbook import *                              # Getting all the Libraries. \n",
        "from fastai.callback.fp16 import *\n",
        "from fastai.collab import *                         # Getting all the Libraries.\n",
        "from fastai.tabular.all import *                    # Getting all the Libraries."
      ],
      "execution_count": 4,
      "outputs": []
    },
    {
      "cell_type": "markdown",
      "metadata": {
        "id": "n2jKjD_okp69"
      },
      "source": [
        "### **GETTING THE DATASET:**\n",
        "- I will use the subset of [**MovieLens**](https://grouplens.org/datasets/movielens/) dataset. The entire dataset contains tens of millions of movie rankings i.e a combination of a movie ID, a user ID and a numeric rating. "
      ]
    },
    {
      "cell_type": "code",
      "metadata": {
        "colab": {
          "base_uri": "https://localhost:8080/",
          "height": 54
        },
        "id": "_HljHJVykmMA",
        "outputId": "0cc4def9-fa78-42cd-92da-e1ff30021ab8"
      },
      "source": [
        "#@ GETTING THE DATASET: \n",
        "path = untar_data(URLs.ML_100k)                     # Getting Path to the Dataset. \n",
        "path.ls()                                           # Inspecting the Dataset. "
      ],
      "execution_count": 5,
      "outputs": [
        {
          "output_type": "display_data",
          "data": {
            "text/html": [
              ""
            ],
            "text/plain": [
              "<IPython.core.display.HTML object>"
            ]
          },
          "metadata": {
            "tags": []
          }
        },
        {
          "output_type": "execute_result",
          "data": {
            "text/plain": [
              "(#23) [Path('/root/.fastai/data/ml-100k/ua.base'),Path('/root/.fastai/data/ml-100k/u.occupation'),Path('/root/.fastai/data/ml-100k/u3.base'),Path('/root/.fastai/data/ml-100k/u.genre'),Path('/root/.fastai/data/ml-100k/u4.base'),Path('/root/.fastai/data/ml-100k/ua.test'),Path('/root/.fastai/data/ml-100k/u1.base'),Path('/root/.fastai/data/ml-100k/ub.base'),Path('/root/.fastai/data/ml-100k/u2.base'),Path('/root/.fastai/data/ml-100k/u.user')...]"
            ]
          },
          "metadata": {
            "tags": []
          },
          "execution_count": 5
        }
      ]
    },
    {
      "cell_type": "code",
      "metadata": {
        "colab": {
          "base_uri": "https://localhost:8080/",
          "height": 204
        },
        "id": "NVrQzvI6mGhg",
        "outputId": "4ed88420-1542-44ea-c61e-b8198f07ad78"
      },
      "source": [
        "#@ READING THE DATASET: \n",
        "ratings = pd.read_csv(path/\"u.data\", delimiter=\"\\t\", header=None, \n",
        "                      names=[\"user\", \"movie\", \"rating\", \"timestamp\"])   # Reading the Dataset. \n",
        "ratings.head()                                                          # Inspecting the Dataset. "
      ],
      "execution_count": 6,
      "outputs": [
        {
          "output_type": "execute_result",
          "data": {
            "text/html": [
              "<div>\n",
              "<style scoped>\n",
              "    .dataframe tbody tr th:only-of-type {\n",
              "        vertical-align: middle;\n",
              "    }\n",
              "\n",
              "    .dataframe tbody tr th {\n",
              "        vertical-align: top;\n",
              "    }\n",
              "\n",
              "    .dataframe thead th {\n",
              "        text-align: right;\n",
              "    }\n",
              "</style>\n",
              "<table border=\"1\" class=\"dataframe\">\n",
              "  <thead>\n",
              "    <tr style=\"text-align: right;\">\n",
              "      <th></th>\n",
              "      <th>user</th>\n",
              "      <th>movie</th>\n",
              "      <th>rating</th>\n",
              "      <th>timestamp</th>\n",
              "    </tr>\n",
              "  </thead>\n",
              "  <tbody>\n",
              "    <tr>\n",
              "      <th>0</th>\n",
              "      <td>196</td>\n",
              "      <td>242</td>\n",
              "      <td>3</td>\n",
              "      <td>881250949</td>\n",
              "    </tr>\n",
              "    <tr>\n",
              "      <th>1</th>\n",
              "      <td>186</td>\n",
              "      <td>302</td>\n",
              "      <td>3</td>\n",
              "      <td>891717742</td>\n",
              "    </tr>\n",
              "    <tr>\n",
              "      <th>2</th>\n",
              "      <td>22</td>\n",
              "      <td>377</td>\n",
              "      <td>1</td>\n",
              "      <td>878887116</td>\n",
              "    </tr>\n",
              "    <tr>\n",
              "      <th>3</th>\n",
              "      <td>244</td>\n",
              "      <td>51</td>\n",
              "      <td>2</td>\n",
              "      <td>880606923</td>\n",
              "    </tr>\n",
              "    <tr>\n",
              "      <th>4</th>\n",
              "      <td>166</td>\n",
              "      <td>346</td>\n",
              "      <td>1</td>\n",
              "      <td>886397596</td>\n",
              "    </tr>\n",
              "  </tbody>\n",
              "</table>\n",
              "</div>"
            ],
            "text/plain": [
              "   user  movie  rating  timestamp\n",
              "0   196    242       3  881250949\n",
              "1   186    302       3  891717742\n",
              "2    22    377       1  878887116\n",
              "3   244     51       2  880606923\n",
              "4   166    346       1  886397596"
            ]
          },
          "metadata": {
            "tags": []
          },
          "execution_count": 6
        }
      ]
    },
    {
      "cell_type": "code",
      "metadata": {
        "colab": {
          "base_uri": "https://localhost:8080/"
        },
        "id": "9gRLI6gwnAlz",
        "outputId": "961d923c-dc59-434e-d2ad-4a05dd7052f7"
      },
      "source": [
        "#@ INSPECTING THE COMBINATIONS: EXAMPLE: \n",
        "last_skywalker = np.array([0.98, 0.9, -0.9])                            # Initialization. \n",
        "user1 = np.array([0.9, 0.8, -0.6])                                      # Initialization. \n",
        "(user1*last_skywalker).sum()                                            # Getting Dot Product.  "
      ],
      "execution_count": 7,
      "outputs": [
        {
          "output_type": "execute_result",
          "data": {
            "text/plain": [
              "2.1420000000000003"
            ]
          },
          "metadata": {
            "tags": []
          },
          "execution_count": 7
        }
      ]
    },
    {
      "cell_type": "markdown",
      "metadata": {
        "id": "ZaPrSuhppCus"
      },
      "source": [
        "**Dot Product:**\n",
        "- The mathematical operation of multiplying the elements of two vectors together and then summing up the result is called **Dot Product**. "
      ]
    },
    {
      "cell_type": "markdown",
      "metadata": {
        "id": "bqOZRlwwrN39"
      },
      "source": [
        "### **CREATING DATALOADERS:**"
      ]
    },
    {
      "cell_type": "code",
      "metadata": {
        "colab": {
          "base_uri": "https://localhost:8080/",
          "height": 204
        },
        "id": "RJVTjQ8fo4Wc",
        "outputId": "d61e2e40-b9ff-4a36-dff0-fc40f59fc088"
      },
      "source": [
        "#@ READING THE DATASET: MOVIE TITLES: \n",
        "movies = pd.read_csv(path/\"u.item\", delimiter=\"|\", encoding=\"latin-1\", \n",
        "                     usecols=(0, 1), names=(\"movie\", \"title\"), \n",
        "                     header=None)                                       # Reading the Dataset. \n",
        "movies.head()                                                           # Inspecting the Dataset. "
      ],
      "execution_count": 8,
      "outputs": [
        {
          "output_type": "execute_result",
          "data": {
            "text/html": [
              "<div>\n",
              "<style scoped>\n",
              "    .dataframe tbody tr th:only-of-type {\n",
              "        vertical-align: middle;\n",
              "    }\n",
              "\n",
              "    .dataframe tbody tr th {\n",
              "        vertical-align: top;\n",
              "    }\n",
              "\n",
              "    .dataframe thead th {\n",
              "        text-align: right;\n",
              "    }\n",
              "</style>\n",
              "<table border=\"1\" class=\"dataframe\">\n",
              "  <thead>\n",
              "    <tr style=\"text-align: right;\">\n",
              "      <th></th>\n",
              "      <th>movie</th>\n",
              "      <th>title</th>\n",
              "    </tr>\n",
              "  </thead>\n",
              "  <tbody>\n",
              "    <tr>\n",
              "      <th>0</th>\n",
              "      <td>1</td>\n",
              "      <td>Toy Story (1995)</td>\n",
              "    </tr>\n",
              "    <tr>\n",
              "      <th>1</th>\n",
              "      <td>2</td>\n",
              "      <td>GoldenEye (1995)</td>\n",
              "    </tr>\n",
              "    <tr>\n",
              "      <th>2</th>\n",
              "      <td>3</td>\n",
              "      <td>Four Rooms (1995)</td>\n",
              "    </tr>\n",
              "    <tr>\n",
              "      <th>3</th>\n",
              "      <td>4</td>\n",
              "      <td>Get Shorty (1995)</td>\n",
              "    </tr>\n",
              "    <tr>\n",
              "      <th>4</th>\n",
              "      <td>5</td>\n",
              "      <td>Copycat (1995)</td>\n",
              "    </tr>\n",
              "  </tbody>\n",
              "</table>\n",
              "</div>"
            ],
            "text/plain": [
              "   movie              title\n",
              "0      1   Toy Story (1995)\n",
              "1      2   GoldenEye (1995)\n",
              "2      3  Four Rooms (1995)\n",
              "3      4  Get Shorty (1995)\n",
              "4      5     Copycat (1995)"
            ]
          },
          "metadata": {
            "tags": []
          },
          "execution_count": 8
        }
      ]
    },
    {
      "cell_type": "code",
      "metadata": {
        "colab": {
          "base_uri": "https://localhost:8080/",
          "height": 204
        },
        "id": "MC3GrLQStF6U",
        "outputId": "a5485aa4-b029-4121-a1f1-9d0418277df8"
      },
      "source": [
        "#@ MERGING THE DATAFRAMES: \n",
        "ratings = ratings.merge(movies)                                         # Merging the DataFrames. \n",
        "ratings.head()                                                          # Inspecting the DataFrame. "
      ],
      "execution_count": 9,
      "outputs": [
        {
          "output_type": "execute_result",
          "data": {
            "text/html": [
              "<div>\n",
              "<style scoped>\n",
              "    .dataframe tbody tr th:only-of-type {\n",
              "        vertical-align: middle;\n",
              "    }\n",
              "\n",
              "    .dataframe tbody tr th {\n",
              "        vertical-align: top;\n",
              "    }\n",
              "\n",
              "    .dataframe thead th {\n",
              "        text-align: right;\n",
              "    }\n",
              "</style>\n",
              "<table border=\"1\" class=\"dataframe\">\n",
              "  <thead>\n",
              "    <tr style=\"text-align: right;\">\n",
              "      <th></th>\n",
              "      <th>user</th>\n",
              "      <th>movie</th>\n",
              "      <th>rating</th>\n",
              "      <th>timestamp</th>\n",
              "      <th>title</th>\n",
              "    </tr>\n",
              "  </thead>\n",
              "  <tbody>\n",
              "    <tr>\n",
              "      <th>0</th>\n",
              "      <td>196</td>\n",
              "      <td>242</td>\n",
              "      <td>3</td>\n",
              "      <td>881250949</td>\n",
              "      <td>Kolya (1996)</td>\n",
              "    </tr>\n",
              "    <tr>\n",
              "      <th>1</th>\n",
              "      <td>63</td>\n",
              "      <td>242</td>\n",
              "      <td>3</td>\n",
              "      <td>875747190</td>\n",
              "      <td>Kolya (1996)</td>\n",
              "    </tr>\n",
              "    <tr>\n",
              "      <th>2</th>\n",
              "      <td>226</td>\n",
              "      <td>242</td>\n",
              "      <td>5</td>\n",
              "      <td>883888671</td>\n",
              "      <td>Kolya (1996)</td>\n",
              "    </tr>\n",
              "    <tr>\n",
              "      <th>3</th>\n",
              "      <td>154</td>\n",
              "      <td>242</td>\n",
              "      <td>3</td>\n",
              "      <td>879138235</td>\n",
              "      <td>Kolya (1996)</td>\n",
              "    </tr>\n",
              "    <tr>\n",
              "      <th>4</th>\n",
              "      <td>306</td>\n",
              "      <td>242</td>\n",
              "      <td>5</td>\n",
              "      <td>876503793</td>\n",
              "      <td>Kolya (1996)</td>\n",
              "    </tr>\n",
              "  </tbody>\n",
              "</table>\n",
              "</div>"
            ],
            "text/plain": [
              "   user  movie  rating  timestamp         title\n",
              "0   196    242       3  881250949  Kolya (1996)\n",
              "1    63    242       3  875747190  Kolya (1996)\n",
              "2   226    242       5  883888671  Kolya (1996)\n",
              "3   154    242       3  879138235  Kolya (1996)\n",
              "4   306    242       5  876503793  Kolya (1996)"
            ]
          },
          "metadata": {
            "tags": []
          },
          "execution_count": 9
        }
      ]
    },
    {
      "cell_type": "code",
      "metadata": {
        "colab": {
          "base_uri": "https://localhost:8080/",
          "height": 359
        },
        "id": "4soqR4iutoSo",
        "outputId": "189a5f12-45f6-4e94-ae6e-b1b9eaff13b3"
      },
      "source": [
        "#@ CREATING DATALOADERS: \n",
        "dls = CollabDataLoaders.from_df(ratings, item_name=\"title\", bs=64)       # Initializing DataLoaders. \n",
        "dls.show_batch()                                                         # Inspecting the Batches. "
      ],
      "execution_count": 10,
      "outputs": [
        {
          "output_type": "display_data",
          "data": {
            "text/html": [
              "<table border=\"1\" class=\"dataframe\">\n",
              "  <thead>\n",
              "    <tr style=\"text-align: right;\">\n",
              "      <th></th>\n",
              "      <th>user</th>\n",
              "      <th>title</th>\n",
              "      <th>rating</th>\n",
              "    </tr>\n",
              "  </thead>\n",
              "  <tbody>\n",
              "    <tr>\n",
              "      <th>0</th>\n",
              "      <td>542</td>\n",
              "      <td>My Left Foot (1989)</td>\n",
              "      <td>4</td>\n",
              "    </tr>\n",
              "    <tr>\n",
              "      <th>1</th>\n",
              "      <td>422</td>\n",
              "      <td>Event Horizon (1997)</td>\n",
              "      <td>3</td>\n",
              "    </tr>\n",
              "    <tr>\n",
              "      <th>2</th>\n",
              "      <td>311</td>\n",
              "      <td>African Queen, The (1951)</td>\n",
              "      <td>4</td>\n",
              "    </tr>\n",
              "    <tr>\n",
              "      <th>3</th>\n",
              "      <td>595</td>\n",
              "      <td>Face/Off (1997)</td>\n",
              "      <td>4</td>\n",
              "    </tr>\n",
              "    <tr>\n",
              "      <th>4</th>\n",
              "      <td>617</td>\n",
              "      <td>Evil Dead II (1987)</td>\n",
              "      <td>1</td>\n",
              "    </tr>\n",
              "    <tr>\n",
              "      <th>5</th>\n",
              "      <td>158</td>\n",
              "      <td>Jurassic Park (1993)</td>\n",
              "      <td>5</td>\n",
              "    </tr>\n",
              "    <tr>\n",
              "      <th>6</th>\n",
              "      <td>836</td>\n",
              "      <td>Chasing Amy (1997)</td>\n",
              "      <td>3</td>\n",
              "    </tr>\n",
              "    <tr>\n",
              "      <th>7</th>\n",
              "      <td>474</td>\n",
              "      <td>Emma (1996)</td>\n",
              "      <td>3</td>\n",
              "    </tr>\n",
              "    <tr>\n",
              "      <th>8</th>\n",
              "      <td>466</td>\n",
              "      <td>Jackie Chan's First Strike (1996)</td>\n",
              "      <td>3</td>\n",
              "    </tr>\n",
              "    <tr>\n",
              "      <th>9</th>\n",
              "      <td>554</td>\n",
              "      <td>Scream (1996)</td>\n",
              "      <td>3</td>\n",
              "    </tr>\n",
              "  </tbody>\n",
              "</table>"
            ],
            "text/plain": [
              "<IPython.core.display.HTML object>"
            ]
          },
          "metadata": {
            "tags": []
          }
        }
      ]
    },
    {
      "cell_type": "code",
      "metadata": {
        "id": "g5Pb605Pxf6B"
      },
      "source": [
        "#@ CONVERTING INTO MATRICES: \n",
        "n_users = len(dls.classes[\"user\"])                            # Getting Number of Users. \n",
        "n_movies = len(dls.classes[\"title\"])                          # Getting Number of Movies. \n",
        "n_factors = 5                                                 # Initializing Latent Factors. \n",
        "user_factors = torch.randn(n_users, n_factors)                # Initializing User Factors. \n",
        "movie_factors = torch.randn(n_movies, n_factors)              # Initializing Movie Factors. "
      ],
      "execution_count": 11,
      "outputs": []
    },
    {
      "cell_type": "code",
      "metadata": {
        "colab": {
          "base_uri": "https://localhost:8080/"
        },
        "id": "7v0YxgHhttPe",
        "outputId": "26a8a19e-b23f-47ae-e926-b9e4c7539c13"
      },
      "source": [
        "#@ IMPLEMENTATION OF ONE HOT VECTORS: \n",
        "one_hot_3 = one_hot(3, n_users).float()                       # Initializing One Hot Vectors. \n",
        "user_factors.t() @ one_hot_3                                  # Initializing Dot Product.\n",
        "user_factors[3]                                               # Inspecting One Hot Vectors.  "
      ],
      "execution_count": 12,
      "outputs": [
        {
          "output_type": "execute_result",
          "data": {
            "text/plain": [
              "tensor([-0.4586, -0.9915, -0.4052, -0.3621, -0.5908])"
            ]
          },
          "metadata": {
            "tags": []
          },
          "execution_count": 12
        }
      ]
    },
    {
      "cell_type": "markdown",
      "metadata": {
        "id": "f81oP5Vrvtj2"
      },
      "source": [
        "**Embedding:**\n",
        "- The special layer that indexes into a vector using an integer but has its derivative calculated in such a way that it is identical to what it would have been if it had done a matrix multiplication with a one hot encoded vector is called **Embedding**. Multiplying by a one hot encoded matrix using the computational shortcut that it can be implemented by simply indexing directly. The thing that multiply the one hot encoded matrix is called the **Embedding Matrix**. "
      ]
    },
    {
      "cell_type": "markdown",
      "metadata": {
        "id": "bHNRAsjDx8uu"
      },
      "source": [
        "### **COLLABORATIVE FILTERING**"
      ]
    },
    {
      "cell_type": "code",
      "metadata": {
        "colab": {
          "base_uri": "https://localhost:8080/",
          "height": 35
        },
        "id": "adS5zVJauwSe",
        "outputId": "a54adf2c-8eec-4ddd-d13e-41ad924a4cbe"
      },
      "source": [
        "#@ EXAMPLE OF A CLASS: \n",
        "class Example:                                 # Defining Class. \n",
        "    def __init__(self, a):                     # Constructor Function. \n",
        "        self.a = a                             # Initialization. \n",
        "    def say(self, x):                          # Defining Function. \n",
        "        return f\"Hello {self.a}, {x}\"\n",
        "#@ IMPLEMENTATION OF CLASS: \n",
        "ex = Example(\"Thinam\")                         # Initialization. \n",
        "ex.say(\"how are you?\")                         # Implementation. "
      ],
      "execution_count": 13,
      "outputs": [
        {
          "output_type": "execute_result",
          "data": {
            "application/vnd.google.colaboratory.intrinsic+json": {
              "type": "string"
            },
            "text/plain": [
              "'Hello Thinam, how are you?'"
            ]
          },
          "metadata": {
            "tags": []
          },
          "execution_count": 13
        }
      ]
    },
    {
      "cell_type": "code",
      "metadata": {
        "id": "BQVEyk2pz2ct"
      },
      "source": [
        "#@ EXAMPLE OF A CLASS WITH PYTORCH MODULE: \n",
        "class DotProduct(Module):                                           # Defining Class. \n",
        "    def __init__(self, n_users, n_movies, n_factors):               # Constructor Function. \n",
        "        self.user_factors = Embedding(n_users, n_factors)           # Initialization. \n",
        "        self.movie_factors = Embedding(n_movies, n_factors)         # initialization. \n",
        "    \n",
        "    def forward(self, x):                                           # Forward Propagation Function. \n",
        "        users = self.user_factors(x[:, 0])                          # Implementation. \n",
        "        movies = self.movie_factors(x[:, 1])                        # Implementation. \n",
        "        return (users * movies).sum(dim=1)                          # Matrix Multiplication. "
      ],
      "execution_count": 14,
      "outputs": []
    },
    {
      "cell_type": "markdown",
      "metadata": {
        "id": "VdVbthe02Ewh"
      },
      "source": [
        "**Note:**\n",
        "- The input of the model is a tensor of shape batch_size X 2 where the first column contains the user IDs and the second column contains the movie IDs. "
      ]
    },
    {
      "cell_type": "code",
      "metadata": {
        "colab": {
          "base_uri": "https://localhost:8080/"
        },
        "id": "4gMnZTlD10rr",
        "outputId": "fb084f6f-2dd2-49d1-d5e6-2fafbc6e4384"
      },
      "source": [
        "#@ GETTING A BATCH:\n",
        "x, y = dls.one_batch()                                 # Getting a Batch. \n",
        "x.shape                                                # Inspecting the Shape. "
      ],
      "execution_count": 15,
      "outputs": [
        {
          "output_type": "execute_result",
          "data": {
            "text/plain": [
              "torch.Size([64, 2])"
            ]
          },
          "metadata": {
            "tags": []
          },
          "execution_count": 15
        }
      ]
    },
    {
      "cell_type": "code",
      "metadata": {
        "colab": {
          "base_uri": "https://localhost:8080/",
          "height": 204
        },
        "id": "O3bQPu0h3EKn",
        "outputId": "c32f3034-2ab0-40ab-a318-f58d5b944cd9"
      },
      "source": [
        "#@ TRAINING SIMPLE MODEL FROM SCRATCH: \n",
        "model = DotProduct(n_users, n_movies, 50)              # Initializing the Class. \n",
        "learn = Learner(dls, model, loss_func=MSELossFlat())   # Initializing the Learner. \n",
        "learn.fit_one_cycle(5, 5e-3)                           # Training the Model. "
      ],
      "execution_count": 16,
      "outputs": [
        {
          "output_type": "display_data",
          "data": {
            "text/html": [
              "<table border=\"1\" class=\"dataframe\">\n",
              "  <thead>\n",
              "    <tr style=\"text-align: left;\">\n",
              "      <th>epoch</th>\n",
              "      <th>train_loss</th>\n",
              "      <th>valid_loss</th>\n",
              "      <th>time</th>\n",
              "    </tr>\n",
              "  </thead>\n",
              "  <tbody>\n",
              "    <tr>\n",
              "      <td>0</td>\n",
              "      <td>1.344786</td>\n",
              "      <td>1.279100</td>\n",
              "      <td>00:07</td>\n",
              "    </tr>\n",
              "    <tr>\n",
              "      <td>1</td>\n",
              "      <td>1.093331</td>\n",
              "      <td>1.109981</td>\n",
              "      <td>00:07</td>\n",
              "    </tr>\n",
              "    <tr>\n",
              "      <td>2</td>\n",
              "      <td>0.958258</td>\n",
              "      <td>0.990199</td>\n",
              "      <td>00:07</td>\n",
              "    </tr>\n",
              "    <tr>\n",
              "      <td>3</td>\n",
              "      <td>0.814234</td>\n",
              "      <td>0.894916</td>\n",
              "      <td>00:07</td>\n",
              "    </tr>\n",
              "    <tr>\n",
              "      <td>4</td>\n",
              "      <td>0.780714</td>\n",
              "      <td>0.882022</td>\n",
              "      <td>00:07</td>\n",
              "    </tr>\n",
              "  </tbody>\n",
              "</table>"
            ],
            "text/plain": [
              "<IPython.core.display.HTML object>"
            ]
          },
          "metadata": {
            "tags": []
          }
        }
      ]
    },
    {
      "cell_type": "code",
      "metadata": {
        "colab": {
          "base_uri": "https://localhost:8080/",
          "height": 204
        },
        "id": "qgD2DAlt4O1B",
        "outputId": "60f0834c-1b2e-47eb-dd59-7e3cafeb6bf8"
      },
      "source": [
        "#@ DEFINING THE DOT PRODUCT CLASS WITH RANGE: \n",
        "class DotProduct(Module):                                               # Defining Class.\n",
        "    def __init__(self, n_users, n_movies, n_factors, y_range=(0, 5.5)): # Constructor Function. \n",
        "        self.user_factors = Embedding(n_users, n_factors)               # Initialization.\n",
        "        self.movie_factors = Embedding(n_movies, n_factors)             # Initialization. \n",
        "        self.y_range = y_range                                          # Initialization. \n",
        "\n",
        "    def forward(self, x):                                               # Forward Propagation Function. \n",
        "        users = self.user_factors(x[:, 0])                              # Implementation. \n",
        "        movies = self.movie_factors(x[:, 1])                            # Implementation. \n",
        "        return sigmoid_range((users*movies).sum(dim=1), *self.y_range)  # Matrix Multiplication and Range. \n",
        "\n",
        "#@ TRAINING SIMPLE MODEL FROM SCRATCH: \n",
        "model = DotProduct(n_users, n_movies, 50)                               # Initializing the Class. \n",
        "learn = Learner(dls, model, loss_func=MSELossFlat())                    # Initializing the Learner. \n",
        "learn.fit_one_cycle(5, 5e-3)                                            # Training the Model. "
      ],
      "execution_count": 17,
      "outputs": [
        {
          "output_type": "display_data",
          "data": {
            "text/html": [
              "<table border=\"1\" class=\"dataframe\">\n",
              "  <thead>\n",
              "    <tr style=\"text-align: left;\">\n",
              "      <th>epoch</th>\n",
              "      <th>train_loss</th>\n",
              "      <th>valid_loss</th>\n",
              "      <th>time</th>\n",
              "    </tr>\n",
              "  </thead>\n",
              "  <tbody>\n",
              "    <tr>\n",
              "      <td>0</td>\n",
              "      <td>0.986799</td>\n",
              "      <td>1.005294</td>\n",
              "      <td>00:07</td>\n",
              "    </tr>\n",
              "    <tr>\n",
              "      <td>1</td>\n",
              "      <td>0.878134</td>\n",
              "      <td>0.918898</td>\n",
              "      <td>00:07</td>\n",
              "    </tr>\n",
              "    <tr>\n",
              "      <td>2</td>\n",
              "      <td>0.675850</td>\n",
              "      <td>0.875467</td>\n",
              "      <td>00:07</td>\n",
              "    </tr>\n",
              "    <tr>\n",
              "      <td>3</td>\n",
              "      <td>0.483372</td>\n",
              "      <td>0.877939</td>\n",
              "      <td>00:07</td>\n",
              "    </tr>\n",
              "    <tr>\n",
              "      <td>4</td>\n",
              "      <td>0.378927</td>\n",
              "      <td>0.881887</td>\n",
              "      <td>00:07</td>\n",
              "    </tr>\n",
              "  </tbody>\n",
              "</table>"
            ],
            "text/plain": [
              "<IPython.core.display.HTML object>"
            ]
          },
          "metadata": {
            "tags": []
          }
        }
      ]
    },
    {
      "cell_type": "code",
      "metadata": {
        "colab": {
          "base_uri": "https://localhost:8080/",
          "height": 204
        },
        "id": "I5JJb5r6fMhl",
        "outputId": "fb442281-860c-4591-8c4e-64911d7724ff"
      },
      "source": [
        "#@ DEFINING THE DOT PRODUCT CLASS WITH BIASES: \n",
        "class DotProductBias(Module):                                            # Defining Class.\n",
        "    def __init__(self, n_users, n_movies, n_factors, y_range=(0, 5.5)):  # Constructor Function.\n",
        "        self.user_factors = Embedding(n_users, n_factors)                # Initialization. \n",
        "        self.user_bias = Embedding(n_users, 1)                           # Initialization. \n",
        "        self.movie_factors = Embedding(n_movies, n_factors)              # Initialization. \n",
        "        self.movie_bias = Embedding(n_movies, 1)                         # Initialization. \n",
        "        self.y_range = y_range                                           # Initialization. \n",
        "    \n",
        "    def forward(self, x):                                                # Forward Propagation Function. \n",
        "        users = self.user_factors(x[:, 0])                               # Implementation. \n",
        "        movies = self.movie_factors(x[:, 1])                             # Implementation. \n",
        "        res = (users * movies).sum(dim=1, keepdim=True)                  # Matrix Multiplication. \n",
        "        res += self.user_bias(x[:, 0]) + self.movie_bias(x[:, 1])        # Adding Bias. \n",
        "        return sigmoid_range(res, *self.y_range)                         # Sigmoid Range. \n",
        "\n",
        "#@ TRAINING SIMPLE MODEL FROM SCRATCH: \n",
        "model = DotProductBias(n_users, n_movies, 50)                           # Initializing the Class. \n",
        "learn = Learner(dls, model, loss_func=MSELossFlat())                    # Initializing the Learner. \n",
        "learn.fit_one_cycle(5, 5e-3)                                            # Training the Model. "
      ],
      "execution_count": 18,
      "outputs": [
        {
          "output_type": "display_data",
          "data": {
            "text/html": [
              "<table border=\"1\" class=\"dataframe\">\n",
              "  <thead>\n",
              "    <tr style=\"text-align: left;\">\n",
              "      <th>epoch</th>\n",
              "      <th>train_loss</th>\n",
              "      <th>valid_loss</th>\n",
              "      <th>time</th>\n",
              "    </tr>\n",
              "  </thead>\n",
              "  <tbody>\n",
              "    <tr>\n",
              "      <td>0</td>\n",
              "      <td>0.938634</td>\n",
              "      <td>0.952516</td>\n",
              "      <td>00:08</td>\n",
              "    </tr>\n",
              "    <tr>\n",
              "      <td>1</td>\n",
              "      <td>0.846664</td>\n",
              "      <td>0.865633</td>\n",
              "      <td>00:08</td>\n",
              "    </tr>\n",
              "    <tr>\n",
              "      <td>2</td>\n",
              "      <td>0.608090</td>\n",
              "      <td>0.865127</td>\n",
              "      <td>00:08</td>\n",
              "    </tr>\n",
              "    <tr>\n",
              "      <td>3</td>\n",
              "      <td>0.413482</td>\n",
              "      <td>0.887318</td>\n",
              "      <td>00:08</td>\n",
              "    </tr>\n",
              "    <tr>\n",
              "      <td>4</td>\n",
              "      <td>0.286971</td>\n",
              "      <td>0.894876</td>\n",
              "      <td>00:08</td>\n",
              "    </tr>\n",
              "  </tbody>\n",
              "</table>"
            ],
            "text/plain": [
              "<IPython.core.display.HTML object>"
            ]
          },
          "metadata": {
            "tags": []
          }
        }
      ]
    },
    {
      "cell_type": "markdown",
      "metadata": {
        "id": "-9gGzbFgylEm"
      },
      "source": [
        "**WEIGHT DECAY REGULARIZATION:**\n",
        "- **Weight Decay** consists of adding sum of the squared weights to the loss function. The idea is that the larger the coefficients are, the sharper the canyons will be in the loss function. "
      ]
    },
    {
      "cell_type": "code",
      "metadata": {
        "id": "vQtc53mwjB7x"
      },
      "source": [
        "#@ WEIGHT DECAY REGULARIZATION: SIMPLE CONCEPT: \n",
        "# loss_with_wd = loss + wd * (parameters**2).sum()                # Initializing Loss with WD. \n",
        "# parameters.grad += wd * 2 * parameters                          # Initializing Derivative. "
      ],
      "execution_count": 19,
      "outputs": []
    },
    {
      "cell_type": "code",
      "metadata": {
        "colab": {
          "base_uri": "https://localhost:8080/",
          "height": 204
        },
        "id": "_a7ZhRJT0mkd",
        "outputId": "74e0b537-52e0-4769-e597-1e6066ba8adf"
      },
      "source": [
        "#@ TRAINING THE MODEL WITH WEIGHT DECAY REGULARIZATION: \n",
        "model = DotProductBias(n_users, n_movies, 50)                     # Initializing the Model. \n",
        "learn = Learner(dls, model, loss_func=MSELossFlat())              # Initializing the Learner. \n",
        "learn.fit_one_cycle(5, 5e-3, wd=0.1)                              # Training the Model. "
      ],
      "execution_count": 20,
      "outputs": [
        {
          "output_type": "display_data",
          "data": {
            "text/html": [
              "<table border=\"1\" class=\"dataframe\">\n",
              "  <thead>\n",
              "    <tr style=\"text-align: left;\">\n",
              "      <th>epoch</th>\n",
              "      <th>train_loss</th>\n",
              "      <th>valid_loss</th>\n",
              "      <th>time</th>\n",
              "    </tr>\n",
              "  </thead>\n",
              "  <tbody>\n",
              "    <tr>\n",
              "      <td>0</td>\n",
              "      <td>0.932776</td>\n",
              "      <td>0.961672</td>\n",
              "      <td>00:08</td>\n",
              "    </tr>\n",
              "    <tr>\n",
              "      <td>1</td>\n",
              "      <td>0.888625</td>\n",
              "      <td>0.882614</td>\n",
              "      <td>00:08</td>\n",
              "    </tr>\n",
              "    <tr>\n",
              "      <td>2</td>\n",
              "      <td>0.771066</td>\n",
              "      <td>0.832743</td>\n",
              "      <td>00:08</td>\n",
              "    </tr>\n",
              "    <tr>\n",
              "      <td>3</td>\n",
              "      <td>0.599807</td>\n",
              "      <td>0.822374</td>\n",
              "      <td>00:08</td>\n",
              "    </tr>\n",
              "    <tr>\n",
              "      <td>4</td>\n",
              "      <td>0.504981</td>\n",
              "      <td>0.822528</td>\n",
              "      <td>00:08</td>\n",
              "    </tr>\n",
              "  </tbody>\n",
              "</table>"
            ],
            "text/plain": [
              "<IPython.core.display.HTML object>"
            ]
          },
          "metadata": {
            "tags": []
          }
        }
      ]
    },
    {
      "cell_type": "markdown",
      "metadata": {
        "id": "4lgVHSbQ2ExP"
      },
      "source": [
        "**CREATING EMBEDDING MODULE:**"
      ]
    },
    {
      "cell_type": "code",
      "metadata": {
        "colab": {
          "base_uri": "https://localhost:8080/"
        },
        "id": "YsQPcDOz1XmO",
        "outputId": "24d558e4-74bf-4e8a-a982-3446b04a4c87"
      },
      "source": [
        "#@ EXAMPLE CLASS WITHOUT PARAMETER MODULE:\n",
        "class T(Module):                                                 # Defining Class. \n",
        "    def __init__(self):                                          # Constructor Function. \n",
        "        self.a = torch.ones(3)                                   # Initializing Tensor. \n",
        "#@ IMPLEMENTATION: \n",
        "L(T().parameters())                                              # Getting Parameters. "
      ],
      "execution_count": 21,
      "outputs": [
        {
          "output_type": "execute_result",
          "data": {
            "text/plain": [
              "(#0) []"
            ]
          },
          "metadata": {
            "tags": []
          },
          "execution_count": 21
        }
      ]
    },
    {
      "cell_type": "code",
      "metadata": {
        "colab": {
          "base_uri": "https://localhost:8080/"
        },
        "id": "fQ_ltnPW2ukS",
        "outputId": "4fbe3d5f-ed79-470f-b4d0-51b50a759f3c"
      },
      "source": [
        "#@ EXAMPLE CLASS WITH PARAMETER MODULE:\n",
        "class T(Module):                                                 # Defining Class. \n",
        "    def __init__(self):                                          # Constructor Function. \n",
        "        self.a = nn.Parameter(torch.ones(3))                     # Initializing Tensor. \n",
        "#@ IMPLEMENTATION: \n",
        "L(T().parameters())                                              # Getting Parameters. "
      ],
      "execution_count": 22,
      "outputs": [
        {
          "output_type": "execute_result",
          "data": {
            "text/plain": [
              "(#1) [Parameter containing:\n",
              "tensor([1., 1., 1.], requires_grad=True)]"
            ]
          },
          "metadata": {
            "tags": []
          },
          "execution_count": 22
        }
      ]
    },
    {
      "cell_type": "code",
      "metadata": {
        "colab": {
          "base_uri": "https://localhost:8080/"
        },
        "id": "Taewg_573KG5",
        "outputId": "0851a207-b522-4c8e-ee13-857200869c02"
      },
      "source": [
        "#@ EXAMPLE CLASS WITH PARAMETER MODULE:\n",
        "class T(Module):                                                 # Defining Class. \n",
        "    def __init__(self):                                          # Constructor Function. \n",
        "        self.a = nn.Linear(1, 3, bias=False)                     # Initializing Tensor. \n",
        "#@ IMPLEMENTATION: \n",
        "t = T()                                                          # Initialization. \n",
        "L(t.parameters())                                                # Getting Parameters. \n",
        "type(t.a.weight)                                                 # Inspection. "
      ],
      "execution_count": 23,
      "outputs": [
        {
          "output_type": "execute_result",
          "data": {
            "text/plain": [
              "torch.nn.parameter.Parameter"
            ]
          },
          "metadata": {
            "tags": []
          },
          "execution_count": 23
        }
      ]
    },
    {
      "cell_type": "code",
      "metadata": {
        "colab": {
          "base_uri": "https://localhost:8080/",
          "height": 204
        },
        "id": "I-mHvryG4ACh",
        "outputId": "8473eb0a-5948-4aaf-c904-a67eabeb4416"
      },
      "source": [
        "#@ FUNCTION TO CREATE TENSOR AS PARAMETER: \n",
        "def create_params(size):                                                # Defining Function. \n",
        "    return nn.Parameter(torch.zeros(*size).normal_(0, 0.01))            # Initializing Parameter. \n",
        "\n",
        "#@ DEFINING THE DOT PRODUCT CLASS WITHOUT EMBEDDING: \n",
        "class DotProductBias(Module):                                           # Defining Class. \n",
        "    def __init__(self, n_users, n_movies, n_factors, y_range=(0,5.5)):  # Constructor Function. \n",
        "        self.user_factors = create_params([n_users, n_factors])         # Initialization. \n",
        "        self.user_bias = create_params([n_users])                       # initialization. \n",
        "        self.movie_factors = create_params([n_movies, n_factors])       # Initialization. \n",
        "        self.movie_bias = create_params([n_movies])                     # Initialization. \n",
        "        self.y_range = y_range                                          # Initialization. \n",
        "    \n",
        "    def forward(self, x):                                               # Forward Propagation Function. \n",
        "        users = self.user_factors[x[:, 0]]                              # Implementation. \n",
        "        movies = self.movie_factors[x[:, 1]]                            # Implementation. \n",
        "        res = (users * movies).sum(dim=1)                               # Matrix Multiplication. \n",
        "        res += self.user_bias[x[:, 0]] + self.movie_bias[x[:, 1]]       # Adding Bias. \n",
        "        return sigmoid_range(res, *self.y_range)                        # Sigmoid Range. \n",
        "\n",
        "#@ TRAINING SIMPLE MODEL FROM SCRATCH: \n",
        "model = DotProductBias(n_users, n_movies, 50)                           # Initializing the Class. \n",
        "learn = Learner(dls, model, loss_func=MSELossFlat())                    # Initializing the Learner. \n",
        "learn.fit_one_cycle(5, 5e-3, wd=0.1)                                    # Training the Model. "
      ],
      "execution_count": 24,
      "outputs": [
        {
          "output_type": "display_data",
          "data": {
            "text/html": [
              "<table border=\"1\" class=\"dataframe\">\n",
              "  <thead>\n",
              "    <tr style=\"text-align: left;\">\n",
              "      <th>epoch</th>\n",
              "      <th>train_loss</th>\n",
              "      <th>valid_loss</th>\n",
              "      <th>time</th>\n",
              "    </tr>\n",
              "  </thead>\n",
              "  <tbody>\n",
              "    <tr>\n",
              "      <td>0</td>\n",
              "      <td>0.929254</td>\n",
              "      <td>0.953444</td>\n",
              "      <td>00:08</td>\n",
              "    </tr>\n",
              "    <tr>\n",
              "      <td>1</td>\n",
              "      <td>0.865246</td>\n",
              "      <td>0.878304</td>\n",
              "      <td>00:09</td>\n",
              "    </tr>\n",
              "    <tr>\n",
              "      <td>2</td>\n",
              "      <td>0.720294</td>\n",
              "      <td>0.838921</td>\n",
              "      <td>00:09</td>\n",
              "    </tr>\n",
              "    <tr>\n",
              "      <td>3</td>\n",
              "      <td>0.582796</td>\n",
              "      <td>0.829129</td>\n",
              "      <td>00:09</td>\n",
              "    </tr>\n",
              "    <tr>\n",
              "      <td>4</td>\n",
              "      <td>0.474043</td>\n",
              "      <td>0.829031</td>\n",
              "      <td>00:08</td>\n",
              "    </tr>\n",
              "  </tbody>\n",
              "</table>"
            ],
            "text/plain": [
              "<IPython.core.display.HTML object>"
            ]
          },
          "metadata": {
            "tags": []
          }
        }
      ]
    },
    {
      "cell_type": "markdown",
      "metadata": {
        "id": "lmEZOUZa5CuK"
      },
      "source": [
        "**INTERPRETATING EMBEDDINGS AND BIASES:**"
      ]
    },
    {
      "cell_type": "code",
      "metadata": {
        "colab": {
          "base_uri": "https://localhost:8080/"
        },
        "id": "Xo7eggHY4qSB",
        "outputId": "75ad517e-3fad-4e02-991b-7eaf07609290"
      },
      "source": [
        "#@ GETTING LOWEST BIASES MOVIES: \n",
        "movie_bias = learn.model.movie_bias.squeeze()               # Getting Movie Biases. \n",
        "idxs = movie_bias.argsort()[:5]                             # Sorting. \n",
        "[dls.classes[\"title\"][i] for i in idxs]                     # Getting Movies. "
      ],
      "execution_count": 25,
      "outputs": [
        {
          "output_type": "execute_result",
          "data": {
            "text/plain": [
              "['Lawnmower Man 2: Beyond Cyberspace (1996)',\n",
              " 'Children of the Corn: The Gathering (1996)',\n",
              " 'Mortal Kombat: Annihilation (1997)',\n",
              " 'Amityville 3-D (1983)',\n",
              " 'Beautician and the Beast, The (1997)']"
            ]
          },
          "metadata": {
            "tags": []
          },
          "execution_count": 25
        }
      ]
    },
    {
      "cell_type": "code",
      "metadata": {
        "colab": {
          "base_uri": "https://localhost:8080/"
        },
        "id": "_JvrLuur5_2C",
        "outputId": "ea06b059-89bc-4197-b9a1-615c77be1041"
      },
      "source": [
        "#@ GETTING HIGHEST BIASES MOVIES: \n",
        "idxs = movie_bias.argsort(descending=True)[:5]              # Getting Indexes. \n",
        "[dls.classes[\"title\"][i] for i in idxs]                     # Getting Movies. "
      ],
      "execution_count": 26,
      "outputs": [
        {
          "output_type": "execute_result",
          "data": {
            "text/plain": [
              "['Titanic (1997)',\n",
              " 'Shawshank Redemption, The (1994)',\n",
              " 'Silence of the Lambs, The (1991)',\n",
              " 'L.A. Confidential (1997)',\n",
              " \"Schindler's List (1993)\"]"
            ]
          },
          "metadata": {
            "tags": []
          },
          "execution_count": 26
        }
      ]
    },
    {
      "cell_type": "code",
      "metadata": {
        "colab": {
          "base_uri": "https://localhost:8080/",
          "height": 703
        },
        "id": "R9e1leao61E3",
        "outputId": "7a831739-d7e0-44b5-e83f-b6034873288b"
      },
      "source": [
        "#@ REPRESENTATION OF MOVIES BASED ON PCA: \n",
        "g = ratings.groupby(\"title\")[\"rating\"].count()                      # Getting Counts of Ratings. \n",
        "top_movies = g.sort_values(ascending=False).index.values[:1000]     # Initializing Sorting. \n",
        "top_idxs = tensor([learn.dls.classes[\"title\"].o2i[m] for m in \\\n",
        "                   top_movies])                                     # Getting Indexes. \n",
        "movie_w = learn.model.movie_factors[top_idxs].cpu().detach()\n",
        "movie_pca = movie_w.pca(3)                                          # Getting PCA Components. \n",
        "fac0, fac1, fac2 = movie_pca.t()                                    # Getting PCA Factors. \n",
        "idxs = list(range(50))\n",
        "X, Y = fac0[idxs], fac2[idxs]\n",
        "plt.figure(figsize=(12, 12))\n",
        "plt.scatter(X, Y)                                                   # Getting Scatter Plots. \n",
        "for i, x, y in zip(top_movies[idxs], X, Y):\n",
        "    plt.text(x, y, i, color=np.random.rand(3)*0.7, fontsize=11)\n",
        "plt.show()"
      ],
      "execution_count": 27,
      "outputs": [
        {
          "output_type": "display_data",
          "data": {
            "image/png": "[encoded data removed]",
            "text/plain": [
              "<Figure size 864x864 with 1 Axes>"
            ]
          },
          "metadata": {
            "tags": [],
            "needs_background": "light"
          }
        }
      ]
    },
    {
      "cell_type": "markdown",
      "metadata": {
        "id": "BtLwTzMo-zV1"
      },
      "source": [
        "### **COLLABORATIVE FILTERING USING FASTAI:**\n",
        "- I will create and train **Collaborative Filtering** model using **Fastai** collab learner. "
      ]
    },
    {
      "cell_type": "code",
      "metadata": {
        "colab": {
          "base_uri": "https://localhost:8080/",
          "height": 204
        },
        "id": "R1vncld5-cCP",
        "outputId": "2cbac56e-4a0c-4a87-fc21-07c5952e7b87"
      },
      "source": [
        "#@ IMPLEMENTATION OF COLLAB LEARNER: \n",
        "learn = collab_learner(dls, n_factors=50, y_range=(0, 5.5))  # Initializing the Learner. \n",
        "learn.fit_one_cycle(5, 5e-3, wd=0.1)                         # Training the Learner. "
      ],
      "execution_count": 28,
      "outputs": [
        {
          "output_type": "display_data",
          "data": {
            "text/html": [
              "<table border=\"1\" class=\"dataframe\">\n",
              "  <thead>\n",
              "    <tr style=\"text-align: left;\">\n",
              "      <th>epoch</th>\n",
              "      <th>train_loss</th>\n",
              "      <th>valid_loss</th>\n",
              "      <th>time</th>\n",
              "    </tr>\n",
              "  </thead>\n",
              "  <tbody>\n",
              "    <tr>\n",
              "      <td>0</td>\n",
              "      <td>0.939464</td>\n",
              "      <td>0.954959</td>\n",
              "      <td>00:08</td>\n",
              "    </tr>\n",
              "    <tr>\n",
              "      <td>1</td>\n",
              "      <td>0.841215</td>\n",
              "      <td>0.876151</td>\n",
              "      <td>00:08</td>\n",
              "    </tr>\n",
              "    <tr>\n",
              "      <td>2</td>\n",
              "      <td>0.724404</td>\n",
              "      <td>0.832099</td>\n",
              "      <td>00:08</td>\n",
              "    </tr>\n",
              "    <tr>\n",
              "      <td>3</td>\n",
              "      <td>0.597228</td>\n",
              "      <td>0.816953</td>\n",
              "      <td>00:08</td>\n",
              "    </tr>\n",
              "    <tr>\n",
              "      <td>4</td>\n",
              "      <td>0.481373</td>\n",
              "      <td>0.817286</td>\n",
              "      <td>00:08</td>\n",
              "    </tr>\n",
              "  </tbody>\n",
              "</table>"
            ],
            "text/plain": [
              "<IPython.core.display.HTML object>"
            ]
          },
          "metadata": {
            "tags": []
          }
        }
      ]
    },
    {
      "cell_type": "code",
      "metadata": {
        "colab": {
          "base_uri": "https://localhost:8080/"
        },
        "id": "xHLEWOpWAPq6",
        "outputId": "940a66a8-228e-4e81-fb51-480437854700"
      },
      "source": [
        "#@ INSPECTING LAYERS OF LEARNER: \n",
        "learn.model"
      ],
      "execution_count": 29,
      "outputs": [
        {
          "output_type": "execute_result",
          "data": {
            "text/plain": [
              "EmbeddingDotBias(\n",
              "  (u_weight): Embedding(944, 50)\n",
              "  (i_weight): Embedding(1665, 50)\n",
              "  (u_bias): Embedding(944, 1)\n",
              "  (i_bias): Embedding(1665, 1)\n",
              ")"
            ]
          },
          "metadata": {
            "tags": []
          },
          "execution_count": 29
        }
      ]
    },
    {
      "cell_type": "code",
      "metadata": {
        "colab": {
          "base_uri": "https://localhost:8080/"
        },
        "id": "wHMR8vIXBnJm",
        "outputId": "31a30f08-2993-4604-f29d-d990ccf3e85d"
      },
      "source": [
        "#@ GETTING MOVIES WITH HIGHEST BIASES:\n",
        "movie_bias = learn.model.i_bias.weight.squeeze()        # Getting Biases. \n",
        "idxs = movie_bias.argsort(descending=True)[:5]          # Getting Indexes. \n",
        "[dls.classes[\"title\"][i] for i in idxs]                 # Getting Movies. "
      ],
      "execution_count": 30,
      "outputs": [
        {
          "output_type": "execute_result",
          "data": {
            "text/plain": [
              "['L.A. Confidential (1997)',\n",
              " 'Titanic (1997)',\n",
              " 'Shawshank Redemption, The (1994)',\n",
              " 'Silence of the Lambs, The (1991)',\n",
              " 'Rear Window (1954)']"
            ]
          },
          "metadata": {
            "tags": []
          },
          "execution_count": 30
        }
      ]
    },
    {
      "cell_type": "markdown",
      "metadata": {
        "id": "jBzU-0S3Dt2p"
      },
      "source": [
        "**EMBEDDING DISTANCE:**"
      ]
    },
    {
      "cell_type": "code",
      "metadata": {
        "colab": {
          "base_uri": "https://localhost:8080/",
          "height": 35
        },
        "id": "xioctuq6Cb78",
        "outputId": "20d887fa-e46b-468b-ad26-3d0866064f25"
      },
      "source": [
        "#@ INITIALIZING MOVIE SIMILARITY WITH EMBEDDING DISTANCE: \n",
        "movie_factors = learn.model.i_weight.weight                         # Getting Movie Factors. \n",
        "idx = dls.classes[\"title\"].o2i[\"Titanic (1997)\"]                    # Getting Index. \n",
        "distances = nn.CosineSimilarity(dim=1)(movie_factors,\n",
        "                                       movie_factors[idx][None])    # Getting Distances. \n",
        "idx = distances.argsort(descending=True)[1]                         # Getting Index. \n",
        "dls.classes[\"title\"][idx]                                           # Getting Movie. "
      ],
      "execution_count": 31,
      "outputs": [
        {
          "output_type": "execute_result",
          "data": {
            "application/vnd.google.colaboratory.intrinsic+json": {
              "type": "string"
            },
            "text/plain": [
              "'Forrest Gump (1994)'"
            ]
          },
          "metadata": {
            "tags": []
          },
          "execution_count": 31
        }
      ]
    },
    {
      "cell_type": "markdown",
      "metadata": {
        "id": "J4Qba2cyHY2Q"
      },
      "source": [
        "### **DEEP LEARNING FOR COLLABORATIVE FILTERING:**"
      ]
    },
    {
      "cell_type": "code",
      "metadata": {
        "id": "QwuqfoweLrn0",
        "colab": {
          "base_uri": "https://localhost:8080/"
        },
        "outputId": "264ce6d2-a502-4e06-ee8e-85e8d6990f6c"
      },
      "source": [
        "#@ GETTING OPTIMAL EMBEDDING MATRICES: \n",
        "embs = get_emb_sz(dls)                                              # Getting Embeddings. \n",
        "embs                                                                # Inspecting Embeddings. "
      ],
      "execution_count": 32,
      "outputs": [
        {
          "output_type": "execute_result",
          "data": {
            "text/plain": [
              "[(944, 74), (1665, 102)]"
            ]
          },
          "metadata": {
            "tags": []
          },
          "execution_count": 32
        }
      ]
    },
    {
      "cell_type": "code",
      "metadata": {
        "id": "rps-c4b8IcAc"
      },
      "source": [
        "#@ IMPLEMENTATION OF CLASS: \n",
        "class CollabNN(Module):                                             # Defining Class. \n",
        "    def __init__(self,user_sz,item_sz,y_range=(0,5.5),n_act=100):   # Constructor Function. \n",
        "        self.user_factors = Embedding(*user_sz)                     # Initializing User Factors. \n",
        "        self.item_factors = Embedding(*item_sz)                     # Initializing Item Factors. \n",
        "        self.layers = nn.Sequential(                                # Initializing Sequential Module. \n",
        "            nn.Linear(user_sz[1] + item_sz[1], n_act),              # Initializing Linear Layer. \n",
        "            nn.ReLU(),                                              # Initializing Nonlinear Function. \n",
        "            nn.Linear(n_act, 1))                                    # Initializing Linear Layer. \n",
        "        self.y_range = y_range                                      # Initilization. \n",
        "    \n",
        "    def forward(self, x):\n",
        "        embs = self.user_factors(x[:,0]),self.item_factors(x[:,1])  # Initializing Embedding Matrices. \n",
        "        x = self.layers(torch.cat(embs, dim=1))                     # Implementation. \n",
        "        return sigmoid_range(x, *self.y_range)                      # Implementation of Sigmoid Range. \n",
        "\n",
        "#@ CREATING THE MODEL: \n",
        "model = CollabNN(*embs)                                             # Initializing the Model. "
      ],
      "execution_count": 35,
      "outputs": []
    },
    {
      "cell_type": "code",
      "metadata": {
        "colab": {
          "base_uri": "https://localhost:8080/",
          "height": 204
        },
        "id": "v47WcKY1LIQi",
        "outputId": "2c435ed2-8289-48f2-88c5-c4baebb42688"
      },
      "source": [
        "#@ TRAINING THE LEARNER: \n",
        "learn = Learner(dls, model, loss_func=MSELossFlat())                # Initializing the Learner. \n",
        "learn.fit_one_cycle(5, 5e-3, wd=0.1)                                # Training the Learner. "
      ],
      "execution_count": 36,
      "outputs": [
        {
          "output_type": "display_data",
          "data": {
            "text/html": [
              "<table border=\"1\" class=\"dataframe\">\n",
              "  <thead>\n",
              "    <tr style=\"text-align: left;\">\n",
              "      <th>epoch</th>\n",
              "      <th>train_loss</th>\n",
              "      <th>valid_loss</th>\n",
              "      <th>time</th>\n",
              "    </tr>\n",
              "  </thead>\n",
              "  <tbody>\n",
              "    <tr>\n",
              "      <td>0</td>\n",
              "      <td>0.972395</td>\n",
              "      <td>0.944805</td>\n",
              "      <td>00:08</td>\n",
              "    </tr>\n",
              "    <tr>\n",
              "      <td>1</td>\n",
              "      <td>0.897500</td>\n",
              "      <td>0.924535</td>\n",
              "      <td>00:08</td>\n",
              "    </tr>\n",
              "    <tr>\n",
              "      <td>2</td>\n",
              "      <td>0.870171</td>\n",
              "      <td>0.903539</td>\n",
              "      <td>00:08</td>\n",
              "    </tr>\n",
              "    <tr>\n",
              "      <td>3</td>\n",
              "      <td>0.820569</td>\n",
              "      <td>0.872207</td>\n",
              "      <td>00:09</td>\n",
              "    </tr>\n",
              "    <tr>\n",
              "      <td>4</td>\n",
              "      <td>0.800743</td>\n",
              "      <td>0.872517</td>\n",
              "      <td>00:08</td>\n",
              "    </tr>\n",
              "  </tbody>\n",
              "</table>"
            ],
            "text/plain": [
              "<IPython.core.display.HTML object>"
            ]
          },
          "metadata": {
            "tags": []
          }
        }
      ]
    },
    {
      "cell_type": "code",
      "metadata": {
        "colab": {
          "base_uri": "https://localhost:8080/",
          "height": 359
        },
        "id": "eto-qOAMLr72",
        "outputId": "e65bdb3e-8adc-44fb-e68a-2c02c1604edf"
      },
      "source": [
        "#@ TRAINING THE COLLAB LEARNER USING FASTAI: \n",
        "learn = collab_learner(dls, use_nn=True, y_range=(0, 5.5), \n",
        "                       layers=[100, 50])                             # Initializing Collabe Learner. \n",
        "learn.fit_one_cycle(10, 5e-3, wd=0.1)                                # Training the Learner. "
      ],
      "execution_count": 37,
      "outputs": [
        {
          "output_type": "display_data",
          "data": {
            "text/html": [
              "<table border=\"1\" class=\"dataframe\">\n",
              "  <thead>\n",
              "    <tr style=\"text-align: left;\">\n",
              "      <th>epoch</th>\n",
              "      <th>train_loss</th>\n",
              "      <th>valid_loss</th>\n",
              "      <th>time</th>\n",
              "    </tr>\n",
              "  </thead>\n",
              "  <tbody>\n",
              "    <tr>\n",
              "      <td>0</td>\n",
              "      <td>0.936648</td>\n",
              "      <td>1.008914</td>\n",
              "      <td>00:09</td>\n",
              "    </tr>\n",
              "    <tr>\n",
              "      <td>1</td>\n",
              "      <td>0.940208</td>\n",
              "      <td>0.947857</td>\n",
              "      <td>00:09</td>\n",
              "    </tr>\n",
              "    <tr>\n",
              "      <td>2</td>\n",
              "      <td>0.894755</td>\n",
              "      <td>0.909129</td>\n",
              "      <td>00:09</td>\n",
              "    </tr>\n",
              "    <tr>\n",
              "      <td>3</td>\n",
              "      <td>0.906522</td>\n",
              "      <td>0.882600</td>\n",
              "      <td>00:10</td>\n",
              "    </tr>\n",
              "    <tr>\n",
              "      <td>4</td>\n",
              "      <td>0.851609</td>\n",
              "      <td>0.871867</td>\n",
              "      <td>00:10</td>\n",
              "    </tr>\n",
              "    <tr>\n",
              "      <td>5</td>\n",
              "      <td>0.809281</td>\n",
              "      <td>0.860921</td>\n",
              "      <td>00:10</td>\n",
              "    </tr>\n",
              "    <tr>\n",
              "      <td>6</td>\n",
              "      <td>0.805595</td>\n",
              "      <td>0.847570</td>\n",
              "      <td>00:10</td>\n",
              "    </tr>\n",
              "    <tr>\n",
              "      <td>7</td>\n",
              "      <td>0.744586</td>\n",
              "      <td>0.852434</td>\n",
              "      <td>00:10</td>\n",
              "    </tr>\n",
              "    <tr>\n",
              "      <td>8</td>\n",
              "      <td>0.705427</td>\n",
              "      <td>0.865453</td>\n",
              "      <td>00:10</td>\n",
              "    </tr>\n",
              "    <tr>\n",
              "      <td>9</td>\n",
              "      <td>0.650853</td>\n",
              "      <td>0.879485</td>\n",
              "      <td>00:09</td>\n",
              "    </tr>\n",
              "  </tbody>\n",
              "</table>"
            ],
            "text/plain": [
              "<IPython.core.display.HTML object>"
            ]
          },
          "metadata": {
            "tags": []
          }
        }
      ]
    },
    {
      "cell_type": "code",
      "metadata": {
        "id": "9CmVSEtbNCDa"
      },
      "source": [
        "#@ INSPECTING EMBEDDING NN:\n",
        "@delegates(TabularModel)\n",
        "class EmbeddingNN(TabularModel):\n",
        "    def __init__(self, emb_szs, layers, **kwargs):\n",
        "        super().__init__(emb_szs, layers=layers, n_cont=0, out_sz=1, \n",
        "                         **kwargs)"
      ],
      "execution_count": 38,
      "outputs": []
    },
    {
      "cell_type": "markdown",
      "metadata": {
        "id": "ZU8QheBgOZHV"
      },
      "source": [
        "**Note:**\n",
        "- **EmbeddingNN** includes **kwargs** as a parameter to __init__. In Python **kwargs** in a parameter list means \"put any additional keyword arguments into a dict called\n",
        "kwargs.\" And **kwargs** in an argument list means \"insert all key and value pairs in the kwargs dict as named arguments here.\""
      ]
    }
  ]
}