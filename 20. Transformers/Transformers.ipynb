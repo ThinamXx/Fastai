{
  "nbformat": 4,
  "nbformat_minor": 0,
  "metadata": {
    "colab": {
      "name": "Transformers.ipynb",
      "provenance": [],
      "collapsed_sections": [
        "mXyWjzoODgpv"
      ]
    },
    "kernelspec": {
      "name": "python3",
      "display_name": "Python 3"
    },
    "language_info": {
      "name": "python"
    },
    "accelerator": "GPU"
  },
  "cells": [
    {
      "cell_type": "markdown",
      "metadata": {
        "id": "mXyWjzoODgpv"
      },
      "source": [
        "### **INITIALIZATION:**\n",
        "- I use these three lines of code on top of my each notebooks because it will help to prevent any problems while reloading the same project. And the third line of code helps to make visualization within the notebook."
      ]
    },
    {
      "cell_type": "code",
      "metadata": {
        "id": "pZq69_01CoSW"
      },
      "source": [
        "#@ INITIALIZATION: \n",
        "%reload_ext autoreload\n",
        "%autoreload 2\n",
        "%matplotlib inline"
      ],
      "execution_count": 3,
      "outputs": []
    },
    {
      "cell_type": "markdown",
      "metadata": {
        "id": "7GZB8tEyDn70"
      },
      "source": [
        "**LIBRARIES AND DEPENDENCIES:**\n",
        "- I have downloaded all the libraries and dependencies required for the project in one particular cell."
      ]
    },
    {
      "cell_type": "code",
      "metadata": {
        "id": "zAUugqiDDlh-"
      },
      "source": [
        "#@ INSTALLING DEPENDENCIES: UNCOMMENT BELOW: \n",
        "# !pip install -Uqq fastbook\n",
        "# import fastbook\n",
        "# fastbook.setup_book()\n",
        "# !pip install -Uq transformers"
      ],
      "execution_count": 2,
      "outputs": []
    },
    {
      "cell_type": "code",
      "metadata": {
        "id": "AE45oW7HD8Rv"
      },
      "source": [
        "#@ DOWNLOADING LIBRARIES AND DEPENDENCIES: \n",
        "from fastai.basics import *\n",
        "from fastai.callback.all import *\n",
        "from fastai.text.all import *\n",
        "\n",
        "import torch\n",
        "from transformers import GPT2LMHeadModel, GPT2TokenizerFast\n",
        "\n",
        "#@ IGNORING WARNINGS: \n",
        "import warnings\n",
        "warnings.filterwarnings(\"ignore\")"
      ],
      "execution_count": 4,
      "outputs": []
    },
    {
      "cell_type": "markdown",
      "metadata": {
        "id": "7bmqxQ8UFVwX"
      },
      "source": [
        "### **GPT2 MODEL:**\n",
        "- There are several versions of **GPT2 Model** : [**Transformers Documentation**](https://huggingface.co/transformers/pretrained_models.html). I will inspect the **Tokenizer** and **Model**. The **Tokenizers** in **HuggingFace** usually do the tokenization and numericalization in one step. The **Model** can generate predictions. "
      ]
    },
    {
      "cell_type": "code",
      "metadata": {
        "id": "gp_3_xqrE-nU"
      },
      "source": [
        "#@ LOADING PRETRAINED MODEL: \n",
        "pretrained_weights = \"gpt2\"                                         # Initialization. \n",
        "tokenizer = GPT2TokenizerFast.from_pretrained(pretrained_weights)   # Initializing Tokenizer. \n",
        "model = GPT2LMHeadModel.from_pretrained(pretrained_weights)         # Initializing Pretrained Model. "
      ],
      "execution_count": 6,
      "outputs": []
    },
    {
      "cell_type": "code",
      "metadata": {
        "colab": {
          "base_uri": "https://localhost:8080/",
          "height": 52
        },
        "id": "rlTnpcD5GtvE",
        "outputId": "e511ad4a-a28b-4807-95a1-04db45384f2b"
      },
      "source": [
        "#@ INSPECTING TOKENIZER: \n",
        "ids = tokenizer.encode(\"Hello there! How are you?\")                 # Implementation of Tokenizer. \n",
        "print(ids)                                                          # Inspection. \n",
        "tokenizer.decode(ids)                                               # Getting Text. "
      ],
      "execution_count": 7,
      "outputs": [
        {
          "output_type": "stream",
          "name": "stdout",
          "text": [
            "[15496, 612, 0, 1374, 389, 345, 30]\n"
          ]
        },
        {
          "output_type": "execute_result",
          "data": {
            "application/vnd.google.colaboratory.intrinsic+json": {
              "type": "string"
            },
            "text/plain": [
              "'Hello there! How are you?'"
            ]
          },
          "metadata": {},
          "execution_count": 7
        }
      ]
    },
    {
      "cell_type": "code",
      "metadata": {
        "colab": {
          "base_uri": "https://localhost:8080/"
        },
        "id": "QmQ_6IiPH_oE",
        "outputId": "b224b587-7e45-4765-b48a-ce9e43662f57"
      },
      "source": [
        "#@ INSPECTING PREDICTIONS: \n",
        "t = torch.LongTensor(ids)[None]                                     # Initializing 1D Tensor. \n",
        "preds = model.generate(t)                                           # Generating Predictions. \n",
        "preds.shape, preds[0]                                               # Inspection. "
      ],
      "execution_count": 8,
      "outputs": [
        {
          "output_type": "stream",
          "name": "stderr",
          "text": [
            "Setting `pad_token_id` to `eos_token_id`:50256 for open-end generation.\n"
          ]
        },
        {
          "output_type": "execute_result",
          "data": {
            "text/plain": [
              "(torch.Size([1, 20]),\n",
              " tensor([15496,   612,     0,  1374,   389,   345,    30,   198,   198,    40,  1101,   257,  1310,  1643, 10032,   286,   262,  6678,  3404,    13]))"
            ]
          },
          "metadata": {},
          "execution_count": 8
        }
      ]
    },
    {
      "cell_type": "code",
      "metadata": {
        "colab": {
          "base_uri": "https://localhost:8080/",
          "height": 35
        },
        "id": "VmsqfGC4JNKk",
        "outputId": "14b6f1c2-6888-4dec-bbdc-384d17759654"
      },
      "source": [
        "#@ INSPECTING PREDICTIONS: \n",
        "tokenizer.decode(preds[0].numpy())                                  # Inspection. "
      ],
      "execution_count": 9,
      "outputs": [
        {
          "output_type": "execute_result",
          "data": {
            "application/vnd.google.colaboratory.intrinsic+json": {
              "type": "string"
            },
            "text/plain": [
              "\"Hello there! How are you?\\n\\nI'm a little bit tired of the usual stuff.\""
            ]
          },
          "metadata": {},
          "execution_count": 9
        }
      ]
    },
    {
      "cell_type": "markdown",
      "metadata": {
        "id": "toGrkMWiKjvw"
      },
      "source": [
        "### **PREPARING DATA:**\n",
        "- I will use **wikitext-2** dataset here. "
      ]
    },
    {
      "cell_type": "code",
      "metadata": {
        "colab": {
          "base_uri": "https://localhost:8080/"
        },
        "id": "krb7mXedKMfp",
        "outputId": "a477e18f-b4f2-415f-d36e-de92aa622978"
      },
      "source": [
        "#@ GETTING THE DATASET: \n",
        "path = untar_data(URLs.WIKITEXT_TINY)                   # Initializing Path to Dataset. \n",
        "path.ls()                                               # Inspection.                           "
      ],
      "execution_count": 11,
      "outputs": [
        {
          "output_type": "execute_result",
          "data": {
            "text/plain": [
              "(#2) [Path('/root/.fastai/data/wikitext-2/test.csv'),Path('/root/.fastai/data/wikitext-2/train.csv')]"
            ]
          },
          "metadata": {},
          "execution_count": 11
        }
      ]
    },
    {
      "cell_type": "code",
      "metadata": {
        "colab": {
          "base_uri": "https://localhost:8080/",
          "height": 213
        },
        "id": "J-Pjdmb3LmnE",
        "outputId": "e3708cdd-9f01-4275-8075-954384587e0d"
      },
      "source": [
        "#@ LOADING THE DATASET: \n",
        "df_train = pd.read_csv(path/\"train.csv\", header=None)   # Reading the Data.\n",
        "df_valid = pd.read_csv(path/\"test.csv\", header=None)    # Reading the Data. \n",
        "df_train.head(2)                                        # Inspecting the Data. "
      ],
      "execution_count": 12,
      "outputs": [
        {
          "output_type": "execute_result",
          "data": {
            "text/html": [
              "<div>\n",
              "<style scoped>\n",
              "    .dataframe tbody tr th:only-of-type {\n",
              "        vertical-align: middle;\n",
              "    }\n",
              "\n",
              "    .dataframe tbody tr th {\n",
              "        vertical-align: top;\n",
              "    }\n",
              "\n",
              "    .dataframe thead th {\n",
              "        text-align: right;\n",
              "    }\n",
              "</style>\n",
              "<table border=\"1\" class=\"dataframe\">\n",
              "  <thead>\n",
              "    <tr style=\"text-align: right;\">\n",
              "      <th></th>\n",
              "      <th>0</th>\n",
              "    </tr>\n",
              "  </thead>\n",
              "  <tbody>\n",
              "    <tr>\n",
              "      <th>0</th>\n",
              "      <td>\\n = 2013 – 14 York City F.C. season = \\n \\n The 2013 – 14 season was the &lt;unk&gt; season of competitive association football and 77th season in the Football League played by York City Football Club , a professional football club based in York , North Yorkshire , England . Their 17th @-@ place finish in 2012 – 13 meant it was their second consecutive season in League Two . The season ran from 1 July 2013 to 30 June 2014 . \\n Nigel Worthington , starting his first full season as York manager , made eight permanent summer signings . By the turn of the year York were only above the relegation z...</td>\n",
              "    </tr>\n",
              "    <tr>\n",
              "      <th>1</th>\n",
              "      <td>\\n = Big Boy ( song ) = \\n \\n \" Big Boy \" &lt;unk&gt; \" I 'm A Big Boy Now \" was the first single ever recorded by the Jackson 5 , which was released by Steeltown Records in January 1968 . The group played instruments on many of their Steeltown compositions , including \" Big Boy \" . The song was neither a critical nor commercial success , but the Jackson family were delighted with the outcome nonetheless . \\n The Jackson 5 would release a second single with Steeltown Records before moving to Motown Records . The group 's recordings at Steeltown Records were thought to be lost , but they were re...</td>\n",
              "    </tr>\n",
              "  </tbody>\n",
              "</table>\n",
              "</div>"
            ],
            "text/plain": [
              "                                                                                                                                                                                                                                                                                                                                                                                                                                                                                                                                                                                                                         0\n",
              "0   \\n = 2013 – 14 York City F.C. season = \\n \\n The 2013 – 14 season was the <unk> season of competitive association football and 77th season in the Football League played by York City Football Club , a professional football club based in York , North Yorkshire , England . Their 17th @-@ place finish in 2012 – 13 meant it was their second consecutive season in League Two . The season ran from 1 July 2013 to 30 June 2014 . \\n Nigel Worthington , starting his first full season as York manager , made eight permanent summer signings . By the turn of the year York were only above the relegation z...\n",
              "1   \\n = Big Boy ( song ) = \\n \\n \" Big Boy \" <unk> \" I 'm A Big Boy Now \" was the first single ever recorded by the Jackson 5 , which was released by Steeltown Records in January 1968 . The group played instruments on many of their Steeltown compositions , including \" Big Boy \" . The song was neither a critical nor commercial success , but the Jackson family were delighted with the outcome nonetheless . \\n The Jackson 5 would release a second single with Steeltown Records before moving to Motown Records . The group 's recordings at Steeltown Records were thought to be lost , but they were re..."
            ]
          },
          "metadata": {},
          "execution_count": 12
        }
      ]
    },
    {
      "cell_type": "code",
      "metadata": {
        "id": "3ZyXakLvMPAl"
      },
      "source": [
        "#@ LOADING THE DATA:\n",
        "all_texts = np.concatenate([df_train[0].values, \n",
        "                            df_valid[0].values])        # Initializing Concatenation. "
      ],
      "execution_count": 13,
      "outputs": []
    },
    {
      "cell_type": "markdown",
      "metadata": {
        "id": "VNuj9jifYzC_"
      },
      "source": [
        "### **TRANSFORMERS TOKENIZER:**"
      ]
    },
    {
      "cell_type": "markdown",
      "metadata": {
        "id": "ow-e_esmZamX"
      },
      "source": [
        "**TRANSFORM METHOD:**  \n",
        "**Fastai Transform** is defined as:     \n",
        "- an **encodes** method that is applied when **transform** is called. \n",
        "- a **decodes** method that is applied when **decode** method of transform is called. \n",
        "- a **setups** method that sets inner state of **Transform**. "
      ]
    },
    {
      "cell_type": "code",
      "metadata": {
        "id": "yD2nc3FeYgld"
      },
      "source": [
        "#@ DEFINING TRANSFORMERS TOKENIZER: \n",
        "class TransformersTokenizer(Transform):                     # Defining Tokenizer. \n",
        "    def __init__(self, tokenizer):                          # Initializing Constructor Function. \n",
        "        self.tokenizer = tokenizer                          # Initializing Tokenizer. \n",
        "    \n",
        "    def encodes(self, x):                                   # Initializing Encode Method. \n",
        "        toks = self.tokenizer.tokenize(x)                   # Initializing Tokenizer. \n",
        "        return tensor(\n",
        "            self.tokenizer.convert_tokens_to_ids(toks))     # Generating IDs. \n",
        "    \n",
        "    def decodes(self, x):                                   # Initializing Decode Method. \n",
        "        return TitledStr(\n",
        "            self.tokenizer.decode(x.cpu().numpy()))"
      ],
      "execution_count": 14,
      "outputs": []
    },
    {
      "cell_type": "code",
      "metadata": {
        "colab": {
          "base_uri": "https://localhost:8080/"
        },
        "id": "ZffqEbxaciHT",
        "outputId": "92954d87-ee7e-45ff-c1a9-0f00cf04ec33"
      },
      "source": [
        "#@ IMPLEMENTATION OF TRANSFORM METHOD: \n",
        "splits = [range_of(df_train), \n",
        "          list(range(len(df_train), len(all_texts)))]       # Initialization. \n",
        "tls = TfmdLists(all_texts,TransformersTokenizer(tokenizer), \n",
        "                splits=splits, dl_type=LMDataLoader)        # Initializing Transformed DataLoader. \n",
        "\n",
        "#@ INSPECTING TRANSFORMED DATALOADER: \n",
        "print(tls.train[0], tls.valid[0])\n",
        "print(tls.tfms(tls.train.items[0]).shape, \n",
        "      tls.tfms(tls.valid.items[0]).shape)"
      ],
      "execution_count": 16,
      "outputs": [
        {
          "output_type": "stream",
          "name": "stdout",
          "text": [
            "tensor([220, 198, 796,  ..., 198, 220, 198]) tensor([220, 198, 796,  ..., 198, 220, 198])\n",
            "torch.Size([4576]) torch.Size([1485])\n"
          ]
        }
      ]
    },
    {
      "cell_type": "code",
      "metadata": {
        "id": "oizPdOXFeQZj",
        "colab": {
          "base_uri": "https://localhost:8080/"
        },
        "outputId": "78862e86-75de-4a2a-a15f-04a2eab8d322"
      },
      "source": [
        "#@ INSPECTING THE DECODES: \n",
        "show_at(tls.train, 0)"
      ],
      "execution_count": 17,
      "outputs": [
        {
          "output_type": "stream",
          "name": "stdout",
          "text": [
            " \n",
            " = 2013 – 14 York City F.C. season = \n",
            " \n",
            " The 2013 – 14 season was the <unk> season of competitive association football and 77th season in the Football League played by York City Football Club, a professional football club based in York, North Yorkshire, England. Their 17th @-@ place finish in 2012 – 13 meant it was their second consecutive season in League Two. The season ran from 1 July 2013 to 30 June 2014. \n",
            " Nigel Worthington, starting his first full season as York manager, made eight permanent summer signings. By the turn of the year York were only above the relegation zone on goal difference, before a 17 @-@ match unbeaten run saw the team finish in seventh @-@ place in the 24 @-@ team 2013 – 14 Football League Two. This meant York qualified for the play @-@ offs, and they were eliminated in the semi @-@ final by Fleetwood Town. York were knocked out of the 2013 – 14 FA Cup, Football League Cup and Football League Trophy in their opening round matches. \n",
            " 35 players made at least one appearance in nationally organised first @-@ team competition, and there were 12 different <unk>. Defender Ben Davies missed only five of the fifty @-@ two competitive matches played over the season. Wes Fletcher finished as leading scorer with 13 goals, of which 10 came in league competition and three came in the FA Cup. The winner of the <unk> of the Year award, voted for by the club's supporters, was <unk> Oyebanjo. \n",
            " \n",
            " = = Background and pre @-@ season = = \n",
            " \n",
            " The 2012 – 13 season was York City's first season back in the Football League, having won the Conference Premier play @-@ offs in 2011 – 12 after <unk> years in the Football Conference. Manager Gary Mills was sacked in March 2013 following an 11 @-@ match run without a victory, and was replaced by former Northern Ireland manager Nigel Worthington. Despite being in the relegation zone with three matches remaining, Worthington led the team to safety from relegation after a 1 – 0 win away to Dagenham & Redbridge on the final day of the season. York finished the season in 17th @-@ place in the 2012 – 13 League Two table. \n",
            " Following the previous season's conclusion Lee <unk>, Jon <unk>, Chris <unk>, Ben Everson, Scott Kerr, David <unk>, Patrick <unk>, Michael Potts, Jamie Reed and Jason Walker were released by York, while <unk> Blair departed for Fleetwood Town. David McGurk, <unk> Oyebanjo, Danny Parslow, Tom Platt and Chris Smith signed new contracts with the club. New players signed ahead of the start of the season were goalkeeper Chris <unk> on a season @-@ long loan from Blackpool, defender Ben Davies on loan from Preston North End, midfielders Craig Clay from Chesterfield and Lewis Montrose from Gillingham, winger <unk> Puri from St <unk> and strikers Ryan Bowman from Hereford United, Richard Cresswell from Sheffield United, Wes Fletcher from Burnley and Ryan Jarvis from Torquay United. Defender Mike Atkinson and striker Chris Dickinson entered the first @-@ team squad from the youth team after agreeing professional contracts. \n",
            " York retained the previous season's home and away kits. The home kit comprised red shirts with white sleeves, light blue shorts and white socks. The away kit included light blue shirts with white sleeves, white shorts and light blue socks. <unk> Health continued as shirt sponsors for the second successive season. \n",
            " \n",
            " = = Review = = \n",
            " \n",
            " \n",
            " = = = August = = = \n",
            " \n",
            " York began the season with a 1 – 0 home win over the previous season's play @-@ off finalists, Northampton Town, with <unk> Jarvis scoring the winning goal in the 90th @-@ minute. However, defeat came in York's match against Championship side Burnley in the first round of the League Cup, going down 4 – 0 at home. The team endured their first league defeat of the season in the following game after being beaten 2 – 0 away by Dagenham & Redbridge, the home team scoring in each half. York then held Hartlepool United to a 0 – 0 home draw, before being beaten 3 – 2 away by Bristol Rovers, in which Jarvis scored twice before John @-@ Joe O 'Toole scored the winning goal for the home team in the 67th @-@ minute. Two signings were made shortly before the transfer deadline ; defender George Taft was signed on a one @-@ month loan from Leicester City, while Middlesbrough midfielder Ryan Brobbel joined on a one @-@ month loan. <unk> John <unk>, who had been told he had no future with the club, departed after signing for FC Halifax Town. Jarvis gave York the lead away at Exeter City before Alan <unk> scored in each half to see the home team win 2 – 1. \n",
            " \n",
            " = = = September = = = \n",
            " \n",
            " York suffered their first home league defeat of the season after AFC Wimbledon won 2 – 0, with Michael Smith scoring in each half. Former Ipswich Town midfielder Josh Carson, who had a spell on loan with York the previous season, signed a contract until the end of 2013 – 14 and Sheffield United midfielder Elliott <unk> signed on a one @-@ month loan. Brobbel opened the scoring in the second minute of his home debut against Mansfield Town, although the away team went on to score twice to win 2 – 1. York's run of four defeats ended following a 1 – 1 draw away to Wycombe Wanderers, in which McGurk gave York the lead before the home team levelled through Dean Morgan. Taft was sent back to Leicester after he fell behind McGurk, Parslow and Smith in the pecking order for a central defensive berth. York achieved their first win since the opening day of the season after beating Portsmouth 4 – 2 at home, with Fletcher ( 2 ), Montrose and Jarvis scoring. \n",
            " \n",
            " = = = October = = = \n",
            " \n",
            " Defender Luke O 'Neill was signed from Burnley on a 28 @-@ day emergency loan. He made his debut in York's 3 – 0 win away at Torquay, which was the team's first successive win of the season. York were knocked out of the Football League Trophy in the second round after being beaten 3 – 0 at home by League One team Rotherham United, before their winning streak in the league was ended with a 3 – 0 defeat away to Newport County. York drew 2 – 2 away to Chesterfield, having taken a two @-@ goal lead through O 'Neill and Jarvis, before the home team fought back through Armand <unk> and Jay O <unk>. The team then hosted Fleetwood Town, and the visitors won 2 – 0 with goals scored in each half by Gareth Evans and <unk> Matt. Scunthorpe United were beaten 4 – 1 at home to end York's three @-@ match run without a win, with all the team's goals coming in the first half from Carson, Fletcher and Brobbel ( 2 ). \n",
            " \n",
            " = = = November = = = \n",
            " \n",
            " Bowman scored his first goals for York away to Cheltenham Town, as York twice fought back from behind to draw 2 – 2. York drew 3 – 3 away to Bristol Rovers to earn a first round replay in the FA Cup, taking the lead through Jarvis before Eliot Richards equalised for the home team. Carson scored a 30 yard volley to put York back in the lead, and after Bristol Rovers goals from Matt <unk> and Chris <unk>, Fletcher scored an 86th @-@ minute equaliser for York. Bowman scored with a header from an O 'Neill cross to open the scoring at home to Plymouth Argyle, which was the first goal the visitors had conceded in 500 minutes of action. However, Plymouth equalised 11 minutes later through <unk> <unk> and the match finished a 1 – 1 draw. York were knocked out of the FA Cup after losing 3 – 2 at home to Bristol Rovers in a first round replay ; the visitors were 3 – 0 up by 50 @-@ minutes before Fletcher pulled two back for York with a penalty and a long @-@ range strike. \n",
            " Defender Keith Lowe, of Cheltenham, and goalkeeper Nick Pope, of Charlton Athletic, were signed on loan until January 2014. They both played in York's first league defeat in four weeks, 2 – 1 away, to Southend United. <unk> <unk> gave Southend the lead early into the match and Bowman equalised for York with a low strike during the second half, before Luke Prosser scored the winning goal for the home side in stoppage time. With Pope preferred in goal, <unk> returned to Blackpool on his own accord, although his loan agreement would stay in place until January 2014. York then drew 0 – 0 away to Morecambe. After Pope was recalled from his loan by Charlton, York signed Wolverhampton Wanderers goalkeeper Aaron McCarey on loan until January 2014. McCarey kept a clean sheet in York's 0 – 0 home draw with Rochdale. \n",
            " \n",
            " = = = December = = = \n",
            " \n",
            " Cresswell retired from playing as a result of an eye complaint and a knee injury. York drew 1 – 1 away to Burton Albion, with an own goal scored by Shane <unk> @-@ <unk> giving York the lead in the 64th @-@ minute before the home team equalised eight minutes later through Billy <unk>. Atkinson was released after failing to force himself into the first team and signed for Scarborough Athletic, with whom he had been on loan. York drew 0 – 0 at home with second @-@ placed Oxford United, in which Carson came closest to scoring with a volley that <unk> across the face of the goal. This was followed by another draw after the match away to Accrington Stanley finished 1 – 1, with the home team <unk> 10 minutes after a Fletcher penalty had given York the lead in the 35th @-@ minute. Striker <unk> McDonald, who had been released by Peterborough United, was signed on a contract until the end of the season. York's last match of 2013 was a 2 – 1 defeat away at Bury, a result that ended York's run of consecutive draws at five. The home team were 2 – 0 up by the 19th @-@ minute, before Michael Coulson scored York's goal in the 73rd @-@ minute. This result meant York would begin 2014 in 22nd @-@ position in the table, only out of the relegation zone on goal difference. \n",
            " \n",
            " = = = January = = = \n",
            " \n",
            " Jarvis scored the only goal in York's first win since October 2013, a 1 – 0 home victory over Morecambe on New Year's Day. McCarey was recalled by Wolverhampton Wanderers due to an injury to one of their <unk>, while O 'Neill was recalled by Burnley to take part in their FA Cup match. York achieved back @-@ to @-@ back wins for the first time since October 2013 after Dagenham & Redbridge were beaten 3 – 1 at home, with Bowman opening the scoring in the second half before Fletcher scored twice. Adam Reed, who had a spell on loan with York in the previous season, was signed on a contract until the end of the season after parting company with Burton. Davies'loan was extended, while Brobbel and <unk> returned to their parent clubs. Cheltenham club captain Russell Penn, a midfielder, was signed on a two @-@ and @-@ a @-@ half @-@ year contract for an undisclosed fee. Lowe was subsequently signed permanently from Cheltenham on a two @-@ and @-@ a @-@ half @-@ year contract for an undisclosed fee. Having been allowed to leave the club on a free transfer, Ashley Chambers signed for Conference Premier club Cambridge United. \n",
            " York achieved three successive wins for the first time in 2013 – 14 after beating Northampton 2 – 0 away, with Bowman and Fletcher scoring in three @-@ second half minutes. Defender John McCombe was signed on a two @-@ and @-@ a @-@ half @-@ year contract following his release from Mansfield, before Clay and Jamal <unk> left York by mutual consent. Pope returned to York on loan from Charlton for the remainder of the season. York's run of wins ended with a 0 – 0 draw at home to Bristol Rovers, before their first defeat of the year came after losing 2 – 0 away to Hartlepool. Preston winger Will Hayhurst, a Republic of Ireland under @-@ 21 international, was signed on a one @-@ month loan. York fell to a successive defeat for the first time since September 2013 after being beaten 2 – 0 at home by Chesterfield. Shortly after the match, Smith left the club by mutual consent to pursue first @-@ team football. \n",
            " \n",
            " = = = February = = = \n",
            " \n",
            " Fletcher scored a 90th @-@ minute winner for York away to Fleetwood in a 2 – 1 win, a result that ended Fleetwood's five @-@ match unbeaten run. York then drew 0 – 0 at home to fellow mid @-@ table team Cheltenham, before beating Plymouth 4 – 0 away with goals from Fletcher, McCombe ( 2 ) and Carson as the team achieved successive away wins for the first time in 2013 – 14. York went without scoring for a fourth consecutive home match after drawing 0 – 0 with Southend. Having worn the <unk> since an injury to McGurk, Penn was appointed captain for the rest of the season, a position that had earlier been held by Smith and Parslow. \n",
            " \n",
            " = = = March = = = \n",
            " \n",
            " York achieved their first home win in five matches after beating Exeter 2 – 1, with first half goals scored by McCombe and Coulson. Hayhurst's loan was extended to the end of the season, having impressed in his six appearances for the club. Coulson scored again with the only goal, a 41st @-@ minute header, in York's 1 – 0 away win over AFC Wimbledon. Bowman scored the only goal with a 32nd @-@ minute penalty as York won 1 – 0 away against Mansfield, in which Fletcher missed the opportunity to extend the lead when his stoppage time penalty was saved by Alan Marriott. York moved one place outside the play @-@ offs with a 2 – 0 home win over Wycombe, courtesy of a second Bowman penalty in as many matches and a Carson goal from the edge of the penalty area. Coulson scored York's only goal in a 1 – 0 away win over struggling Portsmouth with a low volley in the fifth @-@ minute ; this result meant York moved into the play @-@ offs in seventh @-@ place with eight fixtures remaining. \n",
            " Striker Calvin Andrew, who had been released by Mansfield in January 2014, was signed on a contract for the remainder of the season. He made his debut as a substitute in York's 1 – 0 home win over bottom of the table Torquay, in which Hayhurst scored the only goal in the 11th @-@ minute with an 18 yard shot that <unk> off Aaron <unk>. Middlesbrough winger Brobbel rejoined on loan until the end of the season, following an injury to Carson. York's run of successive wins ended on six matches after a 0 – 0 home draw with Burton, and this result saw York drop out of the play @-@ offs in eighth @-@ place. With the team recording six wins and one draw in March 2014, including six clean sheets, Worthington was named League Two Manager of the Month. \n",
            " \n",
            " = = = April = = = \n",
            " \n",
            " Pope made a number of saves as York held league leaders Rochdale to a 0 – 0 away draw, with a point being enough to lift the team back into seventh @-@ place. York were prevented from equalling a club record of eight consecutive clean sheets when Accrington scored a stoppage time equaliser in a 1 – 1 home draw, in which York had taken earlier taken the lead with a Coulson penalty. A 1 – 0 win away win over Oxford, which was decided by a second half Coulson penalty, resulted in York moving one place above their opponents and back into seventh @-@ place. York consolidated their place in a play @-@ off position after beating Bury 1 – 0 at home with a fifth @-@ minute goal scored by Lowe from a Hayhurst corner. The result meant York opened up a five @-@ point lead over eighth @-@ placed Oxford with two fixtures remaining. A place in the League Two play @-@ offs was secured following a 1 – 0 win over Newport at home, in which Coulson scored the only goal in the 77th @-@ minute with a 25 yard free kick. Pope earned a nomination for League Two Player of the Month for April 2014, having conceded only one goal in five matches in that period. \n",
            " \n",
            " = = = May = = = \n",
            " \n",
            " The league season concluded with an away match against divisional runners @-@ up Scunthorpe ; having gone two goals down York fought back to draw 2 – 2 with goals scored by Brobbel and Andrew. This result meant York finished the season in seventh @-@ place in League Two, and would thus play fourth @-@ placed Fleetwood in the play @-@ off semi @-@ final on the back of a 17 @-@ match unbeaten run. York lost 1 – 0 to Fleetwood in the first leg at <unk> Crescent ; the goal came from former York player <unk> Blair in the 50th @-@ minute, who scored from close range after Antoni <unk>'s shot was blocked on the line. A 0 – 0 draw away to Fleetwood in the second leg meant York were eliminated 1 – 0 on aggregate, ending the prospect of a second promotion in three seasons. At an awards night held at York Racecourse, Oyebanjo was voted <unk> of the Year for 2013 – 14. \n",
            " \n",
            " = = Summary and aftermath = = \n",
            " \n",
            " York mostly occupied the bottom half of the table before the turn of the year, and dropped as low as 23rd in September 2013. During February 2014 the team broke into the top half of the table and with one match left were in sixth @-@ place. York's defensive record was the third best in League Two with 41 goals conceded, bettered only by Southend ( 39 ) and Chesterfield ( 40 ). Davies made the highest number of appearances over the season, appearing in 47 of York's 52 matches. Fletcher was York's top scorer in the league and in all competitions, with 10 league goals and 13 in total. He was the only player to reach double figures, and was followed by Jarvis with nine goals. \n",
            " After the season ended York released Tom Allan, Andrew, Dickinson, McDonald, Puri and Reed, while McGurk retired from professional football. Bowman and Oyebanjo left to sign for Torquay and Crawley Town respectively while Coulson signed a new contract with the club. York's summer signings included goalkeeper Jason <unk> from Tranmere Rovers, defenders <unk> <unk> from Dagenham, Marvin McCoy from Wycombe and Dave Winfield from Shrewsbury Town, midfielders <unk> <unk> from Mansfield, Anthony <unk> from Southend and Luke <unk> from Shrewsbury and striker Jake Hyde from <unk>. \n",
            " \n",
            " = = Match details = = \n",
            " \n",
            " League positions are sourced by <unk>, while the remaining information is referenced individually. \n",
            " \n",
            " = = = Football League Two = = = \n",
            " \n",
            " \n",
            " = = = League table ( part ) = = = \n",
            " \n",
            " \n",
            " = = = FA Cup = = = \n",
            " \n",
            " \n",
            " = = = League Cup = = = \n",
            " \n",
            " \n",
            " = = = Football League Trophy = = = \n",
            " \n",
            " \n",
            " = = = Football League Two play @-@ offs = = = \n",
            " \n",
            " \n",
            " = = <unk> = = \n",
            " \n",
            " \n",
            " = = = In = = = \n",
            " \n",
            " <unk> around club names denote the player's contract with that club had expired before he joined York. \n",
            " \n",
            " = = = Out = = = \n",
            " \n",
            " <unk> around club names denote the player joined that club after his York contract expired. \n",
            " \n",
            " = = = Loan in = = = \n",
            " \n",
            " \n",
            " = = = Loan out = = = \n",
            " \n",
            " \n",
            " = = Appearances and goals = = \n",
            " \n",
            " Source : \n",
            " Numbers in parentheses denote appearances as substitute. \n",
            " Players with names struck through and marked left the club during the playing season. \n",
            " Players with names in italics and marked * were on loan from another club for the whole of their season with York. \n",
            " Players listed with no appearances have been in the <unk> squad but only as unused <unk>. \n",
            " Key to positions : <unk> – <unk> ; <unk> – Defender ; <unk> – <unk> ; <unk> – Forward \n",
            " \n",
            "\n"
          ]
        }
      ]
    },
    {
      "cell_type": "code",
      "metadata": {
        "colab": {
          "base_uri": "https://localhost:8080/"
        },
        "id": "kjJ7hD_CJ4gQ",
        "outputId": "e31a29f0-49c3-4494-95f9-4fa0715ca937"
      },
      "source": [
        "#@ INSPECTING THE DECODES: \n",
        "show_at(tls.valid, 0)"
      ],
      "execution_count": 18,
      "outputs": [
        {
          "output_type": "stream",
          "name": "stdout",
          "text": [
            " \n",
            " = Tropical Storm <unk> ( 2008 ) = \n",
            " \n",
            " Tropical Storm <unk> was the tenth tropical storm of the 2008 Atlantic hurricane season. <unk> developed out of a strong tropical wave which moved off the African coast on August 31. The wave quickly became organized and was declared Tropical Depression Ten while located 170 mi ( 270 km ) to the south @-@ southeast of the Cape Verde Islands on September 2. The depression was quickly upgraded to Tropical Storm <unk> around noon the same day. Over the next several days, <unk> moved in a general west @-@ northwest direction and reached its peak intensity early on September 3. Strong wind shear, some due to the outflow of Hurricane Ike, and dry air caused the storm to weaken. On September 6, the combination of wind shear, dry air, and cooling waters caused <unk> to weaken into a tropical depression. <unk> deteriorated into a remnant low shortly after as convection continued to dissipate around the storm. The low ultimately dissipated while located 520 mi ( 835 km ) east of <unk> on September 10. However, the remnant moisture led to minor flooding on the island of St. Croix. \n",
            " \n",
            " = = Meteorological history = = \n",
            " \n",
            " Tropical Storm <unk> formed as a tropical wave that emerged off the west coast of Africa near the end of August 2008. It tracked south of Cape Verde and slowly developed, and on September 2 the disturbance became Tropical Depression Ten while located south @-@ southeast of the Cape Verde islands. As the depression became more organized, an eye @-@ like feature developed in the upper levels of the system. The depression was upgraded to Tropical Storm <unk> six hours after forming. <unk> was located in an area which was supportive for rapid intensification but was not forecast to intensify quickly. \n",
            " <unk> continued to intensify throughout the afternoon as the storm became more symmetrical. However, due to the location of the storm, there was a lack of accurate wind speed readings, and the National Hurricane Center was uncertain of its actual intensity. Despite the lack of wind shear around the storm, the center became slightly exposed and ceased further intensification. The storm was also heading into an area where shear was <unk> to significantly increase due to an upper @-@ level trough diving southward. Despite convection being partially removed from the center of <unk>, the storm intensified slightly in the early morning hours on September 3 as thunderstorm activity to the south of the center became more organized. The intensification was forecast to be short in duration as the trough to the north was deepening, causing the wind shear to the west to become stronger. \n",
            " <unk> reached its peak intensity of 65 mph ( 100 km / h ) around 8 a.m. ( <unk> ) as it continued to become more organized. However, there were indications that it had already begun to weaken. <unk> towards the north was becoming restricted and arc clouds began emanating from the storm, a sign that dry air was entering the system. During the afternoon hours, the structure of <unk> began to rapidly deteriorate as strong wind shear and dry air took their toll. By the late night, the center was almost completely exposed and only a band of convection persisted near the center. \n",
            " Despite continuing effects from the strong wind shear, a large, deep burst of convection formed in the northern <unk> of <unk>. The center was found to have shifted towards the new convection leading to an increase in intensity. The forecast showed a slight decrease in wind shear as <unk> continued westward and no change in intensity over the 5 @-@ day forecast was predicted. However, the convection decreased once more and the low became completely exposed by the late morning hours and <unk> weakened again. By the afternoon, the center of <unk> was only a <unk> of clouds, devoid of convection. During the overnight hours on September 4 into the morning of September 5, convection associated with <unk> began to <unk> somewhat, mostly to the north of the circulation, due to the strong <unk> wind shear. By mid @-@ morning, <unk> re @-@ intensified slightly due to the redevelopment of some convection. However, the redevelopment was short lived and wind shear again took its toll on <unk> by late morning. The convection around the system became <unk> from the center and <unk> weakened slightly. \n",
            " The weakening trend continued through the afternoon as the storm was being affected by strong <unk> shear. <unk> became almost fully devoid of any convection by mid @-@ afternoon and the storm weakened to 40 mph ( 65 km / h ), barely holding on to tropical storm status. <unk> regained a small amount of convection in the late night hours, but not enough to still be classified a tropical storm. Due to the lack of convection, <unk> was downgraded to a Tropical Depression at <unk> ( <unk> ) with winds of 35 mph ( 55 km / h ). Since there was no convection around the system, it would have normally been classified a remnant low but, due to the possibility of the storm <unk> over the next several days, it was considered a tropical depression. The next morning, <unk> was downgraded to a remnant low as strong wind shear and dry air caused the demise of the storm. No redevelopment was expected with <unk> as it began to move over colder waters and remain under strong wind shear until it dissipated. \n",
            " However, the remnant low associated with <unk> began to show signs of redevelopment during the afternoon on September 7. <unk> around the system increased significantly and the low was no longer exposed. On September 8, wind shear took over the system again. <unk> around the remnant low was torn away and the low was exposed once more. The National Hurricane Center did not state the chance of regeneration once the low became exposed. Finally, on September 9, wind shear and dry air led to the remnants of <unk> deteriorating into an open wave. However, on September 10, the remnants of <unk> redeveloped and global models picked up on the reformed system. Once more, the chance of regeneration was possible as the remnants of <unk> headed towards the Bahamas. However, on September 14, dry air and wind shear caused the remnants to dissipate entirely. \n",
            " \n",
            " = = Impact = = \n",
            " \n",
            " As <unk> passed to the south of the Cape Verde islands on September 2, outer rain bands produced minor rainfall, totaling around 0 @.@ 55 inches ( 14 mm ). There were no reports of damage or flooding from the rain and overall effects were minor. \n",
            " Several days after the low dissipated, the remnant moisture from <unk> brought showers and thunderstorms to St. Croix where up to 1 in ( 25 @.@ 4 mm ) of rain fell. The heavy rains led to minor street flooding and some urban flooding. No known damage was caused by the flood. \n",
            " \n",
            "\n"
          ]
        }
      ]
    },
    {
      "cell_type": "markdown",
      "metadata": {
        "id": "7_1MRMgaKYAX"
      },
      "source": [
        "### **INITIALIZING DATALOADERS:**\n",
        "- I will assemble the data in **DataLoaders** object. "
      ]
    },
    {
      "cell_type": "code",
      "metadata": {
        "colab": {
          "base_uri": "https://localhost:8080/",
          "height": 434
        },
        "id": "3xEgretlKDxC",
        "outputId": "43f6d73e-0a8b-472e-b743-fea419d33782"
      },
      "source": [
        "#@ INITIALIZING DATALOADERS: \n",
        "bs, sl = 4, 256                             # Initialization. \n",
        "dls = tls.dataloaders(bs=bs, seq_len=sl)    # Initializing DataLoader. \n",
        "\n",
        "#@ INSPECTING DATALOADERS: \n",
        "dls.show_batch(max_n=2)                     # Inspection. "
      ],
      "execution_count": 19,
      "outputs": [
        {
          "output_type": "display_data",
          "data": {
            "text/html": [
              "<table border=\"1\" class=\"dataframe\">\n",
              "  <thead>\n",
              "    <tr style=\"text-align: right;\">\n",
              "      <th></th>\n",
              "      <th>text</th>\n",
              "      <th>text_</th>\n",
              "    </tr>\n",
              "  </thead>\n",
              "  <tbody>\n",
              "    <tr>\n",
              "      <th>0</th>\n",
              "      <td>\\n = Richard Nixon presidential campaign, 1968 = \\n \\n The 1968 presidential campaign of Richard Nixon, the 36th Vice President of the United States, began when Nixon, the Republican nominee of 1960, formally announced his candidacy following a year's preparation and five years'political &lt;unk&gt; following defeats in the 1960 presidential election, and the 1962 California gubernatorial election. \\n &lt;unk&gt; route to the Republican Party's presidential nomination, Nixon faced challenges from Governor George Romney of Michigan, Governor Nelson Rockefeller of New York, Governor Ronald Reagan of California, and Senator Charles Percy of Illinois. Nixon won nine of the thirteen state primaries held that season, although due to the population of his state, Governor Reagan won the popular vote while carrying only California. These victories, along with pledged delegate support from states not holding primaries, secured Nixon the nomination on the first ballot of the Republican National Convention, where he</td>\n",
              "      <td>\\n = Richard Nixon presidential campaign, 1968 = \\n \\n The 1968 presidential campaign of Richard Nixon, the 36th Vice President of the United States, began when Nixon, the Republican nominee of 1960, formally announced his candidacy following a year's preparation and five years'political &lt;unk&gt; following defeats in the 1960 presidential election, and the 1962 California gubernatorial election. \\n &lt;unk&gt; route to the Republican Party's presidential nomination, Nixon faced challenges from Governor George Romney of Michigan, Governor Nelson Rockefeller of New York, Governor Ronald Reagan of California, and Senator Charles Percy of Illinois. Nixon won nine of the thirteen state primaries held that season, although due to the population of his state, Governor Reagan won the popular vote while carrying only California. These victories, along with pledged delegate support from states not holding primaries, secured Nixon the nomination on the first ballot of the Republican National Convention, where he named</td>\n",
              "    </tr>\n",
              "    <tr>\n",
              "      <th>1</th>\n",
              "      <td>takeover by the chamber of commerce also proved to be successful, as the 1986 game made a small profit. This was an improvement over the three previous Peach &lt;unk&gt;, which lost more than $ 170 @,@ 000. The sellout also confirmed that the game would continue to be held annually instead of being abandoned, as sportswriters had speculated prior to the 1986 game. \\n Tech kicker Chris Kinzer, who kicked the game @-@ winning field goal, did not go on to play in the National Football League despite predictions that he might do so. He attended several NFL teams'&lt;unk&gt;, but a contract to play in the league never materialized. He sold insurance for several years, then &lt;unk&gt; school and graduated from Virginia Tech in 1994 with a degree. \\n \\n = = Later aftermath = = \\n \\n Virginia Tech would go on to join the Atlantic Coast Conference,</td>\n",
              "      <td>by the chamber of commerce also proved to be successful, as the 1986 game made a small profit. This was an improvement over the three previous Peach &lt;unk&gt;, which lost more than $ 170 @,@ 000. The sellout also confirmed that the game would continue to be held annually instead of being abandoned, as sportswriters had speculated prior to the 1986 game. \\n Tech kicker Chris Kinzer, who kicked the game @-@ winning field goal, did not go on to play in the National Football League despite predictions that he might do so. He attended several NFL teams'&lt;unk&gt;, but a contract to play in the league never materialized. He sold insurance for several years, then &lt;unk&gt; school and graduated from Virginia Tech in 1994 with a degree. \\n \\n = = Later aftermath = = \\n \\n Virginia Tech would go on to join the Atlantic Coast Conference, which</td>\n",
              "    </tr>\n",
              "  </tbody>\n",
              "</table>"
            ],
            "text/plain": [
              "<IPython.core.display.HTML object>"
            ]
          },
          "metadata": {}
        }
      ]
    },
    {
      "cell_type": "markdown",
      "metadata": {
        "id": "oZHSTLGwNplT"
      },
      "source": [
        "**Note:**\n",
        "- Another method to gather the data is to preprocess the texts once and for all and only use the transform to decode the tensors to texts. "
      ]
    },
    {
      "cell_type": "code",
      "metadata": {
        "colab": {
          "base_uri": "https://localhost:8080/",
          "height": 37
        },
        "id": "fP6r8PP0NNWa",
        "outputId": "1bf2f860-3898-41fc-8912-80c42a4a03a5"
      },
      "source": [
        "#@ DEFINING TRANSFORMERS TOKENIZER: \n",
        "def tokenize(text):                                         # Defining Tokenize Function. \n",
        "    toks = tokenizer.tokenize(text)                         # Initializing Tokens. \n",
        "    return tensor(tokenizer.convert_tokens_to_ids(toks))    # Initializing Tensors of IDs. \n",
        "tokenized = [tokenize(t) for t in progress_bar(all_texts)]  # Implementation of Tokenize Method. \n",
        "\n",
        "#@ DEFINING TRANSFORMERS TOKENIZER: \n",
        "class TransformersTokenizer(Transform):                     # Defining Tokenizer. \n",
        "    def __init__(self, tokenizer):                          # Initializing Constructor Function. \n",
        "        self.tokenizer = tokenizer                          # Initializing Tokenizer. \n",
        "    \n",
        "    def encodes(self, x):                                   # Defining Encodes Method. \n",
        "        return x if isinstance(x,Tensor) else tokenize(x)   # Implementation of Tokenize Function. \n",
        "    \n",
        "    def decodes(self, x):                                   # Defining Decodes Method. \n",
        "        return TitledStr(\n",
        "            self.tokenizer.decode(x.cpu().numpy()))         # Implementation of Tokenizer. "
      ],
      "execution_count": 20,
      "outputs": [
        {
          "output_type": "display_data",
          "data": {
            "text/html": [
              "\n",
              "    <div>\n",
              "        <style>\n",
              "            /* Turns off some styling */\n",
              "            progress {\n",
              "                /* gets rid of default border in Firefox and Opera. */\n",
              "                border: none;\n",
              "                /* Needs to be in here for Safari polyfill so background images work as expected. */\n",
              "                background-size: auto;\n",
              "            }\n",
              "            .progress-bar-interrupted, .progress-bar-interrupted::-webkit-progress-bar {\n",
              "                background: #F44336;\n",
              "            }\n",
              "        </style>\n",
              "      <progress value='662' class='' max='662' style='width:300px; height:20px; vertical-align: middle;'></progress>\n",
              "      100.00% [662/662 00:10<00:00]\n",
              "    </div>\n",
              "    "
            ],
            "text/plain": [
              "<IPython.core.display.HTML object>"
            ]
          },
          "metadata": {}
        }
      ]
    },
    {
      "cell_type": "code",
      "metadata": {
        "colab": {
          "base_uri": "https://localhost:8080/",
          "height": 400
        },
        "id": "hcyyV0paQfo5",
        "outputId": "776bfcd5-acf3-4d4e-ec3f-e2aaeb3313ad"
      },
      "source": [
        "#@ INITIALIZING DATALOADERS: \n",
        "tls = TfmdLists(tokenized, TransformersTokenizer(tokenizer), \n",
        "                splits=splits, dl_type=LMDataLoader)            # Initializing Transformed Tokens. \n",
        "dls = tls.dataloaders(bs=bs, seq_len=sl)                        # Initializing DataLoader. \n",
        "\n",
        "#@ INSPECTING DATALOADERS: \n",
        "dls.show_batch(max_n=2)                                         # Inspection. "
      ],
      "execution_count": 21,
      "outputs": [
        {
          "output_type": "display_data",
          "data": {
            "text/html": [
              "<table border=\"1\" class=\"dataframe\">\n",
              "  <thead>\n",
              "    <tr style=\"text-align: right;\">\n",
              "      <th></th>\n",
              "      <th>text</th>\n",
              "      <th>text_</th>\n",
              "    </tr>\n",
              "  </thead>\n",
              "  <tbody>\n",
              "    <tr>\n",
              "      <th>0</th>\n",
              "      <td>\\n = The Remix ( Lady Gaga album ) = \\n \\n The Remix is a remix album by American recording artist Lady Gaga. Released in Japan on March 3, 2010, it contains remixes of the songs from her first studio album, The Fame ( 2008 ), and her third extended play, The Fame Monster ( 2009 ). A revised version of the track list was prepared for release in additional markets, beginning with Mexico on May 3, 2010. A number of recording artists have produced the songs, including Pet Shop Boys, Passion Pit and The Sound of Arrows. The remixed versions feature both uptempo and &lt;unk&gt; compositions, with altered vocals from Gaga. \\n The album received mixed reviews from contemporary critics, but some noted how Gaga was able to sell the songs from The Fame in new and novel ways. It reached the top of charts in Greece</td>\n",
              "      <td>\\n = The Remix ( Lady Gaga album ) = \\n \\n The Remix is a remix album by American recording artist Lady Gaga. Released in Japan on March 3, 2010, it contains remixes of the songs from her first studio album, The Fame ( 2008 ), and her third extended play, The Fame Monster ( 2009 ). A revised version of the track list was prepared for release in additional markets, beginning with Mexico on May 3, 2010. A number of recording artists have produced the songs, including Pet Shop Boys, Passion Pit and The Sound of Arrows. The remixed versions feature both uptempo and &lt;unk&gt; compositions, with altered vocals from Gaga. \\n The album received mixed reviews from contemporary critics, but some noted how Gaga was able to sell the songs from The Fame in new and novel ways. It reached the top of charts in Greece and</td>\n",
              "    </tr>\n",
              "    <tr>\n",
              "      <th>1</th>\n",
              "      <td>1, 2 and 3 – to be a reflection of the mod aspect of 1960s British spy fiction. She also highlights Gray's homage to – and divergence from – musical norms, commenting that his score \" sends up the spy and action / adventure conventions of the'60s very &lt;unk&gt; and subtly \". \\n David &lt;unk&gt; identifies &lt;unk&gt; homage in both the theme music and the series'premise. &lt;unk&gt; that the theme's opening string &lt;unk&gt; is similar in effect to a recurring motif in Ride of the &lt;unk&gt;, he also &lt;unk&gt; the Thunderbird machines to &lt;unk&gt; themselves : \" Their function is more benevolent than those warrior &lt;unk&gt;, but they do &lt;unk&gt; over danger, death and destruction. \" Kevin J. Donnelly of the University of Southampton acknowledges the series'\" big @-@ sounding orchestral score \", which he compares to that of a live @-@ action film. He also suggests that the</td>\n",
              "      <td>, 2 and 3 – to be a reflection of the mod aspect of 1960s British spy fiction. She also highlights Gray's homage to – and divergence from – musical norms, commenting that his score \" sends up the spy and action / adventure conventions of the'60s very &lt;unk&gt; and subtly \". \\n David &lt;unk&gt; identifies &lt;unk&gt; homage in both the theme music and the series'premise. &lt;unk&gt; that the theme's opening string &lt;unk&gt; is similar in effect to a recurring motif in Ride of the &lt;unk&gt;, he also &lt;unk&gt; the Thunderbird machines to &lt;unk&gt; themselves : \" Their function is more benevolent than those warrior &lt;unk&gt;, but they do &lt;unk&gt; over danger, death and destruction. \" Kevin J. Donnelly of the University of Southampton acknowledges the series'\" big @-@ sounding orchestral score \", which he compares to that of a live @-@ action film. He also suggests that the music</td>\n",
              "    </tr>\n",
              "  </tbody>\n",
              "</table>"
            ],
            "text/plain": [
              "<IPython.core.display.HTML object>"
            ]
          },
          "metadata": {}
        }
      ]
    },
    {
      "cell_type": "markdown",
      "metadata": {
        "id": "waitSwqhSkjf"
      },
      "source": [
        "### **FINETUNING THE MODEL:**"
      ]
    },
    {
      "cell_type": "code",
      "metadata": {
        "id": "Ys-FB3mqRwKF"
      },
      "source": [
        "#@ DEFINING THE CALLBACK: \n",
        "class DropOutput(Callback):                                         # Defining Callback. \n",
        "    def after_pred(self):\n",
        "        self.learn.pred = self.pred[0]                              # Generating Only Predictions. "
      ],
      "execution_count": 22,
      "outputs": []
    },
    {
      "cell_type": "markdown",
      "metadata": {
        "id": "HWriBAqbUcnz"
      },
      "source": [
        "**Note:**\n",
        "- Since it is a **Language Model**, I will pass perplexity as a metric. **Perplexity** is the exponential of the **cross entropy loss function**. "
      ]
    },
    {
      "cell_type": "code",
      "metadata": {
        "colab": {
          "base_uri": "https://localhost:8080/",
          "height": 34
        },
        "id": "TaJoa0l0UZMe",
        "outputId": "3bb77c10-6558-43e0-afe4-efa40353ac40"
      },
      "source": [
        "#@ INITIALIZING LEARNER: \n",
        "learn = Learner(dls, model, loss_func=CrossEntropyLossFlat(), \n",
        "                cbs=[DropOutput],metrics=Perplexity()).to_fp16()    # Initializing Learner. \n",
        "learn.validate()                                                    # Inspecting Model. "
      ],
      "execution_count": 23,
      "outputs": [
        {
          "output_type": "display_data",
          "data": {
            "text/html": [
              ""
            ],
            "text/plain": [
              "<IPython.core.display.HTML object>"
            ]
          },
          "metadata": {}
        },
        {
          "output_type": "execute_result",
          "data": {
            "text/plain": [
              "(#2) [3.696233034133911,40.29522705078125]"
            ]
          },
          "metadata": {},
          "execution_count": 23
        }
      ]
    },
    {
      "cell_type": "code",
      "metadata": {
        "colab": {
          "base_uri": "https://localhost:8080/",
          "height": 300
        },
        "id": "GrCOHgvXWKBv",
        "outputId": "c41658de-9645-4de9-c59d-d743f93505c9"
      },
      "source": [
        "#@ INITIALIZING LR FINDER: \n",
        "learn.lr_find()"
      ],
      "execution_count": 24,
      "outputs": [
        {
          "output_type": "display_data",
          "data": {
            "text/html": [
              ""
            ],
            "text/plain": [
              "<IPython.core.display.HTML object>"
            ]
          },
          "metadata": {}
        },
        {
          "output_type": "execute_result",
          "data": {
            "text/plain": [
              "SuggestedLRs(valley=6.30957365501672e-05)"
            ]
          },
          "metadata": {},
          "execution_count": 24
        },
        {
          "output_type": "display_data",
          "data": {
            "image/png": "[encoded data removed]",
            "text/plain": [
              "<Figure size 432x288 with 1 Axes>"
            ]
          },
          "metadata": {
            "needs_background": "light"
          }
        }
      ]
    },
    {
      "cell_type": "code",
      "metadata": {
        "colab": {
          "base_uri": "https://localhost:8080/",
          "height": 80
        },
        "id": "_WZoicG7Wofh",
        "outputId": "e3f588d2-2fff-4251-df82-bcf49085428c"
      },
      "source": [
        "#@ TRAINING THE MODEL: \n",
        "learn.fit_one_cycle(1, 1e-4)"
      ],
      "execution_count": 25,
      "outputs": [
        {
          "output_type": "display_data",
          "data": {
            "text/html": [
              "<table border=\"1\" class=\"dataframe\">\n",
              "  <thead>\n",
              "    <tr style=\"text-align: left;\">\n",
              "      <th>epoch</th>\n",
              "      <th>train_loss</th>\n",
              "      <th>valid_loss</th>\n",
              "      <th>perplexity</th>\n",
              "      <th>time</th>\n",
              "    </tr>\n",
              "  </thead>\n",
              "  <tbody>\n",
              "    <tr>\n",
              "      <td>0</td>\n",
              "      <td>3.069389</td>\n",
              "      <td>2.846193</td>\n",
              "      <td>17.222094</td>\n",
              "      <td>42:22</td>\n",
              "    </tr>\n",
              "  </tbody>\n",
              "</table>"
            ],
            "text/plain": [
              "<IPython.core.display.HTML object>"
            ]
          },
          "metadata": {}
        }
      ]
    },
    {
      "cell_type": "markdown",
      "metadata": {
        "id": "KaJxGIvqd3P4"
      },
      "source": [
        "**MODEL EVALUATION:**"
      ]
    },
    {
      "cell_type": "code",
      "metadata": {
        "colab": {
          "base_uri": "https://localhost:8080/"
        },
        "id": "N46EvbzCd2Is",
        "outputId": "9ca045e9-8c3c-4bef-8718-eb6be9729b23"
      },
      "source": [
        "#@ INITIALIZING MODEL EVALUATION: \n",
        "prompt = \"\\n = Plane Crash = \\n \\n There are many reasons of plane crash\"   # Example\n",
        "prompt_ids = tokenizer.encode(prompt)                                       # Initializing Tokenization. \n",
        "inp = tensor(prompt_ids)[None].cuda()                                       # Generating Tensors. \n",
        "print(inp.shape)                                                            # Inspection. "
      ],
      "execution_count": 26,
      "outputs": [
        {
          "output_type": "stream",
          "name": "stdout",
          "text": [
            "torch.Size([1, 16])\n"
          ]
        }
      ]
    },
    {
      "cell_type": "code",
      "metadata": {
        "colab": {
          "base_uri": "https://localhost:8080/",
          "height": 69
        },
        "id": "lZvUwXOJffJY",
        "outputId": "8850edda-513e-467e-fb44-6029a58226fa"
      },
      "source": [
        "#@ INITIALIZING MODEL EVALUATION: \n",
        "preds = learn.model.generate(inp, max_length=40, num_beams=5, \n",
        "                             temperature=1.5)                               # Initializing Model Predictions. \n",
        "tokenizer.decode(preds[0].cpu().numpy())                                    # Inspecting Predictions. "
      ],
      "execution_count": 28,
      "outputs": [
        {
          "output_type": "stream",
          "name": "stderr",
          "text": [
            "Setting `pad_token_id` to `eos_token_id`:50256 for open-end generation.\n"
          ]
        },
        {
          "output_type": "execute_result",
          "data": {
            "application/vnd.google.colaboratory.intrinsic+json": {
              "type": "string"
            },
            "text/plain": [
              "'\\n = Plane Crash = \\n \\n There are many reasons of plane crash. One of the most common reasons is that the aircraft was not flying at the time of the crash. Another reason is'"
            ]
          },
          "metadata": {},
          "execution_count": 28
        }
      ]
    }
  ]
}