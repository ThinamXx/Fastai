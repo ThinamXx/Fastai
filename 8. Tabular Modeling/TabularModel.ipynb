{
  "nbformat": 4,
  "nbformat_minor": 0,
  "metadata": {
    "colab": {
      "name": "TabularModel.ipynb",
      "provenance": []
    },
    "kernelspec": {
      "name": "python3",
      "display_name": "Python 3"
    },
    "language_info": {
      "name": "python"
    },
    "accelerator": "GPU"
  },
  "cells": [
    {
      "cell_type": "markdown",
      "metadata": {
        "id": "dC9JKVT0nXA4"
      },
      "source": [
        "### **INITIALIZATION:**\n",
        "- I use these three lines of code on top of my each notebooks because it will help to prevent any problems while reloading the same project. And the third line of code helps to make visualization within the notebook."
      ]
    },
    {
      "cell_type": "code",
      "metadata": {
        "id": "YKLuk2YOye0S"
      },
      "source": [
        "#@ INITIALIZATION: \n",
        "%reload_ext autoreload\n",
        "%autoreload 2\n",
        "%matplotlib inline"
      ],
      "execution_count": 1,
      "outputs": []
    },
    {
      "cell_type": "markdown",
      "metadata": {
        "id": "xKzaH5JMnlnW"
      },
      "source": [
        "**LIBRARIES AND DEPENDENCIES:**\n",
        "- I have downloaded all the libraries and dependencies required for the project in one particular cell."
      ]
    },
    {
      "cell_type": "code",
      "metadata": {
        "id": "dpX4NcDGnjMq"
      },
      "source": [
        "#@ INSTALLING DEPENDENCIES: UNCOMMENT BELOW: \n",
        "# !pip install -Uqq fastbook kaggle waterfallcharts treeinterpreter dtreeviz\n",
        "# !pip install -Uqq fastbook\n",
        "# import fastbook\n",
        "# fastbook.setup_book()"
      ],
      "execution_count": 12,
      "outputs": []
    },
    {
      "cell_type": "code",
      "metadata": {
        "id": "JWJBSbHDnuQY"
      },
      "source": [
        "#@ DOWNLOADING LIBRARIES AND DEPENDENCIES: \n",
        "from fastbook import *                              # Getting all the Libraries. \n",
        "from fastai.callback.fp16 import *\n",
        "from fastai.collab import *                         # Getting all the Libraries.\n",
        "from fastai.tabular.all import *                    # Getting all the Libraries.\n",
        "\n",
        "from kaggle import api\n",
        "from pandas.api.types import is_categorical_dtype\n",
        "from pandas.api.types import is_numeric_dtype, is_string_dtype\n",
        "from sklearn.ensemble import RandomForestRegressor\n",
        "from sklearn.tree import DecisionTreeRegressor\n",
        "from dtreeviz.trees import *\n",
        "from IPython.display import Image, display_svg, SVG"
      ],
      "execution_count": 13,
      "outputs": []
    },
    {
      "cell_type": "markdown",
      "metadata": {
        "id": "O25x1zvvpUB-"
      },
      "source": [
        "### **GETTING THE DATASET:**\n",
        "- I will use the dataset from [**Blue Book for Bulldozers Kaggle Competition**](https://www.kaggle.com/c/bluebook-for-bulldozers/overview) here. "
      ]
    },
    {
      "cell_type": "code",
      "metadata": {
        "id": "VpcCZhsLobXo"
      },
      "source": [
        "#@ GETTING DEPENDENCIES: UNCOMMENT BELOW: \n",
        "# creds = '{\"username\":\"\",\"key\":\"\"}'\n",
        "# cred_path = Path('~/.kaggle/kaggle.json').expanduser()\n",
        "# if not cred_path.exists():\n",
        "#     cred_path.parent.mkdir(exist_ok=True)\n",
        "#     cred_path.write_text(creds)\n",
        "#     cred_path.chmod(0o600)"
      ],
      "execution_count": 8,
      "outputs": []
    },
    {
      "cell_type": "code",
      "metadata": {
        "colab": {
          "base_uri": "https://localhost:8080/"
        },
        "id": "crHs2Ji8teU3",
        "outputId": "130dcaef-14ed-4b11-af43-51de61ebc319"
      },
      "source": [
        "#@ GETTING THE DATASET: \n",
        "path = URLs.path(\"bluebook\")                                # Path to the Dataset. \n",
        "path                                                        # Inspecting the Path. "
      ],
      "execution_count": 9,
      "outputs": [
        {
          "output_type": "execute_result",
          "data": {
            "text/plain": [
              "Path('/root/.fastai/archive/bluebook')"
            ]
          },
          "metadata": {
            "tags": []
          },
          "execution_count": 9
        }
      ]
    },
    {
      "cell_type": "code",
      "metadata": {
        "colab": {
          "base_uri": "https://localhost:8080/"
        },
        "id": "Y4pDictKqIyg",
        "outputId": "c96b1f97-cf32-49b3-94ee-535305840fb8"
      },
      "source": [
        "#@ DOWNLOADING THE DATASET: \n",
        "if not path.exists():\n",
        "    path.mkdir(parents=True)                                       \n",
        "    api.competition_download_cli('bluebook-for-bulldozers', path=path)  # Getting the Dataset. \n",
        "    file_extract(path/'bluebook-for-bulldozers.zip')\n",
        "path.ls(file_type=\"text\")                                               # Inspecting the Dataset. "
      ],
      "execution_count": 17,
      "outputs": [
        {
          "output_type": "execute_result",
          "data": {
            "text/plain": [
              "(#7) [Path('/root/.fastai/archive/bluebook/random_forest_benchmark_test.csv'),Path('/root/.fastai/archive/bluebook/median_benchmark.csv'),Path('/root/.fastai/archive/bluebook/TrainAndValid.csv'),Path('/root/.fastai/archive/bluebook/Test.csv'),Path('/root/.fastai/archive/bluebook/ValidSolution.csv'),Path('/root/.fastai/archive/bluebook/Valid.csv'),Path('/root/.fastai/archive/bluebook/Machine_Appendix.csv')]"
            ]
          },
          "metadata": {
            "tags": []
          },
          "execution_count": 17
        }
      ]
    },
    {
      "cell_type": "code",
      "metadata": {
        "id": "LR3Gu5ZCvuS5"
      },
      "source": [
        ""
      ],
      "execution_count": null,
      "outputs": []
    }
  ]
}