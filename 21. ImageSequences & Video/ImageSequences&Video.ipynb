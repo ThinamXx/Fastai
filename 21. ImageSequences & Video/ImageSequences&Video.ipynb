{
  "nbformat": 4,
  "nbformat_minor": 0,
  "metadata": {
    "colab": {
      "name": "ImageSequences&Video.ipynb",
      "provenance": [],
      "collapsed_sections": []
    },
    "kernelspec": {
      "name": "python3",
      "display_name": "Python 3"
    },
    "language_info": {
      "name": "python"
    }
  },
  "cells": [
    {
      "cell_type": "markdown",
      "source": [
        "**INITIALIZATION:**\n",
        "- I use these three lines of code on top of my each notebooks because it will help to prevent any problems while reloading the same project. And the third line of code helps to make visualization within the notebook."
      ],
      "metadata": {
        "id": "GGk5rVkFEZYL"
      }
    },
    {
      "cell_type": "code",
      "execution_count": 1,
      "metadata": {
        "id": "3viO2BqxEDiZ"
      },
      "outputs": [],
      "source": [
        "#@ INITIALIZATION: \n",
        "%reload_ext autoreload\n",
        "%autoreload 2\n",
        "%matplotlib inline"
      ]
    },
    {
      "cell_type": "markdown",
      "source": [
        "**LIBRARIES AND DEPENDENCIES:**\n",
        "- I have downloaded all the libraries and dependencies required for the project in one particular cell."
      ],
      "metadata": {
        "id": "0egE49F0Elxs"
      }
    },
    {
      "cell_type": "code",
      "source": [
        "#@ INSTALLING DEPENDENCIES: UNCOMMENT BELOW: \n",
        "# !pip install -Uqq fastbook\n",
        "# import fastbook\n",
        "# fastbook.setup_book()"
      ],
      "metadata": {
        "id": "yWnXJKcEEhWW"
      },
      "execution_count": 4,
      "outputs": []
    },
    {
      "cell_type": "code",
      "source": [
        "#@ INSTALLING DEPENDENCIES FOR DATASET: UNCOMMENT BELOW: \n",
        "# ! pip install rarfile av\n",
        "# ! pip install -Uq pyopenssl"
      ],
      "metadata": {
        "id": "07PaZnIiEui9"
      },
      "execution_count": 5,
      "outputs": []
    },
    {
      "cell_type": "code",
      "source": [
        "#@ DOWNLOADING LIBRARIES AND DEPENDENCIES: \n",
        "from fastbook import *                             # Getting all the Libraries. \n",
        "from fastai.callback.fp16 import *\n",
        "from fastai.vision.all import *                    # Getting all the Libraries.\n",
        "\n",
        "from rarfile import RarFile\n",
        "import av"
      ],
      "metadata": {
        "id": "UGX7ptfLFs7T"
      },
      "execution_count": 6,
      "outputs": []
    },
    {
      "cell_type": "markdown",
      "source": [
        "**UCF101 ACTION RECOGNITION:**\n",
        "- **UCF101** is an action recognition dataset of realistic action videos, collected from YouTube, having 101 action categories. This dataset is an extension of UCF50 dataset which has 50 action categories. It is the most challenging dataset to date. "
      ],
      "metadata": {
        "id": "z37XEITcGNd0"
      }
    },
    {
      "cell_type": "code",
      "source": [
        "#@ GETTING THE DATASET: UNCOMMENT BELOW: \n",
        "# !wget -P ~/.fastai/archive/ --no-check-certificate  https://www.crcv.ucf.edu/data/UCF101/UCF101.rar "
      ],
      "metadata": {
        "id": "NY-A1YjoF7bZ"
      },
      "execution_count": 8,
      "outputs": []
    },
    {
      "cell_type": "code",
      "source": [
        "#@ DEFINING FUNCTION TO UNRAR DATASET: \n",
        "def unrar(fname, dest):                                             # Defining Function. \n",
        "    dest = URLs.path(c_key=\"data\")/fname.name.withsuffix('') if \\\n",
        "           dest is None else dest\n",
        "    print(f\"extracting to: {dest}\")                                 # Inspection. \n",
        "    if not dest.exists():\n",
        "        fname = str(fname)\n",
        "        if fname.endswith(\"rar\"):\n",
        "            with RarFile(fname, \"r\") as myrar:\n",
        "                myrar.extractall(dest.parent)                       # Initializing Extraction. \n",
        "        else:\n",
        "            raise Exception(f\"Unrecognized archive: {fname}\")       # Exception. \n",
        "    return dest\n",
        "\n",
        "#@ GETTING THE DATASET: \n",
        "ucf_fname = Path.home()/\".fastai/archive/UCF101.rar\"                # Initializing FilePath. \n",
        "dest = Path.home()/\"/content/data/UCF101\"                           # Initializing DestinationPath. \n",
        "path = unrar(ucf_fname, dest)                                       # Getting Dataset. "
      ],
      "metadata": {
        "colab": {
          "base_uri": "https://localhost:8080/"
        },
        "id": "f6UYNlJmHREE",
        "outputId": "363acd35-39ca-4c8c-f1e8-a816924fe0fb"
      },
      "execution_count": 10,
      "outputs": [
        {
          "output_type": "stream",
          "name": "stdout",
          "text": [
            "extracting to: /content/data/UCF101\n"
          ]
        }
      ]
    },
    {
      "cell_type": "code",
      "source": [
        "#@ GETTING THE DATASET:\n",
        "path = Path(\"/content/data/UCF-101\")                   # Initializing Dataset. \n",
        "path.ls()                                              # Inspection. "
      ],
      "metadata": {
        "colab": {
          "base_uri": "https://localhost:8080/"
        },
        "id": "BV9KdrBtHD_B",
        "outputId": "e035bd84-3713-4ab3-c6bd-4e6152982b16"
      },
      "execution_count": 11,
      "outputs": [
        {
          "output_type": "execute_result",
          "data": {
            "text/plain": [
              "(#101) [Path('/content/data/UCF-101/HammerThrow'),Path('/content/data/UCF-101/ShavingBeard'),Path('/content/data/UCF-101/Biking'),Path('/content/data/UCF-101/CleanAndJerk'),Path('/content/data/UCF-101/GolfSwing'),Path('/content/data/UCF-101/PlayingCello'),Path('/content/data/UCF-101/BrushingTeeth'),Path('/content/data/UCF-101/Hammering'),Path('/content/data/UCF-101/CricketShot'),Path('/content/data/UCF-101/Swing')...]"
            ]
          },
          "metadata": {},
          "execution_count": 11
        }
      ]
    },
    {
      "cell_type": "markdown",
      "source": [
        "- The videos are in `.avi` format. I will convert each video to a sequence of images using video reader of torch vision.  "
      ],
      "metadata": {
        "id": "rqrp4vhSMKB4"
      }
    },
    {
      "cell_type": "code",
      "source": [
        "#@ PREPARING DATASET:\n",
        "video_paths = get_files(path, extensions=\".avi\")       # Getting VideoPaths. \n",
        "video_paths[:4]                                        # Inspection. "
      ],
      "metadata": {
        "id": "86_3ovppLKia",
        "colab": {
          "base_uri": "https://localhost:8080/"
        },
        "outputId": "d811a32f-0db8-494a-8c84-4febf15df713"
      },
      "execution_count": 12,
      "outputs": [
        {
          "output_type": "execute_result",
          "data": {
            "text/plain": [
              "(#4) [Path('/content/data/UCF-101/HammerThrow/v_HammerThrow_g19_c07.avi'),Path('/content/data/UCF-101/HammerThrow/v_HammerThrow_g21_c04.avi'),Path('/content/data/UCF-101/HammerThrow/v_HammerThrow_g22_c04.avi'),Path('/content/data/UCF-101/HammerThrow/v_HammerThrow_g17_c03.avi')]"
            ]
          },
          "metadata": {},
          "execution_count": 12
        }
      ]
    },
    {
      "cell_type": "code",
      "source": [
        "#@ FUNCTION TO CONVERT VIDEO TO IMAGES: \n",
        "def extract_frames(video_path):                        # Defining Function. \n",
        "    video = av.open(str(video_path))                   # Initializing Video. \n",
        "    for frame in video.decode(0):\n",
        "        yield frame.to_image()                         # Getting Images. \n",
        "\n",
        "#@ PREPARING DATASET:\n",
        "frames = list(extract_frames(video_paths[0]))          # Implementation. \n",
        "frames[0:4]                                            # Inspection. "
      ],
      "metadata": {
        "colab": {
          "base_uri": "https://localhost:8080/"
        },
        "id": "3M_68FHf8oqH",
        "outputId": "df8ee64d-c7a7-4d93-96e0-90b0f46fab25"
      },
      "execution_count": 14,
      "outputs": [
        {
          "output_type": "execute_result",
          "data": {
            "text/plain": [
              "[<PIL.Image.Image image mode=RGB size=320x240 at 0x7F6F73A23F90>,\n",
              " <PIL.Image.Image image mode=RGB size=320x240 at 0x7F6F734F6890>,\n",
              " <PIL.Image.Image image mode=RGB size=320x240 at 0x7F6F734F6B90>,\n",
              " <PIL.Image.Image image mode=RGB size=320x240 at 0x7F6F73997E10>]"
            ]
          },
          "metadata": {},
          "execution_count": 14
        }
      ]
    },
    {
      "cell_type": "code",
      "source": [
        ""
      ],
      "metadata": {
        "id": "MCkzFo62MBih"
      },
      "execution_count": null,
      "outputs": []
    }
  ]
}