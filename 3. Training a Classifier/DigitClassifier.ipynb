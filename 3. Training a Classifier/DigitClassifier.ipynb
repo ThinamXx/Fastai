{
  "nbformat": 4,
  "nbformat_minor": 0,
  "metadata": {
    "colab": {
      "name": "DigitClassifier.ipynb",
      "provenance": []
    },
    "kernelspec": {
      "name": "python3",
      "display_name": "Python 3"
    },
    "language_info": {
      "name": "python"
    },
    "accelerator": "GPU"
  },
  "cells": [
    {
      "cell_type": "markdown",
      "metadata": {
        "id": "Z_bCNOrXFTlC"
      },
      "source": [
        "**INITIALIZATION:**\n",
        "- I use these three lines of code on top of my each notebooks because it will help to prevent any problems while reloading the same project. And the third line of code helps to make visualization within the notebook."
      ]
    },
    {
      "cell_type": "code",
      "metadata": {
        "id": "bQw79PhZCcDf"
      },
      "source": [
        "#@ INITIALIZATION: \n",
        "%reload_ext autoreload\n",
        "%autoreload 2\n",
        "%matplotlib inline"
      ],
      "execution_count": 1,
      "outputs": []
    },
    {
      "cell_type": "markdown",
      "metadata": {
        "id": "kmvopyXdFhIr"
      },
      "source": [
        "**DOWNLOADING LIBRARIES AND DEPENDENCIES:**\n",
        "- I have downloaded all the libraries and dependencies required for the project in one particular cell."
      ]
    },
    {
      "cell_type": "code",
      "metadata": {
        "id": "iNZFQ-frFe4n",
        "colab": {
          "base_uri": "https://localhost:8080/"
        },
        "outputId": "a3b9b466-f6ac-4871-c596-66e77f2211cb"
      },
      "source": [
        "#@ INSTALLING DEPENDENCIES: UNCOMMENT BELOW: \n",
        "# !pip install -Uqq fastbook\n",
        "# import fastbook\n",
        "# fastbook.setup_book()"
      ],
      "execution_count": 2,
      "outputs": [
        {
          "output_type": "stream",
          "text": [
            "\u001b[?25l\r\u001b[K     |▌                               | 10kB 23.9MB/s eta 0:00:01\r\u001b[K     |█                               | 20kB 19.3MB/s eta 0:00:01\r\u001b[K     |█▍                              | 30kB 15.8MB/s eta 0:00:01\r\u001b[K     |█▉                              | 40kB 14.9MB/s eta 0:00:01\r\u001b[K     |██▎                             | 51kB 6.9MB/s eta 0:00:01\r\u001b[K     |██▊                             | 61kB 8.1MB/s eta 0:00:01\r\u001b[K     |███▏                            | 71kB 8.5MB/s eta 0:00:01\r\u001b[K     |███▋                            | 81kB 8.8MB/s eta 0:00:01\r\u001b[K     |████                            | 92kB 9.3MB/s eta 0:00:01\r\u001b[K     |████▌                           | 102kB 7.5MB/s eta 0:00:01\r\u001b[K     |█████                           | 112kB 7.5MB/s eta 0:00:01\r\u001b[K     |█████▌                          | 122kB 7.5MB/s eta 0:00:01\r\u001b[K     |██████                          | 133kB 7.5MB/s eta 0:00:01\r\u001b[K     |██████▍                         | 143kB 7.5MB/s eta 0:00:01\r\u001b[K     |██████▉                         | 153kB 7.5MB/s eta 0:00:01\r\u001b[K     |███████▎                        | 163kB 7.5MB/s eta 0:00:01\r\u001b[K     |███████▊                        | 174kB 7.5MB/s eta 0:00:01\r\u001b[K     |████████▏                       | 184kB 7.5MB/s eta 0:00:01\r\u001b[K     |████████▋                       | 194kB 7.5MB/s eta 0:00:01\r\u001b[K     |█████████                       | 204kB 7.5MB/s eta 0:00:01\r\u001b[K     |█████████▋                      | 215kB 7.5MB/s eta 0:00:01\r\u001b[K     |██████████                      | 225kB 7.5MB/s eta 0:00:01\r\u001b[K     |██████████▌                     | 235kB 7.5MB/s eta 0:00:01\r\u001b[K     |███████████                     | 245kB 7.5MB/s eta 0:00:01\r\u001b[K     |███████████▍                    | 256kB 7.5MB/s eta 0:00:01\r\u001b[K     |███████████▉                    | 266kB 7.5MB/s eta 0:00:01\r\u001b[K     |████████████▎                   | 276kB 7.5MB/s eta 0:00:01\r\u001b[K     |████████████▊                   | 286kB 7.5MB/s eta 0:00:01\r\u001b[K     |█████████████▏                  | 296kB 7.5MB/s eta 0:00:01\r\u001b[K     |█████████████▋                  | 307kB 7.5MB/s eta 0:00:01\r\u001b[K     |██████████████                  | 317kB 7.5MB/s eta 0:00:01\r\u001b[K     |██████████████▋                 | 327kB 7.5MB/s eta 0:00:01\r\u001b[K     |███████████████                 | 337kB 7.5MB/s eta 0:00:01\r\u001b[K     |███████████████▌                | 348kB 7.5MB/s eta 0:00:01\r\u001b[K     |████████████████                | 358kB 7.5MB/s eta 0:00:01\r\u001b[K     |████████████████▍               | 368kB 7.5MB/s eta 0:00:01\r\u001b[K     |████████████████▉               | 378kB 7.5MB/s eta 0:00:01\r\u001b[K     |█████████████████▎              | 389kB 7.5MB/s eta 0:00:01\r\u001b[K     |█████████████████▊              | 399kB 7.5MB/s eta 0:00:01\r\u001b[K     |██████████████████▏             | 409kB 7.5MB/s eta 0:00:01\r\u001b[K     |██████████████████▋             | 419kB 7.5MB/s eta 0:00:01\r\u001b[K     |███████████████████▏            | 430kB 7.5MB/s eta 0:00:01\r\u001b[K     |███████████████████▋            | 440kB 7.5MB/s eta 0:00:01\r\u001b[K     |████████████████████            | 450kB 7.5MB/s eta 0:00:01\r\u001b[K     |████████████████████▌           | 460kB 7.5MB/s eta 0:00:01\r\u001b[K     |█████████████████████           | 471kB 7.5MB/s eta 0:00:01\r\u001b[K     |█████████████████████▍          | 481kB 7.5MB/s eta 0:00:01\r\u001b[K     |█████████████████████▉          | 491kB 7.5MB/s eta 0:00:01\r\u001b[K     |██████████████████████▎         | 501kB 7.5MB/s eta 0:00:01\r\u001b[K     |██████████████████████▊         | 512kB 7.5MB/s eta 0:00:01\r\u001b[K     |███████████████████████▏        | 522kB 7.5MB/s eta 0:00:01\r\u001b[K     |███████████████████████▋        | 532kB 7.5MB/s eta 0:00:01\r\u001b[K     |████████████████████████▏       | 542kB 7.5MB/s eta 0:00:01\r\u001b[K     |████████████████████████▋       | 552kB 7.5MB/s eta 0:00:01\r\u001b[K     |█████████████████████████       | 563kB 7.5MB/s eta 0:00:01\r\u001b[K     |█████████████████████████▌      | 573kB 7.5MB/s eta 0:00:01\r\u001b[K     |██████████████████████████      | 583kB 7.5MB/s eta 0:00:01\r\u001b[K     |██████████████████████████▍     | 593kB 7.5MB/s eta 0:00:01\r\u001b[K     |██████████████████████████▉     | 604kB 7.5MB/s eta 0:00:01\r\u001b[K     |███████████████████████████▎    | 614kB 7.5MB/s eta 0:00:01\r\u001b[K     |███████████████████████████▊    | 624kB 7.5MB/s eta 0:00:01\r\u001b[K     |████████████████████████████▏   | 634kB 7.5MB/s eta 0:00:01\r\u001b[K     |████████████████████████████▊   | 645kB 7.5MB/s eta 0:00:01\r\u001b[K     |█████████████████████████████▏  | 655kB 7.5MB/s eta 0:00:01\r\u001b[K     |█████████████████████████████▋  | 665kB 7.5MB/s eta 0:00:01\r\u001b[K     |██████████████████████████████  | 675kB 7.5MB/s eta 0:00:01\r\u001b[K     |██████████████████████████████▌ | 686kB 7.5MB/s eta 0:00:01\r\u001b[K     |███████████████████████████████ | 696kB 7.5MB/s eta 0:00:01\r\u001b[K     |███████████████████████████████▍| 706kB 7.5MB/s eta 0:00:01\r\u001b[K     |███████████████████████████████▉| 716kB 7.5MB/s eta 0:00:01\r\u001b[K     |████████████████████████████████| 727kB 7.5MB/s \n",
            "\u001b[K     |████████████████████████████████| 194kB 53.9MB/s \n",
            "\u001b[K     |████████████████████████████████| 51kB 8.2MB/s \n",
            "\u001b[K     |████████████████████████████████| 1.2MB 52.1MB/s \n",
            "\u001b[K     |████████████████████████████████| 61kB 10.3MB/s \n",
            "\u001b[K     |████████████████████████████████| 61kB 10.1MB/s \n",
            "\u001b[?25hMounted at /content/gdrive\n"
          ],
          "name": "stdout"
        }
      ]
    },
    {
      "cell_type": "code",
      "metadata": {
        "id": "fiwOKUn-Fwsn"
      },
      "source": [
        "#@ DOWNLOADING LIBRARIES AND DEPENDENCIES: \n",
        "from fastai.vision.all import *                         # Getting all the Libraries. \n",
        "from fastbook import *                                  # Getting all the Libraries. \n",
        "matplotlib.rc(\"image\", cmap=\"Greys\")                    # Initializing Dependencies. "
      ],
      "execution_count": 3,
      "outputs": []
    },
    {
      "cell_type": "markdown",
      "metadata": {
        "id": "fAEvXKQVHG9w"
      },
      "source": [
        "**GETTING THE DATA:**\n",
        "- I will download a sample of **MNIST**. \n"
      ]
    },
    {
      "cell_type": "code",
      "metadata": {
        "colab": {
          "base_uri": "https://localhost:8080/",
          "height": 34
        },
        "id": "iYv08cn-Gi40",
        "outputId": "4d8af446-4883-4b9c-e9ee-35d1ae875d3d"
      },
      "source": [
        "#@ GETTING THE DATA: \n",
        "PATH = untar_data(URLs.MNIST_SAMPLE)                    # Path to the Dataset. \n",
        "PATH.ls()                                               # Inspecting Items. "
      ],
      "execution_count": 4,
      "outputs": [
        {
          "output_type": "display_data",
          "data": {
            "text/html": [
              ""
            ],
            "text/plain": [
              "<IPython.core.display.HTML object>"
            ]
          },
          "metadata": {
            "tags": []
          }
        },
        {
          "output_type": "execute_result",
          "data": {
            "text/plain": [
              "(#3) [Path('/root/.fastai/data/mnist_sample/labels.csv'),Path('/root/.fastai/data/mnist_sample/valid'),Path('/root/.fastai/data/mnist_sample/train')]"
            ]
          },
          "metadata": {
            "tags": []
          },
          "execution_count": 4
        }
      ]
    },
    {
      "cell_type": "code",
      "metadata": {
        "colab": {
          "base_uri": "https://localhost:8080/"
        },
        "id": "PXScuAwFIVG5",
        "outputId": "2c590e14-6b63-49b4-c9e9-8934d1cf2445"
      },
      "source": [
        "#@ INSPECTING THE TRAINING SET:  \n",
        "(PATH/\"train\").ls()                                     # Inspecting Items. "
      ],
      "execution_count": 5,
      "outputs": [
        {
          "output_type": "execute_result",
          "data": {
            "text/plain": [
              "(#2) [Path('/root/.fastai/data/mnist_sample/train/7'),Path('/root/.fastai/data/mnist_sample/train/3')]"
            ]
          },
          "metadata": {
            "tags": []
          },
          "execution_count": 5
        }
      ]
    },
    {
      "cell_type": "code",
      "metadata": {
        "colab": {
          "base_uri": "https://localhost:8080/"
        },
        "id": "Raue0CXaKEdr",
        "outputId": "ba54d2b1-ce66-448e-da64-3d5b5da99b0b"
      },
      "source": [
        "#@ INSPECTING THE FOLDERS: \n",
        "threes = (PATH/\"train\"/\"3\").ls().sorted()               # Getting Same Order of Items. \n",
        "sevens = (PATH/\"train\"/\"7\").ls().sorted()               # Getting Same Order of Items. \n",
        "threes                                                  # Inspecting Items. "
      ],
      "execution_count": 6,
      "outputs": [
        {
          "output_type": "execute_result",
          "data": {
            "text/plain": [
              "(#6131) [Path('/root/.fastai/data/mnist_sample/train/3/10.png'),Path('/root/.fastai/data/mnist_sample/train/3/10000.png'),Path('/root/.fastai/data/mnist_sample/train/3/10011.png'),Path('/root/.fastai/data/mnist_sample/train/3/10031.png'),Path('/root/.fastai/data/mnist_sample/train/3/10034.png'),Path('/root/.fastai/data/mnist_sample/train/3/10042.png'),Path('/root/.fastai/data/mnist_sample/train/3/10052.png'),Path('/root/.fastai/data/mnist_sample/train/3/1007.png'),Path('/root/.fastai/data/mnist_sample/train/3/10074.png'),Path('/root/.fastai/data/mnist_sample/train/3/10091.png')...]"
            ]
          },
          "metadata": {
            "tags": []
          },
          "execution_count": 6
        }
      ]
    },
    {
      "cell_type": "code",
      "metadata": {
        "colab": {
          "base_uri": "https://localhost:8080/",
          "height": 45
        },
        "id": "oC-NwV_fLL_K",
        "outputId": "b21f1b27-4202-45ca-966f-a4d659f64af9"
      },
      "source": [
        "#@ INSPECTING IMAGE: \n",
        "im3_path = threes[1]                                    # Path to the Image. \n",
        "im3 = Image.open(im3_path)                              # Getting an Image. \n",
        "im3"
      ],
      "execution_count": 7,
      "outputs": [
        {
          "output_type": "execute_result",
          "data": {
            "image/png": "[encoded data removed]",
            "text/plain": [
              "<PIL.PngImagePlugin.PngImageFile image mode=L size=28x28 at 0x7FE5296354D0>"
            ]
          },
          "metadata": {
            "tags": []
          },
          "execution_count": 7
        }
      ]
    },
    {
      "cell_type": "code",
      "metadata": {
        "colab": {
          "base_uri": "https://localhost:8080/"
        },
        "id": "LWmzTD_1d6rQ",
        "outputId": "4f0b2697-82d7-43a0-d645-ff415177d3ff"
      },
      "source": [
        "#@ CONVERTING INTO ARRAY: \n",
        "array(im3)[4:10, 4:10]                                  # Getting Numpy Array. "
      ],
      "execution_count": 8,
      "outputs": [
        {
          "output_type": "execute_result",
          "data": {
            "text/plain": [
              "array([[  0,   0,   0,   0,   0,   0],\n",
              "       [  0,   0,   0,   0,   0,  29],\n",
              "       [  0,   0,   0,  48, 166, 224],\n",
              "       [  0,  93, 244, 249, 253, 187],\n",
              "       [  0, 107, 253, 253, 230,  48],\n",
              "       [  0,   3,  20,  20,  15,   0]], dtype=uint8)"
            ]
          },
          "metadata": {
            "tags": []
          },
          "execution_count": 8
        }
      ]
    },
    {
      "cell_type": "code",
      "metadata": {
        "colab": {
          "base_uri": "https://localhost:8080/"
        },
        "id": "C_jzwfZUfCPE",
        "outputId": "45cf51a9-1f7d-40d0-fd6b-5f49a090b1ea"
      },
      "source": [
        "#@ CONVERTING INTO ARRAY: \n",
        "tensor(im3)[4:10, 4:10]                                 # Getting a Tensor. "
      ],
      "execution_count": 9,
      "outputs": [
        {
          "output_type": "execute_result",
          "data": {
            "text/plain": [
              "tensor([[  0,   0,   0,   0,   0,   0],\n",
              "        [  0,   0,   0,   0,   0,  29],\n",
              "        [  0,   0,   0,  48, 166, 224],\n",
              "        [  0,  93, 244, 249, 253, 187],\n",
              "        [  0, 107, 253, 253, 230,  48],\n",
              "        [  0,   3,  20,  20,  15,   0]], dtype=torch.uint8)"
            ]
          },
          "metadata": {
            "tags": []
          },
          "execution_count": 9
        }
      ]
    },
    {
      "cell_type": "code",
      "metadata": {
        "colab": {
          "base_uri": "https://localhost:8080/",
          "height": 271
        },
        "id": "yvtonh1cgPKc",
        "outputId": "f86c67f0-571c-4661-84fe-cc0fe3a2b244"
      },
      "source": [
        "#@ INSPECTING PIXELS: \n",
        "im3_t = tensor(im3)                                     # Getting a Tensor. \n",
        "df = pd.DataFrame(im3_t[4:15, 4:22])                    # Creating a DataFrame. \n",
        "df.style.set_properties(**{\"font-size\":\"6pt\"})\\\n",
        "        .background_gradient(\"Greys\")                   # Inspecting the Image. "
      ],
      "execution_count": 10,
      "outputs": [
        {
          "output_type": "execute_result",
          "data": {
            "text/html": [
              "<style  type=\"text/css\" >\n",
              "#T_17d5d830_d493_11eb_8389_0242ac1c0002row0_col0,#T_17d5d830_d493_11eb_8389_0242ac1c0002row0_col1,#T_17d5d830_d493_11eb_8389_0242ac1c0002row0_col2,#T_17d5d830_d493_11eb_8389_0242ac1c0002row0_col3,#T_17d5d830_d493_11eb_8389_0242ac1c0002row0_col4,#T_17d5d830_d493_11eb_8389_0242ac1c0002row0_col5,#T_17d5d830_d493_11eb_8389_0242ac1c0002row0_col6,#T_17d5d830_d493_11eb_8389_0242ac1c0002row0_col7,#T_17d5d830_d493_11eb_8389_0242ac1c0002row0_col8,#T_17d5d830_d493_11eb_8389_0242ac1c0002row0_col9,#T_17d5d830_d493_11eb_8389_0242ac1c0002row0_col10,#T_17d5d830_d493_11eb_8389_0242ac1c0002row0_col11,#T_17d5d830_d493_11eb_8389_0242ac1c0002row0_col12,#T_17d5d830_d493_11eb_8389_0242ac1c0002row0_col13,#T_17d5d830_d493_11eb_8389_0242ac1c0002row0_col14,#T_17d5d830_d493_11eb_8389_0242ac1c0002row0_col15,#T_17d5d830_d493_11eb_8389_0242ac1c0002row0_col16,#T_17d5d830_d493_11eb_8389_0242ac1c0002row0_col17,#T_17d5d830_d493_11eb_8389_0242ac1c0002row1_col0,#T_17d5d830_d493_11eb_8389_0242ac1c0002row1_col1,#T_17d5d830_d493_11eb_8389_0242ac1c0002row1_col2,#T_17d5d830_d493_11eb_8389_0242ac1c0002row1_col3,#T_17d5d830_d493_11eb_8389_0242ac1c0002row1_col4,#T_17d5d830_d493_11eb_8389_0242ac1c0002row1_col15,#T_17d5d830_d493_11eb_8389_0242ac1c0002row1_col16,#T_17d5d830_d493_11eb_8389_0242ac1c0002row1_col17,#T_17d5d830_d493_11eb_8389_0242ac1c0002row2_col0,#T_17d5d830_d493_11eb_8389_0242ac1c0002row2_col1,#T_17d5d830_d493_11eb_8389_0242ac1c0002row2_col2,#T_17d5d830_d493_11eb_8389_0242ac1c0002row2_col15,#T_17d5d830_d493_11eb_8389_0242ac1c0002row2_col16,#T_17d5d830_d493_11eb_8389_0242ac1c0002row2_col17,#T_17d5d830_d493_11eb_8389_0242ac1c0002row3_col0,#T_17d5d830_d493_11eb_8389_0242ac1c0002row3_col15,#T_17d5d830_d493_11eb_8389_0242ac1c0002row3_col16,#T_17d5d830_d493_11eb_8389_0242ac1c0002row3_col17,#T_17d5d830_d493_11eb_8389_0242ac1c0002row4_col0,#T_17d5d830_d493_11eb_8389_0242ac1c0002row4_col6,#T_17d5d830_d493_11eb_8389_0242ac1c0002row4_col7,#T_17d5d830_d493_11eb_8389_0242ac1c0002row4_col8,#T_17d5d830_d493_11eb_8389_0242ac1c0002row4_col9,#T_17d5d830_d493_11eb_8389_0242ac1c0002row4_col10,#T_17d5d830_d493_11eb_8389_0242ac1c0002row4_col15,#T_17d5d830_d493_11eb_8389_0242ac1c0002row4_col16,#T_17d5d830_d493_11eb_8389_0242ac1c0002row4_col17,#T_17d5d830_d493_11eb_8389_0242ac1c0002row5_col0,#T_17d5d830_d493_11eb_8389_0242ac1c0002row5_col5,#T_17d5d830_d493_11eb_8389_0242ac1c0002row5_col6,#T_17d5d830_d493_11eb_8389_0242ac1c0002row5_col7,#T_17d5d830_d493_11eb_8389_0242ac1c0002row5_col8,#T_17d5d830_d493_11eb_8389_0242ac1c0002row5_col9,#T_17d5d830_d493_11eb_8389_0242ac1c0002row5_col15,#T_17d5d830_d493_11eb_8389_0242ac1c0002row5_col16,#T_17d5d830_d493_11eb_8389_0242ac1c0002row5_col17,#T_17d5d830_d493_11eb_8389_0242ac1c0002row6_col0,#T_17d5d830_d493_11eb_8389_0242ac1c0002row6_col1,#T_17d5d830_d493_11eb_8389_0242ac1c0002row6_col2,#T_17d5d830_d493_11eb_8389_0242ac1c0002row6_col3,#T_17d5d830_d493_11eb_8389_0242ac1c0002row6_col4,#T_17d5d830_d493_11eb_8389_0242ac1c0002row6_col5,#T_17d5d830_d493_11eb_8389_0242ac1c0002row6_col6,#T_17d5d830_d493_11eb_8389_0242ac1c0002row6_col7,#T_17d5d830_d493_11eb_8389_0242ac1c0002row6_col8,#T_17d5d830_d493_11eb_8389_0242ac1c0002row6_col9,#T_17d5d830_d493_11eb_8389_0242ac1c0002row6_col14,#T_17d5d830_d493_11eb_8389_0242ac1c0002row6_col15,#T_17d5d830_d493_11eb_8389_0242ac1c0002row6_col16,#T_17d5d830_d493_11eb_8389_0242ac1c0002row6_col17,#T_17d5d830_d493_11eb_8389_0242ac1c0002row7_col0,#T_17d5d830_d493_11eb_8389_0242ac1c0002row7_col1,#T_17d5d830_d493_11eb_8389_0242ac1c0002row7_col2,#T_17d5d830_d493_11eb_8389_0242ac1c0002row7_col3,#T_17d5d830_d493_11eb_8389_0242ac1c0002row7_col4,#T_17d5d830_d493_11eb_8389_0242ac1c0002row7_col5,#T_17d5d830_d493_11eb_8389_0242ac1c0002row7_col6,#T_17d5d830_d493_11eb_8389_0242ac1c0002row7_col13,#T_17d5d830_d493_11eb_8389_0242ac1c0002row7_col14,#T_17d5d830_d493_11eb_8389_0242ac1c0002row7_col15,#T_17d5d830_d493_11eb_8389_0242ac1c0002row7_col16,#T_17d5d830_d493_11eb_8389_0242ac1c0002row7_col17,#T_17d5d830_d493_11eb_8389_0242ac1c0002row8_col0,#T_17d5d830_d493_11eb_8389_0242ac1c0002row8_col1,#T_17d5d830_d493_11eb_8389_0242ac1c0002row8_col2,#T_17d5d830_d493_11eb_8389_0242ac1c0002row8_col3,#T_17d5d830_d493_11eb_8389_0242ac1c0002row8_col4,#T_17d5d830_d493_11eb_8389_0242ac1c0002row8_col13,#T_17d5d830_d493_11eb_8389_0242ac1c0002row8_col14,#T_17d5d830_d493_11eb_8389_0242ac1c0002row8_col15,#T_17d5d830_d493_11eb_8389_0242ac1c0002row8_col16,#T_17d5d830_d493_11eb_8389_0242ac1c0002row8_col17,#T_17d5d830_d493_11eb_8389_0242ac1c0002row9_col0,#T_17d5d830_d493_11eb_8389_0242ac1c0002row9_col1,#T_17d5d830_d493_11eb_8389_0242ac1c0002row9_col2,#T_17d5d830_d493_11eb_8389_0242ac1c0002row9_col3,#T_17d5d830_d493_11eb_8389_0242ac1c0002row9_col4,#T_17d5d830_d493_11eb_8389_0242ac1c0002row9_col16,#T_17d5d830_d493_11eb_8389_0242ac1c0002row9_col17,#T_17d5d830_d493_11eb_8389_0242ac1c0002row10_col0,#T_17d5d830_d493_11eb_8389_0242ac1c0002row10_col1,#T_17d5d830_d493_11eb_8389_0242ac1c0002row10_col2,#T_17d5d830_d493_11eb_8389_0242ac1c0002row10_col3,#T_17d5d830_d493_11eb_8389_0242ac1c0002row10_col4,#T_17d5d830_d493_11eb_8389_0242ac1c0002row10_col5,#T_17d5d830_d493_11eb_8389_0242ac1c0002row10_col6,#T_17d5d830_d493_11eb_8389_0242ac1c0002row10_col17{\n",
              "            font-size:  6pt;\n",
              "            background-color:  #ffffff;\n",
              "            color:  #000000;\n",
              "        }#T_17d5d830_d493_11eb_8389_0242ac1c0002row1_col5{\n",
              "            font-size:  6pt;\n",
              "            background-color:  #efefef;\n",
              "            color:  #000000;\n",
              "        }#T_17d5d830_d493_11eb_8389_0242ac1c0002row1_col6,#T_17d5d830_d493_11eb_8389_0242ac1c0002row1_col13{\n",
              "            font-size:  6pt;\n",
              "            background-color:  #7c7c7c;\n",
              "            color:  #000000;\n",
              "        }#T_17d5d830_d493_11eb_8389_0242ac1c0002row1_col7{\n",
              "            font-size:  6pt;\n",
              "            background-color:  #4a4a4a;\n",
              "            color:  #f1f1f1;\n",
              "        }#T_17d5d830_d493_11eb_8389_0242ac1c0002row1_col8,#T_17d5d830_d493_11eb_8389_0242ac1c0002row1_col9,#T_17d5d830_d493_11eb_8389_0242ac1c0002row1_col10,#T_17d5d830_d493_11eb_8389_0242ac1c0002row2_col5,#T_17d5d830_d493_11eb_8389_0242ac1c0002row2_col6,#T_17d5d830_d493_11eb_8389_0242ac1c0002row2_col7,#T_17d5d830_d493_11eb_8389_0242ac1c0002row2_col11,#T_17d5d830_d493_11eb_8389_0242ac1c0002row2_col12,#T_17d5d830_d493_11eb_8389_0242ac1c0002row2_col13,#T_17d5d830_d493_11eb_8389_0242ac1c0002row3_col4,#T_17d5d830_d493_11eb_8389_0242ac1c0002row3_col12,#T_17d5d830_d493_11eb_8389_0242ac1c0002row3_col13,#T_17d5d830_d493_11eb_8389_0242ac1c0002row4_col1,#T_17d5d830_d493_11eb_8389_0242ac1c0002row4_col2,#T_17d5d830_d493_11eb_8389_0242ac1c0002row4_col3,#T_17d5d830_d493_11eb_8389_0242ac1c0002row4_col12,#T_17d5d830_d493_11eb_8389_0242ac1c0002row4_col13,#T_17d5d830_d493_11eb_8389_0242ac1c0002row5_col12,#T_17d5d830_d493_11eb_8389_0242ac1c0002row6_col11,#T_17d5d830_d493_11eb_8389_0242ac1c0002row9_col11,#T_17d5d830_d493_11eb_8389_0242ac1c0002row10_col11,#T_17d5d830_d493_11eb_8389_0242ac1c0002row10_col12,#T_17d5d830_d493_11eb_8389_0242ac1c0002row10_col13,#T_17d5d830_d493_11eb_8389_0242ac1c0002row10_col14,#T_17d5d830_d493_11eb_8389_0242ac1c0002row10_col15,#T_17d5d830_d493_11eb_8389_0242ac1c0002row10_col16{\n",
              "            font-size:  6pt;\n",
              "            background-color:  #000000;\n",
              "            color:  #f1f1f1;\n",
              "        }#T_17d5d830_d493_11eb_8389_0242ac1c0002row1_col11{\n",
              "            font-size:  6pt;\n",
              "            background-color:  #606060;\n",
              "            color:  #f1f1f1;\n",
              "        }#T_17d5d830_d493_11eb_8389_0242ac1c0002row1_col12{\n",
              "            font-size:  6pt;\n",
              "            background-color:  #4d4d4d;\n",
              "            color:  #f1f1f1;\n",
              "        }#T_17d5d830_d493_11eb_8389_0242ac1c0002row1_col14{\n",
              "            font-size:  6pt;\n",
              "            background-color:  #bbbbbb;\n",
              "            color:  #000000;\n",
              "        }#T_17d5d830_d493_11eb_8389_0242ac1c0002row2_col3{\n",
              "            font-size:  6pt;\n",
              "            background-color:  #e4e4e4;\n",
              "            color:  #000000;\n",
              "        }#T_17d5d830_d493_11eb_8389_0242ac1c0002row2_col4,#T_17d5d830_d493_11eb_8389_0242ac1c0002row8_col6{\n",
              "            font-size:  6pt;\n",
              "            background-color:  #6b6b6b;\n",
              "            color:  #000000;\n",
              "        }#T_17d5d830_d493_11eb_8389_0242ac1c0002row2_col8,#T_17d5d830_d493_11eb_8389_0242ac1c0002row2_col14,#T_17d5d830_d493_11eb_8389_0242ac1c0002row3_col14{\n",
              "            font-size:  6pt;\n",
              "            background-color:  #171717;\n",
              "            color:  #f1f1f1;\n",
              "        }#T_17d5d830_d493_11eb_8389_0242ac1c0002row2_col9,#T_17d5d830_d493_11eb_8389_0242ac1c0002row3_col11{\n",
              "            font-size:  6pt;\n",
              "            background-color:  #4b4b4b;\n",
              "            color:  #f1f1f1;\n",
              "        }#T_17d5d830_d493_11eb_8389_0242ac1c0002row2_col10,#T_17d5d830_d493_11eb_8389_0242ac1c0002row7_col10,#T_17d5d830_d493_11eb_8389_0242ac1c0002row8_col8,#T_17d5d830_d493_11eb_8389_0242ac1c0002row8_col10,#T_17d5d830_d493_11eb_8389_0242ac1c0002row9_col8,#T_17d5d830_d493_11eb_8389_0242ac1c0002row9_col10{\n",
              "            font-size:  6pt;\n",
              "            background-color:  #010101;\n",
              "            color:  #f1f1f1;\n",
              "        }#T_17d5d830_d493_11eb_8389_0242ac1c0002row3_col1{\n",
              "            font-size:  6pt;\n",
              "            background-color:  #272727;\n",
              "            color:  #f1f1f1;\n",
              "        }#T_17d5d830_d493_11eb_8389_0242ac1c0002row3_col2{\n",
              "            font-size:  6pt;\n",
              "            background-color:  #0a0a0a;\n",
              "            color:  #f1f1f1;\n",
              "        }#T_17d5d830_d493_11eb_8389_0242ac1c0002row3_col3{\n",
              "            font-size:  6pt;\n",
              "            background-color:  #050505;\n",
              "            color:  #f1f1f1;\n",
              "        }#T_17d5d830_d493_11eb_8389_0242ac1c0002row3_col5{\n",
              "            font-size:  6pt;\n",
              "            background-color:  #333333;\n",
              "            color:  #f1f1f1;\n",
              "        }#T_17d5d830_d493_11eb_8389_0242ac1c0002row3_col6{\n",
              "            font-size:  6pt;\n",
              "            background-color:  #e6e6e6;\n",
              "            color:  #000000;\n",
              "        }#T_17d5d830_d493_11eb_8389_0242ac1c0002row3_col7,#T_17d5d830_d493_11eb_8389_0242ac1c0002row3_col10{\n",
              "            font-size:  6pt;\n",
              "            background-color:  #fafafa;\n",
              "            color:  #000000;\n",
              "        }#T_17d5d830_d493_11eb_8389_0242ac1c0002row3_col8{\n",
              "            font-size:  6pt;\n",
              "            background-color:  #fbfbfb;\n",
              "            color:  #000000;\n",
              "        }#T_17d5d830_d493_11eb_8389_0242ac1c0002row3_col9{\n",
              "            font-size:  6pt;\n",
              "            background-color:  #fdfdfd;\n",
              "            color:  #000000;\n",
              "        }#T_17d5d830_d493_11eb_8389_0242ac1c0002row4_col4{\n",
              "            font-size:  6pt;\n",
              "            background-color:  #1b1b1b;\n",
              "            color:  #f1f1f1;\n",
              "        }#T_17d5d830_d493_11eb_8389_0242ac1c0002row4_col5{\n",
              "            font-size:  6pt;\n",
              "            background-color:  #e0e0e0;\n",
              "            color:  #000000;\n",
              "        }#T_17d5d830_d493_11eb_8389_0242ac1c0002row4_col11{\n",
              "            font-size:  6pt;\n",
              "            background-color:  #4e4e4e;\n",
              "            color:  #f1f1f1;\n",
              "        }#T_17d5d830_d493_11eb_8389_0242ac1c0002row4_col14{\n",
              "            font-size:  6pt;\n",
              "            background-color:  #767676;\n",
              "            color:  #000000;\n",
              "        }#T_17d5d830_d493_11eb_8389_0242ac1c0002row5_col1{\n",
              "            font-size:  6pt;\n",
              "            background-color:  #fcfcfc;\n",
              "            color:  #000000;\n",
              "        }#T_17d5d830_d493_11eb_8389_0242ac1c0002row5_col2,#T_17d5d830_d493_11eb_8389_0242ac1c0002row5_col3{\n",
              "            font-size:  6pt;\n",
              "            background-color:  #f6f6f6;\n",
              "            color:  #000000;\n",
              "        }#T_17d5d830_d493_11eb_8389_0242ac1c0002row5_col4,#T_17d5d830_d493_11eb_8389_0242ac1c0002row7_col7{\n",
              "            font-size:  6pt;\n",
              "            background-color:  #f8f8f8;\n",
              "            color:  #000000;\n",
              "        }#T_17d5d830_d493_11eb_8389_0242ac1c0002row5_col10,#T_17d5d830_d493_11eb_8389_0242ac1c0002row10_col7{\n",
              "            font-size:  6pt;\n",
              "            background-color:  #e8e8e8;\n",
              "            color:  #000000;\n",
              "        }#T_17d5d830_d493_11eb_8389_0242ac1c0002row5_col11{\n",
              "            font-size:  6pt;\n",
              "            background-color:  #222222;\n",
              "            color:  #f1f1f1;\n",
              "        }#T_17d5d830_d493_11eb_8389_0242ac1c0002row5_col13,#T_17d5d830_d493_11eb_8389_0242ac1c0002row6_col12{\n",
              "            font-size:  6pt;\n",
              "            background-color:  #090909;\n",
              "            color:  #f1f1f1;\n",
              "        }#T_17d5d830_d493_11eb_8389_0242ac1c0002row5_col14{\n",
              "            font-size:  6pt;\n",
              "            background-color:  #d0d0d0;\n",
              "            color:  #000000;\n",
              "        }#T_17d5d830_d493_11eb_8389_0242ac1c0002row6_col10,#T_17d5d830_d493_11eb_8389_0242ac1c0002row7_col11,#T_17d5d830_d493_11eb_8389_0242ac1c0002row9_col6{\n",
              "            font-size:  6pt;\n",
              "            background-color:  #060606;\n",
              "            color:  #f1f1f1;\n",
              "        }#T_17d5d830_d493_11eb_8389_0242ac1c0002row6_col13{\n",
              "            font-size:  6pt;\n",
              "            background-color:  #979797;\n",
              "            color:  #000000;\n",
              "        }#T_17d5d830_d493_11eb_8389_0242ac1c0002row7_col8{\n",
              "            font-size:  6pt;\n",
              "            background-color:  #b6b6b6;\n",
              "            color:  #000000;\n",
              "        }#T_17d5d830_d493_11eb_8389_0242ac1c0002row7_col9{\n",
              "            font-size:  6pt;\n",
              "            background-color:  #252525;\n",
              "            color:  #f1f1f1;\n",
              "        }#T_17d5d830_d493_11eb_8389_0242ac1c0002row7_col12{\n",
              "            font-size:  6pt;\n",
              "            background-color:  #999999;\n",
              "            color:  #000000;\n",
              "        }#T_17d5d830_d493_11eb_8389_0242ac1c0002row8_col5{\n",
              "            font-size:  6pt;\n",
              "            background-color:  #f9f9f9;\n",
              "            color:  #000000;\n",
              "        }#T_17d5d830_d493_11eb_8389_0242ac1c0002row8_col7{\n",
              "            font-size:  6pt;\n",
              "            background-color:  #101010;\n",
              "            color:  #f1f1f1;\n",
              "        }#T_17d5d830_d493_11eb_8389_0242ac1c0002row8_col9,#T_17d5d830_d493_11eb_8389_0242ac1c0002row9_col9{\n",
              "            font-size:  6pt;\n",
              "            background-color:  #020202;\n",
              "            color:  #f1f1f1;\n",
              "        }#T_17d5d830_d493_11eb_8389_0242ac1c0002row8_col11{\n",
              "            font-size:  6pt;\n",
              "            background-color:  #545454;\n",
              "            color:  #f1f1f1;\n",
              "        }#T_17d5d830_d493_11eb_8389_0242ac1c0002row8_col12{\n",
              "            font-size:  6pt;\n",
              "            background-color:  #f1f1f1;\n",
              "            color:  #000000;\n",
              "        }#T_17d5d830_d493_11eb_8389_0242ac1c0002row9_col5{\n",
              "            font-size:  6pt;\n",
              "            background-color:  #f7f7f7;\n",
              "            color:  #000000;\n",
              "        }#T_17d5d830_d493_11eb_8389_0242ac1c0002row9_col7{\n",
              "            font-size:  6pt;\n",
              "            background-color:  #030303;\n",
              "            color:  #f1f1f1;\n",
              "        }#T_17d5d830_d493_11eb_8389_0242ac1c0002row9_col12{\n",
              "            font-size:  6pt;\n",
              "            background-color:  #181818;\n",
              "            color:  #f1f1f1;\n",
              "        }#T_17d5d830_d493_11eb_8389_0242ac1c0002row9_col13{\n",
              "            font-size:  6pt;\n",
              "            background-color:  #303030;\n",
              "            color:  #f1f1f1;\n",
              "        }#T_17d5d830_d493_11eb_8389_0242ac1c0002row9_col14{\n",
              "            font-size:  6pt;\n",
              "            background-color:  #a9a9a9;\n",
              "            color:  #000000;\n",
              "        }#T_17d5d830_d493_11eb_8389_0242ac1c0002row9_col15{\n",
              "            font-size:  6pt;\n",
              "            background-color:  #fefefe;\n",
              "            color:  #000000;\n",
              "        }#T_17d5d830_d493_11eb_8389_0242ac1c0002row10_col8,#T_17d5d830_d493_11eb_8389_0242ac1c0002row10_col9{\n",
              "            font-size:  6pt;\n",
              "            background-color:  #bababa;\n",
              "            color:  #000000;\n",
              "        }#T_17d5d830_d493_11eb_8389_0242ac1c0002row10_col10{\n",
              "            font-size:  6pt;\n",
              "            background-color:  #393939;\n",
              "            color:  #f1f1f1;\n",
              "        }</style><table id=\"T_17d5d830_d493_11eb_8389_0242ac1c0002\" ><thead>    <tr>        <th class=\"blank level0\" ></th>        <th class=\"col_heading level0 col0\" >0</th>        <th class=\"col_heading level0 col1\" >1</th>        <th class=\"col_heading level0 col2\" >2</th>        <th class=\"col_heading level0 col3\" >3</th>        <th class=\"col_heading level0 col4\" >4</th>        <th class=\"col_heading level0 col5\" >5</th>        <th class=\"col_heading level0 col6\" >6</th>        <th class=\"col_heading level0 col7\" >7</th>        <th class=\"col_heading level0 col8\" >8</th>        <th class=\"col_heading level0 col9\" >9</th>        <th class=\"col_heading level0 col10\" >10</th>        <th class=\"col_heading level0 col11\" >11</th>        <th class=\"col_heading level0 col12\" >12</th>        <th class=\"col_heading level0 col13\" >13</th>        <th class=\"col_heading level0 col14\" >14</th>        <th class=\"col_heading level0 col15\" >15</th>        <th class=\"col_heading level0 col16\" >16</th>        <th class=\"col_heading level0 col17\" >17</th>    </tr></thead><tbody>\n",
              "                <tr>\n",
              "                        <th id=\"T_17d5d830_d493_11eb_8389_0242ac1c0002level0_row0\" class=\"row_heading level0 row0\" >0</th>\n",
              "                        <td id=\"T_17d5d830_d493_11eb_8389_0242ac1c0002row0_col0\" class=\"data row0 col0\" >0</td>\n",
              "                        <td id=\"T_17d5d830_d493_11eb_8389_0242ac1c0002row0_col1\" class=\"data row0 col1\" >0</td>\n",
              "                        <td id=\"T_17d5d830_d493_11eb_8389_0242ac1c0002row0_col2\" class=\"data row0 col2\" >0</td>\n",
              "                        <td id=\"T_17d5d830_d493_11eb_8389_0242ac1c0002row0_col3\" class=\"data row0 col3\" >0</td>\n",
              "                        <td id=\"T_17d5d830_d493_11eb_8389_0242ac1c0002row0_col4\" class=\"data row0 col4\" >0</td>\n",
              "                        <td id=\"T_17d5d830_d493_11eb_8389_0242ac1c0002row0_col5\" class=\"data row0 col5\" >0</td>\n",
              "                        <td id=\"T_17d5d830_d493_11eb_8389_0242ac1c0002row0_col6\" class=\"data row0 col6\" >0</td>\n",
              "                        <td id=\"T_17d5d830_d493_11eb_8389_0242ac1c0002row0_col7\" class=\"data row0 col7\" >0</td>\n",
              "                        <td id=\"T_17d5d830_d493_11eb_8389_0242ac1c0002row0_col8\" class=\"data row0 col8\" >0</td>\n",
              "                        <td id=\"T_17d5d830_d493_11eb_8389_0242ac1c0002row0_col9\" class=\"data row0 col9\" >0</td>\n",
              "                        <td id=\"T_17d5d830_d493_11eb_8389_0242ac1c0002row0_col10\" class=\"data row0 col10\" >0</td>\n",
              "                        <td id=\"T_17d5d830_d493_11eb_8389_0242ac1c0002row0_col11\" class=\"data row0 col11\" >0</td>\n",
              "                        <td id=\"T_17d5d830_d493_11eb_8389_0242ac1c0002row0_col12\" class=\"data row0 col12\" >0</td>\n",
              "                        <td id=\"T_17d5d830_d493_11eb_8389_0242ac1c0002row0_col13\" class=\"data row0 col13\" >0</td>\n",
              "                        <td id=\"T_17d5d830_d493_11eb_8389_0242ac1c0002row0_col14\" class=\"data row0 col14\" >0</td>\n",
              "                        <td id=\"T_17d5d830_d493_11eb_8389_0242ac1c0002row0_col15\" class=\"data row0 col15\" >0</td>\n",
              "                        <td id=\"T_17d5d830_d493_11eb_8389_0242ac1c0002row0_col16\" class=\"data row0 col16\" >0</td>\n",
              "                        <td id=\"T_17d5d830_d493_11eb_8389_0242ac1c0002row0_col17\" class=\"data row0 col17\" >0</td>\n",
              "            </tr>\n",
              "            <tr>\n",
              "                        <th id=\"T_17d5d830_d493_11eb_8389_0242ac1c0002level0_row1\" class=\"row_heading level0 row1\" >1</th>\n",
              "                        <td id=\"T_17d5d830_d493_11eb_8389_0242ac1c0002row1_col0\" class=\"data row1 col0\" >0</td>\n",
              "                        <td id=\"T_17d5d830_d493_11eb_8389_0242ac1c0002row1_col1\" class=\"data row1 col1\" >0</td>\n",
              "                        <td id=\"T_17d5d830_d493_11eb_8389_0242ac1c0002row1_col2\" class=\"data row1 col2\" >0</td>\n",
              "                        <td id=\"T_17d5d830_d493_11eb_8389_0242ac1c0002row1_col3\" class=\"data row1 col3\" >0</td>\n",
              "                        <td id=\"T_17d5d830_d493_11eb_8389_0242ac1c0002row1_col4\" class=\"data row1 col4\" >0</td>\n",
              "                        <td id=\"T_17d5d830_d493_11eb_8389_0242ac1c0002row1_col5\" class=\"data row1 col5\" >29</td>\n",
              "                        <td id=\"T_17d5d830_d493_11eb_8389_0242ac1c0002row1_col6\" class=\"data row1 col6\" >150</td>\n",
              "                        <td id=\"T_17d5d830_d493_11eb_8389_0242ac1c0002row1_col7\" class=\"data row1 col7\" >195</td>\n",
              "                        <td id=\"T_17d5d830_d493_11eb_8389_0242ac1c0002row1_col8\" class=\"data row1 col8\" >254</td>\n",
              "                        <td id=\"T_17d5d830_d493_11eb_8389_0242ac1c0002row1_col9\" class=\"data row1 col9\" >255</td>\n",
              "                        <td id=\"T_17d5d830_d493_11eb_8389_0242ac1c0002row1_col10\" class=\"data row1 col10\" >254</td>\n",
              "                        <td id=\"T_17d5d830_d493_11eb_8389_0242ac1c0002row1_col11\" class=\"data row1 col11\" >176</td>\n",
              "                        <td id=\"T_17d5d830_d493_11eb_8389_0242ac1c0002row1_col12\" class=\"data row1 col12\" >193</td>\n",
              "                        <td id=\"T_17d5d830_d493_11eb_8389_0242ac1c0002row1_col13\" class=\"data row1 col13\" >150</td>\n",
              "                        <td id=\"T_17d5d830_d493_11eb_8389_0242ac1c0002row1_col14\" class=\"data row1 col14\" >96</td>\n",
              "                        <td id=\"T_17d5d830_d493_11eb_8389_0242ac1c0002row1_col15\" class=\"data row1 col15\" >0</td>\n",
              "                        <td id=\"T_17d5d830_d493_11eb_8389_0242ac1c0002row1_col16\" class=\"data row1 col16\" >0</td>\n",
              "                        <td id=\"T_17d5d830_d493_11eb_8389_0242ac1c0002row1_col17\" class=\"data row1 col17\" >0</td>\n",
              "            </tr>\n",
              "            <tr>\n",
              "                        <th id=\"T_17d5d830_d493_11eb_8389_0242ac1c0002level0_row2\" class=\"row_heading level0 row2\" >2</th>\n",
              "                        <td id=\"T_17d5d830_d493_11eb_8389_0242ac1c0002row2_col0\" class=\"data row2 col0\" >0</td>\n",
              "                        <td id=\"T_17d5d830_d493_11eb_8389_0242ac1c0002row2_col1\" class=\"data row2 col1\" >0</td>\n",
              "                        <td id=\"T_17d5d830_d493_11eb_8389_0242ac1c0002row2_col2\" class=\"data row2 col2\" >0</td>\n",
              "                        <td id=\"T_17d5d830_d493_11eb_8389_0242ac1c0002row2_col3\" class=\"data row2 col3\" >48</td>\n",
              "                        <td id=\"T_17d5d830_d493_11eb_8389_0242ac1c0002row2_col4\" class=\"data row2 col4\" >166</td>\n",
              "                        <td id=\"T_17d5d830_d493_11eb_8389_0242ac1c0002row2_col5\" class=\"data row2 col5\" >224</td>\n",
              "                        <td id=\"T_17d5d830_d493_11eb_8389_0242ac1c0002row2_col6\" class=\"data row2 col6\" >253</td>\n",
              "                        <td id=\"T_17d5d830_d493_11eb_8389_0242ac1c0002row2_col7\" class=\"data row2 col7\" >253</td>\n",
              "                        <td id=\"T_17d5d830_d493_11eb_8389_0242ac1c0002row2_col8\" class=\"data row2 col8\" >234</td>\n",
              "                        <td id=\"T_17d5d830_d493_11eb_8389_0242ac1c0002row2_col9\" class=\"data row2 col9\" >196</td>\n",
              "                        <td id=\"T_17d5d830_d493_11eb_8389_0242ac1c0002row2_col10\" class=\"data row2 col10\" >253</td>\n",
              "                        <td id=\"T_17d5d830_d493_11eb_8389_0242ac1c0002row2_col11\" class=\"data row2 col11\" >253</td>\n",
              "                        <td id=\"T_17d5d830_d493_11eb_8389_0242ac1c0002row2_col12\" class=\"data row2 col12\" >253</td>\n",
              "                        <td id=\"T_17d5d830_d493_11eb_8389_0242ac1c0002row2_col13\" class=\"data row2 col13\" >253</td>\n",
              "                        <td id=\"T_17d5d830_d493_11eb_8389_0242ac1c0002row2_col14\" class=\"data row2 col14\" >233</td>\n",
              "                        <td id=\"T_17d5d830_d493_11eb_8389_0242ac1c0002row2_col15\" class=\"data row2 col15\" >0</td>\n",
              "                        <td id=\"T_17d5d830_d493_11eb_8389_0242ac1c0002row2_col16\" class=\"data row2 col16\" >0</td>\n",
              "                        <td id=\"T_17d5d830_d493_11eb_8389_0242ac1c0002row2_col17\" class=\"data row2 col17\" >0</td>\n",
              "            </tr>\n",
              "            <tr>\n",
              "                        <th id=\"T_17d5d830_d493_11eb_8389_0242ac1c0002level0_row3\" class=\"row_heading level0 row3\" >3</th>\n",
              "                        <td id=\"T_17d5d830_d493_11eb_8389_0242ac1c0002row3_col0\" class=\"data row3 col0\" >0</td>\n",
              "                        <td id=\"T_17d5d830_d493_11eb_8389_0242ac1c0002row3_col1\" class=\"data row3 col1\" >93</td>\n",
              "                        <td id=\"T_17d5d830_d493_11eb_8389_0242ac1c0002row3_col2\" class=\"data row3 col2\" >244</td>\n",
              "                        <td id=\"T_17d5d830_d493_11eb_8389_0242ac1c0002row3_col3\" class=\"data row3 col3\" >249</td>\n",
              "                        <td id=\"T_17d5d830_d493_11eb_8389_0242ac1c0002row3_col4\" class=\"data row3 col4\" >253</td>\n",
              "                        <td id=\"T_17d5d830_d493_11eb_8389_0242ac1c0002row3_col5\" class=\"data row3 col5\" >187</td>\n",
              "                        <td id=\"T_17d5d830_d493_11eb_8389_0242ac1c0002row3_col6\" class=\"data row3 col6\" >46</td>\n",
              "                        <td id=\"T_17d5d830_d493_11eb_8389_0242ac1c0002row3_col7\" class=\"data row3 col7\" >10</td>\n",
              "                        <td id=\"T_17d5d830_d493_11eb_8389_0242ac1c0002row3_col8\" class=\"data row3 col8\" >8</td>\n",
              "                        <td id=\"T_17d5d830_d493_11eb_8389_0242ac1c0002row3_col9\" class=\"data row3 col9\" >4</td>\n",
              "                        <td id=\"T_17d5d830_d493_11eb_8389_0242ac1c0002row3_col10\" class=\"data row3 col10\" >10</td>\n",
              "                        <td id=\"T_17d5d830_d493_11eb_8389_0242ac1c0002row3_col11\" class=\"data row3 col11\" >194</td>\n",
              "                        <td id=\"T_17d5d830_d493_11eb_8389_0242ac1c0002row3_col12\" class=\"data row3 col12\" >253</td>\n",
              "                        <td id=\"T_17d5d830_d493_11eb_8389_0242ac1c0002row3_col13\" class=\"data row3 col13\" >253</td>\n",
              "                        <td id=\"T_17d5d830_d493_11eb_8389_0242ac1c0002row3_col14\" class=\"data row3 col14\" >233</td>\n",
              "                        <td id=\"T_17d5d830_d493_11eb_8389_0242ac1c0002row3_col15\" class=\"data row3 col15\" >0</td>\n",
              "                        <td id=\"T_17d5d830_d493_11eb_8389_0242ac1c0002row3_col16\" class=\"data row3 col16\" >0</td>\n",
              "                        <td id=\"T_17d5d830_d493_11eb_8389_0242ac1c0002row3_col17\" class=\"data row3 col17\" >0</td>\n",
              "            </tr>\n",
              "            <tr>\n",
              "                        <th id=\"T_17d5d830_d493_11eb_8389_0242ac1c0002level0_row4\" class=\"row_heading level0 row4\" >4</th>\n",
              "                        <td id=\"T_17d5d830_d493_11eb_8389_0242ac1c0002row4_col0\" class=\"data row4 col0\" >0</td>\n",
              "                        <td id=\"T_17d5d830_d493_11eb_8389_0242ac1c0002row4_col1\" class=\"data row4 col1\" >107</td>\n",
              "                        <td id=\"T_17d5d830_d493_11eb_8389_0242ac1c0002row4_col2\" class=\"data row4 col2\" >253</td>\n",
              "                        <td id=\"T_17d5d830_d493_11eb_8389_0242ac1c0002row4_col3\" class=\"data row4 col3\" >253</td>\n",
              "                        <td id=\"T_17d5d830_d493_11eb_8389_0242ac1c0002row4_col4\" class=\"data row4 col4\" >230</td>\n",
              "                        <td id=\"T_17d5d830_d493_11eb_8389_0242ac1c0002row4_col5\" class=\"data row4 col5\" >48</td>\n",
              "                        <td id=\"T_17d5d830_d493_11eb_8389_0242ac1c0002row4_col6\" class=\"data row4 col6\" >0</td>\n",
              "                        <td id=\"T_17d5d830_d493_11eb_8389_0242ac1c0002row4_col7\" class=\"data row4 col7\" >0</td>\n",
              "                        <td id=\"T_17d5d830_d493_11eb_8389_0242ac1c0002row4_col8\" class=\"data row4 col8\" >0</td>\n",
              "                        <td id=\"T_17d5d830_d493_11eb_8389_0242ac1c0002row4_col9\" class=\"data row4 col9\" >0</td>\n",
              "                        <td id=\"T_17d5d830_d493_11eb_8389_0242ac1c0002row4_col10\" class=\"data row4 col10\" >0</td>\n",
              "                        <td id=\"T_17d5d830_d493_11eb_8389_0242ac1c0002row4_col11\" class=\"data row4 col11\" >192</td>\n",
              "                        <td id=\"T_17d5d830_d493_11eb_8389_0242ac1c0002row4_col12\" class=\"data row4 col12\" >253</td>\n",
              "                        <td id=\"T_17d5d830_d493_11eb_8389_0242ac1c0002row4_col13\" class=\"data row4 col13\" >253</td>\n",
              "                        <td id=\"T_17d5d830_d493_11eb_8389_0242ac1c0002row4_col14\" class=\"data row4 col14\" >156</td>\n",
              "                        <td id=\"T_17d5d830_d493_11eb_8389_0242ac1c0002row4_col15\" class=\"data row4 col15\" >0</td>\n",
              "                        <td id=\"T_17d5d830_d493_11eb_8389_0242ac1c0002row4_col16\" class=\"data row4 col16\" >0</td>\n",
              "                        <td id=\"T_17d5d830_d493_11eb_8389_0242ac1c0002row4_col17\" class=\"data row4 col17\" >0</td>\n",
              "            </tr>\n",
              "            <tr>\n",
              "                        <th id=\"T_17d5d830_d493_11eb_8389_0242ac1c0002level0_row5\" class=\"row_heading level0 row5\" >5</th>\n",
              "                        <td id=\"T_17d5d830_d493_11eb_8389_0242ac1c0002row5_col0\" class=\"data row5 col0\" >0</td>\n",
              "                        <td id=\"T_17d5d830_d493_11eb_8389_0242ac1c0002row5_col1\" class=\"data row5 col1\" >3</td>\n",
              "                        <td id=\"T_17d5d830_d493_11eb_8389_0242ac1c0002row5_col2\" class=\"data row5 col2\" >20</td>\n",
              "                        <td id=\"T_17d5d830_d493_11eb_8389_0242ac1c0002row5_col3\" class=\"data row5 col3\" >20</td>\n",
              "                        <td id=\"T_17d5d830_d493_11eb_8389_0242ac1c0002row5_col4\" class=\"data row5 col4\" >15</td>\n",
              "                        <td id=\"T_17d5d830_d493_11eb_8389_0242ac1c0002row5_col5\" class=\"data row5 col5\" >0</td>\n",
              "                        <td id=\"T_17d5d830_d493_11eb_8389_0242ac1c0002row5_col6\" class=\"data row5 col6\" >0</td>\n",
              "                        <td id=\"T_17d5d830_d493_11eb_8389_0242ac1c0002row5_col7\" class=\"data row5 col7\" >0</td>\n",
              "                        <td id=\"T_17d5d830_d493_11eb_8389_0242ac1c0002row5_col8\" class=\"data row5 col8\" >0</td>\n",
              "                        <td id=\"T_17d5d830_d493_11eb_8389_0242ac1c0002row5_col9\" class=\"data row5 col9\" >0</td>\n",
              "                        <td id=\"T_17d5d830_d493_11eb_8389_0242ac1c0002row5_col10\" class=\"data row5 col10\" >43</td>\n",
              "                        <td id=\"T_17d5d830_d493_11eb_8389_0242ac1c0002row5_col11\" class=\"data row5 col11\" >224</td>\n",
              "                        <td id=\"T_17d5d830_d493_11eb_8389_0242ac1c0002row5_col12\" class=\"data row5 col12\" >253</td>\n",
              "                        <td id=\"T_17d5d830_d493_11eb_8389_0242ac1c0002row5_col13\" class=\"data row5 col13\" >245</td>\n",
              "                        <td id=\"T_17d5d830_d493_11eb_8389_0242ac1c0002row5_col14\" class=\"data row5 col14\" >74</td>\n",
              "                        <td id=\"T_17d5d830_d493_11eb_8389_0242ac1c0002row5_col15\" class=\"data row5 col15\" >0</td>\n",
              "                        <td id=\"T_17d5d830_d493_11eb_8389_0242ac1c0002row5_col16\" class=\"data row5 col16\" >0</td>\n",
              "                        <td id=\"T_17d5d830_d493_11eb_8389_0242ac1c0002row5_col17\" class=\"data row5 col17\" >0</td>\n",
              "            </tr>\n",
              "            <tr>\n",
              "                        <th id=\"T_17d5d830_d493_11eb_8389_0242ac1c0002level0_row6\" class=\"row_heading level0 row6\" >6</th>\n",
              "                        <td id=\"T_17d5d830_d493_11eb_8389_0242ac1c0002row6_col0\" class=\"data row6 col0\" >0</td>\n",
              "                        <td id=\"T_17d5d830_d493_11eb_8389_0242ac1c0002row6_col1\" class=\"data row6 col1\" >0</td>\n",
              "                        <td id=\"T_17d5d830_d493_11eb_8389_0242ac1c0002row6_col2\" class=\"data row6 col2\" >0</td>\n",
              "                        <td id=\"T_17d5d830_d493_11eb_8389_0242ac1c0002row6_col3\" class=\"data row6 col3\" >0</td>\n",
              "                        <td id=\"T_17d5d830_d493_11eb_8389_0242ac1c0002row6_col4\" class=\"data row6 col4\" >0</td>\n",
              "                        <td id=\"T_17d5d830_d493_11eb_8389_0242ac1c0002row6_col5\" class=\"data row6 col5\" >0</td>\n",
              "                        <td id=\"T_17d5d830_d493_11eb_8389_0242ac1c0002row6_col6\" class=\"data row6 col6\" >0</td>\n",
              "                        <td id=\"T_17d5d830_d493_11eb_8389_0242ac1c0002row6_col7\" class=\"data row6 col7\" >0</td>\n",
              "                        <td id=\"T_17d5d830_d493_11eb_8389_0242ac1c0002row6_col8\" class=\"data row6 col8\" >0</td>\n",
              "                        <td id=\"T_17d5d830_d493_11eb_8389_0242ac1c0002row6_col9\" class=\"data row6 col9\" >0</td>\n",
              "                        <td id=\"T_17d5d830_d493_11eb_8389_0242ac1c0002row6_col10\" class=\"data row6 col10\" >249</td>\n",
              "                        <td id=\"T_17d5d830_d493_11eb_8389_0242ac1c0002row6_col11\" class=\"data row6 col11\" >253</td>\n",
              "                        <td id=\"T_17d5d830_d493_11eb_8389_0242ac1c0002row6_col12\" class=\"data row6 col12\" >245</td>\n",
              "                        <td id=\"T_17d5d830_d493_11eb_8389_0242ac1c0002row6_col13\" class=\"data row6 col13\" >126</td>\n",
              "                        <td id=\"T_17d5d830_d493_11eb_8389_0242ac1c0002row6_col14\" class=\"data row6 col14\" >0</td>\n",
              "                        <td id=\"T_17d5d830_d493_11eb_8389_0242ac1c0002row6_col15\" class=\"data row6 col15\" >0</td>\n",
              "                        <td id=\"T_17d5d830_d493_11eb_8389_0242ac1c0002row6_col16\" class=\"data row6 col16\" >0</td>\n",
              "                        <td id=\"T_17d5d830_d493_11eb_8389_0242ac1c0002row6_col17\" class=\"data row6 col17\" >0</td>\n",
              "            </tr>\n",
              "            <tr>\n",
              "                        <th id=\"T_17d5d830_d493_11eb_8389_0242ac1c0002level0_row7\" class=\"row_heading level0 row7\" >7</th>\n",
              "                        <td id=\"T_17d5d830_d493_11eb_8389_0242ac1c0002row7_col0\" class=\"data row7 col0\" >0</td>\n",
              "                        <td id=\"T_17d5d830_d493_11eb_8389_0242ac1c0002row7_col1\" class=\"data row7 col1\" >0</td>\n",
              "                        <td id=\"T_17d5d830_d493_11eb_8389_0242ac1c0002row7_col2\" class=\"data row7 col2\" >0</td>\n",
              "                        <td id=\"T_17d5d830_d493_11eb_8389_0242ac1c0002row7_col3\" class=\"data row7 col3\" >0</td>\n",
              "                        <td id=\"T_17d5d830_d493_11eb_8389_0242ac1c0002row7_col4\" class=\"data row7 col4\" >0</td>\n",
              "                        <td id=\"T_17d5d830_d493_11eb_8389_0242ac1c0002row7_col5\" class=\"data row7 col5\" >0</td>\n",
              "                        <td id=\"T_17d5d830_d493_11eb_8389_0242ac1c0002row7_col6\" class=\"data row7 col6\" >0</td>\n",
              "                        <td id=\"T_17d5d830_d493_11eb_8389_0242ac1c0002row7_col7\" class=\"data row7 col7\" >14</td>\n",
              "                        <td id=\"T_17d5d830_d493_11eb_8389_0242ac1c0002row7_col8\" class=\"data row7 col8\" >101</td>\n",
              "                        <td id=\"T_17d5d830_d493_11eb_8389_0242ac1c0002row7_col9\" class=\"data row7 col9\" >223</td>\n",
              "                        <td id=\"T_17d5d830_d493_11eb_8389_0242ac1c0002row7_col10\" class=\"data row7 col10\" >253</td>\n",
              "                        <td id=\"T_17d5d830_d493_11eb_8389_0242ac1c0002row7_col11\" class=\"data row7 col11\" >248</td>\n",
              "                        <td id=\"T_17d5d830_d493_11eb_8389_0242ac1c0002row7_col12\" class=\"data row7 col12\" >124</td>\n",
              "                        <td id=\"T_17d5d830_d493_11eb_8389_0242ac1c0002row7_col13\" class=\"data row7 col13\" >0</td>\n",
              "                        <td id=\"T_17d5d830_d493_11eb_8389_0242ac1c0002row7_col14\" class=\"data row7 col14\" >0</td>\n",
              "                        <td id=\"T_17d5d830_d493_11eb_8389_0242ac1c0002row7_col15\" class=\"data row7 col15\" >0</td>\n",
              "                        <td id=\"T_17d5d830_d493_11eb_8389_0242ac1c0002row7_col16\" class=\"data row7 col16\" >0</td>\n",
              "                        <td id=\"T_17d5d830_d493_11eb_8389_0242ac1c0002row7_col17\" class=\"data row7 col17\" >0</td>\n",
              "            </tr>\n",
              "            <tr>\n",
              "                        <th id=\"T_17d5d830_d493_11eb_8389_0242ac1c0002level0_row8\" class=\"row_heading level0 row8\" >8</th>\n",
              "                        <td id=\"T_17d5d830_d493_11eb_8389_0242ac1c0002row8_col0\" class=\"data row8 col0\" >0</td>\n",
              "                        <td id=\"T_17d5d830_d493_11eb_8389_0242ac1c0002row8_col1\" class=\"data row8 col1\" >0</td>\n",
              "                        <td id=\"T_17d5d830_d493_11eb_8389_0242ac1c0002row8_col2\" class=\"data row8 col2\" >0</td>\n",
              "                        <td id=\"T_17d5d830_d493_11eb_8389_0242ac1c0002row8_col3\" class=\"data row8 col3\" >0</td>\n",
              "                        <td id=\"T_17d5d830_d493_11eb_8389_0242ac1c0002row8_col4\" class=\"data row8 col4\" >0</td>\n",
              "                        <td id=\"T_17d5d830_d493_11eb_8389_0242ac1c0002row8_col5\" class=\"data row8 col5\" >11</td>\n",
              "                        <td id=\"T_17d5d830_d493_11eb_8389_0242ac1c0002row8_col6\" class=\"data row8 col6\" >166</td>\n",
              "                        <td id=\"T_17d5d830_d493_11eb_8389_0242ac1c0002row8_col7\" class=\"data row8 col7\" >239</td>\n",
              "                        <td id=\"T_17d5d830_d493_11eb_8389_0242ac1c0002row8_col8\" class=\"data row8 col8\" >253</td>\n",
              "                        <td id=\"T_17d5d830_d493_11eb_8389_0242ac1c0002row8_col9\" class=\"data row8 col9\" >253</td>\n",
              "                        <td id=\"T_17d5d830_d493_11eb_8389_0242ac1c0002row8_col10\" class=\"data row8 col10\" >253</td>\n",
              "                        <td id=\"T_17d5d830_d493_11eb_8389_0242ac1c0002row8_col11\" class=\"data row8 col11\" >187</td>\n",
              "                        <td id=\"T_17d5d830_d493_11eb_8389_0242ac1c0002row8_col12\" class=\"data row8 col12\" >30</td>\n",
              "                        <td id=\"T_17d5d830_d493_11eb_8389_0242ac1c0002row8_col13\" class=\"data row8 col13\" >0</td>\n",
              "                        <td id=\"T_17d5d830_d493_11eb_8389_0242ac1c0002row8_col14\" class=\"data row8 col14\" >0</td>\n",
              "                        <td id=\"T_17d5d830_d493_11eb_8389_0242ac1c0002row8_col15\" class=\"data row8 col15\" >0</td>\n",
              "                        <td id=\"T_17d5d830_d493_11eb_8389_0242ac1c0002row8_col16\" class=\"data row8 col16\" >0</td>\n",
              "                        <td id=\"T_17d5d830_d493_11eb_8389_0242ac1c0002row8_col17\" class=\"data row8 col17\" >0</td>\n",
              "            </tr>\n",
              "            <tr>\n",
              "                        <th id=\"T_17d5d830_d493_11eb_8389_0242ac1c0002level0_row9\" class=\"row_heading level0 row9\" >9</th>\n",
              "                        <td id=\"T_17d5d830_d493_11eb_8389_0242ac1c0002row9_col0\" class=\"data row9 col0\" >0</td>\n",
              "                        <td id=\"T_17d5d830_d493_11eb_8389_0242ac1c0002row9_col1\" class=\"data row9 col1\" >0</td>\n",
              "                        <td id=\"T_17d5d830_d493_11eb_8389_0242ac1c0002row9_col2\" class=\"data row9 col2\" >0</td>\n",
              "                        <td id=\"T_17d5d830_d493_11eb_8389_0242ac1c0002row9_col3\" class=\"data row9 col3\" >0</td>\n",
              "                        <td id=\"T_17d5d830_d493_11eb_8389_0242ac1c0002row9_col4\" class=\"data row9 col4\" >0</td>\n",
              "                        <td id=\"T_17d5d830_d493_11eb_8389_0242ac1c0002row9_col5\" class=\"data row9 col5\" >16</td>\n",
              "                        <td id=\"T_17d5d830_d493_11eb_8389_0242ac1c0002row9_col6\" class=\"data row9 col6\" >248</td>\n",
              "                        <td id=\"T_17d5d830_d493_11eb_8389_0242ac1c0002row9_col7\" class=\"data row9 col7\" >250</td>\n",
              "                        <td id=\"T_17d5d830_d493_11eb_8389_0242ac1c0002row9_col8\" class=\"data row9 col8\" >253</td>\n",
              "                        <td id=\"T_17d5d830_d493_11eb_8389_0242ac1c0002row9_col9\" class=\"data row9 col9\" >253</td>\n",
              "                        <td id=\"T_17d5d830_d493_11eb_8389_0242ac1c0002row9_col10\" class=\"data row9 col10\" >253</td>\n",
              "                        <td id=\"T_17d5d830_d493_11eb_8389_0242ac1c0002row9_col11\" class=\"data row9 col11\" >253</td>\n",
              "                        <td id=\"T_17d5d830_d493_11eb_8389_0242ac1c0002row9_col12\" class=\"data row9 col12\" >232</td>\n",
              "                        <td id=\"T_17d5d830_d493_11eb_8389_0242ac1c0002row9_col13\" class=\"data row9 col13\" >213</td>\n",
              "                        <td id=\"T_17d5d830_d493_11eb_8389_0242ac1c0002row9_col14\" class=\"data row9 col14\" >111</td>\n",
              "                        <td id=\"T_17d5d830_d493_11eb_8389_0242ac1c0002row9_col15\" class=\"data row9 col15\" >2</td>\n",
              "                        <td id=\"T_17d5d830_d493_11eb_8389_0242ac1c0002row9_col16\" class=\"data row9 col16\" >0</td>\n",
              "                        <td id=\"T_17d5d830_d493_11eb_8389_0242ac1c0002row9_col17\" class=\"data row9 col17\" >0</td>\n",
              "            </tr>\n",
              "            <tr>\n",
              "                        <th id=\"T_17d5d830_d493_11eb_8389_0242ac1c0002level0_row10\" class=\"row_heading level0 row10\" >10</th>\n",
              "                        <td id=\"T_17d5d830_d493_11eb_8389_0242ac1c0002row10_col0\" class=\"data row10 col0\" >0</td>\n",
              "                        <td id=\"T_17d5d830_d493_11eb_8389_0242ac1c0002row10_col1\" class=\"data row10 col1\" >0</td>\n",
              "                        <td id=\"T_17d5d830_d493_11eb_8389_0242ac1c0002row10_col2\" class=\"data row10 col2\" >0</td>\n",
              "                        <td id=\"T_17d5d830_d493_11eb_8389_0242ac1c0002row10_col3\" class=\"data row10 col3\" >0</td>\n",
              "                        <td id=\"T_17d5d830_d493_11eb_8389_0242ac1c0002row10_col4\" class=\"data row10 col4\" >0</td>\n",
              "                        <td id=\"T_17d5d830_d493_11eb_8389_0242ac1c0002row10_col5\" class=\"data row10 col5\" >0</td>\n",
              "                        <td id=\"T_17d5d830_d493_11eb_8389_0242ac1c0002row10_col6\" class=\"data row10 col6\" >0</td>\n",
              "                        <td id=\"T_17d5d830_d493_11eb_8389_0242ac1c0002row10_col7\" class=\"data row10 col7\" >43</td>\n",
              "                        <td id=\"T_17d5d830_d493_11eb_8389_0242ac1c0002row10_col8\" class=\"data row10 col8\" >98</td>\n",
              "                        <td id=\"T_17d5d830_d493_11eb_8389_0242ac1c0002row10_col9\" class=\"data row10 col9\" >98</td>\n",
              "                        <td id=\"T_17d5d830_d493_11eb_8389_0242ac1c0002row10_col10\" class=\"data row10 col10\" >208</td>\n",
              "                        <td id=\"T_17d5d830_d493_11eb_8389_0242ac1c0002row10_col11\" class=\"data row10 col11\" >253</td>\n",
              "                        <td id=\"T_17d5d830_d493_11eb_8389_0242ac1c0002row10_col12\" class=\"data row10 col12\" >253</td>\n",
              "                        <td id=\"T_17d5d830_d493_11eb_8389_0242ac1c0002row10_col13\" class=\"data row10 col13\" >253</td>\n",
              "                        <td id=\"T_17d5d830_d493_11eb_8389_0242ac1c0002row10_col14\" class=\"data row10 col14\" >253</td>\n",
              "                        <td id=\"T_17d5d830_d493_11eb_8389_0242ac1c0002row10_col15\" class=\"data row10 col15\" >187</td>\n",
              "                        <td id=\"T_17d5d830_d493_11eb_8389_0242ac1c0002row10_col16\" class=\"data row10 col16\" >22</td>\n",
              "                        <td id=\"T_17d5d830_d493_11eb_8389_0242ac1c0002row10_col17\" class=\"data row10 col17\" >0</td>\n",
              "            </tr>\n",
              "    </tbody></table>"
            ],
            "text/plain": [
              "<pandas.io.formats.style.Styler at 0x7fe5295bfa10>"
            ]
          },
          "metadata": {
            "tags": []
          },
          "execution_count": 10
        }
      ]
    },
    {
      "cell_type": "markdown",
      "metadata": {
        "id": "KVKIgAgHtLTV"
      },
      "source": [
        "**PIXEL SIMILARITY:**\n",
        "- I will get the average of pixel values for each groups of 3 and 7. I will create a tensor containing all the 3s stacked together. "
      ]
    },
    {
      "cell_type": "code",
      "metadata": {
        "id": "rYiw6pvOh9Q6",
        "colab": {
          "base_uri": "https://localhost:8080/"
        },
        "outputId": "91eff995-97ea-4640-84d7-f6403fc031de"
      },
      "source": [
        "#@ GETTING TENSOR VALUES: \n",
        "seven_tensors = [tensor(Image.open(o)) for o in sevens]         # Initializing Tensor Values. \n",
        "three_tensors = [tensor(Image.open(o)) for o in threes]         # Initializing Tensor Values. \n",
        "len(three_tensors), len(seven_tensors)                          # Inspecting Number of Tensors. "
      ],
      "execution_count": 11,
      "outputs": [
        {
          "output_type": "execute_result",
          "data": {
            "text/plain": [
              "(6131, 6265)"
            ]
          },
          "metadata": {
            "tags": []
          },
          "execution_count": 11
        }
      ]
    },
    {
      "cell_type": "code",
      "metadata": {
        "colab": {
          "base_uri": "https://localhost:8080/",
          "height": 85
        },
        "id": "qXp6R6JOvUu4",
        "outputId": "4ef09a12-77bf-4e7c-c3b1-8c7d7365c294"
      },
      "source": [
        "#@ INSPECTING A IMAGE: \n",
        "show_image(three_tensors[1]);                                   # Inspecting a Image. "
      ],
      "execution_count": 12,
      "outputs": [
        {
          "output_type": "display_data",
          "data": {
            "image/png": "[encoded data removed]",
            "text/plain": [
              "<Figure size 72x72 with 1 Axes>"
            ]
          },
          "metadata": {
            "tags": [],
            "needs_background": "light"
          }
        }
      ]
    },
    {
      "cell_type": "code",
      "metadata": {
        "colab": {
          "base_uri": "https://localhost:8080/"
        },
        "id": "MdAKG0GrwFUq",
        "outputId": "1c488ecf-1193-4e6a-99be-1c72fd0058f3"
      },
      "source": [
        "#@ GETTING STACKED TENSORS OF FLOATS: \n",
        "stacked_sevens = torch.stack(seven_tensors).float() / 255       # Getting Stacked Tensors. \n",
        "stacked_threes = torch.stack(three_tensors).float() / 255       # Getting Stacked Tesnors. \n",
        "stacked_threes.shape                                            # Inspecting Shape of Stack. "
      ],
      "execution_count": 13,
      "outputs": [
        {
          "output_type": "execute_result",
          "data": {
            "text/plain": [
              "torch.Size([6131, 28, 28])"
            ]
          },
          "metadata": {
            "tags": []
          },
          "execution_count": 13
        }
      ]
    },
    {
      "cell_type": "code",
      "metadata": {
        "colab": {
          "base_uri": "https://localhost:8080/"
        },
        "id": "cLQmZ9XyzI3d",
        "outputId": "b668062b-86af-4a5a-b124-fecf8b55dcc9"
      },
      "source": [
        "#@ RANK OF TENSORS: \n",
        "len(stacked_threes.shape)                                       # Getting Rank of Tensor. "
      ],
      "execution_count": 14,
      "outputs": [
        {
          "output_type": "execute_result",
          "data": {
            "text/plain": [
              "3"
            ]
          },
          "metadata": {
            "tags": []
          },
          "execution_count": 14
        }
      ]
    },
    {
      "cell_type": "code",
      "metadata": {
        "id": "YeDlvw9O0N5J"
      },
      "source": [
        ""
      ],
      "execution_count": null,
      "outputs": []
    }
  ]
}