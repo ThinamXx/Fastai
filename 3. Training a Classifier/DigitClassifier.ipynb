{
  "nbformat": 4,
  "nbformat_minor": 0,
  "metadata": {
    "colab": {
      "name": "DigitClassifier.ipynb",
      "provenance": [],
      "collapsed_sections": [
        "fAEvXKQVHG9w",
        "KVKIgAgHtLTV",
        "dnToihvqBoxf",
        "RzSczH8Xa1JQ"
      ]
    },
    "kernelspec": {
      "name": "python3",
      "display_name": "Python 3"
    },
    "language_info": {
      "name": "python"
    },
    "accelerator": "GPU"
  },
  "cells": [
    {
      "cell_type": "markdown",
      "metadata": {
        "id": "Z_bCNOrXFTlC"
      },
      "source": [
        "### **INITIALIZATION:**\n",
        "- I use these three lines of code on top of my each notebooks because it will help to prevent any problems while reloading the same project. And the third line of code helps to make visualization within the notebook."
      ]
    },
    {
      "cell_type": "code",
      "metadata": {
        "id": "bQw79PhZCcDf"
      },
      "source": [
        "#@ INITIALIZATION: \n",
        "%reload_ext autoreload\n",
        "%autoreload 2\n",
        "%matplotlib inline"
      ],
      "execution_count": 1,
      "outputs": []
    },
    {
      "cell_type": "markdown",
      "metadata": {
        "id": "kmvopyXdFhIr"
      },
      "source": [
        "**DOWNLOADING LIBRARIES AND DEPENDENCIES:**\n",
        "- I have downloaded all the libraries and dependencies required for the project in one particular cell."
      ]
    },
    {
      "cell_type": "code",
      "metadata": {
        "id": "iNZFQ-frFe4n"
      },
      "source": [
        "#@ INSTALLING DEPENDENCIES: UNCOMMENT BELOW: \n",
        "# !pip install -Uqq fastbook\n",
        "# import fastbook\n",
        "# fastbook.setup_book()"
      ],
      "execution_count": 3,
      "outputs": []
    },
    {
      "cell_type": "code",
      "metadata": {
        "id": "fiwOKUn-Fwsn"
      },
      "source": [
        "#@ DOWNLOADING LIBRARIES AND DEPENDENCIES: \n",
        "from fastai.vision.all import *                         # Getting all the Libraries. \n",
        "from fastbook import *                                  # Getting all the Libraries. \n",
        "matplotlib.rc(\"image\", cmap=\"Greys\")                    # Initializing Dependencies. "
      ],
      "execution_count": 4,
      "outputs": []
    },
    {
      "cell_type": "markdown",
      "metadata": {
        "id": "fAEvXKQVHG9w"
      },
      "source": [
        "### **GETTING THE DATA:**\n",
        "- I will download a sample of **MNIST**. \n"
      ]
    },
    {
      "cell_type": "code",
      "metadata": {
        "colab": {
          "base_uri": "https://localhost:8080/",
          "height": 34
        },
        "id": "iYv08cn-Gi40",
        "outputId": "648769b9-4ebe-426c-de23-1f7708dcdf1a"
      },
      "source": [
        "#@ GETTING THE DATA: \n",
        "PATH = untar_data(URLs.MNIST_SAMPLE)                    # Path to the Dataset. \n",
        "PATH.ls()                                               # Inspecting Items. "
      ],
      "execution_count": 5,
      "outputs": [
        {
          "output_type": "display_data",
          "data": {
            "text/html": [
              ""
            ],
            "text/plain": [
              "<IPython.core.display.HTML object>"
            ]
          },
          "metadata": {
            "tags": []
          }
        },
        {
          "output_type": "execute_result",
          "data": {
            "text/plain": [
              "(#3) [Path('/root/.fastai/data/mnist_sample/valid'),Path('/root/.fastai/data/mnist_sample/labels.csv'),Path('/root/.fastai/data/mnist_sample/train')]"
            ]
          },
          "metadata": {
            "tags": []
          },
          "execution_count": 5
        }
      ]
    },
    {
      "cell_type": "code",
      "metadata": {
        "colab": {
          "base_uri": "https://localhost:8080/"
        },
        "id": "PXScuAwFIVG5",
        "outputId": "3a0cb354-fdaf-473c-932c-ed7e3fd157f1"
      },
      "source": [
        "#@ INSPECTING THE TRAINING SET:  \n",
        "(PATH/\"train\").ls()                                     # Inspecting Items. "
      ],
      "execution_count": 6,
      "outputs": [
        {
          "output_type": "execute_result",
          "data": {
            "text/plain": [
              "(#2) [Path('/root/.fastai/data/mnist_sample/train/3'),Path('/root/.fastai/data/mnist_sample/train/7')]"
            ]
          },
          "metadata": {
            "tags": []
          },
          "execution_count": 6
        }
      ]
    },
    {
      "cell_type": "code",
      "metadata": {
        "colab": {
          "base_uri": "https://localhost:8080/"
        },
        "id": "Raue0CXaKEdr",
        "outputId": "3bc561d5-ae75-4442-9a11-aab1cb14f74f"
      },
      "source": [
        "#@ INSPECTING THE FOLDERS: \n",
        "threes = (PATH/\"train\"/\"3\").ls().sorted()               # Getting Same Order of Items. \n",
        "sevens = (PATH/\"train\"/\"7\").ls().sorted()               # Getting Same Order of Items. \n",
        "threes                                                  # Inspecting Items. "
      ],
      "execution_count": 7,
      "outputs": [
        {
          "output_type": "execute_result",
          "data": {
            "text/plain": [
              "(#6131) [Path('/root/.fastai/data/mnist_sample/train/3/10.png'),Path('/root/.fastai/data/mnist_sample/train/3/10000.png'),Path('/root/.fastai/data/mnist_sample/train/3/10011.png'),Path('/root/.fastai/data/mnist_sample/train/3/10031.png'),Path('/root/.fastai/data/mnist_sample/train/3/10034.png'),Path('/root/.fastai/data/mnist_sample/train/3/10042.png'),Path('/root/.fastai/data/mnist_sample/train/3/10052.png'),Path('/root/.fastai/data/mnist_sample/train/3/1007.png'),Path('/root/.fastai/data/mnist_sample/train/3/10074.png'),Path('/root/.fastai/data/mnist_sample/train/3/10091.png')...]"
            ]
          },
          "metadata": {
            "tags": []
          },
          "execution_count": 7
        }
      ]
    },
    {
      "cell_type": "code",
      "metadata": {
        "colab": {
          "base_uri": "https://localhost:8080/",
          "height": 45
        },
        "id": "oC-NwV_fLL_K",
        "outputId": "4fd6b9a0-a89a-494b-ead7-4c84d67a6c9a"
      },
      "source": [
        "#@ INSPECTING IMAGE: \n",
        "im3_path = threes[1]                                    # Path to the Image. \n",
        "im3 = Image.open(im3_path)                              # Getting an Image. \n",
        "im3"
      ],
      "execution_count": 8,
      "outputs": [
        {
          "output_type": "execute_result",
          "data": {
            "image/png": "[encoded data removed]",
            "text/plain": [
              "<PIL.PngImagePlugin.PngImageFile image mode=L size=28x28 at 0x7FF804C1A910>"
            ]
          },
          "metadata": {
            "tags": []
          },
          "execution_count": 8
        }
      ]
    },
    {
      "cell_type": "code",
      "metadata": {
        "colab": {
          "base_uri": "https://localhost:8080/"
        },
        "id": "LWmzTD_1d6rQ",
        "outputId": "a0a11ca3-e58d-449b-8fd1-86887051f9da"
      },
      "source": [
        "#@ CONVERTING INTO ARRAY: \n",
        "array(im3)[4:10, 4:10]                                  # Getting Numpy Array. "
      ],
      "execution_count": 9,
      "outputs": [
        {
          "output_type": "execute_result",
          "data": {
            "text/plain": [
              "array([[  0,   0,   0,   0,   0,   0],\n",
              "       [  0,   0,   0,   0,   0,  29],\n",
              "       [  0,   0,   0,  48, 166, 224],\n",
              "       [  0,  93, 244, 249, 253, 187],\n",
              "       [  0, 107, 253, 253, 230,  48],\n",
              "       [  0,   3,  20,  20,  15,   0]], dtype=uint8)"
            ]
          },
          "metadata": {
            "tags": []
          },
          "execution_count": 9
        }
      ]
    },
    {
      "cell_type": "code",
      "metadata": {
        "colab": {
          "base_uri": "https://localhost:8080/"
        },
        "id": "C_jzwfZUfCPE",
        "outputId": "0e6a38a5-0424-4e89-db3c-f0649e11ef38"
      },
      "source": [
        "#@ CONVERTING INTO ARRAY: \n",
        "tensor(im3)[4:10, 4:10]                                 # Getting a Tensor. "
      ],
      "execution_count": 10,
      "outputs": [
        {
          "output_type": "execute_result",
          "data": {
            "text/plain": [
              "tensor([[  0,   0,   0,   0,   0,   0],\n",
              "        [  0,   0,   0,   0,   0,  29],\n",
              "        [  0,   0,   0,  48, 166, 224],\n",
              "        [  0,  93, 244, 249, 253, 187],\n",
              "        [  0, 107, 253, 253, 230,  48],\n",
              "        [  0,   3,  20,  20,  15,   0]], dtype=torch.uint8)"
            ]
          },
          "metadata": {
            "tags": []
          },
          "execution_count": 10
        }
      ]
    },
    {
      "cell_type": "code",
      "metadata": {
        "colab": {
          "base_uri": "https://localhost:8080/",
          "height": 271
        },
        "id": "yvtonh1cgPKc",
        "outputId": "06f2c754-9025-4169-ba0f-6f5469a59c3d"
      },
      "source": [
        "#@ INSPECTING PIXELS: \n",
        "im3_t = tensor(im3)                                     # Getting a Tensor. \n",
        "df = pd.DataFrame(im3_t[4:15, 4:22])                    # Creating a DataFrame. \n",
        "df.style.set_properties(**{\"font-size\":\"6pt\"})\\\n",
        "        .background_gradient(\"Greys\")                   # Inspecting the Image. "
      ],
      "execution_count": 11,
      "outputs": [
        {
          "output_type": "execute_result",
          "data": {
            "text/html": [
              "<style  type=\"text/css\" >\n",
              "#T_4d178c5c_dba3_11eb_992a_0242ac1c0002row0_col0,#T_4d178c5c_dba3_11eb_992a_0242ac1c0002row0_col1,#T_4d178c5c_dba3_11eb_992a_0242ac1c0002row0_col2,#T_4d178c5c_dba3_11eb_992a_0242ac1c0002row0_col3,#T_4d178c5c_dba3_11eb_992a_0242ac1c0002row0_col4,#T_4d178c5c_dba3_11eb_992a_0242ac1c0002row0_col5,#T_4d178c5c_dba3_11eb_992a_0242ac1c0002row0_col6,#T_4d178c5c_dba3_11eb_992a_0242ac1c0002row0_col7,#T_4d178c5c_dba3_11eb_992a_0242ac1c0002row0_col8,#T_4d178c5c_dba3_11eb_992a_0242ac1c0002row0_col9,#T_4d178c5c_dba3_11eb_992a_0242ac1c0002row0_col10,#T_4d178c5c_dba3_11eb_992a_0242ac1c0002row0_col11,#T_4d178c5c_dba3_11eb_992a_0242ac1c0002row0_col12,#T_4d178c5c_dba3_11eb_992a_0242ac1c0002row0_col13,#T_4d178c5c_dba3_11eb_992a_0242ac1c0002row0_col14,#T_4d178c5c_dba3_11eb_992a_0242ac1c0002row0_col15,#T_4d178c5c_dba3_11eb_992a_0242ac1c0002row0_col16,#T_4d178c5c_dba3_11eb_992a_0242ac1c0002row0_col17,#T_4d178c5c_dba3_11eb_992a_0242ac1c0002row1_col0,#T_4d178c5c_dba3_11eb_992a_0242ac1c0002row1_col1,#T_4d178c5c_dba3_11eb_992a_0242ac1c0002row1_col2,#T_4d178c5c_dba3_11eb_992a_0242ac1c0002row1_col3,#T_4d178c5c_dba3_11eb_992a_0242ac1c0002row1_col4,#T_4d178c5c_dba3_11eb_992a_0242ac1c0002row1_col15,#T_4d178c5c_dba3_11eb_992a_0242ac1c0002row1_col16,#T_4d178c5c_dba3_11eb_992a_0242ac1c0002row1_col17,#T_4d178c5c_dba3_11eb_992a_0242ac1c0002row2_col0,#T_4d178c5c_dba3_11eb_992a_0242ac1c0002row2_col1,#T_4d178c5c_dba3_11eb_992a_0242ac1c0002row2_col2,#T_4d178c5c_dba3_11eb_992a_0242ac1c0002row2_col15,#T_4d178c5c_dba3_11eb_992a_0242ac1c0002row2_col16,#T_4d178c5c_dba3_11eb_992a_0242ac1c0002row2_col17,#T_4d178c5c_dba3_11eb_992a_0242ac1c0002row3_col0,#T_4d178c5c_dba3_11eb_992a_0242ac1c0002row3_col15,#T_4d178c5c_dba3_11eb_992a_0242ac1c0002row3_col16,#T_4d178c5c_dba3_11eb_992a_0242ac1c0002row3_col17,#T_4d178c5c_dba3_11eb_992a_0242ac1c0002row4_col0,#T_4d178c5c_dba3_11eb_992a_0242ac1c0002row4_col6,#T_4d178c5c_dba3_11eb_992a_0242ac1c0002row4_col7,#T_4d178c5c_dba3_11eb_992a_0242ac1c0002row4_col8,#T_4d178c5c_dba3_11eb_992a_0242ac1c0002row4_col9,#T_4d178c5c_dba3_11eb_992a_0242ac1c0002row4_col10,#T_4d178c5c_dba3_11eb_992a_0242ac1c0002row4_col15,#T_4d178c5c_dba3_11eb_992a_0242ac1c0002row4_col16,#T_4d178c5c_dba3_11eb_992a_0242ac1c0002row4_col17,#T_4d178c5c_dba3_11eb_992a_0242ac1c0002row5_col0,#T_4d178c5c_dba3_11eb_992a_0242ac1c0002row5_col5,#T_4d178c5c_dba3_11eb_992a_0242ac1c0002row5_col6,#T_4d178c5c_dba3_11eb_992a_0242ac1c0002row5_col7,#T_4d178c5c_dba3_11eb_992a_0242ac1c0002row5_col8,#T_4d178c5c_dba3_11eb_992a_0242ac1c0002row5_col9,#T_4d178c5c_dba3_11eb_992a_0242ac1c0002row5_col15,#T_4d178c5c_dba3_11eb_992a_0242ac1c0002row5_col16,#T_4d178c5c_dba3_11eb_992a_0242ac1c0002row5_col17,#T_4d178c5c_dba3_11eb_992a_0242ac1c0002row6_col0,#T_4d178c5c_dba3_11eb_992a_0242ac1c0002row6_col1,#T_4d178c5c_dba3_11eb_992a_0242ac1c0002row6_col2,#T_4d178c5c_dba3_11eb_992a_0242ac1c0002row6_col3,#T_4d178c5c_dba3_11eb_992a_0242ac1c0002row6_col4,#T_4d178c5c_dba3_11eb_992a_0242ac1c0002row6_col5,#T_4d178c5c_dba3_11eb_992a_0242ac1c0002row6_col6,#T_4d178c5c_dba3_11eb_992a_0242ac1c0002row6_col7,#T_4d178c5c_dba3_11eb_992a_0242ac1c0002row6_col8,#T_4d178c5c_dba3_11eb_992a_0242ac1c0002row6_col9,#T_4d178c5c_dba3_11eb_992a_0242ac1c0002row6_col14,#T_4d178c5c_dba3_11eb_992a_0242ac1c0002row6_col15,#T_4d178c5c_dba3_11eb_992a_0242ac1c0002row6_col16,#T_4d178c5c_dba3_11eb_992a_0242ac1c0002row6_col17,#T_4d178c5c_dba3_11eb_992a_0242ac1c0002row7_col0,#T_4d178c5c_dba3_11eb_992a_0242ac1c0002row7_col1,#T_4d178c5c_dba3_11eb_992a_0242ac1c0002row7_col2,#T_4d178c5c_dba3_11eb_992a_0242ac1c0002row7_col3,#T_4d178c5c_dba3_11eb_992a_0242ac1c0002row7_col4,#T_4d178c5c_dba3_11eb_992a_0242ac1c0002row7_col5,#T_4d178c5c_dba3_11eb_992a_0242ac1c0002row7_col6,#T_4d178c5c_dba3_11eb_992a_0242ac1c0002row7_col13,#T_4d178c5c_dba3_11eb_992a_0242ac1c0002row7_col14,#T_4d178c5c_dba3_11eb_992a_0242ac1c0002row7_col15,#T_4d178c5c_dba3_11eb_992a_0242ac1c0002row7_col16,#T_4d178c5c_dba3_11eb_992a_0242ac1c0002row7_col17,#T_4d178c5c_dba3_11eb_992a_0242ac1c0002row8_col0,#T_4d178c5c_dba3_11eb_992a_0242ac1c0002row8_col1,#T_4d178c5c_dba3_11eb_992a_0242ac1c0002row8_col2,#T_4d178c5c_dba3_11eb_992a_0242ac1c0002row8_col3,#T_4d178c5c_dba3_11eb_992a_0242ac1c0002row8_col4,#T_4d178c5c_dba3_11eb_992a_0242ac1c0002row8_col13,#T_4d178c5c_dba3_11eb_992a_0242ac1c0002row8_col14,#T_4d178c5c_dba3_11eb_992a_0242ac1c0002row8_col15,#T_4d178c5c_dba3_11eb_992a_0242ac1c0002row8_col16,#T_4d178c5c_dba3_11eb_992a_0242ac1c0002row8_col17,#T_4d178c5c_dba3_11eb_992a_0242ac1c0002row9_col0,#T_4d178c5c_dba3_11eb_992a_0242ac1c0002row9_col1,#T_4d178c5c_dba3_11eb_992a_0242ac1c0002row9_col2,#T_4d178c5c_dba3_11eb_992a_0242ac1c0002row9_col3,#T_4d178c5c_dba3_11eb_992a_0242ac1c0002row9_col4,#T_4d178c5c_dba3_11eb_992a_0242ac1c0002row9_col16,#T_4d178c5c_dba3_11eb_992a_0242ac1c0002row9_col17,#T_4d178c5c_dba3_11eb_992a_0242ac1c0002row10_col0,#T_4d178c5c_dba3_11eb_992a_0242ac1c0002row10_col1,#T_4d178c5c_dba3_11eb_992a_0242ac1c0002row10_col2,#T_4d178c5c_dba3_11eb_992a_0242ac1c0002row10_col3,#T_4d178c5c_dba3_11eb_992a_0242ac1c0002row10_col4,#T_4d178c5c_dba3_11eb_992a_0242ac1c0002row10_col5,#T_4d178c5c_dba3_11eb_992a_0242ac1c0002row10_col6,#T_4d178c5c_dba3_11eb_992a_0242ac1c0002row10_col17{\n",
              "            font-size:  6pt;\n",
              "            background-color:  #ffffff;\n",
              "            color:  #000000;\n",
              "        }#T_4d178c5c_dba3_11eb_992a_0242ac1c0002row1_col5{\n",
              "            font-size:  6pt;\n",
              "            background-color:  #efefef;\n",
              "            color:  #000000;\n",
              "        }#T_4d178c5c_dba3_11eb_992a_0242ac1c0002row1_col6,#T_4d178c5c_dba3_11eb_992a_0242ac1c0002row1_col13{\n",
              "            font-size:  6pt;\n",
              "            background-color:  #7c7c7c;\n",
              "            color:  #000000;\n",
              "        }#T_4d178c5c_dba3_11eb_992a_0242ac1c0002row1_col7{\n",
              "            font-size:  6pt;\n",
              "            background-color:  #4a4a4a;\n",
              "            color:  #f1f1f1;\n",
              "        }#T_4d178c5c_dba3_11eb_992a_0242ac1c0002row1_col8,#T_4d178c5c_dba3_11eb_992a_0242ac1c0002row1_col9,#T_4d178c5c_dba3_11eb_992a_0242ac1c0002row1_col10,#T_4d178c5c_dba3_11eb_992a_0242ac1c0002row2_col5,#T_4d178c5c_dba3_11eb_992a_0242ac1c0002row2_col6,#T_4d178c5c_dba3_11eb_992a_0242ac1c0002row2_col7,#T_4d178c5c_dba3_11eb_992a_0242ac1c0002row2_col11,#T_4d178c5c_dba3_11eb_992a_0242ac1c0002row2_col12,#T_4d178c5c_dba3_11eb_992a_0242ac1c0002row2_col13,#T_4d178c5c_dba3_11eb_992a_0242ac1c0002row3_col4,#T_4d178c5c_dba3_11eb_992a_0242ac1c0002row3_col12,#T_4d178c5c_dba3_11eb_992a_0242ac1c0002row3_col13,#T_4d178c5c_dba3_11eb_992a_0242ac1c0002row4_col1,#T_4d178c5c_dba3_11eb_992a_0242ac1c0002row4_col2,#T_4d178c5c_dba3_11eb_992a_0242ac1c0002row4_col3,#T_4d178c5c_dba3_11eb_992a_0242ac1c0002row4_col12,#T_4d178c5c_dba3_11eb_992a_0242ac1c0002row4_col13,#T_4d178c5c_dba3_11eb_992a_0242ac1c0002row5_col12,#T_4d178c5c_dba3_11eb_992a_0242ac1c0002row6_col11,#T_4d178c5c_dba3_11eb_992a_0242ac1c0002row9_col11,#T_4d178c5c_dba3_11eb_992a_0242ac1c0002row10_col11,#T_4d178c5c_dba3_11eb_992a_0242ac1c0002row10_col12,#T_4d178c5c_dba3_11eb_992a_0242ac1c0002row10_col13,#T_4d178c5c_dba3_11eb_992a_0242ac1c0002row10_col14,#T_4d178c5c_dba3_11eb_992a_0242ac1c0002row10_col15,#T_4d178c5c_dba3_11eb_992a_0242ac1c0002row10_col16{\n",
              "            font-size:  6pt;\n",
              "            background-color:  #000000;\n",
              "            color:  #f1f1f1;\n",
              "        }#T_4d178c5c_dba3_11eb_992a_0242ac1c0002row1_col11{\n",
              "            font-size:  6pt;\n",
              "            background-color:  #606060;\n",
              "            color:  #f1f1f1;\n",
              "        }#T_4d178c5c_dba3_11eb_992a_0242ac1c0002row1_col12{\n",
              "            font-size:  6pt;\n",
              "            background-color:  #4d4d4d;\n",
              "            color:  #f1f1f1;\n",
              "        }#T_4d178c5c_dba3_11eb_992a_0242ac1c0002row1_col14{\n",
              "            font-size:  6pt;\n",
              "            background-color:  #bbbbbb;\n",
              "            color:  #000000;\n",
              "        }#T_4d178c5c_dba3_11eb_992a_0242ac1c0002row2_col3{\n",
              "            font-size:  6pt;\n",
              "            background-color:  #e4e4e4;\n",
              "            color:  #000000;\n",
              "        }#T_4d178c5c_dba3_11eb_992a_0242ac1c0002row2_col4,#T_4d178c5c_dba3_11eb_992a_0242ac1c0002row8_col6{\n",
              "            font-size:  6pt;\n",
              "            background-color:  #6b6b6b;\n",
              "            color:  #000000;\n",
              "        }#T_4d178c5c_dba3_11eb_992a_0242ac1c0002row2_col8,#T_4d178c5c_dba3_11eb_992a_0242ac1c0002row2_col14,#T_4d178c5c_dba3_11eb_992a_0242ac1c0002row3_col14{\n",
              "            font-size:  6pt;\n",
              "            background-color:  #171717;\n",
              "            color:  #f1f1f1;\n",
              "        }#T_4d178c5c_dba3_11eb_992a_0242ac1c0002row2_col9,#T_4d178c5c_dba3_11eb_992a_0242ac1c0002row3_col11{\n",
              "            font-size:  6pt;\n",
              "            background-color:  #4b4b4b;\n",
              "            color:  #f1f1f1;\n",
              "        }#T_4d178c5c_dba3_11eb_992a_0242ac1c0002row2_col10,#T_4d178c5c_dba3_11eb_992a_0242ac1c0002row7_col10,#T_4d178c5c_dba3_11eb_992a_0242ac1c0002row8_col8,#T_4d178c5c_dba3_11eb_992a_0242ac1c0002row8_col10,#T_4d178c5c_dba3_11eb_992a_0242ac1c0002row9_col8,#T_4d178c5c_dba3_11eb_992a_0242ac1c0002row9_col10{\n",
              "            font-size:  6pt;\n",
              "            background-color:  #010101;\n",
              "            color:  #f1f1f1;\n",
              "        }#T_4d178c5c_dba3_11eb_992a_0242ac1c0002row3_col1{\n",
              "            font-size:  6pt;\n",
              "            background-color:  #272727;\n",
              "            color:  #f1f1f1;\n",
              "        }#T_4d178c5c_dba3_11eb_992a_0242ac1c0002row3_col2{\n",
              "            font-size:  6pt;\n",
              "            background-color:  #0a0a0a;\n",
              "            color:  #f1f1f1;\n",
              "        }#T_4d178c5c_dba3_11eb_992a_0242ac1c0002row3_col3{\n",
              "            font-size:  6pt;\n",
              "            background-color:  #050505;\n",
              "            color:  #f1f1f1;\n",
              "        }#T_4d178c5c_dba3_11eb_992a_0242ac1c0002row3_col5{\n",
              "            font-size:  6pt;\n",
              "            background-color:  #333333;\n",
              "            color:  #f1f1f1;\n",
              "        }#T_4d178c5c_dba3_11eb_992a_0242ac1c0002row3_col6{\n",
              "            font-size:  6pt;\n",
              "            background-color:  #e6e6e6;\n",
              "            color:  #000000;\n",
              "        }#T_4d178c5c_dba3_11eb_992a_0242ac1c0002row3_col7,#T_4d178c5c_dba3_11eb_992a_0242ac1c0002row3_col10{\n",
              "            font-size:  6pt;\n",
              "            background-color:  #fafafa;\n",
              "            color:  #000000;\n",
              "        }#T_4d178c5c_dba3_11eb_992a_0242ac1c0002row3_col8{\n",
              "            font-size:  6pt;\n",
              "            background-color:  #fbfbfb;\n",
              "            color:  #000000;\n",
              "        }#T_4d178c5c_dba3_11eb_992a_0242ac1c0002row3_col9{\n",
              "            font-size:  6pt;\n",
              "            background-color:  #fdfdfd;\n",
              "            color:  #000000;\n",
              "        }#T_4d178c5c_dba3_11eb_992a_0242ac1c0002row4_col4{\n",
              "            font-size:  6pt;\n",
              "            background-color:  #1b1b1b;\n",
              "            color:  #f1f1f1;\n",
              "        }#T_4d178c5c_dba3_11eb_992a_0242ac1c0002row4_col5{\n",
              "            font-size:  6pt;\n",
              "            background-color:  #e0e0e0;\n",
              "            color:  #000000;\n",
              "        }#T_4d178c5c_dba3_11eb_992a_0242ac1c0002row4_col11{\n",
              "            font-size:  6pt;\n",
              "            background-color:  #4e4e4e;\n",
              "            color:  #f1f1f1;\n",
              "        }#T_4d178c5c_dba3_11eb_992a_0242ac1c0002row4_col14{\n",
              "            font-size:  6pt;\n",
              "            background-color:  #767676;\n",
              "            color:  #000000;\n",
              "        }#T_4d178c5c_dba3_11eb_992a_0242ac1c0002row5_col1{\n",
              "            font-size:  6pt;\n",
              "            background-color:  #fcfcfc;\n",
              "            color:  #000000;\n",
              "        }#T_4d178c5c_dba3_11eb_992a_0242ac1c0002row5_col2,#T_4d178c5c_dba3_11eb_992a_0242ac1c0002row5_col3{\n",
              "            font-size:  6pt;\n",
              "            background-color:  #f6f6f6;\n",
              "            color:  #000000;\n",
              "        }#T_4d178c5c_dba3_11eb_992a_0242ac1c0002row5_col4,#T_4d178c5c_dba3_11eb_992a_0242ac1c0002row7_col7{\n",
              "            font-size:  6pt;\n",
              "            background-color:  #f8f8f8;\n",
              "            color:  #000000;\n",
              "        }#T_4d178c5c_dba3_11eb_992a_0242ac1c0002row5_col10,#T_4d178c5c_dba3_11eb_992a_0242ac1c0002row10_col7{\n",
              "            font-size:  6pt;\n",
              "            background-color:  #e8e8e8;\n",
              "            color:  #000000;\n",
              "        }#T_4d178c5c_dba3_11eb_992a_0242ac1c0002row5_col11{\n",
              "            font-size:  6pt;\n",
              "            background-color:  #222222;\n",
              "            color:  #f1f1f1;\n",
              "        }#T_4d178c5c_dba3_11eb_992a_0242ac1c0002row5_col13,#T_4d178c5c_dba3_11eb_992a_0242ac1c0002row6_col12{\n",
              "            font-size:  6pt;\n",
              "            background-color:  #090909;\n",
              "            color:  #f1f1f1;\n",
              "        }#T_4d178c5c_dba3_11eb_992a_0242ac1c0002row5_col14{\n",
              "            font-size:  6pt;\n",
              "            background-color:  #d0d0d0;\n",
              "            color:  #000000;\n",
              "        }#T_4d178c5c_dba3_11eb_992a_0242ac1c0002row6_col10,#T_4d178c5c_dba3_11eb_992a_0242ac1c0002row7_col11,#T_4d178c5c_dba3_11eb_992a_0242ac1c0002row9_col6{\n",
              "            font-size:  6pt;\n",
              "            background-color:  #060606;\n",
              "            color:  #f1f1f1;\n",
              "        }#T_4d178c5c_dba3_11eb_992a_0242ac1c0002row6_col13{\n",
              "            font-size:  6pt;\n",
              "            background-color:  #979797;\n",
              "            color:  #000000;\n",
              "        }#T_4d178c5c_dba3_11eb_992a_0242ac1c0002row7_col8{\n",
              "            font-size:  6pt;\n",
              "            background-color:  #b6b6b6;\n",
              "            color:  #000000;\n",
              "        }#T_4d178c5c_dba3_11eb_992a_0242ac1c0002row7_col9{\n",
              "            font-size:  6pt;\n",
              "            background-color:  #252525;\n",
              "            color:  #f1f1f1;\n",
              "        }#T_4d178c5c_dba3_11eb_992a_0242ac1c0002row7_col12{\n",
              "            font-size:  6pt;\n",
              "            background-color:  #999999;\n",
              "            color:  #000000;\n",
              "        }#T_4d178c5c_dba3_11eb_992a_0242ac1c0002row8_col5{\n",
              "            font-size:  6pt;\n",
              "            background-color:  #f9f9f9;\n",
              "            color:  #000000;\n",
              "        }#T_4d178c5c_dba3_11eb_992a_0242ac1c0002row8_col7{\n",
              "            font-size:  6pt;\n",
              "            background-color:  #101010;\n",
              "            color:  #f1f1f1;\n",
              "        }#T_4d178c5c_dba3_11eb_992a_0242ac1c0002row8_col9,#T_4d178c5c_dba3_11eb_992a_0242ac1c0002row9_col9{\n",
              "            font-size:  6pt;\n",
              "            background-color:  #020202;\n",
              "            color:  #f1f1f1;\n",
              "        }#T_4d178c5c_dba3_11eb_992a_0242ac1c0002row8_col11{\n",
              "            font-size:  6pt;\n",
              "            background-color:  #545454;\n",
              "            color:  #f1f1f1;\n",
              "        }#T_4d178c5c_dba3_11eb_992a_0242ac1c0002row8_col12{\n",
              "            font-size:  6pt;\n",
              "            background-color:  #f1f1f1;\n",
              "            color:  #000000;\n",
              "        }#T_4d178c5c_dba3_11eb_992a_0242ac1c0002row9_col5{\n",
              "            font-size:  6pt;\n",
              "            background-color:  #f7f7f7;\n",
              "            color:  #000000;\n",
              "        }#T_4d178c5c_dba3_11eb_992a_0242ac1c0002row9_col7{\n",
              "            font-size:  6pt;\n",
              "            background-color:  #030303;\n",
              "            color:  #f1f1f1;\n",
              "        }#T_4d178c5c_dba3_11eb_992a_0242ac1c0002row9_col12{\n",
              "            font-size:  6pt;\n",
              "            background-color:  #181818;\n",
              "            color:  #f1f1f1;\n",
              "        }#T_4d178c5c_dba3_11eb_992a_0242ac1c0002row9_col13{\n",
              "            font-size:  6pt;\n",
              "            background-color:  #303030;\n",
              "            color:  #f1f1f1;\n",
              "        }#T_4d178c5c_dba3_11eb_992a_0242ac1c0002row9_col14{\n",
              "            font-size:  6pt;\n",
              "            background-color:  #a9a9a9;\n",
              "            color:  #000000;\n",
              "        }#T_4d178c5c_dba3_11eb_992a_0242ac1c0002row9_col15{\n",
              "            font-size:  6pt;\n",
              "            background-color:  #fefefe;\n",
              "            color:  #000000;\n",
              "        }#T_4d178c5c_dba3_11eb_992a_0242ac1c0002row10_col8,#T_4d178c5c_dba3_11eb_992a_0242ac1c0002row10_col9{\n",
              "            font-size:  6pt;\n",
              "            background-color:  #bababa;\n",
              "            color:  #000000;\n",
              "        }#T_4d178c5c_dba3_11eb_992a_0242ac1c0002row10_col10{\n",
              "            font-size:  6pt;\n",
              "            background-color:  #393939;\n",
              "            color:  #f1f1f1;\n",
              "        }</style><table id=\"T_4d178c5c_dba3_11eb_992a_0242ac1c0002\" ><thead>    <tr>        <th class=\"blank level0\" ></th>        <th class=\"col_heading level0 col0\" >0</th>        <th class=\"col_heading level0 col1\" >1</th>        <th class=\"col_heading level0 col2\" >2</th>        <th class=\"col_heading level0 col3\" >3</th>        <th class=\"col_heading level0 col4\" >4</th>        <th class=\"col_heading level0 col5\" >5</th>        <th class=\"col_heading level0 col6\" >6</th>        <th class=\"col_heading level0 col7\" >7</th>        <th class=\"col_heading level0 col8\" >8</th>        <th class=\"col_heading level0 col9\" >9</th>        <th class=\"col_heading level0 col10\" >10</th>        <th class=\"col_heading level0 col11\" >11</th>        <th class=\"col_heading level0 col12\" >12</th>        <th class=\"col_heading level0 col13\" >13</th>        <th class=\"col_heading level0 col14\" >14</th>        <th class=\"col_heading level0 col15\" >15</th>        <th class=\"col_heading level0 col16\" >16</th>        <th class=\"col_heading level0 col17\" >17</th>    </tr></thead><tbody>\n",
              "                <tr>\n",
              "                        <th id=\"T_4d178c5c_dba3_11eb_992a_0242ac1c0002level0_row0\" class=\"row_heading level0 row0\" >0</th>\n",
              "                        <td id=\"T_4d178c5c_dba3_11eb_992a_0242ac1c0002row0_col0\" class=\"data row0 col0\" >0</td>\n",
              "                        <td id=\"T_4d178c5c_dba3_11eb_992a_0242ac1c0002row0_col1\" class=\"data row0 col1\" >0</td>\n",
              "                        <td id=\"T_4d178c5c_dba3_11eb_992a_0242ac1c0002row0_col2\" class=\"data row0 col2\" >0</td>\n",
              "                        <td id=\"T_4d178c5c_dba3_11eb_992a_0242ac1c0002row0_col3\" class=\"data row0 col3\" >0</td>\n",
              "                        <td id=\"T_4d178c5c_dba3_11eb_992a_0242ac1c0002row0_col4\" class=\"data row0 col4\" >0</td>\n",
              "                        <td id=\"T_4d178c5c_dba3_11eb_992a_0242ac1c0002row0_col5\" class=\"data row0 col5\" >0</td>\n",
              "                        <td id=\"T_4d178c5c_dba3_11eb_992a_0242ac1c0002row0_col6\" class=\"data row0 col6\" >0</td>\n",
              "                        <td id=\"T_4d178c5c_dba3_11eb_992a_0242ac1c0002row0_col7\" class=\"data row0 col7\" >0</td>\n",
              "                        <td id=\"T_4d178c5c_dba3_11eb_992a_0242ac1c0002row0_col8\" class=\"data row0 col8\" >0</td>\n",
              "                        <td id=\"T_4d178c5c_dba3_11eb_992a_0242ac1c0002row0_col9\" class=\"data row0 col9\" >0</td>\n",
              "                        <td id=\"T_4d178c5c_dba3_11eb_992a_0242ac1c0002row0_col10\" class=\"data row0 col10\" >0</td>\n",
              "                        <td id=\"T_4d178c5c_dba3_11eb_992a_0242ac1c0002row0_col11\" class=\"data row0 col11\" >0</td>\n",
              "                        <td id=\"T_4d178c5c_dba3_11eb_992a_0242ac1c0002row0_col12\" class=\"data row0 col12\" >0</td>\n",
              "                        <td id=\"T_4d178c5c_dba3_11eb_992a_0242ac1c0002row0_col13\" class=\"data row0 col13\" >0</td>\n",
              "                        <td id=\"T_4d178c5c_dba3_11eb_992a_0242ac1c0002row0_col14\" class=\"data row0 col14\" >0</td>\n",
              "                        <td id=\"T_4d178c5c_dba3_11eb_992a_0242ac1c0002row0_col15\" class=\"data row0 col15\" >0</td>\n",
              "                        <td id=\"T_4d178c5c_dba3_11eb_992a_0242ac1c0002row0_col16\" class=\"data row0 col16\" >0</td>\n",
              "                        <td id=\"T_4d178c5c_dba3_11eb_992a_0242ac1c0002row0_col17\" class=\"data row0 col17\" >0</td>\n",
              "            </tr>\n",
              "            <tr>\n",
              "                        <th id=\"T_4d178c5c_dba3_11eb_992a_0242ac1c0002level0_row1\" class=\"row_heading level0 row1\" >1</th>\n",
              "                        <td id=\"T_4d178c5c_dba3_11eb_992a_0242ac1c0002row1_col0\" class=\"data row1 col0\" >0</td>\n",
              "                        <td id=\"T_4d178c5c_dba3_11eb_992a_0242ac1c0002row1_col1\" class=\"data row1 col1\" >0</td>\n",
              "                        <td id=\"T_4d178c5c_dba3_11eb_992a_0242ac1c0002row1_col2\" class=\"data row1 col2\" >0</td>\n",
              "                        <td id=\"T_4d178c5c_dba3_11eb_992a_0242ac1c0002row1_col3\" class=\"data row1 col3\" >0</td>\n",
              "                        <td id=\"T_4d178c5c_dba3_11eb_992a_0242ac1c0002row1_col4\" class=\"data row1 col4\" >0</td>\n",
              "                        <td id=\"T_4d178c5c_dba3_11eb_992a_0242ac1c0002row1_col5\" class=\"data row1 col5\" >29</td>\n",
              "                        <td id=\"T_4d178c5c_dba3_11eb_992a_0242ac1c0002row1_col6\" class=\"data row1 col6\" >150</td>\n",
              "                        <td id=\"T_4d178c5c_dba3_11eb_992a_0242ac1c0002row1_col7\" class=\"data row1 col7\" >195</td>\n",
              "                        <td id=\"T_4d178c5c_dba3_11eb_992a_0242ac1c0002row1_col8\" class=\"data row1 col8\" >254</td>\n",
              "                        <td id=\"T_4d178c5c_dba3_11eb_992a_0242ac1c0002row1_col9\" class=\"data row1 col9\" >255</td>\n",
              "                        <td id=\"T_4d178c5c_dba3_11eb_992a_0242ac1c0002row1_col10\" class=\"data row1 col10\" >254</td>\n",
              "                        <td id=\"T_4d178c5c_dba3_11eb_992a_0242ac1c0002row1_col11\" class=\"data row1 col11\" >176</td>\n",
              "                        <td id=\"T_4d178c5c_dba3_11eb_992a_0242ac1c0002row1_col12\" class=\"data row1 col12\" >193</td>\n",
              "                        <td id=\"T_4d178c5c_dba3_11eb_992a_0242ac1c0002row1_col13\" class=\"data row1 col13\" >150</td>\n",
              "                        <td id=\"T_4d178c5c_dba3_11eb_992a_0242ac1c0002row1_col14\" class=\"data row1 col14\" >96</td>\n",
              "                        <td id=\"T_4d178c5c_dba3_11eb_992a_0242ac1c0002row1_col15\" class=\"data row1 col15\" >0</td>\n",
              "                        <td id=\"T_4d178c5c_dba3_11eb_992a_0242ac1c0002row1_col16\" class=\"data row1 col16\" >0</td>\n",
              "                        <td id=\"T_4d178c5c_dba3_11eb_992a_0242ac1c0002row1_col17\" class=\"data row1 col17\" >0</td>\n",
              "            </tr>\n",
              "            <tr>\n",
              "                        <th id=\"T_4d178c5c_dba3_11eb_992a_0242ac1c0002level0_row2\" class=\"row_heading level0 row2\" >2</th>\n",
              "                        <td id=\"T_4d178c5c_dba3_11eb_992a_0242ac1c0002row2_col0\" class=\"data row2 col0\" >0</td>\n",
              "                        <td id=\"T_4d178c5c_dba3_11eb_992a_0242ac1c0002row2_col1\" class=\"data row2 col1\" >0</td>\n",
              "                        <td id=\"T_4d178c5c_dba3_11eb_992a_0242ac1c0002row2_col2\" class=\"data row2 col2\" >0</td>\n",
              "                        <td id=\"T_4d178c5c_dba3_11eb_992a_0242ac1c0002row2_col3\" class=\"data row2 col3\" >48</td>\n",
              "                        <td id=\"T_4d178c5c_dba3_11eb_992a_0242ac1c0002row2_col4\" class=\"data row2 col4\" >166</td>\n",
              "                        <td id=\"T_4d178c5c_dba3_11eb_992a_0242ac1c0002row2_col5\" class=\"data row2 col5\" >224</td>\n",
              "                        <td id=\"T_4d178c5c_dba3_11eb_992a_0242ac1c0002row2_col6\" class=\"data row2 col6\" >253</td>\n",
              "                        <td id=\"T_4d178c5c_dba3_11eb_992a_0242ac1c0002row2_col7\" class=\"data row2 col7\" >253</td>\n",
              "                        <td id=\"T_4d178c5c_dba3_11eb_992a_0242ac1c0002row2_col8\" class=\"data row2 col8\" >234</td>\n",
              "                        <td id=\"T_4d178c5c_dba3_11eb_992a_0242ac1c0002row2_col9\" class=\"data row2 col9\" >196</td>\n",
              "                        <td id=\"T_4d178c5c_dba3_11eb_992a_0242ac1c0002row2_col10\" class=\"data row2 col10\" >253</td>\n",
              "                        <td id=\"T_4d178c5c_dba3_11eb_992a_0242ac1c0002row2_col11\" class=\"data row2 col11\" >253</td>\n",
              "                        <td id=\"T_4d178c5c_dba3_11eb_992a_0242ac1c0002row2_col12\" class=\"data row2 col12\" >253</td>\n",
              "                        <td id=\"T_4d178c5c_dba3_11eb_992a_0242ac1c0002row2_col13\" class=\"data row2 col13\" >253</td>\n",
              "                        <td id=\"T_4d178c5c_dba3_11eb_992a_0242ac1c0002row2_col14\" class=\"data row2 col14\" >233</td>\n",
              "                        <td id=\"T_4d178c5c_dba3_11eb_992a_0242ac1c0002row2_col15\" class=\"data row2 col15\" >0</td>\n",
              "                        <td id=\"T_4d178c5c_dba3_11eb_992a_0242ac1c0002row2_col16\" class=\"data row2 col16\" >0</td>\n",
              "                        <td id=\"T_4d178c5c_dba3_11eb_992a_0242ac1c0002row2_col17\" class=\"data row2 col17\" >0</td>\n",
              "            </tr>\n",
              "            <tr>\n",
              "                        <th id=\"T_4d178c5c_dba3_11eb_992a_0242ac1c0002level0_row3\" class=\"row_heading level0 row3\" >3</th>\n",
              "                        <td id=\"T_4d178c5c_dba3_11eb_992a_0242ac1c0002row3_col0\" class=\"data row3 col0\" >0</td>\n",
              "                        <td id=\"T_4d178c5c_dba3_11eb_992a_0242ac1c0002row3_col1\" class=\"data row3 col1\" >93</td>\n",
              "                        <td id=\"T_4d178c5c_dba3_11eb_992a_0242ac1c0002row3_col2\" class=\"data row3 col2\" >244</td>\n",
              "                        <td id=\"T_4d178c5c_dba3_11eb_992a_0242ac1c0002row3_col3\" class=\"data row3 col3\" >249</td>\n",
              "                        <td id=\"T_4d178c5c_dba3_11eb_992a_0242ac1c0002row3_col4\" class=\"data row3 col4\" >253</td>\n",
              "                        <td id=\"T_4d178c5c_dba3_11eb_992a_0242ac1c0002row3_col5\" class=\"data row3 col5\" >187</td>\n",
              "                        <td id=\"T_4d178c5c_dba3_11eb_992a_0242ac1c0002row3_col6\" class=\"data row3 col6\" >46</td>\n",
              "                        <td id=\"T_4d178c5c_dba3_11eb_992a_0242ac1c0002row3_col7\" class=\"data row3 col7\" >10</td>\n",
              "                        <td id=\"T_4d178c5c_dba3_11eb_992a_0242ac1c0002row3_col8\" class=\"data row3 col8\" >8</td>\n",
              "                        <td id=\"T_4d178c5c_dba3_11eb_992a_0242ac1c0002row3_col9\" class=\"data row3 col9\" >4</td>\n",
              "                        <td id=\"T_4d178c5c_dba3_11eb_992a_0242ac1c0002row3_col10\" class=\"data row3 col10\" >10</td>\n",
              "                        <td id=\"T_4d178c5c_dba3_11eb_992a_0242ac1c0002row3_col11\" class=\"data row3 col11\" >194</td>\n",
              "                        <td id=\"T_4d178c5c_dba3_11eb_992a_0242ac1c0002row3_col12\" class=\"data row3 col12\" >253</td>\n",
              "                        <td id=\"T_4d178c5c_dba3_11eb_992a_0242ac1c0002row3_col13\" class=\"data row3 col13\" >253</td>\n",
              "                        <td id=\"T_4d178c5c_dba3_11eb_992a_0242ac1c0002row3_col14\" class=\"data row3 col14\" >233</td>\n",
              "                        <td id=\"T_4d178c5c_dba3_11eb_992a_0242ac1c0002row3_col15\" class=\"data row3 col15\" >0</td>\n",
              "                        <td id=\"T_4d178c5c_dba3_11eb_992a_0242ac1c0002row3_col16\" class=\"data row3 col16\" >0</td>\n",
              "                        <td id=\"T_4d178c5c_dba3_11eb_992a_0242ac1c0002row3_col17\" class=\"data row3 col17\" >0</td>\n",
              "            </tr>\n",
              "            <tr>\n",
              "                        <th id=\"T_4d178c5c_dba3_11eb_992a_0242ac1c0002level0_row4\" class=\"row_heading level0 row4\" >4</th>\n",
              "                        <td id=\"T_4d178c5c_dba3_11eb_992a_0242ac1c0002row4_col0\" class=\"data row4 col0\" >0</td>\n",
              "                        <td id=\"T_4d178c5c_dba3_11eb_992a_0242ac1c0002row4_col1\" class=\"data row4 col1\" >107</td>\n",
              "                        <td id=\"T_4d178c5c_dba3_11eb_992a_0242ac1c0002row4_col2\" class=\"data row4 col2\" >253</td>\n",
              "                        <td id=\"T_4d178c5c_dba3_11eb_992a_0242ac1c0002row4_col3\" class=\"data row4 col3\" >253</td>\n",
              "                        <td id=\"T_4d178c5c_dba3_11eb_992a_0242ac1c0002row4_col4\" class=\"data row4 col4\" >230</td>\n",
              "                        <td id=\"T_4d178c5c_dba3_11eb_992a_0242ac1c0002row4_col5\" class=\"data row4 col5\" >48</td>\n",
              "                        <td id=\"T_4d178c5c_dba3_11eb_992a_0242ac1c0002row4_col6\" class=\"data row4 col6\" >0</td>\n",
              "                        <td id=\"T_4d178c5c_dba3_11eb_992a_0242ac1c0002row4_col7\" class=\"data row4 col7\" >0</td>\n",
              "                        <td id=\"T_4d178c5c_dba3_11eb_992a_0242ac1c0002row4_col8\" class=\"data row4 col8\" >0</td>\n",
              "                        <td id=\"T_4d178c5c_dba3_11eb_992a_0242ac1c0002row4_col9\" class=\"data row4 col9\" >0</td>\n",
              "                        <td id=\"T_4d178c5c_dba3_11eb_992a_0242ac1c0002row4_col10\" class=\"data row4 col10\" >0</td>\n",
              "                        <td id=\"T_4d178c5c_dba3_11eb_992a_0242ac1c0002row4_col11\" class=\"data row4 col11\" >192</td>\n",
              "                        <td id=\"T_4d178c5c_dba3_11eb_992a_0242ac1c0002row4_col12\" class=\"data row4 col12\" >253</td>\n",
              "                        <td id=\"T_4d178c5c_dba3_11eb_992a_0242ac1c0002row4_col13\" class=\"data row4 col13\" >253</td>\n",
              "                        <td id=\"T_4d178c5c_dba3_11eb_992a_0242ac1c0002row4_col14\" class=\"data row4 col14\" >156</td>\n",
              "                        <td id=\"T_4d178c5c_dba3_11eb_992a_0242ac1c0002row4_col15\" class=\"data row4 col15\" >0</td>\n",
              "                        <td id=\"T_4d178c5c_dba3_11eb_992a_0242ac1c0002row4_col16\" class=\"data row4 col16\" >0</td>\n",
              "                        <td id=\"T_4d178c5c_dba3_11eb_992a_0242ac1c0002row4_col17\" class=\"data row4 col17\" >0</td>\n",
              "            </tr>\n",
              "            <tr>\n",
              "                        <th id=\"T_4d178c5c_dba3_11eb_992a_0242ac1c0002level0_row5\" class=\"row_heading level0 row5\" >5</th>\n",
              "                        <td id=\"T_4d178c5c_dba3_11eb_992a_0242ac1c0002row5_col0\" class=\"data row5 col0\" >0</td>\n",
              "                        <td id=\"T_4d178c5c_dba3_11eb_992a_0242ac1c0002row5_col1\" class=\"data row5 col1\" >3</td>\n",
              "                        <td id=\"T_4d178c5c_dba3_11eb_992a_0242ac1c0002row5_col2\" class=\"data row5 col2\" >20</td>\n",
              "                        <td id=\"T_4d178c5c_dba3_11eb_992a_0242ac1c0002row5_col3\" class=\"data row5 col3\" >20</td>\n",
              "                        <td id=\"T_4d178c5c_dba3_11eb_992a_0242ac1c0002row5_col4\" class=\"data row5 col4\" >15</td>\n",
              "                        <td id=\"T_4d178c5c_dba3_11eb_992a_0242ac1c0002row5_col5\" class=\"data row5 col5\" >0</td>\n",
              "                        <td id=\"T_4d178c5c_dba3_11eb_992a_0242ac1c0002row5_col6\" class=\"data row5 col6\" >0</td>\n",
              "                        <td id=\"T_4d178c5c_dba3_11eb_992a_0242ac1c0002row5_col7\" class=\"data row5 col7\" >0</td>\n",
              "                        <td id=\"T_4d178c5c_dba3_11eb_992a_0242ac1c0002row5_col8\" class=\"data row5 col8\" >0</td>\n",
              "                        <td id=\"T_4d178c5c_dba3_11eb_992a_0242ac1c0002row5_col9\" class=\"data row5 col9\" >0</td>\n",
              "                        <td id=\"T_4d178c5c_dba3_11eb_992a_0242ac1c0002row5_col10\" class=\"data row5 col10\" >43</td>\n",
              "                        <td id=\"T_4d178c5c_dba3_11eb_992a_0242ac1c0002row5_col11\" class=\"data row5 col11\" >224</td>\n",
              "                        <td id=\"T_4d178c5c_dba3_11eb_992a_0242ac1c0002row5_col12\" class=\"data row5 col12\" >253</td>\n",
              "                        <td id=\"T_4d178c5c_dba3_11eb_992a_0242ac1c0002row5_col13\" class=\"data row5 col13\" >245</td>\n",
              "                        <td id=\"T_4d178c5c_dba3_11eb_992a_0242ac1c0002row5_col14\" class=\"data row5 col14\" >74</td>\n",
              "                        <td id=\"T_4d178c5c_dba3_11eb_992a_0242ac1c0002row5_col15\" class=\"data row5 col15\" >0</td>\n",
              "                        <td id=\"T_4d178c5c_dba3_11eb_992a_0242ac1c0002row5_col16\" class=\"data row5 col16\" >0</td>\n",
              "                        <td id=\"T_4d178c5c_dba3_11eb_992a_0242ac1c0002row5_col17\" class=\"data row5 col17\" >0</td>\n",
              "            </tr>\n",
              "            <tr>\n",
              "                        <th id=\"T_4d178c5c_dba3_11eb_992a_0242ac1c0002level0_row6\" class=\"row_heading level0 row6\" >6</th>\n",
              "                        <td id=\"T_4d178c5c_dba3_11eb_992a_0242ac1c0002row6_col0\" class=\"data row6 col0\" >0</td>\n",
              "                        <td id=\"T_4d178c5c_dba3_11eb_992a_0242ac1c0002row6_col1\" class=\"data row6 col1\" >0</td>\n",
              "                        <td id=\"T_4d178c5c_dba3_11eb_992a_0242ac1c0002row6_col2\" class=\"data row6 col2\" >0</td>\n",
              "                        <td id=\"T_4d178c5c_dba3_11eb_992a_0242ac1c0002row6_col3\" class=\"data row6 col3\" >0</td>\n",
              "                        <td id=\"T_4d178c5c_dba3_11eb_992a_0242ac1c0002row6_col4\" class=\"data row6 col4\" >0</td>\n",
              "                        <td id=\"T_4d178c5c_dba3_11eb_992a_0242ac1c0002row6_col5\" class=\"data row6 col5\" >0</td>\n",
              "                        <td id=\"T_4d178c5c_dba3_11eb_992a_0242ac1c0002row6_col6\" class=\"data row6 col6\" >0</td>\n",
              "                        <td id=\"T_4d178c5c_dba3_11eb_992a_0242ac1c0002row6_col7\" class=\"data row6 col7\" >0</td>\n",
              "                        <td id=\"T_4d178c5c_dba3_11eb_992a_0242ac1c0002row6_col8\" class=\"data row6 col8\" >0</td>\n",
              "                        <td id=\"T_4d178c5c_dba3_11eb_992a_0242ac1c0002row6_col9\" class=\"data row6 col9\" >0</td>\n",
              "                        <td id=\"T_4d178c5c_dba3_11eb_992a_0242ac1c0002row6_col10\" class=\"data row6 col10\" >249</td>\n",
              "                        <td id=\"T_4d178c5c_dba3_11eb_992a_0242ac1c0002row6_col11\" class=\"data row6 col11\" >253</td>\n",
              "                        <td id=\"T_4d178c5c_dba3_11eb_992a_0242ac1c0002row6_col12\" class=\"data row6 col12\" >245</td>\n",
              "                        <td id=\"T_4d178c5c_dba3_11eb_992a_0242ac1c0002row6_col13\" class=\"data row6 col13\" >126</td>\n",
              "                        <td id=\"T_4d178c5c_dba3_11eb_992a_0242ac1c0002row6_col14\" class=\"data row6 col14\" >0</td>\n",
              "                        <td id=\"T_4d178c5c_dba3_11eb_992a_0242ac1c0002row6_col15\" class=\"data row6 col15\" >0</td>\n",
              "                        <td id=\"T_4d178c5c_dba3_11eb_992a_0242ac1c0002row6_col16\" class=\"data row6 col16\" >0</td>\n",
              "                        <td id=\"T_4d178c5c_dba3_11eb_992a_0242ac1c0002row6_col17\" class=\"data row6 col17\" >0</td>\n",
              "            </tr>\n",
              "            <tr>\n",
              "                        <th id=\"T_4d178c5c_dba3_11eb_992a_0242ac1c0002level0_row7\" class=\"row_heading level0 row7\" >7</th>\n",
              "                        <td id=\"T_4d178c5c_dba3_11eb_992a_0242ac1c0002row7_col0\" class=\"data row7 col0\" >0</td>\n",
              "                        <td id=\"T_4d178c5c_dba3_11eb_992a_0242ac1c0002row7_col1\" class=\"data row7 col1\" >0</td>\n",
              "                        <td id=\"T_4d178c5c_dba3_11eb_992a_0242ac1c0002row7_col2\" class=\"data row7 col2\" >0</td>\n",
              "                        <td id=\"T_4d178c5c_dba3_11eb_992a_0242ac1c0002row7_col3\" class=\"data row7 col3\" >0</td>\n",
              "                        <td id=\"T_4d178c5c_dba3_11eb_992a_0242ac1c0002row7_col4\" class=\"data row7 col4\" >0</td>\n",
              "                        <td id=\"T_4d178c5c_dba3_11eb_992a_0242ac1c0002row7_col5\" class=\"data row7 col5\" >0</td>\n",
              "                        <td id=\"T_4d178c5c_dba3_11eb_992a_0242ac1c0002row7_col6\" class=\"data row7 col6\" >0</td>\n",
              "                        <td id=\"T_4d178c5c_dba3_11eb_992a_0242ac1c0002row7_col7\" class=\"data row7 col7\" >14</td>\n",
              "                        <td id=\"T_4d178c5c_dba3_11eb_992a_0242ac1c0002row7_col8\" class=\"data row7 col8\" >101</td>\n",
              "                        <td id=\"T_4d178c5c_dba3_11eb_992a_0242ac1c0002row7_col9\" class=\"data row7 col9\" >223</td>\n",
              "                        <td id=\"T_4d178c5c_dba3_11eb_992a_0242ac1c0002row7_col10\" class=\"data row7 col10\" >253</td>\n",
              "                        <td id=\"T_4d178c5c_dba3_11eb_992a_0242ac1c0002row7_col11\" class=\"data row7 col11\" >248</td>\n",
              "                        <td id=\"T_4d178c5c_dba3_11eb_992a_0242ac1c0002row7_col12\" class=\"data row7 col12\" >124</td>\n",
              "                        <td id=\"T_4d178c5c_dba3_11eb_992a_0242ac1c0002row7_col13\" class=\"data row7 col13\" >0</td>\n",
              "                        <td id=\"T_4d178c5c_dba3_11eb_992a_0242ac1c0002row7_col14\" class=\"data row7 col14\" >0</td>\n",
              "                        <td id=\"T_4d178c5c_dba3_11eb_992a_0242ac1c0002row7_col15\" class=\"data row7 col15\" >0</td>\n",
              "                        <td id=\"T_4d178c5c_dba3_11eb_992a_0242ac1c0002row7_col16\" class=\"data row7 col16\" >0</td>\n",
              "                        <td id=\"T_4d178c5c_dba3_11eb_992a_0242ac1c0002row7_col17\" class=\"data row7 col17\" >0</td>\n",
              "            </tr>\n",
              "            <tr>\n",
              "                        <th id=\"T_4d178c5c_dba3_11eb_992a_0242ac1c0002level0_row8\" class=\"row_heading level0 row8\" >8</th>\n",
              "                        <td id=\"T_4d178c5c_dba3_11eb_992a_0242ac1c0002row8_col0\" class=\"data row8 col0\" >0</td>\n",
              "                        <td id=\"T_4d178c5c_dba3_11eb_992a_0242ac1c0002row8_col1\" class=\"data row8 col1\" >0</td>\n",
              "                        <td id=\"T_4d178c5c_dba3_11eb_992a_0242ac1c0002row8_col2\" class=\"data row8 col2\" >0</td>\n",
              "                        <td id=\"T_4d178c5c_dba3_11eb_992a_0242ac1c0002row8_col3\" class=\"data row8 col3\" >0</td>\n",
              "                        <td id=\"T_4d178c5c_dba3_11eb_992a_0242ac1c0002row8_col4\" class=\"data row8 col4\" >0</td>\n",
              "                        <td id=\"T_4d178c5c_dba3_11eb_992a_0242ac1c0002row8_col5\" class=\"data row8 col5\" >11</td>\n",
              "                        <td id=\"T_4d178c5c_dba3_11eb_992a_0242ac1c0002row8_col6\" class=\"data row8 col6\" >166</td>\n",
              "                        <td id=\"T_4d178c5c_dba3_11eb_992a_0242ac1c0002row8_col7\" class=\"data row8 col7\" >239</td>\n",
              "                        <td id=\"T_4d178c5c_dba3_11eb_992a_0242ac1c0002row8_col8\" class=\"data row8 col8\" >253</td>\n",
              "                        <td id=\"T_4d178c5c_dba3_11eb_992a_0242ac1c0002row8_col9\" class=\"data row8 col9\" >253</td>\n",
              "                        <td id=\"T_4d178c5c_dba3_11eb_992a_0242ac1c0002row8_col10\" class=\"data row8 col10\" >253</td>\n",
              "                        <td id=\"T_4d178c5c_dba3_11eb_992a_0242ac1c0002row8_col11\" class=\"data row8 col11\" >187</td>\n",
              "                        <td id=\"T_4d178c5c_dba3_11eb_992a_0242ac1c0002row8_col12\" class=\"data row8 col12\" >30</td>\n",
              "                        <td id=\"T_4d178c5c_dba3_11eb_992a_0242ac1c0002row8_col13\" class=\"data row8 col13\" >0</td>\n",
              "                        <td id=\"T_4d178c5c_dba3_11eb_992a_0242ac1c0002row8_col14\" class=\"data row8 col14\" >0</td>\n",
              "                        <td id=\"T_4d178c5c_dba3_11eb_992a_0242ac1c0002row8_col15\" class=\"data row8 col15\" >0</td>\n",
              "                        <td id=\"T_4d178c5c_dba3_11eb_992a_0242ac1c0002row8_col16\" class=\"data row8 col16\" >0</td>\n",
              "                        <td id=\"T_4d178c5c_dba3_11eb_992a_0242ac1c0002row8_col17\" class=\"data row8 col17\" >0</td>\n",
              "            </tr>\n",
              "            <tr>\n",
              "                        <th id=\"T_4d178c5c_dba3_11eb_992a_0242ac1c0002level0_row9\" class=\"row_heading level0 row9\" >9</th>\n",
              "                        <td id=\"T_4d178c5c_dba3_11eb_992a_0242ac1c0002row9_col0\" class=\"data row9 col0\" >0</td>\n",
              "                        <td id=\"T_4d178c5c_dba3_11eb_992a_0242ac1c0002row9_col1\" class=\"data row9 col1\" >0</td>\n",
              "                        <td id=\"T_4d178c5c_dba3_11eb_992a_0242ac1c0002row9_col2\" class=\"data row9 col2\" >0</td>\n",
              "                        <td id=\"T_4d178c5c_dba3_11eb_992a_0242ac1c0002row9_col3\" class=\"data row9 col3\" >0</td>\n",
              "                        <td id=\"T_4d178c5c_dba3_11eb_992a_0242ac1c0002row9_col4\" class=\"data row9 col4\" >0</td>\n",
              "                        <td id=\"T_4d178c5c_dba3_11eb_992a_0242ac1c0002row9_col5\" class=\"data row9 col5\" >16</td>\n",
              "                        <td id=\"T_4d178c5c_dba3_11eb_992a_0242ac1c0002row9_col6\" class=\"data row9 col6\" >248</td>\n",
              "                        <td id=\"T_4d178c5c_dba3_11eb_992a_0242ac1c0002row9_col7\" class=\"data row9 col7\" >250</td>\n",
              "                        <td id=\"T_4d178c5c_dba3_11eb_992a_0242ac1c0002row9_col8\" class=\"data row9 col8\" >253</td>\n",
              "                        <td id=\"T_4d178c5c_dba3_11eb_992a_0242ac1c0002row9_col9\" class=\"data row9 col9\" >253</td>\n",
              "                        <td id=\"T_4d178c5c_dba3_11eb_992a_0242ac1c0002row9_col10\" class=\"data row9 col10\" >253</td>\n",
              "                        <td id=\"T_4d178c5c_dba3_11eb_992a_0242ac1c0002row9_col11\" class=\"data row9 col11\" >253</td>\n",
              "                        <td id=\"T_4d178c5c_dba3_11eb_992a_0242ac1c0002row9_col12\" class=\"data row9 col12\" >232</td>\n",
              "                        <td id=\"T_4d178c5c_dba3_11eb_992a_0242ac1c0002row9_col13\" class=\"data row9 col13\" >213</td>\n",
              "                        <td id=\"T_4d178c5c_dba3_11eb_992a_0242ac1c0002row9_col14\" class=\"data row9 col14\" >111</td>\n",
              "                        <td id=\"T_4d178c5c_dba3_11eb_992a_0242ac1c0002row9_col15\" class=\"data row9 col15\" >2</td>\n",
              "                        <td id=\"T_4d178c5c_dba3_11eb_992a_0242ac1c0002row9_col16\" class=\"data row9 col16\" >0</td>\n",
              "                        <td id=\"T_4d178c5c_dba3_11eb_992a_0242ac1c0002row9_col17\" class=\"data row9 col17\" >0</td>\n",
              "            </tr>\n",
              "            <tr>\n",
              "                        <th id=\"T_4d178c5c_dba3_11eb_992a_0242ac1c0002level0_row10\" class=\"row_heading level0 row10\" >10</th>\n",
              "                        <td id=\"T_4d178c5c_dba3_11eb_992a_0242ac1c0002row10_col0\" class=\"data row10 col0\" >0</td>\n",
              "                        <td id=\"T_4d178c5c_dba3_11eb_992a_0242ac1c0002row10_col1\" class=\"data row10 col1\" >0</td>\n",
              "                        <td id=\"T_4d178c5c_dba3_11eb_992a_0242ac1c0002row10_col2\" class=\"data row10 col2\" >0</td>\n",
              "                        <td id=\"T_4d178c5c_dba3_11eb_992a_0242ac1c0002row10_col3\" class=\"data row10 col3\" >0</td>\n",
              "                        <td id=\"T_4d178c5c_dba3_11eb_992a_0242ac1c0002row10_col4\" class=\"data row10 col4\" >0</td>\n",
              "                        <td id=\"T_4d178c5c_dba3_11eb_992a_0242ac1c0002row10_col5\" class=\"data row10 col5\" >0</td>\n",
              "                        <td id=\"T_4d178c5c_dba3_11eb_992a_0242ac1c0002row10_col6\" class=\"data row10 col6\" >0</td>\n",
              "                        <td id=\"T_4d178c5c_dba3_11eb_992a_0242ac1c0002row10_col7\" class=\"data row10 col7\" >43</td>\n",
              "                        <td id=\"T_4d178c5c_dba3_11eb_992a_0242ac1c0002row10_col8\" class=\"data row10 col8\" >98</td>\n",
              "                        <td id=\"T_4d178c5c_dba3_11eb_992a_0242ac1c0002row10_col9\" class=\"data row10 col9\" >98</td>\n",
              "                        <td id=\"T_4d178c5c_dba3_11eb_992a_0242ac1c0002row10_col10\" class=\"data row10 col10\" >208</td>\n",
              "                        <td id=\"T_4d178c5c_dba3_11eb_992a_0242ac1c0002row10_col11\" class=\"data row10 col11\" >253</td>\n",
              "                        <td id=\"T_4d178c5c_dba3_11eb_992a_0242ac1c0002row10_col12\" class=\"data row10 col12\" >253</td>\n",
              "                        <td id=\"T_4d178c5c_dba3_11eb_992a_0242ac1c0002row10_col13\" class=\"data row10 col13\" >253</td>\n",
              "                        <td id=\"T_4d178c5c_dba3_11eb_992a_0242ac1c0002row10_col14\" class=\"data row10 col14\" >253</td>\n",
              "                        <td id=\"T_4d178c5c_dba3_11eb_992a_0242ac1c0002row10_col15\" class=\"data row10 col15\" >187</td>\n",
              "                        <td id=\"T_4d178c5c_dba3_11eb_992a_0242ac1c0002row10_col16\" class=\"data row10 col16\" >22</td>\n",
              "                        <td id=\"T_4d178c5c_dba3_11eb_992a_0242ac1c0002row10_col17\" class=\"data row10 col17\" >0</td>\n",
              "            </tr>\n",
              "    </tbody></table>"
            ],
            "text/plain": [
              "<pandas.io.formats.style.Styler at 0x7ff804b355d0>"
            ]
          },
          "metadata": {
            "tags": []
          },
          "execution_count": 11
        }
      ]
    },
    {
      "cell_type": "markdown",
      "metadata": {
        "id": "KVKIgAgHtLTV"
      },
      "source": [
        "### **PIXEL SIMILARITY:**\n",
        "- I will get the average of pixel values for each groups of 3 and 7. I will create a tensor containing all the 3s stacked together. "
      ]
    },
    {
      "cell_type": "code",
      "metadata": {
        "id": "rYiw6pvOh9Q6",
        "colab": {
          "base_uri": "https://localhost:8080/"
        },
        "outputId": "3e0b2157-ad34-4d15-c131-0234f5f16e20"
      },
      "source": [
        "#@ GETTING TENSOR VALUES: \n",
        "seven_tensors = [tensor(Image.open(o)) for o in sevens]         # Initializing Tensor Values. \n",
        "three_tensors = [tensor(Image.open(o)) for o in threes]         # Initializing Tensor Values. \n",
        "len(three_tensors), len(seven_tensors)                          # Inspecting Number of Tensors. "
      ],
      "execution_count": 12,
      "outputs": [
        {
          "output_type": "execute_result",
          "data": {
            "text/plain": [
              "(6131, 6265)"
            ]
          },
          "metadata": {
            "tags": []
          },
          "execution_count": 12
        }
      ]
    },
    {
      "cell_type": "code",
      "metadata": {
        "colab": {
          "base_uri": "https://localhost:8080/",
          "height": 85
        },
        "id": "qXp6R6JOvUu4",
        "outputId": "8e558822-5bf2-426a-cbc5-d07e2539e503"
      },
      "source": [
        "#@ INSPECTING A IMAGE: \n",
        "show_image(three_tensors[1]);                                   # Inspecting a Image. "
      ],
      "execution_count": 13,
      "outputs": [
        {
          "output_type": "display_data",
          "data": {
            "image/png": "[encoded data removed]",
            "text/plain": [
              "<Figure size 72x72 with 1 Axes>"
            ]
          },
          "metadata": {
            "tags": [],
            "needs_background": "light"
          }
        }
      ]
    },
    {
      "cell_type": "code",
      "metadata": {
        "colab": {
          "base_uri": "https://localhost:8080/"
        },
        "id": "MdAKG0GrwFUq",
        "outputId": "87e35f29-33ec-4cf7-d2c6-77ad6f3fe6cf"
      },
      "source": [
        "#@ GETTING STACKED TENSORS OF FLOATS: \n",
        "stacked_sevens = torch.stack(seven_tensors).float() / 255       # Getting Stacked Tensors. \n",
        "stacked_threes = torch.stack(three_tensors).float() / 255       # Getting Stacked Tesnors. \n",
        "stacked_threes.shape                                            # Inspecting Shape of Stack. "
      ],
      "execution_count": 14,
      "outputs": [
        {
          "output_type": "execute_result",
          "data": {
            "text/plain": [
              "torch.Size([6131, 28, 28])"
            ]
          },
          "metadata": {
            "tags": []
          },
          "execution_count": 14
        }
      ]
    },
    {
      "cell_type": "code",
      "metadata": {
        "colab": {
          "base_uri": "https://localhost:8080/"
        },
        "id": "cLQmZ9XyzI3d",
        "outputId": "45f5b67a-ed53-49b1-d574-84fc936cd357"
      },
      "source": [
        "#@ RANK OF TENSORS: \n",
        "len(stacked_threes.shape)                                       # Getting Rank of Tensor. "
      ],
      "execution_count": 15,
      "outputs": [
        {
          "output_type": "execute_result",
          "data": {
            "text/plain": [
              "3"
            ]
          },
          "metadata": {
            "tags": []
          },
          "execution_count": 15
        }
      ]
    },
    {
      "cell_type": "code",
      "metadata": {
        "colab": {
          "base_uri": "https://localhost:8080/"
        },
        "id": "NgFsxHwkT9nx",
        "outputId": "133852dd-16e1-4dee-cb83-fac35de759e9"
      },
      "source": [
        "#@ RANK OF TENSORS: \n",
        "stacked_threes.ndim                                # Getting Rank of Tensor. "
      ],
      "execution_count": 16,
      "outputs": [
        {
          "output_type": "execute_result",
          "data": {
            "text/plain": [
              "3"
            ]
          },
          "metadata": {
            "tags": []
          },
          "execution_count": 16
        }
      ]
    },
    {
      "cell_type": "code",
      "metadata": {
        "colab": {
          "base_uri": "https://localhost:8080/",
          "height": 85
        },
        "id": "rUShvqoMVUQ2",
        "outputId": "5acad816-473a-4736-b25a-6083751358b8"
      },
      "source": [
        "#@ MEAN OF IMAGE TENSORS: \n",
        "mean3 = stacked_threes.mean(0)                     # Getting Mean of Pixels. \n",
        "show_image(mean3);                                 # Inspecting the Mean. "
      ],
      "execution_count": 17,
      "outputs": [
        {
          "output_type": "display_data",
          "data": {
            "image/png": "[encoded data removed]",
            "text/plain": [
              "<Figure size 72x72 with 1 Axes>"
            ]
          },
          "metadata": {
            "tags": [],
            "needs_background": "light"
          }
        }
      ]
    },
    {
      "cell_type": "code",
      "metadata": {
        "colab": {
          "base_uri": "https://localhost:8080/",
          "height": 85
        },
        "id": "IiwnjHTzWRBQ",
        "outputId": "86d1c3a4-1326-4438-92c8-f0e6d6d08e04"
      },
      "source": [
        "#@ MEAN OF IMAGE TENSORS:\n",
        "mean7 = stacked_sevens.mean(0)                     # Getting Mean of Pixels. \n",
        "show_image(mean7);                                 # Inspecting the Mean. "
      ],
      "execution_count": 18,
      "outputs": [
        {
          "output_type": "display_data",
          "data": {
            "image/png": "[encoded data removed]",
            "text/plain": [
              "<Figure size 72x72 with 1 Axes>"
            ]
          },
          "metadata": {
            "tags": [],
            "needs_background": "light"
          }
        }
      ]
    },
    {
      "cell_type": "code",
      "metadata": {
        "colab": {
          "base_uri": "https://localhost:8080/",
          "height": 85
        },
        "id": "SQtKTJUOXKXd",
        "outputId": "8e121132-5384-41c6-e424-5fbe51b1aea0"
      },
      "source": [
        "#@ GETTING SAMPLE IMAGE: \n",
        "a_3 = stacked_threes[1]                            # Getting an Element. \n",
        "show_image(a_3);                                   # Inspecting the Item. "
      ],
      "execution_count": 19,
      "outputs": [
        {
          "output_type": "display_data",
          "data": {
            "image/png": "[encoded data removed]",
            "text/plain": [
              "<Figure size 72x72 with 1 Axes>"
            ]
          },
          "metadata": {
            "tags": [],
            "needs_background": "light"
          }
        }
      ]
    },
    {
      "cell_type": "markdown",
      "metadata": {
        "id": "HL7rSknf24Ua"
      },
      "source": [
        "**Note:**\n",
        "- Taking the mean of absolute value of differences is called **Mean Absolute Difference** or **L1 Norm**.\n",
        "- Taking the mean of square of differences and then taking the square root is called **Root Mean Squared Error** or **L2 Norm**. "
      ]
    },
    {
      "cell_type": "code",
      "metadata": {
        "colab": {
          "base_uri": "https://localhost:8080/"
        },
        "id": "n1_M4ceg13Z3",
        "outputId": "b0b424af-0d7c-4891-c80b-080c690593d6"
      },
      "source": [
        "#@ CALCULATING L1 NORM AND L2 NORM:\n",
        "dist_3_abs = (a_3 - mean3).abs().mean()            # Getting L1 Norm. \n",
        "dist_3_sqr = ((a_3 - mean3)**2).mean().sqrt()      # Getting L2 Norm. \n",
        "dist_3_abs, dist_3_sqr                             # Inspecting the Results. "
      ],
      "execution_count": 20,
      "outputs": [
        {
          "output_type": "execute_result",
          "data": {
            "text/plain": [
              "(tensor(0.1114), tensor(0.2021))"
            ]
          },
          "metadata": {
            "tags": []
          },
          "execution_count": 20
        }
      ]
    },
    {
      "cell_type": "code",
      "metadata": {
        "colab": {
          "base_uri": "https://localhost:8080/"
        },
        "id": "Y2pYqA6k43AH",
        "outputId": "7f44adee-7036-431e-bee0-309e383ed27e"
      },
      "source": [
        "#@ CALCULATING L1 NORM AND L2 NORM: \n",
        "dist_7_abs = (a_3 - mean7).abs().mean()            # Getting L1 Norm. \n",
        "dist_7_sqr = ((a_3 - mean7)**2).mean().sqrt()      # Getting L2 Norm. \n",
        "dist_7_abs, dist_7_sqr                             # Inspecting the Results. "
      ],
      "execution_count": 21,
      "outputs": [
        {
          "output_type": "execute_result",
          "data": {
            "text/plain": [
              "(tensor(0.1586), tensor(0.3021))"
            ]
          },
          "metadata": {
            "tags": []
          },
          "execution_count": 21
        }
      ]
    },
    {
      "cell_type": "code",
      "metadata": {
        "colab": {
          "base_uri": "https://localhost:8080/"
        },
        "id": "jejACXXT5fcC",
        "outputId": "0fab5b94-8b21-47d2-92d5-b28df843f9ea"
      },
      "source": [
        "#@ CALCULATING L1 NORM AND L2 NORM: \n",
        "print(F.l1_loss(a_3.float(), mean7))               # Getting L1 Norm. \n",
        "print(F.mse_loss(a_3, mean7).sqrt())               # Getting L2 Norm. "
      ],
      "execution_count": 22,
      "outputs": [
        {
          "output_type": "stream",
          "text": [
            "tensor(0.1586)\n",
            "tensor(0.3021)\n"
          ],
          "name": "stdout"
        }
      ]
    },
    {
      "cell_type": "markdown",
      "metadata": {
        "id": "h896kLg59Hw9"
      },
      "source": [
        "**ARRAYS AND TENSORS:**"
      ]
    },
    {
      "cell_type": "code",
      "metadata": {
        "colab": {
          "base_uri": "https://localhost:8080/"
        },
        "id": "h6CEzsrW6i1R",
        "outputId": "61ca8274-dcc9-4f34-e3e5-ba13a3e8f6be"
      },
      "source": [
        "#@ ARRAYS AND TENSORS: \n",
        "data = [[1, 2, 3], [4, 5, 6]]                      # Example List. \n",
        "arr = array(data)                                  # Creating Array. \n",
        "tns = tensor(data)                                 # Creating Tensor. \n",
        "arr, tns                                           # Inspecting the Results. "
      ],
      "execution_count": 23,
      "outputs": [
        {
          "output_type": "execute_result",
          "data": {
            "text/plain": [
              "(array([[1, 2, 3],\n",
              "        [4, 5, 6]]), tensor([[1, 2, 3],\n",
              "         [4, 5, 6]]))"
            ]
          },
          "metadata": {
            "tags": []
          },
          "execution_count": 23
        }
      ]
    },
    {
      "cell_type": "markdown",
      "metadata": {
        "id": "dnToihvqBoxf"
      },
      "source": [
        "### **COMPUTING METRICS USING BROADCASTING:**"
      ]
    },
    {
      "cell_type": "code",
      "metadata": {
        "colab": {
          "base_uri": "https://localhost:8080/"
        },
        "id": "9hxn0joP9o_9",
        "outputId": "79c3a401-e556-4b5d-dc0b-59ffbda3c3d2"
      },
      "source": [
        "#@ CREATING VALIDATION DATASET: \n",
        "valid_3_tens = torch.stack([tensor(Image.open(o)) for o in \\\n",
        "                            (PATH/\"valid\"/\"3\").ls()])              # Creating Validation Tensors. \n",
        "valid_3_tens = valid_3_tens.float() / 255                          # Getting Normalized Tensors. \n",
        "valid_7_tens = torch.stack([tensor(Image.open(o)) for o in \\\n",
        "                            (PATH/\"valid\"/\"7\").ls()])              # Creating Validation Tensors. \n",
        "valid_7_tens = valid_7_tens.float() / 255                          # Getting Normalized Tensors. \n",
        "valid_3_tens.shape, valid_7_tens.shape                             # Inspecting the Shape of Tensors. "
      ],
      "execution_count": 24,
      "outputs": [
        {
          "output_type": "execute_result",
          "data": {
            "text/plain": [
              "(torch.Size([1010, 28, 28]), torch.Size([1028, 28, 28]))"
            ]
          },
          "metadata": {
            "tags": []
          },
          "execution_count": 24
        }
      ]
    },
    {
      "cell_type": "code",
      "metadata": {
        "colab": {
          "base_uri": "https://localhost:8080/"
        },
        "id": "0flPcSunSjEJ",
        "outputId": "3b4a0284-ca9f-4cbe-b735-a7014df06bab"
      },
      "source": [
        "#@ FUNCTION FOR CALCULATING MAE: \n",
        "def mnist_distance(a, b):                                # Initializing Function. \n",
        "    return (a - b).abs().mean((-1, -2))                  # Getting MAE. \n",
        "mnist_distance(a_3, mean3)                               # Implementation of Function.                     "
      ],
      "execution_count": 25,
      "outputs": [
        {
          "output_type": "execute_result",
          "data": {
            "text/plain": [
              "tensor(0.1114)"
            ]
          },
          "metadata": {
            "tags": []
          },
          "execution_count": 25
        }
      ]
    },
    {
      "cell_type": "code",
      "metadata": {
        "colab": {
          "base_uri": "https://localhost:8080/"
        },
        "id": "dnKiUp9hT8nD",
        "outputId": "919a6b96-028a-45c4-b149-a3aa7cfb4995"
      },
      "source": [
        "#@ IMPLEMENTATION OF MAE: \n",
        "valid_3_dist = mnist_distance(valid_3_tens, mean3)       # Initializing the Function. \n",
        "valid_3_dist, valid_3_dist.shape                         # Inspecting the Results. "
      ],
      "execution_count": 26,
      "outputs": [
        {
          "output_type": "execute_result",
          "data": {
            "text/plain": [
              "(tensor([0.1463, 0.1076, 0.1296,  ..., 0.1776, 0.1209, 0.1531]),\n",
              " torch.Size([1010]))"
            ]
          },
          "metadata": {
            "tags": []
          },
          "execution_count": 26
        }
      ]
    },
    {
      "cell_type": "markdown",
      "metadata": {
        "id": "VzByEYzRWqeV"
      },
      "source": [
        "**Note:**\n",
        "- I will use the function to figure out whether an image is a 3 by using the following logic: If the distance between the digit in a question and the ideal 3 is less than the distance to the ideal 7 then it's 3."
      ]
    },
    {
      "cell_type": "code",
      "metadata": {
        "colab": {
          "base_uri": "https://localhost:8080/"
        },
        "id": "NdwOTFnDU1oF",
        "outputId": "d67f7bee-2932-44d2-e112-e61228767c53"
      },
      "source": [
        "#@ DEFINING THE FUNCTION: \n",
        "def is_3(x):                                                        # Initializing the Function. \n",
        "    return mnist_distance(x, mean3) < mnist_distance(x, mean7)      # Inspecting Distance. \n",
        "is_3(a_3), is_3(a_3).float()                                        # Inspecting the Results. "
      ],
      "execution_count": 27,
      "outputs": [
        {
          "output_type": "execute_result",
          "data": {
            "text/plain": [
              "(tensor(True), tensor(1.))"
            ]
          },
          "metadata": {
            "tags": []
          },
          "execution_count": 27
        }
      ]
    },
    {
      "cell_type": "code",
      "metadata": {
        "colab": {
          "base_uri": "https://localhost:8080/"
        },
        "id": "SPeDQ7GQYN7M",
        "outputId": "bfce34e5-ebe9-42ed-9511-9f0b889dc485"
      },
      "source": [
        "#@ INSPECTING ACCURACY: \n",
        "accuracy_3s = is_3(valid_3_tens).float().mean()                     # Getting Accuracy. \n",
        "accuracy_7s = (1 - is_3(valid_7_tens).float()).mean()               # Getting Accuracy. \n",
        "accuracy_3s, accuracy_7s, (accuracy_3s + accuracy_7s) / 2           # Getting Results. "
      ],
      "execution_count": 28,
      "outputs": [
        {
          "output_type": "execute_result",
          "data": {
            "text/plain": [
              "(tensor(0.9168), tensor(0.9854), tensor(0.9511))"
            ]
          },
          "metadata": {
            "tags": []
          },
          "execution_count": 28
        }
      ]
    },
    {
      "cell_type": "markdown",
      "metadata": {
        "id": "RzSczH8Xa1JQ"
      },
      "source": [
        "### **STOCHASTIC GRADIENT DESCENT:**"
      ]
    },
    {
      "cell_type": "code",
      "metadata": {
        "id": "sO7BAb9YZRe2",
        "colab": {
          "base_uri": "https://localhost:8080/"
        },
        "outputId": "1689a2c1-b8ef-4829-87a7-82c9fd74dbdc"
      },
      "source": [
        "#@ GETTING GRADIENTS: \n",
        "def f(x):                                               # Initializing a Function. \n",
        "    return x**2 \n",
        "xt = tensor(3.).requires_grad_()                        # Getting Gradients. \n",
        "yt = f(xt)                                              # Calculating Gradients. \n",
        "yt                                                      # Inspecting. "
      ],
      "execution_count": 29,
      "outputs": [
        {
          "output_type": "execute_result",
          "data": {
            "text/plain": [
              "tensor(9., grad_fn=<PowBackward0>)"
            ]
          },
          "metadata": {
            "tags": []
          },
          "execution_count": 29
        }
      ]
    },
    {
      "cell_type": "code",
      "metadata": {
        "colab": {
          "base_uri": "https://localhost:8080/"
        },
        "id": "CqDQJJ3xbH0a",
        "outputId": "b445ee93-1155-40be-acae-052b31fb6632"
      },
      "source": [
        "#@ GETTING GRADIENTS: \n",
        "def f(x):                                               # Initializing a Function. \n",
        "    return (x**2).sum() \n",
        "xt = tensor([3., 4., 10.]).requires_grad_()             # Getting Gradients. \n",
        "yt = f(xt)                                              # Calculating Gradients. \n",
        "yt                                                      # Inspecting. "
      ],
      "execution_count": 30,
      "outputs": [
        {
          "output_type": "execute_result",
          "data": {
            "text/plain": [
              "tensor(125., grad_fn=<SumBackward0>)"
            ]
          },
          "metadata": {
            "tags": []
          },
          "execution_count": 30
        }
      ]
    },
    {
      "cell_type": "code",
      "metadata": {
        "colab": {
          "base_uri": "https://localhost:8080/",
          "height": 268
        },
        "id": "XzfRTIrQdYTs",
        "outputId": "f1e6a049-5c9f-493a-bc0f-2c7ea2aed4fd"
      },
      "source": [
        "#@ STOCHASTIC GRADIENT DESCENT: \n",
        "time = torch.arange(0, 20).float(); time                # Initialization. \n",
        "speed = torch.randn(20)*3 + 0.75*(time-9.5)**2 + 1      # Initialization. \n",
        "plt.scatter(time, speed);                               # Inspecting. "
      ],
      "execution_count": 31,
      "outputs": [
        {
          "output_type": "display_data",
          "data": {
            "image/png": "[encoded data removed]",
            "text/plain": [
              "<Figure size 432x288 with 1 Axes>"
            ]
          },
          "metadata": {
            "tags": [],
            "needs_background": "light"
          }
        }
      ]
    },
    {
      "cell_type": "code",
      "metadata": {
        "id": "0MWCXp9whvwk"
      },
      "source": [
        "#@ IMPLEMENTATION OF STOCHASTIC GRADIENT DESCENT: \n",
        "def f(t, params):                                       # Defining a Function. \n",
        "    a, b, c = params\n",
        "    return a*(t**2) + (b*t) + c                         # Initializing a Quadratic Function. \n",
        "\n",
        "def mse(preds, targets):                                # Defining a Loss Function. \n",
        "    return ((preds - targets)**2).mean()                # Initializing MSE. "
      ],
      "execution_count": 32,
      "outputs": []
    },
    {
      "cell_type": "markdown",
      "metadata": {
        "id": "pFZiBmradn3X"
      },
      "source": [
        "**Step 1: Initialize the Parameters**\n",
        "- I will initialize the parameters to random values and tell **PyTorch** to track the gradients. "
      ]
    },
    {
      "cell_type": "code",
      "metadata": {
        "id": "QonUiFRXdXSa"
      },
      "source": [
        "#@ INITIALIZING PARAMETERS: \n",
        "params = torch.randn(3).requires_grad_()                # Initializing Parameters. \n",
        "orig_params = params.clone()"
      ],
      "execution_count": 33,
      "outputs": []
    },
    {
      "cell_type": "markdown",
      "metadata": {
        "id": "_O3WWmoheXlN"
      },
      "source": [
        "**Step 2: Calculate the Predictions**\n",
        "- Now I will calculate the predictions. "
      ]
    },
    {
      "cell_type": "code",
      "metadata": {
        "id": "on5qo4iReR-x"
      },
      "source": [
        "#@ CALCULATING PREDICTIONS: \n",
        "preds = f(time, params)                                 # Implementation of Function. "
      ],
      "execution_count": 34,
      "outputs": []
    },
    {
      "cell_type": "code",
      "metadata": {
        "colab": {
          "base_uri": "https://localhost:8080/",
          "height": 273
        },
        "id": "Am6A9f7Ke7QD",
        "outputId": "0c38f8cd-2d79-42e1-db9b-457b1e3075ee"
      },
      "source": [
        "#@ INSPECTING PREDICTIONS: \n",
        "def show_preds(preds, ax=None):                         # Defining a Function. \n",
        "    if ax is None: ax=plt.subplots()[1]                 # Initialization. \n",
        "    ax.scatter(time, speed)                             # Scatter Plots. \n",
        "    ax.scatter(time, to_np(preds), color=\"red\")         # Scatter Plots. \n",
        "    ax.set_ylim(-300, 100)\n",
        "show_preds(preds)                                       # Implementation of Function. "
      ],
      "execution_count": 35,
      "outputs": [
        {
          "output_type": "display_data",
          "data": {
            "image/png": "[encoded data removed]",
            "text/plain": [
              "<Figure size 432x288 with 1 Axes>"
            ]
          },
          "metadata": {
            "tags": [],
            "needs_background": "light"
          }
        }
      ]
    },
    {
      "cell_type": "markdown",
      "metadata": {
        "id": "h9KpCstkgLIy"
      },
      "source": [
        "**Step 3: Calculate the Loss**\n",
        "- I will calculate the loss here. "
      ]
    },
    {
      "cell_type": "code",
      "metadata": {
        "colab": {
          "base_uri": "https://localhost:8080/"
        },
        "id": "yWqp_tRJgABS",
        "outputId": "477d0caf-6523-42e0-ee78-a811e6a01b1c"
      },
      "source": [
        "#@ CALCULATING LOSS: \n",
        "loss = mse(preds, speed)                                 # Implementation of Function. \n",
        "loss"
      ],
      "execution_count": 36,
      "outputs": [
        {
          "output_type": "execute_result",
          "data": {
            "text/plain": [
              "tensor(25823.8086, grad_fn=<MeanBackward0>)"
            ]
          },
          "metadata": {
            "tags": []
          },
          "execution_count": 36
        }
      ]
    },
    {
      "cell_type": "markdown",
      "metadata": {
        "id": "mqeiw3JNhMxO"
      },
      "source": [
        "**Step 4: Calculate the Gradients**\n",
        "- The next step is to calculate the gradients or an approximation of how the parameters need to change. I will pick the learning rate to improve the predictions. "
      ]
    },
    {
      "cell_type": "code",
      "metadata": {
        "colab": {
          "base_uri": "https://localhost:8080/"
        },
        "id": "0cjRykYqhBx2",
        "outputId": "e5e06c6f-10fa-4425-9244-2dc27db2db22"
      },
      "source": [
        "#@ CALCULATING GRADIENTS: \n",
        "loss.backward()                                          # Initializing Backpropagation. \n",
        "params.grad                                              # Gradients. \n",
        "params.grad * 1e-5                                       # Gradients. "
      ],
      "execution_count": 37,
      "outputs": [
        {
          "output_type": "execute_result",
          "data": {
            "text/plain": [
              "tensor([-0.5320, -0.0342, -0.0025])"
            ]
          },
          "metadata": {
            "tags": []
          },
          "execution_count": 37
        }
      ]
    },
    {
      "cell_type": "markdown",
      "metadata": {
        "id": "jL9SgrmNisGt"
      },
      "source": [
        "**Step 5: Step the Weights**\n",
        "- I will update the parameters based on the gradients. "
      ]
    },
    {
      "cell_type": "code",
      "metadata": {
        "id": "d4oTfQitiHNC"
      },
      "source": [
        "#@ STEPPING THE WEIGHTS: \n",
        "lr = 1e-5                                               # Initializing Learning Rate. \n",
        "params.data -= lr * params.grad.data                    # Updating Parameters. \n",
        "params.grad = None"
      ],
      "execution_count": 38,
      "outputs": []
    },
    {
      "cell_type": "code",
      "metadata": {
        "colab": {
          "base_uri": "https://localhost:8080/"
        },
        "id": "OXevY7u8kA0Y",
        "outputId": "32cf1ed9-f46d-4373-c50d-9563e75f7c6f"
      },
      "source": [
        "#@ INSPECTING LOSS: \n",
        "preds = f(time, params)                                 # Implementation of Function. \n",
        "mse(preds, speed)                                       # Getting Loss. "
      ],
      "execution_count": 39,
      "outputs": [
        {
          "output_type": "execute_result",
          "data": {
            "text/plain": [
              "tensor(5435.5356, grad_fn=<MeanBackward0>)"
            ]
          },
          "metadata": {
            "tags": []
          },
          "execution_count": 39
        }
      ]
    },
    {
      "cell_type": "code",
      "metadata": {
        "colab": {
          "base_uri": "https://localhost:8080/",
          "height": 273
        },
        "id": "Yw77SSVKlGlE",
        "outputId": "ca811aee-e82f-4a55-bc79-81518d429069"
      },
      "source": [
        "#@ INSPECTING PREDICTIONS: \n",
        "show_preds(preds)"
      ],
      "execution_count": 40,
      "outputs": [
        {
          "output_type": "display_data",
          "data": {
            "image/png": "[encoded data removed]",
            "text/plain": [
              "<Figure size 432x288 with 1 Axes>"
            ]
          },
          "metadata": {
            "tags": [],
            "needs_background": "light"
          }
        }
      ]
    },
    {
      "cell_type": "markdown",
      "metadata": {
        "id": "U-LiydaFlbw3"
      },
      "source": [
        "**Step 6: Repeat the Process**\n",
        "- I will define a function to repeat the above mentioned process a few times. "
      ]
    },
    {
      "cell_type": "code",
      "metadata": {
        "colab": {
          "base_uri": "https://localhost:8080/"
        },
        "id": "cBsyS5-1lOL9",
        "outputId": "c30d12bf-2271-4231-d463-9e99a67ef05b"
      },
      "source": [
        "#@ DEFINING THE FUNCTION: \n",
        "def apply_step(params, prn=True):                       # Defining the Function. \n",
        "    preds = f(time, params)                             # Getting Predictions. \n",
        "    loss = mse(preds, speed)                            # Getting Loss. \n",
        "    loss.backward()                                     # Initializing Backpropagation. \n",
        "    params.data -= lr * params.grad.data                # Updating Parameters. \n",
        "    params.grad = None\n",
        "    if prn: print(loss.item())\n",
        "    return preds\n",
        "\n",
        "#@ IMPLEMENTATION OF FUNCTION: \n",
        "for i in range(10):\n",
        "    apply_step(params)                                   # Repeating the Process. "
      ],
      "execution_count": 41,
      "outputs": [
        {
          "output_type": "stream",
          "text": [
            "5435.53564453125\n",
            "1577.44921875\n",
            "847.3778076171875\n",
            "709.2225341796875\n",
            "683.0758056640625\n",
            "678.1243896484375\n",
            "677.1838989257812\n",
            "677.0023803710938\n",
            "676.9645385742188\n",
            "676.9537353515625\n"
          ],
          "name": "stdout"
        }
      ]
    },
    {
      "cell_type": "code",
      "metadata": {
        "colab": {
          "base_uri": "https://localhost:8080/",
          "height": 221
        },
        "id": "4LlAJ86MnGDx",
        "outputId": "34b938ec-2703-4c86-b9f5-c2afe4921c5d"
      },
      "source": [
        "#@ INSPECTING THE PREDICTIONS: \n",
        "params = orig_params.detach().requires_grad_()\n",
        "_, axs = plt.subplots(1, 4, figsize=(12, 3))             # Initialization. \n",
        "for ax in axs:\n",
        "    show_preds(apply_step(params, False), ax)            # Inspecting Predictions. \n",
        "plt.tight_layout()"
      ],
      "execution_count": 42,
      "outputs": [
        {
          "output_type": "display_data",
          "data": {
            "image/png": "[encoded data removed]",
            "text/plain": [
              "<Figure size 864x216 with 4 Axes>"
            ]
          },
          "metadata": {
            "tags": [],
            "needs_background": "light"
          }
        }
      ]
    },
    {
      "cell_type": "markdown",
      "metadata": {
        "id": "WnKX9guxrIrL"
      },
      "source": [
        "**Step 7: Stop**"
      ]
    },
    {
      "cell_type": "markdown",
      "metadata": {
        "id": "owTPXcWAvIu6"
      },
      "source": [
        "### **MNIST LOSS FUNCTION:**\n",
        "- I will concatenate all the images into a single tensor and change them from a list of matrices or **Rank 3** tensor to a list of vectors or **Rank 2** tensor. I will label 1 for 3s images and 0 for 7s images. "
      ]
    },
    {
      "cell_type": "code",
      "metadata": {
        "colab": {
          "base_uri": "https://localhost:8080/"
        },
        "id": "QK0Y0Wjcuz73",
        "outputId": "16f1b732-7cbe-4556-b4d2-973c461e57bb"
      },
      "source": [
        "#@ CREATING TRAINING DATASET: \n",
        "train_x = torch.cat([stacked_threes, stacked_sevens]).view(-1, 28*28)     # Initializing Concatenation. \n",
        "train_y = tensor([1]*len(threes) + [0]*len(sevens)).unsqueeze(1)          # Creating Labels. \n",
        "train_x.shape, train_y.shape                                              # Inspecting Shape of Dataset. "
      ],
      "execution_count": 43,
      "outputs": [
        {
          "output_type": "execute_result",
          "data": {
            "text/plain": [
              "(torch.Size([12396, 784]), torch.Size([12396, 1]))"
            ]
          },
          "metadata": {
            "tags": []
          },
          "execution_count": 43
        }
      ]
    },
    {
      "cell_type": "code",
      "metadata": {
        "colab": {
          "base_uri": "https://localhost:8080/"
        },
        "id": "2zYuu6Max_3-",
        "outputId": "36a0a434-0f9d-4057-df78-f7c925550bf1"
      },
      "source": [
        "#@ CREATING TRAINING DATASET: \n",
        "dset = list(zip(train_x, train_y))                      # Creating Dataset. \n",
        "x, y = dset[0]\n",
        "x.shape, y                                              # Inspecting Shape. "
      ],
      "execution_count": 44,
      "outputs": [
        {
          "output_type": "execute_result",
          "data": {
            "text/plain": [
              "(torch.Size([784]), tensor([1]))"
            ]
          },
          "metadata": {
            "tags": []
          },
          "execution_count": 44
        }
      ]
    },
    {
      "cell_type": "code",
      "metadata": {
        "id": "C634zLVvzR5Y"
      },
      "source": [
        "#@ CREATING VALIDATION DATASET: \n",
        "valid_x = torch.cat([valid_3_tens, valid_7_tens]).view(-1, 28*28)         # Initializing Concatenation. \n",
        "valid_y=tensor([1]*len(valid_3_tens)+[0]*len(valid_7_tens)).unsqueeze(1)  # Creating Labels. \n",
        "valid_dset = list(zip(valid_x, valid_y))                                  # Creating Dataset. "
      ],
      "execution_count": 45,
      "outputs": []
    },
    {
      "cell_type": "code",
      "metadata": {
        "id": "y08VcLKr0IkO"
      },
      "source": [
        "#@ INITIALIZING RANDOM WEIGHTS: \n",
        "def init_params(size, std=1.0):                                           # Initializing Function. \n",
        "    return (torch.randn(size) * std).requires_grad_()                     # Getting Gradients. \n",
        "weights = init_params((28*28, 1))                                         # Implementation of Function. "
      ],
      "execution_count": 46,
      "outputs": []
    },
    {
      "cell_type": "markdown",
      "metadata": {
        "id": "S9dakPIF1ZrC"
      },
      "source": [
        "**Note:**\n",
        "- The function **weights*pixels** is not flexible. I will initialize a random number to intercept as well. In **Neural Networks** the equation **y=w*x+b**, w is called the **weights** and the b is called the **bias**. Together the weights and bias make up the parameters. "
      ]
    },
    {
      "cell_type": "code",
      "metadata": {
        "colab": {
          "base_uri": "https://localhost:8080/"
        },
        "id": "s-xT0oel1Iqb",
        "outputId": "90f6603c-8f34-4ae8-b4f9-42438e51743d"
      },
      "source": [
        "#@ INITIALIZING BIAS:\n",
        "bias = init_params(1)                                                     # Initializing Intercepts. \n",
        "(train_x[0]*weights.T).sum() + bias                                       # Inspecting Predictions. "
      ],
      "execution_count": 47,
      "outputs": [
        {
          "output_type": "execute_result",
          "data": {
            "text/plain": [
              "tensor([20.2336], grad_fn=<AddBackward0>)"
            ]
          },
          "metadata": {
            "tags": []
          },
          "execution_count": 47
        }
      ]
    },
    {
      "cell_type": "code",
      "metadata": {
        "colab": {
          "base_uri": "https://localhost:8080/"
        },
        "id": "Hl3HlYv65n4j",
        "outputId": "cce41b7c-3c67-4ab1-fb58-cc9b8cf8ca35"
      },
      "source": [
        "#@ FUNCTION FOR MATRIX MULTIPLICATION: \n",
        "def linear1(xb):                                          # Initializing Function. \n",
        "    return xb@weights + bias                              # Initializing Matrix Multiplication. \n",
        "#@ IMPLEMENTATION: \n",
        "preds = linear1(train_x)                                  # Initializing Function. \n",
        "preds                                                     # Inspecting Predictions. "
      ],
      "execution_count": 48,
      "outputs": [
        {
          "output_type": "execute_result",
          "data": {
            "text/plain": [
              "tensor([[20.2336],\n",
              "        [17.0644],\n",
              "        [15.2384],\n",
              "        ...,\n",
              "        [18.3804],\n",
              "        [23.8567],\n",
              "        [28.6816]], grad_fn=<AddBackward0>)"
            ]
          },
          "metadata": {
            "tags": []
          },
          "execution_count": 48
        }
      ]
    },
    {
      "cell_type": "code",
      "metadata": {
        "id": "lXTA-j3UCkMI",
        "colab": {
          "base_uri": "https://localhost:8080/"
        },
        "outputId": "31d1c9a5-4816-4895-f6ba-2e064470bb43"
      },
      "source": [
        "#@ CALCULATING ACCURACY: \n",
        "corrects = (preds > 0.0).float() == train_y               # Getting Accuracy. \n",
        "corrects.float().mean().item()                            # Getting Accuracy. "
      ],
      "execution_count": 49,
      "outputs": [
        {
          "output_type": "execute_result",
          "data": {
            "text/plain": [
              "0.4912068545818329"
            ]
          },
          "metadata": {
            "tags": []
          },
          "execution_count": 49
        }
      ]
    },
    {
      "cell_type": "code",
      "metadata": {
        "colab": {
          "base_uri": "https://localhost:8080/"
        },
        "id": "c0pz_OAb3qs_",
        "outputId": "b1e99252-7000-489a-8a38-adced53f668e"
      },
      "source": [
        "#@ CALCULATING ACCURACY: \n",
        "with torch.no_grad():\n",
        "    weights[0] *= 1.0001                                  # Changing Weights. \n",
        "preds = linear1(train_x)                                  # Getting Predictions. \n",
        "((preds > 0.0).float() == train_y).float().mean().item()  # Getting Accuracy. "
      ],
      "execution_count": 50,
      "outputs": [
        {
          "output_type": "execute_result",
          "data": {
            "text/plain": [
              "0.4912068545818329"
            ]
          },
          "metadata": {
            "tags": []
          },
          "execution_count": 50
        }
      ]
    },
    {
      "cell_type": "code",
      "metadata": {
        "id": "G_yjC9xZ4la2"
      },
      "source": [
        "#@ DEFINING LOSS FUNCTION: \n",
        "def mnist_loss(predictions, targets):                     # Initializing Function. \n",
        "    return torch.where(targets==1, 1-predictions, \n",
        "                       predictions).mean()                # Getting Mean of Distances. "
      ],
      "execution_count": 51,
      "outputs": []
    },
    {
      "cell_type": "code",
      "metadata": {
        "colab": {
          "base_uri": "https://localhost:8080/"
        },
        "id": "q95XuVip-xWZ",
        "outputId": "dc59474b-cbf5-412f-fb44-4ee375279565"
      },
      "source": [
        "#@ INSPECTING THE IMPLEMENTATION: \n",
        "trgts = tensor([1, 0, 1])                                 # Initializing Tensor. \n",
        "prds = tensor([0.9, 0.4, 0.2])                            # Initializing Tensor. \n",
        "torch.where(trgts==1, 1-prds, prds)                       # Getting Loss. "
      ],
      "execution_count": 52,
      "outputs": [
        {
          "output_type": "execute_result",
          "data": {
            "text/plain": [
              "tensor([0.1000, 0.4000, 0.8000])"
            ]
          },
          "metadata": {
            "tags": []
          },
          "execution_count": 52
        }
      ]
    },
    {
      "cell_type": "markdown",
      "metadata": {
        "id": "gXLN6OY-AvXW"
      },
      "source": [
        "**SIGMOID FUNCTION:**\n",
        "- The **Sigmoid** function always outputs a number between 0 and 1. "
      ]
    },
    {
      "cell_type": "code",
      "metadata": {
        "colab": {
          "base_uri": "https://localhost:8080/",
          "height": 285
        },
        "id": "Qr9WezK8_rG3",
        "outputId": "2312f7ab-a571-422e-e90a-13d6975bf99d"
      },
      "source": [
        "#@ INITIALIZING SIGMOID FUNCTION: \n",
        "def sigmoid(x):                                           # Defining Sigmoid Function. \n",
        "    return 1 / (1 + torch.exp(-x))\n",
        "\n",
        "#@ INSPECTING SIGMOID FUNCTION: \n",
        "plot_function(torch.sigmoid, title=\"Sigmoid\", min=-4, \n",
        "              max=4);                                     # Inspecting Function. "
      ],
      "execution_count": 55,
      "outputs": [
        {
          "output_type": "display_data",
          "data": {
            "image/png": "[encoded data removed]",
            "text/plain": [
              "<Figure size 432x288 with 1 Axes>"
            ]
          },
          "metadata": {
            "tags": [],
            "needs_background": "light"
          }
        }
      ]
    },
    {
      "cell_type": "code",
      "metadata": {
        "id": "OQLvxOmmCSXV"
      },
      "source": [
        "#@ UPDATING LOSS FUNCTION: \n",
        "def mnist_loss(predictions, targets):                    # Initializing Loss Function. \n",
        "    predictions = predictions.sigmoid()                  # Initializing Sigmoid Function. \n",
        "    return torch.where(targets==1, 1-predictions, \n",
        "                       predictions).mean()               # Getting Mean of Losses. "
      ],
      "execution_count": 54,
      "outputs": []
    },
    {
      "cell_type": "markdown",
      "metadata": {
        "id": "RhbNaFQX8Mlg"
      },
      "source": [
        "### **SGD AND MINIBATCHES:**\n",
        "- The process to change or update the weights based on the gradients in order to consider some of the details involved in the next phase of the learning process is called an **Optimization Step**. The calculation of average loss for a few data items at a time is called a **Minibatch**. The number of data items in the **Minibatch** is called **Batchsize**. A larger **Batchsize** means more accurate and stable estimate of the dataset gradients from the loss function whereas a single **Batchsize** result in an imprecise and unstable gradient. "
      ]
    },
    {
      "cell_type": "code",
      "metadata": {
        "id": "o5fIpMGREv9X",
        "colab": {
          "base_uri": "https://localhost:8080/"
        },
        "outputId": "a14d4d9d-a330-4841-961f-135746f4c6b7"
      },
      "source": [
        "#@ INITIALIZING DATALOADER: \n",
        "coll = range(15)                                        # Initialization. \n",
        "dl = DataLoader(coll, batch_size=5, shuffle=True)       # Initializing DataLoader. \n",
        "list(dl)                                                # Inspecting the Results. "
      ],
      "execution_count": 56,
      "outputs": [
        {
          "output_type": "execute_result",
          "data": {
            "text/plain": [
              "[tensor([ 3, 12,  8, 10,  2]),\n",
              " tensor([ 9,  4,  7, 14,  5]),\n",
              " tensor([ 1, 13,  0,  6, 11])]"
            ]
          },
          "metadata": {
            "tags": []
          },
          "execution_count": 56
        }
      ]
    },
    {
      "cell_type": "markdown",
      "metadata": {
        "id": "fib_t2JY_O_J"
      },
      "source": [
        "**Note:**\n",
        "- A collection that contains the tuples of independent and dependent variables is known in **PyTorch** as a **Dataset**."
      ]
    },
    {
      "cell_type": "code",
      "metadata": {
        "colab": {
          "base_uri": "https://localhost:8080/"
        },
        "id": "fP7O0lJb-9a6",
        "outputId": "5cb85cb3-8629-4e8a-fb90-54ace03d95bd"
      },
      "source": [
        "#@ IMPLEMENTATION OF DATALOADER: \n",
        "ds = L(enumerate(string.ascii_lowercase))               # Initializing a Dataset. \n",
        "dl = DataLoader(ds, batch_size=6, shuffle=True)         # Initializing DataLoader. \n",
        "list(dl)                                                # Inspecting the Results. "
      ],
      "execution_count": 57,
      "outputs": [
        {
          "output_type": "execute_result",
          "data": {
            "text/plain": [
              "[(tensor([17, 18, 10, 22,  8, 14]), ('r', 's', 'k', 'w', 'i', 'o')),\n",
              " (tensor([20, 15,  9, 13, 21, 12]), ('u', 'p', 'j', 'n', 'v', 'm')),\n",
              " (tensor([ 7, 25,  6,  5, 11, 23]), ('h', 'z', 'g', 'f', 'l', 'x')),\n",
              " (tensor([ 1,  3,  0, 24, 19, 16]), ('b', 'd', 'a', 'y', 't', 'q')),\n",
              " (tensor([2, 4]), ('c', 'e'))]"
            ]
          },
          "metadata": {
            "tags": []
          },
          "execution_count": 57
        }
      ]
    },
    {
      "cell_type": "markdown",
      "metadata": {
        "id": "mSv4oePrAhkY"
      },
      "source": [
        "### **PUTTING ALL TOGETHER AND CONCLUSION:**\n"
      ]
    },
    {
      "cell_type": "code",
      "metadata": {
        "id": "t88knUmoB989"
      },
      "source": [
        "#@ INITIALIZING PARAMETERS: \n",
        "weights = init_params((28*28, 1))                       # Initializing Weights. \n",
        "bias = init_params(1)                                   # Initializing Bias. "
      ],
      "execution_count": 59,
      "outputs": []
    },
    {
      "cell_type": "code",
      "metadata": {
        "colab": {
          "base_uri": "https://localhost:8080/"
        },
        "id": "GHdyfodGCVYC",
        "outputId": "0b784869-e9a4-4b31-c697-b9d81353413f"
      },
      "source": [
        "#@ INITIALIZING DATALOADER: TRAINING DATASET:\n",
        "dl = DataLoader(dset, batch_size=256)                   # Initializing DataLoader. \n",
        "xb, yb = first(dl)                                      # Getting First Elements. \n",
        "xb.shape, yb.shape                                      # Inspecting the Shape. "
      ],
      "execution_count": 60,
      "outputs": [
        {
          "output_type": "execute_result",
          "data": {
            "text/plain": [
              "(torch.Size([256, 784]), torch.Size([256, 1]))"
            ]
          },
          "metadata": {
            "tags": []
          },
          "execution_count": 60
        }
      ]
    },
    {
      "cell_type": "code",
      "metadata": {
        "colab": {
          "base_uri": "https://localhost:8080/"
        },
        "id": "r6JldsDODHSI",
        "outputId": "b6d61e17-db99-44a0-fb0d-8292d10468ba"
      },
      "source": [
        "#@ INITIALIZING DATALOADER: VALIDATION DATASET:\n",
        "valid_dl = DataLoader(valid_dset, batch_size=256)           # Initializing DataLoader. \n",
        "v_xb, v_yb = first(valid_dl)                                # Getting First Elements. \n",
        "v_xb.shape, v_yb.shape                                      # Inspecting the Shape. "
      ],
      "execution_count": 61,
      "outputs": [
        {
          "output_type": "execute_result",
          "data": {
            "text/plain": [
              "(torch.Size([256, 784]), torch.Size([256, 1]))"
            ]
          },
          "metadata": {
            "tags": []
          },
          "execution_count": 61
        }
      ]
    },
    {
      "cell_type": "code",
      "metadata": {
        "colab": {
          "base_uri": "https://localhost:8080/"
        },
        "id": "AIVazOO9Dqdu",
        "outputId": "6a5391a4-869f-4bc6-8144-13f26be86793"
      },
      "source": [
        "#@ CREATING MINBATCH FOR TESTING: \n",
        "batch = train_x[:4]                                     # Initialization. \n",
        "batch.shape                                             # Inspecting Shape. "
      ],
      "execution_count": 62,
      "outputs": [
        {
          "output_type": "execute_result",
          "data": {
            "text/plain": [
              "torch.Size([4, 784])"
            ]
          },
          "metadata": {
            "tags": []
          },
          "execution_count": 62
        }
      ]
    },
    {
      "cell_type": "code",
      "metadata": {
        "colab": {
          "base_uri": "https://localhost:8080/"
        },
        "id": "h2rab3zeESW0",
        "outputId": "5cc9218c-6faa-4ffd-8174-8c5194885d33"
      },
      "source": [
        "#@ GETTING PREDICTIONS: \n",
        "preds = linear1(batch); preds                           # Getting Predictions. "
      ],
      "execution_count": 63,
      "outputs": [
        {
          "output_type": "execute_result",
          "data": {
            "text/plain": [
              "tensor([[-2.1876],\n",
              "        [-8.3973],\n",
              "        [ 2.5000],\n",
              "        [-4.9473]], grad_fn=<AddBackward0>)"
            ]
          },
          "metadata": {
            "tags": []
          },
          "execution_count": 63
        }
      ]
    },
    {
      "cell_type": "code",
      "metadata": {
        "colab": {
          "base_uri": "https://localhost:8080/"
        },
        "id": "clFEYwWYEjjm",
        "outputId": "45af2f3c-d7f0-46d1-c247-f60d957b5a95"
      },
      "source": [
        "#@ GETTING LOSS: \n",
        "loss = mnist_loss(preds, train_y[:4]); loss             # Getting Loss. "
      ],
      "execution_count": 64,
      "outputs": [
        {
          "output_type": "execute_result",
          "data": {
            "text/plain": [
              "tensor(0.7419, grad_fn=<MeanBackward0>)"
            ]
          },
          "metadata": {
            "tags": []
          },
          "execution_count": 64
        }
      ]
    },
    {
      "cell_type": "code",
      "metadata": {
        "colab": {
          "base_uri": "https://localhost:8080/"
        },
        "id": "WwDd4MW3E2kq",
        "outputId": "86bb8a6e-b1f5-4f01-f52d-506429ac250f"
      },
      "source": [
        "#@ CALCULATING GRADIENTS: \n",
        "loss.backward()                                         # Backpropagation. \n",
        "weights.grad.shape, weights.grad.mean(), bias.grad      # Inspecting Gradients."
      ],
      "execution_count": 65,
      "outputs": [
        {
          "output_type": "execute_result",
          "data": {
            "text/plain": [
              "(torch.Size([784, 1]), tensor(-0.0061), tensor([-0.0420]))"
            ]
          },
          "metadata": {
            "tags": []
          },
          "execution_count": 65
        }
      ]
    },
    {
      "cell_type": "code",
      "metadata": {
        "id": "HzpcJrA0GFvS",
        "colab": {
          "base_uri": "https://localhost:8080/"
        },
        "outputId": "c088938a-65f3-4c3e-db3a-fca20910ac59"
      },
      "source": [
        "#@ DEFINING THE FUNCTION: \n",
        "def calc_grad(xb, yb, model):                           # Defining Function. \n",
        "    preds = model(xb)                                   # Getting Predictions. \n",
        "    loss = mnist_loss(preds, yb)                        # Getting Loss. \n",
        "    loss.backward()                                     # Initializing Backpropagation. \n",
        "\n",
        "#@ IMPLEMENTATION OF FUNCTION: \n",
        "calc_grad(batch, train_y[:4], linear1)                  # Initializing the Function. \n",
        "weights.grad.mean(), bias.grad                          # Inspecting Weights and Bias. "
      ],
      "execution_count": 69,
      "outputs": [
        {
          "output_type": "execute_result",
          "data": {
            "text/plain": [
              "(tensor(-0.0243), tensor([-0.1680]))"
            ]
          },
          "metadata": {
            "tags": []
          },
          "execution_count": 69
        }
      ]
    },
    {
      "cell_type": "code",
      "metadata": {
        "id": "2MKnhwSbKaHm"
      },
      "source": [
        "#@ ZEROING GRADIENTS: \n",
        "weights.grad.zero_()                                    # Zeroing Weights. \n",
        "bias.grad.zero_();                                      # Zeroing Bias. "
      ],
      "execution_count": 70,
      "outputs": []
    },
    {
      "cell_type": "code",
      "metadata": {
        "id": "c7iKdEpQABvf",
        "colab": {
          "base_uri": "https://localhost:8080/"
        },
        "outputId": "2851a564-d5f1-421c-ac9d-c265695b53b6"
      },
      "source": [
        "#@ INITIALIZING BASIC TRAINING LOOP: \n",
        "def train_epoch(model, lr, params):                     # Initializing Training Function. \n",
        "    for xb, yb in dl: \n",
        "        calc_grad(xb, yb, model)                        # Calculating Gradients. \n",
        "        for p in params: \n",
        "            p.data -= p.grad * lr                       # Optimizing Parameters. \n",
        "            p.grad.zero_()                              # Zeroing Gradients. \n",
        "\n",
        "#@ DEFINING FUNCTION FOR ACCURACY: \n",
        "def batch_accuracy(xb, yb):                             # Initializing Function. \n",
        "    preds = xb.sigmoid()                                # Initializing Sigmoid. \n",
        "    correct = (preds > 0.5) == yb                       # Checking Predictions. \n",
        "    return correct.float().mean()                       # Getting Mean. \n",
        "\n",
        "#@ IMPLEMENTATION: \n",
        "batch_accuracy(batch, train_y[:4])                      # Getting Accuracy. "
      ],
      "execution_count": 72,
      "outputs": [
        {
          "output_type": "execute_result",
          "data": {
            "text/plain": [
              "tensor(0.2152)"
            ]
          },
          "metadata": {
            "tags": []
          },
          "execution_count": 72
        }
      ]
    },
    {
      "cell_type": "code",
      "metadata": {
        "colab": {
          "base_uri": "https://localhost:8080/"
        },
        "id": "a7SfVglaI3Uz",
        "outputId": "b8b5e49a-2415-4001-c98f-e073028cf43e"
      },
      "source": [
        "#@ DEFINING THE FUNCTION: \n",
        "def validate_epoch(model):                                       # Initializing the Function. \n",
        "    accs = [batch_accuracy(model(xb), yb) for xb, yb in \\\n",
        "            valid_dl]                                            # Getting Accuracy. \n",
        "    return round(torch.stack(accs).mean().item(), 4)             # Getting Rounded Accuracy. \n",
        "\n",
        "#@ IMPLEMENTATION: \n",
        "validate_epoch(linear1)                                          # Implementation of Function. "
      ],
      "execution_count": 73,
      "outputs": [
        {
          "output_type": "execute_result",
          "data": {
            "text/plain": [
              "0.5265"
            ]
          },
          "metadata": {
            "tags": []
          },
          "execution_count": 73
        }
      ]
    },
    {
      "cell_type": "code",
      "metadata": {
        "colab": {
          "base_uri": "https://localhost:8080/"
        },
        "id": "QKQjnEyTMlE7",
        "outputId": "e776e2cb-ce27-41d3-c594-a2af3e983571"
      },
      "source": [
        "#@ TRAINING AND EVALUATION: ONE EPOCH: \n",
        "lr = 1.                                                 # Initializing LR.\n",
        "params = weights, bias                                  # Initializing Weights and Bias. \n",
        "train_epoch(linear1, lr, params)                        # Initializing Training. \n",
        "validate_epoch(linear1)                                 # Evaluation. "
      ],
      "execution_count": 74,
      "outputs": [
        {
          "output_type": "execute_result",
          "data": {
            "text/plain": [
              "0.6664"
            ]
          },
          "metadata": {
            "tags": []
          },
          "execution_count": 74
        }
      ]
    },
    {
      "cell_type": "code",
      "metadata": {
        "colab": {
          "base_uri": "https://localhost:8080/"
        },
        "id": "7imUusGhNUPY",
        "outputId": "390fccc7-3533-48d6-ff64-4d7fd8cb0a52"
      },
      "source": [
        "#@ TRAINING AND EVALUATION: 20 EPOCH:  \n",
        "for i in range(20):\n",
        "    train_epoch(linear1, lr, params)                     # Initializing Training. \n",
        "    print(validate_epoch(linear1), end=(\" \"))            # Evaluation. "
      ],
      "execution_count": 75,
      "outputs": [
        {
          "output_type": "stream",
          "text": [
            "0.8265 0.89 0.9183 0.9276 0.9398 0.9466 0.9505 0.9524 0.9559 0.9578 0.9598 0.9608 0.9612 0.9617 0.9632 0.9637 0.9647 0.9656 0.9671 0.9676 "
          ],
          "name": "stdout"
        }
      ]
    },
    {
      "cell_type": "code",
      "metadata": {
        "id": "y1t_MRXgNyop"
      },
      "source": [
        ""
      ],
      "execution_count": null,
      "outputs": []
    }
  ]
}