{
  "nbformat": 4,
  "nbformat_minor": 0,
  "metadata": {
    "colab": {
      "name": "DigitClassifier.ipynb",
      "provenance": []
    },
    "kernelspec": {
      "name": "python3",
      "display_name": "Python 3"
    },
    "language_info": {
      "name": "python"
    },
    "accelerator": "GPU"
  },
  "cells": [
    {
      "cell_type": "markdown",
      "metadata": {
        "id": "Z_bCNOrXFTlC"
      },
      "source": [
        "**INITIALIZATION:**\n",
        "- I use these three lines of code on top of my each notebooks because it will help to prevent any problems while reloading the same project. And the third line of code helps to make visualization within the notebook."
      ]
    },
    {
      "cell_type": "code",
      "metadata": {
        "id": "bQw79PhZCcDf"
      },
      "source": [
        "#@ INITIALIZATION: \n",
        "%reload_ext autoreload\n",
        "%autoreload 2\n",
        "%matplotlib inline"
      ],
      "execution_count": 1,
      "outputs": []
    },
    {
      "cell_type": "markdown",
      "metadata": {
        "id": "kmvopyXdFhIr"
      },
      "source": [
        "**DOWNLOADING LIBRARIES AND DEPENDENCIES:**\n",
        "- I have downloaded all the libraries and dependencies required for the project in one particular cell."
      ]
    },
    {
      "cell_type": "code",
      "metadata": {
        "id": "iNZFQ-frFe4n"
      },
      "source": [
        "#@ INSTALLING DEPENDENCIES: UNCOMMENT BELOW: \n",
        "# !pip install -Uqq fastbook\n",
        "# import fastbook\n",
        "# fastbook.setup_book()"
      ],
      "execution_count": 3,
      "outputs": []
    },
    {
      "cell_type": "code",
      "metadata": {
        "id": "fiwOKUn-Fwsn"
      },
      "source": [
        "#@ DOWNLOADING LIBRARIES AND DEPENDENCIES: \n",
        "from fastai.vision.all import *                         # Getting all the Libraries. \n",
        "from fastbook import *                                  # Getting all the Libraries. \n",
        "matplotlib.rc(\"image\", cmap=\"Greys\")                    # Initializing Dependencies. "
      ],
      "execution_count": 4,
      "outputs": []
    },
    {
      "cell_type": "markdown",
      "metadata": {
        "id": "fAEvXKQVHG9w"
      },
      "source": [
        "**GETTING THE DATA:**\n",
        "- I will download a sample of **MNIST**. \n"
      ]
    },
    {
      "cell_type": "code",
      "metadata": {
        "colab": {
          "base_uri": "https://localhost:8080/",
          "height": 34
        },
        "id": "iYv08cn-Gi40",
        "outputId": "eacfb188-531b-4551-de89-5996b5014c5e"
      },
      "source": [
        "#@ GETTING THE DATA: \n",
        "PATH = untar_data(URLs.MNIST_SAMPLE)                    # Path to the Dataset. \n",
        "PATH.ls()                                               # Inspecting Items. "
      ],
      "execution_count": 5,
      "outputs": [
        {
          "output_type": "display_data",
          "data": {
            "text/html": [
              ""
            ],
            "text/plain": [
              "<IPython.core.display.HTML object>"
            ]
          },
          "metadata": {
            "tags": []
          }
        },
        {
          "output_type": "execute_result",
          "data": {
            "text/plain": [
              "(#3) [Path('/root/.fastai/data/mnist_sample/labels.csv'),Path('/root/.fastai/data/mnist_sample/train'),Path('/root/.fastai/data/mnist_sample/valid')]"
            ]
          },
          "metadata": {
            "tags": []
          },
          "execution_count": 5
        }
      ]
    },
    {
      "cell_type": "code",
      "metadata": {
        "colab": {
          "base_uri": "https://localhost:8080/"
        },
        "id": "PXScuAwFIVG5",
        "outputId": "831a594d-29ac-4f91-9e01-7b09995929fe"
      },
      "source": [
        "#@ INSPECTING THE TRAINING SET:  \n",
        "(PATH/\"train\").ls()                                     # Inspecting Items. "
      ],
      "execution_count": 6,
      "outputs": [
        {
          "output_type": "execute_result",
          "data": {
            "text/plain": [
              "(#2) [Path('/root/.fastai/data/mnist_sample/train/3'),Path('/root/.fastai/data/mnist_sample/train/7')]"
            ]
          },
          "metadata": {
            "tags": []
          },
          "execution_count": 6
        }
      ]
    },
    {
      "cell_type": "code",
      "metadata": {
        "colab": {
          "base_uri": "https://localhost:8080/"
        },
        "id": "Raue0CXaKEdr",
        "outputId": "2d66d0a0-3d73-455b-f57f-e8278286968d"
      },
      "source": [
        "#@ INSPECTING THE FOLDERS: \n",
        "threes = (PATH/\"train\"/\"3\").ls().sorted()               # Getting Same Order of Items. \n",
        "sevens = (PATH/\"train\"/\"7\").ls().sorted()               # Getting Same Order of Items. \n",
        "threes                                                  # Inspecting Items. "
      ],
      "execution_count": 7,
      "outputs": [
        {
          "output_type": "execute_result",
          "data": {
            "text/plain": [
              "(#6131) [Path('/root/.fastai/data/mnist_sample/train/3/10.png'),Path('/root/.fastai/data/mnist_sample/train/3/10000.png'),Path('/root/.fastai/data/mnist_sample/train/3/10011.png'),Path('/root/.fastai/data/mnist_sample/train/3/10031.png'),Path('/root/.fastai/data/mnist_sample/train/3/10034.png'),Path('/root/.fastai/data/mnist_sample/train/3/10042.png'),Path('/root/.fastai/data/mnist_sample/train/3/10052.png'),Path('/root/.fastai/data/mnist_sample/train/3/1007.png'),Path('/root/.fastai/data/mnist_sample/train/3/10074.png'),Path('/root/.fastai/data/mnist_sample/train/3/10091.png')...]"
            ]
          },
          "metadata": {
            "tags": []
          },
          "execution_count": 7
        }
      ]
    },
    {
      "cell_type": "code",
      "metadata": {
        "colab": {
          "base_uri": "https://localhost:8080/",
          "height": 45
        },
        "id": "oC-NwV_fLL_K",
        "outputId": "8655b38c-60b6-4147-ac7d-e5aad0926c5b"
      },
      "source": [
        "#@ INSPECTING IMAGE: \n",
        "im3_path = threes[1]                                    # Path to the Image. \n",
        "im3 = Image.open(im3_path)                              # Getting an Image. \n",
        "im3"
      ],
      "execution_count": 8,
      "outputs": [
        {
          "output_type": "execute_result",
          "data": {
            "image/png": "[encoded data removed]",
            "text/plain": [
              "<PIL.PngImagePlugin.PngImageFile image mode=L size=28x28 at 0x7FD857C99610>"
            ]
          },
          "metadata": {
            "tags": []
          },
          "execution_count": 8
        }
      ]
    },
    {
      "cell_type": "code",
      "metadata": {
        "colab": {
          "base_uri": "https://localhost:8080/"
        },
        "id": "LWmzTD_1d6rQ",
        "outputId": "86ea43ec-3c5f-4e5f-91a6-6695bc456ea0"
      },
      "source": [
        "#@ CONVERTING INTO ARRAY: \n",
        "array(im3)[4:10, 4:10]                                  # Getting Numpy Array. "
      ],
      "execution_count": 9,
      "outputs": [
        {
          "output_type": "execute_result",
          "data": {
            "text/plain": [
              "array([[  0,   0,   0,   0,   0,   0],\n",
              "       [  0,   0,   0,   0,   0,  29],\n",
              "       [  0,   0,   0,  48, 166, 224],\n",
              "       [  0,  93, 244, 249, 253, 187],\n",
              "       [  0, 107, 253, 253, 230,  48],\n",
              "       [  0,   3,  20,  20,  15,   0]], dtype=uint8)"
            ]
          },
          "metadata": {
            "tags": []
          },
          "execution_count": 9
        }
      ]
    },
    {
      "cell_type": "code",
      "metadata": {
        "colab": {
          "base_uri": "https://localhost:8080/"
        },
        "id": "C_jzwfZUfCPE",
        "outputId": "fe1a4a87-4615-4713-83e6-6ecb605cd9df"
      },
      "source": [
        "#@ CONVERTING INTO ARRAY: \n",
        "tensor(im3)[4:10, 4:10]                                 # Getting a Tensor. "
      ],
      "execution_count": 10,
      "outputs": [
        {
          "output_type": "execute_result",
          "data": {
            "text/plain": [
              "tensor([[  0,   0,   0,   0,   0,   0],\n",
              "        [  0,   0,   0,   0,   0,  29],\n",
              "        [  0,   0,   0,  48, 166, 224],\n",
              "        [  0,  93, 244, 249, 253, 187],\n",
              "        [  0, 107, 253, 253, 230,  48],\n",
              "        [  0,   3,  20,  20,  15,   0]], dtype=torch.uint8)"
            ]
          },
          "metadata": {
            "tags": []
          },
          "execution_count": 10
        }
      ]
    },
    {
      "cell_type": "code",
      "metadata": {
        "colab": {
          "base_uri": "https://localhost:8080/",
          "height": 271
        },
        "id": "yvtonh1cgPKc",
        "outputId": "fa7812e9-f4a9-4029-a84d-8a2d1dd3a8ca"
      },
      "source": [
        "#@ INSPECTING PIXELS: \n",
        "im3_t = tensor(im3)                                     # Getting a Tensor. \n",
        "df = pd.DataFrame(im3_t[4:15, 4:22])                    # Creating a DataFrame. \n",
        "df.style.set_properties(**{\"font-size\":\"6pt\"})\\\n",
        "        .background_gradient(\"Greys\")                   # Inspecting the Image. "
      ],
      "execution_count": 11,
      "outputs": [
        {
          "output_type": "execute_result",
          "data": {
            "text/html": [
              "<style  type=\"text/css\" >\n",
              "#T_f64347da_d6ee_11eb_b88f_0242ac1c0002row0_col0,#T_f64347da_d6ee_11eb_b88f_0242ac1c0002row0_col1,#T_f64347da_d6ee_11eb_b88f_0242ac1c0002row0_col2,#T_f64347da_d6ee_11eb_b88f_0242ac1c0002row0_col3,#T_f64347da_d6ee_11eb_b88f_0242ac1c0002row0_col4,#T_f64347da_d6ee_11eb_b88f_0242ac1c0002row0_col5,#T_f64347da_d6ee_11eb_b88f_0242ac1c0002row0_col6,#T_f64347da_d6ee_11eb_b88f_0242ac1c0002row0_col7,#T_f64347da_d6ee_11eb_b88f_0242ac1c0002row0_col8,#T_f64347da_d6ee_11eb_b88f_0242ac1c0002row0_col9,#T_f64347da_d6ee_11eb_b88f_0242ac1c0002row0_col10,#T_f64347da_d6ee_11eb_b88f_0242ac1c0002row0_col11,#T_f64347da_d6ee_11eb_b88f_0242ac1c0002row0_col12,#T_f64347da_d6ee_11eb_b88f_0242ac1c0002row0_col13,#T_f64347da_d6ee_11eb_b88f_0242ac1c0002row0_col14,#T_f64347da_d6ee_11eb_b88f_0242ac1c0002row0_col15,#T_f64347da_d6ee_11eb_b88f_0242ac1c0002row0_col16,#T_f64347da_d6ee_11eb_b88f_0242ac1c0002row0_col17,#T_f64347da_d6ee_11eb_b88f_0242ac1c0002row1_col0,#T_f64347da_d6ee_11eb_b88f_0242ac1c0002row1_col1,#T_f64347da_d6ee_11eb_b88f_0242ac1c0002row1_col2,#T_f64347da_d6ee_11eb_b88f_0242ac1c0002row1_col3,#T_f64347da_d6ee_11eb_b88f_0242ac1c0002row1_col4,#T_f64347da_d6ee_11eb_b88f_0242ac1c0002row1_col15,#T_f64347da_d6ee_11eb_b88f_0242ac1c0002row1_col16,#T_f64347da_d6ee_11eb_b88f_0242ac1c0002row1_col17,#T_f64347da_d6ee_11eb_b88f_0242ac1c0002row2_col0,#T_f64347da_d6ee_11eb_b88f_0242ac1c0002row2_col1,#T_f64347da_d6ee_11eb_b88f_0242ac1c0002row2_col2,#T_f64347da_d6ee_11eb_b88f_0242ac1c0002row2_col15,#T_f64347da_d6ee_11eb_b88f_0242ac1c0002row2_col16,#T_f64347da_d6ee_11eb_b88f_0242ac1c0002row2_col17,#T_f64347da_d6ee_11eb_b88f_0242ac1c0002row3_col0,#T_f64347da_d6ee_11eb_b88f_0242ac1c0002row3_col15,#T_f64347da_d6ee_11eb_b88f_0242ac1c0002row3_col16,#T_f64347da_d6ee_11eb_b88f_0242ac1c0002row3_col17,#T_f64347da_d6ee_11eb_b88f_0242ac1c0002row4_col0,#T_f64347da_d6ee_11eb_b88f_0242ac1c0002row4_col6,#T_f64347da_d6ee_11eb_b88f_0242ac1c0002row4_col7,#T_f64347da_d6ee_11eb_b88f_0242ac1c0002row4_col8,#T_f64347da_d6ee_11eb_b88f_0242ac1c0002row4_col9,#T_f64347da_d6ee_11eb_b88f_0242ac1c0002row4_col10,#T_f64347da_d6ee_11eb_b88f_0242ac1c0002row4_col15,#T_f64347da_d6ee_11eb_b88f_0242ac1c0002row4_col16,#T_f64347da_d6ee_11eb_b88f_0242ac1c0002row4_col17,#T_f64347da_d6ee_11eb_b88f_0242ac1c0002row5_col0,#T_f64347da_d6ee_11eb_b88f_0242ac1c0002row5_col5,#T_f64347da_d6ee_11eb_b88f_0242ac1c0002row5_col6,#T_f64347da_d6ee_11eb_b88f_0242ac1c0002row5_col7,#T_f64347da_d6ee_11eb_b88f_0242ac1c0002row5_col8,#T_f64347da_d6ee_11eb_b88f_0242ac1c0002row5_col9,#T_f64347da_d6ee_11eb_b88f_0242ac1c0002row5_col15,#T_f64347da_d6ee_11eb_b88f_0242ac1c0002row5_col16,#T_f64347da_d6ee_11eb_b88f_0242ac1c0002row5_col17,#T_f64347da_d6ee_11eb_b88f_0242ac1c0002row6_col0,#T_f64347da_d6ee_11eb_b88f_0242ac1c0002row6_col1,#T_f64347da_d6ee_11eb_b88f_0242ac1c0002row6_col2,#T_f64347da_d6ee_11eb_b88f_0242ac1c0002row6_col3,#T_f64347da_d6ee_11eb_b88f_0242ac1c0002row6_col4,#T_f64347da_d6ee_11eb_b88f_0242ac1c0002row6_col5,#T_f64347da_d6ee_11eb_b88f_0242ac1c0002row6_col6,#T_f64347da_d6ee_11eb_b88f_0242ac1c0002row6_col7,#T_f64347da_d6ee_11eb_b88f_0242ac1c0002row6_col8,#T_f64347da_d6ee_11eb_b88f_0242ac1c0002row6_col9,#T_f64347da_d6ee_11eb_b88f_0242ac1c0002row6_col14,#T_f64347da_d6ee_11eb_b88f_0242ac1c0002row6_col15,#T_f64347da_d6ee_11eb_b88f_0242ac1c0002row6_col16,#T_f64347da_d6ee_11eb_b88f_0242ac1c0002row6_col17,#T_f64347da_d6ee_11eb_b88f_0242ac1c0002row7_col0,#T_f64347da_d6ee_11eb_b88f_0242ac1c0002row7_col1,#T_f64347da_d6ee_11eb_b88f_0242ac1c0002row7_col2,#T_f64347da_d6ee_11eb_b88f_0242ac1c0002row7_col3,#T_f64347da_d6ee_11eb_b88f_0242ac1c0002row7_col4,#T_f64347da_d6ee_11eb_b88f_0242ac1c0002row7_col5,#T_f64347da_d6ee_11eb_b88f_0242ac1c0002row7_col6,#T_f64347da_d6ee_11eb_b88f_0242ac1c0002row7_col13,#T_f64347da_d6ee_11eb_b88f_0242ac1c0002row7_col14,#T_f64347da_d6ee_11eb_b88f_0242ac1c0002row7_col15,#T_f64347da_d6ee_11eb_b88f_0242ac1c0002row7_col16,#T_f64347da_d6ee_11eb_b88f_0242ac1c0002row7_col17,#T_f64347da_d6ee_11eb_b88f_0242ac1c0002row8_col0,#T_f64347da_d6ee_11eb_b88f_0242ac1c0002row8_col1,#T_f64347da_d6ee_11eb_b88f_0242ac1c0002row8_col2,#T_f64347da_d6ee_11eb_b88f_0242ac1c0002row8_col3,#T_f64347da_d6ee_11eb_b88f_0242ac1c0002row8_col4,#T_f64347da_d6ee_11eb_b88f_0242ac1c0002row8_col13,#T_f64347da_d6ee_11eb_b88f_0242ac1c0002row8_col14,#T_f64347da_d6ee_11eb_b88f_0242ac1c0002row8_col15,#T_f64347da_d6ee_11eb_b88f_0242ac1c0002row8_col16,#T_f64347da_d6ee_11eb_b88f_0242ac1c0002row8_col17,#T_f64347da_d6ee_11eb_b88f_0242ac1c0002row9_col0,#T_f64347da_d6ee_11eb_b88f_0242ac1c0002row9_col1,#T_f64347da_d6ee_11eb_b88f_0242ac1c0002row9_col2,#T_f64347da_d6ee_11eb_b88f_0242ac1c0002row9_col3,#T_f64347da_d6ee_11eb_b88f_0242ac1c0002row9_col4,#T_f64347da_d6ee_11eb_b88f_0242ac1c0002row9_col16,#T_f64347da_d6ee_11eb_b88f_0242ac1c0002row9_col17,#T_f64347da_d6ee_11eb_b88f_0242ac1c0002row10_col0,#T_f64347da_d6ee_11eb_b88f_0242ac1c0002row10_col1,#T_f64347da_d6ee_11eb_b88f_0242ac1c0002row10_col2,#T_f64347da_d6ee_11eb_b88f_0242ac1c0002row10_col3,#T_f64347da_d6ee_11eb_b88f_0242ac1c0002row10_col4,#T_f64347da_d6ee_11eb_b88f_0242ac1c0002row10_col5,#T_f64347da_d6ee_11eb_b88f_0242ac1c0002row10_col6,#T_f64347da_d6ee_11eb_b88f_0242ac1c0002row10_col17{\n",
              "            font-size:  6pt;\n",
              "            background-color:  #ffffff;\n",
              "            color:  #000000;\n",
              "        }#T_f64347da_d6ee_11eb_b88f_0242ac1c0002row1_col5{\n",
              "            font-size:  6pt;\n",
              "            background-color:  #efefef;\n",
              "            color:  #000000;\n",
              "        }#T_f64347da_d6ee_11eb_b88f_0242ac1c0002row1_col6,#T_f64347da_d6ee_11eb_b88f_0242ac1c0002row1_col13{\n",
              "            font-size:  6pt;\n",
              "            background-color:  #7c7c7c;\n",
              "            color:  #000000;\n",
              "        }#T_f64347da_d6ee_11eb_b88f_0242ac1c0002row1_col7{\n",
              "            font-size:  6pt;\n",
              "            background-color:  #4a4a4a;\n",
              "            color:  #f1f1f1;\n",
              "        }#T_f64347da_d6ee_11eb_b88f_0242ac1c0002row1_col8,#T_f64347da_d6ee_11eb_b88f_0242ac1c0002row1_col9,#T_f64347da_d6ee_11eb_b88f_0242ac1c0002row1_col10,#T_f64347da_d6ee_11eb_b88f_0242ac1c0002row2_col5,#T_f64347da_d6ee_11eb_b88f_0242ac1c0002row2_col6,#T_f64347da_d6ee_11eb_b88f_0242ac1c0002row2_col7,#T_f64347da_d6ee_11eb_b88f_0242ac1c0002row2_col11,#T_f64347da_d6ee_11eb_b88f_0242ac1c0002row2_col12,#T_f64347da_d6ee_11eb_b88f_0242ac1c0002row2_col13,#T_f64347da_d6ee_11eb_b88f_0242ac1c0002row3_col4,#T_f64347da_d6ee_11eb_b88f_0242ac1c0002row3_col12,#T_f64347da_d6ee_11eb_b88f_0242ac1c0002row3_col13,#T_f64347da_d6ee_11eb_b88f_0242ac1c0002row4_col1,#T_f64347da_d6ee_11eb_b88f_0242ac1c0002row4_col2,#T_f64347da_d6ee_11eb_b88f_0242ac1c0002row4_col3,#T_f64347da_d6ee_11eb_b88f_0242ac1c0002row4_col12,#T_f64347da_d6ee_11eb_b88f_0242ac1c0002row4_col13,#T_f64347da_d6ee_11eb_b88f_0242ac1c0002row5_col12,#T_f64347da_d6ee_11eb_b88f_0242ac1c0002row6_col11,#T_f64347da_d6ee_11eb_b88f_0242ac1c0002row9_col11,#T_f64347da_d6ee_11eb_b88f_0242ac1c0002row10_col11,#T_f64347da_d6ee_11eb_b88f_0242ac1c0002row10_col12,#T_f64347da_d6ee_11eb_b88f_0242ac1c0002row10_col13,#T_f64347da_d6ee_11eb_b88f_0242ac1c0002row10_col14,#T_f64347da_d6ee_11eb_b88f_0242ac1c0002row10_col15,#T_f64347da_d6ee_11eb_b88f_0242ac1c0002row10_col16{\n",
              "            font-size:  6pt;\n",
              "            background-color:  #000000;\n",
              "            color:  #f1f1f1;\n",
              "        }#T_f64347da_d6ee_11eb_b88f_0242ac1c0002row1_col11{\n",
              "            font-size:  6pt;\n",
              "            background-color:  #606060;\n",
              "            color:  #f1f1f1;\n",
              "        }#T_f64347da_d6ee_11eb_b88f_0242ac1c0002row1_col12{\n",
              "            font-size:  6pt;\n",
              "            background-color:  #4d4d4d;\n",
              "            color:  #f1f1f1;\n",
              "        }#T_f64347da_d6ee_11eb_b88f_0242ac1c0002row1_col14{\n",
              "            font-size:  6pt;\n",
              "            background-color:  #bbbbbb;\n",
              "            color:  #000000;\n",
              "        }#T_f64347da_d6ee_11eb_b88f_0242ac1c0002row2_col3{\n",
              "            font-size:  6pt;\n",
              "            background-color:  #e4e4e4;\n",
              "            color:  #000000;\n",
              "        }#T_f64347da_d6ee_11eb_b88f_0242ac1c0002row2_col4,#T_f64347da_d6ee_11eb_b88f_0242ac1c0002row8_col6{\n",
              "            font-size:  6pt;\n",
              "            background-color:  #6b6b6b;\n",
              "            color:  #000000;\n",
              "        }#T_f64347da_d6ee_11eb_b88f_0242ac1c0002row2_col8,#T_f64347da_d6ee_11eb_b88f_0242ac1c0002row2_col14,#T_f64347da_d6ee_11eb_b88f_0242ac1c0002row3_col14{\n",
              "            font-size:  6pt;\n",
              "            background-color:  #171717;\n",
              "            color:  #f1f1f1;\n",
              "        }#T_f64347da_d6ee_11eb_b88f_0242ac1c0002row2_col9,#T_f64347da_d6ee_11eb_b88f_0242ac1c0002row3_col11{\n",
              "            font-size:  6pt;\n",
              "            background-color:  #4b4b4b;\n",
              "            color:  #f1f1f1;\n",
              "        }#T_f64347da_d6ee_11eb_b88f_0242ac1c0002row2_col10,#T_f64347da_d6ee_11eb_b88f_0242ac1c0002row7_col10,#T_f64347da_d6ee_11eb_b88f_0242ac1c0002row8_col8,#T_f64347da_d6ee_11eb_b88f_0242ac1c0002row8_col10,#T_f64347da_d6ee_11eb_b88f_0242ac1c0002row9_col8,#T_f64347da_d6ee_11eb_b88f_0242ac1c0002row9_col10{\n",
              "            font-size:  6pt;\n",
              "            background-color:  #010101;\n",
              "            color:  #f1f1f1;\n",
              "        }#T_f64347da_d6ee_11eb_b88f_0242ac1c0002row3_col1{\n",
              "            font-size:  6pt;\n",
              "            background-color:  #272727;\n",
              "            color:  #f1f1f1;\n",
              "        }#T_f64347da_d6ee_11eb_b88f_0242ac1c0002row3_col2{\n",
              "            font-size:  6pt;\n",
              "            background-color:  #0a0a0a;\n",
              "            color:  #f1f1f1;\n",
              "        }#T_f64347da_d6ee_11eb_b88f_0242ac1c0002row3_col3{\n",
              "            font-size:  6pt;\n",
              "            background-color:  #050505;\n",
              "            color:  #f1f1f1;\n",
              "        }#T_f64347da_d6ee_11eb_b88f_0242ac1c0002row3_col5{\n",
              "            font-size:  6pt;\n",
              "            background-color:  #333333;\n",
              "            color:  #f1f1f1;\n",
              "        }#T_f64347da_d6ee_11eb_b88f_0242ac1c0002row3_col6{\n",
              "            font-size:  6pt;\n",
              "            background-color:  #e6e6e6;\n",
              "            color:  #000000;\n",
              "        }#T_f64347da_d6ee_11eb_b88f_0242ac1c0002row3_col7,#T_f64347da_d6ee_11eb_b88f_0242ac1c0002row3_col10{\n",
              "            font-size:  6pt;\n",
              "            background-color:  #fafafa;\n",
              "            color:  #000000;\n",
              "        }#T_f64347da_d6ee_11eb_b88f_0242ac1c0002row3_col8{\n",
              "            font-size:  6pt;\n",
              "            background-color:  #fbfbfb;\n",
              "            color:  #000000;\n",
              "        }#T_f64347da_d6ee_11eb_b88f_0242ac1c0002row3_col9{\n",
              "            font-size:  6pt;\n",
              "            background-color:  #fdfdfd;\n",
              "            color:  #000000;\n",
              "        }#T_f64347da_d6ee_11eb_b88f_0242ac1c0002row4_col4{\n",
              "            font-size:  6pt;\n",
              "            background-color:  #1b1b1b;\n",
              "            color:  #f1f1f1;\n",
              "        }#T_f64347da_d6ee_11eb_b88f_0242ac1c0002row4_col5{\n",
              "            font-size:  6pt;\n",
              "            background-color:  #e0e0e0;\n",
              "            color:  #000000;\n",
              "        }#T_f64347da_d6ee_11eb_b88f_0242ac1c0002row4_col11{\n",
              "            font-size:  6pt;\n",
              "            background-color:  #4e4e4e;\n",
              "            color:  #f1f1f1;\n",
              "        }#T_f64347da_d6ee_11eb_b88f_0242ac1c0002row4_col14{\n",
              "            font-size:  6pt;\n",
              "            background-color:  #767676;\n",
              "            color:  #000000;\n",
              "        }#T_f64347da_d6ee_11eb_b88f_0242ac1c0002row5_col1{\n",
              "            font-size:  6pt;\n",
              "            background-color:  #fcfcfc;\n",
              "            color:  #000000;\n",
              "        }#T_f64347da_d6ee_11eb_b88f_0242ac1c0002row5_col2,#T_f64347da_d6ee_11eb_b88f_0242ac1c0002row5_col3{\n",
              "            font-size:  6pt;\n",
              "            background-color:  #f6f6f6;\n",
              "            color:  #000000;\n",
              "        }#T_f64347da_d6ee_11eb_b88f_0242ac1c0002row5_col4,#T_f64347da_d6ee_11eb_b88f_0242ac1c0002row7_col7{\n",
              "            font-size:  6pt;\n",
              "            background-color:  #f8f8f8;\n",
              "            color:  #000000;\n",
              "        }#T_f64347da_d6ee_11eb_b88f_0242ac1c0002row5_col10,#T_f64347da_d6ee_11eb_b88f_0242ac1c0002row10_col7{\n",
              "            font-size:  6pt;\n",
              "            background-color:  #e8e8e8;\n",
              "            color:  #000000;\n",
              "        }#T_f64347da_d6ee_11eb_b88f_0242ac1c0002row5_col11{\n",
              "            font-size:  6pt;\n",
              "            background-color:  #222222;\n",
              "            color:  #f1f1f1;\n",
              "        }#T_f64347da_d6ee_11eb_b88f_0242ac1c0002row5_col13,#T_f64347da_d6ee_11eb_b88f_0242ac1c0002row6_col12{\n",
              "            font-size:  6pt;\n",
              "            background-color:  #090909;\n",
              "            color:  #f1f1f1;\n",
              "        }#T_f64347da_d6ee_11eb_b88f_0242ac1c0002row5_col14{\n",
              "            font-size:  6pt;\n",
              "            background-color:  #d0d0d0;\n",
              "            color:  #000000;\n",
              "        }#T_f64347da_d6ee_11eb_b88f_0242ac1c0002row6_col10,#T_f64347da_d6ee_11eb_b88f_0242ac1c0002row7_col11,#T_f64347da_d6ee_11eb_b88f_0242ac1c0002row9_col6{\n",
              "            font-size:  6pt;\n",
              "            background-color:  #060606;\n",
              "            color:  #f1f1f1;\n",
              "        }#T_f64347da_d6ee_11eb_b88f_0242ac1c0002row6_col13{\n",
              "            font-size:  6pt;\n",
              "            background-color:  #979797;\n",
              "            color:  #000000;\n",
              "        }#T_f64347da_d6ee_11eb_b88f_0242ac1c0002row7_col8{\n",
              "            font-size:  6pt;\n",
              "            background-color:  #b6b6b6;\n",
              "            color:  #000000;\n",
              "        }#T_f64347da_d6ee_11eb_b88f_0242ac1c0002row7_col9{\n",
              "            font-size:  6pt;\n",
              "            background-color:  #252525;\n",
              "            color:  #f1f1f1;\n",
              "        }#T_f64347da_d6ee_11eb_b88f_0242ac1c0002row7_col12{\n",
              "            font-size:  6pt;\n",
              "            background-color:  #999999;\n",
              "            color:  #000000;\n",
              "        }#T_f64347da_d6ee_11eb_b88f_0242ac1c0002row8_col5{\n",
              "            font-size:  6pt;\n",
              "            background-color:  #f9f9f9;\n",
              "            color:  #000000;\n",
              "        }#T_f64347da_d6ee_11eb_b88f_0242ac1c0002row8_col7{\n",
              "            font-size:  6pt;\n",
              "            background-color:  #101010;\n",
              "            color:  #f1f1f1;\n",
              "        }#T_f64347da_d6ee_11eb_b88f_0242ac1c0002row8_col9,#T_f64347da_d6ee_11eb_b88f_0242ac1c0002row9_col9{\n",
              "            font-size:  6pt;\n",
              "            background-color:  #020202;\n",
              "            color:  #f1f1f1;\n",
              "        }#T_f64347da_d6ee_11eb_b88f_0242ac1c0002row8_col11{\n",
              "            font-size:  6pt;\n",
              "            background-color:  #545454;\n",
              "            color:  #f1f1f1;\n",
              "        }#T_f64347da_d6ee_11eb_b88f_0242ac1c0002row8_col12{\n",
              "            font-size:  6pt;\n",
              "            background-color:  #f1f1f1;\n",
              "            color:  #000000;\n",
              "        }#T_f64347da_d6ee_11eb_b88f_0242ac1c0002row9_col5{\n",
              "            font-size:  6pt;\n",
              "            background-color:  #f7f7f7;\n",
              "            color:  #000000;\n",
              "        }#T_f64347da_d6ee_11eb_b88f_0242ac1c0002row9_col7{\n",
              "            font-size:  6pt;\n",
              "            background-color:  #030303;\n",
              "            color:  #f1f1f1;\n",
              "        }#T_f64347da_d6ee_11eb_b88f_0242ac1c0002row9_col12{\n",
              "            font-size:  6pt;\n",
              "            background-color:  #181818;\n",
              "            color:  #f1f1f1;\n",
              "        }#T_f64347da_d6ee_11eb_b88f_0242ac1c0002row9_col13{\n",
              "            font-size:  6pt;\n",
              "            background-color:  #303030;\n",
              "            color:  #f1f1f1;\n",
              "        }#T_f64347da_d6ee_11eb_b88f_0242ac1c0002row9_col14{\n",
              "            font-size:  6pt;\n",
              "            background-color:  #a9a9a9;\n",
              "            color:  #000000;\n",
              "        }#T_f64347da_d6ee_11eb_b88f_0242ac1c0002row9_col15{\n",
              "            font-size:  6pt;\n",
              "            background-color:  #fefefe;\n",
              "            color:  #000000;\n",
              "        }#T_f64347da_d6ee_11eb_b88f_0242ac1c0002row10_col8,#T_f64347da_d6ee_11eb_b88f_0242ac1c0002row10_col9{\n",
              "            font-size:  6pt;\n",
              "            background-color:  #bababa;\n",
              "            color:  #000000;\n",
              "        }#T_f64347da_d6ee_11eb_b88f_0242ac1c0002row10_col10{\n",
              "            font-size:  6pt;\n",
              "            background-color:  #393939;\n",
              "            color:  #f1f1f1;\n",
              "        }</style><table id=\"T_f64347da_d6ee_11eb_b88f_0242ac1c0002\" ><thead>    <tr>        <th class=\"blank level0\" ></th>        <th class=\"col_heading level0 col0\" >0</th>        <th class=\"col_heading level0 col1\" >1</th>        <th class=\"col_heading level0 col2\" >2</th>        <th class=\"col_heading level0 col3\" >3</th>        <th class=\"col_heading level0 col4\" >4</th>        <th class=\"col_heading level0 col5\" >5</th>        <th class=\"col_heading level0 col6\" >6</th>        <th class=\"col_heading level0 col7\" >7</th>        <th class=\"col_heading level0 col8\" >8</th>        <th class=\"col_heading level0 col9\" >9</th>        <th class=\"col_heading level0 col10\" >10</th>        <th class=\"col_heading level0 col11\" >11</th>        <th class=\"col_heading level0 col12\" >12</th>        <th class=\"col_heading level0 col13\" >13</th>        <th class=\"col_heading level0 col14\" >14</th>        <th class=\"col_heading level0 col15\" >15</th>        <th class=\"col_heading level0 col16\" >16</th>        <th class=\"col_heading level0 col17\" >17</th>    </tr></thead><tbody>\n",
              "                <tr>\n",
              "                        <th id=\"T_f64347da_d6ee_11eb_b88f_0242ac1c0002level0_row0\" class=\"row_heading level0 row0\" >0</th>\n",
              "                        <td id=\"T_f64347da_d6ee_11eb_b88f_0242ac1c0002row0_col0\" class=\"data row0 col0\" >0</td>\n",
              "                        <td id=\"T_f64347da_d6ee_11eb_b88f_0242ac1c0002row0_col1\" class=\"data row0 col1\" >0</td>\n",
              "                        <td id=\"T_f64347da_d6ee_11eb_b88f_0242ac1c0002row0_col2\" class=\"data row0 col2\" >0</td>\n",
              "                        <td id=\"T_f64347da_d6ee_11eb_b88f_0242ac1c0002row0_col3\" class=\"data row0 col3\" >0</td>\n",
              "                        <td id=\"T_f64347da_d6ee_11eb_b88f_0242ac1c0002row0_col4\" class=\"data row0 col4\" >0</td>\n",
              "                        <td id=\"T_f64347da_d6ee_11eb_b88f_0242ac1c0002row0_col5\" class=\"data row0 col5\" >0</td>\n",
              "                        <td id=\"T_f64347da_d6ee_11eb_b88f_0242ac1c0002row0_col6\" class=\"data row0 col6\" >0</td>\n",
              "                        <td id=\"T_f64347da_d6ee_11eb_b88f_0242ac1c0002row0_col7\" class=\"data row0 col7\" >0</td>\n",
              "                        <td id=\"T_f64347da_d6ee_11eb_b88f_0242ac1c0002row0_col8\" class=\"data row0 col8\" >0</td>\n",
              "                        <td id=\"T_f64347da_d6ee_11eb_b88f_0242ac1c0002row0_col9\" class=\"data row0 col9\" >0</td>\n",
              "                        <td id=\"T_f64347da_d6ee_11eb_b88f_0242ac1c0002row0_col10\" class=\"data row0 col10\" >0</td>\n",
              "                        <td id=\"T_f64347da_d6ee_11eb_b88f_0242ac1c0002row0_col11\" class=\"data row0 col11\" >0</td>\n",
              "                        <td id=\"T_f64347da_d6ee_11eb_b88f_0242ac1c0002row0_col12\" class=\"data row0 col12\" >0</td>\n",
              "                        <td id=\"T_f64347da_d6ee_11eb_b88f_0242ac1c0002row0_col13\" class=\"data row0 col13\" >0</td>\n",
              "                        <td id=\"T_f64347da_d6ee_11eb_b88f_0242ac1c0002row0_col14\" class=\"data row0 col14\" >0</td>\n",
              "                        <td id=\"T_f64347da_d6ee_11eb_b88f_0242ac1c0002row0_col15\" class=\"data row0 col15\" >0</td>\n",
              "                        <td id=\"T_f64347da_d6ee_11eb_b88f_0242ac1c0002row0_col16\" class=\"data row0 col16\" >0</td>\n",
              "                        <td id=\"T_f64347da_d6ee_11eb_b88f_0242ac1c0002row0_col17\" class=\"data row0 col17\" >0</td>\n",
              "            </tr>\n",
              "            <tr>\n",
              "                        <th id=\"T_f64347da_d6ee_11eb_b88f_0242ac1c0002level0_row1\" class=\"row_heading level0 row1\" >1</th>\n",
              "                        <td id=\"T_f64347da_d6ee_11eb_b88f_0242ac1c0002row1_col0\" class=\"data row1 col0\" >0</td>\n",
              "                        <td id=\"T_f64347da_d6ee_11eb_b88f_0242ac1c0002row1_col1\" class=\"data row1 col1\" >0</td>\n",
              "                        <td id=\"T_f64347da_d6ee_11eb_b88f_0242ac1c0002row1_col2\" class=\"data row1 col2\" >0</td>\n",
              "                        <td id=\"T_f64347da_d6ee_11eb_b88f_0242ac1c0002row1_col3\" class=\"data row1 col3\" >0</td>\n",
              "                        <td id=\"T_f64347da_d6ee_11eb_b88f_0242ac1c0002row1_col4\" class=\"data row1 col4\" >0</td>\n",
              "                        <td id=\"T_f64347da_d6ee_11eb_b88f_0242ac1c0002row1_col5\" class=\"data row1 col5\" >29</td>\n",
              "                        <td id=\"T_f64347da_d6ee_11eb_b88f_0242ac1c0002row1_col6\" class=\"data row1 col6\" >150</td>\n",
              "                        <td id=\"T_f64347da_d6ee_11eb_b88f_0242ac1c0002row1_col7\" class=\"data row1 col7\" >195</td>\n",
              "                        <td id=\"T_f64347da_d6ee_11eb_b88f_0242ac1c0002row1_col8\" class=\"data row1 col8\" >254</td>\n",
              "                        <td id=\"T_f64347da_d6ee_11eb_b88f_0242ac1c0002row1_col9\" class=\"data row1 col9\" >255</td>\n",
              "                        <td id=\"T_f64347da_d6ee_11eb_b88f_0242ac1c0002row1_col10\" class=\"data row1 col10\" >254</td>\n",
              "                        <td id=\"T_f64347da_d6ee_11eb_b88f_0242ac1c0002row1_col11\" class=\"data row1 col11\" >176</td>\n",
              "                        <td id=\"T_f64347da_d6ee_11eb_b88f_0242ac1c0002row1_col12\" class=\"data row1 col12\" >193</td>\n",
              "                        <td id=\"T_f64347da_d6ee_11eb_b88f_0242ac1c0002row1_col13\" class=\"data row1 col13\" >150</td>\n",
              "                        <td id=\"T_f64347da_d6ee_11eb_b88f_0242ac1c0002row1_col14\" class=\"data row1 col14\" >96</td>\n",
              "                        <td id=\"T_f64347da_d6ee_11eb_b88f_0242ac1c0002row1_col15\" class=\"data row1 col15\" >0</td>\n",
              "                        <td id=\"T_f64347da_d6ee_11eb_b88f_0242ac1c0002row1_col16\" class=\"data row1 col16\" >0</td>\n",
              "                        <td id=\"T_f64347da_d6ee_11eb_b88f_0242ac1c0002row1_col17\" class=\"data row1 col17\" >0</td>\n",
              "            </tr>\n",
              "            <tr>\n",
              "                        <th id=\"T_f64347da_d6ee_11eb_b88f_0242ac1c0002level0_row2\" class=\"row_heading level0 row2\" >2</th>\n",
              "                        <td id=\"T_f64347da_d6ee_11eb_b88f_0242ac1c0002row2_col0\" class=\"data row2 col0\" >0</td>\n",
              "                        <td id=\"T_f64347da_d6ee_11eb_b88f_0242ac1c0002row2_col1\" class=\"data row2 col1\" >0</td>\n",
              "                        <td id=\"T_f64347da_d6ee_11eb_b88f_0242ac1c0002row2_col2\" class=\"data row2 col2\" >0</td>\n",
              "                        <td id=\"T_f64347da_d6ee_11eb_b88f_0242ac1c0002row2_col3\" class=\"data row2 col3\" >48</td>\n",
              "                        <td id=\"T_f64347da_d6ee_11eb_b88f_0242ac1c0002row2_col4\" class=\"data row2 col4\" >166</td>\n",
              "                        <td id=\"T_f64347da_d6ee_11eb_b88f_0242ac1c0002row2_col5\" class=\"data row2 col5\" >224</td>\n",
              "                        <td id=\"T_f64347da_d6ee_11eb_b88f_0242ac1c0002row2_col6\" class=\"data row2 col6\" >253</td>\n",
              "                        <td id=\"T_f64347da_d6ee_11eb_b88f_0242ac1c0002row2_col7\" class=\"data row2 col7\" >253</td>\n",
              "                        <td id=\"T_f64347da_d6ee_11eb_b88f_0242ac1c0002row2_col8\" class=\"data row2 col8\" >234</td>\n",
              "                        <td id=\"T_f64347da_d6ee_11eb_b88f_0242ac1c0002row2_col9\" class=\"data row2 col9\" >196</td>\n",
              "                        <td id=\"T_f64347da_d6ee_11eb_b88f_0242ac1c0002row2_col10\" class=\"data row2 col10\" >253</td>\n",
              "                        <td id=\"T_f64347da_d6ee_11eb_b88f_0242ac1c0002row2_col11\" class=\"data row2 col11\" >253</td>\n",
              "                        <td id=\"T_f64347da_d6ee_11eb_b88f_0242ac1c0002row2_col12\" class=\"data row2 col12\" >253</td>\n",
              "                        <td id=\"T_f64347da_d6ee_11eb_b88f_0242ac1c0002row2_col13\" class=\"data row2 col13\" >253</td>\n",
              "                        <td id=\"T_f64347da_d6ee_11eb_b88f_0242ac1c0002row2_col14\" class=\"data row2 col14\" >233</td>\n",
              "                        <td id=\"T_f64347da_d6ee_11eb_b88f_0242ac1c0002row2_col15\" class=\"data row2 col15\" >0</td>\n",
              "                        <td id=\"T_f64347da_d6ee_11eb_b88f_0242ac1c0002row2_col16\" class=\"data row2 col16\" >0</td>\n",
              "                        <td id=\"T_f64347da_d6ee_11eb_b88f_0242ac1c0002row2_col17\" class=\"data row2 col17\" >0</td>\n",
              "            </tr>\n",
              "            <tr>\n",
              "                        <th id=\"T_f64347da_d6ee_11eb_b88f_0242ac1c0002level0_row3\" class=\"row_heading level0 row3\" >3</th>\n",
              "                        <td id=\"T_f64347da_d6ee_11eb_b88f_0242ac1c0002row3_col0\" class=\"data row3 col0\" >0</td>\n",
              "                        <td id=\"T_f64347da_d6ee_11eb_b88f_0242ac1c0002row3_col1\" class=\"data row3 col1\" >93</td>\n",
              "                        <td id=\"T_f64347da_d6ee_11eb_b88f_0242ac1c0002row3_col2\" class=\"data row3 col2\" >244</td>\n",
              "                        <td id=\"T_f64347da_d6ee_11eb_b88f_0242ac1c0002row3_col3\" class=\"data row3 col3\" >249</td>\n",
              "                        <td id=\"T_f64347da_d6ee_11eb_b88f_0242ac1c0002row3_col4\" class=\"data row3 col4\" >253</td>\n",
              "                        <td id=\"T_f64347da_d6ee_11eb_b88f_0242ac1c0002row3_col5\" class=\"data row3 col5\" >187</td>\n",
              "                        <td id=\"T_f64347da_d6ee_11eb_b88f_0242ac1c0002row3_col6\" class=\"data row3 col6\" >46</td>\n",
              "                        <td id=\"T_f64347da_d6ee_11eb_b88f_0242ac1c0002row3_col7\" class=\"data row3 col7\" >10</td>\n",
              "                        <td id=\"T_f64347da_d6ee_11eb_b88f_0242ac1c0002row3_col8\" class=\"data row3 col8\" >8</td>\n",
              "                        <td id=\"T_f64347da_d6ee_11eb_b88f_0242ac1c0002row3_col9\" class=\"data row3 col9\" >4</td>\n",
              "                        <td id=\"T_f64347da_d6ee_11eb_b88f_0242ac1c0002row3_col10\" class=\"data row3 col10\" >10</td>\n",
              "                        <td id=\"T_f64347da_d6ee_11eb_b88f_0242ac1c0002row3_col11\" class=\"data row3 col11\" >194</td>\n",
              "                        <td id=\"T_f64347da_d6ee_11eb_b88f_0242ac1c0002row3_col12\" class=\"data row3 col12\" >253</td>\n",
              "                        <td id=\"T_f64347da_d6ee_11eb_b88f_0242ac1c0002row3_col13\" class=\"data row3 col13\" >253</td>\n",
              "                        <td id=\"T_f64347da_d6ee_11eb_b88f_0242ac1c0002row3_col14\" class=\"data row3 col14\" >233</td>\n",
              "                        <td id=\"T_f64347da_d6ee_11eb_b88f_0242ac1c0002row3_col15\" class=\"data row3 col15\" >0</td>\n",
              "                        <td id=\"T_f64347da_d6ee_11eb_b88f_0242ac1c0002row3_col16\" class=\"data row3 col16\" >0</td>\n",
              "                        <td id=\"T_f64347da_d6ee_11eb_b88f_0242ac1c0002row3_col17\" class=\"data row3 col17\" >0</td>\n",
              "            </tr>\n",
              "            <tr>\n",
              "                        <th id=\"T_f64347da_d6ee_11eb_b88f_0242ac1c0002level0_row4\" class=\"row_heading level0 row4\" >4</th>\n",
              "                        <td id=\"T_f64347da_d6ee_11eb_b88f_0242ac1c0002row4_col0\" class=\"data row4 col0\" >0</td>\n",
              "                        <td id=\"T_f64347da_d6ee_11eb_b88f_0242ac1c0002row4_col1\" class=\"data row4 col1\" >107</td>\n",
              "                        <td id=\"T_f64347da_d6ee_11eb_b88f_0242ac1c0002row4_col2\" class=\"data row4 col2\" >253</td>\n",
              "                        <td id=\"T_f64347da_d6ee_11eb_b88f_0242ac1c0002row4_col3\" class=\"data row4 col3\" >253</td>\n",
              "                        <td id=\"T_f64347da_d6ee_11eb_b88f_0242ac1c0002row4_col4\" class=\"data row4 col4\" >230</td>\n",
              "                        <td id=\"T_f64347da_d6ee_11eb_b88f_0242ac1c0002row4_col5\" class=\"data row4 col5\" >48</td>\n",
              "                        <td id=\"T_f64347da_d6ee_11eb_b88f_0242ac1c0002row4_col6\" class=\"data row4 col6\" >0</td>\n",
              "                        <td id=\"T_f64347da_d6ee_11eb_b88f_0242ac1c0002row4_col7\" class=\"data row4 col7\" >0</td>\n",
              "                        <td id=\"T_f64347da_d6ee_11eb_b88f_0242ac1c0002row4_col8\" class=\"data row4 col8\" >0</td>\n",
              "                        <td id=\"T_f64347da_d6ee_11eb_b88f_0242ac1c0002row4_col9\" class=\"data row4 col9\" >0</td>\n",
              "                        <td id=\"T_f64347da_d6ee_11eb_b88f_0242ac1c0002row4_col10\" class=\"data row4 col10\" >0</td>\n",
              "                        <td id=\"T_f64347da_d6ee_11eb_b88f_0242ac1c0002row4_col11\" class=\"data row4 col11\" >192</td>\n",
              "                        <td id=\"T_f64347da_d6ee_11eb_b88f_0242ac1c0002row4_col12\" class=\"data row4 col12\" >253</td>\n",
              "                        <td id=\"T_f64347da_d6ee_11eb_b88f_0242ac1c0002row4_col13\" class=\"data row4 col13\" >253</td>\n",
              "                        <td id=\"T_f64347da_d6ee_11eb_b88f_0242ac1c0002row4_col14\" class=\"data row4 col14\" >156</td>\n",
              "                        <td id=\"T_f64347da_d6ee_11eb_b88f_0242ac1c0002row4_col15\" class=\"data row4 col15\" >0</td>\n",
              "                        <td id=\"T_f64347da_d6ee_11eb_b88f_0242ac1c0002row4_col16\" class=\"data row4 col16\" >0</td>\n",
              "                        <td id=\"T_f64347da_d6ee_11eb_b88f_0242ac1c0002row4_col17\" class=\"data row4 col17\" >0</td>\n",
              "            </tr>\n",
              "            <tr>\n",
              "                        <th id=\"T_f64347da_d6ee_11eb_b88f_0242ac1c0002level0_row5\" class=\"row_heading level0 row5\" >5</th>\n",
              "                        <td id=\"T_f64347da_d6ee_11eb_b88f_0242ac1c0002row5_col0\" class=\"data row5 col0\" >0</td>\n",
              "                        <td id=\"T_f64347da_d6ee_11eb_b88f_0242ac1c0002row5_col1\" class=\"data row5 col1\" >3</td>\n",
              "                        <td id=\"T_f64347da_d6ee_11eb_b88f_0242ac1c0002row5_col2\" class=\"data row5 col2\" >20</td>\n",
              "                        <td id=\"T_f64347da_d6ee_11eb_b88f_0242ac1c0002row5_col3\" class=\"data row5 col3\" >20</td>\n",
              "                        <td id=\"T_f64347da_d6ee_11eb_b88f_0242ac1c0002row5_col4\" class=\"data row5 col4\" >15</td>\n",
              "                        <td id=\"T_f64347da_d6ee_11eb_b88f_0242ac1c0002row5_col5\" class=\"data row5 col5\" >0</td>\n",
              "                        <td id=\"T_f64347da_d6ee_11eb_b88f_0242ac1c0002row5_col6\" class=\"data row5 col6\" >0</td>\n",
              "                        <td id=\"T_f64347da_d6ee_11eb_b88f_0242ac1c0002row5_col7\" class=\"data row5 col7\" >0</td>\n",
              "                        <td id=\"T_f64347da_d6ee_11eb_b88f_0242ac1c0002row5_col8\" class=\"data row5 col8\" >0</td>\n",
              "                        <td id=\"T_f64347da_d6ee_11eb_b88f_0242ac1c0002row5_col9\" class=\"data row5 col9\" >0</td>\n",
              "                        <td id=\"T_f64347da_d6ee_11eb_b88f_0242ac1c0002row5_col10\" class=\"data row5 col10\" >43</td>\n",
              "                        <td id=\"T_f64347da_d6ee_11eb_b88f_0242ac1c0002row5_col11\" class=\"data row5 col11\" >224</td>\n",
              "                        <td id=\"T_f64347da_d6ee_11eb_b88f_0242ac1c0002row5_col12\" class=\"data row5 col12\" >253</td>\n",
              "                        <td id=\"T_f64347da_d6ee_11eb_b88f_0242ac1c0002row5_col13\" class=\"data row5 col13\" >245</td>\n",
              "                        <td id=\"T_f64347da_d6ee_11eb_b88f_0242ac1c0002row5_col14\" class=\"data row5 col14\" >74</td>\n",
              "                        <td id=\"T_f64347da_d6ee_11eb_b88f_0242ac1c0002row5_col15\" class=\"data row5 col15\" >0</td>\n",
              "                        <td id=\"T_f64347da_d6ee_11eb_b88f_0242ac1c0002row5_col16\" class=\"data row5 col16\" >0</td>\n",
              "                        <td id=\"T_f64347da_d6ee_11eb_b88f_0242ac1c0002row5_col17\" class=\"data row5 col17\" >0</td>\n",
              "            </tr>\n",
              "            <tr>\n",
              "                        <th id=\"T_f64347da_d6ee_11eb_b88f_0242ac1c0002level0_row6\" class=\"row_heading level0 row6\" >6</th>\n",
              "                        <td id=\"T_f64347da_d6ee_11eb_b88f_0242ac1c0002row6_col0\" class=\"data row6 col0\" >0</td>\n",
              "                        <td id=\"T_f64347da_d6ee_11eb_b88f_0242ac1c0002row6_col1\" class=\"data row6 col1\" >0</td>\n",
              "                        <td id=\"T_f64347da_d6ee_11eb_b88f_0242ac1c0002row6_col2\" class=\"data row6 col2\" >0</td>\n",
              "                        <td id=\"T_f64347da_d6ee_11eb_b88f_0242ac1c0002row6_col3\" class=\"data row6 col3\" >0</td>\n",
              "                        <td id=\"T_f64347da_d6ee_11eb_b88f_0242ac1c0002row6_col4\" class=\"data row6 col4\" >0</td>\n",
              "                        <td id=\"T_f64347da_d6ee_11eb_b88f_0242ac1c0002row6_col5\" class=\"data row6 col5\" >0</td>\n",
              "                        <td id=\"T_f64347da_d6ee_11eb_b88f_0242ac1c0002row6_col6\" class=\"data row6 col6\" >0</td>\n",
              "                        <td id=\"T_f64347da_d6ee_11eb_b88f_0242ac1c0002row6_col7\" class=\"data row6 col7\" >0</td>\n",
              "                        <td id=\"T_f64347da_d6ee_11eb_b88f_0242ac1c0002row6_col8\" class=\"data row6 col8\" >0</td>\n",
              "                        <td id=\"T_f64347da_d6ee_11eb_b88f_0242ac1c0002row6_col9\" class=\"data row6 col9\" >0</td>\n",
              "                        <td id=\"T_f64347da_d6ee_11eb_b88f_0242ac1c0002row6_col10\" class=\"data row6 col10\" >249</td>\n",
              "                        <td id=\"T_f64347da_d6ee_11eb_b88f_0242ac1c0002row6_col11\" class=\"data row6 col11\" >253</td>\n",
              "                        <td id=\"T_f64347da_d6ee_11eb_b88f_0242ac1c0002row6_col12\" class=\"data row6 col12\" >245</td>\n",
              "                        <td id=\"T_f64347da_d6ee_11eb_b88f_0242ac1c0002row6_col13\" class=\"data row6 col13\" >126</td>\n",
              "                        <td id=\"T_f64347da_d6ee_11eb_b88f_0242ac1c0002row6_col14\" class=\"data row6 col14\" >0</td>\n",
              "                        <td id=\"T_f64347da_d6ee_11eb_b88f_0242ac1c0002row6_col15\" class=\"data row6 col15\" >0</td>\n",
              "                        <td id=\"T_f64347da_d6ee_11eb_b88f_0242ac1c0002row6_col16\" class=\"data row6 col16\" >0</td>\n",
              "                        <td id=\"T_f64347da_d6ee_11eb_b88f_0242ac1c0002row6_col17\" class=\"data row6 col17\" >0</td>\n",
              "            </tr>\n",
              "            <tr>\n",
              "                        <th id=\"T_f64347da_d6ee_11eb_b88f_0242ac1c0002level0_row7\" class=\"row_heading level0 row7\" >7</th>\n",
              "                        <td id=\"T_f64347da_d6ee_11eb_b88f_0242ac1c0002row7_col0\" class=\"data row7 col0\" >0</td>\n",
              "                        <td id=\"T_f64347da_d6ee_11eb_b88f_0242ac1c0002row7_col1\" class=\"data row7 col1\" >0</td>\n",
              "                        <td id=\"T_f64347da_d6ee_11eb_b88f_0242ac1c0002row7_col2\" class=\"data row7 col2\" >0</td>\n",
              "                        <td id=\"T_f64347da_d6ee_11eb_b88f_0242ac1c0002row7_col3\" class=\"data row7 col3\" >0</td>\n",
              "                        <td id=\"T_f64347da_d6ee_11eb_b88f_0242ac1c0002row7_col4\" class=\"data row7 col4\" >0</td>\n",
              "                        <td id=\"T_f64347da_d6ee_11eb_b88f_0242ac1c0002row7_col5\" class=\"data row7 col5\" >0</td>\n",
              "                        <td id=\"T_f64347da_d6ee_11eb_b88f_0242ac1c0002row7_col6\" class=\"data row7 col6\" >0</td>\n",
              "                        <td id=\"T_f64347da_d6ee_11eb_b88f_0242ac1c0002row7_col7\" class=\"data row7 col7\" >14</td>\n",
              "                        <td id=\"T_f64347da_d6ee_11eb_b88f_0242ac1c0002row7_col8\" class=\"data row7 col8\" >101</td>\n",
              "                        <td id=\"T_f64347da_d6ee_11eb_b88f_0242ac1c0002row7_col9\" class=\"data row7 col9\" >223</td>\n",
              "                        <td id=\"T_f64347da_d6ee_11eb_b88f_0242ac1c0002row7_col10\" class=\"data row7 col10\" >253</td>\n",
              "                        <td id=\"T_f64347da_d6ee_11eb_b88f_0242ac1c0002row7_col11\" class=\"data row7 col11\" >248</td>\n",
              "                        <td id=\"T_f64347da_d6ee_11eb_b88f_0242ac1c0002row7_col12\" class=\"data row7 col12\" >124</td>\n",
              "                        <td id=\"T_f64347da_d6ee_11eb_b88f_0242ac1c0002row7_col13\" class=\"data row7 col13\" >0</td>\n",
              "                        <td id=\"T_f64347da_d6ee_11eb_b88f_0242ac1c0002row7_col14\" class=\"data row7 col14\" >0</td>\n",
              "                        <td id=\"T_f64347da_d6ee_11eb_b88f_0242ac1c0002row7_col15\" class=\"data row7 col15\" >0</td>\n",
              "                        <td id=\"T_f64347da_d6ee_11eb_b88f_0242ac1c0002row7_col16\" class=\"data row7 col16\" >0</td>\n",
              "                        <td id=\"T_f64347da_d6ee_11eb_b88f_0242ac1c0002row7_col17\" class=\"data row7 col17\" >0</td>\n",
              "            </tr>\n",
              "            <tr>\n",
              "                        <th id=\"T_f64347da_d6ee_11eb_b88f_0242ac1c0002level0_row8\" class=\"row_heading level0 row8\" >8</th>\n",
              "                        <td id=\"T_f64347da_d6ee_11eb_b88f_0242ac1c0002row8_col0\" class=\"data row8 col0\" >0</td>\n",
              "                        <td id=\"T_f64347da_d6ee_11eb_b88f_0242ac1c0002row8_col1\" class=\"data row8 col1\" >0</td>\n",
              "                        <td id=\"T_f64347da_d6ee_11eb_b88f_0242ac1c0002row8_col2\" class=\"data row8 col2\" >0</td>\n",
              "                        <td id=\"T_f64347da_d6ee_11eb_b88f_0242ac1c0002row8_col3\" class=\"data row8 col3\" >0</td>\n",
              "                        <td id=\"T_f64347da_d6ee_11eb_b88f_0242ac1c0002row8_col4\" class=\"data row8 col4\" >0</td>\n",
              "                        <td id=\"T_f64347da_d6ee_11eb_b88f_0242ac1c0002row8_col5\" class=\"data row8 col5\" >11</td>\n",
              "                        <td id=\"T_f64347da_d6ee_11eb_b88f_0242ac1c0002row8_col6\" class=\"data row8 col6\" >166</td>\n",
              "                        <td id=\"T_f64347da_d6ee_11eb_b88f_0242ac1c0002row8_col7\" class=\"data row8 col7\" >239</td>\n",
              "                        <td id=\"T_f64347da_d6ee_11eb_b88f_0242ac1c0002row8_col8\" class=\"data row8 col8\" >253</td>\n",
              "                        <td id=\"T_f64347da_d6ee_11eb_b88f_0242ac1c0002row8_col9\" class=\"data row8 col9\" >253</td>\n",
              "                        <td id=\"T_f64347da_d6ee_11eb_b88f_0242ac1c0002row8_col10\" class=\"data row8 col10\" >253</td>\n",
              "                        <td id=\"T_f64347da_d6ee_11eb_b88f_0242ac1c0002row8_col11\" class=\"data row8 col11\" >187</td>\n",
              "                        <td id=\"T_f64347da_d6ee_11eb_b88f_0242ac1c0002row8_col12\" class=\"data row8 col12\" >30</td>\n",
              "                        <td id=\"T_f64347da_d6ee_11eb_b88f_0242ac1c0002row8_col13\" class=\"data row8 col13\" >0</td>\n",
              "                        <td id=\"T_f64347da_d6ee_11eb_b88f_0242ac1c0002row8_col14\" class=\"data row8 col14\" >0</td>\n",
              "                        <td id=\"T_f64347da_d6ee_11eb_b88f_0242ac1c0002row8_col15\" class=\"data row8 col15\" >0</td>\n",
              "                        <td id=\"T_f64347da_d6ee_11eb_b88f_0242ac1c0002row8_col16\" class=\"data row8 col16\" >0</td>\n",
              "                        <td id=\"T_f64347da_d6ee_11eb_b88f_0242ac1c0002row8_col17\" class=\"data row8 col17\" >0</td>\n",
              "            </tr>\n",
              "            <tr>\n",
              "                        <th id=\"T_f64347da_d6ee_11eb_b88f_0242ac1c0002level0_row9\" class=\"row_heading level0 row9\" >9</th>\n",
              "                        <td id=\"T_f64347da_d6ee_11eb_b88f_0242ac1c0002row9_col0\" class=\"data row9 col0\" >0</td>\n",
              "                        <td id=\"T_f64347da_d6ee_11eb_b88f_0242ac1c0002row9_col1\" class=\"data row9 col1\" >0</td>\n",
              "                        <td id=\"T_f64347da_d6ee_11eb_b88f_0242ac1c0002row9_col2\" class=\"data row9 col2\" >0</td>\n",
              "                        <td id=\"T_f64347da_d6ee_11eb_b88f_0242ac1c0002row9_col3\" class=\"data row9 col3\" >0</td>\n",
              "                        <td id=\"T_f64347da_d6ee_11eb_b88f_0242ac1c0002row9_col4\" class=\"data row9 col4\" >0</td>\n",
              "                        <td id=\"T_f64347da_d6ee_11eb_b88f_0242ac1c0002row9_col5\" class=\"data row9 col5\" >16</td>\n",
              "                        <td id=\"T_f64347da_d6ee_11eb_b88f_0242ac1c0002row9_col6\" class=\"data row9 col6\" >248</td>\n",
              "                        <td id=\"T_f64347da_d6ee_11eb_b88f_0242ac1c0002row9_col7\" class=\"data row9 col7\" >250</td>\n",
              "                        <td id=\"T_f64347da_d6ee_11eb_b88f_0242ac1c0002row9_col8\" class=\"data row9 col8\" >253</td>\n",
              "                        <td id=\"T_f64347da_d6ee_11eb_b88f_0242ac1c0002row9_col9\" class=\"data row9 col9\" >253</td>\n",
              "                        <td id=\"T_f64347da_d6ee_11eb_b88f_0242ac1c0002row9_col10\" class=\"data row9 col10\" >253</td>\n",
              "                        <td id=\"T_f64347da_d6ee_11eb_b88f_0242ac1c0002row9_col11\" class=\"data row9 col11\" >253</td>\n",
              "                        <td id=\"T_f64347da_d6ee_11eb_b88f_0242ac1c0002row9_col12\" class=\"data row9 col12\" >232</td>\n",
              "                        <td id=\"T_f64347da_d6ee_11eb_b88f_0242ac1c0002row9_col13\" class=\"data row9 col13\" >213</td>\n",
              "                        <td id=\"T_f64347da_d6ee_11eb_b88f_0242ac1c0002row9_col14\" class=\"data row9 col14\" >111</td>\n",
              "                        <td id=\"T_f64347da_d6ee_11eb_b88f_0242ac1c0002row9_col15\" class=\"data row9 col15\" >2</td>\n",
              "                        <td id=\"T_f64347da_d6ee_11eb_b88f_0242ac1c0002row9_col16\" class=\"data row9 col16\" >0</td>\n",
              "                        <td id=\"T_f64347da_d6ee_11eb_b88f_0242ac1c0002row9_col17\" class=\"data row9 col17\" >0</td>\n",
              "            </tr>\n",
              "            <tr>\n",
              "                        <th id=\"T_f64347da_d6ee_11eb_b88f_0242ac1c0002level0_row10\" class=\"row_heading level0 row10\" >10</th>\n",
              "                        <td id=\"T_f64347da_d6ee_11eb_b88f_0242ac1c0002row10_col0\" class=\"data row10 col0\" >0</td>\n",
              "                        <td id=\"T_f64347da_d6ee_11eb_b88f_0242ac1c0002row10_col1\" class=\"data row10 col1\" >0</td>\n",
              "                        <td id=\"T_f64347da_d6ee_11eb_b88f_0242ac1c0002row10_col2\" class=\"data row10 col2\" >0</td>\n",
              "                        <td id=\"T_f64347da_d6ee_11eb_b88f_0242ac1c0002row10_col3\" class=\"data row10 col3\" >0</td>\n",
              "                        <td id=\"T_f64347da_d6ee_11eb_b88f_0242ac1c0002row10_col4\" class=\"data row10 col4\" >0</td>\n",
              "                        <td id=\"T_f64347da_d6ee_11eb_b88f_0242ac1c0002row10_col5\" class=\"data row10 col5\" >0</td>\n",
              "                        <td id=\"T_f64347da_d6ee_11eb_b88f_0242ac1c0002row10_col6\" class=\"data row10 col6\" >0</td>\n",
              "                        <td id=\"T_f64347da_d6ee_11eb_b88f_0242ac1c0002row10_col7\" class=\"data row10 col7\" >43</td>\n",
              "                        <td id=\"T_f64347da_d6ee_11eb_b88f_0242ac1c0002row10_col8\" class=\"data row10 col8\" >98</td>\n",
              "                        <td id=\"T_f64347da_d6ee_11eb_b88f_0242ac1c0002row10_col9\" class=\"data row10 col9\" >98</td>\n",
              "                        <td id=\"T_f64347da_d6ee_11eb_b88f_0242ac1c0002row10_col10\" class=\"data row10 col10\" >208</td>\n",
              "                        <td id=\"T_f64347da_d6ee_11eb_b88f_0242ac1c0002row10_col11\" class=\"data row10 col11\" >253</td>\n",
              "                        <td id=\"T_f64347da_d6ee_11eb_b88f_0242ac1c0002row10_col12\" class=\"data row10 col12\" >253</td>\n",
              "                        <td id=\"T_f64347da_d6ee_11eb_b88f_0242ac1c0002row10_col13\" class=\"data row10 col13\" >253</td>\n",
              "                        <td id=\"T_f64347da_d6ee_11eb_b88f_0242ac1c0002row10_col14\" class=\"data row10 col14\" >253</td>\n",
              "                        <td id=\"T_f64347da_d6ee_11eb_b88f_0242ac1c0002row10_col15\" class=\"data row10 col15\" >187</td>\n",
              "                        <td id=\"T_f64347da_d6ee_11eb_b88f_0242ac1c0002row10_col16\" class=\"data row10 col16\" >22</td>\n",
              "                        <td id=\"T_f64347da_d6ee_11eb_b88f_0242ac1c0002row10_col17\" class=\"data row10 col17\" >0</td>\n",
              "            </tr>\n",
              "    </tbody></table>"
            ],
            "text/plain": [
              "<pandas.io.formats.style.Styler at 0x7fd857c86650>"
            ]
          },
          "metadata": {
            "tags": []
          },
          "execution_count": 11
        }
      ]
    },
    {
      "cell_type": "markdown",
      "metadata": {
        "id": "KVKIgAgHtLTV"
      },
      "source": [
        "**PIXEL SIMILARITY:**\n",
        "- I will get the average of pixel values for each groups of 3 and 7. I will create a tensor containing all the 3s stacked together. "
      ]
    },
    {
      "cell_type": "code",
      "metadata": {
        "id": "rYiw6pvOh9Q6",
        "colab": {
          "base_uri": "https://localhost:8080/"
        },
        "outputId": "bcb9313b-6c13-4903-eb93-dfef5574a45c"
      },
      "source": [
        "#@ GETTING TENSOR VALUES: \n",
        "seven_tensors = [tensor(Image.open(o)) for o in sevens]         # Initializing Tensor Values. \n",
        "three_tensors = [tensor(Image.open(o)) for o in threes]         # Initializing Tensor Values. \n",
        "len(three_tensors), len(seven_tensors)                          # Inspecting Number of Tensors. "
      ],
      "execution_count": 12,
      "outputs": [
        {
          "output_type": "execute_result",
          "data": {
            "text/plain": [
              "(6131, 6265)"
            ]
          },
          "metadata": {
            "tags": []
          },
          "execution_count": 12
        }
      ]
    },
    {
      "cell_type": "code",
      "metadata": {
        "colab": {
          "base_uri": "https://localhost:8080/",
          "height": 85
        },
        "id": "qXp6R6JOvUu4",
        "outputId": "56d6c4a0-99f3-4a43-b8c6-52b248a443c3"
      },
      "source": [
        "#@ INSPECTING A IMAGE: \n",
        "show_image(three_tensors[1]);                                   # Inspecting a Image. "
      ],
      "execution_count": 13,
      "outputs": [
        {
          "output_type": "display_data",
          "data": {
            "image/png": "[encoded data removed]",
            "text/plain": [
              "<Figure size 72x72 with 1 Axes>"
            ]
          },
          "metadata": {
            "tags": [],
            "needs_background": "light"
          }
        }
      ]
    },
    {
      "cell_type": "code",
      "metadata": {
        "colab": {
          "base_uri": "https://localhost:8080/"
        },
        "id": "MdAKG0GrwFUq",
        "outputId": "ff06706d-4737-40ab-99e4-e44e2268ddec"
      },
      "source": [
        "#@ GETTING STACKED TENSORS OF FLOATS: \n",
        "stacked_sevens = torch.stack(seven_tensors).float() / 255       # Getting Stacked Tensors. \n",
        "stacked_threes = torch.stack(three_tensors).float() / 255       # Getting Stacked Tesnors. \n",
        "stacked_threes.shape                                            # Inspecting Shape of Stack. "
      ],
      "execution_count": 14,
      "outputs": [
        {
          "output_type": "execute_result",
          "data": {
            "text/plain": [
              "torch.Size([6131, 28, 28])"
            ]
          },
          "metadata": {
            "tags": []
          },
          "execution_count": 14
        }
      ]
    },
    {
      "cell_type": "code",
      "metadata": {
        "colab": {
          "base_uri": "https://localhost:8080/"
        },
        "id": "cLQmZ9XyzI3d",
        "outputId": "556caf9f-dd5a-4d29-d014-1d1453bbc3da"
      },
      "source": [
        "#@ RANK OF TENSORS: \n",
        "len(stacked_threes.shape)                                       # Getting Rank of Tensor. "
      ],
      "execution_count": 15,
      "outputs": [
        {
          "output_type": "execute_result",
          "data": {
            "text/plain": [
              "3"
            ]
          },
          "metadata": {
            "tags": []
          },
          "execution_count": 15
        }
      ]
    },
    {
      "cell_type": "code",
      "metadata": {
        "colab": {
          "base_uri": "https://localhost:8080/"
        },
        "id": "NgFsxHwkT9nx",
        "outputId": "02b52c3c-4185-4c28-bec6-5316a8c496d7"
      },
      "source": [
        "#@ RANK OF TENSORS: \n",
        "stacked_threes.ndim                                # Getting Rank of Tensor. "
      ],
      "execution_count": 16,
      "outputs": [
        {
          "output_type": "execute_result",
          "data": {
            "text/plain": [
              "3"
            ]
          },
          "metadata": {
            "tags": []
          },
          "execution_count": 16
        }
      ]
    },
    {
      "cell_type": "code",
      "metadata": {
        "colab": {
          "base_uri": "https://localhost:8080/",
          "height": 85
        },
        "id": "rUShvqoMVUQ2",
        "outputId": "45bfcec2-5938-42db-c4c6-35f9abfc0ff8"
      },
      "source": [
        "#@ MEAN OF IMAGE TENSORS: \n",
        "mean3 = stacked_threes.mean(0)                     # Getting Mean of Pixels. \n",
        "show_image(mean3);                                 # Inspecting the Mean. "
      ],
      "execution_count": 17,
      "outputs": [
        {
          "output_type": "display_data",
          "data": {
            "image/png": "[encoded data removed]",
            "text/plain": [
              "<Figure size 72x72 with 1 Axes>"
            ]
          },
          "metadata": {
            "tags": [],
            "needs_background": "light"
          }
        }
      ]
    },
    {
      "cell_type": "code",
      "metadata": {
        "colab": {
          "base_uri": "https://localhost:8080/",
          "height": 85
        },
        "id": "IiwnjHTzWRBQ",
        "outputId": "6ae74ff2-9e3c-4960-9ce1-3f16bfc454d6"
      },
      "source": [
        "#@ MEAN OF IMAGE TENSORS:\n",
        "mean7 = stacked_sevens.mean(0)                     # Getting Mean of Pixels. \n",
        "show_image(mean7);                                 # Inspecting the Mean. "
      ],
      "execution_count": 18,
      "outputs": [
        {
          "output_type": "display_data",
          "data": {
            "image/png": "[encoded data removed]",
            "text/plain": [
              "<Figure size 72x72 with 1 Axes>"
            ]
          },
          "metadata": {
            "tags": [],
            "needs_background": "light"
          }
        }
      ]
    },
    {
      "cell_type": "code",
      "metadata": {
        "colab": {
          "base_uri": "https://localhost:8080/",
          "height": 85
        },
        "id": "SQtKTJUOXKXd",
        "outputId": "6fd08d7e-1443-4351-8af9-4861f5db54c8"
      },
      "source": [
        "#@ GETTING SAMPLE IMAGE: \n",
        "a_3 = stacked_threes[1]                            # Getting an Element. \n",
        "show_image(a_3);                                   # Inspecting the Item. "
      ],
      "execution_count": 19,
      "outputs": [
        {
          "output_type": "display_data",
          "data": {
            "image/png": "[encoded data removed]",
            "text/plain": [
              "<Figure size 72x72 with 1 Axes>"
            ]
          },
          "metadata": {
            "tags": [],
            "needs_background": "light"
          }
        }
      ]
    },
    {
      "cell_type": "markdown",
      "metadata": {
        "id": "HL7rSknf24Ua"
      },
      "source": [
        "**Note:**\n",
        "- Taking the mean of absolute value of differences is called **Mean Absolute Difference** or **L1 Norm**.\n",
        "- Taking the mean of square of differences and then taking the square root is called **Root Mean Squared Error** or **L2 Norm**. "
      ]
    },
    {
      "cell_type": "code",
      "metadata": {
        "colab": {
          "base_uri": "https://localhost:8080/"
        },
        "id": "n1_M4ceg13Z3",
        "outputId": "9520834d-5e50-46d4-f45e-6c958c8dcf93"
      },
      "source": [
        "#@ CALCULATING L1 NORM AND L2 NORM:\n",
        "dist_3_abs = (a_3 - mean3).abs().mean()            # Getting L1 Norm. \n",
        "dist_3_sqr = ((a_3 - mean3)**2).mean().sqrt()      # Getting L2 Norm. \n",
        "dist_3_abs, dist_3_sqr                             # Inspecting the Results. "
      ],
      "execution_count": 20,
      "outputs": [
        {
          "output_type": "execute_result",
          "data": {
            "text/plain": [
              "(tensor(0.1114), tensor(0.2021))"
            ]
          },
          "metadata": {
            "tags": []
          },
          "execution_count": 20
        }
      ]
    },
    {
      "cell_type": "code",
      "metadata": {
        "colab": {
          "base_uri": "https://localhost:8080/"
        },
        "id": "Y2pYqA6k43AH",
        "outputId": "af202e34-83fd-4c2f-cc0d-32cf9107bff9"
      },
      "source": [
        "#@ CALCULATING L1 NORM AND L2 NORM: \n",
        "dist_7_abs = (a_3 - mean7).abs().mean()            # Getting L1 Norm. \n",
        "dist_7_sqr = ((a_3 - mean7)**2).mean().sqrt()      # Getting L2 Norm. \n",
        "dist_7_abs, dist_7_sqr                             # Inspecting the Results. "
      ],
      "execution_count": 21,
      "outputs": [
        {
          "output_type": "execute_result",
          "data": {
            "text/plain": [
              "(tensor(0.1586), tensor(0.3021))"
            ]
          },
          "metadata": {
            "tags": []
          },
          "execution_count": 21
        }
      ]
    },
    {
      "cell_type": "code",
      "metadata": {
        "colab": {
          "base_uri": "https://localhost:8080/"
        },
        "id": "jejACXXT5fcC",
        "outputId": "a55c9ca6-c1ff-4a9e-aca8-5253b8059c78"
      },
      "source": [
        "#@ CALCULATING L1 NORM AND L2 NORM: \n",
        "print(F.l1_loss(a_3.float(), mean7))               # Getting L1 Norm. \n",
        "print(F.mse_loss(a_3, mean7).sqrt())               # Getting L2 Norm. "
      ],
      "execution_count": 22,
      "outputs": [
        {
          "output_type": "stream",
          "text": [
            "tensor(0.1586)\n",
            "tensor(0.3021)\n"
          ],
          "name": "stdout"
        }
      ]
    },
    {
      "cell_type": "markdown",
      "metadata": {
        "id": "h896kLg59Hw9"
      },
      "source": [
        "**ARRAYS AND TENSORS:**"
      ]
    },
    {
      "cell_type": "code",
      "metadata": {
        "colab": {
          "base_uri": "https://localhost:8080/"
        },
        "id": "h6CEzsrW6i1R",
        "outputId": "b313d803-5ae3-4bec-f510-d7a894d51e2c"
      },
      "source": [
        "#@ ARRAYS AND TENSORS: \n",
        "data = [[1, 2, 3], [4, 5, 6]]                      # Example List. \n",
        "arr = array(data)                                  # Creating Array. \n",
        "tns = tensor(data)                                 # Creating Tensor. \n",
        "arr, tns                                           # Inspecting the Results. "
      ],
      "execution_count": 23,
      "outputs": [
        {
          "output_type": "execute_result",
          "data": {
            "text/plain": [
              "(array([[1, 2, 3],\n",
              "        [4, 5, 6]]), tensor([[1, 2, 3],\n",
              "         [4, 5, 6]]))"
            ]
          },
          "metadata": {
            "tags": []
          },
          "execution_count": 23
        }
      ]
    },
    {
      "cell_type": "markdown",
      "metadata": {
        "id": "dnToihvqBoxf"
      },
      "source": [
        "**COMPUTING METRICS USING BROADCASTING:**"
      ]
    },
    {
      "cell_type": "code",
      "metadata": {
        "colab": {
          "base_uri": "https://localhost:8080/"
        },
        "id": "9hxn0joP9o_9",
        "outputId": "51fd976f-96e2-4d50-e1f8-d501aabdbf6c"
      },
      "source": [
        "#@ CREATING VALIDATION DATASET: \n",
        "valid_3_tens = torch.stack([tensor(Image.open(o)) for o in \\\n",
        "                            (PATH/\"valid\"/\"3\").ls()])              # Creating Validation Tensors. \n",
        "valid_3_tens = valid_3_tens.float() / 255                          # Getting Normalized Tensors. \n",
        "valid_7_tens = torch.stack([tensor(Image.open(o)) for o in \\\n",
        "                            (PATH/\"valid\"/\"7\").ls()])              # Creating Validation Tensors. \n",
        "valid_7_tens = valid_7_tens.float() / 255                          # Getting Normalized Tensors. \n",
        "valid_3_tens.shape, valid_7_tens.shape                             # Inspecting the Shape of Tensors. "
      ],
      "execution_count": 24,
      "outputs": [
        {
          "output_type": "execute_result",
          "data": {
            "text/plain": [
              "(torch.Size([1010, 28, 28]), torch.Size([1028, 28, 28]))"
            ]
          },
          "metadata": {
            "tags": []
          },
          "execution_count": 24
        }
      ]
    },
    {
      "cell_type": "code",
      "metadata": {
        "colab": {
          "base_uri": "https://localhost:8080/"
        },
        "id": "0flPcSunSjEJ",
        "outputId": "1bfd39b6-6a20-430a-9de7-4ca675da2537"
      },
      "source": [
        "#@ FUNCTION FOR CALCULATING MAE: \n",
        "def mnist_distance(a, b):                                # Initializing Function. \n",
        "    return (a - b).abs().mean((-1, -2))                  # Getting MAE. \n",
        "mnist_distance(a_3, mean3)                               # Implementation of Function.                     "
      ],
      "execution_count": 25,
      "outputs": [
        {
          "output_type": "execute_result",
          "data": {
            "text/plain": [
              "tensor(0.1114)"
            ]
          },
          "metadata": {
            "tags": []
          },
          "execution_count": 25
        }
      ]
    },
    {
      "cell_type": "code",
      "metadata": {
        "colab": {
          "base_uri": "https://localhost:8080/"
        },
        "id": "dnKiUp9hT8nD",
        "outputId": "daa77f32-c0a7-473f-9fe0-680ac891fd87"
      },
      "source": [
        "#@ IMPLEMENTATION OF MAE: \n",
        "valid_3_dist = mnist_distance(valid_3_tens, mean3)       # Initializing the Function. \n",
        "valid_3_dist, valid_3_dist.shape                         # Inspecting the Results. "
      ],
      "execution_count": 26,
      "outputs": [
        {
          "output_type": "execute_result",
          "data": {
            "text/plain": [
              "(tensor([0.1163, 0.1270, 0.1241,  ..., 0.1454, 0.1078, 0.1365]),\n",
              " torch.Size([1010]))"
            ]
          },
          "metadata": {
            "tags": []
          },
          "execution_count": 26
        }
      ]
    },
    {
      "cell_type": "markdown",
      "metadata": {
        "id": "VzByEYzRWqeV"
      },
      "source": [
        "**Note:**\n",
        "- I will use the function to figure out whether an image is a 3 by using the following logic: If the distance between the digit in a question and the ideal 3 is less than the distance to the ideal 7 then it's 3."
      ]
    },
    {
      "cell_type": "code",
      "metadata": {
        "colab": {
          "base_uri": "https://localhost:8080/"
        },
        "id": "NdwOTFnDU1oF",
        "outputId": "7a7b8844-b71a-4f04-9761-32da76c85554"
      },
      "source": [
        "#@ DEFINING THE FUNCTION: \n",
        "def is_3(x):                                                        # Initializing the Function. \n",
        "    return mnist_distance(x, mean3) < mnist_distance(x, mean7)      # Inspecting Distance. \n",
        "is_3(a_3), is_3(a_3).float()                                        # Inspecting the Results. "
      ],
      "execution_count": 27,
      "outputs": [
        {
          "output_type": "execute_result",
          "data": {
            "text/plain": [
              "(tensor(True), tensor(1.))"
            ]
          },
          "metadata": {
            "tags": []
          },
          "execution_count": 27
        }
      ]
    },
    {
      "cell_type": "code",
      "metadata": {
        "colab": {
          "base_uri": "https://localhost:8080/"
        },
        "id": "SPeDQ7GQYN7M",
        "outputId": "453f3c14-3920-47de-bca8-124f1a6b2679"
      },
      "source": [
        "#@ INSPECTING ACCURACY: \n",
        "accuracy_3s = is_3(valid_3_tens).float().mean()                     # Getting Accuracy. \n",
        "accuracy_7s = (1 - is_3(valid_7_tens).float()).mean()               # Getting Accuracy. \n",
        "accuracy_3s, accuracy_7s, (accuracy_3s + accuracy_7s) / 2           # Getting Results. "
      ],
      "execution_count": 28,
      "outputs": [
        {
          "output_type": "execute_result",
          "data": {
            "text/plain": [
              "(tensor(0.9168), tensor(0.9854), tensor(0.9511))"
            ]
          },
          "metadata": {
            "tags": []
          },
          "execution_count": 28
        }
      ]
    },
    {
      "cell_type": "code",
      "metadata": {
        "id": "sO7BAb9YZRe2"
      },
      "source": [
        ""
      ],
      "execution_count": null,
      "outputs": []
    }
  ]
}