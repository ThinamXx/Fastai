{
  "nbformat": 4,
  "nbformat_minor": 0,
  "metadata": {
    "colab": {
      "name": "LanguageModel.ipynb",
      "provenance": [],
      "collapsed_sections": []
    },
    "kernelspec": {
      "name": "python3",
      "display_name": "Python 3"
    },
    "language_info": {
      "name": "python"
    },
    "accelerator": "GPU"
  },
  "cells": [
    {
      "cell_type": "markdown",
      "metadata": {
        "id": "GAJldAyzepOb"
      },
      "source": [
        "### **INITIALIZATION:**\n",
        "- I use these three lines of code on top of my each notebooks because it will help to prevent any problems while reloading the same project. And the third line of code helps to make visualization within the notebook."
      ]
    },
    {
      "cell_type": "code",
      "metadata": {
        "id": "VO53Px9xdrmE"
      },
      "source": [
        "#@ INITIALIZATION: \n",
        "%reload_ext autoreload\n",
        "%autoreload 2\n",
        "%matplotlib inline"
      ],
      "execution_count": 1,
      "outputs": []
    },
    {
      "cell_type": "markdown",
      "metadata": {
        "id": "Zk8Co18Leyiy"
      },
      "source": [
        "**LIBRARIES AND DEPENDENCIES:**\n",
        "- I have downloaded all the libraries and dependencies required for the project in one particular cell."
      ]
    },
    {
      "cell_type": "code",
      "metadata": {
        "id": "V0I-gBJ1ewPX"
      },
      "source": [
        "#@ INSTALLING DEPENDENCIES: UNCOMMENT BELOW: \n",
        "# !pip install -Uqq fastbook\n",
        "# import fastbook\n",
        "# fastbook.setup_book()"
      ],
      "execution_count": 3,
      "outputs": []
    },
    {
      "cell_type": "code",
      "metadata": {
        "id": "9l9ySLgOe5QN"
      },
      "source": [
        "#@ DOWNLOADING LIBRARIES AND DEPENDENCIES: \n",
        "from fastbook import *                              # Getting all the Libraries. \n",
        "from fastai.callback.fp16 import *\n",
        "from fastai.text.all import *                       # Getting all the Libraries."
      ],
      "execution_count": 4,
      "outputs": []
    },
    {
      "cell_type": "markdown",
      "metadata": {
        "id": "ZCAIhIx-fhYh"
      },
      "source": [
        "### **GETTING THE DATA:**\n",
        "- I will use **Human Numbers** dataset here. It contains the first 10000 numbers written out in English. "
      ]
    },
    {
      "cell_type": "code",
      "metadata": {
        "colab": {
          "base_uri": "https://localhost:8080/"
        },
        "id": "EcPI-9djfVt2",
        "outputId": "a230b368-6d43-4acc-ccbd-5ade67dd3d55"
      },
      "source": [
        "#@ GETTING THE DATASET: \n",
        "path = untar_data(URLs.HUMAN_NUMBERS)               # Path to the Dataset. \n",
        "path.ls()                                           # Inspecting the Dataset. "
      ],
      "execution_count": 6,
      "outputs": [
        {
          "output_type": "execute_result",
          "data": {
            "text/plain": [
              "(#2) [Path('/root/.fastai/data/human_numbers/train.txt'),Path('/root/.fastai/data/human_numbers/valid.txt')]"
            ]
          },
          "metadata": {
            "tags": []
          },
          "execution_count": 6
        }
      ]
    },
    {
      "cell_type": "code",
      "metadata": {
        "colab": {
          "base_uri": "https://localhost:8080/"
        },
        "id": "lxZ4-F9EgOpz",
        "outputId": "6c27b1e8-3197-4b94-a2a7-37300de6c53e"
      },
      "source": [
        "#@ JOINING AND INSPECTING THE DATASET: \n",
        "lines = L()                                         # Initializing a List. \n",
        "with open(path/\"train.txt\") as f:                   # Opening the File. \n",
        "    lines += L(*f.readlines())                      # Reading the Lines. \n",
        "with open(path/\"valid.txt\") as f:                   # Opening the File. \n",
        "    lines += L(*f.readlines())                      # Reading the Lines. \n",
        "lines                                               # Inspection. "
      ],
      "execution_count": 7,
      "outputs": [
        {
          "output_type": "execute_result",
          "data": {
            "text/plain": [
              "(#9998) ['one \\n','two \\n','three \\n','four \\n','five \\n','six \\n','seven \\n','eight \\n','nine \\n','ten \\n'...]"
            ]
          },
          "metadata": {
            "tags": []
          },
          "execution_count": 7
        }
      ]
    },
    {
      "cell_type": "code",
      "metadata": {
        "colab": {
          "base_uri": "https://localhost:8080/",
          "height": 35
        },
        "id": "xUisxqHRk16e",
        "outputId": "8de3872d-7a68-4575-990a-6c3a49eddb4c"
      },
      "source": [
        "#@ PREPARING THE DATASET: \n",
        "text = \" . \".join([l.strip() for l in lines])       # Preparing the Dataset. \n",
        "text[:100]                                          # Inspection. "
      ],
      "execution_count": 8,
      "outputs": [
        {
          "output_type": "execute_result",
          "data": {
            "application/vnd.google.colaboratory.intrinsic+json": {
              "type": "string"
            },
            "text/plain": [
              "'one . two . three . four . five . six . seven . eight . nine . ten . eleven . twelve . thirteen . fo'"
            ]
          },
          "metadata": {
            "tags": []
          },
          "execution_count": 8
        }
      ]
    },
    {
      "cell_type": "markdown",
      "metadata": {
        "id": "glIUHjTDl69L"
      },
      "source": [
        "**Note:**\n",
        "- I will tokenize the dataset by splitting on spaces. Then I will create a list of unique tokens called vocab for **Numericalization**. Then I will convert the tokens into numbers by looking up in the index of each in the vocab. "
      ]
    },
    {
      "cell_type": "code",
      "metadata": {
        "colab": {
          "base_uri": "https://localhost:8080/"
        },
        "id": "CNqUHDHEli9w",
        "outputId": "388973c7-5897-4719-dff5-b0c40d79eeec"
      },
      "source": [
        "#@ TOKENIZING THE DATASET: \n",
        "tokens = text.split(\" \")                            # Splitting into Tokens. \n",
        "tokens[:10]                                         # Inspecting Tokens. "
      ],
      "execution_count": 9,
      "outputs": [
        {
          "output_type": "execute_result",
          "data": {
            "text/plain": [
              "['one', '.', 'two', '.', 'three', '.', 'four', '.', 'five', '.']"
            ]
          },
          "metadata": {
            "tags": []
          },
          "execution_count": 9
        }
      ]
    },
    {
      "cell_type": "code",
      "metadata": {
        "colab": {
          "base_uri": "https://localhost:8080/"
        },
        "id": "KRnH-KHImgIA",
        "outputId": "bd0e973c-34ed-4c27-9863-2f4692e00e13"
      },
      "source": [
        "#@ GETTING UNIQUE TOKENS: \n",
        "vocab = L(*tokens).unique()                         # Getting Unique Tokens. \n",
        "vocab                                               # Inspection. "
      ],
      "execution_count": 11,
      "outputs": [
        {
          "output_type": "execute_result",
          "data": {
            "text/plain": [
              "(#30) ['one','.','two','three','four','five','six','seven','eight','nine'...]"
            ]
          },
          "metadata": {
            "tags": []
          },
          "execution_count": 11
        }
      ]
    },
    {
      "cell_type": "code",
      "metadata": {
        "colab": {
          "base_uri": "https://localhost:8080/"
        },
        "id": "ZotFzTfhnCTI",
        "outputId": "9226f546-a048-445c-fc2c-9d0075c7c16a"
      },
      "source": [
        "#@ CONVERTING TOKENS INTO NUMBERS: \n",
        "word2idx = {w:i for i,w in enumerate(vocab)}       # Getting Index of Tokens. \n",
        "nums = L(word2idx[i] for i in tokens)              # Converting into Numbers. \n",
        "nums                                               # Inspection.  "
      ],
      "execution_count": 12,
      "outputs": [
        {
          "output_type": "execute_result",
          "data": {
            "text/plain": [
              "(#63095) [0,1,2,1,3,1,4,1,5,1...]"
            ]
          },
          "metadata": {
            "tags": []
          },
          "execution_count": 12
        }
      ]
    },
    {
      "cell_type": "markdown",
      "metadata": {
        "id": "_a1MXbJNo0St"
      },
      "source": [
        "### **LANGUAGE MODEL FROM SCRATCH:**\n",
        "- Here I will create a list of every sequence of three words as independent variables and the next word after each sequence as the dependent variable. "
      ]
    },
    {
      "cell_type": "code",
      "metadata": {
        "colab": {
          "base_uri": "https://localhost:8080/"
        },
        "id": "Q7gbp6KZoHpv",
        "outputId": "11ef578f-2a91-4e5a-8c6c-0a45bdc2f622"
      },
      "source": [
        "#@ CREATING SEQUENCE OF TOKENS: \n",
        "L((tokens[i:i+3], tokens[i+3]) for i in range(0, len(tokens)-4, 3))"
      ],
      "execution_count": 13,
      "outputs": [
        {
          "output_type": "execute_result",
          "data": {
            "text/plain": [
              "(#21031) [(['one', '.', 'two'], '.'),(['.', 'three', '.'], 'four'),(['four', '.', 'five'], '.'),(['.', 'six', '.'], 'seven'),(['seven', '.', 'eight'], '.'),(['.', 'nine', '.'], 'ten'),(['ten', '.', 'eleven'], '.'),(['.', 'twelve', '.'], 'thirteen'),(['thirteen', '.', 'fourteen'], '.'),(['.', 'fifteen', '.'], 'sixteen')...]"
            ]
          },
          "metadata": {
            "tags": []
          },
          "execution_count": 13
        }
      ]
    },
    {
      "cell_type": "code",
      "metadata": {
        "colab": {
          "base_uri": "https://localhost:8080/"
        },
        "id": "BxKUTFqoqalx",
        "outputId": "1b2f6eac-88eb-47a3-91cc-693267a81a1e"
      },
      "source": [
        "#@ CREATING SEQUENCE OF TENSORS FOR NUMERICALIZED VALUES: \n",
        "seqs = L((tensor(nums[i:i+3]), nums[i+3]) for i in range(0, len(nums)-4, 3))   # Creating Sequence.\n",
        "seqs                                                                           # Inspection.  "
      ],
      "execution_count": 14,
      "outputs": [
        {
          "output_type": "execute_result",
          "data": {
            "text/plain": [
              "(#21031) [(tensor([0, 1, 2]), 1),(tensor([1, 3, 1]), 4),(tensor([4, 1, 5]), 1),(tensor([1, 6, 1]), 7),(tensor([7, 1, 8]), 1),(tensor([1, 9, 1]), 10),(tensor([10,  1, 11]), 1),(tensor([ 1, 12,  1]), 13),(tensor([13,  1, 14]), 1),(tensor([ 1, 15,  1]), 16)...]"
            ]
          },
          "metadata": {
            "tags": []
          },
          "execution_count": 14
        }
      ]
    },
    {
      "cell_type": "code",
      "metadata": {
        "id": "Q--On8YkUWSD"
      },
      "source": [
        "#@ CREATING DATALOADERS: \n",
        "bs = 64                                                 # Initializing Batchsize. \n",
        "cut = int(len(seqs) * 0.8)                              # Initialization. \n",
        "dls = DataLoaders.from_dsets(seqs[:cut], seqs[cut:], \n",
        "                             bs=bs, shuffle=False)      # Initializing Data Loaders. "
      ],
      "execution_count": 15,
      "outputs": []
    },
    {
      "cell_type": "markdown",
      "metadata": {
        "id": "TcUWBI0PVpOP"
      },
      "source": [
        "**LANGUAGE MODEL:**\n",
        "- I will create neural network architecture that takes three words as input and returns the predictions of the probability of each possible next word in the vocab. I will use three standard linear layers. The first linear layer will use only the first words embedding as activations. The second layer will use the second words embedding plus the first layers output activations and the third layer will use the third words embedding plus the second layers output activations. The key effect is that every word is interpreted in the information context of any words preceding it. Each of these three layers will use the same weight matrix. "
      ]
    },
    {
      "cell_type": "code",
      "metadata": {
        "id": "q-Djq4aoVoj7"
      },
      "source": [
        "#@ LANGUAGE MODEL IN PYTORCH: SIMPLE LINEAR MODEL: \n",
        "class LMModel1(Module):                                         # Defining Language Model Class. \n",
        "    def __init__(self, vocab_sz, n_hidden):                     # Initializing Constructor Function. \n",
        "        self.i_h = nn.Embedding(vocab_sz, n_hidden)             # Initializing Embedding Layer. \n",
        "        self.h_h = nn.Linear(n_hidden, n_hidden)                # Initializing Linear Layer. \n",
        "        self.h_o = nn.Linear(n_hidden, vocab_sz)                # Initializing Linear Layer. \n",
        "    \n",
        "    def forward(self, x):                                       # Forward Propagation Function. \n",
        "        h = F.relu(self.h_h(self.i_h(x[:, 0])))                 # Implementation of RELU. \n",
        "        h = h + self.i_h(x[:, 1])                               # Second Word Embeddings and Activations. \n",
        "        h = F.relu(self.h_h(h))                                 # Implementation of RELU. \n",
        "        h = h + self.i_h(x[:, 2])                               # Third Word Embeddings and Activations. \n",
        "        h = F.relu(self.h_h(h))                                 # Implementation of RELU. \n",
        "        return self.h_o(h)                                      # Implementation of Linear Layer. "
      ],
      "execution_count": 16,
      "outputs": []
    },
    {
      "cell_type": "code",
      "metadata": {
        "colab": {
          "base_uri": "https://localhost:8080/",
          "height": 173
        },
        "id": "cUzzGOm7bAzV",
        "outputId": "aa2564e0-9113-4834-819d-5fbeee286981"
      },
      "source": [
        "#@ TRAINING THE LANGUAGE MODEL: \n",
        "learn = Learner(dls, LMModel1(len(vocab), 64),                  # Initializing Learner with Language Model. \n",
        "                loss_func=F.cross_entropy, metrics=accuracy)    # Initializing Cross Entropy Loss Function. \n",
        "learn.fit_one_cycle(4, 1e-3)                                    # Training the Model. "
      ],
      "execution_count": 17,
      "outputs": [
        {
          "output_type": "display_data",
          "data": {
            "text/html": [
              "<table border=\"1\" class=\"dataframe\">\n",
              "  <thead>\n",
              "    <tr style=\"text-align: left;\">\n",
              "      <th>epoch</th>\n",
              "      <th>train_loss</th>\n",
              "      <th>valid_loss</th>\n",
              "      <th>accuracy</th>\n",
              "      <th>time</th>\n",
              "    </tr>\n",
              "  </thead>\n",
              "  <tbody>\n",
              "    <tr>\n",
              "      <td>0</td>\n",
              "      <td>1.824297</td>\n",
              "      <td>1.970941</td>\n",
              "      <td>0.467554</td>\n",
              "      <td>00:01</td>\n",
              "    </tr>\n",
              "    <tr>\n",
              "      <td>1</td>\n",
              "      <td>1.386973</td>\n",
              "      <td>1.823242</td>\n",
              "      <td>0.467554</td>\n",
              "      <td>00:01</td>\n",
              "    </tr>\n",
              "    <tr>\n",
              "      <td>2</td>\n",
              "      <td>1.417556</td>\n",
              "      <td>1.654498</td>\n",
              "      <td>0.494414</td>\n",
              "      <td>00:01</td>\n",
              "    </tr>\n",
              "    <tr>\n",
              "      <td>3</td>\n",
              "      <td>1.376440</td>\n",
              "      <td>1.650849</td>\n",
              "      <td>0.494414</td>\n",
              "      <td>00:01</td>\n",
              "    </tr>\n",
              "  </tbody>\n",
              "</table>"
            ],
            "text/plain": [
              "<IPython.core.display.HTML object>"
            ]
          },
          "metadata": {
            "tags": []
          }
        }
      ]
    },
    {
      "cell_type": "code",
      "metadata": {
        "colab": {
          "base_uri": "https://localhost:8080/"
        },
        "id": "d8UY3bfOb-jA",
        "outputId": "29c39a46-4a3a-4ea0-95fe-24a6ac2d9144"
      },
      "source": [
        "#@ MODEL EVALUATION: \n",
        "n, counts = 0, torch.zeros(len(vocab))                          # Initialization. \n",
        "for x, y in dls.valid: \n",
        "    n += y.shape[0]\n",
        "    for i in range_of(vocab):\n",
        "        counts[i] += (y==i).long().sum()\n",
        "idx = torch.argmax(counts)                                      # Common Tensor Index. \n",
        "idx, vocab[idx.item()], counts[idx].item()/n                    # Inspection. "
      ],
      "execution_count": 18,
      "outputs": [
        {
          "output_type": "execute_result",
          "data": {
            "text/plain": [
              "(tensor(29), 'thousand', 0.15165200855716662)"
            ]
          },
          "metadata": {
            "tags": []
          },
          "execution_count": 18
        }
      ]
    },
    {
      "cell_type": "markdown",
      "metadata": {
        "id": "PSCCpplwGHFH"
      },
      "source": [
        "**RECURRENT NEURAL NETWORK:**\n",
        "- I will simplify the neural networks model or module defined above by replacing the duplicated code that calls the layers with a for loop. The module can work equally to token sequences of different lengths. **Recurrent Neural Network** is a network which is a refactoring of a multilayer neural network using for loop.  "
      ]
    },
    {
      "cell_type": "code",
      "metadata": {
        "id": "ezGE9zpcfoQp"
      },
      "source": [
        "#@ LANGUAGE MODEL IN PYTORCH: RECURRENT NEURAL NETWORK:\n",
        "class LMModel2(Module):                                         # Defining Language Model Class.\n",
        "    def __init__(self, vocab_sz, num_hidden):                   # Initializing Constructor Function. \n",
        "        self.i_h = nn.Embedding(vocab_sz, num_hidden)           # Initializing Embedding Layer. \n",
        "        self.h_h = nn.Linear(num_hidden, num_hidden)            # Initializing Linear Layer. \n",
        "        self.h_o = nn.Linear(num_hidden, vocab_sz)              # Initializing Linear Layer. \n",
        "    \n",
        "    def forward(self, x):                                       # Forward Propagation Function.\n",
        "        h = 0                                                   # Initializing Activations. \n",
        "        for i in range(3):\n",
        "            h = h + self.i_h(x[:, i])                           # Initializing Word Embeddings. \n",
        "            h = F.relu(self.h_h(h))                             # Implementation of RELU. \n",
        "        return self.h_o(h)                                      # Implementation of Linear Layer. "
      ],
      "execution_count": 19,
      "outputs": []
    },
    {
      "cell_type": "markdown",
      "metadata": {
        "id": "4-Rr8bVDJ-7z"
      },
      "source": [
        "**Hidden State:**\n",
        "- **Hidden State** is defined as the activations that are updated at each step of a recurrent neural network. "
      ]
    },
    {
      "cell_type": "code",
      "metadata": {
        "colab": {
          "base_uri": "https://localhost:8080/",
          "height": 173
        },
        "id": "Q_kYWM5ZJYu_",
        "outputId": "1a3dcfeb-2a63-4b75-dc3d-b7882b5cef01"
      },
      "source": [
        "#@ TRAINING THE LANGUAGE MODEL: \n",
        "learn = Learner(dls, LMModel2(len(vocab), 64),                  # Initializing Learner with Language Model. \n",
        "                loss_func=F.cross_entropy, metrics=accuracy)    # Initializing Cross Entropy Loss Function. \n",
        "learn.fit_one_cycle(4, 1e-3)                                    # Training the Model. "
      ],
      "execution_count": 20,
      "outputs": [
        {
          "output_type": "display_data",
          "data": {
            "text/html": [
              "<table border=\"1\" class=\"dataframe\">\n",
              "  <thead>\n",
              "    <tr style=\"text-align: left;\">\n",
              "      <th>epoch</th>\n",
              "      <th>train_loss</th>\n",
              "      <th>valid_loss</th>\n",
              "      <th>accuracy</th>\n",
              "      <th>time</th>\n",
              "    </tr>\n",
              "  </thead>\n",
              "  <tbody>\n",
              "    <tr>\n",
              "      <td>0</td>\n",
              "      <td>1.816274</td>\n",
              "      <td>1.964143</td>\n",
              "      <td>0.460185</td>\n",
              "      <td>00:01</td>\n",
              "    </tr>\n",
              "    <tr>\n",
              "      <td>1</td>\n",
              "      <td>1.423805</td>\n",
              "      <td>1.739964</td>\n",
              "      <td>0.473259</td>\n",
              "      <td>00:01</td>\n",
              "    </tr>\n",
              "    <tr>\n",
              "      <td>2</td>\n",
              "      <td>1.430327</td>\n",
              "      <td>1.685172</td>\n",
              "      <td>0.485382</td>\n",
              "      <td>00:01</td>\n",
              "    </tr>\n",
              "    <tr>\n",
              "      <td>3</td>\n",
              "      <td>1.388390</td>\n",
              "      <td>1.657033</td>\n",
              "      <td>0.470406</td>\n",
              "      <td>00:01</td>\n",
              "    </tr>\n",
              "  </tbody>\n",
              "</table>"
            ],
            "text/plain": [
              "<IPython.core.display.HTML object>"
            ]
          },
          "metadata": {
            "tags": []
          }
        }
      ]
    },
    {
      "cell_type": "markdown",
      "metadata": {
        "id": "YjtXg9_YQPLa"
      },
      "source": [
        "**IMPROVING RECURRENT NEURAL NETWORK:**\n",
        "- I will define a stateful **Recurrent Neural Network** as it remembers its activations between different calls to forward which represents its use for different samples in the batch. "
      ]
    },
    {
      "cell_type": "code",
      "metadata": {
        "id": "uFT3ZigrJhsv"
      },
      "source": [
        "#@ LANGUAGE MODEL IN PYTORCH: RECURRENT NEURAL NETWORK:\n",
        "class LMModel3(Module):                                         # Defining Language Model Class.\n",
        "    def __init__(self, vocab_sz, num_hidden):                   # Initializing Constructor Function. \n",
        "        self.i_h = nn.Embedding(vocab_sz, num_hidden)           # Initializing Embedding Layer. \n",
        "        self.h_h = nn.Linear(num_hidden, num_hidden)            # Initializing Linear Layer. \n",
        "        self.h_o = nn.Linear(num_hidden, vocab_sz)              # Initializing Linear Layer. \n",
        "        self.h = 0                                              # Initializing Hidden State. \n",
        "    \n",
        "    def forward(self, x):                                       # Forward Propagation Function. \n",
        "        for i in range(3):\n",
        "            self.h = self.h + self.i_h(x[:, i])                 # Initializing Word Embeddings. \n",
        "            self.h = F.relu(self.h_h(self.h))                   # Implementation of RELU. \n",
        "        out = self.h_o(self.h)                                  # Implementation of Linear Layer. \n",
        "        self.h = self.h.detach()                                # Removing all the Gradients History. \n",
        "        return out \n",
        "    \n",
        "    def reset(self): self.h = 0                                 # Defining Reset Function. "
      ],
      "execution_count": 21,
      "outputs": []
    },
    {
      "cell_type": "markdown",
      "metadata": {
        "id": "RNOTRjO5UnP3"
      },
      "source": [
        "**BACKPROPAGATION THROUGH TIME:**\n",
        "- **Backpropagation through Time** is a process of treating a neural network with effectively one layer per time step as one big model and calculating gradients on it in the usual way. The **BPTT** technique is used to avoid running out of memory and time which detaches the history of computation steps in the hidden state every few time steps. "
      ]
    },
    {
      "cell_type": "code",
      "metadata": {
        "id": "3MGLS9j0aKUb",
        "colab": {
          "base_uri": "https://localhost:8080/"
        },
        "outputId": "93928692-3321-4203-8184-b036ca4700db"
      },
      "source": [
        "#@ ARRANGING THE DATASET: \n",
        "m = len(seqs)//bs                                           # Getting Pieces of Sequences. \n",
        "m, bs, len(seqs)                                            # Inspection. "
      ],
      "execution_count": 22,
      "outputs": [
        {
          "output_type": "execute_result",
          "data": {
            "text/plain": [
              "(328, 64, 21031)"
            ]
          },
          "metadata": {
            "tags": []
          },
          "execution_count": 22
        }
      ]
    },
    {
      "cell_type": "code",
      "metadata": {
        "id": "cHnjhSdg5Dvm"
      },
      "source": [
        "#@ FUNCTION FOR REINDEXING: \n",
        "def group_chunks(ds, bs):                                   # Defining Function. \n",
        "    m = len(ds) // bs                                       # Getting Pieces of Sequences. \n",
        "    new_ds = L()                                            # Initialization. \n",
        "    for i in range(m):\n",
        "        new_ds += L(ds[i + m*j] for j in range(bs))     \n",
        "    return new_ds"
      ],
      "execution_count": 23,
      "outputs": []
    },
    {
      "cell_type": "code",
      "metadata": {
        "id": "oRrV9kwi7PIU"
      },
      "source": [
        "#@ CREATING DATA LOADERS: \n",
        "cut = int(len(seqs)*0.8)                                    # Initializing Ratio. \n",
        "dls = DataLoaders.from_dsets(group_chunks(seqs[:cut],bs),   # Initializing Data Loaders. \n",
        "                             group_chunks(seqs[cut:],bs),     \n",
        "                             bs=bs, drop_last=True,         # Dropping the Last Batch. \n",
        "                             shuffle=False)                 # Initializing Order. "
      ],
      "execution_count": 24,
      "outputs": []
    },
    {
      "cell_type": "code",
      "metadata": {
        "colab": {
          "base_uri": "https://localhost:8080/",
          "height": 359
        },
        "id": "TKWAF3rZ8zkq",
        "outputId": "924e1178-8017-472e-b5c0-d99b9c561858"
      },
      "source": [
        "#@ TRAINING THE LANGUAGE MODEL: \n",
        "learn = Learner(dls, LMModel3(len(vocab), 64),              # Initializing Learner with Language Model. \n",
        "                loss_func=F.cross_entropy,                  # Initilizing Cross Entropy Loss Function. \n",
        "                metrics=accuracy, cbs=ModelResetter)        # Initializing Metrics and Callbacks. \n",
        "learn.fit_one_cycle(10, 3e-3)                               # Training the Learner. "
      ],
      "execution_count": 25,
      "outputs": [
        {
          "output_type": "display_data",
          "data": {
            "text/html": [
              "<table border=\"1\" class=\"dataframe\">\n",
              "  <thead>\n",
              "    <tr style=\"text-align: left;\">\n",
              "      <th>epoch</th>\n",
              "      <th>train_loss</th>\n",
              "      <th>valid_loss</th>\n",
              "      <th>accuracy</th>\n",
              "      <th>time</th>\n",
              "    </tr>\n",
              "  </thead>\n",
              "  <tbody>\n",
              "    <tr>\n",
              "      <td>0</td>\n",
              "      <td>1.677074</td>\n",
              "      <td>1.827367</td>\n",
              "      <td>0.467548</td>\n",
              "      <td>00:01</td>\n",
              "    </tr>\n",
              "    <tr>\n",
              "      <td>1</td>\n",
              "      <td>1.282721</td>\n",
              "      <td>1.870913</td>\n",
              "      <td>0.388942</td>\n",
              "      <td>00:01</td>\n",
              "    </tr>\n",
              "    <tr>\n",
              "      <td>2</td>\n",
              "      <td>1.090705</td>\n",
              "      <td>1.651793</td>\n",
              "      <td>0.462500</td>\n",
              "      <td>00:01</td>\n",
              "    </tr>\n",
              "    <tr>\n",
              "      <td>3</td>\n",
              "      <td>1.005216</td>\n",
              "      <td>1.615990</td>\n",
              "      <td>0.515144</td>\n",
              "      <td>00:01</td>\n",
              "    </tr>\n",
              "    <tr>\n",
              "      <td>4</td>\n",
              "      <td>0.963020</td>\n",
              "      <td>1.605894</td>\n",
              "      <td>0.551202</td>\n",
              "      <td>00:01</td>\n",
              "    </tr>\n",
              "    <tr>\n",
              "      <td>5</td>\n",
              "      <td>0.925863</td>\n",
              "      <td>1.717049</td>\n",
              "      <td>0.543750</td>\n",
              "      <td>00:01</td>\n",
              "    </tr>\n",
              "    <tr>\n",
              "      <td>6</td>\n",
              "      <td>0.902744</td>\n",
              "      <td>1.704875</td>\n",
              "      <td>0.550721</td>\n",
              "      <td>00:01</td>\n",
              "    </tr>\n",
              "    <tr>\n",
              "      <td>7</td>\n",
              "      <td>0.844484</td>\n",
              "      <td>1.831642</td>\n",
              "      <td>0.566106</td>\n",
              "      <td>00:01</td>\n",
              "    </tr>\n",
              "    <tr>\n",
              "      <td>8</td>\n",
              "      <td>0.806782</td>\n",
              "      <td>1.837001</td>\n",
              "      <td>0.582452</td>\n",
              "      <td>00:01</td>\n",
              "    </tr>\n",
              "    <tr>\n",
              "      <td>9</td>\n",
              "      <td>0.795707</td>\n",
              "      <td>1.842007</td>\n",
              "      <td>0.573798</td>\n",
              "      <td>00:01</td>\n",
              "    </tr>\n",
              "  </tbody>\n",
              "</table>"
            ],
            "text/plain": [
              "<IPython.core.display.HTML object>"
            ]
          },
          "metadata": {
            "tags": []
          }
        }
      ]
    },
    {
      "cell_type": "code",
      "metadata": {
        "colab": {
          "base_uri": "https://localhost:8080/"
        },
        "id": "HT6_tOrU9q1S",
        "outputId": "6f7d0457-0bd6-409d-e906-46303de6a19a"
      },
      "source": [
        "#@ CREATING MORE SIGNAL:\n",
        "sl = 16                                                     # Initializing Sequence Length. \n",
        "seqs = L((tensor(nums[i:i+sl]), tensor(nums[i+1:i+sl+1])) \n",
        "          for i in range(0, len(nums)-sl-1, sl))            # Initializing Sequence of Tensors. \n",
        "cut = int(len(seqs)*0.8)                                    # Initializing Ratio. \n",
        "dls = DataLoaders.from_dsets(group_chunks(seqs[:cut],bs),   # Initializing Data Loaders. \n",
        "                             group_chunks(seqs[cut:],bs),     \n",
        "                             bs=bs, drop_last=True,         # Dropping the Last Batch. \n",
        "                             shuffle=False)                 # Initializing Order. \n",
        "\n",
        "#@ INSPECTING SEQUENCE OF DATASET: \n",
        "[L(vocab[o] for o in s) for s in seqs[0]]                   # Inspecting Sequences. "
      ],
      "execution_count": 26,
      "outputs": [
        {
          "output_type": "execute_result",
          "data": {
            "text/plain": [
              "[(#16) ['one','.','two','.','three','.','four','.','five','.'...],\n",
              " (#16) ['.','two','.','three','.','four','.','five','.','six'...]]"
            ]
          },
          "metadata": {
            "tags": []
          },
          "execution_count": 26
        }
      ]
    },
    {
      "cell_type": "code",
      "metadata": {
        "id": "jfj9gvN4BDtA"
      },
      "source": [
        ""
      ],
      "execution_count": null,
      "outputs": []
    }
  ]
}