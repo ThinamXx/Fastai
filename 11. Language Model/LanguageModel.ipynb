{
  "nbformat": 4,
  "nbformat_minor": 0,
  "metadata": {
    "colab": {
      "name": "LanguageModel.ipynb",
      "provenance": [],
      "collapsed_sections": []
    },
    "kernelspec": {
      "name": "python3",
      "display_name": "Python 3"
    },
    "language_info": {
      "name": "python"
    },
    "accelerator": "GPU"
  },
  "cells": [
    {
      "cell_type": "markdown",
      "metadata": {
        "id": "GAJldAyzepOb"
      },
      "source": [
        "### **INITIALIZATION:**\n",
        "- I use these three lines of code on top of my each notebooks because it will help to prevent any problems while reloading the same project. And the third line of code helps to make visualization within the notebook."
      ]
    },
    {
      "cell_type": "code",
      "metadata": {
        "id": "VO53Px9xdrmE"
      },
      "source": [
        "#@ INITIALIZATION: \n",
        "%reload_ext autoreload\n",
        "%autoreload 2\n",
        "%matplotlib inline"
      ],
      "execution_count": 1,
      "outputs": []
    },
    {
      "cell_type": "markdown",
      "metadata": {
        "id": "Zk8Co18Leyiy"
      },
      "source": [
        "**LIBRARIES AND DEPENDENCIES:**\n",
        "- I have downloaded all the libraries and dependencies required for the project in one particular cell."
      ]
    },
    {
      "cell_type": "code",
      "metadata": {
        "id": "V0I-gBJ1ewPX"
      },
      "source": [
        "#@ INSTALLING DEPENDENCIES: UNCOMMENT BELOW: \n",
        "# !pip install -Uqq fastbook\n",
        "# import fastbook\n",
        "# fastbook.setup_book()"
      ],
      "execution_count": 3,
      "outputs": []
    },
    {
      "cell_type": "code",
      "metadata": {
        "id": "9l9ySLgOe5QN"
      },
      "source": [
        "#@ DOWNLOADING LIBRARIES AND DEPENDENCIES: \n",
        "from fastbook import *                              # Getting all the Libraries. \n",
        "from fastai.callback.fp16 import *\n",
        "from fastai.text.all import *                       # Getting all the Libraries."
      ],
      "execution_count": 4,
      "outputs": []
    },
    {
      "cell_type": "markdown",
      "metadata": {
        "id": "ZCAIhIx-fhYh"
      },
      "source": [
        "### **GETTING THE DATA:**\n",
        "- I will use **Human Numbers** dataset here. It contains the first 10000 numbers written out in English. "
      ]
    },
    {
      "cell_type": "code",
      "metadata": {
        "colab": {
          "base_uri": "https://localhost:8080/"
        },
        "id": "EcPI-9djfVt2",
        "outputId": "110aaacd-60cc-4e06-cc52-a01edd90cca9"
      },
      "source": [
        "#@ GETTING THE DATASET: \n",
        "path = untar_data(URLs.HUMAN_NUMBERS)               # Path to the Dataset. \n",
        "path.ls()                                           # Inspecting the Dataset. "
      ],
      "execution_count": 6,
      "outputs": [
        {
          "output_type": "execute_result",
          "data": {
            "text/plain": [
              "(#2) [Path('/root/.fastai/data/human_numbers/train.txt'),Path('/root/.fastai/data/human_numbers/valid.txt')]"
            ]
          },
          "metadata": {
            "tags": []
          },
          "execution_count": 6
        }
      ]
    },
    {
      "cell_type": "code",
      "metadata": {
        "colab": {
          "base_uri": "https://localhost:8080/"
        },
        "id": "lxZ4-F9EgOpz",
        "outputId": "37d61f8a-231b-450b-f0c0-65b93f837a7e"
      },
      "source": [
        "#@ JOINING AND INSPECTING THE DATASET: \n",
        "lines = L()                                         # Initializing a List. \n",
        "with open(path/\"train.txt\") as f:                   # Opening the File. \n",
        "    lines += L(*f.readlines())                      # Reading the Lines. \n",
        "with open(path/\"valid.txt\") as f:                   # Opening the File. \n",
        "    lines += L(*f.readlines())                      # Reading the Lines. \n",
        "lines                                               # Inspection. "
      ],
      "execution_count": 7,
      "outputs": [
        {
          "output_type": "execute_result",
          "data": {
            "text/plain": [
              "(#9998) ['one \\n','two \\n','three \\n','four \\n','five \\n','six \\n','seven \\n','eight \\n','nine \\n','ten \\n'...]"
            ]
          },
          "metadata": {
            "tags": []
          },
          "execution_count": 7
        }
      ]
    },
    {
      "cell_type": "code",
      "metadata": {
        "colab": {
          "base_uri": "https://localhost:8080/",
          "height": 35
        },
        "id": "xUisxqHRk16e",
        "outputId": "522ae2f9-6eff-4b8b-ccee-e24c4a89c2a9"
      },
      "source": [
        "#@ PREPARING THE DATASET: \n",
        "text = \" . \".join([l.strip() for l in lines])       # Preparing the Dataset. \n",
        "text[:100]                                          # Inspection. "
      ],
      "execution_count": 8,
      "outputs": [
        {
          "output_type": "execute_result",
          "data": {
            "application/vnd.google.colaboratory.intrinsic+json": {
              "type": "string"
            },
            "text/plain": [
              "'one . two . three . four . five . six . seven . eight . nine . ten . eleven . twelve . thirteen . fo'"
            ]
          },
          "metadata": {
            "tags": []
          },
          "execution_count": 8
        }
      ]
    },
    {
      "cell_type": "markdown",
      "metadata": {
        "id": "glIUHjTDl69L"
      },
      "source": [
        "**Note:**\n",
        "- I will tokenize the dataset by splitting on spaces. Then I will create a list of unique tokens called vocab for **Numericalization**. Then I will convert the tokens into numbers by looking up in the index of each in the vocab. "
      ]
    },
    {
      "cell_type": "code",
      "metadata": {
        "colab": {
          "base_uri": "https://localhost:8080/"
        },
        "id": "CNqUHDHEli9w",
        "outputId": "d12cee04-1ecc-4904-97c8-20a5be16e9b5"
      },
      "source": [
        "#@ TOKENIZING THE DATASET: \n",
        "tokens = text.split(\" \")                            # Splitting into Tokens. \n",
        "tokens[:10]                                         # Inspecting Tokens. "
      ],
      "execution_count": 9,
      "outputs": [
        {
          "output_type": "execute_result",
          "data": {
            "text/plain": [
              "['one', '.', 'two', '.', 'three', '.', 'four', '.', 'five', '.']"
            ]
          },
          "metadata": {
            "tags": []
          },
          "execution_count": 9
        }
      ]
    },
    {
      "cell_type": "code",
      "metadata": {
        "colab": {
          "base_uri": "https://localhost:8080/"
        },
        "id": "KRnH-KHImgIA",
        "outputId": "d881cdd2-6a35-482e-a865-a16faa77f043"
      },
      "source": [
        "#@ GETTING UNIQUE TOKENS: \n",
        "vocab = L(*tokens).unique()                         # Getting Unique Tokens. \n",
        "vocab                                               # Inspection. "
      ],
      "execution_count": 10,
      "outputs": [
        {
          "output_type": "execute_result",
          "data": {
            "text/plain": [
              "(#30) ['one','.','two','three','four','five','six','seven','eight','nine'...]"
            ]
          },
          "metadata": {
            "tags": []
          },
          "execution_count": 10
        }
      ]
    },
    {
      "cell_type": "code",
      "metadata": {
        "colab": {
          "base_uri": "https://localhost:8080/"
        },
        "id": "ZotFzTfhnCTI",
        "outputId": "32f45533-99ef-4a19-a8a5-8d1c9e780c2c"
      },
      "source": [
        "#@ CONVERTING TOKENS INTO NUMBERS: \n",
        "word2idx = {w:i for i,w in enumerate(vocab)}       # Getting Index of Tokens. \n",
        "nums = L(word2idx[i] for i in tokens)              # Converting into Numbers. \n",
        "nums                                               # Inspection.  "
      ],
      "execution_count": 11,
      "outputs": [
        {
          "output_type": "execute_result",
          "data": {
            "text/plain": [
              "(#63095) [0,1,2,1,3,1,4,1,5,1...]"
            ]
          },
          "metadata": {
            "tags": []
          },
          "execution_count": 11
        }
      ]
    },
    {
      "cell_type": "markdown",
      "metadata": {
        "id": "_a1MXbJNo0St"
      },
      "source": [
        "### **LANGUAGE MODEL FROM SCRATCH:**\n",
        "- Here I will create a list of every sequence of three words as independent variables and the next word after each sequence as the dependent variable. "
      ]
    },
    {
      "cell_type": "code",
      "metadata": {
        "colab": {
          "base_uri": "https://localhost:8080/"
        },
        "id": "Q7gbp6KZoHpv",
        "outputId": "44bb9f70-fa13-453a-eca3-b72b27764714"
      },
      "source": [
        "#@ CREATING SEQUENCE OF TOKENS: \n",
        "L((tokens[i:i+3], tokens[i+3]) for i in range(0, len(tokens)-4, 3))"
      ],
      "execution_count": 15,
      "outputs": [
        {
          "output_type": "execute_result",
          "data": {
            "text/plain": [
              "(#21031) [(['one', '.', 'two'], '.'),(['.', 'three', '.'], 'four'),(['four', '.', 'five'], '.'),(['.', 'six', '.'], 'seven'),(['seven', '.', 'eight'], '.'),(['.', 'nine', '.'], 'ten'),(['ten', '.', 'eleven'], '.'),(['.', 'twelve', '.'], 'thirteen'),(['thirteen', '.', 'fourteen'], '.'),(['.', 'fifteen', '.'], 'sixteen')...]"
            ]
          },
          "metadata": {
            "tags": []
          },
          "execution_count": 15
        }
      ]
    },
    {
      "cell_type": "code",
      "metadata": {
        "colab": {
          "base_uri": "https://localhost:8080/"
        },
        "id": "BxKUTFqoqalx",
        "outputId": "fc2e3908-70fc-44e4-f29b-1356c89de4c8"
      },
      "source": [
        "#@ CREATING SEQUENCE OF TENSORS FOR NUMERICALIZED VALUES: \n",
        "seqs = L((tensor(nums[i:i+3]), nums[i+3]) for i in range(0, len(nums)-4, 3))   # Creating Sequence.\n",
        "seqs                                                                           # Inspection.  "
      ],
      "execution_count": 16,
      "outputs": [
        {
          "output_type": "execute_result",
          "data": {
            "text/plain": [
              "(#21031) [(tensor([0, 1, 2]), 1),(tensor([1, 3, 1]), 4),(tensor([4, 1, 5]), 1),(tensor([1, 6, 1]), 7),(tensor([7, 1, 8]), 1),(tensor([1, 9, 1]), 10),(tensor([10,  1, 11]), 1),(tensor([ 1, 12,  1]), 13),(tensor([13,  1, 14]), 1),(tensor([ 1, 15,  1]), 16)...]"
            ]
          },
          "metadata": {
            "tags": []
          },
          "execution_count": 16
        }
      ]
    },
    {
      "cell_type": "code",
      "metadata": {
        "id": "Q--On8YkUWSD"
      },
      "source": [
        "#@ CREATING DATALOADERS: \n",
        "bs = 64                                                 # Initializing Batchsize. \n",
        "cut = int(len(seqs) * 0.8)                              # Initialization. \n",
        "dls = DataLoaders.from_dsets(seqs[:cut], seqs[cut:], \n",
        "                             bs=bs, shuffle=False)      # Initializing Data Loaders. "
      ],
      "execution_count": 17,
      "outputs": []
    },
    {
      "cell_type": "markdown",
      "metadata": {
        "id": "TcUWBI0PVpOP"
      },
      "source": [
        "**LANGUAGE MODEL:**\n",
        "- I will create neural network architecture that takes three words as input and returns the predictions of the probability of each possible next word in the vocab. I will use three standard linear layers. The first linear layer will use only the first words embedding as activations. The second layer will use the second words embedding plus the first layers output activations and the third layer will use the third words embedding plus the second layers output activations. The key effect is that every word is interpreted in the information context of any words preceding it. Each of these three layers will use the same weight matrix. "
      ]
    },
    {
      "cell_type": "code",
      "metadata": {
        "id": "q-Djq4aoVoj7"
      },
      "source": [
        "#@ LANGUAGE MODEL IN PYTORCH: SIMPLE LINEAR MODEL: \n",
        "class LMModel1(Module):                                         # Defining Language Model Class. \n",
        "    def __init__(self, vocab_sz, n_hidden):                     # Initializing Constructor Function. \n",
        "        self.i_h = nn.Embedding(vocab_sz, n_hidden)             # Initializing Embedding Layer. \n",
        "        self.h_h = nn.Linear(n_hidden, n_hidden)                # Initializing Linear Layer. \n",
        "        self.h_o = nn.Linear(n_hidden, vocab_sz)                # Initializing Linear Layer. \n",
        "    \n",
        "    def forward(self, x):                                       # Forward Propagation Function. \n",
        "        h = F.relu(self.h_h(self.i_h(x[:, 0])))                 # Implementation of RELU. \n",
        "        h = h + self.i_h(x[:, 1])                               # Second Word Embeddings and Activations. \n",
        "        h = F.relu(self.h_h(h))                                 # Implementation of RELU. \n",
        "        h = h + self.i_h(x[:, 2])                               # Third Word Embeddings and Activations. \n",
        "        h = F.relu(self.h_h(h))                                 # Implementation of RELU. \n",
        "        return self.h_o(h)                                      # Implementation of Linear Layer. "
      ],
      "execution_count": 18,
      "outputs": []
    },
    {
      "cell_type": "code",
      "metadata": {
        "colab": {
          "base_uri": "https://localhost:8080/",
          "height": 173
        },
        "id": "cUzzGOm7bAzV",
        "outputId": "75b1a877-d3ec-435a-f252-9afeaaf1b581"
      },
      "source": [
        "#@ TRAINING THE LANGUAGE MODEL: \n",
        "learn = Learner(dls, LMModel1(len(vocab), 64),                  # Initializing Learner with Language Model. \n",
        "                loss_func=F.cross_entropy, metrics=accuracy)    # Initializing Cross Entropy Loss Function. \n",
        "learn.fit_one_cycle(4, 1e-3)                                    # Training the Model. "
      ],
      "execution_count": 19,
      "outputs": [
        {
          "output_type": "display_data",
          "data": {
            "text/html": [
              "<table border=\"1\" class=\"dataframe\">\n",
              "  <thead>\n",
              "    <tr style=\"text-align: left;\">\n",
              "      <th>epoch</th>\n",
              "      <th>train_loss</th>\n",
              "      <th>valid_loss</th>\n",
              "      <th>accuracy</th>\n",
              "      <th>time</th>\n",
              "    </tr>\n",
              "  </thead>\n",
              "  <tbody>\n",
              "    <tr>\n",
              "      <td>0</td>\n",
              "      <td>1.824297</td>\n",
              "      <td>1.970941</td>\n",
              "      <td>0.467554</td>\n",
              "      <td>00:01</td>\n",
              "    </tr>\n",
              "    <tr>\n",
              "      <td>1</td>\n",
              "      <td>1.386973</td>\n",
              "      <td>1.823242</td>\n",
              "      <td>0.467554</td>\n",
              "      <td>00:01</td>\n",
              "    </tr>\n",
              "    <tr>\n",
              "      <td>2</td>\n",
              "      <td>1.417556</td>\n",
              "      <td>1.654498</td>\n",
              "      <td>0.494414</td>\n",
              "      <td>00:01</td>\n",
              "    </tr>\n",
              "    <tr>\n",
              "      <td>3</td>\n",
              "      <td>1.376440</td>\n",
              "      <td>1.650849</td>\n",
              "      <td>0.494414</td>\n",
              "      <td>00:01</td>\n",
              "    </tr>\n",
              "  </tbody>\n",
              "</table>"
            ],
            "text/plain": [
              "<IPython.core.display.HTML object>"
            ]
          },
          "metadata": {
            "tags": []
          }
        }
      ]
    },
    {
      "cell_type": "code",
      "metadata": {
        "colab": {
          "base_uri": "https://localhost:8080/"
        },
        "id": "d8UY3bfOb-jA",
        "outputId": "f82c4b8c-8ad8-4faa-caaa-50fdcf40b130"
      },
      "source": [
        "#@ MODEL EVALUATION: \n",
        "n, counts = 0, torch.zeros(len(vocab))                          # Initialization. \n",
        "for x, y in dls.valid: \n",
        "    n += y.shape[0]\n",
        "    for i in range_of(vocab):\n",
        "        counts[i] += (y==i).long().sum()\n",
        "idx = torch.argmax(counts)                                      # Common Tensor Index. \n",
        "idx, vocab[idx.item()], counts[idx].item()/n                    # Inspection. "
      ],
      "execution_count": 20,
      "outputs": [
        {
          "output_type": "execute_result",
          "data": {
            "text/plain": [
              "(tensor(29), 'thousand', 0.15165200855716662)"
            ]
          },
          "metadata": {
            "tags": []
          },
          "execution_count": 20
        }
      ]
    },
    {
      "cell_type": "markdown",
      "metadata": {
        "id": "PSCCpplwGHFH"
      },
      "source": [
        "### **RECURRENT NEURAL NETWORK:**\n",
        "- I will simplify the neural networks model or module defined above by replacing the duplicated code that calls the layers with a for loop. The module can work equally to token sequences of different lengths. **Recurrent Neural Network** is a network which is a refactoring of a multilayer neural network using for loop.  "
      ]
    },
    {
      "cell_type": "code",
      "metadata": {
        "id": "ezGE9zpcfoQp"
      },
      "source": [
        "#@ LANGUAGE MODEL IN PYTORCH: RECURRENT NEURAL NETWORK:\n",
        "class LMModel2(Module):                                         # Defining Language Model Class.\n",
        "    def __init__(self, vocab_sz, num_hidden):                   # Initializing Constructor Function. \n",
        "        self.i_h = nn.Embedding(vocab_sz, num_hidden)           # Initializing Embedding Layer. \n",
        "        self.h_h = nn.Linear(num_hidden, num_hidden)            # Initializing Linear Layer. \n",
        "        self.h_o = nn.Linear(num_hidden, vocab_sz)              # Initializing Linear Layer. \n",
        "    \n",
        "    def forward(self, x):                                       # Forward Propagation Function.\n",
        "        h = 0                                                   # Initializing Activations. \n",
        "        for i in range(3):\n",
        "            h = h + self.i_h(x[:, i])                           # Initializing Word Embeddings. \n",
        "            h = F.relu(self.h_h(h))                             # Implementation of RELU. \n",
        "        return self.h_o(h)                                      # Implementation of Linear Layer. "
      ],
      "execution_count": 21,
      "outputs": []
    },
    {
      "cell_type": "markdown",
      "metadata": {
        "id": "4-Rr8bVDJ-7z"
      },
      "source": [
        "**Hidden State:**\n",
        "- **Hidden State** is defined as the activations that are updated at each step of a recurrent neural network. "
      ]
    },
    {
      "cell_type": "code",
      "metadata": {
        "colab": {
          "base_uri": "https://localhost:8080/",
          "height": 173
        },
        "id": "Q_kYWM5ZJYu_",
        "outputId": "c9f5aaff-f54e-426f-e98b-16c911a7ad3b"
      },
      "source": [
        "#@ TRAINING THE LANGUAGE MODEL: \n",
        "learn = Learner(dls, LMModel2(len(vocab), 64),                  # Initializing Learner with Language Model. \n",
        "                loss_func=F.cross_entropy, metrics=accuracy)    # Initializing Cross Entropy Loss Function. \n",
        "learn.fit_one_cycle(4, 1e-3)                                    # Training the Model. "
      ],
      "execution_count": 22,
      "outputs": [
        {
          "output_type": "display_data",
          "data": {
            "text/html": [
              "<table border=\"1\" class=\"dataframe\">\n",
              "  <thead>\n",
              "    <tr style=\"text-align: left;\">\n",
              "      <th>epoch</th>\n",
              "      <th>train_loss</th>\n",
              "      <th>valid_loss</th>\n",
              "      <th>accuracy</th>\n",
              "      <th>time</th>\n",
              "    </tr>\n",
              "  </thead>\n",
              "  <tbody>\n",
              "    <tr>\n",
              "      <td>0</td>\n",
              "      <td>1.816274</td>\n",
              "      <td>1.964143</td>\n",
              "      <td>0.460185</td>\n",
              "      <td>00:01</td>\n",
              "    </tr>\n",
              "    <tr>\n",
              "      <td>1</td>\n",
              "      <td>1.423805</td>\n",
              "      <td>1.739964</td>\n",
              "      <td>0.473259</td>\n",
              "      <td>00:01</td>\n",
              "    </tr>\n",
              "    <tr>\n",
              "      <td>2</td>\n",
              "      <td>1.430327</td>\n",
              "      <td>1.685172</td>\n",
              "      <td>0.485382</td>\n",
              "      <td>00:01</td>\n",
              "    </tr>\n",
              "    <tr>\n",
              "      <td>3</td>\n",
              "      <td>1.388390</td>\n",
              "      <td>1.657033</td>\n",
              "      <td>0.470406</td>\n",
              "      <td>00:01</td>\n",
              "    </tr>\n",
              "  </tbody>\n",
              "</table>"
            ],
            "text/plain": [
              "<IPython.core.display.HTML object>"
            ]
          },
          "metadata": {
            "tags": []
          }
        }
      ]
    },
    {
      "cell_type": "markdown",
      "metadata": {
        "id": "YjtXg9_YQPLa"
      },
      "source": [
        "**IMPROVING RECURRENT NEURAL NETWORK:**\n",
        "- I will define a stateful **Recurrent Neural Network** as it remembers its activations between different calls to forward which represents its use for different samples in the batch. "
      ]
    },
    {
      "cell_type": "code",
      "metadata": {
        "id": "uFT3ZigrJhsv"
      },
      "source": [
        "#@ LANGUAGE MODEL IN PYTORCH: RECURRENT NEURAL NETWORK:\n",
        "class LMModel3(Module):                                         # Defining Language Model Class.\n",
        "    def __init__(self, vocab_sz, num_hidden):                   # Initializing Constructor Function. \n",
        "        self.i_h = nn.Embedding(vocab_sz, num_hidden)           # Initializing Embedding Layer. \n",
        "        self.h_h = nn.Linear(num_hidden, num_hidden)            # Initializing Linear Layer. \n",
        "        self.h_o = nn.Linear(num_hidden, vocab_sz)              # Initializing Linear Layer. \n",
        "        self.h = 0                                              # Initializing Hidden State. \n",
        "    \n",
        "    def forward(self, x):                                       # Forward Propagation Function. \n",
        "        for i in range(3):\n",
        "            self.h = self.h + self.i_h(x[:, i])                 # Initializing Word Embeddings. \n",
        "            self.h = F.relu(self.h_h(self.h))                   # Implementation of RELU. \n",
        "        out = self.h_o(self.h)                                  # Implementation of Linear Layer. \n",
        "        self.h = self.h.detach()                                # Removing all the Gradients History. \n",
        "        return out \n",
        "    \n",
        "    def reset(self): self.h = 0                                 # Defining Reset Function. "
      ],
      "execution_count": 23,
      "outputs": []
    },
    {
      "cell_type": "markdown",
      "metadata": {
        "id": "RNOTRjO5UnP3"
      },
      "source": [
        "**BACKPROPAGATION THROUGH TIME:**\n",
        "- **Backpropagation through Time** is a process of treating a neural network with effectively one layer per time step as one big model and calculating gradients on it in the usual way. The **BPTT** technique is used to avoid running out of memory and time which detaches the history of computation steps in the hidden state every few time steps. "
      ]
    },
    {
      "cell_type": "code",
      "metadata": {
        "id": "3MGLS9j0aKUb",
        "colab": {
          "base_uri": "https://localhost:8080/"
        },
        "outputId": "1daa3500-ad70-4409-f6d3-e208c9669eeb"
      },
      "source": [
        "#@ ARRANGING THE DATASET: \n",
        "m = len(seqs)//bs                                           # Getting Pieces of Sequences. \n",
        "m, bs, len(seqs)                                            # Inspection. "
      ],
      "execution_count": 24,
      "outputs": [
        {
          "output_type": "execute_result",
          "data": {
            "text/plain": [
              "(328, 64, 21031)"
            ]
          },
          "metadata": {
            "tags": []
          },
          "execution_count": 24
        }
      ]
    },
    {
      "cell_type": "code",
      "metadata": {
        "id": "cHnjhSdg5Dvm"
      },
      "source": [
        "#@ FUNCTION FOR REINDEXING: \n",
        "def group_chunks(ds, bs):                                   # Defining Function. \n",
        "    m = len(ds) // bs                                       # Getting Pieces of Sequences. \n",
        "    new_ds = L()                                            # Initialization. \n",
        "    for i in range(m):\n",
        "        new_ds += L(ds[i + m*j] for j in range(bs))     \n",
        "    return new_ds"
      ],
      "execution_count": 25,
      "outputs": []
    },
    {
      "cell_type": "code",
      "metadata": {
        "id": "oRrV9kwi7PIU"
      },
      "source": [
        "#@ CREATING DATA LOADERS: \n",
        "cut = int(len(seqs)*0.8)                                    # Initializing Ratio. \n",
        "dls = DataLoaders.from_dsets(group_chunks(seqs[:cut],bs),   # Initializing Data Loaders. \n",
        "                             group_chunks(seqs[cut:],bs),     \n",
        "                             bs=bs, drop_last=True,         # Dropping the Last Batch. \n",
        "                             shuffle=False)                 # Initializing Order. "
      ],
      "execution_count": 26,
      "outputs": []
    },
    {
      "cell_type": "code",
      "metadata": {
        "colab": {
          "base_uri": "https://localhost:8080/",
          "height": 359
        },
        "id": "TKWAF3rZ8zkq",
        "outputId": "f309f860-2450-4234-964c-cf045e5138b5"
      },
      "source": [
        "#@ TRAINING THE LANGUAGE MODEL: \n",
        "learn = Learner(dls, LMModel3(len(vocab), 64),              # Initializing Learner with Language Model. \n",
        "                loss_func=F.cross_entropy,                  # Initilizing Cross Entropy Loss Function. \n",
        "                metrics=accuracy, cbs=ModelResetter)        # Initializing Metrics and Callbacks. \n",
        "learn.fit_one_cycle(10, 3e-3)                               # Training the Learner. "
      ],
      "execution_count": 27,
      "outputs": [
        {
          "output_type": "display_data",
          "data": {
            "text/html": [
              "<table border=\"1\" class=\"dataframe\">\n",
              "  <thead>\n",
              "    <tr style=\"text-align: left;\">\n",
              "      <th>epoch</th>\n",
              "      <th>train_loss</th>\n",
              "      <th>valid_loss</th>\n",
              "      <th>accuracy</th>\n",
              "      <th>time</th>\n",
              "    </tr>\n",
              "  </thead>\n",
              "  <tbody>\n",
              "    <tr>\n",
              "      <td>0</td>\n",
              "      <td>1.677074</td>\n",
              "      <td>1.827367</td>\n",
              "      <td>0.467548</td>\n",
              "      <td>00:01</td>\n",
              "    </tr>\n",
              "    <tr>\n",
              "      <td>1</td>\n",
              "      <td>1.282721</td>\n",
              "      <td>1.870913</td>\n",
              "      <td>0.388942</td>\n",
              "      <td>00:01</td>\n",
              "    </tr>\n",
              "    <tr>\n",
              "      <td>2</td>\n",
              "      <td>1.090705</td>\n",
              "      <td>1.651793</td>\n",
              "      <td>0.462500</td>\n",
              "      <td>00:01</td>\n",
              "    </tr>\n",
              "    <tr>\n",
              "      <td>3</td>\n",
              "      <td>1.005216</td>\n",
              "      <td>1.615990</td>\n",
              "      <td>0.515144</td>\n",
              "      <td>00:01</td>\n",
              "    </tr>\n",
              "    <tr>\n",
              "      <td>4</td>\n",
              "      <td>0.963020</td>\n",
              "      <td>1.605894</td>\n",
              "      <td>0.551202</td>\n",
              "      <td>00:01</td>\n",
              "    </tr>\n",
              "    <tr>\n",
              "      <td>5</td>\n",
              "      <td>0.925863</td>\n",
              "      <td>1.717049</td>\n",
              "      <td>0.543750</td>\n",
              "      <td>00:01</td>\n",
              "    </tr>\n",
              "    <tr>\n",
              "      <td>6</td>\n",
              "      <td>0.902744</td>\n",
              "      <td>1.704875</td>\n",
              "      <td>0.550721</td>\n",
              "      <td>00:01</td>\n",
              "    </tr>\n",
              "    <tr>\n",
              "      <td>7</td>\n",
              "      <td>0.844484</td>\n",
              "      <td>1.831642</td>\n",
              "      <td>0.566106</td>\n",
              "      <td>00:01</td>\n",
              "    </tr>\n",
              "    <tr>\n",
              "      <td>8</td>\n",
              "      <td>0.806782</td>\n",
              "      <td>1.837001</td>\n",
              "      <td>0.582452</td>\n",
              "      <td>00:01</td>\n",
              "    </tr>\n",
              "    <tr>\n",
              "      <td>9</td>\n",
              "      <td>0.795707</td>\n",
              "      <td>1.842007</td>\n",
              "      <td>0.573798</td>\n",
              "      <td>00:01</td>\n",
              "    </tr>\n",
              "  </tbody>\n",
              "</table>"
            ],
            "text/plain": [
              "<IPython.core.display.HTML object>"
            ]
          },
          "metadata": {
            "tags": []
          }
        }
      ]
    },
    {
      "cell_type": "code",
      "metadata": {
        "colab": {
          "base_uri": "https://localhost:8080/"
        },
        "id": "HT6_tOrU9q1S",
        "outputId": "91bb9fe1-6ca7-4564-8502-4003bf286dce"
      },
      "source": [
        "#@ CREATING MORE SIGNAL:\n",
        "sl = 16                                                     # Initializing Sequence Length. \n",
        "seqs = L((tensor(nums[i:i+sl]), tensor(nums[i+1:i+sl+1])) \n",
        "          for i in range(0, len(nums)-sl-1, sl))            # Initializing Sequence of Tensors. \n",
        "cut = int(len(seqs)*0.8)                                    # Initializing Ratio. \n",
        "dls = DataLoaders.from_dsets(group_chunks(seqs[:cut],bs),   # Initializing Data Loaders. \n",
        "                             group_chunks(seqs[cut:],bs),     \n",
        "                             bs=bs, drop_last=True,         # Dropping the Last Batch. \n",
        "                             shuffle=False)                 # Initializing Order. \n",
        "\n",
        "#@ INSPECTING SEQUENCE OF DATASET: \n",
        "[L(vocab[o] for o in s) for s in seqs[0]]                   # Inspecting Sequences. "
      ],
      "execution_count": 28,
      "outputs": [
        {
          "output_type": "execute_result",
          "data": {
            "text/plain": [
              "[(#16) ['one','.','two','.','three','.','four','.','five','.'...],\n",
              " (#16) ['.','two','.','three','.','four','.','five','.','six'...]]"
            ]
          },
          "metadata": {
            "tags": []
          },
          "execution_count": 28
        }
      ]
    },
    {
      "cell_type": "code",
      "metadata": {
        "id": "iWF-SlGsh1Nl"
      },
      "source": [
        "#@ LANGUAGE MODEL IN PYTORCH: RECURRENT NEURAL NETWORK:\n",
        "class LMModel4(Module):                                     # Defining Language Model Class.\n",
        "    def __init__(self, vocab_sz, n_hidden):                 # Initializing Constructor Function. \n",
        "        self.i_h = nn.Embedding(vocab_sz, n_hidden)         # Initializing Embedding Layer. \n",
        "        self.h_h = nn.Linear(n_hidden, n_hidden)            # Initializing Linear Layer. \n",
        "        self.h_o = nn.Linear(n_hidden, vocab_sz)            # Iniitlaizing Linear Layer. \n",
        "        self.h = 0                                          # Initializing Hidden State. \n",
        "    \n",
        "    def forward(self, x):                                   # Forward Propagation Function. \n",
        "        outs = []                                           # Initialization. \n",
        "        for i in range(sl):\n",
        "            self.h = self.h + self.i_h(x[:, i])             # Initializing Word Embeddings. \n",
        "            self.h = F.relu(self.h_h(self.h))               # Implementation of RELU. \n",
        "            outs.append(self.h_o(self.h))                   # Implementation of Linear Layer. \n",
        "        self.h = self.h.detach()                            # Removing all the Gradients History.\n",
        "        return torch.stack(outs, dim=1)\n",
        "    \n",
        "    def reset(self): self.h = 0                             # Defining Reset Function. \n",
        "\n",
        "#@ DEFINING THE LOSS FUNCTION: \n",
        "def loss_func(inp, targ):                                   # Defining Loss Function. \n",
        "    return F.cross_entropy(inp.view(-1, len(vocab)), \n",
        "                           targ.view(-1))                   # Cross Entropy Loss Function with Flatten."
      ],
      "execution_count": 29,
      "outputs": []
    },
    {
      "cell_type": "code",
      "metadata": {
        "colab": {
          "base_uri": "https://localhost:8080/",
          "height": 514
        },
        "id": "1umG6btq41B5",
        "outputId": "c95d5334-3e0b-4929-b449-6abe2beb5262"
      },
      "source": [
        "#@ TRAINING THE MODEL: \n",
        "learn = Learner(dls, LMModel4(len(vocab), 64),              # Initializing Learner with Language Model. \n",
        "                loss_func=loss_func,                        # Initilizing Cross Entropy Loss Function. \n",
        "                metrics=accuracy, cbs=ModelResetter)        # Initializing Metrics and Callbacks. \n",
        "learn.fit_one_cycle(15, 3e-3)                               # Training the Learner. "
      ],
      "execution_count": 30,
      "outputs": [
        {
          "output_type": "display_data",
          "data": {
            "text/html": [
              "<table border=\"1\" class=\"dataframe\">\n",
              "  <thead>\n",
              "    <tr style=\"text-align: left;\">\n",
              "      <th>epoch</th>\n",
              "      <th>train_loss</th>\n",
              "      <th>valid_loss</th>\n",
              "      <th>accuracy</th>\n",
              "      <th>time</th>\n",
              "    </tr>\n",
              "  </thead>\n",
              "  <tbody>\n",
              "    <tr>\n",
              "      <td>0</td>\n",
              "      <td>3.285931</td>\n",
              "      <td>3.072032</td>\n",
              "      <td>0.212565</td>\n",
              "      <td>00:00</td>\n",
              "    </tr>\n",
              "    <tr>\n",
              "      <td>1</td>\n",
              "      <td>2.330371</td>\n",
              "      <td>1.969522</td>\n",
              "      <td>0.425781</td>\n",
              "      <td>00:00</td>\n",
              "    </tr>\n",
              "    <tr>\n",
              "      <td>2</td>\n",
              "      <td>1.742317</td>\n",
              "      <td>1.841378</td>\n",
              "      <td>0.441488</td>\n",
              "      <td>00:00</td>\n",
              "    </tr>\n",
              "    <tr>\n",
              "      <td>3</td>\n",
              "      <td>1.470120</td>\n",
              "      <td>1.810857</td>\n",
              "      <td>0.494303</td>\n",
              "      <td>00:00</td>\n",
              "    </tr>\n",
              "    <tr>\n",
              "      <td>4</td>\n",
              "      <td>1.297998</td>\n",
              "      <td>1.867458</td>\n",
              "      <td>0.480062</td>\n",
              "      <td>00:00</td>\n",
              "    </tr>\n",
              "    <tr>\n",
              "      <td>5</td>\n",
              "      <td>1.175159</td>\n",
              "      <td>1.766366</td>\n",
              "      <td>0.533366</td>\n",
              "      <td>00:00</td>\n",
              "    </tr>\n",
              "    <tr>\n",
              "      <td>6</td>\n",
              "      <td>1.067657</td>\n",
              "      <td>1.775915</td>\n",
              "      <td>0.529541</td>\n",
              "      <td>00:00</td>\n",
              "    </tr>\n",
              "    <tr>\n",
              "      <td>7</td>\n",
              "      <td>0.974524</td>\n",
              "      <td>1.720501</td>\n",
              "      <td>0.545980</td>\n",
              "      <td>00:00</td>\n",
              "    </tr>\n",
              "    <tr>\n",
              "      <td>8</td>\n",
              "      <td>0.895532</td>\n",
              "      <td>1.703532</td>\n",
              "      <td>0.563802</td>\n",
              "      <td>00:00</td>\n",
              "    </tr>\n",
              "    <tr>\n",
              "      <td>9</td>\n",
              "      <td>0.828987</td>\n",
              "      <td>1.617173</td>\n",
              "      <td>0.586019</td>\n",
              "      <td>00:00</td>\n",
              "    </tr>\n",
              "    <tr>\n",
              "      <td>10</td>\n",
              "      <td>0.778963</td>\n",
              "      <td>1.712638</td>\n",
              "      <td>0.577148</td>\n",
              "      <td>00:00</td>\n",
              "    </tr>\n",
              "    <tr>\n",
              "      <td>11</td>\n",
              "      <td>0.737100</td>\n",
              "      <td>1.677089</td>\n",
              "      <td>0.612223</td>\n",
              "      <td>00:00</td>\n",
              "    </tr>\n",
              "    <tr>\n",
              "      <td>12</td>\n",
              "      <td>0.710022</td>\n",
              "      <td>1.788983</td>\n",
              "      <td>0.587646</td>\n",
              "      <td>00:00</td>\n",
              "    </tr>\n",
              "    <tr>\n",
              "      <td>13</td>\n",
              "      <td>0.693697</td>\n",
              "      <td>1.782458</td>\n",
              "      <td>0.594564</td>\n",
              "      <td>00:00</td>\n",
              "    </tr>\n",
              "    <tr>\n",
              "      <td>14</td>\n",
              "      <td>0.676122</td>\n",
              "      <td>1.772856</td>\n",
              "      <td>0.597087</td>\n",
              "      <td>00:00</td>\n",
              "    </tr>\n",
              "  </tbody>\n",
              "</table>"
            ],
            "text/plain": [
              "<IPython.core.display.HTML object>"
            ]
          },
          "metadata": {
            "tags": []
          }
        }
      ]
    },
    {
      "cell_type": "markdown",
      "metadata": {
        "id": "b7MKbAKK7nsL"
      },
      "source": [
        "**MULTI LAYER RECURRENT NEURAL NETWORK:**"
      ]
    },
    {
      "cell_type": "code",
      "metadata": {
        "colab": {
          "base_uri": "https://localhost:8080/",
          "height": 514
        },
        "id": "R7lvrylq5QuN",
        "outputId": "31e365a8-93ce-46db-ae7b-58682385cf6a"
      },
      "source": [
        "#@ LANGUAGE MODEL: MULTI LAYER RECURRENT NEURAL NETWORK:\n",
        "class LMModel5(Module):                                                 # Defining Language Model Class.\n",
        "    def __init__(self, vocab_sz, n_hidden, n_layers):                   # Initializing Constructor Function. \n",
        "        self.i_h = nn.Embedding(vocab_sz, n_hidden)                     # Initializing Embedding Layer. \n",
        "        self.rnn = nn.RNN(n_hidden,n_hidden,n_layers,batch_first=True)  # Initializing RNN.\n",
        "        self.h_o = nn.Linear(n_hidden, vocab_sz)                        # Initializing Linear Layer. \n",
        "        self.h = torch.zeros(n_layers, bs, n_hidden)                    # Initializing Hidden State. \n",
        "\n",
        "    def forward(self, x):                                               # Forward Propagation Function. \n",
        "        res, h = self.rnn(self.i_h(x), self.h)                          # Implementation of RNN. \n",
        "        self.h = h.detach()                                             # Removing all the Gradients History.\n",
        "        return self.h_o(res)\n",
        "    \n",
        "    def reset(self): self.h.zero_()                                     # Defining Reset Function. \n",
        "\n",
        "#@ TRAINING THE LANGUAGE MODEL: \n",
        "learn = Learner(dls, LMModel5(len(vocab), 64, 2),                       # Initializing Learner with Multilayer RNN. \n",
        "                loss_func=CrossEntropyLossFlat(),                       # Initializing Cross Entropy Loss Function. \n",
        "                metrics=accuracy, cbs=ModelResetter)                    # Initializing Metrics and Callbacks. \n",
        "learn.fit_one_cycle(15, 3e-3)                                           # Training the Learner.  "
      ],
      "execution_count": 32,
      "outputs": [
        {
          "output_type": "display_data",
          "data": {
            "text/html": [
              "<table border=\"1\" class=\"dataframe\">\n",
              "  <thead>\n",
              "    <tr style=\"text-align: left;\">\n",
              "      <th>epoch</th>\n",
              "      <th>train_loss</th>\n",
              "      <th>valid_loss</th>\n",
              "      <th>accuracy</th>\n",
              "      <th>time</th>\n",
              "    </tr>\n",
              "  </thead>\n",
              "  <tbody>\n",
              "    <tr>\n",
              "      <td>0</td>\n",
              "      <td>3.041790</td>\n",
              "      <td>2.548715</td>\n",
              "      <td>0.455811</td>\n",
              "      <td>00:00</td>\n",
              "    </tr>\n",
              "    <tr>\n",
              "      <td>1</td>\n",
              "      <td>2.128514</td>\n",
              "      <td>1.708763</td>\n",
              "      <td>0.471029</td>\n",
              "      <td>00:00</td>\n",
              "    </tr>\n",
              "    <tr>\n",
              "      <td>2</td>\n",
              "      <td>1.699163</td>\n",
              "      <td>1.866050</td>\n",
              "      <td>0.340576</td>\n",
              "      <td>00:00</td>\n",
              "    </tr>\n",
              "    <tr>\n",
              "      <td>3</td>\n",
              "      <td>1.499681</td>\n",
              "      <td>1.738478</td>\n",
              "      <td>0.471517</td>\n",
              "      <td>00:00</td>\n",
              "    </tr>\n",
              "    <tr>\n",
              "      <td>4</td>\n",
              "      <td>1.339090</td>\n",
              "      <td>1.729539</td>\n",
              "      <td>0.494792</td>\n",
              "      <td>00:00</td>\n",
              "    </tr>\n",
              "    <tr>\n",
              "      <td>5</td>\n",
              "      <td>1.206317</td>\n",
              "      <td>1.835857</td>\n",
              "      <td>0.502848</td>\n",
              "      <td>00:00</td>\n",
              "    </tr>\n",
              "    <tr>\n",
              "      <td>6</td>\n",
              "      <td>1.088241</td>\n",
              "      <td>1.845553</td>\n",
              "      <td>0.520101</td>\n",
              "      <td>00:00</td>\n",
              "    </tr>\n",
              "    <tr>\n",
              "      <td>7</td>\n",
              "      <td>0.982788</td>\n",
              "      <td>1.856251</td>\n",
              "      <td>0.522624</td>\n",
              "      <td>00:00</td>\n",
              "    </tr>\n",
              "    <tr>\n",
              "      <td>8</td>\n",
              "      <td>0.890792</td>\n",
              "      <td>1.940332</td>\n",
              "      <td>0.525716</td>\n",
              "      <td>00:00</td>\n",
              "    </tr>\n",
              "    <tr>\n",
              "      <td>9</td>\n",
              "      <td>0.809586</td>\n",
              "      <td>2.028804</td>\n",
              "      <td>0.529785</td>\n",
              "      <td>00:00</td>\n",
              "    </tr>\n",
              "    <tr>\n",
              "      <td>10</td>\n",
              "      <td>0.743084</td>\n",
              "      <td>2.074600</td>\n",
              "      <td>0.535075</td>\n",
              "      <td>00:00</td>\n",
              "    </tr>\n",
              "    <tr>\n",
              "      <td>11</td>\n",
              "      <td>0.694127</td>\n",
              "      <td>2.153410</td>\n",
              "      <td>0.540039</td>\n",
              "      <td>00:00</td>\n",
              "    </tr>\n",
              "    <tr>\n",
              "      <td>12</td>\n",
              "      <td>0.660761</td>\n",
              "      <td>2.137607</td>\n",
              "      <td>0.547689</td>\n",
              "      <td>00:00</td>\n",
              "    </tr>\n",
              "    <tr>\n",
              "      <td>13</td>\n",
              "      <td>0.640679</td>\n",
              "      <td>2.169348</td>\n",
              "      <td>0.547363</td>\n",
              "      <td>00:00</td>\n",
              "    </tr>\n",
              "    <tr>\n",
              "      <td>14</td>\n",
              "      <td>0.630332</td>\n",
              "      <td>2.168198</td>\n",
              "      <td>0.548828</td>\n",
              "      <td>00:00</td>\n",
              "    </tr>\n",
              "  </tbody>\n",
              "</table>"
            ],
            "text/plain": [
              "<IPython.core.display.HTML object>"
            ]
          },
          "metadata": {
            "tags": []
          }
        }
      ]
    },
    {
      "cell_type": "markdown",
      "metadata": {
        "id": "P5mUU1hSDSzz"
      },
      "source": [
        "**Note:**\n",
        "- The single layer **Recurrent Neural Network** performed better than **Multilayer Recurrent Neural Network** because a deeper model leads to exploding and vanishing activations. "
      ]
    },
    {
      "cell_type": "code",
      "metadata": {
        "id": "cfeMZUIYATfR"
      },
      "source": [
        ""
      ],
      "execution_count": null,
      "outputs": []
    }
  ]
}