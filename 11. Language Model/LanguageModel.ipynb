{
  "nbformat": 4,
  "nbformat_minor": 0,
  "metadata": {
    "colab": {
      "name": "LanguageModel.ipynb",
      "provenance": [],
      "collapsed_sections": []
    },
    "kernelspec": {
      "name": "python3",
      "display_name": "Python 3"
    },
    "language_info": {
      "name": "python"
    },
    "accelerator": "GPU"
  },
  "cells": [
    {
      "cell_type": "markdown",
      "metadata": {
        "id": "GAJldAyzepOb"
      },
      "source": [
        "### **INITIALIZATION:**\n",
        "- I use these three lines of code on top of my each notebooks because it will help to prevent any problems while reloading the same project. And the third line of code helps to make visualization within the notebook."
      ]
    },
    {
      "cell_type": "code",
      "metadata": {
        "id": "VO53Px9xdrmE"
      },
      "source": [
        "#@ INITIALIZATION: \n",
        "%reload_ext autoreload\n",
        "%autoreload 2\n",
        "%matplotlib inline"
      ],
      "execution_count": 1,
      "outputs": []
    },
    {
      "cell_type": "markdown",
      "metadata": {
        "id": "Zk8Co18Leyiy"
      },
      "source": [
        "**LIBRARIES AND DEPENDENCIES:**\n",
        "- I have downloaded all the libraries and dependencies required for the project in one particular cell."
      ]
    },
    {
      "cell_type": "code",
      "metadata": {
        "id": "V0I-gBJ1ewPX"
      },
      "source": [
        "#@ INSTALLING DEPENDENCIES: UNCOMMENT BELOW: \n",
        "# !pip install -Uqq fastbook\n",
        "# import fastbook\n",
        "# fastbook.setup_book()"
      ],
      "execution_count": 3,
      "outputs": []
    },
    {
      "cell_type": "code",
      "metadata": {
        "id": "9l9ySLgOe5QN"
      },
      "source": [
        "#@ DOWNLOADING LIBRARIES AND DEPENDENCIES: \n",
        "from fastbook import *                              # Getting all the Libraries. \n",
        "from fastai.callback.fp16 import *\n",
        "from fastai.text.all import *                       # Getting all the Libraries."
      ],
      "execution_count": 4,
      "outputs": []
    },
    {
      "cell_type": "markdown",
      "metadata": {
        "id": "ZCAIhIx-fhYh"
      },
      "source": [
        "### **GETTING THE DATA:**\n",
        "- I will use **Human Numbers** dataset here. It contains the first 10000 numbers written out in English. "
      ]
    },
    {
      "cell_type": "code",
      "metadata": {
        "colab": {
          "base_uri": "https://localhost:8080/"
        },
        "id": "EcPI-9djfVt2",
        "outputId": "b91673f7-0559-40af-aab8-f62cc82b39a9"
      },
      "source": [
        "#@ GETTING THE DATASET: \n",
        "path = untar_data(URLs.HUMAN_NUMBERS)               # Path to the Dataset. \n",
        "path.ls()                                           # Inspecting the Dataset. "
      ],
      "execution_count": 6,
      "outputs": [
        {
          "output_type": "execute_result",
          "data": {
            "text/plain": [
              "(#2) [Path('/root/.fastai/data/human_numbers/train.txt'),Path('/root/.fastai/data/human_numbers/valid.txt')]"
            ]
          },
          "metadata": {
            "tags": []
          },
          "execution_count": 6
        }
      ]
    },
    {
      "cell_type": "code",
      "metadata": {
        "colab": {
          "base_uri": "https://localhost:8080/"
        },
        "id": "lxZ4-F9EgOpz",
        "outputId": "67c5b82c-7086-451c-f51e-5d9b1b69e5ee"
      },
      "source": [
        "#@ JOINING AND INSPECTING THE DATASET: \n",
        "lines = L()                                         # Initializing a List. \n",
        "with open(path/\"train.txt\") as f:                   # Opening the File. \n",
        "    lines += L(*f.readlines())                      # Reading the Lines. \n",
        "with open(path/\"valid.txt\") as f:                   # Opening the File. \n",
        "    lines += L(*f.readlines())                      # Reading the Lines. \n",
        "lines                                               # Inspection. "
      ],
      "execution_count": 7,
      "outputs": [
        {
          "output_type": "execute_result",
          "data": {
            "text/plain": [
              "(#9998) ['one \\n','two \\n','three \\n','four \\n','five \\n','six \\n','seven \\n','eight \\n','nine \\n','ten \\n'...]"
            ]
          },
          "metadata": {
            "tags": []
          },
          "execution_count": 7
        }
      ]
    },
    {
      "cell_type": "code",
      "metadata": {
        "colab": {
          "base_uri": "https://localhost:8080/",
          "height": 35
        },
        "id": "xUisxqHRk16e",
        "outputId": "b74b7102-6a29-4d82-e06e-e10147932ae9"
      },
      "source": [
        "#@ PREPARING THE DATASET: \n",
        "text = \" . \".join([l.strip() for l in lines])       # Preparing the Dataset. \n",
        "text[:100]                                          # Inspection. "
      ],
      "execution_count": 8,
      "outputs": [
        {
          "output_type": "execute_result",
          "data": {
            "application/vnd.google.colaboratory.intrinsic+json": {
              "type": "string"
            },
            "text/plain": [
              "'one . two . three . four . five . six . seven . eight . nine . ten . eleven . twelve . thirteen . fo'"
            ]
          },
          "metadata": {
            "tags": []
          },
          "execution_count": 8
        }
      ]
    },
    {
      "cell_type": "markdown",
      "metadata": {
        "id": "glIUHjTDl69L"
      },
      "source": [
        "**Note:**\n",
        "- I will tokenize the dataset by splitting on spaces. Then I will create a list of unique tokens called vocab for **Numericalization**. Then I will convert the tokens into numbers by looking up in the index of each in the vocab. "
      ]
    },
    {
      "cell_type": "code",
      "metadata": {
        "colab": {
          "base_uri": "https://localhost:8080/"
        },
        "id": "CNqUHDHEli9w",
        "outputId": "49ffc3d1-d625-40a6-dbe1-4aeac6ab27c3"
      },
      "source": [
        "#@ TOKENIZING THE DATASET: \n",
        "tokens = text.split(\" \")                            # Splitting into Tokens. \n",
        "tokens[:10]                                         # Inspecting Tokens. "
      ],
      "execution_count": 9,
      "outputs": [
        {
          "output_type": "execute_result",
          "data": {
            "text/plain": [
              "['one', '.', 'two', '.', 'three', '.', 'four', '.', 'five', '.']"
            ]
          },
          "metadata": {
            "tags": []
          },
          "execution_count": 9
        }
      ]
    },
    {
      "cell_type": "code",
      "metadata": {
        "colab": {
          "base_uri": "https://localhost:8080/"
        },
        "id": "KRnH-KHImgIA",
        "outputId": "8a088732-5136-4bd4-edd9-51a49bed9868"
      },
      "source": [
        "#@ GETTING UNIQUE TOKENS: \n",
        "vocab = L(*tokens).unique()                         # Getting Unique Tokens. \n",
        "vocab                                               # Inspection. "
      ],
      "execution_count": 10,
      "outputs": [
        {
          "output_type": "execute_result",
          "data": {
            "text/plain": [
              "(#30) ['one','.','two','three','four','five','six','seven','eight','nine'...]"
            ]
          },
          "metadata": {
            "tags": []
          },
          "execution_count": 10
        }
      ]
    },
    {
      "cell_type": "code",
      "metadata": {
        "colab": {
          "base_uri": "https://localhost:8080/"
        },
        "id": "ZotFzTfhnCTI",
        "outputId": "68f47efa-72be-4e27-910a-2aac0ac31957"
      },
      "source": [
        "#@ CONVERTING TOKENS INTO NUMBERS: \n",
        "word2idx = {w:i for i,w in enumerate(vocab)}       # Getting Index of Tokens. \n",
        "nums = L(word2idx[i] for i in tokens)              # Converting into Numbers. \n",
        "nums                                               # Inspection.  "
      ],
      "execution_count": 11,
      "outputs": [
        {
          "output_type": "execute_result",
          "data": {
            "text/plain": [
              "(#63095) [0,1,2,1,3,1,4,1,5,1...]"
            ]
          },
          "metadata": {
            "tags": []
          },
          "execution_count": 11
        }
      ]
    },
    {
      "cell_type": "markdown",
      "metadata": {
        "id": "_a1MXbJNo0St"
      },
      "source": [
        "### **LANGUAGE MODEL FROM SCRATCH:**\n",
        "- Here I will create a list of every sequence of three words as independent variables and the next word after each sequence as the dependent variable. "
      ]
    },
    {
      "cell_type": "code",
      "metadata": {
        "colab": {
          "base_uri": "https://localhost:8080/"
        },
        "id": "Q7gbp6KZoHpv",
        "outputId": "f4c5c056-21ad-48f9-d533-703c0f7a14ee"
      },
      "source": [
        "#@ CREATING SEQUENCE OF TOKENS: \n",
        "L((tokens[i:i+3], tokens[i+3]) for i in range(0, len(tokens)-4, 3))"
      ],
      "execution_count": 12,
      "outputs": [
        {
          "output_type": "execute_result",
          "data": {
            "text/plain": [
              "(#21031) [(['one', '.', 'two'], '.'),(['.', 'three', '.'], 'four'),(['four', '.', 'five'], '.'),(['.', 'six', '.'], 'seven'),(['seven', '.', 'eight'], '.'),(['.', 'nine', '.'], 'ten'),(['ten', '.', 'eleven'], '.'),(['.', 'twelve', '.'], 'thirteen'),(['thirteen', '.', 'fourteen'], '.'),(['.', 'fifteen', '.'], 'sixteen')...]"
            ]
          },
          "metadata": {
            "tags": []
          },
          "execution_count": 12
        }
      ]
    },
    {
      "cell_type": "code",
      "metadata": {
        "colab": {
          "base_uri": "https://localhost:8080/"
        },
        "id": "BxKUTFqoqalx",
        "outputId": "77da747f-2733-4d77-bda7-2f97cbf38103"
      },
      "source": [
        "#@ CREATING SEQUENCE OF TENSORS FOR NUMERICALIZED VALUES: \n",
        "seqs = L((tensor(nums[i:i+3]), nums[i+3]) for i in range(0, len(nums)-4, 3))   # Creating Sequence.\n",
        "seqs                                                                           # Inspection.  "
      ],
      "execution_count": 13,
      "outputs": [
        {
          "output_type": "execute_result",
          "data": {
            "text/plain": [
              "(#21031) [(tensor([0, 1, 2]), 1),(tensor([1, 3, 1]), 4),(tensor([4, 1, 5]), 1),(tensor([1, 6, 1]), 7),(tensor([7, 1, 8]), 1),(tensor([1, 9, 1]), 10),(tensor([10,  1, 11]), 1),(tensor([ 1, 12,  1]), 13),(tensor([13,  1, 14]), 1),(tensor([ 1, 15,  1]), 16)...]"
            ]
          },
          "metadata": {
            "tags": []
          },
          "execution_count": 13
        }
      ]
    },
    {
      "cell_type": "code",
      "metadata": {
        "id": "Q--On8YkUWSD"
      },
      "source": [
        "#@ CREATING DATALOADERS: \n",
        "bs = 64                                                 # Initializing Batchsize. \n",
        "cut = int(len(seqs) * 0.8)                              # Initialization. \n",
        "dls = DataLoaders.from_dsets(seqs[:cut], seqs[cut:], \n",
        "                             bs=bs, shuffle=False)      # Initializing Data Loaders. "
      ],
      "execution_count": 14,
      "outputs": []
    },
    {
      "cell_type": "markdown",
      "metadata": {
        "id": "TcUWBI0PVpOP"
      },
      "source": [
        "**LANGUAGE MODEL:**\n",
        "- I will create neural network architecture that takes three words as input and returns the predictions of the probability of each possible next word in the vocab. I will use three standard linear layers. The first linear layer will use only the first words embedding as activations. The second layer will use the second words embedding plus the first layers output activations and the third layer will use the third words embedding plus the second layers output activations. The key effect is that every word is interpreted in the information context of any words preceding it. Each of these three layers will use the same weight matrix. "
      ]
    },
    {
      "cell_type": "code",
      "metadata": {
        "id": "q-Djq4aoVoj7"
      },
      "source": [
        "#@ LANGUAGE MODEL IN PYTORCH: SIMPLE LINEAR MODEL: \n",
        "class LMModel1(Module):                                         # Defining Language Model Class. \n",
        "    def __init__(self, vocab_sz, n_hidden):                     # Initializing Constructor Function. \n",
        "        self.i_h = nn.Embedding(vocab_sz, n_hidden)             # Initializing Embedding Layer. \n",
        "        self.h_h = nn.Linear(n_hidden, n_hidden)                # Initializing Linear Layer. \n",
        "        self.h_o = nn.Linear(n_hidden, vocab_sz)                # Initializing Linear Layer. \n",
        "    \n",
        "    def forward(self, x):                                       # Forward Propagation Function. \n",
        "        h = F.relu(self.h_h(self.i_h(x[:, 0])))                 # Implementation of RELU. \n",
        "        h = h + self.i_h(x[:, 1])                               # Second Word Embeddings and Activations. \n",
        "        h = F.relu(self.h_h(h))                                 # Implementation of RELU. \n",
        "        h = h + self.i_h(x[:, 2])                               # Third Word Embeddings and Activations. \n",
        "        h = F.relu(self.h_h(h))                                 # Implementation of RELU. \n",
        "        return self.h_o(h)                                      # Implementation of Linear Layer. "
      ],
      "execution_count": 15,
      "outputs": []
    },
    {
      "cell_type": "code",
      "metadata": {
        "colab": {
          "base_uri": "https://localhost:8080/",
          "height": 173
        },
        "id": "cUzzGOm7bAzV",
        "outputId": "06a565e3-d255-4efe-e6bb-a93e538826b6"
      },
      "source": [
        "#@ TRAINING THE LANGUAGE MODEL: \n",
        "learn = Learner(dls, LMModel1(len(vocab), 64),                  # Initializing Learner with Language Model. \n",
        "                loss_func=F.cross_entropy, metrics=accuracy)    # Initializing Cross Entropy Loss Function. \n",
        "learn.fit_one_cycle(4, 1e-3)                                    # Training the Model. "
      ],
      "execution_count": 16,
      "outputs": [
        {
          "output_type": "display_data",
          "data": {
            "text/html": [
              "<table border=\"1\" class=\"dataframe\">\n",
              "  <thead>\n",
              "    <tr style=\"text-align: left;\">\n",
              "      <th>epoch</th>\n",
              "      <th>train_loss</th>\n",
              "      <th>valid_loss</th>\n",
              "      <th>accuracy</th>\n",
              "      <th>time</th>\n",
              "    </tr>\n",
              "  </thead>\n",
              "  <tbody>\n",
              "    <tr>\n",
              "      <td>0</td>\n",
              "      <td>1.824297</td>\n",
              "      <td>1.970941</td>\n",
              "      <td>0.467554</td>\n",
              "      <td>00:01</td>\n",
              "    </tr>\n",
              "    <tr>\n",
              "      <td>1</td>\n",
              "      <td>1.386973</td>\n",
              "      <td>1.823242</td>\n",
              "      <td>0.467554</td>\n",
              "      <td>00:01</td>\n",
              "    </tr>\n",
              "    <tr>\n",
              "      <td>2</td>\n",
              "      <td>1.417556</td>\n",
              "      <td>1.654498</td>\n",
              "      <td>0.494414</td>\n",
              "      <td>00:01</td>\n",
              "    </tr>\n",
              "    <tr>\n",
              "      <td>3</td>\n",
              "      <td>1.376440</td>\n",
              "      <td>1.650849</td>\n",
              "      <td>0.494414</td>\n",
              "      <td>00:01</td>\n",
              "    </tr>\n",
              "  </tbody>\n",
              "</table>"
            ],
            "text/plain": [
              "<IPython.core.display.HTML object>"
            ]
          },
          "metadata": {
            "tags": []
          }
        }
      ]
    },
    {
      "cell_type": "code",
      "metadata": {
        "colab": {
          "base_uri": "https://localhost:8080/"
        },
        "id": "d8UY3bfOb-jA",
        "outputId": "aa728fa3-0721-46f8-f07e-46c47418471b"
      },
      "source": [
        "#@ MODEL EVALUATION: \n",
        "n, counts = 0, torch.zeros(len(vocab))                          # Initialization. \n",
        "for x, y in dls.valid: \n",
        "    n += y.shape[0]\n",
        "    for i in range_of(vocab):\n",
        "        counts[i] += (y==i).long().sum()\n",
        "idx = torch.argmax(counts)                                      # Common Tensor Index. \n",
        "idx, vocab[idx.item()], counts[idx].item()/n                    # Inspection. "
      ],
      "execution_count": 17,
      "outputs": [
        {
          "output_type": "execute_result",
          "data": {
            "text/plain": [
              "(tensor(29), 'thousand', 0.15165200855716662)"
            ]
          },
          "metadata": {
            "tags": []
          },
          "execution_count": 17
        }
      ]
    },
    {
      "cell_type": "markdown",
      "metadata": {
        "id": "PSCCpplwGHFH"
      },
      "source": [
        "### **RECURRENT NEURAL NETWORK:**\n",
        "- I will simplify the neural networks model or module defined above by replacing the duplicated code that calls the layers with a for loop. The module can work equally to token sequences of different lengths. **Recurrent Neural Network** is a network which is a refactoring of a multilayer neural network using for loop.  "
      ]
    },
    {
      "cell_type": "code",
      "metadata": {
        "id": "ezGE9zpcfoQp"
      },
      "source": [
        "#@ LANGUAGE MODEL IN PYTORCH: RECURRENT NEURAL NETWORK:\n",
        "class LMModel2(Module):                                         # Defining Language Model Class.\n",
        "    def __init__(self, vocab_sz, num_hidden):                   # Initializing Constructor Function. \n",
        "        self.i_h = nn.Embedding(vocab_sz, num_hidden)           # Initializing Embedding Layer. \n",
        "        self.h_h = nn.Linear(num_hidden, num_hidden)            # Initializing Linear Layer. \n",
        "        self.h_o = nn.Linear(num_hidden, vocab_sz)              # Initializing Linear Layer. \n",
        "    \n",
        "    def forward(self, x):                                       # Forward Propagation Function.\n",
        "        h = 0                                                   # Initializing Activations. \n",
        "        for i in range(3):\n",
        "            h = h + self.i_h(x[:, i])                           # Initializing Word Embeddings. \n",
        "            h = F.relu(self.h_h(h))                             # Implementation of RELU. \n",
        "        return self.h_o(h)                                      # Implementation of Linear Layer. "
      ],
      "execution_count": 18,
      "outputs": []
    },
    {
      "cell_type": "markdown",
      "metadata": {
        "id": "4-Rr8bVDJ-7z"
      },
      "source": [
        "**Hidden State:**\n",
        "- **Hidden State** is defined as the activations that are updated at each step of a recurrent neural network. "
      ]
    },
    {
      "cell_type": "code",
      "metadata": {
        "colab": {
          "base_uri": "https://localhost:8080/",
          "height": 173
        },
        "id": "Q_kYWM5ZJYu_",
        "outputId": "95bc3acb-e152-462e-9635-447272682dc6"
      },
      "source": [
        "#@ TRAINING THE LANGUAGE MODEL: \n",
        "learn = Learner(dls, LMModel2(len(vocab), 64),                  # Initializing Learner with Language Model. \n",
        "                loss_func=F.cross_entropy, metrics=accuracy)    # Initializing Cross Entropy Loss Function. \n",
        "learn.fit_one_cycle(4, 1e-3)                                    # Training the Model. "
      ],
      "execution_count": 19,
      "outputs": [
        {
          "output_type": "display_data",
          "data": {
            "text/html": [
              "<table border=\"1\" class=\"dataframe\">\n",
              "  <thead>\n",
              "    <tr style=\"text-align: left;\">\n",
              "      <th>epoch</th>\n",
              "      <th>train_loss</th>\n",
              "      <th>valid_loss</th>\n",
              "      <th>accuracy</th>\n",
              "      <th>time</th>\n",
              "    </tr>\n",
              "  </thead>\n",
              "  <tbody>\n",
              "    <tr>\n",
              "      <td>0</td>\n",
              "      <td>1.816274</td>\n",
              "      <td>1.964143</td>\n",
              "      <td>0.460185</td>\n",
              "      <td>00:01</td>\n",
              "    </tr>\n",
              "    <tr>\n",
              "      <td>1</td>\n",
              "      <td>1.423805</td>\n",
              "      <td>1.739964</td>\n",
              "      <td>0.473259</td>\n",
              "      <td>00:01</td>\n",
              "    </tr>\n",
              "    <tr>\n",
              "      <td>2</td>\n",
              "      <td>1.430327</td>\n",
              "      <td>1.685171</td>\n",
              "      <td>0.485382</td>\n",
              "      <td>00:01</td>\n",
              "    </tr>\n",
              "    <tr>\n",
              "      <td>3</td>\n",
              "      <td>1.388390</td>\n",
              "      <td>1.657033</td>\n",
              "      <td>0.470406</td>\n",
              "      <td>00:01</td>\n",
              "    </tr>\n",
              "  </tbody>\n",
              "</table>"
            ],
            "text/plain": [
              "<IPython.core.display.HTML object>"
            ]
          },
          "metadata": {
            "tags": []
          }
        }
      ]
    },
    {
      "cell_type": "markdown",
      "metadata": {
        "id": "YjtXg9_YQPLa"
      },
      "source": [
        "**IMPROVING RECURRENT NEURAL NETWORK:**\n",
        "- I will define a stateful **Recurrent Neural Network** as it remembers its activations between different calls to forward which represents its use for different samples in the batch. "
      ]
    },
    {
      "cell_type": "code",
      "metadata": {
        "id": "uFT3ZigrJhsv"
      },
      "source": [
        "#@ LANGUAGE MODEL IN PYTORCH: RECURRENT NEURAL NETWORK:\n",
        "class LMModel3(Module):                                         # Defining Language Model Class.\n",
        "    def __init__(self, vocab_sz, num_hidden):                   # Initializing Constructor Function. \n",
        "        self.i_h = nn.Embedding(vocab_sz, num_hidden)           # Initializing Embedding Layer. \n",
        "        self.h_h = nn.Linear(num_hidden, num_hidden)            # Initializing Linear Layer. \n",
        "        self.h_o = nn.Linear(num_hidden, vocab_sz)              # Initializing Linear Layer. \n",
        "        self.h = 0                                              # Initializing Hidden State. \n",
        "    \n",
        "    def forward(self, x):                                       # Forward Propagation Function. \n",
        "        for i in range(3):\n",
        "            self.h = self.h + self.i_h(x[:, i])                 # Initializing Word Embeddings. \n",
        "            self.h = F.relu(self.h_h(self.h))                   # Implementation of RELU. \n",
        "        out = self.h_o(self.h)                                  # Implementation of Linear Layer. \n",
        "        self.h = self.h.detach()                                # Removing all the Gradients History. \n",
        "        return out \n",
        "    \n",
        "    def reset(self): self.h = 0                                 # Defining Reset Function. "
      ],
      "execution_count": 20,
      "outputs": []
    },
    {
      "cell_type": "markdown",
      "metadata": {
        "id": "RNOTRjO5UnP3"
      },
      "source": [
        "**BACKPROPAGATION THROUGH TIME:**\n",
        "- **Backpropagation through Time** is a process of treating a neural network with effectively one layer per time step as one big model and calculating gradients on it in the usual way. The **BPTT** technique is used to avoid running out of memory and time which detaches the history of computation steps in the hidden state every few time steps. "
      ]
    },
    {
      "cell_type": "code",
      "metadata": {
        "id": "3MGLS9j0aKUb",
        "colab": {
          "base_uri": "https://localhost:8080/"
        },
        "outputId": "2ca421ae-d268-4a04-97c3-b3a0bd06730f"
      },
      "source": [
        "#@ ARRANGING THE DATASET: \n",
        "m = len(seqs)//bs                                           # Getting Pieces of Sequences. \n",
        "m, bs, len(seqs)                                            # Inspection. "
      ],
      "execution_count": 21,
      "outputs": [
        {
          "output_type": "execute_result",
          "data": {
            "text/plain": [
              "(328, 64, 21031)"
            ]
          },
          "metadata": {
            "tags": []
          },
          "execution_count": 21
        }
      ]
    },
    {
      "cell_type": "code",
      "metadata": {
        "id": "cHnjhSdg5Dvm"
      },
      "source": [
        "#@ FUNCTION FOR REINDEXING: \n",
        "def group_chunks(ds, bs):                                   # Defining Function. \n",
        "    m = len(ds) // bs                                       # Getting Pieces of Sequences. \n",
        "    new_ds = L()                                            # Initialization. \n",
        "    for i in range(m):\n",
        "        new_ds += L(ds[i + m*j] for j in range(bs))     \n",
        "    return new_ds"
      ],
      "execution_count": 22,
      "outputs": []
    },
    {
      "cell_type": "code",
      "metadata": {
        "id": "oRrV9kwi7PIU"
      },
      "source": [
        "#@ CREATING DATA LOADERS: \n",
        "cut = int(len(seqs)*0.8)                                    # Initializing Ratio. \n",
        "dls = DataLoaders.from_dsets(group_chunks(seqs[:cut],bs),   # Initializing Data Loaders. \n",
        "                             group_chunks(seqs[cut:],bs),     \n",
        "                             bs=bs, drop_last=True,         # Dropping the Last Batch. \n",
        "                             shuffle=False)                 # Initializing Order. "
      ],
      "execution_count": 23,
      "outputs": []
    },
    {
      "cell_type": "code",
      "metadata": {
        "colab": {
          "base_uri": "https://localhost:8080/",
          "height": 359
        },
        "id": "TKWAF3rZ8zkq",
        "outputId": "b014c3e1-8305-4894-94d1-e15a3f6c6507"
      },
      "source": [
        "#@ TRAINING THE LANGUAGE MODEL: \n",
        "learn = Learner(dls, LMModel3(len(vocab), 64),              # Initializing Learner with Language Model. \n",
        "                loss_func=F.cross_entropy,                  # Initilizing Cross Entropy Loss Function. \n",
        "                metrics=accuracy, cbs=ModelResetter)        # Initializing Metrics and Callbacks. \n",
        "learn.fit_one_cycle(10, 3e-3)                               # Training the Learner. "
      ],
      "execution_count": 24,
      "outputs": [
        {
          "output_type": "display_data",
          "data": {
            "text/html": [
              "<table border=\"1\" class=\"dataframe\">\n",
              "  <thead>\n",
              "    <tr style=\"text-align: left;\">\n",
              "      <th>epoch</th>\n",
              "      <th>train_loss</th>\n",
              "      <th>valid_loss</th>\n",
              "      <th>accuracy</th>\n",
              "      <th>time</th>\n",
              "    </tr>\n",
              "  </thead>\n",
              "  <tbody>\n",
              "    <tr>\n",
              "      <td>0</td>\n",
              "      <td>1.677074</td>\n",
              "      <td>1.827367</td>\n",
              "      <td>0.467548</td>\n",
              "      <td>00:01</td>\n",
              "    </tr>\n",
              "    <tr>\n",
              "      <td>1</td>\n",
              "      <td>1.282722</td>\n",
              "      <td>1.870913</td>\n",
              "      <td>0.388942</td>\n",
              "      <td>00:01</td>\n",
              "    </tr>\n",
              "    <tr>\n",
              "      <td>2</td>\n",
              "      <td>1.090705</td>\n",
              "      <td>1.651793</td>\n",
              "      <td>0.462500</td>\n",
              "      <td>00:01</td>\n",
              "    </tr>\n",
              "    <tr>\n",
              "      <td>3</td>\n",
              "      <td>1.035474</td>\n",
              "      <td>1.529888</td>\n",
              "      <td>0.546394</td>\n",
              "      <td>00:01</td>\n",
              "    </tr>\n",
              "    <tr>\n",
              "      <td>4</td>\n",
              "      <td>0.969584</td>\n",
              "      <td>1.652238</td>\n",
              "      <td>0.529567</td>\n",
              "      <td>00:01</td>\n",
              "    </tr>\n",
              "    <tr>\n",
              "      <td>5</td>\n",
              "      <td>0.929288</td>\n",
              "      <td>1.645588</td>\n",
              "      <td>0.559615</td>\n",
              "      <td>00:01</td>\n",
              "    </tr>\n",
              "    <tr>\n",
              "      <td>6</td>\n",
              "      <td>0.881800</td>\n",
              "      <td>1.608407</td>\n",
              "      <td>0.583654</td>\n",
              "      <td>00:01</td>\n",
              "    </tr>\n",
              "    <tr>\n",
              "      <td>7</td>\n",
              "      <td>0.857418</td>\n",
              "      <td>1.630502</td>\n",
              "      <td>0.577644</td>\n",
              "      <td>00:01</td>\n",
              "    </tr>\n",
              "    <tr>\n",
              "      <td>8</td>\n",
              "      <td>0.819901</td>\n",
              "      <td>1.661551</td>\n",
              "      <td>0.586298</td>\n",
              "      <td>00:01</td>\n",
              "    </tr>\n",
              "    <tr>\n",
              "      <td>9</td>\n",
              "      <td>0.800690</td>\n",
              "      <td>1.652451</td>\n",
              "      <td>0.597596</td>\n",
              "      <td>00:01</td>\n",
              "    </tr>\n",
              "  </tbody>\n",
              "</table>"
            ],
            "text/plain": [
              "<IPython.core.display.HTML object>"
            ]
          },
          "metadata": {
            "tags": []
          }
        }
      ]
    },
    {
      "cell_type": "code",
      "metadata": {
        "colab": {
          "base_uri": "https://localhost:8080/"
        },
        "id": "HT6_tOrU9q1S",
        "outputId": "6168eace-91cd-4ebe-b75c-da35d0e6ab7e"
      },
      "source": [
        "#@ CREATING MORE SIGNAL:\n",
        "sl = 16                                                     # Initializing Sequence Length. \n",
        "seqs = L((tensor(nums[i:i+sl]), tensor(nums[i+1:i+sl+1])) \n",
        "          for i in range(0, len(nums)-sl-1, sl))            # Initializing Sequence of Tensors. \n",
        "cut = int(len(seqs)*0.8)                                    # Initializing Ratio. \n",
        "dls = DataLoaders.from_dsets(group_chunks(seqs[:cut],bs),   # Initializing Data Loaders. \n",
        "                             group_chunks(seqs[cut:],bs),     \n",
        "                             bs=bs, drop_last=True,         # Dropping the Last Batch. \n",
        "                             shuffle=False)                 # Initializing Order. \n",
        "\n",
        "#@ INSPECTING SEQUENCE OF DATASET: \n",
        "[L(vocab[o] for o in s) for s in seqs[0]]                   # Inspecting Sequences. "
      ],
      "execution_count": 25,
      "outputs": [
        {
          "output_type": "execute_result",
          "data": {
            "text/plain": [
              "[(#16) ['one','.','two','.','three','.','four','.','five','.'...],\n",
              " (#16) ['.','two','.','three','.','four','.','five','.','six'...]]"
            ]
          },
          "metadata": {
            "tags": []
          },
          "execution_count": 25
        }
      ]
    },
    {
      "cell_type": "code",
      "metadata": {
        "id": "iWF-SlGsh1Nl"
      },
      "source": [
        "#@ LANGUAGE MODEL IN PYTORCH: RECURRENT NEURAL NETWORK:\n",
        "class LMModel4(Module):                                     # Defining Language Model Class.\n",
        "    def __init__(self, vocab_sz, n_hidden):                 # Initializing Constructor Function. \n",
        "        self.i_h = nn.Embedding(vocab_sz, n_hidden)         # Initializing Embedding Layer. \n",
        "        self.h_h = nn.Linear(n_hidden, n_hidden)            # Initializing Linear Layer. \n",
        "        self.h_o = nn.Linear(n_hidden, vocab_sz)            # Iniitlaizing Linear Layer. \n",
        "        self.h = 0                                          # Initializing Hidden State. \n",
        "    \n",
        "    def forward(self, x):                                   # Forward Propagation Function. \n",
        "        outs = []                                           # Initialization. \n",
        "        for i in range(sl):\n",
        "            self.h = self.h + self.i_h(x[:, i])             # Initializing Word Embeddings. \n",
        "            self.h = F.relu(self.h_h(self.h))               # Implementation of RELU. \n",
        "            outs.append(self.h_o(self.h))                   # Implementation of Linear Layer. \n",
        "        self.h = self.h.detach()                            # Removing all the Gradients History.\n",
        "        return torch.stack(outs, dim=1)\n",
        "    \n",
        "    def reset(self): self.h = 0                             # Defining Reset Function. \n",
        "\n",
        "#@ DEFINING THE LOSS FUNCTION: \n",
        "def loss_func(inp, targ):                                   # Defining Loss Function. \n",
        "    return F.cross_entropy(inp.view(-1, len(vocab)), \n",
        "                           targ.view(-1))                   # Cross Entropy Loss Function with Flatten."
      ],
      "execution_count": 26,
      "outputs": []
    },
    {
      "cell_type": "code",
      "metadata": {
        "colab": {
          "base_uri": "https://localhost:8080/",
          "height": 514
        },
        "id": "1umG6btq41B5",
        "outputId": "3b06d13d-42f1-49ce-a770-8c29a76e61e8"
      },
      "source": [
        "#@ TRAINING THE MODEL: \n",
        "learn = Learner(dls, LMModel4(len(vocab), 64),              # Initializing Learner with Language Model. \n",
        "                loss_func=loss_func,                        # Initilizing Cross Entropy Loss Function. \n",
        "                metrics=accuracy, cbs=ModelResetter)        # Initializing Metrics and Callbacks. \n",
        "learn.fit_one_cycle(15, 3e-3)                               # Training the Learner. "
      ],
      "execution_count": 27,
      "outputs": [
        {
          "output_type": "display_data",
          "data": {
            "text/html": [
              "<table border=\"1\" class=\"dataframe\">\n",
              "  <thead>\n",
              "    <tr style=\"text-align: left;\">\n",
              "      <th>epoch</th>\n",
              "      <th>train_loss</th>\n",
              "      <th>valid_loss</th>\n",
              "      <th>accuracy</th>\n",
              "      <th>time</th>\n",
              "    </tr>\n",
              "  </thead>\n",
              "  <tbody>\n",
              "    <tr>\n",
              "      <td>0</td>\n",
              "      <td>3.285931</td>\n",
              "      <td>3.072032</td>\n",
              "      <td>0.212565</td>\n",
              "      <td>00:00</td>\n",
              "    </tr>\n",
              "    <tr>\n",
              "      <td>1</td>\n",
              "      <td>2.330371</td>\n",
              "      <td>1.969522</td>\n",
              "      <td>0.425781</td>\n",
              "      <td>00:00</td>\n",
              "    </tr>\n",
              "    <tr>\n",
              "      <td>2</td>\n",
              "      <td>1.742317</td>\n",
              "      <td>1.841378</td>\n",
              "      <td>0.441488</td>\n",
              "      <td>00:00</td>\n",
              "    </tr>\n",
              "    <tr>\n",
              "      <td>3</td>\n",
              "      <td>1.470120</td>\n",
              "      <td>1.810856</td>\n",
              "      <td>0.494303</td>\n",
              "      <td>00:00</td>\n",
              "    </tr>\n",
              "    <tr>\n",
              "      <td>4</td>\n",
              "      <td>1.298811</td>\n",
              "      <td>1.823128</td>\n",
              "      <td>0.492839</td>\n",
              "      <td>00:00</td>\n",
              "    </tr>\n",
              "    <tr>\n",
              "      <td>5</td>\n",
              "      <td>1.176841</td>\n",
              "      <td>1.755437</td>\n",
              "      <td>0.509033</td>\n",
              "      <td>00:00</td>\n",
              "    </tr>\n",
              "    <tr>\n",
              "      <td>6</td>\n",
              "      <td>1.070127</td>\n",
              "      <td>1.686965</td>\n",
              "      <td>0.521240</td>\n",
              "      <td>00:00</td>\n",
              "    </tr>\n",
              "    <tr>\n",
              "      <td>7</td>\n",
              "      <td>0.972219</td>\n",
              "      <td>1.804640</td>\n",
              "      <td>0.531657</td>\n",
              "      <td>00:00</td>\n",
              "    </tr>\n",
              "    <tr>\n",
              "      <td>8</td>\n",
              "      <td>0.890471</td>\n",
              "      <td>1.739735</td>\n",
              "      <td>0.574137</td>\n",
              "      <td>00:00</td>\n",
              "    </tr>\n",
              "    <tr>\n",
              "      <td>9</td>\n",
              "      <td>0.824574</td>\n",
              "      <td>1.651549</td>\n",
              "      <td>0.585449</td>\n",
              "      <td>00:00</td>\n",
              "    </tr>\n",
              "    <tr>\n",
              "      <td>10</td>\n",
              "      <td>0.777876</td>\n",
              "      <td>1.740684</td>\n",
              "      <td>0.583659</td>\n",
              "      <td>00:00</td>\n",
              "    </tr>\n",
              "    <tr>\n",
              "      <td>11</td>\n",
              "      <td>0.739033</td>\n",
              "      <td>1.739437</td>\n",
              "      <td>0.591471</td>\n",
              "      <td>00:00</td>\n",
              "    </tr>\n",
              "    <tr>\n",
              "      <td>12</td>\n",
              "      <td>0.704880</td>\n",
              "      <td>1.786035</td>\n",
              "      <td>0.596029</td>\n",
              "      <td>00:00</td>\n",
              "    </tr>\n",
              "    <tr>\n",
              "      <td>13</td>\n",
              "      <td>0.685190</td>\n",
              "      <td>1.803906</td>\n",
              "      <td>0.586019</td>\n",
              "      <td>00:00</td>\n",
              "    </tr>\n",
              "    <tr>\n",
              "      <td>14</td>\n",
              "      <td>0.672853</td>\n",
              "      <td>1.769657</td>\n",
              "      <td>0.603109</td>\n",
              "      <td>00:00</td>\n",
              "    </tr>\n",
              "  </tbody>\n",
              "</table>"
            ],
            "text/plain": [
              "<IPython.core.display.HTML object>"
            ]
          },
          "metadata": {
            "tags": []
          }
        }
      ]
    },
    {
      "cell_type": "markdown",
      "metadata": {
        "id": "b7MKbAKK7nsL"
      },
      "source": [
        "**MULTI LAYER RECURRENT NEURAL NETWORK:**"
      ]
    },
    {
      "cell_type": "code",
      "metadata": {
        "colab": {
          "base_uri": "https://localhost:8080/",
          "height": 514
        },
        "id": "R7lvrylq5QuN",
        "outputId": "9bce9f94-e4fe-4a22-c9e8-ae2c32da65a7"
      },
      "source": [
        "#@ LANGUAGE MODEL: MULTI LAYER RECURRENT NEURAL NETWORK:\n",
        "class LMModel5(Module):                                                 # Defining Language Model Class.\n",
        "    def __init__(self, vocab_sz, n_hidden, n_layers):                   # Initializing Constructor Function. \n",
        "        self.i_h = nn.Embedding(vocab_sz, n_hidden)                     # Initializing Embedding Layer. \n",
        "        self.rnn = nn.RNN(n_hidden,n_hidden,n_layers,batch_first=True)  # Initializing RNN.\n",
        "        self.h_o = nn.Linear(n_hidden, vocab_sz)                        # Initializing Linear Layer. \n",
        "        self.h = torch.zeros(n_layers, bs, n_hidden)                    # Initializing Hidden State. \n",
        "\n",
        "    def forward(self, x):                                               # Forward Propagation Function. \n",
        "        res, h = self.rnn(self.i_h(x), self.h)                          # Implementation of RNN. \n",
        "        self.h = h.detach()                                             # Removing all the Gradients History.\n",
        "        return self.h_o(res)\n",
        "    \n",
        "    def reset(self): self.h.zero_()                                     # Defining Reset Function. \n",
        "\n",
        "#@ TRAINING THE LANGUAGE MODEL: \n",
        "learn = Learner(dls, LMModel5(len(vocab), 64, 2),                       # Initializing Learner with Multilayer RNN. \n",
        "                loss_func=CrossEntropyLossFlat(),                       # Initializing Cross Entropy Loss Function. \n",
        "                metrics=accuracy, cbs=ModelResetter)                    # Initializing Metrics and Callbacks. \n",
        "learn.fit_one_cycle(15, 3e-3)                                           # Training the Learner.  "
      ],
      "execution_count": 28,
      "outputs": [
        {
          "output_type": "display_data",
          "data": {
            "text/html": [
              "<table border=\"1\" class=\"dataframe\">\n",
              "  <thead>\n",
              "    <tr style=\"text-align: left;\">\n",
              "      <th>epoch</th>\n",
              "      <th>train_loss</th>\n",
              "      <th>valid_loss</th>\n",
              "      <th>accuracy</th>\n",
              "      <th>time</th>\n",
              "    </tr>\n",
              "  </thead>\n",
              "  <tbody>\n",
              "    <tr>\n",
              "      <td>0</td>\n",
              "      <td>3.041790</td>\n",
              "      <td>2.548715</td>\n",
              "      <td>0.455811</td>\n",
              "      <td>00:00</td>\n",
              "    </tr>\n",
              "    <tr>\n",
              "      <td>1</td>\n",
              "      <td>2.128514</td>\n",
              "      <td>1.708763</td>\n",
              "      <td>0.471029</td>\n",
              "      <td>00:00</td>\n",
              "    </tr>\n",
              "    <tr>\n",
              "      <td>2</td>\n",
              "      <td>1.699163</td>\n",
              "      <td>1.866050</td>\n",
              "      <td>0.340576</td>\n",
              "      <td>00:00</td>\n",
              "    </tr>\n",
              "    <tr>\n",
              "      <td>3</td>\n",
              "      <td>1.499681</td>\n",
              "      <td>1.738478</td>\n",
              "      <td>0.471517</td>\n",
              "      <td>00:00</td>\n",
              "    </tr>\n",
              "    <tr>\n",
              "      <td>4</td>\n",
              "      <td>1.339090</td>\n",
              "      <td>1.729538</td>\n",
              "      <td>0.494792</td>\n",
              "      <td>00:00</td>\n",
              "    </tr>\n",
              "    <tr>\n",
              "      <td>5</td>\n",
              "      <td>1.206317</td>\n",
              "      <td>1.835860</td>\n",
              "      <td>0.502848</td>\n",
              "      <td>00:00</td>\n",
              "    </tr>\n",
              "    <tr>\n",
              "      <td>6</td>\n",
              "      <td>1.088240</td>\n",
              "      <td>1.845545</td>\n",
              "      <td>0.520101</td>\n",
              "      <td>00:00</td>\n",
              "    </tr>\n",
              "    <tr>\n",
              "      <td>7</td>\n",
              "      <td>0.982787</td>\n",
              "      <td>1.856240</td>\n",
              "      <td>0.522624</td>\n",
              "      <td>00:00</td>\n",
              "    </tr>\n",
              "    <tr>\n",
              "      <td>8</td>\n",
              "      <td>0.890790</td>\n",
              "      <td>1.940332</td>\n",
              "      <td>0.525716</td>\n",
              "      <td>00:00</td>\n",
              "    </tr>\n",
              "    <tr>\n",
              "      <td>9</td>\n",
              "      <td>0.809585</td>\n",
              "      <td>2.028807</td>\n",
              "      <td>0.529785</td>\n",
              "      <td>00:00</td>\n",
              "    </tr>\n",
              "    <tr>\n",
              "      <td>10</td>\n",
              "      <td>0.743083</td>\n",
              "      <td>2.074596</td>\n",
              "      <td>0.535075</td>\n",
              "      <td>00:00</td>\n",
              "    </tr>\n",
              "    <tr>\n",
              "      <td>11</td>\n",
              "      <td>0.694126</td>\n",
              "      <td>2.153402</td>\n",
              "      <td>0.540039</td>\n",
              "      <td>00:00</td>\n",
              "    </tr>\n",
              "    <tr>\n",
              "      <td>12</td>\n",
              "      <td>0.660759</td>\n",
              "      <td>2.137599</td>\n",
              "      <td>0.547689</td>\n",
              "      <td>00:00</td>\n",
              "    </tr>\n",
              "    <tr>\n",
              "      <td>13</td>\n",
              "      <td>0.640678</td>\n",
              "      <td>2.169338</td>\n",
              "      <td>0.547363</td>\n",
              "      <td>00:00</td>\n",
              "    </tr>\n",
              "    <tr>\n",
              "      <td>14</td>\n",
              "      <td>0.630331</td>\n",
              "      <td>2.168188</td>\n",
              "      <td>0.548828</td>\n",
              "      <td>00:00</td>\n",
              "    </tr>\n",
              "  </tbody>\n",
              "</table>"
            ],
            "text/plain": [
              "<IPython.core.display.HTML object>"
            ]
          },
          "metadata": {
            "tags": []
          }
        }
      ]
    },
    {
      "cell_type": "markdown",
      "metadata": {
        "id": "P5mUU1hSDSzz"
      },
      "source": [
        "**Note:**\n",
        "- The single layer **Recurrent Neural Network** performed better than **Multilayer Recurrent Neural Network** because a deeper model leads to exploding and vanishing activations. "
      ]
    },
    {
      "cell_type": "markdown",
      "metadata": {
        "id": "LklUWTLHCbwP"
      },
      "source": [
        "### **LONG SHORT TERM MEMORY:**"
      ]
    },
    {
      "cell_type": "markdown",
      "metadata": {
        "id": "l3QHLzuvCV6K"
      },
      "source": [
        "![LSTM.png](data:image/png;base64,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)"
      ]
    },
    {
      "cell_type": "markdown",
      "metadata": {
        "id": "oICxY4NzDM6y"
      },
      "source": [
        "- The green circles are elementwise operations and the four orange boxes represent four neural network layers which are also called gates with the activations. The first gate from left is called the **forget gate**. The second gate is called the **input gate** and the third gate is sometimes called the **cell gate**. The last gate is the **output gate**. **Tanh** is just a **Sigmoid** function rescaled to the range of -1 and 1. "
      ]
    },
    {
      "cell_type": "code",
      "metadata": {
        "id": "IoCGoerXyv1b"
      },
      "source": [
        "#@ BUILDING AN LSTM FROM SCRATCH: DETAILED IMPLEMENTATION:\n",
        "class LSTMCell(Module):                                     # Defining LSTM Class. \n",
        "    def __init__(self, ni, nh):                             # Initializing Constructor Function. \n",
        "        self.forget_gate = nn.Linear(ni + nh, nh)           # Initializing Forget Gate.\n",
        "        self.input_gate = nn.Linear(ni + nh, nh)            # Initializing Input Gate. \n",
        "        self.cell_gate = nn.Linear(ni + nh, nh)             # Initializing Cell Gate. \n",
        "        self.output_gate = nn.Linear(ni + nh, nh)           # Initializing Output Gate. \n",
        "    \n",
        "    def forward(self, input, state):                        # Forward Propagation Function. \n",
        "        h, c = state                                        # Initializing Previous Hidden State and Cell State. \n",
        "        h = torch.cat([h, input], dim=1)                    # Initializing Concatenation. \n",
        "        forget = torch.sigmoid(self.forget_gate(h))         # Implementation of Forget Gate. \n",
        "        c = c * forget                                      # Initializing Elementwise Multiplication. \n",
        "        inp = torch.sigmoid(self.input_gate(h))             # Implementation of Input Gate. \n",
        "        cell = torch.tanh(self.cell_state(h))               # Implementation of Cell Gate. \n",
        "        c = c + inp * cell                                  # Initializing Elementwise Multiplication. \n",
        "        out = torch.sigmoid(self.output_gate(h))            # Implementation of Output Gate. \n",
        "        h = out * torch.tanh(c)                             # Getting Hidden State. \n",
        "        return h, (h, c)"
      ],
      "execution_count": 29,
      "outputs": []
    },
    {
      "cell_type": "code",
      "metadata": {
        "id": "KuDm9gFtLN0-"
      },
      "source": [
        "#@ BUILDING AN LSTM FROM SCRATCH: OPTIMIZED IMPLEMENTATION:\n",
        "class LSTMCell(Module):                                     # Defining LSTM Class.\n",
        "    def __init__(self, ni, nh):                             # Initializing Constructor Function. \n",
        "        self.ih = nn.Linear(ni, 4*nh)                       # Initializing Linear Layer. \n",
        "        self.hh = nn.Linear(nh, 4*nh)                       # Initializing Linear Layer. \n",
        "    \n",
        "    def forward(self, input, state):                        # Forward Propagation Function.\n",
        "        h, c = state                                        # Initializing Previous Hidden State and Cell State.\n",
        "        gates = (self.ih(input) + self.hh(h)).chunk(4, 1)   # Initializing Gates and Splitting Tensors. \n",
        "        ingate, forgetgate, outgate = map(torch.sigmoid, \n",
        "                                          gates[:3])        # Initializing Gates. \n",
        "        cellgate = gates[3].tanh()                          # Implementation of Cell Gate. \n",
        "        c = (forgetgate*c) + (ingate*cellgate)              # Initializing Cell State. \n",
        "        h = outgate * c.tanh()                              # Initializing Hidden State. \n",
        "        return h, (h, c)"
      ],
      "execution_count": 30,
      "outputs": []
    },
    {
      "cell_type": "code",
      "metadata": {
        "id": "5b9Fdz4kOmv3"
      },
      "source": [
        ""
      ],
      "execution_count": null,
      "outputs": []
    }
  ]
}