{
  "nbformat": 4,
  "nbformat_minor": 0,
  "metadata": {
    "colab": {
      "name": "NLP.ipynb",
      "provenance": []
    },
    "kernelspec": {
      "name": "python3",
      "display_name": "Python 3"
    },
    "language_info": {
      "name": "python"
    },
    "accelerator": "GPU"
  },
  "cells": [
    {
      "cell_type": "markdown",
      "metadata": {
        "id": "jk5SHfqIc6Ey"
      },
      "source": [
        "**INITIALIZATION:**\n",
        "- I use these three lines of code on top of my each notebooks because it will help to prevent any problems while reloading the same project. And the third line of code helps to make visualization within the notebook."
      ]
    },
    {
      "cell_type": "code",
      "metadata": {
        "id": "z9K2einKadKr"
      },
      "source": [
        "#@ INITIALIZATION: \n",
        "%reload_ext autoreload\n",
        "%autoreload 2\n",
        "%matplotlib inline"
      ],
      "execution_count": 1,
      "outputs": []
    },
    {
      "cell_type": "markdown",
      "metadata": {
        "id": "RTFZaPENdHTs"
      },
      "source": [
        "**LIBRARIES AND DEPENDENCIES:**\n",
        "- I have downloaded all the libraries and dependencies required for the project in one particular cell."
      ]
    },
    {
      "cell_type": "code",
      "metadata": {
        "id": "GZDkvIrydDtY"
      },
      "source": [
        "#@ INSTALLING DEPENDENCIES: UNCOMMENT BELOW: \n",
        "# !pip install -Uqq fastbook\n",
        "# import fastbook\n",
        "# fastbook.setup_book()"
      ],
      "execution_count": 3,
      "outputs": []
    },
    {
      "cell_type": "code",
      "metadata": {
        "id": "qTIdUUtEdOah"
      },
      "source": [
        "#@ DOWNLOADING LIBRARIES AND DEPENDENCIES: \n",
        "from fastbook import *                              # Getting all the Libraries. \n",
        "from fastai.callback.fp16 import *\n",
        "from fastai.text.all import *                       # Getting all the Libraries.\n",
        "from IPython.display import display, HTML"
      ],
      "execution_count": 4,
      "outputs": []
    },
    {
      "cell_type": "markdown",
      "metadata": {
        "id": "PAY-kcjCd-Tz"
      },
      "source": [
        "**GETTING THE DATASET:**\n",
        "- I will get the **IMDB Dataset** here. "
      ]
    },
    {
      "cell_type": "code",
      "metadata": {
        "colab": {
          "base_uri": "https://localhost:8080/",
          "height": 54
        },
        "id": "iv-s-9D1dsia",
        "outputId": "ddb7ac98-8a28-4496-99b2-97d05f707d32"
      },
      "source": [
        "#@ GETTING THE DATASET: \n",
        "path = untar_data(URLs.IMDB)                       # Getting Path to the Dataset. \n",
        "path.ls()                                          # Inspecting the Path. "
      ],
      "execution_count": 5,
      "outputs": [
        {
          "output_type": "display_data",
          "data": {
            "text/html": [
              ""
            ],
            "text/plain": [
              "<IPython.core.display.HTML object>"
            ]
          },
          "metadata": {
            "tags": []
          }
        },
        {
          "output_type": "execute_result",
          "data": {
            "text/plain": [
              "(#7) [Path('/root/.fastai/data/imdb/tmp_lm'),Path('/root/.fastai/data/imdb/imdb.vocab'),Path('/root/.fastai/data/imdb/tmp_clas'),Path('/root/.fastai/data/imdb/train'),Path('/root/.fastai/data/imdb/test'),Path('/root/.fastai/data/imdb/README'),Path('/root/.fastai/data/imdb/unsup')]"
            ]
          },
          "metadata": {
            "tags": []
          },
          "execution_count": 5
        }
      ]
    },
    {
      "cell_type": "code",
      "metadata": {
        "colab": {
          "base_uri": "https://localhost:8080/",
          "height": 35
        },
        "id": "dBavrB_6e_Of",
        "outputId": "acf759d7-3d69-403a-f4af-1561333f4bd4"
      },
      "source": [
        "#@ GETTING TEXT FILES: \n",
        "files = get_text_files(path, folders=[\"train\", \"test\", \"unsup\"])        # Getting Text Files. \n",
        "txt = files[0].open().read()                                            # Getting a Text. \n",
        "txt[:75]                                                                # Inspecting Text. "
      ],
      "execution_count": 6,
      "outputs": [
        {
          "output_type": "execute_result",
          "data": {
            "application/vnd.google.colaboratory.intrinsic+json": {
              "type": "string"
            },
            "text/plain": [
              "'A shame that even a talented director, Desplechin, could not muster a decen'"
            ]
          },
          "metadata": {
            "tags": []
          },
          "execution_count": 6
        }
      ]
    },
    {
      "cell_type": "markdown",
      "metadata": {
        "id": "kG832kuRgXeo"
      },
      "source": [
        "**WORD TOKENIZATION:**\n",
        "- **Token** is a element of a list created by the **Tokenization** process which could be a word, a part of a word or subword or a single character. "
      ]
    },
    {
      "cell_type": "code",
      "metadata": {
        "colab": {
          "base_uri": "https://localhost:8080/"
        },
        "id": "yx1lsBcYgQ9K",
        "outputId": "cf638f7b-7f00-4bea-de6a-369d49a6ea9d"
      },
      "source": [
        "#@ INITIALIZING WORD TOKENIZATION: \n",
        "spacy = WordTokenizer()                                  # Initializing Tokenizer. \n",
        "toks = first(spacy([txt]))                               # Getting Tokens of Words. \n",
        "print(coll_repr(toks, 30))                               # Inspecting Tokens. "
      ],
      "execution_count": 8,
      "outputs": [
        {
          "output_type": "stream",
          "text": [
            "(#151) ['A','shame','that','even','a','talented','director',',','Desplechin',',','could','not','muster','a','decent','performance','out','of','a','bleakly','-','talented','actress',',','Phoenix',',','Esther','Kahn','lacks','the'...]\n"
          ],
          "name": "stdout"
        }
      ]
    },
    {
      "cell_type": "code",
      "metadata": {
        "colab": {
          "base_uri": "https://localhost:8080/"
        },
        "id": "ti9Hi_uriKxe",
        "outputId": "5892683d-9663-4e1f-9252-529b161ca7e6"
      },
      "source": [
        "#@ INSPECTING TOKENIZATION: EXAMPLE:\n",
        "first(spacy(['The U.S. dollar $1 is $1.00.']))           # Inspecting Tokens. "
      ],
      "execution_count": 12,
      "outputs": [
        {
          "output_type": "execute_result",
          "data": {
            "text/plain": [
              "(#9) ['The','U.S.','dollar','$','1','is','$','1.00','.']"
            ]
          },
          "metadata": {
            "tags": []
          },
          "execution_count": 12
        }
      ]
    },
    {
      "cell_type": "code",
      "metadata": {
        "colab": {
          "base_uri": "https://localhost:8080/"
        },
        "id": "liWRboFJi84p",
        "outputId": "459ba0c1-015b-4df4-b1b0-248436e103d2"
      },
      "source": [
        "#@ INITIALIZING WORD TOKENIZATION WITH FASTAI: \n",
        "tkn = Tokenizer(spacy)                                   # Initializing Tokenizer. \n",
        "print(coll_repr(tkn(txt), 31))                           # Inspecting Tokens. "
      ],
      "execution_count": 13,
      "outputs": [
        {
          "output_type": "stream",
          "text": [
            "(#166) ['xxbos','a','shame','that','even','a','talented','director',',','xxmaj','desplechin',',','could','not','muster','a','decent','performance','out','of','a','bleakly','-','talented','actress',',','xxmaj','phoenix',',','xxmaj','esther'...]\n"
          ],
          "name": "stdout"
        }
      ]
    },
    {
      "cell_type": "code",
      "metadata": {
        "colab": {
          "base_uri": "https://localhost:8080/",
          "height": 35
        },
        "id": "X-GgI67Ajr-K",
        "outputId": "d772e047-620d-426e-9f53-763434b12aec"
      },
      "source": [
        "#@ INSPECTING TOKENIZATION: EXAMPLE:\n",
        "coll_repr(tkn('&copy; Fast.ai www.fast.ai/INDEX'), 30)   # Inspecting Tokens. "
      ],
      "execution_count": 14,
      "outputs": [
        {
          "output_type": "execute_result",
          "data": {
            "application/vnd.google.colaboratory.intrinsic+json": {
              "type": "string"
            },
            "text/plain": [
              "\"(#11) ['xxbos','©','xxmaj','fast.ai','xxrep','3','w','.fast.ai','/','xxup','index']\""
            ]
          },
          "metadata": {
            "tags": []
          },
          "execution_count": 14
        }
      ]
    },
    {
      "cell_type": "code",
      "metadata": {
        "id": "ja96PlovlmaR"
      },
      "source": [
        ""
      ],
      "execution_count": null,
      "outputs": []
    }
  ]
}